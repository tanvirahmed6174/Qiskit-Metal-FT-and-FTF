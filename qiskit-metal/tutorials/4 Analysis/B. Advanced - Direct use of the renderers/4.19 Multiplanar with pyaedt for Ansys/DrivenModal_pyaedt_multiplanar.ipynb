{
 "cells": [
  {
   "attachments": {},
   "cell_type": "markdown",
   "id": "4d793f20-1a6a-4324-a474-a6807e1c63ed",
   "metadata": {},
   "source": [
    "# Use Multiplanr design, for Ansys HFSS Driven Modal simulation using pyaedt renderer\n",
    "\n",
    "**DISCLAIMER:** For now, this might only work with the full version (paid) of Ansys and not the student version. This issue is fixable and requires more testing. Please run the notebook and test it out on student license, if you're interested to make a contribution!"
   ]
  },
  {
   "cell_type": "code",
   "execution_count": null,
   "id": "17e679bd-09ba-455f-bb7e-cf39d3a09549",
   "metadata": {
    "tags": []
   },
   "outputs": [],
   "source": [
    "%load_ext autoreload\n",
    "%autoreload 2"
   ]
  },
  {
   "attachments": {},
   "cell_type": "markdown",
   "id": "53c52824-132e-4710-a48d-46406fa3c191",
   "metadata": {},
   "source": [
    "## Use LayerStack file to identify z-coordinate for layers; also denote the material and fill information.¶\n",
    "## The file format is a csv file."
   ]
  },
  {
   "cell_type": "code",
   "execution_count": null,
   "id": "4ec6affc-1302-4916-8d2b-092556f61006",
   "metadata": {},
   "outputs": [],
   "source": [
    "import sys"
   ]
  },
  {
   "cell_type": "code",
   "execution_count": null,
   "id": "6c05f84b-ca11-42ad-aa96-8206b3f1b1fa",
   "metadata": {
    "tags": []
   },
   "outputs": [],
   "source": [
    "from qiskit_metal.renderers.renderer_ansys_pyaedt.pyaedt_base import QPyaedt\n",
    "from qiskit_metal.designs.design_multiplanar import MultiPlanar\n",
    "from qiskit_metal.renderers.renderer_ansys_pyaedt.q3d_renderer_aedt import QQ3DPyaedt\n",
    "from qiskit_metal.renderers.renderer_ansys_pyaedt.hfss_renderer_drivenmodal_aedt import QHFSSDrivenmodalPyaedt\n",
    "from qiskit_metal.renderers.renderer_ansys_pyaedt.hfss_renderer_eigenmode_aedt import QHFSSEigenmodePyaedt\n",
    "\n",
    "import numpy as np\n",
    "import qiskit_metal as metal\n",
    "from qiskit_metal import designs, draw\n",
    "from qiskit_metal import MetalGUI, Dict, open_docs"
   ]
  },
  {
   "attachments": {},
   "cell_type": "markdown",
   "id": "e6f6cfba-fa5b-4b6b-8767-dfb54f604e88",
   "metadata": {
    "tags": []
   },
   "source": [
    "## Use LayerStack file to identify z-coordinate for layers; also denote the material and fill information.¶\n",
    "## The file format is a csv file."
   ]
  },
  {
   "cell_type": "code",
   "execution_count": null,
   "id": "7c83bc98-bfc6-4079-9b7c-0d61d590f235",
   "metadata": {
    "tags": []
   },
   "outputs": [],
   "source": [
    "# User needs to update next line to their own installation.\n",
    "ls_file_path =  r\"..\\..\\..\\resources\\layer_stack_data_example_1.csv\"\n",
    "\n",
    "multiplanar_design = MultiPlanar(metadata={},\n",
    "                                 overwrite_enabled=True,\n",
    "                                 layer_stack_filename=ls_file_path)"
   ]
  },
  {
   "attachments": {},
   "cell_type": "markdown",
   "id": "fb957cf0-4fc9-4a5a-b95d-901ff6f6255a",
   "metadata": {},
   "source": [
    "\n",
    "## Multi-Planar design has default of chip named main. If there is more than one, add information to multiplanar design."
   ]
  },
  {
   "cell_type": "code",
   "execution_count": null,
   "id": "b1549d1f-3e3d-4620-95bd-29a14a856b06",
   "metadata": {},
   "outputs": [],
   "source": [
    "multiplanar_design._chips.main.size.size_x = '7mm'\n",
    "multiplanar_design._chips.main.size.size_y = '7mm'\n",
    "multiplanar_design._chips['qubit_chip'] = Dict()\n",
    "multiplanar_design._chips.qubit_chip.size = Dict(\n",
    "    center_x='0.0mm',\n",
    "    center_y='0.0mm',\n",
    "    size_x='7mm',\n",
    "    size_y='7mm',\n",
    ")\n",
    "\n",
    "\n",
    "# Over-ride the default values size for chip=='main'.\n",
    "multiplanar_design.chips.main.size['size_x'] = '2mm'\n",
    "multiplanar_design.chips.main.size['size_y'] = '2mm'"
   ]
  },
  {
   "cell_type": "code",
   "execution_count": null,
   "id": "5c2a579d-c9ef-450a-a465-95faaca17f6a",
   "metadata": {},
   "outputs": [],
   "source": [
    "multiplanar_design.chips"
   ]
  },
  {
   "cell_type": "code",
   "execution_count": null,
   "id": "c0db2f86-d8d7-4a3f-b6a9-ce307044427c",
   "metadata": {},
   "outputs": [],
   "source": [
    "#Remember, the layers may not always be unique, since there can be multiple datatypes.\n",
    "ls_unique = multiplanar_design.ls.is_layer_data_unique()"
   ]
  },
  {
   "attachments": {},
   "cell_type": "markdown",
   "id": "bd1d556e-bc9c-44a2-a2b5-bb8073e10da7",
   "metadata": {},
   "source": [
    "# Start the Qiskit Metal GUI by using multi-planar design"
   ]
  },
  {
   "cell_type": "code",
   "execution_count": null,
   "id": "e99d6f99-210a-419d-b360-9641c89ea3da",
   "metadata": {},
   "outputs": [],
   "source": [
    "\"\"\"\n",
    "Note: If you get an error to install a font, then in your terminal command line, install qdarkstyle:\n",
    "pip install qdarkstyle\n",
    "\n",
    "\n",
    "Then re-run this cell.\n",
    "\"\"\"\n",
    "gui = MetalGUI(multiplanar_design)"
   ]
  },
  {
   "attachments": {},
   "cell_type": "markdown",
   "id": "195a5996-d589-4cfc-be91-09a0b1ed3985",
   "metadata": {},
   "source": [
    "# Add all components to design.\n",
    "## Note the layer number and chip names are used when adding components to design."
   ]
  },
  {
   "cell_type": "code",
   "execution_count": null,
   "id": "1aa31cfd-ba75-4265-9e3b-f7bbb8ce4c4a",
   "metadata": {},
   "outputs": [],
   "source": [
    "from qiskit_metal.qlibrary.qubits.transmon_pocket import TransmonPocket\n",
    "from qiskit_metal.qlibrary.terminations.open_to_ground import OpenToGround\n",
    "from qiskit_metal.qlibrary.tlines.meandered import RouteMeander\n",
    "from qiskit_metal.qlibrary.qubits.transmon_concentric import TransmonConcentric\n",
    "\n",
    "from qiskit_metal.qlibrary.couplers.coupled_line_tee import CoupledLineTee\n",
    "from qiskit_metal.qlibrary.tlines.straight_path import RouteStraight\n",
    "\n",
    "# As precaution, remove any components already previously to design.\n",
    "multiplanar_design.delete_all_components()\n",
    "\n",
    "qubit_cpw_otg_layer = 2\n",
    "qubit_chip_name = 'qubit_chip'\n",
    "\n",
    "\n",
    "##############################################################################\n",
    "\n",
    "\n",
    "options = dict(\n",
    "    # Some options we want to modify from the deafults\n",
    "    pad_width='425 um',\n",
    "    pocket_height='650um',\n",
    "    layer=qubit_cpw_otg_layer,\n",
    "    chip=qubit_chip_name,\n",
    "    # Adding 4 connectors (see below for defaults)\n",
    "    connection_pads=dict(a=dict(loc_W=+1, loc_H=+1),\n",
    "                         b=dict(loc_W=-1, loc_H=+1, pad_height='30um'),\n",
    "                         c=dict(loc_W=+1, loc_H=-1, pad_width='200um'),\n",
    "                         d=dict(loc_W=-1, loc_H=-1, pad_height='50um')))\n",
    "\n",
    "## Create 2 transmons\n",
    "\n",
    "q1 = TransmonPocket(multiplanar_design,\n",
    "                    'Q1',\n",
    "                    options=dict(pos_x='+1.4mm',\n",
    "                                 pos_y='0mm',\n",
    "                                 orientation='90',\n",
    "                                 **options))\n",
    "q2 = TransmonPocket(multiplanar_design,\n",
    "                    'Q2',\n",
    "                    options=dict(pos_x='-0.6mm',\n",
    "                                 pos_y='0mm',\n",
    "                                 orientation='90',\n",
    "                                 **options))\n",
    "\n",
    "##############################################################################\n",
    "\n",
    "TQ1 = CoupledLineTee(multiplanar_design,\n",
    "                     'TQ1',\n",
    "                     options=dict(pos_x='1mm',\n",
    "                                  pos_y='3mm',\n",
    "                                  layer=qubit_cpw_otg_layer,\n",
    "                                  chip=qubit_chip_name,\n",
    "                                  coupling_length='200um'))\n",
    "TQ2 = CoupledLineTee(multiplanar_design,\n",
    "                     'TQ2',\n",
    "                     options=dict(pos_x='-1mm',\n",
    "                                  pos_y='3mm',\n",
    "                                  layer=qubit_cpw_otg_layer,\n",
    "                                  chip=qubit_chip_name,\n",
    "                                  coupling_length='200um'))\n",
    "\n",
    "##############################################################################\n",
    "\n",
    "ops = dict(fillet='90um')\n",
    "multiplanar_design.overwrite_enabled = True\n",
    "\n",
    "options1 = Dict(total_length='8mm',\n",
    "                hfss_wire_bonds=True,\n",
    "                layer=qubit_cpw_otg_layer,\n",
    "                chip=qubit_chip_name,\n",
    "                pin_inputs=Dict(start_pin=Dict(component='TQ1',\n",
    "                                               pin='second_end'),\n",
    "                                end_pin=Dict(component='Q1', pin='a')),\n",
    "                lead=Dict(start_straight='0.1mm'),\n",
    "                **ops)\n",
    "\n",
    "options2 = Dict(total_length='9mm',\n",
    "                hfss_wire_bonds=True,\n",
    "                layer=qubit_cpw_otg_layer,\n",
    "                chip=qubit_chip_name,\n",
    "                pin_inputs=Dict(start_pin=Dict(component='TQ2',\n",
    "                                               pin='second_end'),\n",
    "                                end_pin=Dict(component='Q2', pin='a')),\n",
    "                lead=Dict(start_straight='0.1mm'),\n",
    "                **ops)\n",
    "\n",
    "meanderQ1 = RouteMeander(multiplanar_design, 'meanderQ1', options=options1)\n",
    "meanderQ2 = RouteMeander(multiplanar_design, 'meanderQ2', options=options2)\n",
    "\n",
    "##############################################################################\n",
    "\n",
    "otg1 = OpenToGround(multiplanar_design,\n",
    "                    'otg1',\n",
    "                    options=dict(pos_x='3mm',\n",
    "                                 layer=qubit_cpw_otg_layer,\n",
    "                                 chip=qubit_chip_name,\n",
    "                                 pos_y='3mm'))\n",
    "otg2 = OpenToGround(multiplanar_design,\n",
    "                    'otg2',\n",
    "                    options=dict(pos_x='-3mm',\n",
    "                                 pos_y='3mm',\n",
    "                                 layer=qubit_cpw_otg_layer,\n",
    "                                 chip=qubit_chip_name,\n",
    "                                 orientation='180'))\n",
    "\n",
    "##############################################################################\n",
    "\n",
    "ops_oR = Dict(hfss_wire_bonds=True,\n",
    "              layer=qubit_cpw_otg_layer,\n",
    "              chip=qubit_chip_name,\n",
    "              pin_inputs=Dict(start_pin=Dict(component='TQ1', pin='prime_end'),\n",
    "                              end_pin=Dict(component='otg1', pin='open')))\n",
    "ops_mid = Dict(hfss_wire_bonds=True,\n",
    "               layer=qubit_cpw_otg_layer,\n",
    "               chip=qubit_chip_name,\n",
    "               pin_inputs=Dict(start_pin=Dict(component='TQ1',\n",
    "                                              pin='prime_start'),\n",
    "                               end_pin=Dict(component='TQ2', pin='prime_end')))\n",
    "ops_oL = Dict(hfss_wire_bonds=True,\n",
    "              layer=qubit_cpw_otg_layer,\n",
    "              chip=qubit_chip_name,\n",
    "              pin_inputs=Dict(start_pin=Dict(component='TQ2',\n",
    "                                             pin='prime_start'),\n",
    "                              end_pin=Dict(component='otg2', pin='open')))\n",
    "\n",
    "cpw_openRight = RouteStraight(multiplanar_design,\n",
    "                              'cpw_openRight',\n",
    "                              options=ops_oR)\n",
    "cpw_middle = RouteStraight(multiplanar_design, 'cpw_middle', options=ops_mid)\n",
    "cpw_openLeft = RouteStraight(multiplanar_design, 'cpw_openLeft', options=ops_oL)\n",
    "\n",
    "##############################################################################\n",
    "\n",
    "# Place the concentric transmon within design.\n",
    "concentric_options = dict(\n",
    "    #chip='main',\n",
    "    pos_x='400um',\n",
    "    pos_y='900um',\n",
    "    #layer='1',  # default is 1, this is just for example.\n",
    "    pocket_w='1500um',  # transmon pocket width\n",
    "    pocket_h='900um',  # transmon pocket height\n",
    ")\n",
    "\n",
    "# Create a new Concentric Transmon object with name 'Q1'\n",
    "qc1 = TransmonConcentric(multiplanar_design,\n",
    "                         'cc_qubit',\n",
    "                         options=concentric_options)\n",
    "\n",
    "gui.rebuild()\n",
    "gui.autoscale()"
   ]
  },
  {
   "attachments": {},
   "cell_type": "markdown",
   "id": "7c86e086-56be-470f-b379-6d6d6f16df25",
   "metadata": {},
   "source": [
    "# Start the HFSS Driven Modal renderer for Ansys by passing arguments to QHFSSDrivenmodalPyaedt.\n",
    "## The default will use default names for Ansys ProjectName and Ansys DesignName."
   ]
  },
  {
   "cell_type": "code",
   "execution_count": null,
   "id": "b8d0b141-cc65-4cd3-a188-8f603fa4486c",
   "metadata": {},
   "outputs": [],
   "source": [
    "# Ansys will not start here since default for initiate is False.\n",
    "\n",
    "# Example with defaults.\n",
    "#hfss_dm_default = QHFSSDrivenmodalPyaedt(multiplanar_design)\n",
    "\n",
    "hfss_dm = QHFSSDrivenmodalPyaedt(multiplanar_design, 'hfss_dm_project_1',\n",
    "                                 'hfss_dm_design_1')\n",
    "\n",
    "# # Ansys will start here.\n",
    "# hfss_dm_2 = QHFSSDrivenmodalPyaedt(multiplanar_design,\n",
    "#                                    'hfss_dm_project_2',\n",
    "#                                    'hfss_dm_design_2',\n",
    "#                                    initiate=True)"
   ]
  },
  {
   "attachments": {},
   "cell_type": "markdown",
   "id": "c5c1bc10-7b06-4af6-bdd9-d5d1c0c57c33",
   "metadata": {},
   "source": [
    "## Vacuum Box size given to renderer."
   ]
  },
  {
   "cell_type": "code",
   "execution_count": null,
   "id": "e0591c6f-d090-4b91-a6ac-0b90d629da8d",
   "metadata": {},
   "outputs": [],
   "source": [
    "# Sample Holder options will determine the z values of vacuum box. \n",
    "hfss_dm.options[\"sample_holder_top\"] = '1.0mm'\n",
    "hfss_dm.options[\"sample_holder_bottom\"] = '-1.0mm'\n",
    "\n",
    "# Note, the xy size of vacuum box is determined by box_plus_buffer.  \n",
    "# If False, the chip size will be used.\n",
    "# If True, a buffer will be added to the box which contains the rendered components."
   ]
  },
  {
   "attachments": {},
   "cell_type": "markdown",
   "id": "a948a838-3997-4f83-a2ac-9174b950f777",
   "metadata": {},
   "source": [
    "## Examine arguments to pass for Ansys-setup for driven modal."
   ]
  },
  {
   "cell_type": "code",
   "execution_count": null,
   "id": "498d4180-1e4e-4dfe-a9d5-8bf9df3854f0",
   "metadata": {},
   "outputs": [],
   "source": [
    "\"\"\"Create a solution setup in Ansys HFSS Driven-Modal solution type. If user does not provide\n",
    "    arguments, they will be obtained from QHFSSDrivenmodalPyaedt.default_setup dict.\n",
    "\n",
    "    Args:\n",
    "        name (str, optional): _description_. Defaults to None.\n",
    "        SolveType (str, optional): Solution frequency type. Accepted values are in self.__supported_SolveType__.\n",
    "                                Defaults to self.default_setup.\n",
    "        Frequency (float, optional):  Minimum frequency in GHz. Defaults to self.default_setup.\n",
    "        MaxDeltaE (float, optional):  This is correlated to MaxDeltaS. The definition\n",
    "                                of MaxDeltaS is, absolute value of maximum difference in\n",
    "                                scattering parameter S. Defaults to self.default_setup.\n",
    "        MaximumPasses (int, optional):  Maximum number of passes. Defaults to self.default_setup.\n",
    "        MinimumPasses (int, optional): Minimum number of passes.Defaults to self.default_setup.\n",
    "        MinimumConvergedPasses (int, optional): Minimum number of converged passes. Defaults to self.default_setup.\n",
    "        PercentRefinement (int, optional): Percent refinement. Defaults to self.default_setup.\n",
    "        BasisOrder (int, optional): Basis order. Defaults to self.default_setup.\n",
    "        MultipleAdaptiveFreqsSetup (dict, optional): Frequencies and their associated MaxDeltaS.\n",
    "                                Defaults to self.default_setup.\n",
    "        BroadbandLowFreq (float, optional): Minimum frequency for Broadband SolveType in GHz. \n",
    "                                Defaults to self.default_setup.\n",
    "        BroadbandHighFreq (float, optional): Maximum frequency for Broadband SolveType in GHz. \n",
    "                                Defaults to self.default_setup.\n",
    "\n",
    "    Returns:\n",
    "        new_setup (pyaedt.modules.SolveSetup.SetupHFSS): pyAEDT simulation setup object.\n",
    "\"\"\"\n",
    "\n",
    "hfss_dm.default_setup"
   ]
  },
  {
   "attachments": {},
   "cell_type": "markdown",
   "id": "ff9a5658-0669-4f33-a07d-9b069de72821",
   "metadata": {},
   "source": [
    "## Add solution setup to Ansys Driven Modal."
   ]
  },
  {
   "cell_type": "code",
   "execution_count": null,
   "id": "3d6212d8-fcc1-4ed2-9a3b-aa35037a6f97",
   "metadata": {},
   "outputs": [],
   "source": [
    "# Ansys should add project and design for hfss_dm.\n",
    "hfss_dm.add_hfss_dm_setup()\n",
    "\n",
    "# Reduce MaxPass when running notebook as an example.\n",
    "hfss_dm.add_hfss_dm_setup(name='fun_dm_1', MaximumPasses=3)\n",
    "\n",
    "\n",
    "#### We have access to other solution frequency types as well\n",
    "#### Normally it defaults to `SolveType=Single` (single frequency).\n",
    "\n",
    "## 1. Multiple Frequencies\n",
    "# multiple_freqs = OrderedDict([('4GHz', [0.01]),\n",
    "#                               ('6GHz', [0.001]),\n",
    "#                               ('11GHz', [0.0001])]) \n",
    "# hfss_dm.add_hfss_dm_setup(\n",
    "#     name=None,\n",
    "#     SolveType='MultiFrequency'\n",
    "#     MultipleAdaptiveFreqsSetup=multiple_freqs)\n",
    "\n",
    "## 2. Broadband\n",
    "# hfss_dm.add_hfss_dm_setup(\n",
    "#     name=None,\n",
    "#     SolveType='Broadband',\n",
    "#     BroadbandLowFreq=\"4\",  # GHz\n",
    "#     BroadbandHighFreq=\"11\"  # GHz\n",
    "# )"
   ]
  },
  {
   "attachments": {},
   "cell_type": "markdown",
   "id": "497ce2f5-bb21-4097-8707-48cf91346eca",
   "metadata": {},
   "source": [
    "## Since user can edit the GUI, it is \"better\" to clean the user's project and design denoted when starting the renderer."
   ]
  },
  {
   "cell_type": "code",
   "execution_count": null,
   "id": "05031079-0742-4279-9b47-58814860a2f0",
   "metadata": {},
   "outputs": [],
   "source": [
    "hfss_dm.clean_user_design()"
   ]
  },
  {
   "attachments": {},
   "cell_type": "markdown",
   "id": "b91a2fb8-a92f-4daf-ab4a-c6b8504f74f8",
   "metadata": {},
   "source": [
    "# Render the multi-planar design using the similar convention as planar-design to identify ports."
   ]
  },
  {
   "cell_type": "code",
   "execution_count": null,
   "id": "c94a2654-d252-489e-a2a4-2ee2ac4dc3ca",
   "metadata": {},
   "outputs": [],
   "source": [
    "hfss_dm.render_design(selection=[\n",
    "    'TQ1', 'TQ2', 'cpw_openRight', 'cpw_openLeft', 'cpw_middle', 'Q1', 'Q2'\n",
    "],\n",
    "                      open_pins=[],\n",
    "                      port_list=[('cpw_openRight', 'end', 50),\n",
    "                                 ('cpw_openLeft', 'end', 50)],\n",
    "                      jj_to_port=[('Q2', 'rect_jj', 51)],\n",
    "                      ignored_jjs=[('Q1', 'rect_jj')],\n",
    "                      box_plus_buffer=True)"
   ]
  },
  {
   "attachments": {},
   "cell_type": "markdown",
   "id": "790ad6da-b9f2-44eb-923b-9a1bf9445ec0",
   "metadata": {
    "tags": []
   },
   "source": [
    "## Examine arguments to pass for Ansys-sweep for driven modal.\n",
    "\n",
    "```\n",
    "Add a frequency sweep to a driven modal setup.\n",
    "\n",
    "Args:\n",
    "    setup_name (str, optional): Name of driven modal simulation setup.\n",
    "                            Defaults to \"QHFSSDrivenmodalPyaedt_setup\".\n",
    "    unit(str, optional): The units of start and stop.\n",
    "    start_ghz (float, optional): Starting frequency of sweep in GHz.\n",
    "                            Defaults to 2.0.\n",
    "    stop_ghz (float, optional): Ending frequency of sweep in GHz.\n",
    "                            Defaults to 8.0.\n",
    "    count (int, optional): Total number of frequencies.\n",
    "                            Defaults to 101.\n",
    "    step_ghz (float, optional): Difference between adjacent\n",
    "                            frequencies. Defaults to None.\n",
    "    name (str, optional): Name of sweep. Defaults to \"QHFSSDrivenmodalPyaedt_sweep\".\n",
    "    type (str, optional): Type of sweep.  Options are \"Fast\", \"Interpolating\",\n",
    "                        and \"Discrete\". Defaults to \"Fast\".\n",
    "    save_fields (bool, optional): Whether or not to save fields.\n",
    "                        Defaults to False.\n",
    "    interpolation_tol (float, optional): Error tolerance threshold \n",
    "                                for the interpolation type sweep. Defaults to 0.5.\n",
    "    interpolation_max_solutions (int, optional): Maximum number of solutions\n",
    "                                evaluted for the interpolation process. \n",
    "                                Defaults to 250.\n",
    "```"
   ]
  },
  {
   "cell_type": "code",
   "execution_count": null,
   "id": "d1789fcf-6ece-47fe-8f17-39fe3fab1ec1",
   "metadata": {},
   "outputs": [],
   "source": [
    "# Add sweep for specific setup and give new name for sweep.\n",
    "\n",
    "hfss_dm.add_sweep(setup_name='fun_dm_1',\n",
    "                  name='fun_dm_1_sweep',\n",
    "                  start_ghz=4.0,\n",
    "                  stop_ghz=8.0,\n",
    "                  count=2001,\n",
    "                  type=\"Interpolating\",\n",
    "                  interpolation_tol=0.1,\n",
    "                  interpolation_max_solutions=500)\n"
   ]
  },
  {
   "attachments": {},
   "cell_type": "markdown",
   "id": "f9d94ac1-7aa8-4478-b375-e2b12bf1ae10",
   "metadata": {},
   "source": [
    "# Select the name to analyze. Presently, we have two to choose from. \n",
    "## They are default=='QHFSSDrivenmodalPyaedt_setup' and 'fun_dm_1'."
   ]
  },
  {
   "cell_type": "code",
   "execution_count": null,
   "id": "59789cef-1925-4914-9175-c301b1fb8ffd",
   "metadata": {},
   "outputs": [],
   "source": [
    "# This has some error checking before using pyaedt's analyze_setup.\n",
    "result_bool = hfss_dm.analyze_setup(setup_name='fun_dm_1',\n",
    "                                    sweep_name='fun_dm_1_sweep')"
   ]
  },
  {
   "attachments": {},
   "cell_type": "markdown",
   "id": "b249bfbd-4986-4f7d-9eb2-480a5f50f497",
   "metadata": {},
   "source": [
    "# Get the solution data!\n",
    "\n",
    "## Can get scatter data, impedance, and admittance in format of mag/phase or real/imag. "
   ]
  },
  {
   "attachments": {},
   "cell_type": "markdown",
   "id": "832d5a23-66df-4577-a733-bd84184be7f9",
   "metadata": {},
   "source": [
    " ```\n",
    "Get the solution data based on expressions.  Return output based on output_type.\n",
    "\n",
    "Args:\n",
    "    sweep_name (str): Name of sweep entry within setup.\n",
    "    expressions (str, optional): This expression is either passed to get_solution_data\n",
    "                                OR either S, Y or Z with port information will be\n",
    "                                gathered by renderer. The renderer will get the\n",
    "                                port names used with render_design() to create expressions.\n",
    "                                So, the user MUST execute render_design() prior to\n",
    "                                getting solution data.\n",
    "\n",
    "                                Defaults to 'S'. S for scattering, Y for admittance, Z for\n",
    "                                impedance.\n",
    "    output_type (int, optional): 1 to return mag/phase,\n",
    "                                2 to return real/imag,\n",
    "                                3 to return mag/phase and real/imag.\n",
    "                                Defaults to 1.\n",
    "\n",
    "Returns:\n",
    "    dict: Key is either mag, phase, real or imag based on output_type.\n",
    "        The value is data from get_solution_data.\n",
    "```"
   ]
  },
  {
   "cell_type": "code",
   "execution_count": null,
   "id": "38f23d3d-8426-48f2-944c-2e637ed2ff69",
   "metadata": {},
   "outputs": [],
   "source": [
    "result_dict_default = hfss_dm.get_ansys_solution_data(\n",
    "    sweep_name='fun_dm_1_sweep')\n",
    "\n",
    "# To make more viewable, print some lines.\n",
    "print()\n",
    "print()\n",
    "result_dict_default.keys()"
   ]
  },
  {
   "cell_type": "code",
   "execution_count": null,
   "id": "19da00ae-3b0c-4a96-bf35-2a1994c4c05f",
   "metadata": {},
   "outputs": [],
   "source": [
    "result_dict_s = hfss_dm.get_ansys_solution_data(sweep_name='fun_dm_1_sweep',\n",
    "                                                expressions='S',\n",
    "                                                output_type=3)\n",
    "# To make more viewable, print some lines.\n",
    "print()\n",
    "print()\n",
    "result_dict_s.keys()"
   ]
  },
  {
   "attachments": {},
   "cell_type": "markdown",
   "id": "48b23ac5-1e17-4324-ae24-91cd631cbc2c",
   "metadata": {},
   "source": [
    "## Remove the hash mark to retrieve the type of data you want to retrieve from Scatter Solution Data. "
   ]
  },
  {
   "cell_type": "code",
   "execution_count": null,
   "id": "0d70f4bc-e490-4501-bafb-dd582a027e98",
   "metadata": {},
   "outputs": [],
   "source": [
    "# Remove comment to view all frequencies. \n",
    "#result_dict_s\n",
    "\n",
    "# Remove comment to view pandas dataframe for magnitude for all frequencies for scatter solution data. \n",
    "#result_dict_s['mag']\n",
    "\n",
    "# Remove comment to view pandas dataframe for real data for all frequencies for scatter solution data.\n",
    "#result_dict_s['real']"
   ]
  },
  {
   "cell_type": "code",
   "execution_count": null,
   "id": "cb728f14-81d2-43a0-916f-6c434f825626",
   "metadata": {},
   "outputs": [],
   "source": [
    "# Example of getting impedance data.\n",
    "result_dict_z = hfss_dm.get_ansys_solution_data(sweep_name='fun_dm_1_sweep',\n",
    "                                                expressions='Z',\n",
    "                                                output_type=3)\n",
    "result_dict_s['mag']"
   ]
  },
  {
   "cell_type": "code",
   "execution_count": null,
   "id": "fefe90d0-645a-4bf5-be69-b45bd050f8f3",
   "metadata": {},
   "outputs": [],
   "source": [
    "# Will disconnect Metal from Ansys, and leave Ansys open.\n",
    "# If the python script closes, the OS will most likely close Ansys.\n",
    "# hfss_dm.close()\n",
    "\n",
    "\n",
    "# Will close Ansys.\n",
    "#hfss_dm.force_exit_ansys()"
   ]
  },
  {
   "cell_type": "code",
   "execution_count": null,
   "id": "03b84404-464a-4ba0-8cae-dd4816de0171",
   "metadata": {},
   "outputs": [],
   "source": []
  }
 ],
 "metadata": {
  "kernelspec": {
   "display_name": "Python 3 (ipykernel)",
   "language": "python",
   "name": "python3"
  },
  "language_info": {
   "codemirror_mode": {
    "name": "ipython",
    "version": 3
   },
   "file_extension": ".py",
   "mimetype": "text/x-python",
   "name": "python",
   "nbconvert_exporter": "python",
   "pygments_lexer": "ipython3",
   "version": "3.9.12"
  }
 },
 "nbformat": 4,
 "nbformat_minor": 5
}

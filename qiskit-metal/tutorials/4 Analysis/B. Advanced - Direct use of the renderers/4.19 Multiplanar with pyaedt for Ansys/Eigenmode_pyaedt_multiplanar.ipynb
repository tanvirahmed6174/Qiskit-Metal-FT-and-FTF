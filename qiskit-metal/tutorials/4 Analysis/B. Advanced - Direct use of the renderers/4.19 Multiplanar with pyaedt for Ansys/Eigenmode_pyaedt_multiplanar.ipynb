{
 "cells": [
  {
   "cell_type": "code",
   "execution_count": null,
   "metadata": {},
   "outputs": [],
   "source": [
    "%load_ext autoreload\n",
    "%autoreload 2"
   ]
  },
  {
   "attachments": {},
   "cell_type": "markdown",
   "metadata": {},
   "source": [
    "# Running Eigenmode Simulations & EPR Analysis with `QHFSSEigenmodePyaedt`\n",
    "\n",
    "This notebook is a tutorial on how to use `QHFSSEigenmodePyaedt` class.\n",
    "\n",
    "First, what is an eigenmode solver? \"The eigenmode solver is used to calculate the frequencies and the corresponding electromagnetic field patterns (eigenmodes), when no excitation is applied.\" From [MIT - Eigenmode Solver Overview](https://space.mit.edu/RADIO/CST_online/mergedProjects/3D/special_overview/special_overview_eigenmodesolverover.htm).\n",
    "\n",
    "This all fine, but our circuit contains quantum effects and ANSYS use a purely classical electromagnetic solver. How can we predict qubit anharmonicity and dispersive shift? Well, we can use [Energy Participation Ratio (EPR) analysis](https://www.nature.com/articles/s41534-021-00461-8) to quantize the circuit. Luckily for us, Qiskit Metal has integration w/ `pyEPR`, allowing for easy implementation of EPR analysis.\n",
    "\n",
    "# Overview of Tutorial\n",
    "1. [Simulation of single transmon qubit](#qubit_only)\n",
    "2. [Simulation of transmon coupled to cavity](#qubit_cavity)\n",
    "3. [Simulation of two transmon coupled to each other](#qubit_qubit)\n",
    "\n",
    "Let's begin by importing everything we'll need"
   ]
  },
  {
   "cell_type": "code",
   "execution_count": null,
   "metadata": {},
   "outputs": [],
   "source": [
    "from qiskit_metal.qlibrary.qubits.transmon_cross import TransmonCross\n",
    "\n",
    "from qiskit_metal.renderers.renderer_ansys_pyaedt.hfss_renderer_eigenmode_aedt import QHFSSEigenmodePyaedt\n",
    "import pyEPR as epr\n",
    "\n",
    "from qiskit_metal.designs.design_multiplanar import MultiPlanar\n",
    "\n",
    "import numpy as np\n",
    "import qiskit_metal as metal\n",
    "from qiskit_metal import designs, draw\n",
    "from qiskit_metal import MetalGUI, Dict, open_docs"
   ]
  },
  {
   "attachments": {},
   "cell_type": "markdown",
   "metadata": {},
   "source": [
    "# Use Multiplanar design, for Ansys HFSS Eigenmode simulation using pyaedt renderer\n",
    "\n",
    "**DISCLAIMER:** For now, this might only work with the full version (paid) of Ansys and not the student version. This issue is fixable and requires more testing. Please run the notebook and test it out on student license, if you're interested to make a contribution!"
   ]
  },
  {
   "cell_type": "code",
   "execution_count": null,
   "metadata": {},
   "outputs": [],
   "source": [
    "design = MultiPlanar(metadata={},\n",
    "                     overwrite_enabled=True)\n",
    "\n",
    "# Check if layer data is useable, if so launch GUI\n",
    "ls_unique = design.ls.is_layer_data_unique()\n",
    "if (ls_unique != True):\n",
    "    raise ValueError('Layer data in `MultiPlanar` design is not unique')\n",
    "\n",
    "gui = MetalGUI(design)"
   ]
  },
  {
   "attachments": {},
   "cell_type": "markdown",
   "metadata": {},
   "source": [
    "# 1. Transmon Qubit ONLY <a id='qubit_only'></a>"
   ]
  },
  {
   "attachments": {},
   "cell_type": "markdown",
   "metadata": {},
   "source": [
    "## Create Design\n",
    "In section 1, we're concered with simulating a single Transmon. Hence, the design is simple."
   ]
  },
  {
   "cell_type": "code",
   "execution_count": null,
   "metadata": {},
   "outputs": [],
   "source": [
    "xmon_options = dict(\n",
    "    connection_pads=dict(readout = dict()),\n",
    ")\n",
    "\n",
    "TransmonCross(design, 'transmon', options=xmon_options)\n",
    "\n",
    "gui.rebuild()\n",
    "gui.zoom_on_components(['transmon'])\n",
    "gui.screenshot()"
   ]
  },
  {
   "attachments": {},
   "cell_type": "markdown",
   "metadata": {},
   "source": [
    "## Launch Eigenmode Analysis\n",
    "Uses `pyAEDT` to connect to ANSYS. Note (as of May 2023) there's only support for the paid-version of ANSYS ."
   ]
  },
  {
   "cell_type": "code",
   "execution_count": null,
   "metadata": {},
   "outputs": [],
   "source": [
    "em1_aedt = QHFSSEigenmodePyaedt(design, \n",
    "                                'Eigenmode_Tutorial',\n",
    "                                'Qubit ONLY',\n",
    "                                initiate=True)\n",
    "\n",
    "# Path to access Hfss pyAEDT object\n",
    "hfss_aedt = em1_aedt.current_app"
   ]
  },
  {
   "attachments": {},
   "cell_type": "markdown",
   "metadata": {},
   "source": [
    "### Render Design to ANSYS"
   ]
  },
  {
   "cell_type": "code",
   "execution_count": null,
   "metadata": {},
   "outputs": [],
   "source": [
    "em1_aedt.render_design()"
   ]
  },
  {
   "attachments": {},
   "cell_type": "markdown",
   "metadata": {},
   "source": [
    "### Add Setup\n",
    "\n",
    "To create a setup in ANSYS, we call the method `add_hfss_em_setup`, it has the arguments:\n",
    "\n",
    "```\n",
    "Create a solution setup in Ansys HFSS Driven-Modal solution type. If user does not provide\n",
    "        arguments, they will be obtained from QHFSSDrivenmodalPyaedt.default_setup dict.\n",
    "\n",
    "        Args:\n",
    "            name (str, optional): _description_. Defaults to None.\n",
    "            MinimumFrequency (float, optional):  Minimum frequency in GHz. Defaults to self.default_setup.\n",
    "            NumModes (int, optional): Number of modes.  Defaults to self.default_setup.\n",
    "            MaxDeltaFreq (float, optional):   Maximum difference in freq between consecutive passes.\n",
    "                                        Defaults to self.default_setup.\n",
    "            MaximumPasses (int, optional):  Maximum number of passes. Defaults to self.default_setup.\n",
    "            MinimumPasses (int, optional): Minimum number of passes.Defaults to self.default_setup.\n",
    "            MinimumConvergedPasses (int, optional): Minimum number of converged passes.\n",
    "                                        Defaults to self.default_setup.\n",
    "            PercentRefinement (int, optional): Percent refinement. Defaults to self.default_setup.\n",
    "            BasisOrder (int, optional): Basis order. Defaults to self.default_setup.\n",
    "\n",
    "        Returns:\n",
    "            new_setup (pyaedt.modules.SolveSetup.SetupHFSS): pyAEDT simulation setup object.\n",
    "```\n",
    "\n",
    "In Eigenmode simulations, we can directly find the resonant frequency. This is in comparison to a DrivenModal simualtion, where we need to sweep the frequency space and find the resonant response.\n",
    "\n",
    "Since the transmon has a resonant frequency, we are ONLY simulating a transmon. We have 1 resonant mode. Hence `NumModes = 1`."
   ]
  },
  {
   "cell_type": "code",
   "execution_count": null,
   "metadata": {},
   "outputs": [],
   "source": [
    "setup_name = 'Setup_QubitONLY'\n",
    "\n",
    "# Add Setup\n",
    "setup_options = dict(\n",
    "    name= setup_name,\n",
    "    MinimumFrequency= 3, # GHz\n",
    "    NumModes= 1, # THIS IS ONLY FOR A SINGLE TRANSMON\n",
    "    MaxDeltaFreq= 0.1,\n",
    "    MaximumPasses= 5,\n",
    "    MinimumPasses= 1,\n",
    "    MinimumConvergedPasses= 2,\n",
    "    PercentRefinement= 30,\n",
    "    BasisOrder= None\n",
    ")\n",
    "\n",
    "em1_aedt.add_hfss_em_setup(**setup_options)"
   ]
  },
  {
   "attachments": {},
   "cell_type": "markdown",
   "metadata": {},
   "source": [
    "### Analyze Setup (run ANSYS simulation)"
   ]
  },
  {
   "cell_type": "code",
   "execution_count": null,
   "metadata": {},
   "outputs": [],
   "source": [
    "em1_aedt.analyze_setup(setup_name)"
   ]
  },
  {
   "attachments": {},
   "cell_type": "markdown",
   "metadata": {},
   "source": [
    "## Run EPR Analysis\n",
    "\n",
    "From here, we use `pyEPR` to run the EPR analysis.\n",
    "\n",
    "```\n",
    "Format of results:\n",
    "    f_0 [MHz]    : Eigenmode frequencies computed by HFSS; i.e., linear freq returned in GHz\n",
    "    f_1 [MHz]    : Dressed mode frequencies (by the non-linearity; e.g., Lamb shift, etc. ).\n",
    "                    If numerical diagonalizaiton is run, then we return the numerically diagonalizaed\n",
    "                    frequencies, otherwise, use 1st order pertuirbation theory on the 4th order\n",
    "                    expansion of the cosine.\n",
    "    f_ND [MHz]   : Numerical diagonalizaiton\n",
    "    chi_O1 [MHz] : Analytic expression for the chis based on a cos trunc to 4th order, and using 1st\n",
    "                    order perturbation theory. Diag is anharmonicity, off diag is full cross-Kerr.\n",
    "    chi_ND [MHz] : Numerically diagonalized chi matrix. Diag is anharmonicity, off diag is full\n",
    "                    cross-Kerr.\n",
    "\n",
    "Args:\n",
    "    cos_trunc (int, optional): Truncation of the cosine. Defaults to 8.\n",
    "    fock_trunc (int, optional): Truncation of the fock. Defaults to 7. \n",
    "    print_results (bool, optional): Print results of EPR analysis. Defaults to True.\n",
    "    numeric (bool, optional): Use numerical diagonalization. Defaults to True.\n",
    "\n",
    "    Returns:\n",
    "        self.epr_quantum_analysis.data (dict): all results of EPR analysis\n",
    "```"
   ]
  },
  {
   "cell_type": "code",
   "execution_count": null,
   "metadata": {},
   "outputs": [],
   "source": [
    "epr_data = em1_aedt.run_epr(print_result=True)"
   ]
  },
  {
   "cell_type": "code",
   "execution_count": null,
   "metadata": {},
   "outputs": [],
   "source": [
    "print(epr_data)"
   ]
  },
  {
   "attachments": {},
   "cell_type": "markdown",
   "metadata": {},
   "source": [
    "# 2. Transmon Coupled to Cavity <a id='qubit_cavity'></a>\n",
    "\n",
    "In progress."
   ]
  },
  {
   "attachments": {},
   "cell_type": "markdown",
   "metadata": {},
   "source": [
    "# 3. Two Transmons Coupled to Each Other <a id='qubit_qubit'></a>\n",
    "\n",
    "In progress."
   ]
  }
 ],
 "metadata": {
  "kernelspec": {
   "display_name": "Python 3",
   "language": "python",
   "name": "python3"
  },
  "language_info": {
   "name": "python",
   "version": "3.9.9"
  },
  "orig_nbformat": 4
 },
 "nbformat": 4,
 "nbformat_minor": 2
}

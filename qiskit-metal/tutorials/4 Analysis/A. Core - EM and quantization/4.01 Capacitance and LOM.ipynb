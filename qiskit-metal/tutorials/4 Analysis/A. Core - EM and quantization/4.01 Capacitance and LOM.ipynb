{
 "cells": [
  {
   "cell_type": "markdown",
   "metadata": {},
   "source": [
    "# Capacitance matrix and LOM analysis\n",
    "### Prerequisite\n",
    "You need to have a working local installation of Ansys."
   ]
  },
  {
   "cell_type": "markdown",
   "metadata": {},
   "source": [
    "## 1. Create the design in Metal"
   ]
  },
  {
   "cell_type": "code",
   "execution_count": 1,
   "metadata": {
    "ExecuteTime": {
     "end_time": "2023-07-19T04:15:32.257238Z",
     "start_time": "2023-07-19T04:15:32.218606Z"
    }
   },
   "outputs": [],
   "source": [
    "%reload_ext autoreload\n",
    "%autoreload 2"
   ]
  },
  {
   "cell_type": "code",
   "execution_count": 2,
   "metadata": {
    "ExecuteTime": {
     "end_time": "2023-07-19T04:15:35.206976Z",
     "start_time": "2023-07-19T04:15:32.769347Z"
    }
   },
   "outputs": [],
   "source": [
    "import qiskit_metal as metal\n",
    "from qiskit_metal import designs, draw\n",
    "from qiskit_metal import MetalGUI, Dict, Headings"
   ]
  },
  {
   "cell_type": "code",
   "execution_count": 3,
   "metadata": {
    "ExecuteTime": {
     "end_time": "2023-07-19T04:15:35.871431Z",
     "start_time": "2023-07-19T04:15:35.296139Z"
    }
   },
   "outputs": [],
   "source": [
    "design = designs.DesignPlanar()\n",
    "gui = MetalGUI(design)\n",
    "\n",
    "from qiskit_metal.qlibrary.qubits.transmon_pocket import TransmonPocket\n",
    "from qiskit_metal.qlibrary.tlines.meandered import RouteMeander"
   ]
  },
  {
   "cell_type": "code",
   "execution_count": 4,
   "metadata": {
    "ExecuteTime": {
     "end_time": "2023-07-19T04:15:36.005742Z",
     "start_time": "2023-07-19T04:15:35.960237Z"
    }
   },
   "outputs": [],
   "source": [
    "design.variables['cpw_width'] = '15 um'\n",
    "design.variables['cpw_gap'] = '9 um'"
   ]
  },
  {
   "cell_type": "markdown",
   "metadata": {},
   "source": [
    "### In this example, the design consists of 4 qubits and 4 CPWs"
   ]
  },
  {
   "cell_type": "code",
   "execution_count": 24,
   "metadata": {
    "ExecuteTime": {
     "end_time": "2023-07-19T04:27:35.413083Z",
     "start_time": "2023-07-19T04:27:34.785780Z"
    }
   },
   "outputs": [
    {
     "name": "stderr",
     "output_type": "stream",
     "text": [
      "12:27AM 35s WARNING [__init__]: Pin bus2 does not exist in component Q1. cpw1 has not been built. Please check your pin_input values.\n",
      "12:27AM 35s WARNING [__init__]: Pin bus1 does not exist in component Q1. cpw4 has not been built. Please check your pin_input values.\n"
     ]
    }
   ],
   "source": [
    "# Allow running the same cell here multiple times to overwrite changes\n",
    "design.overwrite_enabled = True\n",
    "\n",
    "## Custom options for all the transmons\n",
    "options = dict(\n",
    "    # Some options we want to modify from the defaults\n",
    "    # (see below for defaults)\n",
    "    pad_width = '425 um', \n",
    "    pocket_height = '650um',\n",
    "    # Adding 4 connectors (see below for defaults)\n",
    "    connection_pads=dict(\n",
    "        readout = dict(loc_W=+1,loc_H=-1, pad_width='200um'),\n",
    "        bus1 = dict(loc_W=-1,loc_H=+1, pad_height='30um'),\n",
    "        bus2 = dict(loc_W=-1,loc_H=-1, pad_height='50um')\n",
    "    )\n",
    ")\n",
    "options2 = dict(\n",
    "    # Some options we want to modify from the defaults\n",
    "    # (see below for defaults)\n",
    "    pad_width = '100 um', \n",
    "    pocket_height = '650um',\n",
    "    pad_gap='100um', \n",
    "    # Adding 4 connectors (see below for defaults)\n",
    "    connection_pads=dict(\n",
    "        readout = dict(loc_W=+1,loc_H=-1, pad_width='10um'),\n",
    "        #bus1 = dict(loc_W=-1,loc_H=+1, pad_height='10um'),\n",
    "        #bus2 = dict(loc_W=-1,loc_H=-1, pad_height='10um')\n",
    "    )\n",
    ")\n",
    "## Create 4 transmons\n",
    "\n",
    "q1 = TransmonPocket(design, 'Q1', options = dict(\n",
    "    pos_x='+2.42251mm', pos_y='+0.0mm',  **options2))\n",
    "q2 = TransmonPocket(design, 'Q2', options = dict(\n",
    "    pos_x='+0.0mm', pos_y='-0.95mm', orientation = '270', **options))\n",
    "q3 = TransmonPocket(design, 'Q3', options = dict(\n",
    "    pos_x='-2.42251mm', pos_y='+0.0mm', orientation = '180', **options))\n",
    "q4 = TransmonPocket(design, 'Q4', options = dict(\n",
    "    pos_x='+0.0mm', pos_y='+0.95mm', orientation = '90', **options))\n",
    "\n",
    "RouteMeander.get_template_options(design)\n",
    "\n",
    "options = Dict(\n",
    "        lead=Dict(\n",
    "            start_straight='0.2mm',\n",
    "            end_straight='0.2mm'),\n",
    "        trace_gap='9um',\n",
    "        trace_width='15um')\n",
    "\n",
    "def connect(component_name: str, component1: str, pin1: str, component2: str, pin2: str,\n",
    "            length: str, asymmetry='0 um', flip=False, fillet='90um'):\n",
    "    \"\"\"Connect two pins with a CPW.\"\"\"\n",
    "    myoptions = Dict(\n",
    "        fillet=fillet,\n",
    "        hfss_wire_bonds = True,\n",
    "        pin_inputs=Dict(\n",
    "            start_pin=Dict(\n",
    "                component=component1,\n",
    "                pin=pin1),\n",
    "            end_pin=Dict(\n",
    "                component=component2,\n",
    "                pin=pin2)),\n",
    "        total_length=length)\n",
    "    myoptions.update(options)\n",
    "    myoptions.meander.asymmetry = asymmetry\n",
    "    myoptions.meander.lead_direction_inverted = 'true' if flip else 'false'\n",
    "    return RouteMeander(design, component_name, myoptions)\n",
    "\n",
    "asym = 140\n",
    "cpw1 = connect('cpw1', 'Q1', 'bus2', 'Q2', 'bus1', '6.0 mm', f'+{asym}um')\n",
    "cpw2 = connect('cpw2', 'Q3', 'bus1', 'Q2', 'bus2', '6.1 mm', f'-{asym}um', flip=True)\n",
    "cpw3 = connect('cpw3', 'Q3', 'bus2', 'Q4', 'bus1', '6.0 mm', f'+{asym}um')\n",
    "cpw4 = connect('cpw4', 'Q1', 'bus1', 'Q4', 'bus2', '6.1 mm', f'-{asym}um', flip=True)\n",
    "\n",
    "gui.rebuild()\n",
    "gui.autoscale()"
   ]
  },
  {
   "cell_type": "markdown",
   "metadata": {},
   "source": [
    "## 2. Capacitance Analysis and LOM derivation using the analysis package - most users"
   ]
  },
  {
   "cell_type": "markdown",
   "metadata": {},
   "source": [
    "### Capacitance Analysis\n",
    "Select the analysis you intend to run from the `qiskit_metal.analyses` collection.<br>\n",
    "Select the design to analyze and the tool to use for any external simulation"
   ]
  },
  {
   "cell_type": "code",
   "execution_count": 6,
   "metadata": {
    "ExecuteTime": {
     "end_time": "2023-07-19T04:15:54.911409Z",
     "start_time": "2023-07-19T04:15:54.858371Z"
    }
   },
   "outputs": [],
   "source": [
    "from qiskit_metal.analyses.quantization import LOManalysis\n",
    "c1 = LOManalysis(design, \"q3d\")"
   ]
  },
  {
   "cell_type": "markdown",
   "metadata": {},
   "source": [
    "(optional) You can review and update the Analysis default setup following the examples in the next two cells."
   ]
  },
  {
   "cell_type": "code",
   "execution_count": null,
   "metadata": {},
   "outputs": [],
   "source": [
    "c1.sim.setup"
   ]
  },
  {
   "cell_type": "code",
   "execution_count": 7,
   "metadata": {
    "ExecuteTime": {
     "end_time": "2023-07-19T04:15:59.967346Z",
     "start_time": "2023-07-19T04:15:59.898610Z"
    }
   },
   "outputs": [
    {
     "data": {
      "text/plain": [
       "{'name': 'Setup',\n",
       " 'reuse_selected_design': True,\n",
       " 'reuse_setup': True,\n",
       " 'freq_ghz': 5.0,\n",
       " 'save_fields': False,\n",
       " 'enabled': True,\n",
       " 'max_passes': 6,\n",
       " 'min_passes': 2,\n",
       " 'min_converged_passes': 2,\n",
       " 'percent_error': 0.5,\n",
       " 'percent_refinement': 30,\n",
       " 'auto_increase_solution_order': 'False',\n",
       " 'solution_order': 'Medium',\n",
       " 'solver_type': 'Iterative'}"
      ]
     },
     "execution_count": 7,
     "metadata": {},
     "output_type": "execute_result"
    }
   ],
   "source": [
    "# example: update single setting\n",
    "c1.sim.setup.max_passes = 6\n",
    "# example: update multiple settings\n",
    "c1.sim.setup_update(solution_order = 'Medium', auto_increase_solution_order = 'False')\n",
    "\n",
    "c1.sim.setup"
   ]
  },
  {
   "cell_type": "markdown",
   "metadata": {},
   "source": [
    "Analyze a single qubit with 2 endcaps using the default (or edited) analysis setup. Then show the capacitance matrix (from the last pass).\n",
    "\n",
    "You can use the method `run()` instead of `sim.run()` in the following cell if you want to run both cap extraction and lom analysis in a single step. If so, make sure to also tweak the setup for the lom analysis. The input parameters are otherwise the same for the two methods. "
   ]
  },
  {
   "cell_type": "code",
   "execution_count": 26,
   "metadata": {
    "ExecuteTime": {
     "end_time": "2023-07-19T04:29:48.258826Z",
     "start_time": "2023-07-19T04:29:10.467249Z"
    },
    "scrolled": false
   },
   "outputs": [
    {
     "name": "stderr",
     "output_type": "stream",
     "text": [
      "INFO 12:29AM [connect_design]: \tOpened active design\n",
      "\tDesign:    Design_q3d [Solution type: Q3D]\n",
      "INFO 12:29AM [get_setup]: \tOpened setup `Setup`  (<class 'pyEPR.ansys.AnsysQ3DSetup'>)\n",
      "INFO 12:29AM [analyze]: Analyzing setup Setup\n",
      "INFO 12:29AM [get_matrix]: Exporting matrix data to (C:\\Users\\WANGLAB\\AppData\\Local\\Temp\\tmpzq1c17s8.txt, C, , Setup:LastAdaptive, \"Original\", \"ohm\", \"nH\", \"fF\", \"mSie\", 4800000000, Maxwell, 1, False\n",
      "INFO 12:29AM [get_matrix]: Exporting matrix data to (C:\\Users\\WANGLAB\\AppData\\Local\\Temp\\tmpai7dbudz.txt, C, , Setup:AdaptivePass, \"Original\", \"ohm\", \"nH\", \"fF\", \"mSie\", 4800000000, Maxwell, 1, False\n",
      "INFO 12:29AM [get_matrix]: Exporting matrix data to (C:\\Users\\WANGLAB\\AppData\\Local\\Temp\\tmpznoy2730.txt, C, , Setup:AdaptivePass, \"Original\", \"ohm\", \"nH\", \"fF\", \"mSie\", 4800000000, Maxwell, 2, False\n",
      "INFO 12:29AM [get_matrix]: Exporting matrix data to (C:\\Users\\WANGLAB\\AppData\\Local\\Temp\\tmpq5kisv8k.txt, C, , Setup:AdaptivePass, \"Original\", \"ohm\", \"nH\", \"fF\", \"mSie\", 4800000000, Maxwell, 3, False\n",
      "INFO 12:29AM [get_matrix]: Exporting matrix data to (C:\\Users\\WANGLAB\\AppData\\Local\\Temp\\tmpg0kg4ms4.txt, C, , Setup:AdaptivePass, \"Original\", \"ohm\", \"nH\", \"fF\", \"mSie\", 4800000000, Maxwell, 4, False\n",
      "INFO 12:29AM [get_matrix]: Exporting matrix data to (C:\\Users\\WANGLAB\\AppData\\Local\\Temp\\tmpfc10ru66.txt, C, , Setup:AdaptivePass, \"Original\", \"ohm\", \"nH\", \"fF\", \"mSie\", 4800000000, Maxwell, 5, False\n",
      "INFO 12:29AM [get_matrix]: Exporting matrix data to (C:\\Users\\WANGLAB\\AppData\\Local\\Temp\\tmpiiw2pvoy.txt, C, , Setup:AdaptivePass, \"Original\", \"ohm\", \"nH\", \"fF\", \"mSie\", 4800000000, Maxwell, 6, False\n",
      "INFO 12:29AM [get_matrix]: Exporting matrix data to (C:\\Users\\WANGLAB\\AppData\\Local\\Temp\\tmp7_z9810r.txt, C, , Setup:AdaptivePass, \"Original\", \"ohm\", \"nH\", \"fF\", \"mSie\", 4800000000, Maxwell, 7, False\n"
     ]
    },
    {
     "data": {
      "text/html": [
       "<div>\n",
       "<style scoped>\n",
       "    .dataframe tbody tr th:only-of-type {\n",
       "        vertical-align: middle;\n",
       "    }\n",
       "\n",
       "    .dataframe tbody tr th {\n",
       "        vertical-align: top;\n",
       "    }\n",
       "\n",
       "    .dataframe thead th {\n",
       "        text-align: right;\n",
       "    }\n",
       "</style>\n",
       "<table border=\"1\" class=\"dataframe\">\n",
       "  <thead>\n",
       "    <tr style=\"text-align: right;\">\n",
       "      <th></th>\n",
       "      <th>ground_main_plane</th>\n",
       "      <th>pad_bot_Q1</th>\n",
       "      <th>pad_top_Q1</th>\n",
       "      <th>readout_connector_pad_Q1</th>\n",
       "    </tr>\n",
       "  </thead>\n",
       "  <tbody>\n",
       "    <tr>\n",
       "      <th>ground_main_plane</th>\n",
       "      <td>140.41777</td>\n",
       "      <td>-18.00640</td>\n",
       "      <td>-20.30287</td>\n",
       "      <td>-39.82809</td>\n",
       "    </tr>\n",
       "    <tr>\n",
       "      <th>pad_bot_Q1</th>\n",
       "      <td>-18.00640</td>\n",
       "      <td>27.89593</td>\n",
       "      <td>-3.55537</td>\n",
       "      <td>-4.81338</td>\n",
       "    </tr>\n",
       "    <tr>\n",
       "      <th>pad_top_Q1</th>\n",
       "      <td>-20.30287</td>\n",
       "      <td>-3.55537</td>\n",
       "      <td>26.51273</td>\n",
       "      <td>-1.00425</td>\n",
       "    </tr>\n",
       "    <tr>\n",
       "      <th>readout_connector_pad_Q1</th>\n",
       "      <td>-39.82809</td>\n",
       "      <td>-4.81338</td>\n",
       "      <td>-1.00425</td>\n",
       "      <td>46.98324</td>\n",
       "    </tr>\n",
       "  </tbody>\n",
       "</table>\n",
       "</div>"
      ],
      "text/plain": [
       "                          ground_main_plane  pad_bot_Q1  pad_top_Q1  \\\n",
       "ground_main_plane                 140.41777   -18.00640   -20.30287   \n",
       "pad_bot_Q1                        -18.00640    27.89593    -3.55537   \n",
       "pad_top_Q1                        -20.30287    -3.55537    26.51273   \n",
       "readout_connector_pad_Q1          -39.82809    -4.81338    -1.00425   \n",
       "\n",
       "                          readout_connector_pad_Q1  \n",
       "ground_main_plane                        -39.82809  \n",
       "pad_bot_Q1                                -4.81338  \n",
       "pad_top_Q1                                -1.00425  \n",
       "readout_connector_pad_Q1                  46.98324  "
      ]
     },
     "execution_count": 26,
     "metadata": {},
     "output_type": "execute_result"
    }
   ],
   "source": [
    "c1.sim.run(components=['Q1'], open_terminations=[('Q1', 'readout')])\n",
    "c1.sim.capacitance_matrix"
   ]
  },
  {
   "cell_type": "markdown",
   "metadata": {},
   "source": [
    "(otional - case-dependent)<br>If the previous cell was interrupted due to license limitations and for any reason you finally manually launched the simulation from the renderer GUI (outside qiskit-metal) you might be able to recover the simulation results by uncommenting and executing the following cell"
   ]
  },
  {
   "cell_type": "code",
   "execution_count": null,
   "metadata": {},
   "outputs": [],
   "source": [
    "#c1.sim._get_results_from_renderer()\n",
    "#c1.sim.capacitance_matrix"
   ]
  },
  {
   "cell_type": "markdown",
   "metadata": {},
   "source": [
    "The last variables you pass to the `run()` or `sim.run()` methods, will be stored in the `sim.setup` dictionary under the key `run`. You can recall the information passed by either accessing the dictionary directly, or by using the print handle below."
   ]
  },
  {
   "cell_type": "code",
   "execution_count": null,
   "metadata": {},
   "outputs": [],
   "source": [
    "# c1.setup.run    <- direct access\n",
    "c1.sim.print_run_args()"
   ]
  },
  {
   "cell_type": "markdown",
   "metadata": {},
   "source": [
    "You can re-run the analysis after varying the parameters.<br>\n",
    "Not passing the parameter `components` to the `sim.run()` method, skips the rendering and tries to run the analysis on the latest design. If a design is not found, the full metal design is rendered."
   ]
  },
  {
   "cell_type": "code",
   "execution_count": 9,
   "metadata": {
    "ExecuteTime": {
     "end_time": "2023-07-19T04:17:35.950849Z",
     "start_time": "2023-07-19T04:17:00.721580Z"
    }
   },
   "outputs": [
    {
     "name": "stderr",
     "output_type": "stream",
     "text": [
      "INFO 12:17AM [get_setup]: \tOpened setup `Setup`  (<class 'pyEPR.ansys.AnsysQ3DSetup'>)\n",
      "INFO 12:17AM [analyze]: Analyzing setup Setup\n",
      "INFO 12:17AM [get_matrix]: Exporting matrix data to (C:\\Users\\WANGLAB\\AppData\\Local\\Temp\\tmp_p8olqr4.txt, C, , Setup:LastAdaptive, \"Original\", \"ohm\", \"nH\", \"fF\", \"mSie\", 4800000000, Maxwell, 1, False\n",
      "INFO 12:17AM [get_matrix]: Exporting matrix data to (C:\\Users\\WANGLAB\\AppData\\Local\\Temp\\tmp6q9yxxyd.txt, C, , Setup:AdaptivePass, \"Original\", \"ohm\", \"nH\", \"fF\", \"mSie\", 4800000000, Maxwell, 1, False\n",
      "INFO 12:17AM [get_matrix]: Exporting matrix data to (C:\\Users\\WANGLAB\\AppData\\Local\\Temp\\tmpdd_p_hg2.txt, C, , Setup:AdaptivePass, \"Original\", \"ohm\", \"nH\", \"fF\", \"mSie\", 4800000000, Maxwell, 2, False\n",
      "INFO 12:17AM [get_matrix]: Exporting matrix data to (C:\\Users\\WANGLAB\\AppData\\Local\\Temp\\tmpz8ngye3l.txt, C, , Setup:AdaptivePass, \"Original\", \"ohm\", \"nH\", \"fF\", \"mSie\", 4800000000, Maxwell, 3, False\n",
      "INFO 12:17AM [get_matrix]: Exporting matrix data to (C:\\Users\\WANGLAB\\AppData\\Local\\Temp\\tmpbvxqfejl.txt, C, , Setup:AdaptivePass, \"Original\", \"ohm\", \"nH\", \"fF\", \"mSie\", 4800000000, Maxwell, 4, False\n",
      "INFO 12:17AM [get_matrix]: Exporting matrix data to (C:\\Users\\WANGLAB\\AppData\\Local\\Temp\\tmpodkttsww.txt, C, , Setup:AdaptivePass, \"Original\", \"ohm\", \"nH\", \"fF\", \"mSie\", 4800000000, Maxwell, 5, False\n",
      "INFO 12:17AM [get_matrix]: Exporting matrix data to (C:\\Users\\WANGLAB\\AppData\\Local\\Temp\\tmpf2sje0bi.txt, C, , Setup:AdaptivePass, \"Original\", \"ohm\", \"nH\", \"fF\", \"mSie\", 4800000000, Maxwell, 6, False\n",
      "INFO 12:17AM [get_matrix]: Exporting matrix data to (C:\\Users\\WANGLAB\\AppData\\Local\\Temp\\tmp92wsv85l.txt, C, , Setup:AdaptivePass, \"Original\", \"ohm\", \"nH\", \"fF\", \"mSie\", 4800000000, Maxwell, 7, False\n"
     ]
    },
    {
     "data": {
      "text/html": [
       "<div>\n",
       "<style scoped>\n",
       "    .dataframe tbody tr th:only-of-type {\n",
       "        vertical-align: middle;\n",
       "    }\n",
       "\n",
       "    .dataframe tbody tr th {\n",
       "        vertical-align: top;\n",
       "    }\n",
       "\n",
       "    .dataframe thead th {\n",
       "        text-align: right;\n",
       "    }\n",
       "</style>\n",
       "<table border=\"1\" class=\"dataframe\">\n",
       "  <thead>\n",
       "    <tr style=\"text-align: right;\">\n",
       "      <th></th>\n",
       "      <th>bus1_connector_pad_Q1</th>\n",
       "      <th>bus2_connector_pad_Q1</th>\n",
       "      <th>ground_main_plane</th>\n",
       "      <th>pad_bot_Q1</th>\n",
       "      <th>pad_top_Q1</th>\n",
       "      <th>readout_connector_pad_Q1</th>\n",
       "    </tr>\n",
       "  </thead>\n",
       "  <tbody>\n",
       "    <tr>\n",
       "      <th>bus1_connector_pad_Q1</th>\n",
       "      <td>49.77794</td>\n",
       "      <td>-0.42560</td>\n",
       "      <td>-33.50861</td>\n",
       "      <td>-1.57029</td>\n",
       "      <td>-13.15538</td>\n",
       "      <td>-0.20494</td>\n",
       "    </tr>\n",
       "    <tr>\n",
       "      <th>bus2_connector_pad_Q1</th>\n",
       "      <td>-0.42560</td>\n",
       "      <td>54.01885</td>\n",
       "      <td>-35.77522</td>\n",
       "      <td>-13.99741</td>\n",
       "      <td>-1.82852</td>\n",
       "      <td>-1.01319</td>\n",
       "    </tr>\n",
       "    <tr>\n",
       "      <th>ground_main_plane</th>\n",
       "      <td>-33.50861</td>\n",
       "      <td>-35.77522</td>\n",
       "      <td>237.69029</td>\n",
       "      <td>-31.53485</td>\n",
       "      <td>-37.88741</td>\n",
       "      <td>-36.55732</td>\n",
       "    </tr>\n",
       "    <tr>\n",
       "      <th>pad_bot_Q1</th>\n",
       "      <td>-1.57029</td>\n",
       "      <td>-13.99741</td>\n",
       "      <td>-31.53485</td>\n",
       "      <td>98.20667</td>\n",
       "      <td>-30.07382</td>\n",
       "      <td>-18.86490</td>\n",
       "    </tr>\n",
       "    <tr>\n",
       "      <th>pad_top_Q1</th>\n",
       "      <td>-13.15538</td>\n",
       "      <td>-1.82852</td>\n",
       "      <td>-37.88741</td>\n",
       "      <td>-30.07382</td>\n",
       "      <td>87.85076</td>\n",
       "      <td>-2.20122</td>\n",
       "    </tr>\n",
       "    <tr>\n",
       "      <th>readout_connector_pad_Q1</th>\n",
       "      <td>-0.20494</td>\n",
       "      <td>-1.01319</td>\n",
       "      <td>-36.55732</td>\n",
       "      <td>-18.86490</td>\n",
       "      <td>-2.20122</td>\n",
       "      <td>59.92347</td>\n",
       "    </tr>\n",
       "  </tbody>\n",
       "</table>\n",
       "</div>"
      ],
      "text/plain": [
       "                          bus1_connector_pad_Q1  bus2_connector_pad_Q1  \\\n",
       "bus1_connector_pad_Q1                  49.77794               -0.42560   \n",
       "bus2_connector_pad_Q1                  -0.42560               54.01885   \n",
       "ground_main_plane                     -33.50861              -35.77522   \n",
       "pad_bot_Q1                             -1.57029              -13.99741   \n",
       "pad_top_Q1                            -13.15538               -1.82852   \n",
       "readout_connector_pad_Q1               -0.20494               -1.01319   \n",
       "\n",
       "                          ground_main_plane  pad_bot_Q1  pad_top_Q1  \\\n",
       "bus1_connector_pad_Q1             -33.50861    -1.57029   -13.15538   \n",
       "bus2_connector_pad_Q1             -35.77522   -13.99741    -1.82852   \n",
       "ground_main_plane                 237.69029   -31.53485   -37.88741   \n",
       "pad_bot_Q1                        -31.53485    98.20667   -30.07382   \n",
       "pad_top_Q1                        -37.88741   -30.07382    87.85076   \n",
       "readout_connector_pad_Q1          -36.55732   -18.86490    -2.20122   \n",
       "\n",
       "                          readout_connector_pad_Q1  \n",
       "bus1_connector_pad_Q1                     -0.20494  \n",
       "bus2_connector_pad_Q1                     -1.01319  \n",
       "ground_main_plane                        -36.55732  \n",
       "pad_bot_Q1                               -18.86490  \n",
       "pad_top_Q1                                -2.20122  \n",
       "readout_connector_pad_Q1                  59.92347  "
      ]
     },
     "execution_count": 9,
     "metadata": {},
     "output_type": "execute_result"
    }
   ],
   "source": [
    "c1.sim.setup.freq_ghz = 4.8\n",
    "c1.sim.run()\n",
    "c1.sim.capacitance_matrix"
   ]
  },
  {
   "cell_type": "code",
   "execution_count": null,
   "metadata": {},
   "outputs": [],
   "source": [
    "type(c1.sim.capacitance_matrix)"
   ]
  },
  {
   "cell_type": "markdown",
   "metadata": {},
   "source": [
    "### Lumped oscillator model (LOM)\n",
    "\n",
    "Using capacitance matrices obtained from each pass, save the many parameters of the Hamiltonian of the system. `get_lumped_oscillator()` operates on 4 setup parameters: <br><br>\n",
    "Lj: float <br>\n",
    "Cj: float <br>\n",
    "fr: Union[list, float] <br>\n",
    "fb: Union[list, float] <br>"
   ]
  },
  {
   "cell_type": "code",
   "execution_count": 32,
   "metadata": {
    "ExecuteTime": {
     "end_time": "2023-07-25T23:40:48.643867Z",
     "start_time": "2023-07-25T23:40:48.122495Z"
    }
   },
   "outputs": [
    {
     "name": "stdout",
     "output_type": "stream",
     "text": [
      "[1, 2] [3]\n",
      "Predicted Values\n",
      "\n",
      "Transmon Properties\n",
      "f_Q 5.663519 [GHz]\n",
      "EC 1168.702444 [MHz]\n",
      "EJ 5.446520 [GHz]\n",
      "alpha -992.735370 [MHz]\n",
      "dispersion 1375124.014709 [KHz]\n",
      "Lq 29.987903 [nH]\n",
      "Cq 16.574132 [fF]\n",
      "T1 114.579790 [us]\n",
      "\n",
      "**Coupling Properties**\n",
      "\n",
      "tCqbus1 1.804851 [fF]\n",
      "gbus1_in_MHz 66.559194 [MHz]\n",
      "χ_bus1 -2.885089 [MHz]\n",
      "1/T1bus1 1389.031551 [Hz]\n",
      "T1bus1 114.579790 [us]\n",
      "Bus-Bus Couplings\n"
     ]
    },
    {
     "data": {
      "text/html": [
       "<div>\n",
       "<style scoped>\n",
       "    .dataframe tbody tr th:only-of-type {\n",
       "        vertical-align: middle;\n",
       "    }\n",
       "\n",
       "    .dataframe tbody tr th {\n",
       "        vertical-align: top;\n",
       "    }\n",
       "\n",
       "    .dataframe thead th {\n",
       "        text-align: right;\n",
       "    }\n",
       "</style>\n",
       "<table border=\"1\" class=\"dataframe\">\n",
       "  <thead>\n",
       "    <tr style=\"text-align: right;\">\n",
       "      <th></th>\n",
       "      <th>fQ</th>\n",
       "      <th>EC</th>\n",
       "      <th>EJ</th>\n",
       "      <th>alpha</th>\n",
       "      <th>dispersion</th>\n",
       "      <th>gbus</th>\n",
       "      <th>chi_in_MHz</th>\n",
       "      <th>χr MHz</th>\n",
       "      <th>gr MHz</th>\n",
       "    </tr>\n",
       "  </thead>\n",
       "  <tbody>\n",
       "    <tr>\n",
       "      <th>1</th>\n",
       "      <td>5.798065</td>\n",
       "      <td>1245.655406</td>\n",
       "      <td>5.44652</td>\n",
       "      <td>-911.108286</td>\n",
       "      <td>1587717.998369</td>\n",
       "      <td>[64.00866745392301]</td>\n",
       "      <td>[-2.988676056498704]</td>\n",
       "      <td>2.988676</td>\n",
       "      <td>64.008667</td>\n",
       "    </tr>\n",
       "    <tr>\n",
       "      <th>2</th>\n",
       "      <td>5.806466</td>\n",
       "      <td>1250.54137</td>\n",
       "      <td>5.44652</td>\n",
       "      <td>-905.426571</td>\n",
       "      <td>1601490.721253</td>\n",
       "      <td>[63.16000167202934]</td>\n",
       "      <td>[-2.9309539864423715]</td>\n",
       "      <td>2.930954</td>\n",
       "      <td>63.160002</td>\n",
       "    </tr>\n",
       "    <tr>\n",
       "      <th>3</th>\n",
       "      <td>5.786886</td>\n",
       "      <td>1239.167802</td>\n",
       "      <td>5.44652</td>\n",
       "      <td>-918.564643</td>\n",
       "      <td>1569479.068003</td>\n",
       "      <td>[65.54061189868865]</td>\n",
       "      <td>[-3.10367018882506]</td>\n",
       "      <td>3.103670</td>\n",
       "      <td>65.540612</td>\n",
       "    </tr>\n",
       "    <tr>\n",
       "      <th>4</th>\n",
       "      <td>5.704067</td>\n",
       "      <td>1191.626715</td>\n",
       "      <td>5.44652</td>\n",
       "      <td>-970.024718</td>\n",
       "      <td>1437574.957023</td>\n",
       "      <td>[66.55783839361922]</td>\n",
       "      <td>[-2.9843433831786403]</td>\n",
       "      <td>2.984343</td>\n",
       "      <td>66.557838</td>\n",
       "    </tr>\n",
       "    <tr>\n",
       "      <th>5</th>\n",
       "      <td>5.693162</td>\n",
       "      <td>1185.438054</td>\n",
       "      <td>5.44652</td>\n",
       "      <td>-976.295305</td>\n",
       "      <td>1420639.280745</td>\n",
       "      <td>[66.24464886043923]</td>\n",
       "      <td>[-2.929450973106334]</td>\n",
       "      <td>2.929451</td>\n",
       "      <td>66.244649</td>\n",
       "    </tr>\n",
       "    <tr>\n",
       "      <th>6</th>\n",
       "      <td>5.663519</td>\n",
       "      <td>1168.702444</td>\n",
       "      <td>5.44652</td>\n",
       "      <td>-992.73537</td>\n",
       "      <td>1375124.014709</td>\n",
       "      <td>[66.55919412866066]</td>\n",
       "      <td>[-2.8850890888614735]</td>\n",
       "      <td>2.885089</td>\n",
       "      <td>66.559194</td>\n",
       "    </tr>\n",
       "  </tbody>\n",
       "</table>\n",
       "</div>"
      ],
      "text/plain": [
       "         fQ           EC       EJ       alpha      dispersion  \\\n",
       "1  5.798065  1245.655406  5.44652 -911.108286  1587717.998369   \n",
       "2  5.806466   1250.54137  5.44652 -905.426571  1601490.721253   \n",
       "3  5.786886  1239.167802  5.44652 -918.564643  1569479.068003   \n",
       "4  5.704067  1191.626715  5.44652 -970.024718  1437574.957023   \n",
       "5  5.693162  1185.438054  5.44652 -976.295305  1420639.280745   \n",
       "6  5.663519  1168.702444  5.44652  -992.73537  1375124.014709   \n",
       "\n",
       "                  gbus             chi_in_MHz    χr MHz     gr MHz  \n",
       "1  [64.00866745392301]   [-2.988676056498704]  2.988676  64.008667  \n",
       "2  [63.16000167202934]  [-2.9309539864423715]  2.930954  63.160002  \n",
       "3  [65.54061189868865]    [-3.10367018882506]  3.103670  65.540612  \n",
       "4  [66.55783839361922]  [-2.9843433831786403]  2.984343  66.557838  \n",
       "5  [66.24464886043923]   [-2.929450973106334]  2.929451  66.244649  \n",
       "6  [66.55919412866066]  [-2.8850890888614735]  2.885089  66.559194  "
      ]
     },
     "execution_count": 32,
     "metadata": {},
     "output_type": "execute_result"
    }
   ],
   "source": [
    "c1.setup.junctions = Dict({'Lj': 30, 'Cj': 2})\n",
    "c1.setup.freq_readout = 7.0\n",
    "#c1.setup.freq_bus = [6.0]\n",
    "\n",
    "c1.run_lom()\n",
    "c1.lumped_oscillator_all"
   ]
  },
  {
   "cell_type": "code",
   "execution_count": null,
   "metadata": {},
   "outputs": [],
   "source": [
    "c1.plot_convergence();\n",
    "c1.plot_convergence_chi()"
   ]
  },
  {
   "cell_type": "code",
   "execution_count": null,
   "metadata": {},
   "outputs": [],
   "source": []
  },
  {
   "cell_type": "markdown",
   "metadata": {},
   "source": [
    "Once you are done with your analysis, please close it with `close()`. This will free up resources currently occupied by qiskit-metal to communiate with the tool."
   ]
  },
  {
   "cell_type": "code",
   "execution_count": null,
   "metadata": {},
   "outputs": [],
   "source": [
    "c1.sim.close()"
   ]
  },
  {
   "cell_type": "markdown",
   "metadata": {},
   "source": [
    "## 3. Directly access the renderer to modify other parameters"
   ]
  },
  {
   "cell_type": "code",
   "execution_count": null,
   "metadata": {},
   "outputs": [],
   "source": [
    "c1.sim.start()\n",
    "c1.sim.renderer"
   ]
  },
  {
   "cell_type": "markdown",
   "metadata": {},
   "source": [
    "Every renderer will have its own collection of methods. Below an example with q3d"
   ]
  },
  {
   "cell_type": "markdown",
   "metadata": {},
   "source": [
    "##### Prepare and run a collection of predefined setups\n",
    "\n",
    "This is equivalent to going to the Project Manager panel in Ansys, right clicking on Analysis within the active Q3D design, selecting \"Add Solution Setup...\", and choosing/entering default values in the resulting popup window. You might want to do this to keep track of different solution setups, giving each of them a different/specific name."
   ]
  },
  {
   "cell_type": "code",
   "execution_count": null,
   "metadata": {},
   "outputs": [],
   "source": [
    "setup = c1.sim.renderer.new_ansys_setup(name = \"Setup_demo\", max_passes = 6)"
   ]
  },
  {
   "cell_type": "markdown",
   "metadata": {},
   "source": [
    "You can directly pass to `new_ansys_setup` all the setup parameters. Of course you will then need to run the individual setups by name as well."
   ]
  },
  {
   "cell_type": "code",
   "execution_count": null,
   "metadata": {},
   "outputs": [],
   "source": [
    "c1.sim.renderer.analyze_setup(setup.name)"
   ]
  },
  {
   "cell_type": "markdown",
   "metadata": {},
   "source": [
    "##### Get the capactiance matrix at a different pass\n",
    "\n",
    "You might want to use this if you intend to know what was the matrix at a different pass of the simulation."
   ]
  },
  {
   "cell_type": "code",
   "execution_count": null,
   "metadata": {},
   "outputs": [],
   "source": [
    "# Using the analysis results, get its capacitance matrix as a dataframe.\n",
    "c1.sim.renderer.get_capacitance_matrix(variation = '', solution_kind = 'AdaptivePass', pass_number = 5)"
   ]
  },
  {
   "cell_type": "markdown",
   "metadata": {},
   "source": [
    "### Code to swap rows and columns in capacitance matrix\n",
    "from qiskit_metal.analyses.quantization.lumped_capacitive import df_reorder_matrix_basis\n",
    "\n",
    "df_reorder_matrix_basis(fourq_q3d.get_capacitance_matrix(), 1, 2)"
   ]
  },
  {
   "cell_type": "markdown",
   "metadata": {},
   "source": [
    "##### Close the renderer"
   ]
  },
  {
   "cell_type": "code",
   "execution_count": null,
   "metadata": {},
   "outputs": [],
   "source": [
    "c1.sim.close()"
   ]
  }
 ],
 "metadata": {
  "kernelspec": {
   "display_name": "Python 3 (ipykernel)",
   "language": "python",
   "name": "python3"
  },
  "language_info": {
   "codemirror_mode": {
    "name": "ipython",
    "version": 3
   },
   "file_extension": ".py",
   "mimetype": "text/x-python",
   "name": "python",
   "nbconvert_exporter": "python",
   "pygments_lexer": "ipython3",
   "version": "3.11.4"
  },
  "varInspector": {
   "cols": {
    "lenName": 16,
    "lenType": 16,
    "lenVar": 40
   },
   "kernels_config": {
    "python": {
     "delete_cmd_postfix": "",
     "delete_cmd_prefix": "del ",
     "library": "var_list.py",
     "varRefreshCmd": "print(var_dic_list())"
    },
    "r": {
     "delete_cmd_postfix": ") ",
     "delete_cmd_prefix": "rm(",
     "library": "var_list.r",
     "varRefreshCmd": "cat(var_dic_list()) "
    }
   },
   "types_to_exclude": [
    "module",
    "function",
    "builtin_function_or_method",
    "instance",
    "_Feature"
   ],
   "window_display": false
  }
 },
 "nbformat": 4,
 "nbformat_minor": 4
}

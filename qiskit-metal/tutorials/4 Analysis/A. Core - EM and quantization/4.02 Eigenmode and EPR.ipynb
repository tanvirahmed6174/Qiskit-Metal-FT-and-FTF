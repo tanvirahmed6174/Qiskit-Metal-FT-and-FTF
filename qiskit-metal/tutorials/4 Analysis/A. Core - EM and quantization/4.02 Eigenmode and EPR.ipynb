{
 "cells": [
  {
   "cell_type": "markdown",
   "metadata": {},
   "source": [
    "# Eigenmode and EPR analysis\n",
    "### Prerequisite\n",
    "You need to have a working local installation of Ansys."
   ]
  },
  {
   "cell_type": "markdown",
   "metadata": {},
   "source": [
    "## Sections\n",
    "### I. Transmon only\n",
    "1. Prepare the layout in qiskit-metal. <br>\n",
    "1. Run finite element eigenmode analysis. <br>\n",
    "1. Plot fields and display them. <br>\n",
    "1. Set up EPR junction dictionary. <br>\n",
    "1. Run EPR analysis on single mode. <br>\n",
    "1. Get qubit freq and anharmonicity. <br>\n",
    "1. Calculate EPR of substrate.  <br>\n",
    "1. (Extra: Calculate surface EPR.) <br>\n",
    "\n",
    "### II. Resonator only\n",
    "1. Update the layout in qiskit-metal. <br>\n",
    "1. Run finite element eigenmode analysis. <br>\n",
    "1. Plot fields and display them. <br>\n",
    "1. Calculate EPR of substrate. <br>\n",
    "    \n",
    "### III. Transmon & resonator\n",
    "1. Update the layout in qiskit-metal. <br>\n",
    "1. Run finite element eigenmode analysis. <br>\n",
    "1. Plot fields and display them. <br>\n",
    "1. Set up EPR junction dictionary. <br>\n",
    "1. Run EPR analysis on the two modes. <br>\n",
    "1. Get qubit frequency and anharmonicity. <br>\n",
    "\n",
    "### IV. Analyze a coupled 2 transmon system. \n",
    "1. Finite Element Eigenmode Analysis\n",
    "1. Identify the mode you want. The mode can inclusively be from 1 to setup.n_modes.\n",
    "1. Set variables in the Ansys design. As before, we seek 2 modes.\n",
    "1. Set up the simulation and specify the variables for the sweep.\n",
    "1. Plot the E-field on the chip's surface.\n",
    "1. Specify the junctions in the model; in this case there are 2 junctions.\n",
    "1. Find the electric and magnetic energy stored in the substrate and the system as a whole.\n",
    "1. Perform EPR analysis for all modes and variations."
   ]
  },
  {
   "cell_type": "code",
   "execution_count": 1,
   "metadata": {
    "ExecuteTime": {
     "end_time": "2023-07-26T21:02:56.372110Z",
     "start_time": "2023-07-26T21:02:53.936259Z"
    }
   },
   "outputs": [],
   "source": [
    "%reload_ext autoreload\n",
    "%autoreload 2\n",
    "\n",
    "import qiskit_metal as metal\n",
    "from qiskit_metal import designs, draw\n",
    "from qiskit_metal import MetalGUI, Dict, Headings\n",
    "import pyEPR as epr"
   ]
  },
  {
   "cell_type": "code",
   "execution_count": 2,
   "metadata": {
    "ExecuteTime": {
     "end_time": "2023-07-26T21:02:56.827459Z",
     "start_time": "2023-07-26T21:02:56.784447Z"
    }
   },
   "outputs": [
    {
     "name": "stdout",
     "output_type": "stream",
     "text": [
      "1.0\n"
     ]
    }
   ],
   "source": [
    "import numpy as np\n",
    "\n",
    "print(np.float64(1))"
   ]
  },
  {
   "cell_type": "markdown",
   "metadata": {},
   "source": [
    "# 1. Analyze the transmon qubit by itself\n",
    "\n",
    "We will use the analysis package - applicable to most users. Advanced users might want to expand the package, or directly interact with the renderer. The renderer is one of the properties of the analysis class.\n",
    "\n",
    "### Create the Qbit design\n",
    "\n",
    "Setup a design of a given dimension. Dimensions will be respected in the design rendering. <br>\n",
    "Note that the design size extends from the origin into the first quadrant."
   ]
  },
  {
   "cell_type": "code",
   "execution_count": 3,
   "metadata": {
    "ExecuteTime": {
     "end_time": "2023-07-26T21:02:57.722448Z",
     "start_time": "2023-07-26T21:02:57.219125Z"
    }
   },
   "outputs": [],
   "source": [
    "design = designs.DesignPlanar({}, True)\n",
    "design.chips.main.size['size_x'] = '2mm'\n",
    "design.chips.main.size['size_y'] = '2mm'\n",
    "\n",
    "gui = MetalGUI(design)"
   ]
  },
  {
   "cell_type": "markdown",
   "metadata": {},
   "source": [
    "Create a single transmon with one readout resonator and move it to the center of the chip previously defined."
   ]
  },
  {
   "cell_type": "code",
   "execution_count": null,
   "metadata": {
    "ExecuteTime": {
     "end_time": "2023-07-26T21:00:36.524047Z",
     "start_time": "2023-07-26T21:00:36.326794Z"
    },
    "scrolled": true
   },
   "outputs": [],
   "source": [
    "from qiskit_metal.qlibrary.qubits.transmon_pocket import TransmonPocket\n",
    "\n",
    "design.delete_all_components()\n",
    "\n",
    "q1 = TransmonPocket(design, 'Q1', options = dict(\n",
    "    pad_width = '425 um', \n",
    "    pocket_height = '650um',\n",
    "    connection_pads=dict(\n",
    "        readout = dict(loc_W=+1,loc_H=+1, pad_width='200um')\n",
    "    )))\n",
    "\n",
    "gui.rebuild()\n",
    "gui.autoscale()"
   ]
  },
  {
   "cell_type": "markdown",
   "metadata": {},
   "source": [
    "### Finite Element Eigenmode Analysis\n",
    "\n",
    "#### Setup\n",
    "\n",
    "Select the analysis you intend to run from the `qiskit_metal.analyses` collection.<br>\n",
    "Select the design to analyze and the tool to use for any external simulation."
   ]
  },
  {
   "cell_type": "code",
   "execution_count": null,
   "metadata": {
    "ExecuteTime": {
     "end_time": "2023-07-26T21:00:42.422254Z",
     "start_time": "2023-07-26T21:00:42.350255Z"
    }
   },
   "outputs": [],
   "source": [
    "from qiskit_metal.analyses.quantization import EPRanalysis"
   ]
  },
  {
   "cell_type": "code",
   "execution_count": null,
   "metadata": {
    "ExecuteTime": {
     "end_time": "2023-07-26T21:00:43.482705Z",
     "start_time": "2023-07-26T21:00:43.419706Z"
    }
   },
   "outputs": [],
   "source": [
    "eig_qb = EPRanalysis(design, \"hfss\")"
   ]
  },
  {
   "cell_type": "markdown",
   "metadata": {},
   "source": [
    "Review and update the convergence parameters and junction properties by executing following two cells. We exemplify three different methods to update the setup parameters."
   ]
  },
  {
   "cell_type": "code",
   "execution_count": null,
   "metadata": {
    "ExecuteTime": {
     "end_time": "2023-07-26T21:00:44.839745Z",
     "start_time": "2023-07-26T21:00:44.772372Z"
    }
   },
   "outputs": [],
   "source": [
    "eig_qb.sim.setup"
   ]
  },
  {
   "cell_type": "code",
   "execution_count": null,
   "metadata": {
    "ExecuteTime": {
     "end_time": "2023-07-26T21:01:22.532093Z",
     "start_time": "2023-07-26T21:01:22.460614Z"
    }
   },
   "outputs": [],
   "source": [
    "# example: update single setting\n",
    "eig_qb.sim.setup.max_passes = 6\n",
    "eig_qb.sim.setup.vars.Lj = '11 nH'\n",
    "# example: update multiple settings\n",
    "eig_qb.sim.setup_update(max_delta_f = 0.4, min_freq_ghz = 1.1)\n",
    "\n",
    "eig_qb.sim.setup"
   ]
  },
  {
   "cell_type": "markdown",
   "metadata": {},
   "source": [
    "#### Execute simulation and verify convergence and EM field\n",
    "Analyze a single qubit with shorted terminations. Then observe the frequency convergence plot. If not converging, you might want to increase the min_passes value to force the renderer to increase accuracy.\n",
    "\n",
    "You can use the method `run()` instead of `sim.run()` in the following cell if you want to run both eigenmode and epr analysis in a single step. If so, make sure to also tweak the setup for the epr analysis. The input parameters are otherwise the same for the two methods."
   ]
  },
  {
   "cell_type": "code",
   "execution_count": null,
   "metadata": {
    "ExecuteTime": {
     "end_time": "2023-07-26T21:02:08.370217Z",
     "start_time": "2023-07-26T21:01:31.419640Z"
    }
   },
   "outputs": [],
   "source": [
    "eig_qb.sim.run(name=\"Qbit\", components=['Q1'], open_terminations=[], box_plus_buffer = False)\n",
    "eig_qb.sim.plot_convergences()"
   ]
  },
  {
   "cell_type": "markdown",
   "metadata": {},
   "source": [
    "The last variables you pass to the `run()` or `sim.run()` methods, will be stored in the `sim.setup` dictionary under the key `run`. You can recall the information passed by either accessing the dictionary directly, or by using the print handle below."
   ]
  },
  {
   "cell_type": "code",
   "execution_count": null,
   "metadata": {
    "ExecuteTime": {
     "end_time": "2023-07-26T20:39:33.307154Z",
     "start_time": "2023-07-26T20:39:33.245192Z"
    }
   },
   "outputs": [],
   "source": [
    "# eig_qb.setup.run    <- direct access\n",
    "eig_qb.sim.print_run_args()"
   ]
  },
  {
   "cell_type": "markdown",
   "metadata": {},
   "source": [
    "(optional) Captures the renderer GUI"
   ]
  },
  {
   "cell_type": "code",
   "execution_count": null,
   "metadata": {
    "ExecuteTime": {
     "end_time": "2023-06-29T04:57:26.842671Z",
     "start_time": "2023-06-29T04:57:25.416374Z"
    }
   },
   "outputs": [],
   "source": [
    "eig_qb.sim.save_screenshot()"
   ]
  },
  {
   "cell_type": "markdown",
   "metadata": {},
   "source": [
    "(optional) Work directly with the convergence numbers"
   ]
  },
  {
   "cell_type": "code",
   "execution_count": null,
   "metadata": {
    "ExecuteTime": {
     "end_time": "2023-07-26T20:39:36.159138Z",
     "start_time": "2023-07-26T20:39:36.093340Z"
    }
   },
   "outputs": [],
   "source": [
    "eig_qb.sim.convergence_f"
   ]
  },
  {
   "cell_type": "markdown",
   "metadata": {},
   "source": [
    "(optional) You can re-run the analysis after varying the parameters.<br>\n",
    "Not passing the parameter `components` to the `sim.run()` method, skips the rendering and tries to run the analysis on the latest design. If a design is not found, the full metal design is rendered."
   ]
  },
  {
   "cell_type": "code",
   "execution_count": null,
   "metadata": {
    "ExecuteTime": {
     "end_time": "2023-07-26T20:40:10.122280Z",
     "start_time": "2023-07-26T20:39:38.221376Z"
    }
   },
   "outputs": [],
   "source": [
    "eig_qb.sim.setup.min_freq_ghz = 4\n",
    "eig_qb.sim.run()\n",
    "eig_qb.sim.convergence_f"
   ]
  },
  {
   "cell_type": "markdown",
   "metadata": {},
   "source": [
    "Verify that the Electro(magnetic) fields look realistic."
   ]
  },
  {
   "cell_type": "code",
   "execution_count": null,
   "metadata": {
    "ExecuteTime": {
     "end_time": "2023-06-29T04:38:15.673002Z",
     "start_time": "2023-06-29T04:38:13.004185Z"
    },
    "scrolled": true
   },
   "outputs": [],
   "source": [
    "eig_qb.sim.plot_fields('main')   # TODO:::: Ez, normal component.....decide which field typically on the qbit, or on the crossing between meanders\n",
    "eig_qb.sim.save_screenshot()"
   ]
  },
  {
   "cell_type": "markdown",
   "metadata": {},
   "source": [
    "(optional) clear the renderer by removing the fields"
   ]
  },
  {
   "cell_type": "code",
   "execution_count": null,
   "metadata": {
    "ExecuteTime": {
     "end_time": "2023-06-29T04:38:18.691480Z",
     "start_time": "2023-06-29T04:38:18.563769Z"
    }
   },
   "outputs": [],
   "source": [
    "eig_qb.sim.clear_fields()"
   ]
  },
  {
   "cell_type": "markdown",
   "metadata": {},
   "source": [
    "### EPR Analysis\n",
    "#### Setup\n",
    "Identify the non-linear (Josephson) junctions in the model. You will need to list the junctions in the epr setup.\n",
    "\n",
    "In this case there's only one junction, namely 'jj'. Let's see what we need to change in the default setup."
   ]
  },
  {
   "cell_type": "code",
   "execution_count": null,
   "metadata": {
    "ExecuteTime": {
     "end_time": "2023-07-26T20:40:13.929083Z",
     "start_time": "2023-07-26T20:40:13.869309Z"
    }
   },
   "outputs": [],
   "source": [
    "eig_qb.setup"
   ]
  },
  {
   "cell_type": "markdown",
   "metadata": {},
   "source": [
    "The name of the `Lj_variable` and `Cj_variable` match with our model. However it is missing the names of the shapes that identify the junction (`rect` and `line`). Look for those in the renderer and find the name. Then let's change the name (See below)."
   ]
  },
  {
   "cell_type": "code",
   "execution_count": null,
   "metadata": {
    "ExecuteTime": {
     "end_time": "2023-07-26T21:02:19.833763Z",
     "start_time": "2023-07-26T21:02:19.764612Z"
    }
   },
   "outputs": [],
   "source": [
    "eig_qb.setup.junctions.jj.rect = 'JJ_rect_Lj_Q1_rect_jj'\n",
    "eig_qb.setup.junctions.jj.line = 'JJ_Lj_Q1_rect_jj_'\n",
    "eig_qb.setup"
   ]
  },
  {
   "cell_type": "markdown",
   "metadata": {},
   "source": [
    "We will now run epr as a single step. On screen you will observe various information in this order:\n",
    "* stored energy = Electric and magnetic energy stored in the substrate and the system as a whole.\n",
    "* EPR analysis results for all modes/variations.\n",
    "* Spectrum analysis.\n",
    "* Hamiltonian report."
   ]
  },
  {
   "cell_type": "code",
   "execution_count": null,
   "metadata": {
    "ExecuteTime": {
     "end_time": "2023-07-26T20:59:38.483675Z",
     "start_time": "2023-07-26T20:59:38.389506Z"
    }
   },
   "outputs": [],
   "source": [
    "eig_qb.setup.junctions"
   ]
  },
  {
   "cell_type": "code",
   "execution_count": null,
   "metadata": {
    "ExecuteTime": {
     "end_time": "2023-07-26T21:02:26.503366Z",
     "start_time": "2023-07-26T21:02:22.596709Z"
    }
   },
   "outputs": [],
   "source": [
    "\n",
    "\n",
    "eig_qb.run_epr()\n",
    "\n",
    "#### equivalent individual calls\n",
    "# s = self.setup\n",
    "# self.epr_start()\n",
    "# eig_qb.get_stored_energy()\n",
    "# eig_qb.run_analysis()\n",
    "# eig_qb.spectrum_analysis(s.cos_trunc, s.fock_trunc)\n",
    "# eig_qb.report_hamiltonian(s.swp_variable)"
   ]
  },
  {
   "cell_type": "markdown",
   "metadata": {},
   "source": [
    "# 2. Analyze the CPW resonator by itself\n",
    "### Update the design in Metal\n",
    "Connect the transmon to a CPW. <br>\n",
    "The other end of the CPW connects to an open to ground termination."
   ]
  },
  {
   "cell_type": "code",
   "execution_count": null,
   "metadata": {
    "ExecuteTime": {
     "end_time": "2023-07-26T20:40:28.595568Z",
     "start_time": "2023-07-26T20:40:28.365262Z"
    }
   },
   "outputs": [],
   "source": [
    "from qiskit_metal.qlibrary.terminations.open_to_ground import OpenToGround\n",
    "from qiskit_metal.qlibrary.tlines.meandered import RouteMeander\n",
    "otg = OpenToGround(design, 'open_to_ground', options=dict(pos_x='1.75mm',  pos_y='0um', orientation='0'))\n",
    "RouteMeander(design, 'readout',  Dict(\n",
    "        total_length='6 mm',\n",
    "        hfss_wire_bonds = True,\n",
    "        fillet='90 um',\n",
    "        lead = dict(start_straight='100um'),\n",
    "        pin_inputs=Dict(\n",
    "            start_pin=Dict(component='Q1', pin='readout'),\n",
    "            end_pin=Dict(component='open_to_ground', pin='open')), ))\n",
    "\n",
    "gui.rebuild()\n",
    "gui.autoscale()"
   ]
  },
  {
   "cell_type": "markdown",
   "metadata": {},
   "source": [
    "### Finite Element Eigenmode Analysis\n",
    "\n",
    "#### Setup\n",
    "\n",
    "Create a separate analysis object, dedicated to the readout. This allows to retain the Qubit session active, in case we will later need to tweak the design and repeat the simulation. When different renderers are available you could even consider using different more appopriate ones for each simulation steps of this notebook, but for now we will be using the same one."
   ]
  },
  {
   "cell_type": "code",
   "execution_count": null,
   "metadata": {
    "ExecuteTime": {
     "end_time": "2023-07-26T20:40:29.583508Z",
     "start_time": "2023-07-26T20:40:29.516466Z"
    }
   },
   "outputs": [],
   "source": [
    "eig_rd = EPRanalysis(design, \"hfss\")"
   ]
  },
  {
   "cell_type": "markdown",
   "metadata": {},
   "source": [
    "For the resonator analysis we will use the default setup. Youn can feel free to edit it the same way we did in section 1.\n",
    "\n",
    "#### Execute simulation and verify convergence and EM field\n",
    "Analyze the readout in isolation. Select the readout and terminate it with an open on both ends. Note that we are selecting for this analysis both the `readout` component and the `open_to_ground` component. The `open_to_ground` compoent might feel redundant because we are specifying in that open in the `open_terminations`, and the end converging reult is indeed the same. however the `open_to_ground` appears to help the system to ceonverge faster, so we keep it in there."
   ]
  },
  {
   "cell_type": "code",
   "execution_count": null,
   "metadata": {
    "ExecuteTime": {
     "end_time": "2023-07-26T20:41:31.660050Z",
     "start_time": "2023-07-26T20:40:30.669298Z"
    }
   },
   "outputs": [],
   "source": [
    "eig_rd.sim.run(name=\"Readout\",\n",
    "               components=['readout', 'open_to_ground'],\n",
    "               open_terminations=[('readout', 'start'), ('readout', 'end')])\n",
    "eig_rd.sim.plot_convergences()"
   ]
  },
  {
   "cell_type": "code",
   "execution_count": null,
   "metadata": {},
   "outputs": [],
   "source": [
    "eig_rd.sim.save_screenshot()  # optional"
   ]
  },
  {
   "cell_type": "markdown",
   "metadata": {},
   "source": [
    "Recover eigenmode frequencies for each variation."
   ]
  },
  {
   "cell_type": "code",
   "execution_count": null,
   "metadata": {
    "ExecuteTime": {
     "end_time": "2023-07-26T20:41:40.629095Z",
     "start_time": "2023-07-26T20:41:40.533149Z"
    }
   },
   "outputs": [],
   "source": [
    "eig_rd.get_frequencies()"
   ]
  },
  {
   "cell_type": "markdown",
   "metadata": {},
   "source": [
    "Display the Ansys modeler window and plot the E-field on the chip's surface."
   ]
  },
  {
   "cell_type": "code",
   "execution_count": null,
   "metadata": {},
   "outputs": [],
   "source": [
    "eig_rd.sim.plot_fields('main')\n",
    "eig_rd.sim.save_screenshot()"
   ]
  },
  {
   "cell_type": "markdown",
   "metadata": {},
   "source": [
    "#### Refine\n",
    "\n",
    "If convergence is not complete, or the EM field is unclear, update the number of passes and re-run the flow (below repeated for convenience)"
   ]
  },
  {
   "cell_type": "code",
   "execution_count": null,
   "metadata": {},
   "outputs": [],
   "source": [
    "eig_rd.sim.setup.max_passes = 15   # update single setting\n",
    "eig_rd.sim.run()\n",
    "eig_rd.sim.plot_convergences()"
   ]
  },
  {
   "cell_type": "markdown",
   "metadata": {},
   "source": [
    "Display the Ansys modeler window again and plot the E-field on the chip's surface with this updated number of passes. <br>\n",
    "Note that the bright areas have become much smoother compared to the previous image, indicating better convergence."
   ]
  },
  {
   "cell_type": "code",
   "execution_count": null,
   "metadata": {},
   "outputs": [],
   "source": [
    "eig_rd.sim.plot_fields('main')\n",
    "eig_rd.sim.save_screenshot()"
   ]
  },
  {
   "cell_type": "markdown",
   "metadata": {},
   "source": [
    "### EPR Analysis\n",
    "Find the electric and magnetic energy stored in the readout system."
   ]
  },
  {
   "cell_type": "code",
   "execution_count": null,
   "metadata": {
    "ExecuteTime": {
     "end_time": "2023-07-26T20:41:47.520659Z",
     "start_time": "2023-07-26T20:41:46.893474Z"
    }
   },
   "outputs": [],
   "source": [
    "eig_rd.run_epr(no_junctions = True)"
   ]
  },
  {
   "cell_type": "markdown",
   "metadata": {},
   "source": [
    "# 3. Analyze the combined transmon + CPW resonator system\n",
    "\n",
    "### Finite Element Eigenmode Analysis\n",
    "\n",
    "#### Setup\n",
    "\n",
    "Create a separate analysis object for the combined qbit+readout."
   ]
  },
  {
   "cell_type": "code",
   "execution_count": null,
   "metadata": {
    "ExecuteTime": {
     "end_time": "2023-07-26T20:52:25.186235Z",
     "start_time": "2023-07-26T20:52:25.124816Z"
    }
   },
   "outputs": [],
   "source": [
    "eig_qres = EPRanalysis(design, \"hfss\")"
   ]
  },
  {
   "cell_type": "markdown",
   "metadata": {},
   "source": [
    "For the resonator analysis we look for 2 eigenmodes - one with stronger fields near the transmon, the other with stronger fields near the resonator. Therefore let's update the setup accordingly."
   ]
  },
  {
   "cell_type": "code",
   "execution_count": null,
   "metadata": {
    "ExecuteTime": {
     "end_time": "2023-07-26T20:41:58.956350Z",
     "start_time": "2023-07-26T20:41:58.892131Z"
    }
   },
   "outputs": [],
   "source": [
    "eig_qres.sim.setup.n_modes = 2\n",
    "eig_qres.sim.setup"
   ]
  },
  {
   "cell_type": "markdown",
   "metadata": {},
   "source": [
    "#### Execute simulation and verify convergence and EM field\n",
    "Analyze the qubit+readout. Select the qubit and the readout, then finalize with open termination on the other pins."
   ]
  },
  {
   "cell_type": "code",
   "execution_count": null,
   "metadata": {
    "ExecuteTime": {
     "end_time": "2023-07-26T20:52:52.006963Z",
     "start_time": "2023-07-26T20:52:28.724829Z"
    }
   },
   "outputs": [],
   "source": [
    "eig_qres.sim.run(name=\"TransmonResonator\",\n",
    "                 components=['Q1', 'readout', 'open_to_ground'],\n",
    "                 open_terminations=[('readout', 'end')])\n",
    "eig_qres.sim.plot_convergences()"
   ]
  },
  {
   "cell_type": "code",
   "execution_count": null,
   "metadata": {
    "ExecuteTime": {
     "end_time": "2023-07-26T19:55:28.467076Z",
     "start_time": "2023-07-26T19:55:28.467076Z"
    }
   },
   "outputs": [],
   "source": [
    "eig_qres.sim.save_screenshot()  # optional"
   ]
  },
  {
   "cell_type": "markdown",
   "metadata": {},
   "source": [
    "Display the Ansys modeler window again and plot the E-field on the chip's surface. you can select which of the two modes to visualize."
   ]
  },
  {
   "cell_type": "code",
   "execution_count": null,
   "metadata": {},
   "outputs": [],
   "source": [
    "eig_qres.sim.plot_fields('main', eigenmode=1)\n",
    "eig_qres.sim.save_screenshot()"
   ]
  },
  {
   "cell_type": "markdown",
   "metadata": {},
   "source": [
    "### EPR Analysis"
   ]
  },
  {
   "cell_type": "markdown",
   "metadata": {},
   "source": [
    "Similarly to section 1, we need to pass to the renderer the names of the shapes that identify the junction (`rect` and `line`). These should be the same as in section 1, or you can look again for those in the renderer."
   ]
  },
  {
   "cell_type": "code",
   "execution_count": null,
   "metadata": {
    "ExecuteTime": {
     "end_time": "2023-07-26T20:50:35.731636Z",
     "start_time": "2023-07-26T20:50:35.661053Z"
    }
   },
   "outputs": [],
   "source": [
    "eig_qres.setup.junctions.jj.rect = 'JJ_rect_Lj_Q1_rect_jj'\n",
    "eig_qres.setup.junctions.jj.line = 'JJ_Lj_Q1_rect_jj_'\n",
    "eig_qres.setup"
   ]
  },
  {
   "cell_type": "markdown",
   "metadata": {},
   "source": [
    "We will now run epr as a single step. On screen you will observe various information in this order:\n",
    "* stored energy = Electric and magnetic energy stored in the substrate and the system as a whole.\n",
    "* EPR analysis results for all modes/variations.\n",
    "* Spectrum analysis.\n",
    "* Hamiltonian report."
   ]
  },
  {
   "cell_type": "code",
   "execution_count": null,
   "metadata": {
    "ExecuteTime": {
     "end_time": "2023-07-26T20:50:38.249739Z",
     "start_time": "2023-07-26T20:50:38.157032Z"
    }
   },
   "outputs": [],
   "source": [
    "eig_qres.run_epr()"
   ]
  },
  {
   "cell_type": "markdown",
   "metadata": {},
   "source": [
    "Once you are sure you are done with the qubit analysis, please explicitly release the Ansys session to allow for a smooth close of the external tool."
   ]
  },
  {
   "cell_type": "code",
   "execution_count": null,
   "metadata": {},
   "outputs": [],
   "source": [
    "eig_qb.sim.close()"
   ]
  },
  {
   "cell_type": "code",
   "execution_count": null,
   "metadata": {},
   "outputs": [],
   "source": [
    "eig_rd.sim.close()"
   ]
  },
  {
   "cell_type": "code",
   "execution_count": null,
   "metadata": {},
   "outputs": [],
   "source": [
    "eig_qres.sim.close()"
   ]
  },
  {
   "cell_type": "markdown",
   "metadata": {},
   "source": [
    "# 4. Analyze a coupled 2-transmon system\n",
    "### Create the design\n",
    "\n",
    "This is a different system than the one analyzed in sections 1,2,3. Therefore, let's start by deleting the design currntly in the Qiskit Metal GUI (if any)."
   ]
  },
  {
   "cell_type": "code",
   "execution_count": null,
   "metadata": {
    "ExecuteTime": {
     "end_time": "2023-07-26T20:44:22.214712Z",
     "start_time": "2023-07-26T20:44:22.140901Z"
    }
   },
   "outputs": [],
   "source": [
    "design.delete_all_components()"
   ]
  },
  {
   "cell_type": "markdown",
   "metadata": {},
   "source": [
    "Next, we create the `TwoTransmon` design, consisting of 2 transmons connected by a short coupler."
   ]
  },
  {
   "cell_type": "code",
   "execution_count": 4,
   "metadata": {
    "ExecuteTime": {
     "end_time": "2023-07-26T21:03:09.232187Z",
     "start_time": "2023-07-26T21:03:08.934671Z"
    }
   },
   "outputs": [],
   "source": [
    "from qiskit_metal.qlibrary.qubits.transmon_pocket import TransmonPocket\n",
    "from qiskit_metal.qlibrary.tlines.straight_path import RouteStraight\n",
    "\n",
    "q1 = TransmonPocket(design, 'Q1', options = dict(\n",
    "    pad_width = '425 um', \n",
    "    pocket_height = '650um',\n",
    "    connection_pads=dict(\n",
    "        readout = dict(loc_W=+1,loc_H=+1, pad_width='200um')\n",
    "    )))\n",
    "\n",
    "q2 = TransmonPocket(design, 'Q2', options = dict(\n",
    "    pos_x = '1.0 mm',\n",
    "    pad_width = '425 um', \n",
    "    pocket_height = '650um',\n",
    "    connection_pads=dict(\n",
    "        readout = dict(loc_W=-1,loc_H=+1, pad_width='200um')\n",
    "    )))\n",
    "\n",
    "coupler = RouteStraight(design, 'coupler', Dict(hfss_wire_bonds = True,\n",
    "        pin_inputs=Dict(\n",
    "            start_pin=Dict(component='Q1', pin='readout'),\n",
    "            end_pin=Dict(component='Q2', pin='readout')), ))\n",
    "\n",
    "gui.rebuild()\n",
    "gui.autoscale()"
   ]
  },
  {
   "cell_type": "markdown",
   "metadata": {},
   "source": [
    "Let's observe the current table describing the junctions in the qiskit metal design"
   ]
  },
  {
   "cell_type": "code",
   "execution_count": 30,
   "metadata": {
    "ExecuteTime": {
     "end_time": "2023-07-26T21:35:46.094403Z",
     "start_time": "2023-07-26T21:35:46.020199Z"
    }
   },
   "outputs": [
    {
     "data": {
      "text/html": [
       "<div>\n",
       "<style scoped>\n",
       "    .dataframe tbody tr th:only-of-type {\n",
       "        vertical-align: middle;\n",
       "    }\n",
       "\n",
       "    .dataframe tbody tr th {\n",
       "        vertical-align: top;\n",
       "    }\n",
       "\n",
       "    .dataframe thead th {\n",
       "        text-align: right;\n",
       "    }\n",
       "</style>\n",
       "<table border=\"1\" class=\"dataframe\">\n",
       "  <thead>\n",
       "    <tr style=\"text-align: right;\">\n",
       "      <th></th>\n",
       "      <th>component</th>\n",
       "      <th>name</th>\n",
       "      <th>geometry</th>\n",
       "      <th>layer</th>\n",
       "      <th>subtract</th>\n",
       "      <th>helper</th>\n",
       "      <th>chip</th>\n",
       "      <th>width</th>\n",
       "      <th>hfss_inductance</th>\n",
       "      <th>hfss_capacitance</th>\n",
       "      <th>...</th>\n",
       "      <th>hfss_mesh_kw_jj</th>\n",
       "      <th>q3d_inductance</th>\n",
       "      <th>q3d_capacitance</th>\n",
       "      <th>q3d_resistance</th>\n",
       "      <th>q3d_mesh_kw_jj</th>\n",
       "      <th>gds_cell_name</th>\n",
       "      <th>aedt_q3d_inductance</th>\n",
       "      <th>aedt_q3d_capacitance</th>\n",
       "      <th>aedt_hfss_inductance</th>\n",
       "      <th>aedt_hfss_capacitance</th>\n",
       "    </tr>\n",
       "  </thead>\n",
       "  <tbody>\n",
       "    <tr>\n",
       "      <th>0</th>\n",
       "      <td>1</td>\n",
       "      <td>rect_jj</td>\n",
       "      <td>LINESTRING (0.00000 -0.01500, 0.00000 0.01500)</td>\n",
       "      <td>1</td>\n",
       "      <td>False</td>\n",
       "      <td>False</td>\n",
       "      <td>main</td>\n",
       "      <td>0.02</td>\n",
       "      <td>Lj1</td>\n",
       "      <td>Cj1</td>\n",
       "      <td>...</td>\n",
       "      <td>0.000007</td>\n",
       "      <td>10nH</td>\n",
       "      <td>0</td>\n",
       "      <td>0</td>\n",
       "      <td>0.000007</td>\n",
       "      <td>my_other_junction</td>\n",
       "      <td>1.000000e-08</td>\n",
       "      <td>0</td>\n",
       "      <td>1.000000e-08</td>\n",
       "      <td>0</td>\n",
       "    </tr>\n",
       "    <tr>\n",
       "      <th>1</th>\n",
       "      <td>2</td>\n",
       "      <td>rect_jj</td>\n",
       "      <td>LINESTRING (1.00000 -0.01500, 1.00000 0.01500)</td>\n",
       "      <td>1</td>\n",
       "      <td>False</td>\n",
       "      <td>False</td>\n",
       "      <td>main</td>\n",
       "      <td>0.02</td>\n",
       "      <td>Lj2</td>\n",
       "      <td>Cj2</td>\n",
       "      <td>...</td>\n",
       "      <td>0.000007</td>\n",
       "      <td>10nH</td>\n",
       "      <td>0</td>\n",
       "      <td>0</td>\n",
       "      <td>0.000007</td>\n",
       "      <td>my_other_junction</td>\n",
       "      <td>1.000000e-08</td>\n",
       "      <td>0</td>\n",
       "      <td>1.000000e-08</td>\n",
       "      <td>0</td>\n",
       "    </tr>\n",
       "  </tbody>\n",
       "</table>\n",
       "<p>2 rows × 21 columns</p>\n",
       "</div>"
      ],
      "text/plain": [
       "  component     name                                        geometry  layer  \\\n",
       "0         1  rect_jj  LINESTRING (0.00000 -0.01500, 0.00000 0.01500)      1   \n",
       "1         2  rect_jj  LINESTRING (1.00000 -0.01500, 1.00000 0.01500)      1   \n",
       "\n",
       "   subtract  helper  chip  width hfss_inductance hfss_capacitance  ...  \\\n",
       "0     False   False  main   0.02             Lj1              Cj1  ...   \n",
       "1     False   False  main   0.02             Lj2              Cj2  ...   \n",
       "\n",
       "   hfss_mesh_kw_jj  q3d_inductance q3d_capacitance  q3d_resistance  \\\n",
       "0         0.000007            10nH               0               0   \n",
       "1         0.000007            10nH               0               0   \n",
       "\n",
       "   q3d_mesh_kw_jj      gds_cell_name aedt_q3d_inductance  \\\n",
       "0        0.000007  my_other_junction        1.000000e-08   \n",
       "1        0.000007  my_other_junction        1.000000e-08   \n",
       "\n",
       "   aedt_q3d_capacitance  aedt_hfss_inductance  aedt_hfss_capacitance  \n",
       "0                     0          1.000000e-08                      0  \n",
       "1                     0          1.000000e-08                      0  \n",
       "\n",
       "[2 rows x 21 columns]"
      ]
     },
     "execution_count": 30,
     "metadata": {},
     "output_type": "execute_result"
    }
   ],
   "source": [
    "design.qgeometry.tables['junction']"
   ]
  },
  {
   "cell_type": "markdown",
   "metadata": {},
   "source": [
    "You can observe in the table above that every junction has been assigned a default inductance, capacitance and resistance values, based on the originating component class `default_options`. In this example we intend to replace those values with a variable name, which will later be set directly in the renderer. Therefore, let's proceed with updating these values in the qubit instances, and then propagate the update to the table with a `rebuild()`.\n",
    "After executing the cell below, you can observe the change by re-executing the cell above."
   ]
  },
  {
   "cell_type": "code",
   "execution_count": 21,
   "metadata": {
    "ExecuteTime": {
     "end_time": "2023-07-26T21:08:51.874093Z",
     "start_time": "2023-07-26T21:08:51.804528Z"
    }
   },
   "outputs": [
    {
     "data": {
      "text/plain": [
       "{'pos_x': '0.0um',\n",
       " 'pos_y': '0.0um',\n",
       " 'orientation': '0.0',\n",
       " 'chip': 'main',\n",
       " 'layer': '1',\n",
       " 'connection_pads': {'readout': {'pad_gap': '15um',\n",
       "   'pad_width': '200um',\n",
       "   'pad_height': '30um',\n",
       "   'pad_cpw_shift': '5um',\n",
       "   'pad_cpw_extent': '25um',\n",
       "   'cpw_width': 'cpw_width',\n",
       "   'cpw_gap': 'cpw_gap',\n",
       "   'cpw_extend': '100um',\n",
       "   'pocket_extent': '5um',\n",
       "   'pocket_rise': '65um',\n",
       "   'loc_W': 1,\n",
       "   'loc_H': 1}},\n",
       " 'pad_gap': '30um',\n",
       " 'inductor_width': '20um',\n",
       " 'pad_width': '425 um',\n",
       " 'pad_height': '90um',\n",
       " 'pocket_width': '650um',\n",
       " 'pocket_height': '650um',\n",
       " 'hfss_wire_bonds': False,\n",
       " 'q3d_wire_bonds': False,\n",
       " 'aedt_q3d_wire_bonds': False,\n",
       " 'aedt_hfss_wire_bonds': False,\n",
       " 'hfss_inductance': 'Lj1',\n",
       " 'hfss_capacitance': 'Cj1',\n",
       " 'hfss_resistance': 0,\n",
       " 'hfss_mesh_kw_jj': 7e-06,\n",
       " 'q3d_inductance': '10nH',\n",
       " 'q3d_capacitance': 0,\n",
       " 'q3d_resistance': 0,\n",
       " 'q3d_mesh_kw_jj': 7e-06,\n",
       " 'gds_cell_name': 'my_other_junction',\n",
       " 'aedt_q3d_inductance': 1e-08,\n",
       " 'aedt_q3d_capacitance': 0,\n",
       " 'aedt_hfss_inductance': 1e-08,\n",
       " 'aedt_hfss_capacitance': 0}"
      ]
     },
     "execution_count": 21,
     "metadata": {},
     "output_type": "execute_result"
    }
   ],
   "source": [
    "qcomps['Q1'].options"
   ]
  },
  {
   "cell_type": "code",
   "execution_count": 6,
   "metadata": {
    "ExecuteTime": {
     "end_time": "2023-07-26T21:03:27.974290Z",
     "start_time": "2023-07-26T21:03:27.748694Z"
    }
   },
   "outputs": [],
   "source": [
    "# TODO: fold this inside either an analysis class method, or inside the analysis class setup\n",
    "\n",
    "qcomps = design.components  # short handle (alias)\n",
    "qcomps['Q1'].options['hfss_inductance'] = 'Lj1'\n",
    "qcomps['Q1'].options['hfss_capacitance'] = 'Cj1'\n",
    "qcomps['Q2'].options['hfss_inductance'] = 'Lj2'\n",
    "qcomps['Q2'].options['hfss_capacitance'] = 'Cj2'\n",
    "gui.rebuild()  # line needed to propagate the updates from the qubit instance into the junction design table\n",
    "gui.autoscale()"
   ]
  },
  {
   "cell_type": "markdown",
   "metadata": {},
   "source": [
    "### Finite Element Eigenmode Analysis\n",
    "\n",
    "#### Setup\n",
    "\n",
    "Let's start the analysis by creating the appropriate analysis object."
   ]
  },
  {
   "cell_type": "code",
   "execution_count": 7,
   "metadata": {
    "ExecuteTime": {
     "end_time": "2023-07-26T21:03:32.858131Z",
     "start_time": "2023-07-26T21:03:32.796131Z"
    }
   },
   "outputs": [],
   "source": [
    "from qiskit_metal.analyses.quantization import EPRanalysis\n",
    "eig_2qb = EPRanalysis(design, \"hfss\")"
   ]
  },
  {
   "cell_type": "markdown",
   "metadata": {},
   "source": [
    "Now let us update the setup of this analysis to reflect what we plan to do:\n",
    "* define the variables that we have assigned to the inductance and capacitance of the junctions;\n",
    "* increase accuracy of the convergence;\n",
    "* observe the eigenmode corresponding to both qubits."
   ]
  },
  {
   "cell_type": "code",
   "execution_count": 23,
   "metadata": {
    "ExecuteTime": {
     "end_time": "2023-07-26T21:33:47.412361Z",
     "start_time": "2023-07-26T21:33:47.347852Z"
    }
   },
   "outputs": [
    {
     "data": {
      "text/plain": [
       "{'name': 'Setup',\n",
       " 'reuse_selected_design': True,\n",
       " 'reuse_setup': True,\n",
       " 'min_freq_ghz': 1,\n",
       " 'n_modes': 2,\n",
       " 'max_delta_f': 0.05,\n",
       " 'max_passes': 8,\n",
       " 'min_passes': 1,\n",
       " 'min_converged': 1,\n",
       " 'pct_refinement': 30,\n",
       " 'basis_order': 1,\n",
       " 'vars': {'Lj1': '13 nH', 'Cj1': '0 fF', 'Lj2': '9 nH', 'Cj2': '0 fF'},\n",
       " 'run': {'name': 'TwoTransmons',\n",
       "  'components': ['coupler', 'Q1', 'Q2'],\n",
       "  'open_terminations': None,\n",
       "  'port_list': None,\n",
       "  'jj_to_port': None,\n",
       "  'ignored_jjs': None,\n",
       "  'box_plus_buffer': True}}"
      ]
     },
     "execution_count": 23,
     "metadata": {},
     "output_type": "execute_result"
    }
   ],
   "source": [
    "eig_2qb.sim.setup.max_passes = 8\n",
    "eig_2qb.sim.setup.max_delta_f = 0.05\n",
    "eig_2qb.sim.setup.n_modes = 2\n",
    "eig_2qb.sim.setup.vars = Dict(Lj1= '13 nH', Cj1= '0 fF',\n",
    "                           Lj2= '9 nH', Cj2= '0 fF')\n",
    "eig_2qb.sim.setup"
   ]
  },
  {
   "cell_type": "markdown",
   "metadata": {},
   "source": [
    "By default, the analysis will be done on all components that we will list in the `run_sim()` method, but the analysis needs to know how much of the ground plane around the qubit to consider. One could use the declared chip dimension by passing the parameter `bux_plus_buffer = False` to the `run_sim()` method. However, its default (when said parameter is omitted) is to consider the ground plane to be as big as the minimum enclosing rectangle plus a set buffer. The default buffer value is `200um`, while in the cell below we will increase as an example that buffer to `500um`."
   ]
  },
  {
   "cell_type": "code",
   "execution_count": 9,
   "metadata": {
    "ExecuteTime": {
     "end_time": "2023-07-26T21:03:39.512327Z",
     "start_time": "2023-07-26T21:03:39.444355Z"
    }
   },
   "outputs": [
    {
     "data": {
      "text/plain": [
       "{'Lj': '10nH',\n",
       " 'Cj': 0,\n",
       " '_Rj': 0,\n",
       " 'max_mesh_length_jj': '7um',\n",
       " 'max_mesh_length_port': '7um',\n",
       " 'project_path': None,\n",
       " 'project_name': None,\n",
       " 'design_name': None,\n",
       " 'x_buffer_width_mm': 0.5,\n",
       " 'y_buffer_width_mm': 0.5,\n",
       " 'wb_threshold': '400um',\n",
       " 'wb_offset': '0um',\n",
       " 'wb_size': 5,\n",
       " 'plot_ansys_fields_options': {'name': 'NAME:Mag_E1',\n",
       "  'UserSpecifyName': '0',\n",
       "  'UserSpecifyFolder': '0',\n",
       "  'QuantityName': 'Mag_E',\n",
       "  'PlotFolder': 'E Field',\n",
       "  'StreamlinePlot': 'False',\n",
       "  'AdjacentSidePlot': 'False',\n",
       "  'FullModelPlot': 'False',\n",
       "  'IntrinsicVar': \"Phase='0deg'\",\n",
       "  'PlotGeomInfo_0': '1',\n",
       "  'PlotGeomInfo_1': 'Surface',\n",
       "  'PlotGeomInfo_2': 'FacesList',\n",
       "  'PlotGeomInfo_3': '1'}}"
      ]
     },
     "execution_count": 9,
     "metadata": {},
     "output_type": "execute_result"
    }
   ],
   "source": [
    "# TODO: fold this inside either an analysis class method, or inside the analysis class setup\n",
    "\n",
    "eig_2qb.sim.renderer.options['x_buffer_width_mm'] = 0.5\n",
    "eig_2qb.sim.renderer.options['y_buffer_width_mm'] = 0.5\n",
    "eig_2qb.sim.renderer.options"
   ]
  },
  {
   "cell_type": "markdown",
   "metadata": {},
   "source": [
    "Let's finally run the cap extraction simulation and observe the convergence."
   ]
  },
  {
   "cell_type": "code",
   "execution_count": 10,
   "metadata": {
    "ExecuteTime": {
     "end_time": "2023-07-26T21:04:44.424740Z",
     "start_time": "2023-07-26T21:03:43.780684Z"
    }
   },
   "outputs": [
    {
     "name": "stderr",
     "output_type": "stream",
     "text": [
      "INFO 05:03PM [connect_project]: Connecting to Ansys Desktop API...\n",
      "INFO 05:03PM [load_ansys_project]: \tOpened Ansys App\n",
      "INFO 05:03PM [load_ansys_project]: \tOpened Ansys Desktop v2021.2.0\n",
      "INFO 05:03PM [load_ansys_project]: \tOpened Ansys Project\n",
      "\tFolder:    C:/Users/WANGLAB/Desktop/Ebru/\n",
      "\tProject:   Fluxonium_experiment\n",
      "INFO 05:03PM [connect_design]: \tOpened active design\n",
      "\tDesign:    Qbit_hfss [Solution type: Eigenmode]\n",
      "INFO 05:03PM [get_setup]: \tOpened setup `Setup`  (<class 'pyEPR.ansys.HfssEMSetup'>)\n",
      "INFO 05:03PM [connect]: \tConnected to project \"Fluxonium_experiment\" and design \"Qbit_hfss\" 😀 \n",
      "\n",
      "INFO 05:03PM [connect_design]: \tOpened active design\n",
      "\tDesign:    TwoTransmons_hfss [Solution type: Eigenmode]\n",
      "INFO 05:03PM [get_setup]: \tOpened setup `Setup`  (<class 'pyEPR.ansys.HfssEMSetup'>)\n",
      "INFO 05:03PM [analyze]: Analyzing setup Setup\n",
      "05:04PM 44s INFO [get_f_convergence]: Saved convergences to C:\\Users\\WANGLAB\\Documents\\GitHub\\qiskit-metal\\tutorials\\4 Analysis\\A. Core - EM and quantization\\hfss_eig_f_convergence.csv\n"
     ]
    }
   ],
   "source": [
    "eig_2qb.sim.run(name=\"TwoTransmons\",\n",
    "                components=['coupler', 'Q1', 'Q2'])"
   ]
  },
  {
   "cell_type": "code",
   "execution_count": null,
   "metadata": {
    "ExecuteTime": {
     "end_time": "2023-07-26T20:24:07.999111Z",
     "start_time": "2023-07-26T20:24:07.701711Z"
    }
   },
   "outputs": [],
   "source": [
    "eig_2qb.sim.plot_convergences()"
   ]
  },
  {
   "cell_type": "code",
   "execution_count": null,
   "metadata": {
    "ExecuteTime": {
     "end_time": "2023-07-26T20:24:11.882803Z",
     "start_time": "2023-07-26T20:24:10.469704Z"
    }
   },
   "outputs": [],
   "source": [
    "eig_2qb.sim.save_screenshot()  # optional"
   ]
  },
  {
   "cell_type": "markdown",
   "metadata": {},
   "source": [
    "Display the Ansys modeler window again and plot the E-field on the chip's surface. Since we have analyzed 2 modes, you will need to select which mode to visualize. The default is mode 1, but the mode can inclusively be any integer between 1 and `setup.n_modes`."
   ]
  },
  {
   "cell_type": "code",
   "execution_count": null,
   "metadata": {},
   "outputs": [],
   "source": [
    "eig_2qb.sim.plot_fields('main', eigenmode=2)\n",
    "eig_2qb.sim.save_screenshot()"
   ]
  },
  {
   "cell_type": "markdown",
   "metadata": {},
   "source": [
    "### EPR Analysis\n",
    "#### Setup\n",
    "Identify the non-linear (Josephson) junctions in the model. in this case there are 2 junctions, which we will refer to as `jj1` and `jj2`. Also define the dissipative reference shapes. Remove the default junction and create the two."
   ]
  },
  {
   "cell_type": "code",
   "execution_count": 24,
   "metadata": {
    "ExecuteTime": {
     "end_time": "2023-07-26T21:34:12.849091Z",
     "start_time": "2023-07-26T21:34:12.788539Z"
    }
   },
   "outputs": [],
   "source": [
    "del eig_2qb.setup.junctions['jj']"
   ]
  },
  {
   "cell_type": "code",
   "execution_count": 11,
   "metadata": {
    "ExecuteTime": {
     "end_time": "2023-07-26T21:04:52.144293Z",
     "start_time": "2023-07-26T21:04:52.076232Z"
    },
    "scrolled": true
   },
   "outputs": [
    {
     "data": {
      "text/plain": [
       "{'junctions': {'jj': {'Lj_variable': 'Lj',\n",
       "   'Cj_variable': 'Cj',\n",
       "   'rect': '',\n",
       "   'line': ''},\n",
       "  'jj1': {'rect': 'JJ_rect_Lj_Q1_rect_jj',\n",
       "   'line': 'JJ_Lj_Q1_rect_jj_',\n",
       "   'Lj_variable': 'Lj1',\n",
       "   'Cj_variable': 'Cj1'},\n",
       "  'jj2': {'rect': 'JJ_rect_Lj_Q2_rect_jj',\n",
       "   'line': 'JJ_Lj_Q2_rect_jj_',\n",
       "   'Lj_variable': 'Lj2',\n",
       "   'Cj_variable': 'Cj2'}},\n",
       " 'dissipatives': {'dielectrics_bulk': ['main']},\n",
       " 'cos_trunc': 8,\n",
       " 'fock_trunc': 7,\n",
       " 'sweep_variable': 'Lj1'}"
      ]
     },
     "execution_count": 11,
     "metadata": {},
     "output_type": "execute_result"
    }
   ],
   "source": [
    "eig_2qb.setup.junctions.jj1 = Dict(rect='JJ_rect_Lj_Q1_rect_jj', line='JJ_Lj_Q1_rect_jj_',\n",
    "                  Lj_variable='Lj1', Cj_variable='Cj1')\n",
    "eig_2qb.setup.junctions.jj2 = Dict(rect='JJ_rect_Lj_Q2_rect_jj', line='JJ_Lj_Q2_rect_jj_',\n",
    "                  Lj_variable='Lj2', Cj_variable='Cj2')\n",
    "eig_2qb.setup.sweep_variable = 'Lj1'\n",
    "eig_2qb.setup"
   ]
  },
  {
   "cell_type": "code",
   "execution_count": 29,
   "metadata": {
    "ExecuteTime": {
     "end_time": "2023-07-26T21:35:05.378653Z",
     "start_time": "2023-07-26T21:35:05.314710Z"
    }
   },
   "outputs": [
    {
     "data": {
      "text/plain": [
       "{}"
      ]
     },
     "execution_count": 29,
     "metadata": {},
     "output_type": "execute_result"
    }
   ],
   "source": [
    "eig_2qb.setup.junctions.jj3"
   ]
  },
  {
   "cell_type": "markdown",
   "metadata": {},
   "source": [
    "Find the electric and magnetic energy stored in the substrate and the system as a whole."
   ]
  },
  {
   "cell_type": "code",
   "execution_count": 22,
   "metadata": {
    "ExecuteTime": {
     "end_time": "2023-07-26T21:10:43.144914Z",
     "start_time": "2023-07-26T21:10:43.053486Z"
    }
   },
   "outputs": [
    {
     "ename": "AssertionError",
     "evalue": "pyEPR ProjectInfo user error found 😷:\n                Seems like for junction `jj` you specified a design or project\n                variable for `Lj_variable` that does not exist in HFSS by the name:\n                 `Lj` ",
     "output_type": "error",
     "traceback": [
      "\u001b[1;31m---------------------------------------------------------------------------\u001b[0m",
      "\u001b[1;31mAssertionError\u001b[0m                            Traceback (most recent call last)",
      "Cell \u001b[1;32mIn[22], line 1\u001b[0m\n\u001b[1;32m----> 1\u001b[0m \u001b[43meig_2qb\u001b[49m\u001b[38;5;241;43m.\u001b[39;49m\u001b[43mrun_epr\u001b[49m\u001b[43m(\u001b[49m\u001b[43m)\u001b[49m\n",
      "File \u001b[1;32mc:\\users\\wanglab\\documents\\github\\qiskit-metal\\qiskit_metal\\analyses\\quantization\\energy_participation_ratio.py:170\u001b[0m, in \u001b[0;36mEPRanalysis.run_epr\u001b[1;34m(self, no_junctions)\u001b[0m\n\u001b[0;32m    167\u001b[0m \u001b[38;5;66;03m# wipe data from the previous run (if any)\u001b[39;00m\n\u001b[0;32m    168\u001b[0m \u001b[38;5;28mself\u001b[39m\u001b[38;5;241m.\u001b[39mclear_data()\n\u001b[1;32m--> 170\u001b[0m \u001b[38;5;28;43mself\u001b[39;49m\u001b[38;5;241;43m.\u001b[39;49m\u001b[43mget_stored_energy\u001b[49m\u001b[43m(\u001b[49m\u001b[43mno_junctions\u001b[49m\u001b[43m)\u001b[49m\n\u001b[0;32m    171\u001b[0m \u001b[38;5;28;01mif\u001b[39;00m \u001b[38;5;129;01mnot\u001b[39;00m no_junctions:\n\u001b[0;32m    172\u001b[0m     \u001b[38;5;28mself\u001b[39m\u001b[38;5;241m.\u001b[39mrun_analysis()\n",
      "File \u001b[1;32mc:\\users\\wanglab\\documents\\github\\qiskit-metal\\qiskit_metal\\analyses\\quantization\\energy_participation_ratio.py:203\u001b[0m, in \u001b[0;36mEPRanalysis.get_stored_energy\u001b[1;34m(self, no_junctions)\u001b[0m\n\u001b[0;32m    199\u001b[0m \u001b[38;5;250m\u001b[39m\u001b[38;5;124;03m\"\"\"Calculate the energy stored in the system based on the eigenmode results.\u001b[39;00m\n\u001b[0;32m    200\u001b[0m \u001b[38;5;124;03m\"\"\"\u001b[39;00m\n\u001b[0;32m    201\u001b[0m \u001b[38;5;66;03m# execute EPR and energy extraction\u001b[39;00m\n\u001b[0;32m    202\u001b[0m \u001b[38;5;28mself\u001b[39m\u001b[38;5;241m.\u001b[39menergy_elec, \u001b[38;5;28mself\u001b[39m\u001b[38;5;241m.\u001b[39menergy_elec_sub, \u001b[38;5;28mself\u001b[39m\u001b[38;5;241m.\u001b[39menergy_mag \u001b[38;5;241m=\u001b[39m \\\n\u001b[1;32m--> 203\u001b[0m     \u001b[38;5;28mself\u001b[39m\u001b[38;5;241m.\u001b[39msim\u001b[38;5;241m.\u001b[39mrenderer\u001b[38;5;241m.\u001b[39mepr_get_stored_energy(\u001b[38;5;241m*\u001b[39m\u001b[38;5;241m*\u001b[39m\u001b[38;5;28;43mself\u001b[39;49m\u001b[38;5;241;43m.\u001b[39;49m\u001b[43mepr_start\u001b[49m\u001b[43m(\u001b[49m\u001b[43mno_junctions\u001b[49m\u001b[43m)\u001b[49m)\n\u001b[0;32m    205\u001b[0m \u001b[38;5;66;03m# present a human-friendly output\u001b[39;00m\n\u001b[0;32m    206\u001b[0m \u001b[38;5;28mprint\u001b[39m(\u001b[38;5;124mf\u001b[39m\u001b[38;5;124m\"\"\"\u001b[39m\n\u001b[0;32m    207\u001b[0m \u001b[38;5;124menergy_elec_all       = \u001b[39m\u001b[38;5;132;01m{\u001b[39;00m\u001b[38;5;28mself\u001b[39m\u001b[38;5;241m.\u001b[39menergy_elec\u001b[38;5;132;01m}\u001b[39;00m\n\u001b[0;32m    208\u001b[0m \u001b[38;5;124menergy_elec_substrate = \u001b[39m\u001b[38;5;132;01m{\u001b[39;00m\u001b[38;5;28mself\u001b[39m\u001b[38;5;241m.\u001b[39menergy_elec_sub\u001b[38;5;132;01m}\u001b[39;00m\n\u001b[1;32m   (...)\u001b[0m\n\u001b[0;32m    212\u001b[0m \u001b[38;5;124menergy_mag % of energy_elec_all  = \u001b[39m\u001b[38;5;132;01m{\u001b[39;00m\u001b[38;5;28mself\u001b[39m\u001b[38;5;241m.\u001b[39menergy_mag\u001b[38;5;250m \u001b[39m\u001b[38;5;241m/\u001b[39m\u001b[38;5;250m \u001b[39m\u001b[38;5;28mself\u001b[39m\u001b[38;5;241m.\u001b[39menergy_elec\u001b[38;5;250m \u001b[39m\u001b[38;5;241m*\u001b[39m\u001b[38;5;250m \u001b[39m\u001b[38;5;241m100\u001b[39m\u001b[38;5;250m \u001b[39m\u001b[38;5;132;01m:\u001b[39;00m\u001b[38;5;124m.1f\u001b[39m\u001b[38;5;132;01m}\u001b[39;00m\u001b[38;5;124m%\u001b[39m\n\u001b[0;32m    213\u001b[0m \u001b[38;5;124m\u001b[39m\u001b[38;5;124m\"\"\"\u001b[39m)\n",
      "File \u001b[1;32mc:\\users\\wanglab\\documents\\github\\qiskit-metal\\qiskit_metal\\analyses\\quantization\\energy_participation_ratio.py:195\u001b[0m, in \u001b[0;36mEPRanalysis.epr_start\u001b[1;34m(self, no_junctions)\u001b[0m\n\u001b[0;32m    191\u001b[0m system[\u001b[38;5;124m'\u001b[39m\u001b[38;5;124mjunctions\u001b[39m\u001b[38;5;124m'\u001b[39m] \u001b[38;5;241m=\u001b[39m {} \u001b[38;5;28;01mif\u001b[39;00m no_junctions \u001b[38;5;28;01melse\u001b[39;00m {\n\u001b[0;32m    192\u001b[0m     k: \u001b[38;5;28mdict\u001b[39m(v) \u001b[38;5;28;01mfor\u001b[39;00m (k, v) \u001b[38;5;129;01min\u001b[39;00m s\u001b[38;5;241m.\u001b[39mjunctions\u001b[38;5;241m.\u001b[39mitems()\n\u001b[0;32m    193\u001b[0m }\n\u001b[0;32m    194\u001b[0m system[\u001b[38;5;124m'\u001b[39m\u001b[38;5;124mdissipatives\u001b[39m\u001b[38;5;124m'\u001b[39m] \u001b[38;5;241m=\u001b[39m \u001b[38;5;28mdict\u001b[39m(s\u001b[38;5;241m.\u001b[39mdissipatives)\n\u001b[1;32m--> 195\u001b[0m \u001b[38;5;28;43mself\u001b[39;49m\u001b[38;5;241;43m.\u001b[39;49m\u001b[43msim\u001b[49m\u001b[38;5;241;43m.\u001b[39;49m\u001b[43mrenderer\u001b[49m\u001b[38;5;241;43m.\u001b[39;49m\u001b[43mepr_start\u001b[49m\u001b[43m(\u001b[49m\u001b[38;5;241;43m*\u001b[39;49m\u001b[38;5;241;43m*\u001b[39;49m\u001b[43msystem\u001b[49m\u001b[43m)\u001b[49m\n\u001b[0;32m    196\u001b[0m \u001b[38;5;28;01mreturn\u001b[39;00m system\n",
      "File \u001b[1;32mc:\\users\\wanglab\\documents\\github\\qiskit-metal\\qiskit_metal\\renderers\\renderer_ansys\\ansys_renderer.py:1705\u001b[0m, in \u001b[0;36mQAnsysRenderer.epr_start\u001b[1;34m(self, junctions, dissipatives)\u001b[0m\n\u001b[0;32m   1703\u001b[0m         \u001b[38;5;28mself\u001b[39m\u001b[38;5;241m.\u001b[39mpinfo\u001b[38;5;241m.\u001b[39mjunctions[k] \u001b[38;5;241m=\u001b[39m v\n\u001b[0;32m   1704\u001b[0m     \u001b[38;5;66;03m# Check that valid names of variables and objects have been supplied\u001b[39;00m\n\u001b[1;32m-> 1705\u001b[0m     \u001b[38;5;28;43mself\u001b[39;49m\u001b[38;5;241;43m.\u001b[39;49m\u001b[43mpinfo\u001b[49m\u001b[38;5;241;43m.\u001b[39;49m\u001b[43mvalidate_junction_info\u001b[49m\u001b[43m(\u001b[49m\u001b[43m)\u001b[49m\n\u001b[0;32m   1706\u001b[0m \u001b[38;5;28;01mif\u001b[39;00m dissipatives:\n\u001b[0;32m   1707\u001b[0m     \u001b[38;5;28;01mfor\u001b[39;00m k, v \u001b[38;5;129;01min\u001b[39;00m dissipatives\u001b[38;5;241m.\u001b[39mitems():\n",
      "File \u001b[1;32m~\\anaconda3\\envs\\qiskit-metal\\Lib\\site-packages\\pyEPR\\project_info.py:473\u001b[0m, in \u001b[0;36mProjectInfo.validate_junction_info\u001b[1;34m(self)\u001b[0m\n\u001b[0;32m    469\u001b[0m all_object_names \u001b[38;5;241m=\u001b[39m \u001b[38;5;28mself\u001b[39m\u001b[38;5;241m.\u001b[39mget_all_object_names()\n\u001b[0;32m    471\u001b[0m \u001b[38;5;28;01mfor\u001b[39;00m jjnm, jj \u001b[38;5;129;01min\u001b[39;00m \u001b[38;5;28mself\u001b[39m\u001b[38;5;241m.\u001b[39mjunctions\u001b[38;5;241m.\u001b[39mitems():\n\u001b[1;32m--> 473\u001b[0m     \u001b[38;5;28;01massert\u001b[39;00m jj[\u001b[38;5;124m'\u001b[39m\u001b[38;5;124mLj_variable\u001b[39m\u001b[38;5;124m'\u001b[39m] \u001b[38;5;129;01min\u001b[39;00m all_variables_names,\\\n\u001b[0;32m    474\u001b[0m \u001b[38;5;250m        \u001b[39m\u001b[38;5;124;03m\"\"\"pyEPR ProjectInfo user error found \\N{face with medical mask}:\u001b[39;00m\n\u001b[0;32m    475\u001b[0m \u001b[38;5;124;03m        Seems like for junction `%s` you specified a design or project\u001b[39;00m\n\u001b[0;32m    476\u001b[0m \u001b[38;5;124;03m        variable for `Lj_variable` that does not exist in HFSS by the name:\u001b[39;00m\n\u001b[0;32m    477\u001b[0m \u001b[38;5;124;03m         `%s` \"\"\"\u001b[39;00m \u001b[38;5;241m%\u001b[39m (jjnm, jj[\u001b[38;5;124m'\u001b[39m\u001b[38;5;124mLj_variable\u001b[39m\u001b[38;5;124m'\u001b[39m])\n\u001b[0;32m    479\u001b[0m     \u001b[38;5;28;01mfor\u001b[39;00m name \u001b[38;5;129;01min\u001b[39;00m [\u001b[38;5;124m'\u001b[39m\u001b[38;5;124mrect\u001b[39m\u001b[38;5;124m'\u001b[39m, \u001b[38;5;124m'\u001b[39m\u001b[38;5;124mline\u001b[39m\u001b[38;5;124m'\u001b[39m]:\n\u001b[0;32m    481\u001b[0m         \u001b[38;5;28;01massert\u001b[39;00m jj[name] \u001b[38;5;129;01min\u001b[39;00m all_object_names, \\\n\u001b[0;32m    482\u001b[0m \u001b[38;5;250m            \u001b[39m\u001b[38;5;124;03m\"\"\"pyEPR ProjectInfo user error found \\N{face with medical mask}:\u001b[39;00m\n\u001b[0;32m    483\u001b[0m \u001b[38;5;124;03m            Seems like for junction `%s` you specified a %s that does not exist\u001b[39;00m\n\u001b[0;32m    484\u001b[0m \u001b[38;5;124;03m            in HFSS by the name: `%s` \"\"\"\u001b[39;00m \u001b[38;5;241m%\u001b[39m (jjnm, name, jj[name])\n",
      "\u001b[1;31mAssertionError\u001b[0m: pyEPR ProjectInfo user error found 😷:\n                Seems like for junction `jj` you specified a design or project\n                variable for `Lj_variable` that does not exist in HFSS by the name:\n                 `Lj` "
     ]
    }
   ],
   "source": [
    "eig_2qb.run_epr()"
   ]
  },
  {
   "cell_type": "markdown",
   "metadata": {},
   "source": [
    "Release Ansys's session"
   ]
  },
  {
   "cell_type": "code",
   "execution_count": null,
   "metadata": {},
   "outputs": [],
   "source": [
    "eig_2qb.sim.close()"
   ]
  },
  {
   "cell_type": "markdown",
   "metadata": {},
   "source": [
    "(optional) **final wrap**: Close the gui by removing the # in the line below."
   ]
  },
  {
   "cell_type": "code",
   "execution_count": null,
   "metadata": {},
   "outputs": [],
   "source": [
    "# gui.main_window.close()"
   ]
  }
 ],
 "metadata": {
  "kernelspec": {
   "display_name": "Python 3 (ipykernel)",
   "language": "python",
   "name": "python3"
  },
  "language_info": {
   "codemirror_mode": {
    "name": "ipython",
    "version": 3
   },
   "file_extension": ".py",
   "mimetype": "text/x-python",
   "name": "python",
   "nbconvert_exporter": "python",
   "pygments_lexer": "ipython3",
   "version": "3.11.4"
  },
  "varInspector": {
   "cols": {
    "lenName": 16,
    "lenType": 16,
    "lenVar": 40
   },
   "kernels_config": {
    "python": {
     "delete_cmd_postfix": "",
     "delete_cmd_prefix": "del ",
     "library": "var_list.py",
     "varRefreshCmd": "print(var_dic_list())"
    },
    "r": {
     "delete_cmd_postfix": ") ",
     "delete_cmd_prefix": "rm(",
     "library": "var_list.r",
     "varRefreshCmd": "cat(var_dic_list()) "
    }
   },
   "types_to_exclude": [
    "module",
    "function",
    "builtin_function_or_method",
    "instance",
    "_Feature"
   ],
   "window_display": false
  }
 },
 "nbformat": 4,
 "nbformat_minor": 4
}

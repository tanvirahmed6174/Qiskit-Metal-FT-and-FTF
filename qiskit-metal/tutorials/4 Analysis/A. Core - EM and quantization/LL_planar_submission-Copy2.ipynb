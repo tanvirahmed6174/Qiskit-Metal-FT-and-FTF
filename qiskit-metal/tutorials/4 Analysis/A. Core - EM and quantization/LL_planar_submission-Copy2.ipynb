{
 "cells": [
  {
   "cell_type": "markdown",
   "metadata": {},
   "source": [
    "#Step by step design for the two resonator single xmon design. \n"
   ]
  },
  {
   "cell_type": "code",
   "execution_count": null,
   "metadata": {},
   "outputs": [],
   "source": []
  },
  {
   "cell_type": "markdown",
   "metadata": {},
   "source": [
    "## Sections\n",
    "### I. Transmon only\n",
    "1. Prepare the layout in qiskit-metal. <br>\n",
    "1. Run finite element eigenmode analysis. <br>\n",
    "1. Plot fields and display them. <br>\n",
    "1. Set up EPR junction dictionary. <br>\n",
    "1. Run EPR analysis on single mode. <br>\n",
    "1. Get qubit freq and anharmonicity. <br>\n",
    "1. Calculate EPR of substrate.  <br>\n",
    "1. (Extra: Calculate surface EPR.) <br>\n",
    "\n",
    "### II. Resonator only\n",
    "1. Update the layout in qiskit-metal. <br>\n",
    "1. Run finite element eigenmode analysis. <br>\n",
    "1. Plot fields and display them. <br>\n",
    "1. Calculate EPR of substrate. <br>\n",
    "    \n",
    "### III. Transmon & resonator\n",
    "1. Update the layout in qiskit-metal. <br>\n",
    "1. Run finite element eigenmode analysis. <br>\n",
    "1. Plot fields and display them. <br>\n",
    "1. Set up EPR junction dictionary. <br>\n",
    "1. Run EPR analysis on the two modes. <br>\n",
    "1. Get qubit frequency and anharmonicity. <br>\n",
    "\n",
    "### IV. Transmon & resonator\n",
    "1. Update the layout in qiskit-metal. <br>\n",
    "1. Run finite element eigenmode analysis. <br>\n",
    "1. Plot fields and display them. <br>\n",
    "1. Set up EPR junction dictionary. <br>\n",
    "1. Run EPR analysis on the two modes. <br>\n",
    "1. Get qubit frequency and anharmonicity. <br>\n",
    "\n",
    "### V. Analyze the coupled  transmon 2 resonator system. \n",
    "1. Finite Element Eigenmode Analysis\n",
    "1. Identify the mode you want. The mode can inclusively be from 1 to setup.n_modes.\n",
    "1. Set variables in the Ansys design. As before, we seek 2 modes.\n",
    "1. Set up the simulation and specify the variables for the sweep.\n",
    "1. Plot the E-field on the chip's surface.\n",
    "1. Specify the junctions in the model; in this case there are 2 junctions.\n",
    "1. Find the electric and magnetic energy stored in the substrate and the system as a whole.\n",
    "1. Perform EPR analysis for all modes and variations."
   ]
  },
  {
   "cell_type": "code",
   "execution_count": null,
   "metadata": {
    "scrolled": true
   },
   "outputs": [],
   "source": [
    "%load_ext autoreload\n",
    "%autoreload 2\n",
    "\n",
    "import sys\n",
    "sys.path\n",
    "sys.path.remove('C:\\\\Users\\\\wanglab2\\\\Documents\\\\pyEPR')\n",
    "\n",
    "sys.path\n"
   ]
  },
  {
   "cell_type": "code",
   "execution_count": null,
   "metadata": {},
   "outputs": [],
   "source": [
    "\n",
    "import qiskit_metal as metal\n",
    "from qiskit_metal import designs, draw\n",
    "from qiskit_metal import MetalGUI, Dict, Headings\n",
    "import pyEPR as epr\n",
    "%metal_heading Qiskit Metal works fine! - Here are the design components!"
   ]
  },
  {
   "cell_type": "code",
   "execution_count": null,
   "metadata": {},
   "outputs": [],
   "source": [
    "from qiskit_metal.qlibrary.qubits.transmon_pocket_cl import TransmonPocketCL\n",
    "from qiskit_metal.qlibrary.qubits.transmon_cross_fl import TransmonCrossFL\n",
    "from qiskit_metal.qlibrary.qubits.transmon_cross_fl_cl import TransmonCrossFL_CL\n",
    "from qiskit_metal.qlibrary.qubits.transmon_cross import TransmonCross\n",
    "from qiskit_metal.qlibrary.couplers.tunable_coupler_01 import TunableCoupler01\n",
    "\n",
    "from qiskit_metal.qlibrary.tlines.meandered import RouteMeander\n",
    "from qiskit_metal.qlibrary.tlines.pathfinder import RoutePathfinder\n",
    "from qiskit_metal.qlibrary.tlines.anchored_path import RouteAnchors\n",
    "from qiskit_metal.qlibrary.tlines.straight_path import RouteStraight\n",
    "\n",
    "from qiskit_metal.qlibrary.terminations.open_to_ground import OpenToGround\n",
    "from qiskit_metal.qlibrary.terminations.short_to_ground import ShortToGround\n",
    "\n",
    "from qiskit_metal.qlibrary.lumped.cap_n_interdigital import CapNInterdigital\n",
    "from qiskit_metal.qlibrary.lumped.cap_3_interdigital import Cap3Interdigital\n",
    "from qiskit_metal.qlibrary.couplers.cap_n_interdigital_tee import CapNInterdigitalTee\n",
    "from qiskit_metal.qlibrary.couplers.coupled_line_tee import CoupledLineTee\n",
    "\n",
    "from qiskit_metal.qlibrary.terminations.launchpad_wb import LaunchpadWirebond\n",
    "from qiskit_metal.qlibrary.terminations.launchpad_wb_simplecoupler import LaunchpadWirebondSimple\n",
    "from qiskit_metal.qlibrary.terminations.launchpad_wb_coupled import LaunchpadWirebondCoupled\n",
    "\n",
    "from qiskit_metal.qlibrary.terminations.short_to_ground import ShortToGround\n",
    "import numpy as np\n",
    "from collections import OrderedDict\n"
   ]
  },
  {
   "cell_type": "code",
   "execution_count": null,
   "metadata": {},
   "outputs": [],
   "source": [
    "design = metal.designs.DesignPlanar()\n",
    "\n",
    "design.chips.main.size['size_x'] = '5mm'\n",
    "design.chips.main.size['size_y'] = '5mm'\n",
    "design.chips.main.size['size_z'] = '-725um'\n",
    "gui = MetalGUI(design)"
   ]
  },
  {
   "cell_type": "markdown",
   "metadata": {},
   "source": [
    "# Resonator length estimate"
   ]
  },
  {
   "cell_type": "code",
   "execution_count": null,
   "metadata": {},
   "outputs": [],
   "source": [
    "from qiskit_metal.analyses.em.cpw_calculations import guided_wavelength\n",
    "\n",
    "def find_resonator_length(frequency, line_width, line_gap, N): \n",
    "    #frequency in GHz\n",
    "    #line_width/line_gap in um\n",
    "    #N -> 2 for lambda/2, 4 for lambda/4\n",
    "    \n",
    "    [lambdaG, etfSqrt, q] = guided_wavelength(frequency*10**9, line_width*10**-6,\n",
    "                                              line_gap*10**-6, 750*10**-6, 200*10**-9)\n",
    "    return str(lambdaG/N*10**3)+\" mm\"\n",
    "\n",
    "\n",
    "find_resonator_length(6.935, 10, 6, 4)"
   ]
  },
  {
   "cell_type": "markdown",
   "metadata": {},
   "source": [
    "# Xmon qubits "
   ]
  },
  {
   "cell_type": "code",
   "execution_count": null,
   "metadata": {
    "scrolled": true
   },
   "outputs": [],
   "source": [
    "design.overwrite_enabled = True\n",
    "options =  dict(\n",
    "    connection_pads=dict(\n",
    "        readout = dict(loc_W=+1, loc_H=+1),\n",
    "        storage = dict(loc_W=-1, loc_H=-1, )\n",
    "    ))\n",
    "    \n",
    "from qiskit_metal.qlibrary.qubits.transmon_cross_fl import TransmonCrossFL\n",
    "from qiskit_metal.qlibrary.qubits.transmon_cross_fl_cl import TransmonCrossFL_CL\n",
    "\n",
    "Q1 = TransmonCrossFL_CL(design, 'Q1', options = dict(make_extra_rect=True, pos_x = '-0.2mm', pos_y='-1.450mm', \n",
    "                                                     cross_length='180um', cross_width='30um', cross_gap='30um',\n",
    "                                                    # cross_gap='3um',\n",
    "                                                 +++++++++++++++++++++++++++++++='60um')),#claw_length ='115um', claw_width='25um', claw_gap='7um',ground_spacing='3um')),\n",
    "                                                 fl_options = dict(t_shift='3.5um' , t_offset='-6um', t_inductive_gap='4.5um', \n",
    "                                                                   t_top='17.5um', t_width='5um', t_gap='3um'),\n",
    "                                                 cl_options= dict(c_offset='2um', c_ground_gap='38um', c_width='5um', \n",
    "                                                                  c_gap='3um', translate_x='0um'),\n",
    "                                                 rect_options= dict(rect_width='40um', rect_length='8um')))\n",
    "    \n",
    "\n",
    "\n",
    "Q2 = TransmonCrossFL_CL(design, 'Q2', options = dict(make_extra_rect=True, pos_x = '-0.2mm', pos_y='1.450mm', orientation=0, \n",
    "                                                     cross_length='187um', cross_width='30um', cross_gap='30um',\n",
    "                                                    # cross_gap='3um',\n",
    "                                                 connection_pads = dict(\n",
    "                                                     storage = dict(connector_location = '180',\n",
    "                                                      claw_length='150um', claw_width='15um', ground_spacing='4um', \n",
    "                                                                    claw_gap='10um', lead_width='35um',  lead_length='40um',\n",
    "                                                      lead_gap='21um' ),  #,claw_length ='115um', claw_width='25um', claw_gap='7um', \n",
    "                                                     #ground_spacing='3um'),\n",
    "                                                     readout = dict(connector_location = '0', lead_gap='6um',\n",
    "                                                     claw_length='110um', claw_width='15um', ground_spacing='4um', \n",
    "                                                                    claw_gap='10um', lead_width='10um', lead_length='60um')),#claw_length ='115um', claw_width='25um', claw_gap='7um',ground_spacing='3um')),\n",
    "                                                 fl_options = dict(t_shift='3.5um' , t_offset='-6um', t_inductive_gap='4.5um', \n",
    "                                                                   t_top='17.5um', t_width='5um', t_gap='3um'),\n",
    "                                                 cl_options= dict(c_offset='2um', c_ground_gap='38um', c_width='5um', \n",
    "                                                                  c_gap='3um', translate_x='0um'),\n",
    "                                                 rect_options= dict(rect_width='40um', rect_length='8um')))\n",
    "\n",
    "gui.rebuild()\n",
    "gui.autoscale()"
   ]
  },
  {
   "cell_type": "markdown",
   "metadata": {},
   "source": [
    "# Flux Lines and Flux Launchpads"
   ]
  },
  {
   "cell_type": "code",
   "execution_count": null,
   "metadata": {
    "scrolled": true
   },
   "outputs": [],
   "source": [
    "\n",
    "import numpy as np\n",
    "from collections import OrderedDict\n",
    "\n",
    "\n",
    "anchors1f = OrderedDict()\n",
    "anchors1f[0] = np.array([-1.75, -2.0])\n",
    "\n",
    "\n",
    "\n",
    "launch_flux_options = dict(trace_width= '5um', trace_gap='3um', pad_width='150um', pad_gap_y= '130um', \n",
    "                           pad_gap_x = '96um', pad_height='200um', \n",
    "                           taper_height='150um', \n",
    "                           pos_x='-1.954mm', pos_y='-1.8mm', orientation='0', lead_length='30um')\n",
    "lf = LaunchpadWirebond(design, 'Launch_Flux', options = launch_flux_options)\n",
    "\n",
    "\n",
    "flux_line_options = Dict(\n",
    "        lead = dict(start_straight='100um', end_straight='100um'),\n",
    "        fillet='30um', trace_width = '5um', trace_gap = '3um', \n",
    "        pin_inputs=Dict(\n",
    "            start_pin=Dict(component='Q1', pin='flux_line'),\n",
    "            end_pin=Dict(componentl=lf.name, pin='tie')), )\n",
    "flux_line_Q1 = RouteAnchors(design,'Flux_Line_1', options = dict(hfss_wire_bonds = True,\n",
    "                                            pin_inputs=Dict(\n",
    "                                                start_pin=Dict(\n",
    "                                                    component='Q1',\n",
    "                                                    pin='flux_line'),\n",
    "                                                end_pin=Dict(\n",
    "                                                    component='Launch_Flux',\n",
    "                                                    pin='tie')),\n",
    "                                            lead=Dict(\n",
    "#                                                 start_straight='175um',\n",
    "                                                 end_straight = '100um',\n",
    "                                                #end_jogged_extension = jogs_end\n",
    "                                            ),\n",
    "                                                    fillet = '60um',\n",
    "                                            trace_width = '5um',\n",
    "                                            trace_gap = '3um',\n",
    "                                             anchors = anchors1f\n",
    "                                            ))\n",
    "\n",
    "\n",
    "\n",
    "\n",
    "anchors2fl = OrderedDict()\n",
    "anchors2fl[0] = np.array([1.78, 0.415])\n",
    "\n",
    "\n",
    "\n",
    "launch_flux2_options = dict(trace_width= '5um', trace_gap='3um', pad_width='150um', pad_gap_y= '130um', \n",
    "                             pad_gap_x = '96um', pad_height='200um', \n",
    "                           taper_height='150um',  pos_x='1.954', pos_y='0.60081mm', orientation='180', lead_length='30um')\n",
    "lf2 = LaunchpadWirebond(design, 'Launch_Flux2', options = launch_flux2_options)\n",
    "\n",
    "\n",
    "\n",
    "\n",
    "flux_line_Q2 = RoutePathfinder(design,'Flux_Line_2', options = dict(hfss_wire_bonds = True,\n",
    "                                            pin_inputs=Dict(\n",
    "                                                start_pin=Dict(\n",
    "                                                    component='Q2',\n",
    "                                                    pin='flux_line'),\n",
    "                                                end_pin=Dict(\n",
    "                                                    component='Launch_Flux2',\n",
    "                                                    pin='tie')),\n",
    "                                            lead=Dict(\n",
    "#                                                 start_straight='175um',\n",
    "                                                 end_straight = '100um',\n",
    "                                                #end_jogged_extension = jogs_end\n",
    "                                            ),\n",
    "                                            fillet = '60um',\n",
    "                                            trace_width = '5um',\n",
    "                                            trace_gap = '3um',\n",
    "                                            anchors=anchors2fl\n",
    "                                            ))\n",
    "\n",
    "\n",
    "gui.rebuild()"
   ]
  },
  {
   "cell_type": "markdown",
   "metadata": {},
   "source": [
    "# Charge Lines and Charge Launchpads"
   ]
  },
  {
   "cell_type": "code",
   "execution_count": null,
   "metadata": {},
   "outputs": [],
   "source": [
    "\n",
    "\n",
    "\n",
    "\n",
    "\n",
    "\n",
    "launch_charge_options = dict(trace_width= '5um', trace_gap='3um', pad_width='150um', pad_gap_y= '130um', \n",
    "                             pad_gap_x = '96um', pad_height='200um', \n",
    "                           taper_height='150um',  pos_x='1.954mm', pos_y='-0.59919mm', orientation='180', lead_length='30um')\n",
    "\n",
    "lc = LaunchpadWirebond(design, 'Launch_Charge', options = launch_charge_options)\n",
    "\n",
    "\n",
    "\n",
    "\n",
    "\n",
    "\n",
    "launch_charge2_options = dict(trace_width= '5um', trace_gap='3um', pad_width='150um', pad_gap_y= '130um', \n",
    "                             pad_gap_x = '96um', pad_height='200um', \n",
    "                           taper_height='150um',  pos_x='-1.954mm', pos_y='1.8mm', orientation='0', lead_length='30um')\n",
    "\n",
    "lc2 = LaunchpadWirebond(design, 'Launch_Charge2', options = launch_charge2_options)\n",
    "\n",
    "\n",
    "anchors1ch = OrderedDict()\n",
    "anchors1ch[0] = np.array([1.78, 0.114])\n",
    "\n",
    "\n",
    "charge_line_Q1 = RoutePathfinder(design,'Charge_Line_1', options = dict(hfss_wire_bonds = True,\n",
    "                                            pin_inputs=Dict(\n",
    "                                                start_pin=Dict(\n",
    "                                                    component='Q1',\n",
    "                                                    pin='charge_line'),\n",
    "                                                end_pin=Dict(\n",
    "                                                    component='Launch_Charge',\n",
    "                                                    pin='tie')),\n",
    "                                            lead=Dict(\n",
    "                                                start_straight='175um',\n",
    "                                                end_straight = '100um',\n",
    "                                                #end_jogged_extension = jogs_end\n",
    "                                            ),\n",
    "                                            fillet = '60um',\n",
    "                                            trace_width = '5um',\n",
    "                                            trace_gap = '3um',\n",
    "                                            anchors = anchors1ch\n",
    "                                            ))\n",
    "\n",
    "anchors2ch = OrderedDict()\n",
    "anchors2ch[0] = np.array([-1.75,2.0])\n",
    "charge_line_Q2 = RoutePathfinder(design,'Charge_Line_2', options = dict(hfss_wire_bonds = True,\n",
    "                                            pin_inputs=Dict(\n",
    "                                                start_pin=Dict(\n",
    "                                                    component='Q2',\n",
    "                                                    pin='charge_line'),\n",
    "                                                end_pin=Dict(\n",
    "                                                    component='Launch_Charge2',\n",
    "                                                    pin='tie')),\n",
    "                                            lead=Dict(\n",
    "#                                                 start_straight='175um',\n",
    "                                                 end_straight = '100um',\n",
    "                                                #end_jogged_extension = jogs_end\n",
    "                                            ),\n",
    "                                            fillet = '60um',\n",
    "                                            trace_width = '5um',\n",
    "                                            trace_gap = '3um',\n",
    "                                            anchors = anchors2ch\n",
    "                                            ))\n",
    "\n",
    "gui.rebuild()\n",
    "\n"
   ]
  },
  {
   "cell_type": "markdown",
   "metadata": {},
   "source": [
    "# Readout Tee's and Readout Resonators"
   ]
  },
  {
   "cell_type": "code",
   "execution_count": null,
   "metadata": {
    "scrolled": false
   },
   "outputs": [],
   "source": [
    "\n",
    "TQ1 = CoupledLineTee(design, 'TQ1', options=dict(pos_x='-1.27mm',\n",
    "                                             pos_y='-0.6mm',\n",
    "                                              coupling_length='400um', coupling_space='4um', open_termination=False))\n",
    "TQ2 = CoupledLineTee(design, 'TQ2', options=dict(pos_x='-1.35mm',\n",
    "                                             pos_y='0.6mm',\n",
    "                                             coupling_length='410um', coupling_space='4um', orientation=180, \n",
    "                                                 open_termination=False))\n",
    "\n",
    "\n",
    "\n",
    "options1 = Dict(\n",
    "    total_length='3.458mm',\n",
    "    hfss_wire_bonds = True,\n",
    "    fillet='40um',\n",
    "    lead = dict(start_straight='100um', end_straight='400um'),\n",
    "    pin_inputs=Dict(\n",
    "        start_pin=Dict(\n",
    "            component='TQ1',\n",
    "            pin='second_end'),\n",
    "        end_pin=Dict(\n",
    "            component='Q1',\n",
    "            pin='readout')),\n",
    "    meander=Dict(spacing='200um',\n",
    "            asymmetry='0um'))\n",
    "read_q1 = RouteMeander(design, 'read_q1', options=options1)\n",
    "\n",
    "\n",
    "\n",
    "\n",
    "options2 = Dict(\n",
    "     total_length='3.58mm',\n",
    "     hfss_wire_bonds = True,\n",
    "     fillet='40um',\n",
    "     lead = dict(start_straight='650um'),\n",
    "     pin_inputs=Dict(\n",
    "         end_pin=Dict(\n",
    "             component='TQ2',\n",
    "             pin='second_end'),\n",
    "         start_pin=Dict(\n",
    "             component='Q2',\n",
    "             pin='readout')),\n",
    "     meander=Dict(spacing='250um',\n",
    "             asymmetry='0um'))\n",
    "read_q2 = RouteMeander(design, 'read_q2', options=options2)\n",
    "\n",
    "\n",
    "\n",
    "gui.rebuild()\n",
    "gui.autoscale()\n"
   ]
  },
  {
   "cell_type": "markdown",
   "metadata": {},
   "source": [
    "# Feedline and Feedline Launchpads "
   ]
  },
  {
   "cell_type": "code",
   "execution_count": null,
   "metadata": {
    "scrolled": false
   },
   "outputs": [],
   "source": [
    "launch_feed_left_options = dict(trace_width= '10um',pad_width='150um', pad_gap_x= '96um', pad_gap_y= '130um', pad_height='200um', \n",
    "                           taper_height='150um',  pos_x='-1.954mm', pos_y='-0.6mm', orientation='0', lead_length='30um')\n",
    "l_feed_left = LaunchpadWirebond(design, 'Launch_Feed_Left', options = launch_feed_left_options)\n",
    "\n",
    "\n",
    "launch_feed_right_options = dict(trace_width= '10um', pad_width='150um', pad_gap_x= '96um', pad_gap_y= '130um', pad_height='200um', \n",
    "                           taper_height='150um',  pos_x='-1.954mm', pos_y='0.6mm', lead_length='30um', orientation='0')\n",
    "l_feed_right = LaunchpadWirebond(design, 'Launch_Feed_Right', options = launch_feed_right_options)\n",
    "\n",
    "\n",
    "\n",
    "\n",
    "anchors1c = OrderedDict()\n",
    "anchors1c[0] = np.array([-0.65, 0.56079])\n",
    "\n",
    "\n",
    "\n",
    "ops_oF = {'hfss_wire_bonds': 'True',\n",
    "            'pin_inputs': \n",
    "            {'start_pin': {'component': 'TQ1', 'pin': 'prime_start'}, \n",
    "             'end_pin': {'component': 'Launch_Feed_Left', 'pin': 'tie'}},\n",
    "            'fillet':'80um'\n",
    "            }\n",
    "cpw_openFirst = RouteStraight(design, 'cpw_openFirst', options=ops_oF)\n",
    "\n",
    "\n",
    "\n",
    "\n",
    "ops_oM = {'hfss_wire_bonds': 'False',\n",
    "            'pin_inputs': \n",
    "            {'start_pin': {'component': 'TQ1', 'pin': 'prime_end'}, \n",
    "             'end_pin': {'component': 'TQ2', 'pin': 'prime_start'}},\n",
    "            'anchors': anchors1c,\n",
    "            'fillet':'50um'\n",
    "            }\n",
    "cpw_openMid = RouteAnchors(design, 'cpw_openMid', options=ops_oM)\n",
    "\n",
    "\n",
    "\n",
    "\n",
    "\n",
    "ops_oLast = {'hfss_wire_bonds': 'True',\n",
    "            'pin_inputs': \n",
    "            {'start_pin': {'component': 'TQ2', 'pin': 'prime_end'}, \n",
    "             'end_pin': {'component': l_feed_right.name, 'pin': 'tie'}},\n",
    "            'fillet':'80um'\n",
    "            }\n",
    "cpw_openLast = RouteStraight(design, 'cpw_openLast', options=ops_oLast)\n",
    "\n",
    "\n",
    "\n",
    "gui.rebuild()\n",
    "gui.autoscale()"
   ]
  },
  {
   "cell_type": "markdown",
   "metadata": {},
   "source": [
    "# Storage Resonator 1, its drive line and launchpad"
   ]
  },
  {
   "cell_type": "code",
   "execution_count": null,
   "metadata": {},
   "outputs": [],
   "source": [
    "launch_storage_options = dict(trace_width= '5um', trace_gap='3um', pad_width='150um', pad_gap_y= '130um', \n",
    "                             pad_gap_x = '96um', pad_height='200um', \n",
    "                           taper_height='150um',  pos_x='1.954mm', pos_y='-1.8mm', orientation='180', lead_length='30um')\n",
    "lc = LaunchpadWirebond(design, 'Launch_Storage', options = launch_storage_options)\n",
    "\n",
    "\n",
    "\n",
    "\n",
    "otg11 = ShortToGround(design, 'otg11', options = dict(pos_x='1.231mm', \n",
    "                                                   pos_y='-1.54mm', orientation='180', termination_gap='3um', gap='3um', \n",
    "                                                     width='5um' ))\n",
    "stg11= ShortToGround(design, 'stg11', options = dict(pos_x='1.314', pos_y='-1.283', orientation='90'))\n",
    "                       \n",
    "                       \n",
    "jogs_start = OrderedDict()\n",
    "jogs_start[0] = [\"L\", '1.225mm']                       \n",
    "jogs_start[1] = [\"R\", '250um']  \n",
    "jogs_start[2] = [\"R\", '1.225mm']                       \n",
    "jogs_start[3] = [\"L\", '250um'] \n",
    "jogs_start[4] = [\"L\", '1.225mm']                       \n",
    "jogs_start[5] = [\"R\", '250um'] \n",
    "jogs_start[6] = [\"R\", '1.225mm'] \n",
    "jogs_start[7] = [\"L\", '250um']\n",
    "storage_trace_options1 = Dict(\n",
    "        total_length='6.37mm', trace_width='25um', trace_gap='15um', \n",
    "        fillet='60 um',\n",
    "        lead = dict(start_straight='250um', start_jogged_extension=jogs_start),\n",
    "        hfss_wire_bonds = False,\n",
    "        pin_inputs=Dict(\n",
    "            \n",
    "            start_pin=Dict(component='Q1', pin='storage'),\n",
    "            end_pin=Dict(component='stg11', pin='short')),\n",
    "            meander=Dict(spacing='405um',\n",
    "            asymmetry='0um'))\n",
    "store_q1_1 = RouteMeander(design, 'Store_Q1_1',  options=storage_trace_options1)\n",
    "\n",
    "\n",
    "\n",
    "anchors1st = OrderedDict()\n",
    "anchors1st[0] = np.array([1.78, -2])\n",
    "storage_line_Q1 = RoutePathfinder(design,'Storage_Line_1', options = dict(hfss_wire_bonds = True,\n",
    "                                            pin_inputs=Dict(\n",
    "                                                start_pin=Dict(\n",
    "                                                    component='otg11',\n",
    "                                                    pin='short'),\n",
    "                                                end_pin=Dict(\n",
    "                                                    component='Launch_Storage',\n",
    "                                                    pin='tie')),\n",
    "                                            lead=Dict(end_straight='200um'),#, end_straight='100um'),\n",
    "                                            fillet = '50um',\n",
    "                                            trace_width = '5um',\n",
    "                                            trace_gap = '3um',\n",
    "                                            #anchors=anchors1st\n",
    "                                            ))\n",
    "\n",
    "\n",
    "\n",
    "gui.rebuild()\n",
    "gui.autoscale()\n",
    "\n",
    "launch_storage_options2 = dict(trace_width= '5um', trace_gap='3um', pad_width='150um', pad_gap_y= '130um', \n",
    "                             pad_gap_x = '96um', pad_height='200um', \n",
    "                           taper_height='150um',  pos_x='1.954mm', pos_y='1.80081mm', orientation='180', lead_length='30um')\n",
    "lc2 = LaunchpadWirebond(design, 'Launch_Storage2', options = launch_storage_options2)\n",
    "\n",
    "\n",
    "\n"
   ]
  },
  {
   "cell_type": "markdown",
   "metadata": {},
   "source": [
    "# Storage Resonator 2, its drive line and launchpad"
   ]
  },
  {
   "cell_type": "code",
   "execution_count": null,
   "metadata": {
    "scrolled": true
   },
   "outputs": [],
   "source": [
    "\n",
    "\n",
    "\n",
    "\n",
    "\n",
    "\n",
    "launch_storage_options2 = dict(trace_width= '5um', trace_gap='3um', pad_width='150um', pad_gap_y= '130um', \n",
    "                             pad_gap_x = '96um', pad_height='200um', \n",
    "                           taper_height='150um',  pos_x='1.954mm', pos_y='1.80081mm', orientation='180', lead_length='30um')\n",
    "lc2 = LaunchpadWirebond(design, 'Launch_Storage2', options = launch_storage_options2)\n",
    "\n",
    "\n",
    "                       \n",
    "\n",
    "\n",
    "otg11_2 = ShortToGround(design, 'otg11_2', options = dict(pos_x='1.357mm', \n",
    "                                                   pos_y='1.674mm', orientation='270'))#,termination_gap='3um', gap='3um', \n",
    "                                                     #width='5um'))\n",
    "stg11_2= ShortToGround(design, 'stg11_2', options = dict(pos_x='1.271mm', pos_y='1.773mm', orientation='90'))\n",
    "                       \n",
    "                       \n",
    "    \n",
    "\n",
    "jogs_start = OrderedDict()\n",
    "jogs_start[0] = [\"L\", '-0.750mm']                      \n",
    "jogs_start[1] = [\"R\", '200um']  \n",
    "jogs_start[2] = [\"R\", '-1mm']                       \n",
    "jogs_start[3] = [\"L\", '200um'] \n",
    "jogs_start[4] = [\"L\", '-1mm']                       \n",
    "jogs_start[5] = [\"R\", '200um'] \n",
    "jogs_start[6] = [\"R\", '-1mm'] \n",
    "jogs_start[7] = [\"L\", '200um']\n",
    "jogs_start[8] = [\"L\", '-1mm']\n",
    "jogs_start[9] = [\"R\", '200um']\n",
    "jogs_start[10] = [\"R\", '-921um']\n",
    "storage_trace_options2 = Dict(\n",
    "        total_length='5.280mm', trace_width='35um', trace_gap='21um', \n",
    "        fillet='99 um',\n",
    "        lead = dict(start_straight='200um', ends_straight='130um', start_jogged_extension=jogs_start),\n",
    "        hfss_wire_bonds = False,\n",
    "        pin_inputs=Dict(\n",
    "            \n",
    "            start_pin=Dict(component='Q2', pin='storage'),\n",
    "            end_pin=Dict(component='stg11_2', pin='short')),)\n",
    "#             meander=Dict(spacing='405um',\n",
    "#             asymmetry='0um'))    \n",
    "    \n",
    "    \n",
    "store_q2_2 = RouteMeander(design, 'Store_Q2_2',  options=storage_trace_options2)    \n",
    "anchors2st = OrderedDict()\n",
    "\n",
    "\n",
    "anchors2st[0] = np.array([1.774, 1.14])\n",
    "# anchors2st[1] = np.array([-0.7, 2.27])\n",
    "# anchors2st[2] = np.array([-0.7, 1.875])\n",
    "    \n",
    "storage_line_Q2 = RoutePathfinder(design,'Storage_Line_2', options = dict(hfss_wire_bonds = True,\n",
    "                                            pin_inputs=Dict(\n",
    "                                                start_pin=Dict(\n",
    "                                                    component='otg11_2',\n",
    "                                                    pin='short'),\n",
    "                                                end_pin=Dict(\n",
    "                                                    component='Launch_Storage2',\n",
    "                                                    pin='tie')),\n",
    "                                            lead=Dict(end_straight='150um'),\n",
    "                                            fillet = '50um',\n",
    "                                            trace_width = '5um',\n",
    "                                            trace_gap = '3um',\n",
    "                                            #anchors=anchors2st\n",
    "                                            ))\n",
    "    \n",
    "    \n",
    "    \n",
    "    \n",
    "\n",
    "\n",
    "gui.rebuild()\n",
    "gui.autoscale()"
   ]
  },
  {
   "cell_type": "code",
   "execution_count": null,
   "metadata": {},
   "outputs": [],
   "source": [
    "%metal_heading Now analyzing the design: HFSS & EPR"
   ]
  },
  {
   "cell_type": "markdown",
   "metadata": {},
   "source": [
    "# Running for an individual XMon"
   ]
  },
  {
   "cell_type": "code",
   "execution_count": null,
   "metadata": {},
   "outputs": [],
   "source": [
    "from qiskit_metal.analyses.quantization import EPRanalysis\n",
    "eig_qb = EPRanalysis(design, \"hfss\")\n",
    "\n",
    "eig_qb = EPRanalysis(design, \"hfss\")\n",
    "\n",
    "eig_qb.sim.setup.vars.Lj = '7.5 nH'\n",
    "eig_qb.sim.setup.vars = Dict({'Lj': '7.5 nH', 'Cj': '3 fF'})\n",
    "gui.rebuild()\n",
    "gui.autoscale()"
   ]
  },
  {
   "cell_type": "code",
   "execution_count": null,
   "metadata": {},
   "outputs": [],
   "source": [
    "design.qgeometry.tables['junction']\n",
    "qcomps=design.components\n",
    "qcomps['Q2'].options['hfss_inductance'] = 'Lj'\n",
    "qcomps['Q2'].options['hfss_capacitance'] = 'Cj'\n",
    "\n",
    "gui.rebuild()\n",
    "gui.autoscale()\n",
    "\n"
   ]
  },
  {
   "cell_type": "code",
   "execution_count": null,
   "metadata": {},
   "outputs": [],
   "source": [
    "eig_qb.sim.setup"
   ]
  },
  {
   "cell_type": "code",
   "execution_count": null,
   "metadata": {},
   "outputs": [],
   "source": [
    "eig_qb.sim.setup.max_passes = 15\n",
    "eig_qb.sim.setup.vars.Lj = '7.5 nH'\n",
    "eig_qb.sim.setup.vars = Dict({'Lj': '7.5 nH', 'Cj': '3 fF'})\n",
    "\n",
    "eig_qb.sim.setup_update(max_delta_f = 0.5, min_freq_ghz = 3)\n",
    "eig_qb.sim.setup.min_passes = 10\n",
    "eig_qb.sim.setup.n_modes = 1\n",
    "\n",
    "gui.rebuild()\n",
    "gui.autoscale()\n",
    "\n"
   ]
  },
  {
   "cell_type": "code",
   "execution_count": null,
   "metadata": {},
   "outputs": [],
   "source": [
    "eig_qb.sim.renderer._options['max_mesh_length_jj'] = '3um'\n",
    "eig_qb.sim.renderer._options['max_mesh_length_port'] = '3um'"
   ]
  },
  {
   "cell_type": "code",
   "execution_count": null,
   "metadata": {},
   "outputs": [],
   "source": [
    "\n",
    "design.qgeometry.tables['junction']\n",
    "qcomps=design.components\n",
    "qcomps['Q2'].options['hfss_inductance'] = 'Lj'\n",
    "qcomps['Q2'].options['hfss_capacitance'] = 'Cj'\n",
    "\n",
    "gui.rebuild()\n",
    "gui.autoscale()\n",
    "\n",
    "\n",
    "\n",
    "eig_qb.sim.run(name=\"Xmon_only_new\", components=['Q2'], open_terminations=[], box_plus_buffer = False)\n",
    "eig_qb.sim.plot_convergences()"
   ]
  },
  {
   "cell_type": "markdown",
   "metadata": {},
   "source": [
    "The last variables you pass to the `run()` or `sim.run()` methods, will be stored in the `sim.setup` dictionary under the key `run`. You can recall the information passed by either accessing the dictionary directly, or by using the print handle below."
   ]
  },
  {
   "cell_type": "code",
   "execution_count": null,
   "metadata": {},
   "outputs": [],
   "source": [
    "eig_qb.sim.plot_convergences()"
   ]
  },
  {
   "cell_type": "code",
   "execution_count": null,
   "metadata": {},
   "outputs": [],
   "source": [
    "# eig_qb.setup.run    <- direct access\n",
    "eig_qb.sim.print_run_args()"
   ]
  },
  {
   "cell_type": "code",
   "execution_count": null,
   "metadata": {},
   "outputs": [],
   "source": [
    "eig_qb.setup.junctions.jj.rect = 'JJ_rect_Lj_Q1_rect_jj'\n",
    "eig_qb.setup.junctions.jj.line = 'JJ_Lj_Q1_rect_jj_'\n",
    "eig_qb.run_epr()"
   ]
  },
  {
   "cell_type": "markdown",
   "metadata": {},
   "source": [
    "Checking the magnetic field of the modes."
   ]
  },
  {
   "cell_type": "code",
   "execution_count": null,
   "metadata": {
    "scrolled": true
   },
   "outputs": [],
   "source": [
    "eig_qb.sim.plot_fields('main')  \n",
    "\n",
    "hfss = eig_qb.sim.renderer\n",
    "hfss.clear_fields(['Mag_E1'])\n",
    "hfss.set_mode(1, \"Setup\")\n",
    "hfss.modeler._modeler.ShowWindow()\n",
    "hfss.plot_fields('main')\n",
    "hfss.save_screenshot()"
   ]
  },
  {
   "cell_type": "code",
   "execution_count": null,
   "metadata": {},
   "outputs": [],
   "source": [
    "eig_qb.sim.clear_fields()"
   ]
  },
  {
   "cell_type": "markdown",
   "metadata": {},
   "source": [
    "# Xmon and resonators together"
   ]
  },
  {
   "cell_type": "code",
   "execution_count": null,
   "metadata": {},
   "outputs": [],
   "source": [
    "from qiskit_metal.analyses.quantization import EPRanalysis"
   ]
  },
  {
   "cell_type": "code",
   "execution_count": null,
   "metadata": {},
   "outputs": [],
   "source": [
    "design.qgeometry.tables['junction']\n",
    "qcomps=design.components\n",
    "qcomps['Q1'].options['hfss_inductance'] = 'Lj'\n",
    "qcomps['Q1'].options['hfss_capacitance'] = 'Cj'\n",
    "gui.rebuild()\n",
    "gui.autoscale()"
   ]
  },
  {
   "cell_type": "code",
   "execution_count": null,
   "metadata": {
    "scrolled": false
   },
   "outputs": [],
   "source": [
    "eig_rd = EPRanalysis(design, \"hfss\")\n",
    "\n",
    "eig_rd.sim.setup.vars.Lj = '7.5 nH'\n",
    "eig_rd.sim.setup.vars = Dict({'Lj': '7.5 nH', 'Cj': '3 fF'})\n",
    "gui.rebuild()\n",
    "gui.autoscale()"
   ]
  },
  {
   "cell_type": "markdown",
   "metadata": {},
   "source": [
    "# Qubit 1 related simulations"
   ]
  },
  {
   "cell_type": "code",
   "execution_count": null,
   "metadata": {
    "scrolled": true
   },
   "outputs": [],
   "source": [
    "eig_rd.sim.setup.n_modes =3\n",
    "\n",
    "# eig_rd.sim.setup.min_passes = 1\n",
    "# eig_rd.sim.setup.max_passes = 1\n",
    "\n",
    "eig_rd.sim.setup.min_passes = 12\n",
    "eig_rd.sim.setup.max_passes = 17\n",
    "\n",
    "\n",
    "eig_rd.sim.setup_update(max_delta_f = 0.5, min_freq_ghz = 1.1)\n",
    "\n",
    "\n",
    "design.qgeometry.tables['junction']\n",
    "qcomps=design.components\n",
    "qcomps['Q2'].options['hfss_inductance'] = 'Lj'\n",
    "qcomps['Q2'].options['hfss_capacitance'] = 'Cj'\n",
    "\n",
    "\n",
    "#eig_rd.sim.run(name=\"xmon_and_readout_storage_final\", components=['Q1', 'read_q1', 'Store_Q1_1', 'TQ1'], open_terminations=[], box_plus_buffer = False)\n",
    "#eig_rd.sim.run(name=\"xmon_and_readout_87\", components=['Q1', 'read_q1', 'TQ1'], open_terminations=[('TQ1', 'prime_start'), ('TQ1', 'prime_end')], box_plus_buffer = False)\n",
    "\n",
    "\n",
    "#eig_rd.sim.run(name=\"readout4\", components=['read_q1', 'TQ1', 'Q1'], open_terminations=[('TQ1', 'prime_end'), ('TQ1', 'prime_start')], box_plus_buffer = False)\n",
    "eig_rd.sim.run(name=\"storage_and_xmon_and_readout_final3\", components=['Q2', 'Store_Q2_2', 'read_q2', 'TQ2', 'TQ1', 'Launch_Feed_Left', 'Launch_Feed_Right', 'cpw_openFirst', 'cpw_openMid', 'cpw_openLast'], open_terminations=[('TQ1', 'prime_end'), ('TQ1', 'prime_start')], box_plus_buffer = False)\n",
    "#eig_rd.sim.run(name=\"xmon_chargeline\", components=['Q1', 'Charge_Line_1'], open_terminations=[('Charge_Line_1','end')])\n",
    "# eig_rd.sim.run(name=\"open_24_131\", components=['Q1', 'Store_Q1_1', 'Launch_Storage'], open_terminations=[('Launch_Storage','tie')], box_plus_buffer = False)\n",
    "#eig_rd.sim.run(name=\"storage_coupling_PART96\", components=['Q1','Store_Q1_1', 'Storage_Line_1', 'otg11', 'stg11'], open_terminations=[('Storage_Line_1', 'end')], box_plus_buffer = False)\n",
    "#eig_rd.sim.run(name=\"ro_111622\", components=['Q2', 'read_q2', 'TQ2', 'Store_Q2_2'], open_terminations=[], box_plus_buffer = False)\n",
    "#eig_rd.sim.run(name=\"full_set2\", components=['Q2', 'Store_Q2_2' 'read_q2', 'TQ2'], open_terminations=[], box_plus_buffer = False)\n",
    "\n",
    "#eig_rd.sim.run(name=\"xmon_and_ro_set1\", components=['Q1', 'Store_Q1_1', 'read_q1', 'TQ1'], open_terminations=[], box_plus_buffer = False)\n",
    "#eig_rd.sim.run(name=\"storage_loss_fluxpad2\", components=['Q2', 'Store_Q2_2', 'Launch_Flux2'], open_terminations=[], box_plus_buffer = False)\n",
    "eig_rd.sim.plot_convergences()"
   ]
  },
  {
   "cell_type": "markdown",
   "metadata": {},
   "source": [
    "# Qubit 2 related simulations"
   ]
  },
  {
   "cell_type": "code",
   "execution_count": null,
   "metadata": {
    "scrolled": true
   },
   "outputs": [],
   "source": [
    "eig_rd.sim.setup.n_modes =1\n",
    "\n",
    "eig_rd.sim.setup.min_passes = 1\n",
    "eig_rd.sim.setup.max_passes = 1\n",
    "\n",
    "# eig_rd.sim.setup.min_passes = 11\n",
    "# eig_rd.sim.setup.max_passes = 17\n",
    "\n",
    "\n",
    "eig_rd.sim.setup_update(max_delta_f = 0.5, min_freq_ghz = 1.1)\n",
    "\n",
    "\n",
    "design.qgeometry.tables['junction']\n",
    "qcomps=design.components\n",
    "qcomps['Q2'].options['hfss_inductance'] = 'Lj'\n",
    "qcomps['Q2'].options['hfss_capacitance'] = 'Cj'\n",
    "\n",
    "gui.rebuild()\n",
    "gui.autoscale()\n",
    "\n",
    "\n",
    "\n",
    "\n",
    "\n",
    "\n",
    "#eig_rd.sim.run(name=\"storage_coupling_PART92\", components=['Q2','Store_Q2_2', 'Storage_Line_2', 'otg11_2', 'stg11_2'], open_terminations=[('Storage_Line_2', 'end')], box_plus_buffer = False)\n",
    "\n",
    "\n",
    "\n",
    "\n",
    "#eig_rd.sim.run(name=\"xmon_and_readout_storage_ayoy_39\", components=['Q2', 'read_q2', 'Store_Q2_2', 'TQ2'], open_terminations=[], box_plus_buffer = False)\n",
    "eig_rd.sim.run(name=\"xmon_and_readout_PART90\", components=['Q2', 'read_q2', 'TQ2'], open_terminations=[('TQ2', 'prime_start'), ('TQ2', 'prime_end')], box_plus_buffer = False)\n",
    "\n",
    "\n",
    "#eig_rd.sim.run(name=\"readout4\", components=['read_q1', 'TQ1', 'Q1'], open_terminations=[('TQ1', 'prime_end'), ('TQ1', 'prime_start')], box_plus_buffer = False)\n",
    "#eig_rd.sim.run(name=\"storage_and_xmon_and_readout\", components=['Q1', 'Store_Q1', 'read_q1', 'TQ1', 'Launch_Feed_Left', 'Launch_Feed_Right', 'cpw_openRight', 'cpw_openLeft'], open_terminations=[], box_plus_buffer = False)\n",
    "#eig_rd.sim.run(name=\"xmon_chargeline\", components=['Q1', 'Charge_Line_1'], open_terminations=[('Charge_Line_1','end')])\n",
    "# eig_rd.sim.run(name=\"open_24_131\", components=['Q1', 'Store_Q1_1', 'Launch_Storage'], open_terminations=[('Launch_Storage','tie')], box_plus_buffer = False)\n",
    "#eig_rd.sim.run(name=\"storage_coupling_ayoy\", components=['Q1', 'Store_Q1_1', 'stg11', 'Storage_Line_1', 'otg11'], open_terminations=[('otg11', 'open'), ('Storage_Line_1', 'end')], box_plus_buffer = False)\n",
    "#eig_rd.sim.run(name=\"ro_111622\", components=['Q2', 'read_q2', 'TQ2', 'Store_Q2_2'], open_terminations=[], box_plus_buffer = False)\n",
    "#eig_rd.sim.run(name=\"full_set2\", components=['Q2', 'Store_Q2_2' 'read_q2', 'TQ2'], open_terminations=[], box_plus_buffer = False)\n",
    "\n",
    "#eig_rd.sim.run(name=\"xmon_and_ro_set1\", components=['Q1', 'Store_Q1_1', 'read_q1', 'TQ1'], open_terminations=[], box_plus_buffer = False)\n",
    "#eig_rd.sim.run(name=\"storage_loss_fluxpad2\", components=['Q2', 'Store_Q2_2', 'Launch_Flux2'], open_terminations=[], box_plus_buffer = False)\n",
    "eig_rd.sim.plot_convergences()"
   ]
  },
  {
   "cell_type": "code",
   "execution_count": null,
   "metadata": {
    "scrolled": true
   },
   "outputs": [],
   "source": [
    "eig_rd.sim.setup.n_modes =3\n",
    "\n",
    "eig_rd.sim.setup.min_passes = 1\n",
    "eig_rd.sim.setup.max_passes = 1\n",
    "\n",
    "# eig_rd.sim.setup.min_passes = 15\n",
    "# eig_rd.sim.setup.max_passes = 17\n",
    "\n",
    "\n",
    "eig_rd.sim.setup_update(max_delta_f = 0.5, min_freq_ghz = 1.1)\n",
    "\n",
    "\n",
    "design.qgeometry.tables['junction']\n",
    "qcomps=design.components\n",
    "qcomps['Q1'].options['hfss_inductance'] = 'Lj'\n",
    "qcomps['Q1'].options['hfss_capacitance'] = 'Cj'\n",
    "\n",
    "gui.rebuild()\n",
    "gui.autoscale()\n",
    "\n",
    "\n",
    "eig_rd.sim.run(name=\"chargecoupling\", components=['Q1', 'Charge_Line_1'], open_terminations=[('Charge_Line_1', 'end')], box_plus_buffer = False)\n",
    "\n",
    "\n",
    "eig_rd.sim.plot_convergences()"
   ]
  },
  {
   "cell_type": "code",
   "execution_count": null,
   "metadata": {},
   "outputs": [],
   "source": []
  },
  {
   "cell_type": "code",
   "execution_count": null,
   "metadata": {},
   "outputs": [],
   "source": []
  },
  {
   "cell_type": "code",
   "execution_count": null,
   "metadata": {},
   "outputs": [],
   "source": [
    "eig_rd.sim.setup"
   ]
  },
  {
   "cell_type": "markdown",
   "metadata": {},
   "source": [
    "Recover eigenmode frequencies for each variation."
   ]
  },
  {
   "cell_type": "markdown",
   "metadata": {},
   "source": [
    "Display the Ansys modeler window and plot the E-field on the chip's surface."
   ]
  },
  {
   "cell_type": "code",
   "execution_count": null,
   "metadata": {
    "scrolled": true
   },
   "outputs": [],
   "source": [
    "\n",
    "hfss = eig_rd.sim.renderer\n",
    "hfss.clear_fields(['Mag_E1'])\n",
    "hfss.set_mode(1, \"Setup\")\n",
    "hfss.modeler._modeler.ShowWindow()\n",
    "hfss.plot_fields('main')\n",
    "hfss.save_screenshot()"
   ]
  },
  {
   "cell_type": "markdown",
   "metadata": {},
   "source": [
    "### EPR Analysis\n",
    "Find the electric and magnetic energy stored in the readout system."
   ]
  },
  {
   "cell_type": "code",
   "execution_count": null,
   "metadata": {},
   "outputs": [],
   "source": [
    "\n",
    "eig_rd.sim.setup.name"
   ]
  },
  {
   "cell_type": "code",
   "execution_count": null,
   "metadata": {},
   "outputs": [],
   "source": [
    "# eig_rd.setup\n",
    "# eig_rd.setup.junctions.jj.rect = 'JJ_rect_Lj_Q1_rect_jj'\n",
    "# eig_rd.setup.junctions.jj.line = 'JJ_Lj_Q1_rect_jj_'\n",
    "\n",
    "# eig_rd.setup\n",
    "\n",
    "eig_rd.setup\n",
    "eig_rd.setup.junctions.jj.rect = 'JJ_rect_Lj_Q2_rect_jj'\n",
    "eig_rd.setup.junctions.jj.line = 'JJ_Lj_Q2_rect_jj_'\n",
    "\n",
    "eig_rd.setup"
   ]
  },
  {
   "cell_type": "code",
   "execution_count": null,
   "metadata": {
    "scrolled": false
   },
   "outputs": [],
   "source": [
    "\n",
    "eig_rd.run_epr()"
   ]
  },
  {
   "cell_type": "code",
   "execution_count": null,
   "metadata": {},
   "outputs": [],
   "source": [
    "eig_rd.sim.setup.vars.Lj "
   ]
  },
  {
   "cell_type": "code",
   "execution_count": null,
   "metadata": {},
   "outputs": [],
   "source": [
    "eig_rd.sim.close()"
   ]
  },
  {
   "cell_type": "code",
   "execution_count": null,
   "metadata": {},
   "outputs": [],
   "source": []
  },
  {
   "cell_type": "markdown",
   "metadata": {},
   "source": [
    "# LOM"
   ]
  },
  {
   "cell_type": "code",
   "execution_count": null,
   "metadata": {
    "scrolled": true
   },
   "outputs": [],
   "source": [
    "from qiskit_metal.analyses.quantization import LOManalysis\n",
    "c1 = LOManalysis(design, \"q3d\")\n",
    "\n",
    "# example: update single setting\n",
    "c1.sim.setup.max_passes = 10\n",
    "# example: update multiple settings\n",
    "c1.sim.setup_update(solution_order = 'Medium', auto_increase_solution_order = 'False')\n",
    "\n",
    "c1.sim.setup\n",
    "\n",
    "\n",
    "c1.sim.run(components=['Q1', 'Store_Q1_1','Storage_Line_1', 'Launch_Storage'], open_terminations=[('Storage_Line_1', 'start')])\n"
   ]
  },
  {
   "cell_type": "code",
   "execution_count": null,
   "metadata": {},
   "outputs": [],
   "source": [
    "c1.sim.capacitance_matrix"
   ]
  },
  {
   "cell_type": "code",
   "execution_count": null,
   "metadata": {},
   "outputs": [],
   "source": []
  }
 ],
 "metadata": {
  "kernelspec": {
   "display_name": "lolo",
   "language": "python",
   "name": "lolo"
  },
  "language_info": {
   "codemirror_mode": {
    "name": "ipython",
    "version": 3
   },
   "file_extension": ".py",
   "mimetype": "text/x-python",
   "name": "python",
   "nbconvert_exporter": "python",
   "pygments_lexer": "ipython3",
   "version": "3.10.5"
  }
 },
 "nbformat": 4,
 "nbformat_minor": 4
}

{
 "cells": [
  {
   "cell_type": "markdown",
   "metadata": {},
   "source": [
    "#Step by step design for the two resonator single xmon design. \n"
   ]
  },
  {
   "cell_type": "markdown",
   "metadata": {},
   "source": [
    "## Sections\n",
    "### I. Transmon only\n",
    "1. Prepare the layout in qiskit-metal. <br>\n",
    "1. Run finite element eigenmode analysis. <br>\n",
    "1. Plot fields and display them. <br>\n",
    "1. Set up EPR junction dictionary. <br>\n",
    "1. Run EPR analysis on single mode. <br>\n",
    "1. Get qubit freq and anharmonicity. <br>\n",
    "1. Calculate EPR of substrate.  <br>\n",
    "1. (Extra: Calculate surface EPR.) <br>\n",
    "\n",
    "### II. Resonator only\n",
    "1. Update the layout in qiskit-metal. <br>\n",
    "1. Run finite element eigenmode analysis. <br>\n",
    "1. Plot fields and display them. <br>\n",
    "1. Calculate EPR of substrate. <br>\n",
    "    \n",
    "### III. Transmon & resonator\n",
    "1. Update the layout in qiskit-metal. <br>\n",
    "1. Run finite element eigenmode analysis. <br>\n",
    "1. Plot fields and display them. <br>\n",
    "1. Set up EPR junction dictionary. <br>\n",
    "1. Run EPR analysis on the two modes. <br>\n",
    "1. Get qubit frequency and anharmonicity. <br>\n",
    "\n",
    "### IV. Transmon & resonator\n",
    "1. Update the layout in qiskit-metal. <br>\n",
    "1. Run finite element eigenmode analysis. <br>\n",
    "1. Plot fields and display them. <br>\n",
    "1. Set up EPR junction dictionary. <br>\n",
    "1. Run EPR analysis on the two modes. <br>\n",
    "1. Get qubit frequency and anharmonicity. <br>\n",
    "\n",
    "### V. Analyze the coupled  transmon 2 resonator system. \n",
    "1. Finite Element Eigenmode Analysis\n",
    "1. Identify the mode you want. The mode can inclusively be from 1 to setup.n_modes.\n",
    "1. Set variables in the Ansys design. As before, we seek 2 modes.\n",
    "1. Set up the simulation and specify the variables for the sweep.\n",
    "1. Plot the E-field on the chip's surface.\n",
    "1. Specify the junctions in the model; in this case there are 2 junctions.\n",
    "1. Find the electric and magnetic energy stored in the substrate and the system as a whole.\n",
    "1. Perform EPR analysis for all modes and variations."
   ]
  },
  {
   "cell_type": "code",
   "execution_count": 1,
   "metadata": {
    "ExecuteTime": {
     "end_time": "2023-08-21T04:26:24.417019Z",
     "start_time": "2023-08-21T04:26:24.381944Z"
    },
    "scrolled": true
   },
   "outputs": [],
   "source": [
    "%reload_ext autoreload\n",
    "%autoreload 2\n"
   ]
  },
  {
   "cell_type": "code",
   "execution_count": 4,
   "metadata": {
    "ExecuteTime": {
     "end_time": "2023-08-21T04:31:12.471668Z",
     "start_time": "2023-08-21T04:31:12.406297Z"
    },
    "scrolled": true
   },
   "outputs": [
    {
     "data": {
      "text/html": [
       "\n",
       "    <h1 style=\"\n",
       "        background: #12c2e9;  /* fallback for old browsers */\n",
       "        background: -webkit-linear-gradient(to right, #d4418e 0%, #0652c5 74%);  /* Chrome 10-25, Safari 5.1-6 */\n",
       "        background: linear-gradient(315deg, #d4418e 0%, #0652c5 74%); /* W3C, IE 10+/ Edge, Firefox 16+, Chrome 26+, Opera 12+, Safari 7+ */\n",
       "        margin-top: 50px;\n",
       "        border-style: outset;\n",
       "        padding-top:100px;\n",
       "        padding-bottom:50px;\n",
       "        padding-left:25px;\n",
       "        color: white;\n",
       "    \"> Good news: Qiskit Metal works fine! <h1>\n",
       "        "
      ],
      "text/plain": [
       "<IPython.core.display.HTML object>"
      ]
     },
     "metadata": {},
     "output_type": "display_data"
    }
   ],
   "source": [
    "\n",
    "import qiskit_metal as metal\n",
    "from qiskit_metal import designs, draw\n",
    "from qiskit_metal import MetalGUI, Dict, Headings\n",
    "import pyEPR as epr\n",
    "%metal_heading Good news: Qiskit Metal works fine!"
   ]
  },
  {
   "cell_type": "code",
   "execution_count": 5,
   "metadata": {
    "ExecuteTime": {
     "end_time": "2023-08-21T04:31:19.260035Z",
     "start_time": "2023-08-21T04:31:19.199460Z"
    },
    "scrolled": true
   },
   "outputs": [],
   "source": [
    "from qiskit_metal.qlibrary.qubits.transmon_pocket_cl import TransmonPocketCL\n",
    "\n",
    "from qiskit_metal.qlibrary.qubits.transmon_pocket_cl_fl import TransmonPocketCL_FL\n",
    "from qiskit_metal.qlibrary.qubits.transmon_cross_fl import TransmonCrossFL\n",
    "from qiskit_metal.qlibrary.qubits.transmon_cross_fl_cl import TransmonCrossFL_CL\n",
    "from qiskit_metal.qlibrary.qubits.transmon_cross import TransmonCross\n",
    "from qiskit_metal.qlibrary.couplers.tunable_coupler_01 import TunableCoupler01\n",
    "\n",
    "from qiskit_metal.qlibrary.tlines.meandered import RouteMeander\n",
    "from qiskit_metal.qlibrary.tlines.pathfinder import RoutePathfinder\n",
    "from qiskit_metal.qlibrary.tlines.anchored_path import RouteAnchors\n",
    "from qiskit_metal.qlibrary.tlines.straight_path import RouteStraight\n",
    "\n",
    "from qiskit_metal.qlibrary.terminations.open_to_ground import OpenToGround\n",
    "from qiskit_metal.qlibrary.terminations.short_to_ground import ShortToGround\n",
    "\n",
    "from qiskit_metal.qlibrary.lumped.cap_n_interdigital import CapNInterdigital\n",
    "from qiskit_metal.qlibrary.lumped.cap_3_interdigital import Cap3Interdigital\n",
    "from qiskit_metal.qlibrary.couplers.cap_n_interdigital_tee import CapNInterdigitalTee\n",
    "from qiskit_metal.qlibrary.couplers.coupled_line_tee import CoupledLineTee\n",
    "from qiskit_metal.qlibrary.couplers.coupled_line_tee import CoupledLineTee\n",
    "from qiskit_metal.qlibrary.terminations.launchpad_wb import LaunchpadWirebond\n",
    "from qiskit_metal.qlibrary.couplers.line_tee import LineTee\n",
    "#from qiskit_metal.qlibrary.terminations.launchpad_wb_simplecoupler import LaunchpadWirebondSimple\n",
    "#from qiskit_metal.qlibrary.terminations.launchpad_wb_coupled import LaunchpadWirebondCoupled\n",
    "\n",
    "from qiskit_metal.qlibrary.terminations.short_to_ground import ShortToGround\n",
    "import numpy as np\n",
    "from collections import OrderedDict\n",
    "\n",
    "from qiskit_metal.qlibrary.qubits.transmon_cross_ebru_temp import TransmonCross_ebru_temp\n",
    "\n",
    "from qiskit_metal.qlibrary.qubits.transmon_cross_fl_ebru_temp import TransmonCrossFL_ebru_temp\n",
    "from qiskit_metal.qlibrary.qubits.transmon_cross_fl_cl_ebru_temp import TransmonCrossFL_CL_ebru_temp\n"
   ]
  },
  {
   "cell_type": "code",
   "execution_count": 6,
   "metadata": {
    "ExecuteTime": {
     "end_time": "2023-08-21T04:31:22.654997Z",
     "start_time": "2023-08-21T04:31:22.134609Z"
    },
    "scrolled": true
   },
   "outputs": [],
   "source": [
    "design = metal.designs.DesignPlanar()\n",
    "\n",
    "design.chips.main.size['size_x'] = '5mm'\n",
    "design.chips.main.size['size_y'] = '5mm'\n",
    "design.chips.main.size['size_z'] = '-725um'\n",
    "gui = MetalGUI(design)"
   ]
  },
  {
   "cell_type": "markdown",
   "metadata": {},
   "source": [
    "# Resonator length estimate"
   ]
  },
  {
   "cell_type": "code",
   "execution_count": 2,
   "metadata": {
    "ExecuteTime": {
     "end_time": "2023-08-28T03:40:47.697303Z",
     "start_time": "2023-08-28T03:40:47.690160Z"
    },
    "scrolled": true
   },
   "outputs": [
    {
     "data": {
      "text/plain": [
       "'8.694776247529553 mm'"
      ]
     },
     "execution_count": 2,
     "metadata": {},
     "output_type": "execute_result"
    }
   ],
   "source": [
    "from qiskit_metal.analyses.em.cpw_calculations import guided_wavelength\n",
    "\n",
    "def find_resonator_length(frequency, line_width, line_gap, N): \n",
    "    #frequency in GHz\n",
    "    #line_width/line_gap in um\n",
    "    #N -> 2 for lambda/2, 4 for lambda/4\n",
    "    \n",
    "    [lambdaG, etfSqrt, q] = guided_wavelength(frequency*10**9, line_width*10**-6,\n",
    "                                              line_gap*10**-6, 750*10**-6, 200*10**-9)\n",
    "    return str(lambdaG/N*10**3)+\" mm\"\n",
    "\n",
    "\n",
    "find_resonator_length(7\n",
    "                      , 10, 6, 2)"
   ]
  },
  {
   "cell_type": "code",
   "execution_count": 8,
   "metadata": {
    "ExecuteTime": {
     "end_time": "2023-08-21T04:31:25.222198Z",
     "start_time": "2023-08-21T04:31:24.894869Z"
    }
   },
   "outputs": [
    {
     "name": "stderr",
     "output_type": "stream",
     "text": [
      "12:31AM 24s INFO [make_connection_pad]: Warning: Did you mean to define a transmon wubit with loc_W and loc_H that are not +1 or -1?? Are you sure you want to do this?\n",
      "12:31AM 25s INFO [make_connection_pad]: Warning: Did you mean to define a transmon wubit with loc_W and loc_H that are not +1 or -1?? Are you sure you want to do this?\n"
     ]
    }
   ],
   "source": [
    "design.overwrite_enabled = True\n",
    "options =  dict(\n",
    "    connection_pads=dict(\n",
    "        readout = dict(loc_W=+1, loc_H=+1),\n",
    "        storage = dict(loc_W=-1, loc_H=-1, )\n",
    "    ))\n",
    "    \n",
    "from qiskit_metal.qlibrary.qubits.transmon_cross_fl import TransmonCrossFL\n",
    "from qiskit_metal.qlibrary.qubits.transmon_cross_fl_cl import TransmonCrossFL_CL\n",
    "from qiskit_metal.qlibrary.qubits.transmon_pocket_cl_fl import TransmonPocketCL_FL\n",
    "\n",
    "\n",
    "# # Q1 = TransmonCrossFL_CL_ebru_temp(design, 'Q1', options = dict(make_extra_rect=False, pos_x = '0.450mm', pos_y='1.410mm', \n",
    "# #                                                      cross_length='40um', cross_width='10um', cross_gap='15um',\n",
    "# #                                                     # cross_gap='3um',\n",
    "# #                                                  connection_pads = dict(\n",
    "# #                                                      readout = dict(connector_location = '90', lead_gap='6um',\n",
    "# #                                                      claw_length='30um', claw_width='5um', ground_spacing='2um', \n",
    "# #                                                                     claw_gap='5um', lead_width='10um', lead_length='60um')),#claw_length ='115um', claw_width='25um', claw_gap='7um',ground_spacing='3um')),\n",
    "# #                                                  fl_options = dict(t_shift='3.5um' , t_offset='-6um', t_inductive_gap='4.5um', \n",
    "# #                                                                    t_top='10.5um', t_width='5um', t_gap='3um'),\n",
    "# #                                                  cl_options= dict(c_offset='-40um', c_ground_gap='38um', c_width='5um', \n",
    "# #                                                                   c_gap='3um', translate_x='0um', c_angle='90'),\n",
    "# #                                                  ))\n",
    "\n",
    "\n",
    "# Q1 = TransmonPocketCL_FL(design, 'Q1', options = dict( pos_x = '0.55mm', pos_y='1.410mm', orientation='90',\n",
    "#                                                             connection_pads=dict(\n",
    "#                                     a = dict(pad_gap='20um', loc_W=1.5, loc_H=-1, pad_width='20um', cpw_extend = '50um'),\n",
    "                                    \n",
    "                                    \n",
    "#                                     #b = dict(loc_W=-1, loc_H=-1, pad_width='125um', cpw_extend = '50um', pad_height='60um'),\n",
    "#                                     #c = dict(loc_W=+1, loc_H=+1, pad_width='110um', cpw_extend = '50um')\n",
    "#     ),\n",
    "#     pad_width='88um', pad_height='88um', pad_gap='140um', inductor_width='10um',\n",
    "#     pocket_width='240um', pocket_height='500um', \n",
    "#     cl_pocket_edge = '270',\n",
    "#     cl_off_center = '2.5um',\n",
    "#     cl_gap='3um', cl_width='5um',\n",
    "                                                      \n",
    "#                                                  ))\n",
    "\n",
    "\n",
    "Q1 = TransmonPocketCL_FL(design, 'Q1', options = dict( pos_x = '0.2mm', pos_y='-1.09mm', orientation='90',\n",
    "                                                            connection_pads=dict(\n",
    "                                    a = dict(pad_gap='20um', loc_W=1.2, loc_H=-1.5, pad_width='25um', cpw_extend = '50um'),\n",
    "                                    \n",
    "                                    #b = dict(loc_W=-1, loc_H=-1, pad_width='125um', cpw_extend = '50um', pad_height='60um'),\n",
    "                                    #c = dict(loc_W=+1, loc_H=+1, pad_width='110um', cpw_extend = '50um')\n",
    "    ),\n",
    "    pad_width='88um', pad_height='88um', pad_gap='140um', inductor_width='10um',\n",
    "    pocket_width='240um', pocket_height='500um', \n",
    "    cl_pocket_edge = '90',\n",
    "    cl_off_center = '0um',\n",
    "    cl_gap='3um', cl_width='5um',\n",
    "    cl_length='0um', \n",
    "                                                      #fl_options = dict(t_shift='0um', t_offset='130um'),\n",
    "                                                      \n",
    "                                                      \n",
    "                                                 ))\n",
    "\n",
    "\n",
    "# Q1 = TransmonPocketCL_FL(design, 'Q1', options = dict( pos_x = '0.55mm', pos_y='1.410mm', orientation='90',\n",
    "#                                                             connection_pads=dict(\n",
    "#                                     a = dict(pad_gap='20um', loc_W=-1, loc_H=-1, pad_width='50um', cpw_extend = '50um'),\n",
    "                                    \n",
    "#                                     #b = dict(loc_W=-1, loc_H=-1, pad_width='125um', cpw_extend = '50um', pad_height='60um'),\n",
    "#                                     #c = dict(loc_W=+1, loc_H=+1, pad_width='110um', cpw_extend = '50um')\n",
    "#     ),\n",
    "#     pad_width='88um', pad_height='88um', pad_gap='140um', inductor_width='10um',\n",
    "#     pocket_width='240um', pocket_height='500um', \n",
    "#     cl_pocket_edge = '270',\n",
    "#     cl_off_center = '120um',\n",
    "#     cl_gap='3um', cl_width='5um',\n",
    "#     cl_length='0um', \n",
    "#                                                       #fl_options = dict(t_shift='0um', t_offset='130um'),\n",
    "                                                      \n",
    "                                                      \n",
    "#                                                  ))\n",
    "\n",
    "Q2 = TransmonCrossFL_CL_ebru_temp(design, 'Q2', options = dict(make_extra_rect=False, make_fl=False, pos_x = '-0.15mm', pos_y='-1.09mm', orientation=0, \n",
    "                                                     cross_length='128um', cross_width='36um', cross_gap='30um',\n",
    "                                                    \n",
    "                                                 connection_pads = dict(\n",
    "                                                     readout = dict(connector_location = '90', lead_gap='6um',\n",
    "                                                     claw_length='90um', claw_width='10um', ground_spacing='3um', \n",
    "                                                                    claw_gap='8um', lead_width='10um', lead_length='60um')),#claw_length ='115um', claw_width='25um', claw_gap='7um',ground_spacing='3um')),\n",
    "                                                 fl_options = dict(t_shift='-100um' , t_offset='0um', t_inductive_gap='4.5um', \n",
    "                                                                   t_top='10.5um', t_width='5um', t_gap='3um'),\n",
    "                                                 cl_options= dict(c_offset='30um', c_ground_gap='38um', c_width='5um', \n",
    "                                                                  c_gap='3um', translate_x='-20um', translate_y='-50um',  c_angle='270'),\n",
    "                                                 rect_options= dict(rect_width='40um', rect_length='8um')))\n",
    "\n",
    "\n",
    "gui.rebuild()\n",
    "gui.autoscale()"
   ]
  },
  {
   "cell_type": "code",
   "execution_count": null,
   "metadata": {},
   "outputs": [],
   "source": []
  },
  {
   "cell_type": "code",
   "execution_count": null,
   "metadata": {},
   "outputs": [],
   "source": []
  },
  {
   "cell_type": "markdown",
   "metadata": {},
   "source": [
    "# Launchpads and charge and flux lines"
   ]
  },
  {
   "cell_type": "code",
   "execution_count": 123,
   "metadata": {
    "ExecuteTime": {
     "end_time": "2023-08-21T08:35:22.898297Z",
     "start_time": "2023-08-21T08:35:21.839962Z"
    },
    "scrolled": true
   },
   "outputs": [
    {
     "name": "stderr",
     "output_type": "stream",
     "text": [
      "04:35AM 22s INFO [make_connection_pad]: Warning: Did you mean to define a transmon wubit with loc_W and loc_H that are not +1 or -1?? Are you sure you want to do this?\n",
      "04:35AM 22s WARNING [check_lengths]: For path table, component=cpw_openMid, key=trace has short segments that could cause issues with fillet. Values in (1-2)  are index(es) in shapely geometry.\n",
      "04:35AM 22s WARNING [check_lengths]: For path table, component=cpw_openMid, key=cut has short segments that could cause issues with fillet. Values in (1-2)  are index(es) in shapely geometry.\n"
     ]
    }
   ],
   "source": [
    "\n",
    "import numpy as np\n",
    "from collections import OrderedDict\n",
    "\n",
    "\n",
    "#LAUNCH CHARGE FOR Q2\n",
    "\n",
    "launch_chargeQ2_options = dict(trace_width= '5um', trace_gap='3um', pad_width='150um', pad_gap_y= '130um', \n",
    "                           pad_gap_x = '96um', pad_height='200um', \n",
    "                           taper_height='150um', \n",
    "                           pos_x='-2.954mm', pos_y='-1.8mm', orientation='0', lead_length='30um')\n",
    "lc2 = LaunchpadWirebond(design, 'Launch_ChargeQ2', options = launch_chargeQ2_options)\n",
    "#anchors1ch = OrderedDict()\n",
    "#anchors1ch[0] = np.array([1.78, 0.114])\n",
    "charge_line_Q2 = RoutePathfinder(design,'Charge_Line_2', options = dict(hfss_wire_bonds = True,\n",
    "                                            pin_inputs=Dict(\n",
    "                                                start_pin=Dict(\n",
    "                                                    component='Q2',\n",
    "                                                    pin='charge_line'),\n",
    "                                                end_pin=Dict(\n",
    "                                                    component='Launch_ChargeQ2',\n",
    "                                                    pin='tie')),\n",
    "                                            lead=Dict(\n",
    "                                                start_straight='175um',\n",
    "                                                end_straight = '100um',\n",
    "                                                #end_jogged_extension = jogs_end\n",
    "                                            ),\n",
    "                                            fillet = '60um',\n",
    "                                            trace_width = '5um',\n",
    "                                            trace_gap = '3um',\n",
    "                                            #anchors = anchors1ch\n",
    "                                            ))\n",
    "\n",
    "#LAUNCH 6 (not used for the moment)\n",
    "launch6 = dict(trace_width= '5um', trace_gap='3um', pad_width='150um', pad_gap_y= '130um', \n",
    "                             pad_gap_x = '96um', pad_height='200um', \n",
    "                           taper_height='150um',  pos_x='1.954', pos_y='0.60081mm', orientation='180', lead_length='30um')\n",
    "l6 = LaunchpadWirebond(design, 'Launch6', options = launch6)\n",
    "\n",
    "\n",
    "\n",
    "\n",
    "#LAUNCH FEED LEFT (for the transmission line)\n",
    "\n",
    "launch_feed_left = dict(pad_width='150um', pad_gap_y= '130um', \n",
    "                             pad_gap_x = '96um', pad_height='200um', \n",
    "                           taper_height='150um',  pos_x='-2.954mm', pos_y='1.8mm', orientation='0', lead_length='30um')\n",
    "\n",
    "lfl = LaunchpadWirebond(design, 'Launch_Feed_Left', options = launch_feed_left)\n",
    "\n",
    "\n",
    "\n",
    "launch_feed_right = dict(pad_width='150um', pad_gap_y= '130um', \n",
    "                             pad_gap_x = '96um', pad_height='200um', \n",
    "                           taper_height='150um',  pos_x='1.954mm', pos_y='1.80081mm', orientation='180', lead_length='30um')\n",
    "lfr = LaunchpadWirebond(design, 'Launch_Feed_Right', options = launch_feed_right)\n",
    "\n",
    "\n",
    "#LAUNCH 2(not used)\n",
    "\n",
    "launch2 = dict(trace_width= '10um',pad_width='150um', pad_gap_x= '96um', pad_gap_y= '130um', pad_height='200um', \n",
    "                           taper_height='150um',  pos_x='-2.954mm', pos_y='-0.6mm', orientation='0', lead_length='30um')\n",
    "l2 = LaunchpadWirebond(design, 'Launch2', options = launch2)\n",
    "\n",
    "#LAUNCH 3 (not used)\n",
    "launch3 = dict(trace_width= '10um', pad_width='150um', pad_gap_x= '96um', pad_gap_y= '130um', pad_height='200um', \n",
    "                           taper_height='150um',  pos_x='-2.954mm', pos_y='0.6mm', lead_length='30um', orientation='0')\n",
    "l3 = LaunchpadWirebond(design, 'Launch3', options = launch3)\n",
    "\n",
    "\n",
    "\n",
    "#LAUNCH FLUX FOR QUBIT 1\n",
    "launch_fluxQ1_options = dict(trace_width= '5um', trace_gap='3um', pad_width='150um', pad_gap_y= '130um', \n",
    "                             pad_gap_x = '96um', pad_height='200um', \n",
    "                           taper_height='150um',  pos_x='1.954mm', pos_y='-1.8mm', orientation='180', lead_length='30um')\n",
    "lf1 = LaunchpadWirebond(design, 'Launch_FluxQ1', options = launch_fluxQ1_options)\n",
    "# anchors2f = OrderedDict()\n",
    "# anchors2f[0] = np.array([1.2, 1.25])\n",
    "# anchors2f[1]=np.array([1.2, 0.5])\n",
    "flux_line_Q1 = RoutePathfinder(design,'Flux_Line_1', options = dict(hfss_wire_bonds = True,\n",
    "                                            pin_inputs=Dict(\n",
    "                                                start_pin=Dict(\n",
    "                                                    component='Q1',\n",
    "                                                    pin='flux_line'),\n",
    "                                                end_pin=Dict(\n",
    "                                                    component='Launch_FluxQ1',\n",
    "                                                    pin='tie')),\n",
    "                                            lead=Dict(\n",
    "                                                 #start_straight='175um',\n",
    "                                                 #end_straight = '100um',\n",
    "                                                #end_jogged_extension = jogs_end\n",
    "                                            ),\n",
    "                                            fillet = '20um',\n",
    "                                            trace_width = '5um',\n",
    "                                            trace_gap = '3um',\n",
    "                                            #anchors=anchors2f,\n",
    "                                            ))\n",
    "\n",
    "\n",
    "#LAUNCH CHARGE FOR Q1\n",
    "\n",
    "launch_chargeQ1_options = dict(trace_width= '5um', trace_gap='3um', pad_width='150um', pad_gap_y= '130um', \n",
    "                             pad_gap_x = '96um', pad_height='200um', \n",
    "                           taper_height='150um',  pos_x='1.954mm', pos_y='-0.59919mm', orientation='180', lead_length='30um')\n",
    "\n",
    "lc = LaunchpadWirebond(design, 'Launch_Charge_Q1', options = launch_chargeQ1_options)\n",
    "#anchors1ch = OrderedDict()\n",
    "#anchors1ch[0] = np.array([1.78, 0.114])\n",
    "charge_line_Q1 = RoutePathfinder(design,'Charge_Line_Q1', options = dict(hfss_wire_bonds = True,\n",
    "                                            pin_inputs=Dict(\n",
    "                                                start_pin=Dict(\n",
    "                                                    component='Q1',\n",
    "                                                    pin='Charge_Line'),\n",
    "                                                end_pin=Dict(\n",
    "                                                    component='Launch_Charge_Q1',\n",
    "                                                    pin='tie')),\n",
    "                                            lead=Dict(\n",
    "                                                start_straight='175um',\n",
    "                                                end_straight = '100um',\n",
    "                                                #end_jogged_extension = jogs_end\n",
    "                                            ),\n",
    "                                            fillet = '60um',\n",
    "                                            trace_width = '5um',\n",
    "                                            trace_gap = '3um',\n",
    "                                            #anchors = anchors1ch\n",
    "                                            ))\n",
    "\n",
    "gui.rebuild()    \n",
    "gui.autoscale()   \n",
    "\n",
    "\n",
    "\n"
   ]
  },
  {
   "cell_type": "markdown",
   "metadata": {},
   "source": [
    "# Fixing Ec's for both qubits (and qubit parameters for Xmon)"
   ]
  },
  {
   "cell_type": "markdown",
   "metadata": {},
   "source": [
    "# Pocket fluxonium (Q1), getting EC pretending that it is a transmon \n"
   ]
  },
  {
   "cell_type": "code",
   "execution_count": null,
   "metadata": {
    "ExecuteTime": {
     "end_time": "2023-08-16T18:03:56.339218Z",
     "start_time": "2023-08-16T18:03:55.893263Z"
    }
   },
   "outputs": [],
   "source": [
    "from qiskit_metal.analyses.quantization import EPRanalysis\n",
    "eig_qb1 = EPRanalysis(design, \"hfss\")\n",
    "\n",
    "eig_qb1.sim.setup.vars.Lj = '10 nH'\n",
    "eig_qb1.sim.setup.vars = Dict({'Lj': '10 nH', 'Cj': '3 fF'})\n",
    "gui.rebuild()\n",
    "gui.autoscale()"
   ]
  },
  {
   "cell_type": "code",
   "execution_count": null,
   "metadata": {
    "ExecuteTime": {
     "end_time": "2023-08-16T18:03:58.139519Z",
     "start_time": "2023-08-16T18:03:57.701529Z"
    }
   },
   "outputs": [],
   "source": [
    "design.qgeometry.tables['junction']\n",
    "qcomps=design.components\n",
    "qcomps['Q1'].options['hfss_inductance'] = 'Lj'\n",
    "qcomps['Q1'].options['hfss_capacitance'] = 'Cj'\n",
    "\n",
    "gui.rebuild()\n",
    "gui.autoscale()\n",
    "\n"
   ]
  },
  {
   "cell_type": "code",
   "execution_count": null,
   "metadata": {
    "ExecuteTime": {
     "end_time": "2023-08-16T18:04:38.513378Z",
     "start_time": "2023-08-16T18:04:38.421467Z"
    }
   },
   "outputs": [],
   "source": [
    "eig_qb1.sim.setup.max_passes = 16\n",
    "eig_qb1.sim.setup_update(max_delta_f = 0.5, min_freq_ghz = 1)\n",
    "eig_qb1.sim.setup.min_passes = 10\n",
    "eig_qb1.sim.setup.n_modes = 1"
   ]
  },
  {
   "cell_type": "code",
   "execution_count": null,
   "metadata": {
    "ExecuteTime": {
     "end_time": "2023-08-16T18:04:40.179514Z",
     "start_time": "2023-08-16T18:04:40.085301Z"
    }
   },
   "outputs": [],
   "source": [
    "eig_qb1.sim.renderer._options['max_mesh_length_jj'] = '3um'\n",
    "eig_qb1.sim.renderer._options['max_mesh_length_port'] = '3um'"
   ]
  },
  {
   "cell_type": "code",
   "execution_count": null,
   "metadata": {
    "ExecuteTime": {
     "end_time": "2023-08-16T18:07:43.644753Z",
     "start_time": "2023-08-16T18:04:42.501327Z"
    }
   },
   "outputs": [],
   "source": [
    "eig_qb1.sim.run(name=\"fluxonium_only2\", components=['Q1'], open_terminations=[], box_plus_buffer = False)\n",
    "eig_qb1.sim.plot_convergences()"
   ]
  },
  {
   "cell_type": "code",
   "execution_count": null,
   "metadata": {
    "ExecuteTime": {
     "end_time": "2023-08-16T18:07:59.947857Z",
     "start_time": "2023-08-16T18:07:55.244973Z"
    }
   },
   "outputs": [],
   "source": [
    "eig_qb1.setup.junctions.jj.rect = 'JJ_rect_Lj_Q1_rect_jj'\n",
    "eig_qb1.setup.junctions.jj.line = 'JJ_Lj_Q1_rect_jj_'\n",
    "eig_qb1.run_epr()"
   ]
  },
  {
   "cell_type": "markdown",
   "metadata": {},
   "source": [
    "# Xmon (Q2)"
   ]
  },
  {
   "cell_type": "code",
   "execution_count": null,
   "metadata": {
    "ExecuteTime": {
     "end_time": "2023-08-21T03:51:30.141757Z",
     "start_time": "2023-08-21T03:51:29.569208Z"
    }
   },
   "outputs": [],
   "source": [
    "eig_qb2 = EPRanalysis(design, \"hfss\")\n",
    "\n",
    "eig_qb2.sim.setup.vars.Lj = '10.9 nH'\n",
    "eig_qb2.sim.setup.vars = Dict({'Lj': '10.9 nH', 'Cj': '3 fF'})\n",
    "gui.rebuild()\n",
    "gui.autoscale()"
   ]
  },
  {
   "cell_type": "code",
   "execution_count": null,
   "metadata": {
    "ExecuteTime": {
     "end_time": "2023-08-21T03:51:33.547754Z",
     "start_time": "2023-08-21T03:51:32.970285Z"
    }
   },
   "outputs": [],
   "source": [
    "design.qgeometry.tables['junction']\n",
    "qcomps=design.components\n",
    "qcomps['Q2'].options['hfss_inductance'] = 'Lj'\n",
    "qcomps['Q2'].options['hfss_capacitance'] = 'Cj'\n",
    "\n",
    "gui.rebuild()\n",
    "gui.autoscale()\n",
    "\n"
   ]
  },
  {
   "cell_type": "code",
   "execution_count": null,
   "metadata": {
    "ExecuteTime": {
     "end_time": "2023-08-21T03:51:36.191895Z",
     "start_time": "2023-08-21T03:51:35.610503Z"
    }
   },
   "outputs": [],
   "source": [
    "eig_qb2.sim.setup.max_passes = 16\n",
    "\n",
    "\n",
    "eig_qb2.sim.setup_update(max_delta_f = 0.5, min_freq_ghz = 1)\n",
    "eig_qb2.sim.setup.min_passes = 10\n",
    "eig_qb2.sim.setup.n_modes = 1\n",
    "\n",
    "gui.rebuild()\n",
    "gui.autoscale()\n",
    "\n"
   ]
  },
  {
   "cell_type": "code",
   "execution_count": null,
   "metadata": {
    "ExecuteTime": {
     "end_time": "2023-08-21T03:51:38.428164Z",
     "start_time": "2023-08-21T03:51:38.361453Z"
    }
   },
   "outputs": [],
   "source": [
    "eig_qb2.sim.renderer._options['max_mesh_length_jj'] = '3um'\n",
    "eig_qb2.sim.renderer._options['max_mesh_length_port'] = '3um'"
   ]
  },
  {
   "cell_type": "code",
   "execution_count": null,
   "metadata": {
    "ExecuteTime": {
     "end_time": "2023-08-21T03:54:07.869501Z",
     "start_time": "2023-08-21T03:51:40.490265Z"
    }
   },
   "outputs": [],
   "source": [
    "eig_qb2.sim.run(name=\"Xmon_only\", components=['Q2'], open_terminations=[], box_plus_buffer = False)\n",
    "eig_qb2.sim.plot_convergences()"
   ]
  },
  {
   "cell_type": "code",
   "execution_count": null,
   "metadata": {
    "ExecuteTime": {
     "end_time": "2023-08-15T03:22:08.572609Z",
     "start_time": "2023-08-15T03:22:04.206197Z"
    }
   },
   "outputs": [],
   "source": [
    "eig_qb2.setup.junctions.jj.rect = 'JJ_rect_Lj_Q2_rect_jj'\n",
    "eig_qb2.setup.junctions.jj.line = 'JJ_Lj_Q2_rect_jj_'\n",
    "eig_qb2.run_epr()"
   ]
  },
  {
   "cell_type": "markdown",
   "metadata": {},
   "source": [
    "# Getting qubit-qubit coupling between the pocket fluxonium and the Xmon "
   ]
  },
  {
   "cell_type": "markdown",
   "metadata": {},
   "source": [
    "# With pyepr, again pretending that both qubits are transmons and assuming that Jc is simply capacitive coupling "
   ]
  },
  {
   "cell_type": "markdown",
   "metadata": {},
   "source": [
    "# with capacitance matrix"
   ]
  },
  {
   "cell_type": "code",
   "execution_count": null,
   "metadata": {
    "ExecuteTime": {
     "end_time": "2023-08-17T21:42:08.102207Z",
     "start_time": "2023-08-17T21:41:19.435467Z"
    },
    "scrolled": true
   },
   "outputs": [],
   "source": [
    "from qiskit_metal.analyses.quantization import LOManalysis\n",
    "c1 = LOManalysis(design, \"q3d\")\n",
    "\n",
    "# example: update single setting\n",
    "c1.sim.setup.max_passes = 10\n",
    "# example: update multiple settings\n",
    "c1.sim.setup_update(solution_order = 'Medium', auto_increase_solution_order = 'False')\n",
    "\n",
    "c1.sim.setup\n",
    "\n",
    "c1.sim.run(components=['Q1', 'Q2'], open_terminations=[])\n",
    "c1.sim.capacitance_matrix"
   ]
  },
  {
   "cell_type": "markdown",
   "metadata": {},
   "source": [
    "# Flux Lines and Flux Launchpads"
   ]
  },
  {
   "cell_type": "code",
   "execution_count": null,
   "metadata": {},
   "outputs": [],
   "source": []
  },
  {
   "cell_type": "code",
   "execution_count": null,
   "metadata": {
    "ExecuteTime": {
     "end_time": "2023-08-19T06:09:03.138621Z",
     "start_time": "2023-08-19T06:09:02.899642Z"
    },
    "scrolled": true
   },
   "outputs": [],
   "source": []
  },
  {
   "cell_type": "code",
   "execution_count": null,
   "metadata": {
    "ExecuteTime": {
     "end_time": "2023-08-19T06:09:12.360063Z",
     "start_time": "2023-08-19T06:09:11.811138Z"
    }
   },
   "outputs": [],
   "source": [
    "\n"
   ]
  },
  {
   "cell_type": "code",
   "execution_count": null,
   "metadata": {
    "ExecuteTime": {
     "end_time": "2023-07-25T19:04:13.711019Z",
     "start_time": "2023-07-25T19:04:13.711019Z"
    },
    "scrolled": true
   },
   "outputs": [],
   "source": [
    "print(\"RUn\")"
   ]
  },
  {
   "cell_type": "markdown",
   "metadata": {},
   "source": [
    "# Feedline\n"
   ]
  },
  {
   "cell_type": "code",
   "execution_count": 261,
   "metadata": {
    "ExecuteTime": {
     "end_time": "2023-08-23T04:15:27.232208Z",
     "start_time": "2023-08-23T04:15:26.331817Z"
    },
    "scrolled": true
   },
   "outputs": [
    {
     "name": "stderr",
     "output_type": "stream",
     "text": [
      "12:15AM 26s WARNING [check_lengths]: For path table, component=cpw_openMid, key=trace has short segments that could cause issues with fillet. Values in (1-2)  are index(es) in shapely geometry.\n",
      "12:15AM 26s WARNING [check_lengths]: For path table, component=cpw_openMid, key=cut has short segments that could cause issues with fillet. Values in (1-2)  are index(es) in shapely geometry.\n",
      "12:15AM 26s INFO [make_connection_pad]: Warning: Did you mean to define a transmon wubit with loc_W and loc_H that are not +1 or -1?? Are you sure you want to do this?\n",
      "12:15AM 26s WARNING [check_lengths]: For path table, component=cpw_openMid, key=trace has short segments that could cause issues with fillet. Values in (1-2)  are index(es) in shapely geometry.\n",
      "12:15AM 26s WARNING [check_lengths]: For path table, component=cpw_openMid, key=cut has short segments that could cause issues with fillet. Values in (1-2)  are index(es) in shapely geometry.\n"
     ]
    }
   ],
   "source": [
    "\n",
    "\n",
    "ops_oF = {'hfss_wire_bonds': 'True',\n",
    "            'pin_inputs': \n",
    "            {'start_pin': {'component': 'Tf_q2', 'pin': 'prime_start'}, \n",
    "             'end_pin': {'component': 'Launch_Feed_Left', 'pin': 'tie'}},\n",
    "            'fillet':'80um'\n",
    "            }\n",
    "cpw_openFirst = RouteStraight(design, 'cpw_openFirst', options=ops_oF)\n",
    "\n",
    "\n",
    "\n",
    "\n",
    "ops_oM = {'hfss_wire_bonds': 'False',\n",
    "            'pin_inputs': \n",
    "            {'start_pin': {'component': 'Tf_q2', 'pin': 'prime_end'}, \n",
    "             'end_pin': {'component': 'Launch_Feed_Right', 'pin': 'tie'}},\n",
    "            'fillet':'50um'\n",
    "            }\n",
    "cpw_openMid = RouteStraight(design, 'cpw_openMid', options=ops_oM)\n",
    "\n",
    "\n",
    "\n",
    "Tf_q2 = CapNInterdigitalTee(design, 'Tf_q2', options=dict(pos_x='-1.1mm',\n",
    "                                             pos_y='1.8mm',\n",
    "                                            orientation=0, finger_count='12', finger_length='60um', cap_gap='3um', cap_width='6um', \n",
    "                                                 open_termination=False))\n",
    "\n",
    "gui.rebuild()\n",
    "gui.autoscale()\n",
    "\n"
   ]
  },
  {
   "cell_type": "markdown",
   "metadata": {
    "ExecuteTime": {
     "end_time": "2023-08-19T06:19:27.510018Z",
     "start_time": "2023-08-19T06:19:27.144928Z"
    }
   },
   "source": [
    "# Purcell filter\n"
   ]
  },
  {
   "cell_type": "code",
   "execution_count": 276,
   "metadata": {
    "ExecuteTime": {
     "end_time": "2023-08-23T04:51:31.265109Z",
     "start_time": "2023-08-23T04:51:30.504738Z"
    }
   },
   "outputs": [
    {
     "name": "stderr",
     "output_type": "stream",
     "text": [
      "12:51AM 30s INFO [make_connection_pad]: Warning: Did you mean to define a transmon wubit with loc_W and loc_H that are not +1 or -1?? Are you sure you want to do this?\n",
      "12:51AM 30s WARNING [check_lengths]: For path table, component=cpw_openMid, key=trace has short segments that could cause issues with fillet. Values in (1-2)  are index(es) in shapely geometry.\n",
      "12:51AM 30s WARNING [check_lengths]: For path table, component=cpw_openMid, key=cut has short segments that could cause issues with fillet. Values in (1-2)  are index(es) in shapely geometry.\n"
     ]
    }
   ],
   "source": [
    "options_purcell2 = Dict(\n",
    "     total_length='9.07mm',\n",
    "     hfss_wire_bonds = True,\n",
    "     fillet='40um',\n",
    "     lead = dict(start_straight='250um'),\n",
    "     pin_inputs=Dict(\n",
    "         end_pin=Dict(\n",
    "             component='TQ2',\n",
    "             pin='second_end'),\n",
    "         start_pin=Dict(\n",
    "             component='Tf_q2',\n",
    "             pin='second_end')),\n",
    "     meander=Dict(spacing='200um',\n",
    "             asymmetry='0um'))\n",
    "purcell2 = RouteMeander(design, 'purcell2', options=options_purcell2)\n",
    "\n",
    "gui.rebuild()\n",
    "gui.autoscale()"
   ]
  },
  {
   "cell_type": "code",
   "execution_count": 277,
   "metadata": {
    "ExecuteTime": {
     "end_time": "2023-08-23T04:51:39.880346Z",
     "start_time": "2023-08-23T04:51:35.088098Z"
    }
   },
   "outputs": [
    {
     "name": "stderr",
     "output_type": "stream",
     "text": [
      "12:51AM 35s INFO [make_connection_pad]: Warning: Did you mean to define a transmon wubit with loc_W and loc_H that are not +1 or -1?? Are you sure you want to do this?\n",
      "12:51AM 35s WARNING [check_lengths]: For path table, component=cpw_openMid, key=trace has short segments that could cause issues with fillet. Values in (1-2)  are index(es) in shapely geometry.\n",
      "12:51AM 35s WARNING [check_lengths]: For path table, component=cpw_openMid, key=cut has short segments that could cause issues with fillet. Values in (1-2)  are index(es) in shapely geometry.\n",
      "INFO 12:51AM [connect_design]: \tOpened active design\n",
      "\tDesign:    purcell_resonator_hfss [Solution type: Eigenmode]\n"
     ]
    },
    {
     "ename": "KeyboardInterrupt",
     "evalue": "",
     "output_type": "error",
     "traceback": [
      "\u001b[1;31m---------------------------------------------------------------------------\u001b[0m",
      "\u001b[1;31mKeyboardInterrupt\u001b[0m                         Traceback (most recent call last)",
      "Cell \u001b[1;32mIn[277], line 19\u001b[0m\n\u001b[0;32m     15\u001b[0m gui\u001b[38;5;241m.\u001b[39mrebuild()\n\u001b[0;32m     16\u001b[0m gui\u001b[38;5;241m.\u001b[39mautoscale()\n\u001b[1;32m---> 19\u001b[0m \u001b[43meig_qb2\u001b[49m\u001b[38;5;241;43m.\u001b[39;49m\u001b[43msim\u001b[49m\u001b[38;5;241;43m.\u001b[39;49m\u001b[43mrun\u001b[49m\u001b[43m(\u001b[49m\u001b[43mname\u001b[49m\u001b[38;5;241;43m=\u001b[39;49m\u001b[38;5;124;43m\"\u001b[39;49m\u001b[38;5;124;43mpurcell_resonator\u001b[39;49m\u001b[38;5;124;43m\"\u001b[39;49m\u001b[43m,\u001b[49m\u001b[43m \u001b[49m\u001b[43mcomponents\u001b[49m\u001b[38;5;241;43m=\u001b[39;49m\u001b[43m[\u001b[49m\u001b[38;5;124;43m'\u001b[39;49m\u001b[38;5;124;43mpurcell2\u001b[39;49m\u001b[38;5;124;43m'\u001b[39;49m\u001b[43m,\u001b[49m\u001b[43m \u001b[49m\u001b[38;5;124;43m'\u001b[39;49m\u001b[38;5;124;43mTQ2\u001b[39;49m\u001b[38;5;124;43m'\u001b[39;49m\u001b[43m,\u001b[49m\u001b[43m \u001b[49m\u001b[38;5;124;43m'\u001b[39;49m\u001b[38;5;124;43mTf_q2\u001b[39;49m\u001b[38;5;124;43m'\u001b[39;49m\u001b[43m \u001b[49m\u001b[43m]\u001b[49m\u001b[43m,\u001b[49m\u001b[43m \u001b[49m\u001b[43mopen_terminations\u001b[49m\u001b[38;5;241;43m=\u001b[39;49m\u001b[43m[\u001b[49m\u001b[43m(\u001b[49m\u001b[38;5;124;43m'\u001b[39;49m\u001b[38;5;124;43mTQ2\u001b[39;49m\u001b[38;5;124;43m'\u001b[39;49m\u001b[43m,\u001b[49m\u001b[43m \u001b[49m\u001b[38;5;124;43m'\u001b[39;49m\u001b[38;5;124;43mprime_start\u001b[39;49m\u001b[38;5;124;43m'\u001b[39;49m\u001b[43m)\u001b[49m\u001b[43m,\u001b[49m\u001b[43m \u001b[49m\u001b[43m(\u001b[49m\u001b[38;5;124;43m'\u001b[39;49m\u001b[38;5;124;43mTQ2\u001b[39;49m\u001b[38;5;124;43m'\u001b[39;49m\u001b[43m,\u001b[49m\u001b[43m \u001b[49m\u001b[38;5;124;43m'\u001b[39;49m\u001b[38;5;124;43mprime_end\u001b[39;49m\u001b[38;5;124;43m'\u001b[39;49m\u001b[43m)\u001b[49m\u001b[43m,\u001b[49m\u001b[43m \u001b[49m\u001b[43m(\u001b[49m\u001b[38;5;124;43m'\u001b[39;49m\u001b[38;5;124;43mTf_q2\u001b[39;49m\u001b[38;5;124;43m'\u001b[39;49m\u001b[43m,\u001b[49m\u001b[43m \u001b[49m\u001b[38;5;124;43m'\u001b[39;49m\u001b[38;5;124;43mprime_start\u001b[39;49m\u001b[38;5;124;43m'\u001b[39;49m\u001b[43m)\u001b[49m\u001b[43m,\u001b[49m\u001b[43m \u001b[49m\u001b[43m(\u001b[49m\u001b[38;5;124;43m'\u001b[39;49m\u001b[38;5;124;43mTf_q2\u001b[39;49m\u001b[38;5;124;43m'\u001b[39;49m\u001b[43m,\u001b[49m\u001b[43m \u001b[49m\u001b[38;5;124;43m'\u001b[39;49m\u001b[38;5;124;43mprime_end\u001b[39;49m\u001b[38;5;124;43m'\u001b[39;49m\u001b[43m)\u001b[49m\u001b[43m]\u001b[49m\u001b[43m,\u001b[49m\u001b[43m \u001b[49m\u001b[43mbox_plus_buffer\u001b[49m\u001b[43m \u001b[49m\u001b[38;5;241;43m=\u001b[39;49m\u001b[43m \u001b[49m\u001b[38;5;28;43;01mTrue\u001b[39;49;00m\u001b[43m)\u001b[49m\n\u001b[0;32m     20\u001b[0m eig_qb2\u001b[38;5;241m.\u001b[39msim\u001b[38;5;241m.\u001b[39mplot_convergences()\n",
      "File \u001b[1;32mc:\\users\\wanglab\\documents\\github\\qiskit-metal\\qiskit_metal\\analyses\\core\\simulation.py:203\u001b[0m, in \u001b[0;36mQSimulation.run\u001b[1;34m(self, *args, **kwargs)\u001b[0m\n\u001b[0;32m    199\u001b[0m \u001b[38;5;28;01mdef\u001b[39;00m \u001b[38;5;21mrun\u001b[39m(\u001b[38;5;28mself\u001b[39m, \u001b[38;5;241m*\u001b[39margs, \u001b[38;5;241m*\u001b[39m\u001b[38;5;241m*\u001b[39mkwargs):\n\u001b[0;32m    200\u001b[0m \u001b[38;5;250m    \u001b[39m\u001b[38;5;124;03m\"\"\"Alias for run_sim() necessary to implement super-class method, while\u001b[39;00m\n\u001b[0;32m    201\u001b[0m \u001b[38;5;124;03m    preventing method name collision when sim and non-sim QAnalysis classes are inherited.\u001b[39;00m\n\u001b[0;32m    202\u001b[0m \u001b[38;5;124;03m    \"\"\"\u001b[39;00m\n\u001b[1;32m--> 203\u001b[0m     \u001b[38;5;28;43mself\u001b[39;49m\u001b[38;5;241;43m.\u001b[39;49m\u001b[43mrun_sim\u001b[49m\u001b[43m(\u001b[49m\u001b[38;5;241;43m*\u001b[39;49m\u001b[43margs\u001b[49m\u001b[43m,\u001b[49m\u001b[43m \u001b[49m\u001b[38;5;241;43m*\u001b[39;49m\u001b[38;5;241;43m*\u001b[39;49m\u001b[43mkwargs\u001b[49m\u001b[43m)\u001b[49m\n",
      "File \u001b[1;32mc:\\users\\wanglab\\documents\\github\\qiskit-metal\\qiskit_metal\\analyses\\simulation\\eigenmode.py:130\u001b[0m, in \u001b[0;36mEigenmodeSim.run_sim\u001b[1;34m(self, name, components, open_terminations, port_list, jj_to_port, ignored_jjs, box_plus_buffer)\u001b[0m\n\u001b[0;32m    127\u001b[0m     \u001b[38;5;28mself\u001b[39m\u001b[38;5;241m.\u001b[39m_initialize_renderer()\n\u001b[0;32m    129\u001b[0m vars_to_initialize \u001b[38;5;241m=\u001b[39m \u001b[38;5;28mself\u001b[39m\u001b[38;5;241m.\u001b[39msetup\u001b[38;5;241m.\u001b[39mvars\n\u001b[1;32m--> 130\u001b[0m renderer_design_name \u001b[38;5;241m=\u001b[39m \u001b[38;5;28;43mself\u001b[39;49m\u001b[38;5;241;43m.\u001b[39;49m\u001b[43m_render\u001b[49m\u001b[43m(\u001b[49m\n\u001b[0;32m    131\u001b[0m \u001b[43m    \u001b[49m\u001b[43mname\u001b[49m\u001b[38;5;241;43m=\u001b[39;49m\u001b[43mname\u001b[49m\u001b[43m,\u001b[49m\n\u001b[0;32m    132\u001b[0m \u001b[43m    \u001b[49m\u001b[43msolution_type\u001b[49m\u001b[38;5;241;43m=\u001b[39;49m\u001b[38;5;124;43m'\u001b[39;49m\u001b[38;5;124;43meigenmode\u001b[39;49m\u001b[38;5;124;43m'\u001b[39;49m\u001b[43m,\u001b[49m\n\u001b[0;32m    133\u001b[0m \u001b[43m    \u001b[49m\u001b[43mselection\u001b[49m\u001b[38;5;241;43m=\u001b[39;49m\u001b[43mcomponents\u001b[49m\u001b[43m,\u001b[49m\n\u001b[0;32m    134\u001b[0m \u001b[43m    \u001b[49m\u001b[43mopen_pins\u001b[49m\u001b[38;5;241;43m=\u001b[39;49m\u001b[43mopen_terminations\u001b[49m\u001b[43m,\u001b[49m\n\u001b[0;32m    135\u001b[0m \u001b[43m    \u001b[49m\u001b[43mport_list\u001b[49m\u001b[38;5;241;43m=\u001b[39;49m\u001b[43mport_list\u001b[49m\u001b[43m,\u001b[49m\n\u001b[0;32m    136\u001b[0m \u001b[43m    \u001b[49m\u001b[43mjj_to_port\u001b[49m\u001b[38;5;241;43m=\u001b[39;49m\u001b[43mjj_to_port\u001b[49m\u001b[43m,\u001b[49m\n\u001b[0;32m    137\u001b[0m \u001b[43m    \u001b[49m\u001b[43mignored_jjs\u001b[49m\u001b[38;5;241;43m=\u001b[39;49m\u001b[43mignored_jjs\u001b[49m\u001b[43m,\u001b[49m\n\u001b[0;32m    138\u001b[0m \u001b[43m    \u001b[49m\u001b[43mbox_plus_buffer\u001b[49m\u001b[38;5;241;43m=\u001b[39;49m\u001b[43mbox_plus_buffer\u001b[49m\u001b[43m,\u001b[49m\n\u001b[0;32m    139\u001b[0m \u001b[43m    \u001b[49m\u001b[43mvars_to_initialize\u001b[49m\u001b[38;5;241;43m=\u001b[39;49m\u001b[43mvars_to_initialize\u001b[49m\u001b[43m)\u001b[49m\n\u001b[0;32m    141\u001b[0m \u001b[38;5;28mself\u001b[39m\u001b[38;5;241m.\u001b[39m_analyze()\n\u001b[0;32m    142\u001b[0m \u001b[38;5;28;01mreturn\u001b[39;00m renderer_design_name, \u001b[38;5;28mself\u001b[39m\u001b[38;5;241m.\u001b[39msim_setup_name\n",
      "File \u001b[1;32mc:\\users\\wanglab\\documents\\github\\qiskit-metal\\qiskit_metal\\analyses\\core\\simulation.py:167\u001b[0m, in \u001b[0;36mQSimulation._render\u001b[1;34m(self, solution_type, vars_to_initialize, **design_selection)\u001b[0m\n\u001b[0;32m    165\u001b[0m     \u001b[38;5;28;01mdel\u001b[39;00m design_selection[\u001b[38;5;124m\"\u001b[39m\u001b[38;5;124mname\u001b[39m\u001b[38;5;124m\"\u001b[39m]\n\u001b[0;32m    166\u001b[0m design_name \u001b[38;5;241m=\u001b[39m base_name \u001b[38;5;241m+\u001b[39m \u001b[38;5;124m\"\u001b[39m\u001b[38;5;124m_\u001b[39m\u001b[38;5;124m\"\u001b[39m \u001b[38;5;241m+\u001b[39m \u001b[38;5;28mself\u001b[39m\u001b[38;5;241m.\u001b[39mrenderer_name\n\u001b[1;32m--> 167\u001b[0m design_name \u001b[38;5;241m=\u001b[39m \u001b[38;5;28;43mself\u001b[39;49m\u001b[38;5;241;43m.\u001b[39;49m\u001b[43mrenderer\u001b[49m\u001b[38;5;241;43m.\u001b[39;49m\u001b[43mexecute_design\u001b[49m\u001b[43m(\u001b[49m\n\u001b[0;32m    168\u001b[0m \u001b[43m    \u001b[49m\u001b[43mdesign_name\u001b[49m\u001b[43m,\u001b[49m\n\u001b[0;32m    169\u001b[0m \u001b[43m    \u001b[49m\u001b[43msolution_type\u001b[49m\u001b[38;5;241;43m=\u001b[39;49m\u001b[43msolution_type\u001b[49m\u001b[43m,\u001b[49m\n\u001b[0;32m    170\u001b[0m \u001b[43m    \u001b[49m\u001b[43mforce_redraw\u001b[49m\u001b[38;5;241;43m=\u001b[39;49m\u001b[38;5;28;43mself\u001b[39;49m\u001b[38;5;241;43m.\u001b[39;49m\u001b[43msetup\u001b[49m\u001b[38;5;241;43m.\u001b[39;49m\u001b[43mreuse_selected_design\u001b[49m\u001b[43m,\u001b[49m\n\u001b[0;32m    171\u001b[0m \u001b[43m    \u001b[49m\u001b[43mvars_to_initialize\u001b[49m\u001b[38;5;241;43m=\u001b[39;49m\u001b[43mvars_to_initialize\u001b[49m\u001b[43m,\u001b[49m\n\u001b[0;32m    172\u001b[0m \u001b[43m    \u001b[49m\u001b[38;5;241;43m*\u001b[39;49m\u001b[38;5;241;43m*\u001b[39;49m\u001b[43mdesign_selection\u001b[49m\u001b[43m)\u001b[49m\n\u001b[0;32m    173\u001b[0m \u001b[38;5;28;01mreturn\u001b[39;00m design_name\n",
      "File \u001b[1;32mc:\\users\\wanglab\\documents\\github\\qiskit-metal\\qiskit_metal\\renderers\\renderer_ansys\\ansys_renderer.py:756\u001b[0m, in \u001b[0;36mQAnsysRenderer.execute_design\u001b[1;34m(self, design_name, solution_type, vars_to_initialize, force_redraw, **design_selection)\u001b[0m\n\u001b[0;32m    753\u001b[0m     \u001b[38;5;28mself\u001b[39m\u001b[38;5;241m.\u001b[39mnew_ansys_design(design_name, solution_type)\n\u001b[0;32m    755\u001b[0m \u001b[38;5;28mself\u001b[39m\u001b[38;5;241m.\u001b[39mset_variables(vars_to_initialize)\n\u001b[1;32m--> 756\u001b[0m \u001b[38;5;28;43mself\u001b[39;49m\u001b[38;5;241;43m.\u001b[39;49m\u001b[43mrender_design\u001b[49m\u001b[43m(\u001b[49m\u001b[38;5;241;43m*\u001b[39;49m\u001b[38;5;241;43m*\u001b[39;49m\u001b[43mdesign_selection\u001b[49m\u001b[43m)\u001b[49m\n\u001b[0;32m    757\u001b[0m \u001b[38;5;28;01mreturn\u001b[39;00m \u001b[38;5;28mself\u001b[39m\u001b[38;5;241m.\u001b[39mpinfo\u001b[38;5;241m.\u001b[39mdesign\u001b[38;5;241m.\u001b[39mname\n",
      "File \u001b[1;32mc:\\users\\wanglab\\documents\\github\\qiskit-metal\\qiskit_metal\\renderers\\renderer_ansys\\hfss_renderer.py:182\u001b[0m, in \u001b[0;36mQHFSSRenderer.render_design\u001b[1;34m(self, selection, open_pins, port_list, jj_to_port, ignored_jjs, box_plus_buffer)\u001b[0m\n\u001b[0;32m    179\u001b[0m \u001b[38;5;28;01mif\u001b[39;00m ignored_jjs:\n\u001b[0;32m    180\u001b[0m     \u001b[38;5;28mself\u001b[39m\u001b[38;5;241m.\u001b[39mjj_to_ignore \u001b[38;5;241m=\u001b[39m {(qcomp, qelt) \u001b[38;5;28;01mfor\u001b[39;00m qcomp, qelt \u001b[38;5;129;01min\u001b[39;00m ignored_jjs}\n\u001b[1;32m--> 182\u001b[0m \u001b[38;5;28;43mself\u001b[39;49m\u001b[38;5;241;43m.\u001b[39;49m\u001b[43mrender_tables\u001b[49m\u001b[43m(\u001b[49m\u001b[43m)\u001b[49m\n\u001b[0;32m    183\u001b[0m \u001b[38;5;28;01mif\u001b[39;00m port_list:\n\u001b[0;32m    184\u001b[0m     \u001b[38;5;28mself\u001b[39m\u001b[38;5;241m.\u001b[39madd_endcaps(open_pins \u001b[38;5;241m+\u001b[39m\n\u001b[0;32m    185\u001b[0m                      [(qcomp, pin) \u001b[38;5;28;01mfor\u001b[39;00m qcomp, pin, _ \u001b[38;5;129;01min\u001b[39;00m port_list])\n",
      "File \u001b[1;32mc:\\users\\wanglab\\documents\\github\\qiskit-metal\\qiskit_metal\\renderers\\renderer_ansys\\ansys_renderer.py:1052\u001b[0m, in \u001b[0;36mQAnsysRenderer.render_tables\u001b[1;34m(self, skip_junction)\u001b[0m\n\u001b[0;32m   1050\u001b[0m \u001b[38;5;28;01mfor\u001b[39;00m table_type \u001b[38;5;129;01min\u001b[39;00m \u001b[38;5;28mself\u001b[39m\u001b[38;5;241m.\u001b[39mdesign\u001b[38;5;241m.\u001b[39mqgeometry\u001b[38;5;241m.\u001b[39mget_element_types():\n\u001b[0;32m   1051\u001b[0m     \u001b[38;5;28;01mif\u001b[39;00m table_type \u001b[38;5;241m!=\u001b[39m \u001b[38;5;124m\"\u001b[39m\u001b[38;5;124mjunction\u001b[39m\u001b[38;5;124m\"\u001b[39m \u001b[38;5;129;01mor\u001b[39;00m \u001b[38;5;129;01mnot\u001b[39;00m skip_junction:\n\u001b[1;32m-> 1052\u001b[0m         \u001b[38;5;28;43mself\u001b[39;49m\u001b[38;5;241;43m.\u001b[39;49m\u001b[43mrender_components\u001b[49m\u001b[43m(\u001b[49m\u001b[43mtable_type\u001b[49m\u001b[43m)\u001b[49m\n",
      "File \u001b[1;32mc:\\users\\wanglab\\documents\\github\\qiskit-metal\\qiskit_metal\\renderers\\renderer_ansys\\ansys_renderer.py:1068\u001b[0m, in \u001b[0;36mQAnsysRenderer.render_components\u001b[1;34m(self, table_type)\u001b[0m\n\u001b[0;32m   1065\u001b[0m     table \u001b[38;5;241m=\u001b[39m table[mask]\n\u001b[0;32m   1067\u001b[0m \u001b[38;5;28;01mfor\u001b[39;00m _, qgeom \u001b[38;5;129;01min\u001b[39;00m table\u001b[38;5;241m.\u001b[39miterrows():\n\u001b[1;32m-> 1068\u001b[0m     \u001b[38;5;28;43mself\u001b[39;49m\u001b[38;5;241;43m.\u001b[39;49m\u001b[43mrender_element\u001b[49m\u001b[43m(\u001b[49m\u001b[43mqgeom\u001b[49m\u001b[43m,\u001b[49m\u001b[43m \u001b[49m\u001b[38;5;28;43mbool\u001b[39;49m\u001b[43m(\u001b[49m\u001b[43mtable_type\u001b[49m\u001b[43m \u001b[49m\u001b[38;5;241;43m==\u001b[39;49m\u001b[43m \u001b[49m\u001b[38;5;124;43m\"\u001b[39;49m\u001b[38;5;124;43mjunction\u001b[39;49m\u001b[38;5;124;43m\"\u001b[39;49m\u001b[43m)\u001b[49m\u001b[43m)\u001b[49m\n\u001b[0;32m   1070\u001b[0m \u001b[38;5;28;01mif\u001b[39;00m table_type \u001b[38;5;241m==\u001b[39m \u001b[38;5;124m\"\u001b[39m\u001b[38;5;124mpath\u001b[39m\u001b[38;5;124m\"\u001b[39m:\n\u001b[0;32m   1071\u001b[0m     \u001b[38;5;28mself\u001b[39m\u001b[38;5;241m.\u001b[39mauto_wirebonds(table)\n",
      "File \u001b[1;32mc:\\users\\wanglab\\documents\\github\\qiskit-metal\\qiskit_metal\\renderers\\renderer_ansys\\ansys_renderer.py:1090\u001b[0m, in \u001b[0;36mQAnsysRenderer.render_element\u001b[1;34m(self, qgeom, is_junction)\u001b[0m\n\u001b[0;32m   1088\u001b[0m     \u001b[38;5;28mself\u001b[39m\u001b[38;5;241m.\u001b[39mrender_element_poly(qgeom)\n\u001b[0;32m   1089\u001b[0m \u001b[38;5;28;01melif\u001b[39;00m \u001b[38;5;28misinstance\u001b[39m(qc_shapely, shapely\u001b[38;5;241m.\u001b[39mgeometry\u001b[38;5;241m.\u001b[39mLineString):\n\u001b[1;32m-> 1090\u001b[0m     \u001b[38;5;28;43mself\u001b[39;49m\u001b[38;5;241;43m.\u001b[39;49m\u001b[43mrender_element_path\u001b[49m\u001b[43m(\u001b[49m\u001b[43mqgeom\u001b[49m\u001b[43m)\u001b[49m\n",
      "File \u001b[1;32mc:\\users\\wanglab\\documents\\github\\qiskit-metal\\qiskit_metal\\renderers\\renderer_ansys\\ansys_renderer.py:1284\u001b[0m, in \u001b[0;36mQAnsysRenderer.render_element_path\u001b[1;34m(self, qgeom)\u001b[0m\n\u001b[0;32m   1281\u001b[0m \u001b[38;5;28;01mimport\u001b[39;00m \u001b[38;5;21;01mpythoncom\u001b[39;00m\n\u001b[0;32m   1283\u001b[0m \u001b[38;5;28;01mtry\u001b[39;00m:\n\u001b[1;32m-> 1284\u001b[0m     \u001b[38;5;28;43mself\u001b[39;49m\u001b[38;5;241;43m.\u001b[39;49m\u001b[43mmodeler\u001b[49m\u001b[38;5;241;43m.\u001b[39;49m\u001b[43m_sweep_along_path\u001b[49m\u001b[43m(\u001b[49m\u001b[43mshortline\u001b[49m\u001b[43m,\u001b[49m\u001b[43m \u001b[49m\u001b[43mpoly_ansys\u001b[49m\u001b[43m)\u001b[49m\n\u001b[0;32m   1285\u001b[0m \u001b[38;5;28;01mexcept\u001b[39;00m pythoncom\u001b[38;5;241m.\u001b[39mcom_error \u001b[38;5;28;01mas\u001b[39;00m error:\n\u001b[0;32m   1286\u001b[0m     \u001b[38;5;28mprint\u001b[39m(\u001b[38;5;124m\"\u001b[39m\u001b[38;5;124mcom_error: \u001b[39m\u001b[38;5;124m\"\u001b[39m, error)\n",
      "File \u001b[1;32m~\\anaconda3\\envs\\qiskit-metal\\Lib\\site-packages\\pyEPR\\ansys.py:2625\u001b[0m, in \u001b[0;36mHfssModeler._sweep_along_path\u001b[1;34m(self, to_sweep, path_obj)\u001b[0m\n\u001b[0;32m   2623\u001b[0m new_name \u001b[38;5;241m=\u001b[39m \u001b[38;5;28mself\u001b[39m\u001b[38;5;241m.\u001b[39mrename_obj(to_sweep, path_obj)\n\u001b[0;32m   2624\u001b[0m names \u001b[38;5;241m=\u001b[39m [path_obj, \u001b[38;5;28mstr\u001b[39m(path_obj) \u001b[38;5;241m+\u001b[39m \u001b[38;5;124m'\u001b[39m\u001b[38;5;124m_path\u001b[39m\u001b[38;5;124m'\u001b[39m]\n\u001b[1;32m-> 2625\u001b[0m \u001b[38;5;28;43mself\u001b[39;49m\u001b[38;5;241;43m.\u001b[39;49m\u001b[43m_modeler\u001b[49m\u001b[38;5;241;43m.\u001b[39;49m\u001b[43mSweepAlongPath\u001b[49m\u001b[43m(\u001b[49m\u001b[38;5;28;43mself\u001b[39;49m\u001b[38;5;241;43m.\u001b[39;49m\u001b[43m_selections_array\u001b[49m\u001b[43m(\u001b[49m\u001b[38;5;241;43m*\u001b[39;49m\u001b[43mnames\u001b[49m\u001b[43m)\u001b[49m\u001b[43m,\u001b[49m\u001b[43m \u001b[49m\u001b[43m[\u001b[49m\n\u001b[0;32m   2626\u001b[0m \u001b[43m    \u001b[49m\u001b[38;5;124;43m\"\u001b[39;49m\u001b[38;5;124;43mNAME:PathSweepParameters\u001b[39;49m\u001b[38;5;124;43m\"\u001b[39;49m\u001b[43m,\u001b[49m\u001b[43m \u001b[49m\u001b[38;5;124;43m\"\u001b[39;49m\u001b[38;5;124;43mDraftAngle:=\u001b[39;49m\u001b[38;5;124;43m\"\u001b[39;49m\u001b[43m,\u001b[49m\u001b[43m \u001b[49m\u001b[38;5;124;43m\"\u001b[39;49m\u001b[38;5;124;43m0deg\u001b[39;49m\u001b[38;5;124;43m\"\u001b[39;49m\u001b[43m,\u001b[49m\u001b[43m \u001b[49m\u001b[38;5;124;43m\"\u001b[39;49m\u001b[38;5;124;43mDraftType:=\u001b[39;49m\u001b[38;5;124;43m\"\u001b[39;49m\u001b[43m,\u001b[49m\n\u001b[0;32m   2627\u001b[0m \u001b[43m    \u001b[49m\u001b[38;5;124;43m\"\u001b[39;49m\u001b[38;5;124;43mRound\u001b[39;49m\u001b[38;5;124;43m\"\u001b[39;49m\u001b[43m,\u001b[49m\u001b[43m \u001b[49m\u001b[38;5;124;43m\"\u001b[39;49m\u001b[38;5;124;43mCheckFaceFaceIntersection:=\u001b[39;49m\u001b[38;5;124;43m\"\u001b[39;49m\u001b[43m,\u001b[49m\u001b[43m \u001b[49m\u001b[38;5;28;43;01mFalse\u001b[39;49;00m\u001b[43m,\u001b[49m\u001b[43m \u001b[49m\u001b[38;5;124;43m\"\u001b[39;49m\u001b[38;5;124;43mTwistAngle:=\u001b[39;49m\u001b[38;5;124;43m\"\u001b[39;49m\u001b[43m,\u001b[49m\n\u001b[0;32m   2628\u001b[0m \u001b[43m    \u001b[49m\u001b[38;5;124;43m\"\u001b[39;49m\u001b[38;5;124;43m0deg\u001b[39;49m\u001b[38;5;124;43m\"\u001b[39;49m\n\u001b[0;32m   2629\u001b[0m \u001b[43m\u001b[49m\u001b[43m]\u001b[49m\u001b[43m)\u001b[49m\n\u001b[0;32m   2630\u001b[0m \u001b[38;5;28;01mreturn\u001b[39;00m Polyline(new_name, \u001b[38;5;28mself\u001b[39m)\n",
      "File \u001b[1;32m<COMObject SetActiveEditor>:2\u001b[0m, in \u001b[0;36mSweepAlongPath\u001b[1;34m(self, argSelections, argParameters)\u001b[0m\n",
      "\u001b[1;31mKeyboardInterrupt\u001b[0m: "
     ]
    }
   ],
   "source": [
    "\n",
    "eig_prcl = EPRanalysis(design, \"hfss\")\n",
    "\n",
    "\n",
    "\n",
    "qcomps=design.components\n",
    "\n",
    "\n",
    "\n",
    "eig_qb2.sim.setup.max_passes = 3\n",
    "\n",
    "eig_qb2.sim.setup_update(max_delta_f = 0.5, min_freq_ghz = 1)\n",
    "eig_qb2.sim.setup.min_passes = 2\n",
    "eig_qb2.sim.setup.n_modes = 2\n",
    "\n",
    "gui.rebuild()\n",
    "gui.autoscale()\n",
    "\n",
    "\n",
    "eig_qb2.sim.run(name=\"purcell_resonator\", components=['purcell2', 'TQ2', 'Tf_q2' ], open_terminations=[('TQ2', 'prime_start'), ('TQ2', 'prime_end'), ('Tf_q2', 'prime_start'), ('Tf_q2', 'prime_end')], box_plus_buffer = True)\n",
    "eig_qb2.sim.plot_convergences()\n"
   ]
  },
  {
   "cell_type": "markdown",
   "metadata": {},
   "source": [
    "# Readout Tee's and Readout Resonators"
   ]
  },
  {
   "cell_type": "code",
   "execution_count": 278,
   "metadata": {
    "ExecuteTime": {
     "end_time": "2023-08-23T04:51:49.651797Z",
     "start_time": "2023-08-23T04:51:48.804372Z"
    },
    "scrolled": true
   },
   "outputs": [
    {
     "name": "stderr",
     "output_type": "stream",
     "text": [
      "12:51AM 48s INFO [make_connection_pad]: Warning: Did you mean to define a transmon wubit with loc_W and loc_H that are not +1 or -1?? Are you sure you want to do this?\n",
      "12:51AM 49s WARNING [check_lengths]: For path table, component=cpw_openMid, key=trace has short segments that could cause issues with fillet. Values in (1-2)  are index(es) in shapely geometry.\n",
      "12:51AM 49s WARNING [check_lengths]: For path table, component=cpw_openMid, key=cut has short segments that could cause issues with fillet. Values in (1-2)  are index(es) in shapely geometry.\n"
     ]
    }
   ],
   "source": [
    "from qiskit_metal.qlibrary.couplers.cap_n_interdigital_tee import CapNInterdigitalTee\n",
    "TQ2 = CapNInterdigitalTee(design, 'TQ2', options=dict(pos_x='-2.9mm',\n",
    "                                             pos_y='-0.25mm',\n",
    "                                            orientation=180, finger_length='30um', finger_count='6',cap_gap='3um', cap_width='5um',\n",
    "                                                 open_termination=False))\n",
    "#TQT=LineTee(design, 'TQT',options=dict(pos_x='-2.9mm', pos_y='-0.10mm'))\n",
    "\n",
    "otgQ2 = OpenToGround(design, 'otgQ2', options = dict(pos_x='-4mm', \n",
    "                                                   pos_y='-0.35mm', orientation='270', termination_gap='6um', gap='6um'))\n",
    "\n",
    "#Coupler_resonator2 = CapNInterdigitalTee(design, 'Coupler_resonator2', options=dict(pos_x='-1.1mm', pos_y='-0.09mm'))\n",
    "\n",
    "\n",
    "options2_part1 = Dict(\n",
    "     total_length='7.5mm',\n",
    "     fillet='30um',\n",
    "    hfss_wire_bonds=False,\n",
    "     lead = dict(start_straight='500um'),\n",
    "     pin_inputs=Dict(\n",
    "         end_pin=Dict(\n",
    "             component='TQ2',\n",
    "             pin='prime_start'),\n",
    "         start_pin=Dict(\n",
    "             component='Q2',\n",
    "             pin='readout')),\n",
    "     meander=Dict(spacing='200um',\n",
    "             asymmetry='0um'))\n",
    "\n",
    "options2_part2 = Dict(\n",
    "     total_length='1.9mm',\n",
    "     hfss_wire_bonds = False,\n",
    "     fillet='40um',\n",
    "     lead = dict(start_straight='300um', end_straight='200um'),\n",
    "     pin_inputs=Dict(\n",
    "         end_pin=Dict(\n",
    "             component='otgQ2',\n",
    "             pin='open'),\n",
    "         start_pin=Dict(\n",
    "             component='TQ2',\n",
    "             pin='prime_end')),\n",
    "     meander=Dict(spacing='300um',\n",
    "             asymmetry='0um'))\n",
    "read_q2_part1 = RouteMeander(design, 'read_q2_part1', options=options2_part1)\n",
    "read_q2_part2 = RouteMeander(design, 'read_q2_part2', options=options2_part2)\n",
    "\n",
    "\n",
    "\n",
    "options2_part2 = Dict(\n",
    "     total_length='1mm',\n",
    "     hfss_wire_bonds = False,\n",
    "     fillet='40um',\n",
    "     #lead = dict(start_straight='300um', end_straight='200um'),\n",
    "     pin_inputs=Dict(\n",
    "         end_pin=Dict(\n",
    "             component='TQT',\n",
    "             pin='second_end'),\n",
    "         start_pin=Dict(\n",
    "             component='TQ2',\n",
    "             pin='second_end')),\n",
    "     meander=Dict(spacing='300um',\n",
    "             asymmetry='0um'))\n",
    "\n",
    "gui.rebuild()\n",
    "gui.autoscale()\n"
   ]
  },
  {
   "cell_type": "code",
   "execution_count": null,
   "metadata": {},
   "outputs": [],
   "source": []
  },
  {
   "cell_type": "code",
   "execution_count": 279,
   "metadata": {
    "ExecuteTime": {
     "end_time": "2023-08-23T04:51:57.260528Z",
     "start_time": "2023-08-23T04:51:55.637859Z"
    },
    "scrolled": true
   },
   "outputs": [
    {
     "name": "stderr",
     "output_type": "stream",
     "text": [
      "12:51AM 55s INFO [make_connection_pad]: Warning: Did you mean to define a transmon wubit with loc_W and loc_H that are not +1 or -1?? Are you sure you want to do this?\n",
      "12:51AM 56s WARNING [check_lengths]: For path table, component=cpw_openMid, key=trace has short segments that could cause issues with fillet. Values in (1-2)  are index(es) in shapely geometry.\n",
      "12:51AM 56s WARNING [check_lengths]: For path table, component=cpw_openMid, key=cut has short segments that could cause issues with fillet. Values in (1-2)  are index(es) in shapely geometry.\n",
      "12:51AM 56s INFO [make_connection_pad]: Warning: Did you mean to define a transmon wubit with loc_W and loc_H that are not +1 or -1?? Are you sure you want to do this?\n",
      "12:51AM 56s WARNING [check_lengths]: For path table, component=cpw_openMid, key=trace has short segments that could cause issues with fillet. Values in (1-2)  are index(es) in shapely geometry.\n",
      "12:51AM 56s WARNING [check_lengths]: For path table, component=cpw_openMid, key=cut has short segments that could cause issues with fillet. Values in (1-2)  are index(es) in shapely geometry.\n"
     ]
    }
   ],
   "source": [
    "from qiskit_metal.analyses.quantization import EPRanalysis\n",
    "eig_qb2 = EPRanalysis(design, \"hfss\")\n",
    "\n",
    "eig_qb2.sim.setup.vars.Lj = '10.9 nH'\n",
    "eig_qb2.sim.setup.vars = Dict({'Lj': '10.9 nH', 'Cj': '3 fF'})\n",
    "gui.rebuild()\n",
    "gui.autoscale()\n",
    "\n",
    "design.qgeometry.tables['junction']\n",
    "qcomps=design.components\n",
    "qcomps['Q2'].options['hfss_inductance'] = 'Lj'\n",
    "qcomps['Q2'].options['hfss_capacitance'] = 'Cj'\n",
    "\n",
    "\n",
    "eig_qb2.sim.setup.max_passes = 20\n",
    "\n",
    "eig_qb2.sim.setup_update(max_delta_f = 0.5, min_freq_ghz = 1)\n",
    "eig_qb2.sim.setup.min_passes = 15\n",
    "eig_qb2.sim.setup.n_modes = 3\n",
    "\n",
    "gui.rebuild()\n",
    "gui.autoscale()\n",
    "\n",
    "\n",
    "eig_qb2.sim.renderer._options['max_mesh_length_jj'] = '3um'\n",
    "eig_qb2.sim.renderer._options['max_mesh_length_port'] = '3um'\n",
    "\n",
    "\n",
    "\n"
   ]
  },
  {
   "cell_type": "code",
   "execution_count": null,
   "metadata": {},
   "outputs": [],
   "source": []
  },
  {
   "cell_type": "code",
   "execution_count": 280,
   "metadata": {
    "ExecuteTime": {
     "end_time": "2023-08-23T04:55:34.682571Z",
     "start_time": "2023-08-23T04:52:02.006205Z"
    }
   },
   "outputs": [
    {
     "name": "stderr",
     "output_type": "stream",
     "text": [
      "INFO 12:52AM [connect_design]: \tOpened active design\n",
      "\tDesign:    Xmon_and_resonator2_hfss [Solution type: Eigenmode]\n",
      "INFO 12:52AM [get_setup]: \tOpened setup `Setup`  (<class 'pyEPR.ansys.HfssEMSetup'>)\n",
      "INFO 12:52AM [analyze]: Analyzing setup Setup\n",
      "12:55AM 34s INFO [get_f_convergence]: Saved convergences to C:\\Users\\WANGLAB\\Documents\\GitHub\\qiskit-metal\\tutorials\\4 Analysis\\A. Core - EM and quantization\\hfss_eig_f_convergence.csv\n"
     ]
    }
   ],
   "source": [
    "\n",
    "eig_qb2.sim.run(name=\"Xmon_and_resonator2\", components=['Q2','read_q2_part1','read_q2_part2', 'otgQ2', 'TQ2' , \n",
    "                                                        'purcell2','Tf_q2' ], \n",
    "                open_terminations=[('Tf_q2', 'prime_end'), ('Tf_q2', 'prime_start')], box_plus_buffer = True)\n",
    "\n",
    "#eig_qb2.sim.run(name=\"Xmon_and_resonator\", components=['Q2','read_q2_part1','read_q2_part2', 'otgQ2', 'TQ2' , 'TQT'\n",
    "#                                                         ], \n",
    "#                open_terminations=[('TQT', 'prime_end'), ('TQT', 'prime_start')], box_plus_buffer = True)\n",
    "\n",
    "eig_qb2.sim.plot_convergences()\n"
   ]
  },
  {
   "cell_type": "code",
   "execution_count": null,
   "metadata": {},
   "outputs": [],
   "source": []
  },
  {
   "cell_type": "code",
   "execution_count": 260,
   "metadata": {
    "ExecuteTime": {
     "end_time": "2023-08-23T04:13:35.610431Z",
     "start_time": "2023-08-23T04:13:20.956604Z"
    }
   },
   "outputs": [
    {
     "name": "stdout",
     "output_type": "stream",
     "text": [
      "Design \"Xmon_and_resonator_hfss\" info:\n",
      "\t# eigenmodes    3\n",
      "\t# variations    1\n",
      "Design \"Xmon_and_resonator_hfss\" info:\n",
      "\t# eigenmodes    3\n",
      "\t# variations    1\n",
      "\n",
      "        energy_elec_all       = 9.72275996147231e-24\n",
      "        energy_elec_substrate = 8.95614918564908e-24\n",
      "        EPR of substrate = 92.1%\n",
      "\n",
      "        energy_mag    = 9.72197481136592e-24\n",
      "        energy_mag % of energy_elec_all  = 100.0%\n",
      "        \n",
      "\n",
      "Variation 0  [1/1]\n",
      "\n",
      "  \u001b[1mMode 0 at 5.34 GHz   [1/3]\u001b[0m\n",
      "    Calculating ℰ_magnetic,ℰ_electric\n",
      "       (ℰ_E-ℰ_H)/ℰ_E       ℰ_E       ℰ_H\n",
      "               99.1%  9.554e-25 8.562e-27\n",
      "\n",
      "    Calculating junction energy participation ration (EPR)\n",
      "\tmethod=`line_voltage`. First estimates:\n",
      "\tjunction        EPR p_0j   sign s_0j    (p_capacitive)\n",
      "\t\tEnergy fraction (Lj over Lj&Cj)= 97.61%\n",
      "\tjj               1.02777  (+)        0.0251897\n",
      "\t\t(U_tot_cap-U_tot_ind)/mean=-0.56%\n",
      "Calculating Qdielectric_main for mode 0 (0/2)\n"
     ]
    },
    {
     "name": "stderr",
     "output_type": "stream",
     "text": [
      "WARNING:py.warnings:C:\\Users\\WANGLAB\\anaconda3\\envs\\qiskit-metal\\Lib\\site-packages\\pyEPR\\core_distributed_analysis.py:1307: FutureWarning: The series.append method is deprecated and will be removed from pandas in a future version. Use pandas.concat instead.\n",
      "  sol = sol.append(self.get_Qdielectric(\n",
      "\n"
     ]
    },
    {
     "name": "stdout",
     "output_type": "stream",
     "text": [
      "p_dielectric_main_0 = 0.9178366936230699\n",
      "\n",
      "  \u001b[1mMode 1 at 5.97 GHz   [2/3]\u001b[0m\n",
      "    Calculating ℰ_magnetic,ℰ_electric\n",
      "       (ℰ_E-ℰ_H)/ℰ_E       ℰ_E       ℰ_H\n",
      "                0.3%  1.024e-24 1.021e-24\n",
      "\n",
      "    Calculating junction energy participation ration (EPR)\n",
      "\tmethod=`line_voltage`. First estimates:\n",
      "\tjunction        EPR p_1j   sign s_1j    (p_capacitive)\n",
      "\t\tEnergy fraction (Lj over Lj&Cj)= 97.03%\n",
      "\tjj              0.00319076  (+)        9.78164e-05\n",
      "\t\t(U_tot_cap-U_tot_ind)/mean=-0.00%\n",
      "Calculating Qdielectric_main for mode 1 (1/2)\n"
     ]
    },
    {
     "name": "stderr",
     "output_type": "stream",
     "text": [
      "WARNING:py.warnings:C:\\Users\\WANGLAB\\anaconda3\\envs\\qiskit-metal\\Lib\\site-packages\\pyEPR\\core_distributed_analysis.py:1307: FutureWarning: The series.append method is deprecated and will be removed from pandas in a future version. Use pandas.concat instead.\n",
      "  sol = sol.append(self.get_Qdielectric(\n",
      "\n"
     ]
    },
    {
     "name": "stdout",
     "output_type": "stream",
     "text": [
      "p_dielectric_main_1 = 0.91765769263625\n",
      "\n",
      "  \u001b[1mMode 2 at 10.93 GHz   [3/3]\u001b[0m\n",
      "    Calculating ℰ_magnetic,ℰ_electric\n",
      "       (ℰ_E-ℰ_H)/ℰ_E       ℰ_E       ℰ_H\n",
      "                0.0%  4.861e-24 4.861e-24\n",
      "\n",
      "    Calculating junction energy participation ration (EPR)\n",
      "\tmethod=`line_voltage`. First estimates:\n",
      "\tjunction        EPR p_2j   sign s_2j    (p_capacitive)\n",
      "\t\tEnergy fraction (Lj over Lj&Cj)= 90.67%\n",
      "\tjj              3.53353e-07  (+)        3.63422e-08\n",
      "\t\t(U_tot_cap-U_tot_ind)/mean=0.00%\n",
      "Calculating Qdielectric_main for mode 2 (2/2)\n"
     ]
    },
    {
     "name": "stderr",
     "output_type": "stream",
     "text": [
      "WARNING:py.warnings:C:\\Users\\WANGLAB\\anaconda3\\envs\\qiskit-metal\\Lib\\site-packages\\pyEPR\\core_distributed_analysis.py:1307: FutureWarning: The series.append method is deprecated and will be removed from pandas in a future version. Use pandas.concat instead.\n",
      "  sol = sol.append(self.get_Qdielectric(\n",
      "\n"
     ]
    },
    {
     "name": "stdout",
     "output_type": "stream",
     "text": [
      "p_dielectric_main_2 = 0.9211529669701789\n"
     ]
    },
    {
     "name": "stderr",
     "output_type": "stream",
     "text": [
      "WARNING 12:13AM [__init__]: <p>Error: <class 'IndexError'></p>\n"
     ]
    },
    {
     "name": "stdout",
     "output_type": "stream",
     "text": [
      "\n",
      "ANALYSIS DONE. Data saved to:\n",
      "\n",
      "C:\\data-pyEPR\\Fluxonium_experiment_blabla\\Xmon_and_resonator_hfss\\2023-08-23 00-13-21.npz\n",
      "\n",
      "\n",
      "\t Differences in variations:\n",
      "\n",
      "\n",
      "\n",
      " . . . . . . . . . . . . . . . . . . . . . . . . . . . . . . . . . . . . . . . . \n",
      "Variation 0\n",
      "\n",
      "Starting the diagonalization\n",
      "Finished the diagonalization\n"
     ]
    },
    {
     "name": "stderr",
     "output_type": "stream",
     "text": [
      "WARNING:py.warnings:C:\\Users\\WANGLAB\\anaconda3\\envs\\qiskit-metal\\Lib\\site-packages\\pyEPR\\core_quantum_analysis.py:712: FutureWarning: Support for multi-dimensional indexing (e.g. `obj[:, None]`) is deprecated and will be removed in a future version.  Convert to a numpy array before indexing instead.\n",
      "  result['Q_coupling'] = self.Qm_coupling[variation][self.Qm_coupling[variation].columns[junctions]][modes]#TODO change the columns to junctions\n",
      "\n",
      "WARNING:py.warnings:C:\\Users\\WANGLAB\\anaconda3\\envs\\qiskit-metal\\Lib\\site-packages\\pyEPR\\core_quantum_analysis.py:717: FutureWarning: Support for multi-dimensional indexing (e.g. `obj[:, None]`) is deprecated and will be removed in a future version.  Convert to a numpy array before indexing instead.\n",
      "  result['Qs'] = self.Qs[variation][self.PM[variation].columns[junctions]][modes] #TODO change the columns to junctions\n",
      "\n"
     ]
    },
    {
     "name": "stdout",
     "output_type": "stream",
     "text": [
      "Pm_norm=\n",
      "modes\n",
      "0      0.988822\n",
      "1      0.992860\n",
      "2    114.823981\n",
      "dtype: float64\n",
      "\n",
      "Pm_norm idx =\n",
      "      jj\n",
      "0   True\n",
      "1  False\n",
      "2  False\n",
      "*** P (participation matrix, not normlz.)\n",
      "             jj\n",
      "0  1.002514e+00\n",
      "1  3.190446e-03\n",
      "2  3.533530e-07\n",
      "\n",
      "*** S (sign-bit matrix)\n",
      "   s_jj\n",
      "0     1\n",
      "1     1\n",
      "2     1\n",
      "*** P (participation matrix, normalized.)\n",
      "      0.99\n",
      "    0.0032\n",
      "   3.5e-07\n",
      "\n",
      "*** Chi matrix O1 PT (MHz)\n",
      "    Diag is anharmonicity, off diag is full cross-Kerr.\n",
      "       233     1.68 0.000341\n",
      "      1.68  0.00302 1.23e-06\n",
      "  0.000341 1.23e-06 1.24e-10\n",
      "\n",
      "*** Chi matrix ND (MHz) \n",
      "       259    0.751 0.000343\n",
      "     0.751 0.000787 6.43e-07\n",
      "  0.000343 6.43e-07  2.4e-10\n",
      "\n",
      "*** Frequencies O1 PT (MHz)\n",
      "0     5102.385828\n",
      "1     5967.460119\n",
      "2    10931.842356\n",
      "dtype: float64\n",
      "\n",
      "*** Frequencies ND (MHz)\n",
      "0     5090.711116\n",
      "1     5967.666334\n",
      "2    10931.842353\n",
      "dtype: float64\n",
      "\n",
      "*** Q_coupling\n",
      "Empty DataFrame\n",
      "Columns: []\n",
      "Index: [0, 1, 2]\n"
     ]
    },
    {
     "data": {
      "text/markdown": [
       "#### Mode frequencies (MHz)"
      ],
      "text/plain": [
       "<IPython.core.display.Markdown object>"
      ]
     },
     "metadata": {},
     "output_type": "display_data"
    },
    {
     "data": {
      "text/markdown": [
       "###### Numerical diagonalization"
      ],
      "text/plain": [
       "<IPython.core.display.Markdown object>"
      ]
     },
     "metadata": {},
     "output_type": "display_data"
    },
    {
     "data": {
      "text/html": [
       "<div>\n",
       "<style scoped>\n",
       "    .dataframe tbody tr th:only-of-type {\n",
       "        vertical-align: middle;\n",
       "    }\n",
       "\n",
       "    .dataframe tbody tr th {\n",
       "        vertical-align: top;\n",
       "    }\n",
       "\n",
       "    .dataframe thead th {\n",
       "        text-align: right;\n",
       "    }\n",
       "</style>\n",
       "<table border=\"1\" class=\"dataframe\">\n",
       "  <thead>\n",
       "    <tr style=\"text-align: right;\">\n",
       "      <th>Lj</th>\n",
       "      <th>10.9</th>\n",
       "    </tr>\n",
       "  </thead>\n",
       "  <tbody>\n",
       "    <tr>\n",
       "      <th>0</th>\n",
       "      <td>5090.71</td>\n",
       "    </tr>\n",
       "    <tr>\n",
       "      <th>1</th>\n",
       "      <td>5967.67</td>\n",
       "    </tr>\n",
       "    <tr>\n",
       "      <th>2</th>\n",
       "      <td>10931.84</td>\n",
       "    </tr>\n",
       "  </tbody>\n",
       "</table>\n",
       "</div>"
      ],
      "text/plain": [
       "Lj      10.9\n",
       "0    5090.71\n",
       "1    5967.67\n",
       "2   10931.84"
      ]
     },
     "metadata": {},
     "output_type": "display_data"
    },
    {
     "data": {
      "text/markdown": [
       "#### Kerr Non-linear coefficient table (MHz)"
      ],
      "text/plain": [
       "<IPython.core.display.Markdown object>"
      ]
     },
     "metadata": {},
     "output_type": "display_data"
    },
    {
     "data": {
      "text/markdown": [
       "###### Numerical diagonalization"
      ],
      "text/plain": [
       "<IPython.core.display.Markdown object>"
      ]
     },
     "metadata": {},
     "output_type": "display_data"
    },
    {
     "data": {
      "text/html": [
       "<div>\n",
       "<style scoped>\n",
       "    .dataframe tbody tr th:only-of-type {\n",
       "        vertical-align: middle;\n",
       "    }\n",
       "\n",
       "    .dataframe tbody tr th {\n",
       "        vertical-align: top;\n",
       "    }\n",
       "\n",
       "    .dataframe thead th {\n",
       "        text-align: right;\n",
       "    }\n",
       "</style>\n",
       "<table border=\"1\" class=\"dataframe\">\n",
       "  <thead>\n",
       "    <tr style=\"text-align: right;\">\n",
       "      <th></th>\n",
       "      <th></th>\n",
       "      <th>0</th>\n",
       "      <th>1</th>\n",
       "      <th>2</th>\n",
       "    </tr>\n",
       "    <tr>\n",
       "      <th>Lj</th>\n",
       "      <th></th>\n",
       "      <th></th>\n",
       "      <th></th>\n",
       "      <th></th>\n",
       "    </tr>\n",
       "  </thead>\n",
       "  <tbody>\n",
       "    <tr>\n",
       "      <th rowspan=\"3\" valign=\"top\">10.9</th>\n",
       "      <th>0</th>\n",
       "      <td>2.59e+02</td>\n",
       "      <td>7.51e-01</td>\n",
       "      <td>3.43e-04</td>\n",
       "    </tr>\n",
       "    <tr>\n",
       "      <th>1</th>\n",
       "      <td>7.51e-01</td>\n",
       "      <td>7.87e-04</td>\n",
       "      <td>6.43e-07</td>\n",
       "    </tr>\n",
       "    <tr>\n",
       "      <th>2</th>\n",
       "      <td>3.43e-04</td>\n",
       "      <td>6.43e-07</td>\n",
       "      <td>2.40e-10</td>\n",
       "    </tr>\n",
       "  </tbody>\n",
       "</table>\n",
       "</div>"
      ],
      "text/plain": [
       "               0         1         2\n",
       "Lj                                  \n",
       "10.9 0  2.59e+02  7.51e-01  3.43e-04\n",
       "     1  7.51e-01  7.87e-04  6.43e-07\n",
       "     2  3.43e-04  6.43e-07  2.40e-10"
      ]
     },
     "metadata": {},
     "output_type": "display_data"
    }
   ],
   "source": [
    "\n",
    "eig_qb2.setup.junctions.jj.rect = 'JJ_rect_Lj_Q2_rect_jj'\n",
    "eig_qb2.setup.junctions.jj.line = 'JJ_Lj_Q2_rect_jj_'\n",
    "eig_qb2.run_epr()"
   ]
  },
  {
   "cell_type": "code",
   "execution_count": null,
   "metadata": {
    "ExecuteTime": {
     "end_time": "2023-08-20T05:56:19.596243Z",
     "start_time": "2023-08-20T05:56:19.109039Z"
    },
    "scrolled": true
   },
   "outputs": [],
   "source": [
    "\n",
    "TQ1 = CoupledLineTee(design, 'TQ1', options=dict(pos_x='1.07mm',\n",
    "                                             pos_y='2.6mm',\n",
    "                                              coupling_length='400um', coupling_space='4um', open_termination=False, orientation='0'))\n",
    "\n",
    "options1 = Dict(\n",
    "    total_length='3.9mm',\n",
    "    hfss_wire_bonds = True,\n",
    "    fillet='40um',\n",
    "    lead = dict(start_straight='50um'),\n",
    "    pin_inputs=Dict(\n",
    "        start_pin=Dict(\n",
    "            component='TQ1',\n",
    "            pin='second_end'),\n",
    "        end_pin=Dict(\n",
    "            component='Q1',\n",
    "            pin='a')))\n",
    "read_q1 = RouteMeander(design, 'read_q1', options=options1)\n",
    "gui.rebuild()\n",
    "gui.autoscale()"
   ]
  },
  {
   "cell_type": "markdown",
   "metadata": {},
   "source": [
    "# Feedline and Feedline Launchpads "
   ]
  },
  {
   "cell_type": "code",
   "execution_count": null,
   "metadata": {
    "ExecuteTime": {
     "end_time": "2023-08-20T05:56:28.805351Z",
     "start_time": "2023-08-20T05:56:28.244389Z"
    },
    "scrolled": true
   },
   "outputs": [],
   "source": [
    "launch_feed_left_options = dict(trace_width= '10um',pad_width='150um', pad_gap_x= '96um', pad_gap_y= '130um', pad_height='200um', \n",
    "                           taper_height='150um',  pos_x='-1.5mm', pos_y='3.8mm', orientation='0', lead_length='30um')\n",
    "l_feed_left = LaunchpadWirebond(design, 'Launch_Feed_Left', options = launch_feed_left_options)\n",
    "\n",
    "\n",
    "launch_feed_right_options = dict(trace_width= '10um', pad_width='150um', pad_gap_x= '96um', pad_gap_y= '130um', pad_height='200um', \n",
    "                           taper_height='150um',  pos_x='1.5mm', pos_y='3.8mm', lead_length='30um', orientation='180')\n",
    "l_feed_right = LaunchpadWirebond(design, 'Launch_Feed_Right', options = launch_feed_right_options)\n",
    "\n",
    "\n",
    "\n",
    "\n",
    "# anchors1c = OrderedDict()\n",
    "# anchors1c[0] = np.array([-0.65, 0.56079])\n",
    "\n",
    "\n",
    "\n",
    "ops_oF = {'hfss_wire_bonds': 'True',\n",
    "            'pin_inputs': \n",
    "            {'start_pin': {'component': 'TQ2', 'pin': 'prime_start'}, \n",
    "             'end_pin': {'component': 'Launch_Feed_Left', 'pin': 'tie'}},\n",
    "            #'fillet':'80um'\n",
    "            }\n",
    "cpw_openFirst = RouteStraight(design, 'cpw_openFirst', options=ops_oF)\n",
    "\n",
    "\n",
    "\n",
    "\n",
    "ops_oM = {'hfss_wire_bonds': 'True',\n",
    "            'pin_inputs': \n",
    "            {'start_pin': {'component': 'TQ1', 'pin': 'prime_start'}, \n",
    "             'end_pin': {'component': 'TQ2', 'pin': 'prime_end'}},\n",
    "            #'anchors': anchors1c,\n",
    "            #'fillet':'50um'\n",
    "            }\n",
    "cpw_openMid = RouteStraight(design, 'cpw_openMid', options=ops_oM)\n",
    "\n",
    "\n",
    "\n",
    "\n",
    "\n",
    "# ops_oLast = {'hfss_wire_bonds': 'True',\n",
    "#             'pin_inputs': \n",
    "#             {'start_pin': {'component': 'TQ1', 'pin': 'prime_end'}, \n",
    "#              'end_pin': {'component': l_feed_right.name, 'pin': 'tie'}},\n",
    "#             'fillet':'80um'\n",
    "#             }\n",
    "# cpw_openLast = RouteStraight(design, 'cpw_openLast', options=ops_oLast)\n",
    "\n",
    "\n",
    "\n",
    "gui.rebuild()\n",
    "gui.autoscale()"
   ]
  },
  {
   "cell_type": "code",
   "execution_count": null,
   "metadata": {
    "ExecuteTime": {
     "end_time": "2023-07-05T19:38:10.671002Z",
     "start_time": "2023-07-05T19:38:10.671002Z"
    },
    "scrolled": true
   },
   "outputs": [],
   "source": [
    "%metal_heading Now analyzing the design: HFSS & EPR"
   ]
  },
  {
   "cell_type": "markdown",
   "metadata": {},
   "source": [
    "# Running for an individual XMon"
   ]
  },
  {
   "cell_type": "code",
   "execution_count": null,
   "metadata": {
    "ExecuteTime": {
     "end_time": "2023-08-21T03:49:26.332465Z",
     "start_time": "2023-08-21T03:49:25.762749Z"
    },
    "scrolled": true
   },
   "outputs": [],
   "source": [
    "from qiskit_metal.analyses.quantization import EPRanalysis\n",
    "eig_qb2 = EPRanalysis(design, \"hfss\")\n",
    "\n",
    "eig_qb2.sim.setup.vars.Lj = '10.9 nH'\n",
    "eig_qb2.sim.setup.vars = Dict({'Lj': '10.9 nH', 'Cj': '3 fF'})\n",
    "gui.rebuild()\n",
    "gui.autoscale()"
   ]
  },
  {
   "cell_type": "code",
   "execution_count": null,
   "metadata": {
    "ExecuteTime": {
     "end_time": "2023-07-26T00:50:28.301797Z",
     "start_time": "2023-07-26T00:50:27.885651Z"
    },
    "scrolled": true
   },
   "outputs": [],
   "source": [
    "design.qgeometry.tables['junction']\n",
    "qcomps=design.components\n",
    "qcomps['Q2'].options['hfss_inductance'] = 'Lj'\n",
    "qcomps['Q2'].options['hfss_capacitance'] = 'Cj'\n",
    "\n",
    "gui.rebuild()\n",
    "gui.autoscale()\n",
    "\n"
   ]
  },
  {
   "cell_type": "code",
   "execution_count": null,
   "metadata": {
    "ExecuteTime": {
     "end_time": "2023-06-29T05:39:55.602556Z",
     "start_time": "2023-06-29T05:39:55.598569Z"
    },
    "scrolled": true
   },
   "outputs": [],
   "source": [
    "eig_qb.sim.setup"
   ]
  },
  {
   "cell_type": "code",
   "execution_count": null,
   "metadata": {
    "ExecuteTime": {
     "end_time": "2023-07-26T00:56:12.830640Z",
     "start_time": "2023-07-26T00:56:12.404322Z"
    },
    "scrolled": true
   },
   "outputs": [],
   "source": [
    "eig_qb.sim.setup.max_passes = 16\n",
    "eig_qb.sim.setup.vars.Lj = '10 nH'\n",
    "eig_qb.sim.setup.vars = Dict({'Lj': '10 nH', 'Cj': '3 fF'})\n",
    "\n",
    "eig_qb.sim.setup_update(max_delta_f = 0.5, min_freq_ghz = 4)\n",
    "eig_qb.sim.setup.min_passes = 10\n",
    "eig_qb.sim.setup.n_modes = 1\n",
    "\n",
    "gui.rebuild()\n",
    "gui.autoscale()\n",
    "\n"
   ]
  },
  {
   "cell_type": "code",
   "execution_count": null,
   "metadata": {
    "ExecuteTime": {
     "end_time": "2023-07-26T01:02:23.055670Z",
     "start_time": "2023-07-26T01:02:22.956708Z"
    },
    "scrolled": true
   },
   "outputs": [],
   "source": [
    "eig_qb.sim.renderer._options['max_mesh_length_jj'] = '3um'\n",
    "eig_qb.sim.renderer._options['max_mesh_length_port'] = '3um'"
   ]
  },
  {
   "cell_type": "code",
   "execution_count": null,
   "metadata": {
    "ExecuteTime": {
     "end_time": "2023-07-26T01:05:58.461508Z",
     "start_time": "2023-07-26T01:02:43.117166Z"
    },
    "scrolled": true
   },
   "outputs": [],
   "source": [
    "\n",
    "design.qgeometry.tables['junction']\n",
    "qcomps=design.components\n",
    "qcomps['Q2'].options['hfss_inductance'] = 'Lj'\n",
    "qcomps['Q2'].options['hfss_capacitance'] = 'Cj'\n",
    "\n",
    "gui.rebuild()\n",
    "gui.autoscale()\n",
    "\n",
    "\n",
    "\n",
    "eig_qb.sim.run(name=\"Xmon_only_new\", components=['Q2'], open_terminations=[], box_plus_buffer = True)\n",
    "eig_qb.sim.plot_convergences()"
   ]
  },
  {
   "cell_type": "markdown",
   "metadata": {},
   "source": [
    "The last variables you pass to the `run()` or `sim.run()` methods, will be stored in the `sim.setup` dictionary under the key `run`. You can recall the information passed by either accessing the dictionary directly, or by using the print handle below."
   ]
  },
  {
   "cell_type": "code",
   "execution_count": null,
   "metadata": {
    "ExecuteTime": {
     "end_time": "2023-06-29T05:40:52.248057Z",
     "start_time": "2023-06-29T05:40:51.994436Z"
    },
    "scrolled": true
   },
   "outputs": [],
   "source": [
    "eig_qb.sim.plot_convergences()"
   ]
  },
  {
   "cell_type": "code",
   "execution_count": null,
   "metadata": {
    "ExecuteTime": {
     "end_time": "2023-06-29T05:40:53.796054Z",
     "start_time": "2023-06-29T05:40:53.793171Z"
    },
    "scrolled": true
   },
   "outputs": [],
   "source": [
    "# eig_qb.setup.run    <- direct access\n",
    "eig_qb.sim.print_run_args()"
   ]
  },
  {
   "cell_type": "code",
   "execution_count": null,
   "metadata": {
    "ExecuteTime": {
     "end_time": "2023-08-21T03:54:37.785211Z",
     "start_time": "2023-08-21T03:54:32.937998Z"
    },
    "scrolled": true
   },
   "outputs": [],
   "source": [
    "eig_qb.setup.junctions.jj.rect = 'JJ_rect_Lj_Q2_rect_jj'\n",
    "eig_qb.setup.junctions.jj.line = 'JJ_Lj_Q2_rect_jj_'\n",
    "eig_qb.run_epr()"
   ]
  },
  {
   "cell_type": "code",
   "execution_count": null,
   "metadata": {
    "scrolled": true
   },
   "outputs": [],
   "source": []
  },
  {
   "cell_type": "markdown",
   "metadata": {},
   "source": [
    "# Capacitance matrix "
   ]
  },
  {
   "cell_type": "code",
   "execution_count": null,
   "metadata": {
    "ExecuteTime": {
     "end_time": "2023-07-26T01:40:10.839755Z",
     "start_time": "2023-07-26T01:39:21.041026Z"
    },
    "scrolled": true
   },
   "outputs": [],
   "source": [
    "from qiskit_metal.analyses.quantization import LOManalysis\n",
    "c1 = LOManalysis(design, \"q3d\")\n",
    "\n",
    "# example: update single setting\n",
    "c1.sim.setup.max_passes = 10\n",
    "# example: update multiple settings\n",
    "c1.sim.setup_update(solution_order = 'Medium', auto_increase_solution_order = 'False')\n",
    "\n",
    "c1.sim.setup\n",
    "\n",
    "c1.sim.run(components=['Q1', 'Q2'], open_terminations=[])\n",
    "c1.sim.capacitance_matrix"
   ]
  },
  {
   "cell_type": "markdown",
   "metadata": {},
   "source": [
    "# Qubit 2 readout simulation -EBRU"
   ]
  },
  {
   "cell_type": "markdown",
   "metadata": {},
   "source": [
    "# Qubit 2 related simulations"
   ]
  },
  {
   "cell_type": "code",
   "execution_count": null,
   "metadata": {
    "scrolled": true
   },
   "outputs": [],
   "source": [
    "eig_rd.sim.setup.n_modes =1\n",
    "\n",
    "eig_rd.sim.setup.min_passes = 1\n",
    "eig_rd.sim.setup.max_passes = 1\n",
    "\n",
    "# eig_rd.sim.setup.min_passes = 11\n",
    "# eig_rd.sim.setup.max_passes = 17\n",
    "\n",
    "\n",
    "eig_rd.sim.setup_update(max_delta_f = 0.5, min_freq_ghz = 1.1)\n",
    "\n",
    "\n",
    "design.qgeometry.tables['junction']\n",
    "qcomps=design.components\n",
    "qcomps['Q2'].options['hfss_inductance'] = 'Lj'\n",
    "qcomps['Q2'].options['hfss_capacitance'] = 'Cj'\n",
    "\n",
    "gui.rebuild()\n",
    "gui.autoscale()\n",
    "\n",
    "\n",
    "\n",
    "\n",
    "\n",
    "\n",
    "#eig_rd.sim.run(name=\"storage_coupling_PART92\", components=['Q2','Store_Q2_2', 'Storage_Line_2', 'otg11_2', 'stg11_2'], open_terminations=[('Storage_Line_2', 'end')], box_plus_buffer = False)\n",
    "\n",
    "\n",
    "\n",
    "\n",
    "#eig_rd.sim.run(name=\"xmon_and_readout_storage_ayoy_39\", components=['Q2', 'read_q2', 'Store_Q2_2', 'TQ2'], open_terminations=[], box_plus_buffer = False)\n",
    "eig_rd.sim.run(name=\"xmon_and_readout_PART90\", components=['Q2', 'read_q2', 'TQ2'], open_terminations=[('TQ2', 'prime_start'), ('TQ2', 'prime_end')], box_plus_buffer = False)\n",
    "\n",
    "\n",
    "#eig_rd.sim.run(name=\"readout4\", components=['read_q1', 'TQ1', 'Q1'], open_terminations=[('TQ1', 'prime_end'), ('TQ1', 'prime_start')], box_plus_buffer = False)\n",
    "#eig_rd.sim.run(name=\"storage_and_xmon_and_readout\", components=['Q1', 'Store_Q1', 'read_q1', 'TQ1', 'Launch_Feed_Left', 'Launch_Feed_Right', 'cpw_openRight', 'cpw_openLeft'], open_terminations=[], box_plus_buffer = False)\n",
    "#eig_rd.sim.run(name=\"xmon_chargeline\", components=['Q1', 'Charge_Line_1'], open_terminations=[('Charge_Line_1','end')])\n",
    "# eig_rd.sim.run(name=\"open_24_131\", components=['Q1', 'Store_Q1_1', 'Launch_Storage'], open_terminations=[('Launch_Storage','tie')], box_plus_buffer = False)\n",
    "#eig_rd.sim.run(name=\"storage_coupling_ayoy\", components=['Q1', 'Store_Q1_1', 'stg11', 'Storage_Line_1', 'otg11'], open_terminations=[('otg11', 'open'), ('Storage_Line_1', 'end')], box_plus_buffer = False)\n",
    "#eig_rd.sim.run(name=\"ro_111622\", components=['Q2', 'read_q2', 'TQ2', 'Store_Q2_2'], open_terminations=[], box_plus_buffer = False)\n",
    "#eig_rd.sim.run(name=\"full_set2\", components=['Q2', 'Store_Q2_2' 'read_q2', 'TQ2'], open_terminations=[], box_plus_buffer = False)\n",
    "\n",
    "#eig_rd.sim.run(name=\"xmon_and_ro_set1\", components=['Q1', 'Store_Q1_1', 'read_q1', 'TQ1'], open_terminations=[], box_plus_buffer = False)\n",
    "#eig_rd.sim.run(name=\"storage_loss_fluxpad2\", components=['Q2', 'Store_Q2_2', 'Launch_Flux2'], open_terminations=[], box_plus_buffer = False)\n",
    "eig_rd.sim.plot_convergences()"
   ]
  },
  {
   "cell_type": "code",
   "execution_count": null,
   "metadata": {
    "scrolled": true
   },
   "outputs": [],
   "source": [
    "eig_rd.sim.setup.n_modes =3\n",
    "\n",
    "eig_rd.sim.setup.min_passes = 1\n",
    "eig_rd.sim.setup.max_passes = 1\n",
    "\n",
    "# eig_rd.sim.setup.min_passes = 15\n",
    "# eig_rd.sim.setup.max_passes = 17\n",
    "\n",
    "\n",
    "eig_rd.sim.setup_update(max_delta_f = 0.5, min_freq_ghz = 1.1)\n",
    "\n",
    "\n",
    "design.qgeometry.tables['junction']\n",
    "qcomps=design.components\n",
    "qcomps['Q1'].options['hfss_inductance'] = 'Lj'\n",
    "qcomps['Q1'].options['hfss_capacitance'] = 'Cj'\n",
    "\n",
    "gui.rebuild()\n",
    "gui.autoscale()\n",
    "\n",
    "\n",
    "eig_rd.sim.run(name=\"chargecoupling\", components=['Q1', 'Charge_Line_1'], open_terminations=[('Charge_Line_1', 'end')], box_plus_buffer = False)\n",
    "\n",
    "\n",
    "eig_rd.sim.plot_convergences()"
   ]
  },
  {
   "cell_type": "code",
   "execution_count": null,
   "metadata": {
    "scrolled": true
   },
   "outputs": [],
   "source": []
  },
  {
   "cell_type": "code",
   "execution_count": null,
   "metadata": {
    "scrolled": true
   },
   "outputs": [],
   "source": []
  },
  {
   "cell_type": "code",
   "execution_count": null,
   "metadata": {
    "scrolled": true
   },
   "outputs": [],
   "source": [
    "eig_rd.sim.setup"
   ]
  },
  {
   "cell_type": "markdown",
   "metadata": {},
   "source": [
    "Recover eigenmode frequencies for each variation."
   ]
  },
  {
   "cell_type": "markdown",
   "metadata": {},
   "source": [
    "Display the Ansys modeler window and plot the E-field on the chip's surface."
   ]
  },
  {
   "cell_type": "code",
   "execution_count": null,
   "metadata": {
    "scrolled": true
   },
   "outputs": [],
   "source": [
    "\n",
    "hfss = eig_rd.sim.renderer\n",
    "hfss.clear_fields(['Mag_E1'])\n",
    "hfss.set_mode(1, \"Setup\")\n",
    "hfss.modeler._modeler.ShowWindow()\n",
    "hfss.plot_fields('main')\n",
    "hfss.save_screenshot()"
   ]
  },
  {
   "cell_type": "markdown",
   "metadata": {},
   "source": [
    "### EPR Analysis\n",
    "Find the electric and magnetic energy stored in the readout system."
   ]
  },
  {
   "cell_type": "code",
   "execution_count": null,
   "metadata": {
    "scrolled": true
   },
   "outputs": [],
   "source": [
    "\n",
    "eig_rd.sim.setup.name"
   ]
  },
  {
   "cell_type": "code",
   "execution_count": null,
   "metadata": {
    "scrolled": true
   },
   "outputs": [],
   "source": [
    "# eig_rd.setup\n",
    "# eig_rd.setup.junctions.jj.rect = 'JJ_rect_Lj_Q1_rect_jj'\n",
    "# eig_rd.setup.junctions.jj.line = 'JJ_Lj_Q1_rect_jj_'\n",
    "\n",
    "# eig_rd.setup\n",
    "\n",
    "eig_rd.setup\n",
    "eig_rd.setup.junctions.jj.rect = 'JJ_rect_Lj_Q2_rect_jj'\n",
    "eig_rd.setup.junctions.jj.line = 'JJ_Lj_Q2_rect_jj_'\n",
    "\n",
    "eig_rd.setup"
   ]
  },
  {
   "cell_type": "code",
   "execution_count": null,
   "metadata": {
    "scrolled": true
   },
   "outputs": [],
   "source": [
    "\n",
    "eig_rd.run_epr()"
   ]
  },
  {
   "cell_type": "code",
   "execution_count": null,
   "metadata": {
    "scrolled": true
   },
   "outputs": [],
   "source": [
    "eig_rd.sim.setup.vars.Lj "
   ]
  },
  {
   "cell_type": "code",
   "execution_count": null,
   "metadata": {
    "scrolled": true
   },
   "outputs": [],
   "source": [
    "eig_rd.sim.close()"
   ]
  },
  {
   "cell_type": "code",
   "execution_count": null,
   "metadata": {
    "scrolled": true
   },
   "outputs": [],
   "source": []
  },
  {
   "cell_type": "markdown",
   "metadata": {},
   "source": [
    "# LOM"
   ]
  },
  {
   "cell_type": "code",
   "execution_count": null,
   "metadata": {
    "scrolled": true
   },
   "outputs": [],
   "source": [
    "from qiskit_metal.analyses.quantization import LOManalysis\n",
    "c1 = LOManalysis(design, \"q3d\")\n",
    "\n",
    "# example: update single setting\n",
    "c1.sim.setup.max_passes = 10\n",
    "# example: update multiple settings\n",
    "c1.sim.setup_update(solution_order = 'Medium', auto_increase_solution_order = 'False')\n",
    "\n",
    "c1.sim.setup\n",
    "\n",
    "\n",
    "c1.sim.run(components=['Q1', 'Store_Q1_1','Storage_Line_1', 'Launch_Storage'], open_terminations=[('Storage_Line_1', 'start')])\n"
   ]
  },
  {
   "cell_type": "code",
   "execution_count": null,
   "metadata": {
    "scrolled": true
   },
   "outputs": [],
   "source": [
    "c1.sim.capacitance_matrix"
   ]
  },
  {
   "cell_type": "code",
   "execution_count": null,
   "metadata": {
    "scrolled": true
   },
   "outputs": [],
   "source": []
  }
 ],
 "metadata": {
  "kernelspec": {
   "display_name": "Python 3 (ipykernel)",
   "language": "python",
   "name": "python3"
  },
  "language_info": {
   "codemirror_mode": {
    "name": "ipython",
    "version": 3
   },
   "file_extension": ".py",
   "mimetype": "text/x-python",
   "name": "python",
   "nbconvert_exporter": "python",
   "pygments_lexer": "ipython3",
   "version": "3.11.4"
  },
  "varInspector": {
   "cols": {
    "lenName": 16,
    "lenType": 16,
    "lenVar": 40
   },
   "kernels_config": {
    "python": {
     "delete_cmd_postfix": "",
     "delete_cmd_prefix": "del ",
     "library": "var_list.py",
     "varRefreshCmd": "print(var_dic_list())"
    },
    "r": {
     "delete_cmd_postfix": ") ",
     "delete_cmd_prefix": "rm(",
     "library": "var_list.r",
     "varRefreshCmd": "cat(var_dic_list()) "
    }
   },
   "types_to_exclude": [
    "module",
    "function",
    "builtin_function_or_method",
    "instance",
    "_Feature"
   ],
   "window_display": false
  }
 },
 "nbformat": 4,
 "nbformat_minor": 4
}

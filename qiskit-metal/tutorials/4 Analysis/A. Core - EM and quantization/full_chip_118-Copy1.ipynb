{
 "cells": [
  {
   "cell_type": "code",
   "execution_count": 1,
   "id": "7ff0bac0",
   "metadata": {
    "ExecuteTime": {
     "end_time": "2023-08-15T05:23:55.341255Z",
     "start_time": "2023-08-15T05:23:55.306901Z"
    },
    "scrolled": true
   },
   "outputs": [],
   "source": [
    "%load_ext autoreload\n",
    "%autoreload 2"
   ]
  },
  {
   "cell_type": "code",
   "execution_count": 2,
   "id": "18403e0c",
   "metadata": {
    "ExecuteTime": {
     "end_time": "2023-08-15T05:23:58.154924Z",
     "start_time": "2023-08-15T05:23:55.794989Z"
    }
   },
   "outputs": [
    {
     "data": {
      "text/html": [
       "\n",
       "    <h1 style=\"\n",
       "        background: #12c2e9;  /* fallback for old browsers */\n",
       "        background: -webkit-linear-gradient(to right, #d4418e 0%, #0652c5 74%);  /* Chrome 10-25, Safari 5.1-6 */\n",
       "        background: linear-gradient(315deg, #d4418e 0%, #0652c5 74%); /* W3C, IE 10+/ Edge, Firefox 16+, Chrome 26+, Opera 12+, Safari 7+ */\n",
       "        margin-top: 50px;\n",
       "        border-style: outset;\n",
       "        padding-top:100px;\n",
       "        padding-bottom:50px;\n",
       "        padding-left:25px;\n",
       "        color: white;\n",
       "    \"> Welcome to Qiskit Metal! <h1>\n",
       "        "
      ],
      "text/plain": [
       "<IPython.core.display.HTML object>"
      ]
     },
     "metadata": {},
     "output_type": "display_data"
    }
   ],
   "source": [
    "import qiskit_metal as metal\n",
    "from qiskit_metal import designs, draw\n",
    "from qiskit_metal import MetalGUI, Dict, open_docs\n",
    "\n",
    "%metal_heading Welcome to Qiskit Metal!"
   ]
  },
  {
   "cell_type": "code",
   "execution_count": 3,
   "id": "0b17ce5b",
   "metadata": {
    "ExecuteTime": {
     "end_time": "2023-08-15T05:23:59.296994Z",
     "start_time": "2023-08-15T05:23:58.754981Z"
    }
   },
   "outputs": [],
   "source": [
    "design = designs.DesignPlanar()\n",
    "gui = MetalGUI(design)"
   ]
  },
  {
   "cell_type": "code",
   "execution_count": 4,
   "id": "eab6a217",
   "metadata": {
    "ExecuteTime": {
     "end_time": "2023-08-15T05:23:59.835656Z",
     "start_time": "2023-08-15T05:23:59.754762Z"
    }
   },
   "outputs": [
    {
     "data": {
      "text/plain": [
       "{'pos_x': '0.0um',\n",
       " 'pos_y': '0.0um',\n",
       " 'orientation': '0.0',\n",
       " 'chip': 'main',\n",
       " 'layer': '1',\n",
       " 'connection_pads': {},\n",
       " '_default_connection_pads': {'connector_type': '0',\n",
       "  'claw_length': '30um',\n",
       "  'ground_spacing': '5um',\n",
       "  'claw_width': '10um',\n",
       "  'claw_gap': '6um',\n",
       "  'claw_cpw_length': '40um',\n",
       "  'claw_cpw_width': '10um',\n",
       "  'connector_location': '0'},\n",
       " 'cross_width': '20um',\n",
       " 'cross_length': '200um',\n",
       " 'cross_gap': '20um',\n",
       " 'make_fl': True,\n",
       " 'fl_options': {'t_top': '15um',\n",
       "  't_offset': '0um',\n",
       "  't_inductive_gap': '3um',\n",
       "  't_width': '5um',\n",
       "  't_gap': '3um'},\n",
       " 'hfss_wire_bonds': False,\n",
       " 'q3d_wire_bonds': False,\n",
       " 'aedt_q3d_wire_bonds': False,\n",
       " 'aedt_hfss_wire_bonds': False,\n",
       " 'hfss_inductance': '10nH',\n",
       " 'hfss_capacitance': 0,\n",
       " 'hfss_resistance': 0,\n",
       " 'hfss_mesh_kw_jj': 7e-06,\n",
       " 'q3d_inductance': '10nH',\n",
       " 'q3d_capacitance': 0,\n",
       " 'q3d_resistance': 0,\n",
       " 'q3d_mesh_kw_jj': 7e-06,\n",
       " 'gds_cell_name': 'my_other_junction',\n",
       " 'aedt_q3d_inductance': 1e-08,\n",
       " 'aedt_q3d_capacitance': 0,\n",
       " 'aedt_hfss_inductance': 1e-08,\n",
       " 'aedt_hfss_capacitance': 0}"
      ]
     },
     "execution_count": 4,
     "metadata": {},
     "output_type": "execute_result"
    }
   ],
   "source": [
    "from qiskit_metal.qlibrary.qubits.transmon_pocket_6 import TransmonPocket6\n",
    "from qiskit_metal.qlibrary.qubits.transmon_cross_fl import TransmonCrossFL\n",
    "\n",
    "from qiskit_metal.qlibrary.couplers.tunable_coupler_01 import TunableCoupler01\n",
    "\n",
    "from qiskit_metal.qlibrary.tlines.meandered import RouteMeander\n",
    "from qiskit_metal.qlibrary.tlines.pathfinder import RoutePathfinder\n",
    "from qiskit_metal.qlibrary.tlines.anchored_path import RouteAnchors\n",
    "\n",
    "from qiskit_metal.qlibrary.lumped.cap_n_interdigital import CapNInterdigital\n",
    "from qiskit_metal.qlibrary.couplers.cap_n_interdigital_tee import CapNInterdigitalTee\n",
    "from qiskit_metal.qlibrary.couplers.coupled_line_tee import CoupledLineTee\n",
    "\n",
    "from qiskit_metal.qlibrary.terminations.launchpad_wb import LaunchpadWirebond\n",
    "from qiskit_metal.qlibrary.terminations.launchpad_wb_coupled import LaunchpadWirebondCoupled\n",
    "from qiskit_metal.qlibrary.qubits.transmon_cross import TransmonCross\n",
    "from qiskit_metal.qlibrary.tlines.anchored_path import RouteAnchors \n",
    "\n",
    "\n",
    "import numpy as np \n",
    "\n",
    "from collections import OrderedDict \n",
    "\n",
    "TransmonCross.get_template_options(design)\n",
    "TransmonCrossFL.get_template_options(design)"
   ]
  },
  {
   "cell_type": "code",
   "execution_count": 5,
   "id": "4c399195",
   "metadata": {
    "ExecuteTime": {
     "end_time": "2023-08-15T05:24:00.435146Z",
     "start_time": "2023-08-15T05:24:00.364171Z"
    }
   },
   "outputs": [],
   "source": [
    "from qiskit_metal.qlibrary.qubits.transmon_cross_fl_cl import TransmonCrossFL_CL"
   ]
  },
  {
   "cell_type": "code",
   "execution_count": 6,
   "id": "00b2cdce",
   "metadata": {
    "ExecuteTime": {
     "end_time": "2023-08-15T05:24:01.124709Z",
     "start_time": "2023-08-15T05:24:01.058938Z"
    }
   },
   "outputs": [],
   "source": [
    "design.chips.main.size.size_x = '5mm'\n",
    "design.chips.main.size.size_y = '5mm'\n",
    "design.chips.main.size.size_z = '725um'"
   ]
  },
  {
   "cell_type": "code",
   "execution_count": 7,
   "id": "be4d62e4",
   "metadata": {
    "ExecuteTime": {
     "end_time": "2023-08-15T05:24:01.737899Z",
     "start_time": "2023-08-15T05:24:01.668999Z"
    }
   },
   "outputs": [],
   "source": [
    "TransmonPocket6.get_template_options(design)\n",
    "design.overwrite_enabled = True"
   ]
  },
  {
   "cell_type": "code",
   "execution_count": 31,
   "id": "3a6c33e6",
   "metadata": {
    "ExecuteTime": {
     "end_time": "2023-08-15T06:02:19.148975Z",
     "start_time": "2023-08-15T06:02:18.832681Z"
    }
   },
   "outputs": [],
   "source": [
    "design.overwrite_enabled = True\n",
    "options =  dict(\n",
    "    connection_pads=dict(\n",
    "        readout = dict(loc_W=+1, loc_H=+1),\n",
    "        storage = dict(loc_W=-1, loc_H=-1, )\n",
    "    ))\n",
    "    \n",
    "from qiskit_metal.qlibrary.qubits.transmon_cross_fl import TransmonCrossFL\n",
    "from qiskit_metal.qlibrary.qubits.transmon_cross_fl_cl import TransmonCrossFL_CL\n",
    "from qiskit_metal.qlibrary.qubits.transmon_pocket_cl import TransmonPocketCL\n",
    "from qiskit_metal.qlibrary.qubits.transmon_pocket_cl_fl import TransmonPocketCL_FL\n",
    "\n",
    "\n",
    "from qiskit_metal.qlibrary.qubits.transmon_cross_ebru_temp import TransmonCross_ebru_temp\n",
    "\n",
    "from qiskit_metal.qlibrary.qubits.transmon_cross_fl_ebru_temp import TransmonCrossFL_ebru_temp\n",
    "from qiskit_metal.qlibrary.qubits.transmon_cross_fl_cl_ebru_temp import TransmonCrossFL_CL_ebru_temp\n",
    "\n",
    "\n",
    "\n",
    "\n",
    "Q1 = TransmonPocketCL_FL(design, 'Q1', options = dict( pos_x = '0.60mm', pos_y='1.410mm', orientation='90',\n",
    "                                                            connection_pads=dict(\n",
    "                                    a = dict(pad_gap='20um', loc_W=-1, loc_H=-1, pad_width='50um', cpw_extend = '50um'),\n",
    "                                    \n",
    "                                    #b = dict(loc_W=-1, loc_H=-1, pad_width='125um', cpw_extend = '50um', pad_height='60um'),\n",
    "                                    #c = dict(loc_W=+1, loc_H=+1, pad_width='110um', cpw_extend = '50um')\n",
    "    ),\n",
    "    pad_width='150um', pad_height='150um', pad_gap='140um', inductor_width='10um',\n",
    "    pocket_width='280um', pocket_height='560um', \n",
    "    cl_pocket_edge = '270',\n",
    "    cl_off_center = '120um',\n",
    "    cl_gap='3um', cl_width='5um',\n",
    "    cl_length='0um', \n",
    "                                                      fl_options = dict(t_shift='0um', t_offset='130um'),\n",
    "                                                      \n",
    "                                                      \n",
    "                                                 ))\n",
    "\n",
    "\n",
    "Q2 = TransmonCrossFL_CL_ebru_temp(design, 'Q2', options = dict(make_extra_rect=False, make_fl=False, pos_x = '0.2mm', pos_y='1.410mm', orientation=0, \n",
    "                                                     cross_length='128um', cross_width='36um', cross_gap='30um',\n",
    "                                                    \n",
    "                                                 connection_pads = dict(\n",
    "                                                     readout = dict(connector_location = '90', lead_gap='6um',\n",
    "                                                     claw_length='90um', claw_width='10um', ground_spacing='3um', \n",
    "                                                                    claw_gap='8um', lead_width='10um', lead_length='60um')),#claw_length ='115um', claw_width='25um', claw_gap='7um',ground_spacing='3um')),\n",
    "                                                 fl_options = dict(t_shift='-100um' , t_offset='0um', t_inductive_gap='4.5um', \n",
    "                                                                   t_top='10.5um', t_width='5um', t_gap='3um'),\n",
    "                                                 cl_options= dict(c_offset='30um', c_ground_gap='38um', c_width='5um', \n",
    "                                                                  c_gap='3um', translate_x='-20um', translate_y='-50um',  c_angle='270'),\n",
    "                                                 rect_options= dict(rect_width='40um', rect_length='8um')))\n",
    "\n",
    "\n",
    "gui.rebuild()\n",
    "gui.autoscale()"
   ]
  },
  {
   "cell_type": "code",
   "execution_count": null,
   "id": "0d801663",
   "metadata": {},
   "outputs": [],
   "source": []
  },
  {
   "cell_type": "code",
   "execution_count": null,
   "id": "117489f5",
   "metadata": {},
   "outputs": [],
   "source": [
    "q1_read_T = CoupledLineTee(design,'Q1_Read_T', options=dict(pos_x = '-0.65mm', pos_y = '%smm'%(pos_list[0]+0.05), \n",
    "                                                        orientation = '270', \n",
    "                                                        coupling_length = '200um',\n",
    "                                                        coupling_space = '7um',\n",
    "                                                        down_length ='70um',\n",
    "                                                        fillet = \"50um\",\n",
    "                                                        mirror = True,\n",
    "                                                        open_termination = False))\n",
    "\n",
    "q2_read_T = CoupledLineTee(design,'Q2_Read_T', options=dict(pos_x = '-0.65mm', pos_y = '%smm'%(pos_list[1]+0.05), \n",
    "                                                        orientation = '270', \n",
    "                                                        coupling_length = '200um',\n",
    "                                                        coupling_space = '7um',\n",
    "                                                        down_length ='70um',\n",
    "                                                        fillet = \"50um\",\n",
    "                                                        mirror = True,\n",
    "                                                        open_termination = False))\n",
    "\n",
    "q3_read_T = CoupledLineTee(design,'Q3_Read_T', options=dict(pos_x = '-0.65mm', pos_y = '%smm'%(pos_list[2]+0.05), \n",
    "                                                        orientation = '270', \n",
    "                                                        coupling_length = '200um',\n",
    "                                                        coupling_space = '7um',\n",
    "                                                        down_length ='70um',\n",
    "                                                        fillet = \"50um\",\n",
    "                                                        mirror = True,\n",
    "                                                        open_termination = False))\n",
    "\n",
    "q4_read_T = CoupledLineTee(design,'Q4_Read_T', options=dict(pos_x = '-0.38mm', pos_y = '%smm'%(pos_list1[0]+0.045), \n",
    "                                                        orientation = '90', \n",
    "                                                        coupling_length = '235um',\n",
    "                                                        coupling_space = '5um',\n",
    "                                                        down_length ='70um',\n",
    "                                                        fillet = \"50um\",\n",
    "                                                        mirror = False,\n",
    "                                                        open_termination = False))\n",
    "\n",
    "q5_read_T = CoupledLineTee(design,'Q5_Read_T', options=dict(pos_x = '-0.38mm', pos_y = '%smm'%(pos_list1[1]+0.045),  \n",
    "                                                        orientation = '90', \n",
    "                                                        coupling_length = '250um',\n",
    "                                                        coupling_space = '4um',\n",
    "                                                        down_length ='70um',\n",
    "                                                        fillet = \"50um\",\n",
    "                                                        mirror = False,\n",
    "                                                        open_termination = False))\n",
    "\n",
    "q6_read_T = CoupledLineTee(design,'Q6_Read_T', options=dict(pos_x = '-0.38mm', pos_y = '%smm'%(pos_list1[2]+0.045), \n",
    "                                                        orientation = '90', \n",
    "                                                        coupling_length = '235um',\n",
    "                                                        coupling_space = '4um',\n",
    "                                                        down_length ='70um',\n",
    "                                                        fillet = \"50um\",\n",
    "                                                        mirror = False,\n",
    "                                                        open_termination = False))\n",
    "\n",
    "\n",
    "#We use finger count to set the width of the gap capacitance, -> N*cap_width + (N-1)*cap_gap\n",
    "\n",
    "gui.rebuild()\n",
    "gui.autoscale()"
   ]
  },
  {
   "cell_type": "code",
   "execution_count": null,
   "id": "178d1966",
   "metadata": {},
   "outputs": [],
   "source": [
    "launch_nw = LaunchpadWirebond(design, 'Launch_NW',options = dict( pos_x=' -1.1250mm', pos_y = '%smm'%(pos_list[1]-1.954), pad_width='160um', pad_gap_x= '96um', pad_gap_y= '100um', pad_height='200um', taper_height='150um',orientation=90))\n",
    "launch_ne = LaunchpadWirebond(design, 'Launch_NE',options = dict( pos_x=' -1.1250mm', pos_y = '%smm'%(pos_list[1]+1.954),pad_width='160um', pad_gap_x= '96um', pad_gap_y= '100um', pad_height='200um', taper_height='150um',orientation=270))\n",
    "\n",
    "launch_nw2 = LaunchpadWirebond(design, 'Launch_NW2',options = dict(pos_x='-0.38mm',pos_y = '%smm'%(pos_list[1]-1.954),  pad_width='160um', pad_gap_x= '96um', pad_gap_y= '100um', pad_height='200um', taper_height='150um',orientation=90))\n",
    "launch_ne2 = LaunchpadWirebond(design, 'Launch_NE2',options = dict(pos_x='-0.38mm',pos_y = '%smm'%(pos_list[1]+1.954), pad_width='160um', pad_gap_x= '96um', pad_gap_y= '100um', pad_height='200um', taper_height='150um',orientation=270))\n",
    "\n",
    "\n",
    "gui.rebuild()"
   ]
  },
  {
   "cell_type": "code",
   "execution_count": null,
   "id": "6565d00c",
   "metadata": {},
   "outputs": [],
   "source": [
    "read_q1 = RouteMeander(design,'Read_Q1', options = dict(hfss_wire_bonds = True, \n",
    "                                            pin_inputs=Dict(\n",
    "                                                start_pin=Dict(\n",
    "                                                    component='Q1',\n",
    "                                                    pin='readout1'),\n",
    "                                                end_pin=Dict(\n",
    "                                                    component='Q1_Read_T',\n",
    "                                                    pin='second_end')\n",
    "                                            ),\n",
    "                                            lead=Dict(\n",
    "                                                start_straight='50um',\n",
    "                                                end_straight = '70um',\n",
    "                                                #start_jogged_extension = jogs_start,\n",
    "                                                #end_jogged_extension = jogs_end\n",
    "                                            ),\n",
    "                                            meander=Dict(spacing = \"100um\",\n",
    "                                                asymmetry = '0um'),\n",
    "                                            fillet = \"49um\",\n",
    "                                            spacing = \"160um\",   \n",
    "                                            total_length = '3mm'))\n",
    "\n",
    "read_q2 = RouteMeander(design,'Read_Q2', options = dict(hfss_wire_bonds = True, \n",
    "                                            pin_inputs=Dict(\n",
    "                                                start_pin=Dict(\n",
    "                                                    component='Q2',\n",
    "                                                    pin='readout2'),\n",
    "                                                end_pin=Dict(\n",
    "                                                    component='Q2_Read_T',\n",
    "                                                    pin='second_end')\n",
    "                                            ),\n",
    "                                            lead=Dict(\n",
    "                                                start_straight='50um',\n",
    "                                                end_straight = '70um',\n",
    "                                                #start_jogged_extension = jogs_start,\n",
    "                                                #end_jogged_extension = jogs_end\n",
    "                                            ),\n",
    "                                            meander=Dict(spacing = \"100um\",\n",
    "                                                asymmetry = '0um'),\n",
    "                                            fillet = \"49um\",\n",
    "                                            spacing = \"160um\",   \n",
    "                                            total_length = '3.1mm'))\n",
    "\n",
    "read_q3 = RouteMeander(design,'Read_Q3', options = dict(hfss_wire_bonds = True, \n",
    "                                            pin_inputs=Dict(\n",
    "                                                start_pin=Dict(\n",
    "                                                    component='Q3',\n",
    "                                                    pin='readout3'),\n",
    "                                                end_pin=Dict(\n",
    "                                                    component='Q3_Read_T',\n",
    "                                                    pin='second_end')\n",
    "                                            ),\n",
    "                                            lead=Dict(\n",
    "                                                start_straight='50um',\n",
    "                                                end_straight = '70um',\n",
    "                                                #start_jogged_extension = jogs_start,\n",
    "                                                #end_jogged_extension = jogs_end\n",
    "                                            ),\n",
    "                                            meander=Dict(spacing = \"100um\",\n",
    "                                                asymmetry = '0um'),\n",
    "                                            fillet = \"49um\",\n",
    "                                            spacing = \"160um\",   \n",
    "                                            total_length = '3.2mm'))\n",
    "\n",
    "read_q4 = RouteMeander(design,'Read_Q4', options = dict(hfss_wire_bonds = True, \n",
    "                                            pin_inputs=Dict(\n",
    "                                                start_pin=Dict(\n",
    "                                                    component='Q4',\n",
    "                                                    pin='readout4'),\n",
    "                                                end_pin=Dict(\n",
    "                                                    component='Q4_Read_T',\n",
    "                                                    pin='second_end')\n",
    "                                            ),\n",
    "                                            lead=Dict(\n",
    "                                                start_straight='110um',\n",
    "                                                end_straight = '90um',\n",
    "                                                #start_jogged_extension = jogs_start,\n",
    "                                                #end_jogged_extension = jogs_end\n",
    "                                            ),\n",
    "                                            meander=Dict(spacing = \"110um\",\n",
    "                                                asymmetry = '0um'),\n",
    "                                            fillet = \"40um\",\n",
    "                                            spacing = \"160um\",   \n",
    "                                            total_length = '2.9mm'))\n",
    "\n",
    "read_q5 = RouteMeander(design,'Read_Q5', options = dict(hfss_wire_bonds = True, \n",
    "                                            pin_inputs=Dict(\n",
    "                                                start_pin=Dict(\n",
    "                                                    component='Q5',\n",
    "                                                    pin='readout5'),\n",
    "                                                end_pin=Dict(\n",
    "                                                    component='Q5_Read_T',\n",
    "                                                    pin='second_end')\n",
    "                                            ),\n",
    "                                            lead=Dict(\n",
    "                                                start_straight='110um',\n",
    "                                                end_straight = '90um',\n",
    "                                                #start_jogged_extension = jogs_start,\n",
    "                                                #end_jogged_extension = jogs_end\n",
    "                                            ),\n",
    "                                            meander=Dict(spacing = \"110um\",\n",
    "                                                asymmetry = '0um'),\n",
    "                                            fillet = \"49um\",\n",
    "                                            spacing = \"160um\",   \n",
    "                                            total_length = '3mm'))\n",
    "\n",
    "read_q6 = RouteMeander(design,'Read_Q6', options = dict(hfss_wire_bonds = True, \n",
    "                                            pin_inputs=Dict(\n",
    "                                                start_pin=Dict(\n",
    "                                                    component='Q6',\n",
    "                                                    pin='readout6'),\n",
    "                                                end_pin=Dict(\n",
    "                                                    component='Q6_Read_T',\n",
    "                                                    pin='second_end')\n",
    "                                            ),\n",
    "                                            lead=Dict(\n",
    "                                                start_straight='110um',\n",
    "                                                end_straight = '90um',\n",
    "                                                #start_jogged_extension = jogs_start,\n",
    "                                                #end_jogged_extension = jogs_end\n",
    "                                            ),\n",
    "                                            meander=Dict(spacing = \"110um\",\n",
    "                                                asymmetry = '0um'),\n",
    "                                            fillet = \"49um\",\n",
    "                                            spacing = \"160um\",   \n",
    "                                            total_length = '3.1mm'))\n",
    "\n",
    "gui.rebuild()"
   ]
  },
  {
   "cell_type": "code",
   "execution_count": null,
   "id": "4af8fdd1",
   "metadata": {},
   "outputs": [],
   "source": [
    "mp_tl_01 = RoutePathfinder(design, 'ML_TL_01', options = dict(hfss_wire_bonds = True,\n",
    "                                                    pin_inputs = dict(\n",
    "                                                    start_pin=Dict(\n",
    "                                                        component='Launch_NW',\n",
    "                                                        pin='tie'),\n",
    "                                                    end_pin=Dict(\n",
    "                                                        component='Q1_Read_T',\n",
    "                                                        pin='prime_end')),\n",
    "                                                    fillet = '99um',\n",
    "                                                 lead=Dict(\n",
    "                                                start_straight='500um',\n",
    "                                                end_straight = '300um',\n",
    "                                                #start_jogged_extension = jogs_start,\n",
    "                                                #end_jogged_extension = jogs_end\n",
    "                                                  ),\n",
    "                                            ))\n",
    "\n",
    "\n",
    "mp_tl_02 = RoutePathfinder(design, 'ML_TL_02', options = dict(hfss_wire_bonds = True,\n",
    "                                                    pin_inputs = dict(\n",
    "                                                    start_pin=Dict(\n",
    "                                                        component='Q1_Read_T',\n",
    "                                                        pin='prime_start'),\n",
    "                                                    end_pin=Dict(\n",
    "                                                        component='Q2_Read_T',\n",
    "                                                        pin='prime_end'))\n",
    "                                            ))\n",
    "\n",
    "\n",
    "\n",
    "\n",
    "mp_tl_03 = RoutePathfinder(design, 'ML_TL_03', options = dict(hfss_wire_bonds = True,\n",
    "                                                    pin_inputs = dict(\n",
    "                                                    start_pin=Dict(\n",
    "                                                        component='Q2_Read_T',\n",
    "                                                        pin='prime_start'),\n",
    "                                                    end_pin=Dict(\n",
    "                                                        component='Q3_Read_T',\n",
    "                                                        pin='prime_end'))\n",
    "                                            ))\n",
    "\n",
    "mp_tl_04 = RoutePathfinder(design, 'ML_TL_04', options = dict(hfss_wire_bonds = True,\n",
    "                                                    pin_inputs = dict(\n",
    "                                                    start_pin=Dict(\n",
    "                                                        component='Q3_Read_T',\n",
    "                                                        pin='prime_start'),\n",
    "                                                    end_pin=Dict(\n",
    "                                                        component='Launch_NE',\n",
    "                                                        pin='tie')),\n",
    "                                                    fillet = '99um',\n",
    "                                                    lead=Dict(\n",
    "                                                    start_straight='500um',\n",
    "                                                     end_straight = '100um',\n",
    "                                                #start_jogged_extension = jogs_start,\n",
    "                                                #end_jogged_extension = jogs_end\n",
    "                                                  ),\n",
    "                                            ))\n",
    "\n",
    "\n",
    "gui.rebuild()\n",
    "\n",
    "gui.autoscale()"
   ]
  },
  {
   "cell_type": "code",
   "execution_count": null,
   "id": "e88bc7e0",
   "metadata": {
    "scrolled": true
   },
   "outputs": [],
   "source": [
    "mp_tl_05 = RoutePathfinder(design, 'ML_TL_05', options = dict(hfss_wire_bonds = True,\n",
    "                                                    pin_inputs = dict(\n",
    "                                                    start_pin=Dict(\n",
    "                                                        component='Launch_NW2',\n",
    "                                                        pin='tie'),\n",
    "                                                    end_pin=Dict(\n",
    "                                                        component='Q4_Read_T',\n",
    "                                                        pin='prime_start')),\n",
    "                                                    fillet = '99um',\n",
    "                                                 lead=Dict(\n",
    "                                                start_straight='500um',\n",
    "                                                end_straight = '300um',\n",
    "                                                #start_jogged_extension = jogs_start,\n",
    "                                                #end_jogged_extension = jogs_end\n",
    "                                                  ),\n",
    "                                            ))\n",
    "\n",
    "\n",
    "mp_tl_06 = RoutePathfinder(design, 'ML_TL_06', options = dict(hfss_wire_bonds = True,\n",
    "                                                    pin_inputs = dict(\n",
    "                                                    start_pin=Dict(\n",
    "                                                        component='Q4_Read_T',\n",
    "                                                        pin='prime_end'),\n",
    "                                                    end_pin=Dict(\n",
    "                                                        component='Q5_Read_T',\n",
    "                                                        pin='prime_start'))\n",
    "                                            ))\n",
    "\n",
    "\n",
    "\n",
    "\n",
    "mp_tl_07 = RoutePathfinder(design, 'ML_TL_07', options = dict(hfss_wire_bonds = True,\n",
    "                                                    pin_inputs = dict(\n",
    "                                                    start_pin=Dict(\n",
    "                                                        component='Q5_Read_T',\n",
    "                                                        pin='prime_end'),\n",
    "                                                    end_pin=Dict(\n",
    "                                                        component='Q6_Read_T',\n",
    "                                                        pin='prime_start'))\n",
    "                                            ))\n",
    "\n",
    "mp_tl_08 = RoutePathfinder(design, 'ML_TL_08', options = dict(hfss_wire_bonds = True,\n",
    "                                                    pin_inputs = dict(\n",
    "                                                    start_pin=Dict(\n",
    "                                                        component='Q6_Read_T',\n",
    "                                                        pin='prime_end'),\n",
    "                                                    end_pin=Dict(\n",
    "                                                        component='Launch_NE2',\n",
    "                                                        pin='tie')),\n",
    "                                                    fillet = '60um',\n",
    "                                                    lead=Dict(\n",
    "                                                    start_straight='100um',\n",
    "                                                     end_straight = '500um',\n",
    "                                                #start_jogged_extension = jogs_start,\n",
    "                                                #end_jogged_extension = jogs_end\n",
    "                                                  ),\n",
    "                                            ))\n",
    "\n",
    "\n",
    "gui.rebuild()\n",
    "\n",
    "gui.autoscale()"
   ]
  },
  {
   "cell_type": "code",
   "execution_count": null,
   "id": "2da3f981",
   "metadata": {},
   "outputs": [],
   "source": [
    "launch_flux_options4 = dict(trace_width= '5um',trace_gap= '3um', pos_x='1.954mm',pos_y='-1.8mm',pad_width='160um', pad_gap_x= '96um', pad_gap_y= '100um', pad_height='200um', taper_height='150um',  orientation='180', lead_length='30um')\n",
    "launch_flux_options5 = dict(trace_width= '5um',trace_gap= '3um', pos_x='1.954mm',pos_y='0.6mm',pad_width='160um', pad_gap_x= '96um', pad_gap_y= '100um', pad_height='200um', taper_height='150um',  orientation='180', lead_length='30um')\n",
    "launch_flux_options6 = dict(trace_width= '5um',trace_gap= '3um', pos_x='1.954mm',pos_y='1.8mm',pad_width='160um', pad_gap_x= '96um', pad_gap_y= '100um', pad_height='200um', taper_height='150um',  orientation='180', lead_length='30um')\n",
    "lf4 = LaunchpadWirebond(design, 'Launch_Flux4', options = launch_flux_options4)\n",
    "lf5 = LaunchpadWirebond(design, 'Launch_Flux5', options = launch_flux_options5)\n",
    "lf6 = LaunchpadWirebond(design, 'Launch_Flux6', options = launch_flux_options6)"
   ]
  },
  {
   "cell_type": "code",
   "execution_count": null,
   "id": "91ae063e",
   "metadata": {},
   "outputs": [],
   "source": [
    "flux_line_Q5 = RoutePathfinder(design,'Flux_Line_5', options = dict(hfss_wire_bonds = True,\n",
    "                                            pin_inputs=Dict(\n",
    "                                                start_pin=Dict(\n",
    "                                                    component='Q5',\n",
    "                                                    pin='flux_line'),\n",
    "                                                end_pin=Dict(\n",
    "                                                    component='Launch_Flux5',\n",
    "                                                    pin='tie')),\n",
    "                                            lead=Dict(\n",
    "                                                start_straight='175um',\n",
    "                                                end_straight = '150um',\n",
    "                                                #end_jogged_extension = jogs_end\n",
    "                                            ),\n",
    "                                            fillet = '99um',\n",
    "                                            trace_width = '5um',\n",
    "                                            trace_gap = '3um',\n",
    "                                            #anchors = anchors\n",
    "                                            ))\n",
    "\n",
    "\n",
    "gui.rebuild()\n",
    "gui.autoscale()"
   ]
  },
  {
   "cell_type": "code",
   "execution_count": null,
   "id": "7749c1d0",
   "metadata": {},
   "outputs": [],
   "source": [
    "\n",
    "\n",
    "flux_line_Q4 = RoutePathfinder(design,'Flux_Line_4', options = dict(hfss_wire_bonds = True,\n",
    "                                            pin_inputs=Dict(\n",
    "                                                start_pin=Dict(\n",
    "                                                    component='Q4',\n",
    "                                                    pin='flux_line'),\n",
    "                                                end_pin=Dict(\n",
    "                                                    component='Launch_Flux4',\n",
    "                                                    pin='tie')),\n",
    "                                            lead=Dict(\n",
    "                                                start_straight='175um',\n",
    "                                                end_straight = '150um',\n",
    "                                                #end_jogged_extension = jogs_end\n",
    "                                            ),\n",
    "                                            fillet = '99um',\n",
    "                                            trace_width = '5um',\n",
    "                                            trace_gap = '3um',\n",
    "                                            #anchors = anchors\n",
    "                                            ))\n",
    "\n",
    "\n",
    "\n",
    "flux_line_Q6 = RoutePathfinder(design,'Flux_Line_6', options = dict(hfss_wire_bonds = True,\n",
    "                                            pin_inputs=Dict(\n",
    "                                                start_pin=Dict(\n",
    "                                                    component='Q6',\n",
    "                                                    pin='flux_line'),\n",
    "                                                end_pin=Dict(\n",
    "                                                    component='Launch_Flux6',\n",
    "                                                    pin='tie')),\n",
    "                                            lead=Dict(\n",
    "                                                start_straight='175um',\n",
    "                                                end_straight = '150um',\n",
    "                                                #end_jogged_extension = jogs_end\n",
    "                                            ),\n",
    "                                            fillet = '99um',\n",
    "                                            trace_width = '5um',\n",
    "                                            trace_gap = '3um',\n",
    "                                            #anchors = anchors\n",
    "                                            ))\n",
    "\n",
    "\n",
    "\n",
    "gui.rebuild()\n",
    "gui.autoscale()\n"
   ]
  },
  {
   "cell_type": "code",
   "execution_count": null,
   "id": "289a2d01",
   "metadata": {},
   "outputs": [],
   "source": [
    "launch_charge_options4 = dict(trace_width= '5um',trace_gap= '3um', pos_x='0.375mm',pos_y='%smm'%(pos_list[1]-1.954),pad_width='160um', pad_gap_x= '96um', pad_gap_y= '100um', pad_height='200um', taper_height='150um',  orientation='90', lead_length='30um')\n",
    "launch_charge_options5 = dict(trace_width= '5um',trace_gap= '3um', pos_x='1.954mm', pos_y='-0.6mm',pad_width='160um', pad_gap_x= '96um', pad_gap_y= '100um', pad_height='200um', taper_height='150um', orientation='180', lead_length='30um')\n",
    "launch_charge_options6 = dict(trace_width= '5um',trace_gap= '3um', pos_x='0.375mm',pos_y='%smm'%(pos_list[1]+1.954), pad_width='160um', pad_gap_x= '96um', pad_gap_y= '100um', pad_height='200um', taper_height='150um',orientation='270', lead_length='30um')\n",
    "\n",
    "# launch_nw2 = LaunchpadWirebond(design, 'Launch_NW2',options = dict(pos_x = '%smm'%(pos_list[1]-1.954), pos_y='0.19mm', orientation=0))\n",
    "# launch_ne2 = LaunchpadWirebond(design, 'Launch_NE2',options = dict(pos_x = '%smm'%(pos_list[1]+1.954), pos_y='0.19mm', orientation=180))\n",
    "\n",
    "\n",
    "lc4 = LaunchpadWirebond(design, 'Launch_Charge4', options = launch_charge_options4)\n",
    "lc5 = LaunchpadWirebond(design, 'Launch_Charge5', options = launch_charge_options5)\n",
    "lc6 = LaunchpadWirebond(design, 'Launch_Charge6', options = launch_charge_options6)\n",
    "\n",
    "\n",
    "gui.rebuild()\n",
    "gui.autoscale()\n"
   ]
  },
  {
   "cell_type": "code",
   "execution_count": null,
   "id": "5e356cb3",
   "metadata": {},
   "outputs": [],
   "source": [
    "\n",
    "charge_line_Q4 = RoutePathfinder(design,'Charge_Line_4', options = dict(hfss_wire_bonds = True,\n",
    "                                            pin_inputs=Dict(\n",
    "                                                start_pin=Dict(\n",
    "                                                    component='Q4',\n",
    "                                                    pin='charge_line'),\n",
    "                                                end_pin=Dict(\n",
    "                                                    component='Launch_Charge4',\n",
    "                                                    pin='tie')),\n",
    "                                            lead=Dict(\n",
    "                                                start_straight='175um',\n",
    "                                                end_straight = '150um',\n",
    "                                                #end_jogged_extension = jogs_end\n",
    "                                            ),\n",
    "                                            fillet = '99um',\n",
    "                                            trace_width = '5um',\n",
    "                                            trace_gap = '3um',\n",
    "                                            #anchors = anchors\n",
    "                                            ))\n",
    "\n",
    "charge_line_Q5 = RoutePathfinder(design,'Charge_Line_5', options = dict(hfss_wire_bonds = True,\n",
    "                                            pin_inputs=Dict(\n",
    "                                                start_pin=Dict(\n",
    "                                                    component='Q5',\n",
    "                                                    pin='charge_line'),\n",
    "                                                end_pin=Dict(\n",
    "                                                    component='Launch_Charge5',\n",
    "                                                    pin='tie')),\n",
    "                                            lead=Dict(\n",
    "                                                start_straight='175um',\n",
    "                                                end_straight = '150um',\n",
    "                                                #end_jogged_extension = jogs_end\n",
    "                                            ),\n",
    "                                            fillet = '50um',\n",
    "                                            trace_width = '5um',\n",
    "                                            trace_gap = '3um',\n",
    "                                            #anchors = anchors\n",
    "                                            ))\n",
    "\n",
    "charge_line_Q6 = RoutePathfinder(design,'Charge_Line_6', options = dict(hfss_wire_bonds = True,\n",
    "                                            pin_inputs=Dict(\n",
    "                                                start_pin=Dict(\n",
    "                                                    component='Q6',\n",
    "                                                    pin='charge_line'),\n",
    "                                                end_pin=Dict(\n",
    "                                                    component='Launch_Charge6',\n",
    "                                                    pin='tie')),\n",
    "                                            lead=Dict(\n",
    "                                                start_straight='175um',\n",
    "                                                end_straight = '150um',\n",
    "                                                #end_jogged_extension = jogs_end\n",
    "                                            ),\n",
    "                                            fillet = '99um',\n",
    "                                            trace_width = '5um',\n",
    "                                            trace_gap = '3um',\n",
    "                                            #anchors = anchors\n",
    "                                            ))\n",
    "\n",
    "\n",
    "\n",
    "\n",
    "gui.rebuild()\n",
    "gui.autoscale()"
   ]
  },
  {
   "cell_type": "code",
   "execution_count": null,
   "id": "41cb1a28",
   "metadata": {},
   "outputs": [],
   "source": []
  },
  {
   "cell_type": "code",
   "execution_count": 32,
   "id": "6bfa608e",
   "metadata": {
    "ExecuteTime": {
     "end_time": "2023-08-15T06:02:50.677770Z",
     "start_time": "2023-08-15T06:02:50.567521Z"
    },
    "scrolled": true
   },
   "outputs": [
    {
     "data": {
      "text/html": [
       "<div>\n",
       "<style scoped>\n",
       "    .dataframe tbody tr th:only-of-type {\n",
       "        vertical-align: middle;\n",
       "    }\n",
       "\n",
       "    .dataframe tbody tr th {\n",
       "        vertical-align: top;\n",
       "    }\n",
       "\n",
       "    .dataframe thead th {\n",
       "        text-align: right;\n",
       "    }\n",
       "</style>\n",
       "<table border=\"1\" class=\"dataframe\">\n",
       "  <thead>\n",
       "    <tr style=\"text-align: right;\">\n",
       "      <th></th>\n",
       "      <th>component</th>\n",
       "      <th>name</th>\n",
       "      <th>geometry</th>\n",
       "      <th>layer</th>\n",
       "      <th>subtract</th>\n",
       "      <th>helper</th>\n",
       "      <th>chip</th>\n",
       "      <th>width</th>\n",
       "      <th>hfss_inductance</th>\n",
       "      <th>hfss_capacitance</th>\n",
       "      <th>...</th>\n",
       "      <th>hfss_mesh_kw_jj</th>\n",
       "      <th>q3d_inductance</th>\n",
       "      <th>q3d_capacitance</th>\n",
       "      <th>q3d_resistance</th>\n",
       "      <th>q3d_mesh_kw_jj</th>\n",
       "      <th>gds_cell_name</th>\n",
       "      <th>aedt_q3d_inductance</th>\n",
       "      <th>aedt_q3d_capacitance</th>\n",
       "      <th>aedt_hfss_inductance</th>\n",
       "      <th>aedt_hfss_capacitance</th>\n",
       "    </tr>\n",
       "  </thead>\n",
       "  <tbody>\n",
       "    <tr>\n",
       "      <th>0</th>\n",
       "      <td>10</td>\n",
       "      <td>rect_jj</td>\n",
       "      <td>LINESTRING (0.67000 1.41000, 0.53000 1.41000)</td>\n",
       "      <td>1</td>\n",
       "      <td>False</td>\n",
       "      <td>False</td>\n",
       "      <td>main</td>\n",
       "      <td>0.010</td>\n",
       "      <td>10nH</td>\n",
       "      <td>0</td>\n",
       "      <td>...</td>\n",
       "      <td>0.000007</td>\n",
       "      <td>10nH</td>\n",
       "      <td>0</td>\n",
       "      <td>0</td>\n",
       "      <td>0.000007</td>\n",
       "      <td>my_other_junction</td>\n",
       "      <td>1.000000e-08</td>\n",
       "      <td>0</td>\n",
       "      <td>1.000000e-08</td>\n",
       "      <td>0</td>\n",
       "    </tr>\n",
       "    <tr>\n",
       "      <th>1</th>\n",
       "      <td>11</td>\n",
       "      <td>rect_jj</td>\n",
       "      <td>LINESTRING (0.20000 1.28200, 0.20000 1.25200)</td>\n",
       "      <td>1</td>\n",
       "      <td>False</td>\n",
       "      <td>False</td>\n",
       "      <td>main</td>\n",
       "      <td>0.036</td>\n",
       "      <td>10nH</td>\n",
       "      <td>0</td>\n",
       "      <td>...</td>\n",
       "      <td>0.000007</td>\n",
       "      <td>10nH</td>\n",
       "      <td>0</td>\n",
       "      <td>0</td>\n",
       "      <td>0.000007</td>\n",
       "      <td>my_other_junction</td>\n",
       "      <td>1.000000e-08</td>\n",
       "      <td>0</td>\n",
       "      <td>1.000000e-08</td>\n",
       "      <td>0</td>\n",
       "    </tr>\n",
       "  </tbody>\n",
       "</table>\n",
       "<p>2 rows × 21 columns</p>\n",
       "</div>"
      ],
      "text/plain": [
       "  component     name                                       geometry  layer  \\\n",
       "0        10  rect_jj  LINESTRING (0.67000 1.41000, 0.53000 1.41000)      1   \n",
       "1        11  rect_jj  LINESTRING (0.20000 1.28200, 0.20000 1.25200)      1   \n",
       "\n",
       "   subtract  helper  chip  width hfss_inductance hfss_capacitance  ...  \\\n",
       "0     False   False  main  0.010            10nH                0  ...   \n",
       "1     False   False  main  0.036            10nH                0  ...   \n",
       "\n",
       "   hfss_mesh_kw_jj  q3d_inductance q3d_capacitance  q3d_resistance  \\\n",
       "0         0.000007            10nH               0               0   \n",
       "1         0.000007            10nH               0               0   \n",
       "\n",
       "   q3d_mesh_kw_jj      gds_cell_name aedt_q3d_inductance  \\\n",
       "0        0.000007  my_other_junction        1.000000e-08   \n",
       "1        0.000007  my_other_junction        1.000000e-08   \n",
       "\n",
       "   aedt_q3d_capacitance  aedt_hfss_inductance  aedt_hfss_capacitance  \n",
       "0                     0          1.000000e-08                      0  \n",
       "1                     0          1.000000e-08                      0  \n",
       "\n",
       "[2 rows x 21 columns]"
      ]
     },
     "execution_count": 32,
     "metadata": {},
     "output_type": "execute_result"
    }
   ],
   "source": [
    "design.qgeometry.tables['junction']"
   ]
  },
  {
   "cell_type": "code",
   "execution_count": 33,
   "id": "2e619f3d",
   "metadata": {
    "ExecuteTime": {
     "end_time": "2023-08-15T06:02:53.133395Z",
     "start_time": "2023-08-15T06:02:52.671366Z"
    }
   },
   "outputs": [],
   "source": [
    "qcomps = design.components  # short handle (alias)\n",
    "qcomps['Q1'].options['hfss_inductance'] = 'Lj1'\n",
    "qcomps['Q1'].options['hfss_capacitance'] = 'Cj1'\n",
    "qcomps['Q2'].options['hfss_inductance'] = 'Lj2'\n",
    "qcomps['Q2'].options['hfss_capacitance'] = 'Cj2'\n",
    "gui.rebuild()  # line needed to propagate the updates from the qubit instance into the junction design table\n",
    "gui.autoscale()"
   ]
  },
  {
   "cell_type": "code",
   "execution_count": 34,
   "id": "64c74f13",
   "metadata": {
    "ExecuteTime": {
     "end_time": "2023-08-15T06:02:55.604553Z",
     "start_time": "2023-08-15T06:02:55.511525Z"
    }
   },
   "outputs": [],
   "source": [
    "from qiskit_metal.analyses.quantization import EPRanalysis\n",
    "eig_2qb = EPRanalysis(design, \"hfss\")"
   ]
  },
  {
   "cell_type": "code",
   "execution_count": null,
   "id": "3c4a71e9",
   "metadata": {},
   "outputs": [],
   "source": []
  },
  {
   "cell_type": "code",
   "execution_count": 35,
   "id": "e29ddc3b",
   "metadata": {
    "ExecuteTime": {
     "end_time": "2023-08-15T06:02:57.677750Z",
     "start_time": "2023-08-15T06:02:57.583647Z"
    }
   },
   "outputs": [
    {
     "data": {
      "text/plain": [
       "{'name': 'Setup',\n",
       " 'reuse_selected_design': True,\n",
       " 'reuse_setup': True,\n",
       " 'min_freq_ghz': 1,\n",
       " 'n_modes': 2,\n",
       " 'max_delta_f': 0.05,\n",
       " 'max_passes': 15,\n",
       " 'min_passes': 1,\n",
       " 'min_converged': 1,\n",
       " 'pct_refinement': 30,\n",
       " 'basis_order': 1,\n",
       " 'vars': {'Lj1': '10 nH', 'Cj1': '3 fF', 'Lj2': '10 nH', 'Cj2': '3 fF'}}"
      ]
     },
     "execution_count": 35,
     "metadata": {},
     "output_type": "execute_result"
    }
   ],
   "source": [
    "eig_2qb.sim.setup.max_passes = 15\n",
    "eig_2qb.sim.setup.max_delta_f = 0.05\n",
    "eig_2qb.sim.setup.n_modes = 2\n",
    "eig_2qb.sim.setup.vars = Dict(Lj1= '10 nH', Cj1= '3 fF',\n",
    "                           Lj2= '10 nH', Cj2= '3 fF')\n",
    "eig_2qb.sim.setup"
   ]
  },
  {
   "cell_type": "code",
   "execution_count": 36,
   "id": "63f57328",
   "metadata": {
    "ExecuteTime": {
     "end_time": "2023-08-15T06:03:00.314806Z",
     "start_time": "2023-08-15T06:03:00.223530Z"
    }
   },
   "outputs": [
    {
     "data": {
      "text/plain": [
       "{'Lj': '10nH',\n",
       " 'Cj': 0,\n",
       " '_Rj': 0,\n",
       " 'max_mesh_length_jj': '7um',\n",
       " 'max_mesh_length_port': '7um',\n",
       " 'project_path': None,\n",
       " 'project_name': None,\n",
       " 'design_name': None,\n",
       " 'x_buffer_width_mm': 0.5,\n",
       " 'y_buffer_width_mm': 0.5,\n",
       " 'wb_threshold': '400um',\n",
       " 'wb_offset': '0um',\n",
       " 'wb_size': 5,\n",
       " 'plot_ansys_fields_options': {'name': 'NAME:Mag_E1',\n",
       "  'UserSpecifyName': '0',\n",
       "  'UserSpecifyFolder': '0',\n",
       "  'QuantityName': 'Mag_E',\n",
       "  'PlotFolder': 'E Field',\n",
       "  'StreamlinePlot': 'False',\n",
       "  'AdjacentSidePlot': 'False',\n",
       "  'FullModelPlot': 'False',\n",
       "  'IntrinsicVar': \"Phase='0deg'\",\n",
       "  'PlotGeomInfo_0': '1',\n",
       "  'PlotGeomInfo_1': 'Surface',\n",
       "  'PlotGeomInfo_2': 'FacesList',\n",
       "  'PlotGeomInfo_3': '1'}}"
      ]
     },
     "execution_count": 36,
     "metadata": {},
     "output_type": "execute_result"
    }
   ],
   "source": [
    "eig_2qb.sim.renderer.options['x_buffer_width_mm'] = 0.5\n",
    "eig_2qb.sim.renderer.options['y_buffer_width_mm'] = 0.5\n",
    "eig_2qb.sim.renderer.options"
   ]
  },
  {
   "cell_type": "code",
   "execution_count": null,
   "id": "30a701fc",
   "metadata": {},
   "outputs": [],
   "source": []
  },
  {
   "cell_type": "code",
   "execution_count": 37,
   "id": "26bf0c34",
   "metadata": {
    "ExecuteTime": {
     "end_time": "2023-08-15T06:05:46.339662Z",
     "start_time": "2023-08-15T06:03:03.287661Z"
    },
    "scrolled": true
   },
   "outputs": [
    {
     "name": "stderr",
     "output_type": "stream",
     "text": [
      "INFO 02:03AM [connect_design]: \tOpened active design\n",
      "\tDesign:    TwoT78954_hfss [Solution type: Eigenmode]\n",
      "INFO 02:03AM [get_setup]: \tOpened setup `Setup`  (<class 'pyEPR.ansys.HfssEMSetup'>)\n",
      "INFO 02:03AM [analyze]: Analyzing setup Setup\n",
      "02:05AM 46s INFO [get_f_convergence]: Saved convergences to C:\\Users\\WANGLAB\\Documents\\GitHub\\qiskit-metal\\tutorials\\4 Analysis\\A. Core - EM and quantization\\hfss_eig_f_convergence.csv\n"
     ]
    }
   ],
   "source": [
    "eig_2qb.sim.run(name=\"TwoT78954\",\n",
    "               components=['Q1', 'Q2',], open_terminations=[])"
   ]
  },
  {
   "cell_type": "code",
   "execution_count": null,
   "id": "b7c9dce4",
   "metadata": {},
   "outputs": [],
   "source": []
  },
  {
   "cell_type": "code",
   "execution_count": null,
   "id": "d6bef20e",
   "metadata": {},
   "outputs": [],
   "source": [
    "eig_2qb.sim.plot_convergences()"
   ]
  },
  {
   "cell_type": "code",
   "execution_count": null,
   "id": "b8006cf9",
   "metadata": {},
   "outputs": [],
   "source": [
    "eig_2qb.sim.save_screenshot()  # optional"
   ]
  },
  {
   "cell_type": "code",
   "execution_count": null,
   "id": "dd28c5b0",
   "metadata": {},
   "outputs": [],
   "source": [
    "eig_2qb.sim.plot_fields('main', eigenmode=4)\n",
    "eig_2qb.sim.save_screenshot()"
   ]
  },
  {
   "cell_type": "code",
   "execution_count": null,
   "id": "bfe3f1be",
   "metadata": {},
   "outputs": [],
   "source": [
    "hfss = eig_2qb.sim.renderer\n",
    "\n",
    "hfss.clear_fields(['Mag_E1'])\n",
    "hfss.set_mode(1, \"Setup\")\n",
    "hfss.modeler._modeler.ShowWindow()\n",
    "hfss.plot_fields('main')\n",
    "hfss.save_screenshot()"
   ]
  },
  {
   "cell_type": "code",
   "execution_count": 40,
   "id": "ac7dfb66",
   "metadata": {
    "ExecuteTime": {
     "end_time": "2023-08-15T06:05:57.450600Z",
     "start_time": "2023-08-15T06:05:57.359362Z"
    }
   },
   "outputs": [],
   "source": [
    "del eig_2qb.setup.junctions['jj']"
   ]
  },
  {
   "cell_type": "code",
   "execution_count": 41,
   "id": "b12f834b",
   "metadata": {
    "ExecuteTime": {
     "end_time": "2023-08-15T06:05:59.084429Z",
     "start_time": "2023-08-15T06:05:58.992272Z"
    }
   },
   "outputs": [
    {
     "data": {
      "text/plain": [
       "{'junctions': {'jj1': {'rect': 'JJ_rect_Lj_Q1_rect_jj',\n",
       "   'line': 'JJ_Lj_Q1_rect_jj_',\n",
       "   'Lj_variable': 'Lj1',\n",
       "   'Cj_variable': 'Cj1'},\n",
       "  'jj2': {'rect': 'JJ_rect_Lj_Q2_rect_jj',\n",
       "   'line': 'JJ_Lj_Q2_rect_jj_',\n",
       "   'Lj_variable': 'Lj2',\n",
       "   'Cj_variable': 'Cj2'}},\n",
       " 'dissipatives': {'dielectrics_bulk': ['main']},\n",
       " 'cos_trunc': 8,\n",
       " 'fock_trunc': 7,\n",
       " 'sweep_variable': 'Lj1'}"
      ]
     },
     "execution_count": 41,
     "metadata": {},
     "output_type": "execute_result"
    }
   ],
   "source": [
    "eig_2qb.setup.junctions.jj1 = Dict(rect='JJ_rect_Lj_Q1_rect_jj', line='JJ_Lj_Q1_rect_jj_',\n",
    "                  Lj_variable='Lj1', Cj_variable='Cj1')\n",
    "eig_2qb.setup.junctions.jj2 = Dict(rect='JJ_rect_Lj_Q2_rect_jj', line='JJ_Lj_Q2_rect_jj_',\n",
    "                  Lj_variable='Lj2', Cj_variable='Cj2')\n",
    "eig_2qb.setup.sweep_variable = 'Lj1'\n",
    "eig_2qb.setup"
   ]
  },
  {
   "cell_type": "code",
   "execution_count": 42,
   "id": "5769cabb",
   "metadata": {
    "ExecuteTime": {
     "end_time": "2023-08-15T06:06:01.214169Z",
     "start_time": "2023-08-15T06:06:01.079390Z"
    }
   },
   "outputs": [
    {
     "ename": "AssertionError",
     "evalue": "pyEPR ProjectInfo user error found 😷:\n                Seems like for junction `jj` you specified a design or project\n                variable for `Lj_variable` that does not exist in HFSS by the name:\n                 `Lj` ",
     "output_type": "error",
     "traceback": [
      "\u001b[1;31m---------------------------------------------------------------------------\u001b[0m",
      "\u001b[1;31mAssertionError\u001b[0m                            Traceback (most recent call last)",
      "Cell \u001b[1;32mIn[42], line 1\u001b[0m\n\u001b[1;32m----> 1\u001b[0m \u001b[43meig_2qb\u001b[49m\u001b[38;5;241;43m.\u001b[39;49m\u001b[43mrun_epr\u001b[49m\u001b[43m(\u001b[49m\u001b[43m)\u001b[49m\n",
      "File \u001b[1;32mc:\\users\\wanglab\\documents\\github\\qiskit-metal\\qiskit_metal\\analyses\\quantization\\energy_participation_ratio.py:170\u001b[0m, in \u001b[0;36mEPRanalysis.run_epr\u001b[1;34m(self, no_junctions)\u001b[0m\n\u001b[0;32m    167\u001b[0m \u001b[38;5;66;03m# wipe data from the previous run (if any)\u001b[39;00m\n\u001b[0;32m    168\u001b[0m \u001b[38;5;28mself\u001b[39m\u001b[38;5;241m.\u001b[39mclear_data()\n\u001b[1;32m--> 170\u001b[0m \u001b[38;5;28;43mself\u001b[39;49m\u001b[38;5;241;43m.\u001b[39;49m\u001b[43mget_stored_energy\u001b[49m\u001b[43m(\u001b[49m\u001b[43mno_junctions\u001b[49m\u001b[43m)\u001b[49m\n\u001b[0;32m    171\u001b[0m \u001b[38;5;28;01mif\u001b[39;00m \u001b[38;5;129;01mnot\u001b[39;00m no_junctions:\n\u001b[0;32m    172\u001b[0m     \u001b[38;5;28mself\u001b[39m\u001b[38;5;241m.\u001b[39mrun_analysis()\n",
      "File \u001b[1;32mc:\\users\\wanglab\\documents\\github\\qiskit-metal\\qiskit_metal\\analyses\\quantization\\energy_participation_ratio.py:203\u001b[0m, in \u001b[0;36mEPRanalysis.get_stored_energy\u001b[1;34m(self, no_junctions)\u001b[0m\n\u001b[0;32m    199\u001b[0m \u001b[38;5;250m\u001b[39m\u001b[38;5;124;03m\"\"\"Calculate the energy stored in the system based on the eigenmode results.\u001b[39;00m\n\u001b[0;32m    200\u001b[0m \u001b[38;5;124;03m\"\"\"\u001b[39;00m\n\u001b[0;32m    201\u001b[0m \u001b[38;5;66;03m# execute EPR and energy extraction\u001b[39;00m\n\u001b[0;32m    202\u001b[0m \u001b[38;5;28mself\u001b[39m\u001b[38;5;241m.\u001b[39menergy_elec, \u001b[38;5;28mself\u001b[39m\u001b[38;5;241m.\u001b[39menergy_elec_sub, \u001b[38;5;28mself\u001b[39m\u001b[38;5;241m.\u001b[39menergy_mag \u001b[38;5;241m=\u001b[39m \\\n\u001b[1;32m--> 203\u001b[0m     \u001b[38;5;28mself\u001b[39m\u001b[38;5;241m.\u001b[39msim\u001b[38;5;241m.\u001b[39mrenderer\u001b[38;5;241m.\u001b[39mepr_get_stored_energy(\u001b[38;5;241m*\u001b[39m\u001b[38;5;241m*\u001b[39m\u001b[38;5;28;43mself\u001b[39;49m\u001b[38;5;241;43m.\u001b[39;49m\u001b[43mepr_start\u001b[49m\u001b[43m(\u001b[49m\u001b[43mno_junctions\u001b[49m\u001b[43m)\u001b[49m)\n\u001b[0;32m    205\u001b[0m \u001b[38;5;66;03m# present a human-friendly output\u001b[39;00m\n\u001b[0;32m    206\u001b[0m \u001b[38;5;28mprint\u001b[39m(\u001b[38;5;124mf\u001b[39m\u001b[38;5;124m\"\"\"\u001b[39m\n\u001b[0;32m    207\u001b[0m \u001b[38;5;124menergy_elec_all       = \u001b[39m\u001b[38;5;132;01m{\u001b[39;00m\u001b[38;5;28mself\u001b[39m\u001b[38;5;241m.\u001b[39menergy_elec\u001b[38;5;132;01m}\u001b[39;00m\n\u001b[0;32m    208\u001b[0m \u001b[38;5;124menergy_elec_substrate = \u001b[39m\u001b[38;5;132;01m{\u001b[39;00m\u001b[38;5;28mself\u001b[39m\u001b[38;5;241m.\u001b[39menergy_elec_sub\u001b[38;5;132;01m}\u001b[39;00m\n\u001b[1;32m   (...)\u001b[0m\n\u001b[0;32m    212\u001b[0m \u001b[38;5;124menergy_mag % of energy_elec_all  = \u001b[39m\u001b[38;5;132;01m{\u001b[39;00m\u001b[38;5;28mself\u001b[39m\u001b[38;5;241m.\u001b[39menergy_mag\u001b[38;5;250m \u001b[39m\u001b[38;5;241m/\u001b[39m\u001b[38;5;250m \u001b[39m\u001b[38;5;28mself\u001b[39m\u001b[38;5;241m.\u001b[39menergy_elec\u001b[38;5;250m \u001b[39m\u001b[38;5;241m*\u001b[39m\u001b[38;5;250m \u001b[39m\u001b[38;5;241m100\u001b[39m\u001b[38;5;250m \u001b[39m\u001b[38;5;132;01m:\u001b[39;00m\u001b[38;5;124m.1f\u001b[39m\u001b[38;5;132;01m}\u001b[39;00m\u001b[38;5;124m%\u001b[39m\n\u001b[0;32m    213\u001b[0m \u001b[38;5;124m\u001b[39m\u001b[38;5;124m\"\"\"\u001b[39m)\n",
      "File \u001b[1;32mc:\\users\\wanglab\\documents\\github\\qiskit-metal\\qiskit_metal\\analyses\\quantization\\energy_participation_ratio.py:195\u001b[0m, in \u001b[0;36mEPRanalysis.epr_start\u001b[1;34m(self, no_junctions)\u001b[0m\n\u001b[0;32m    191\u001b[0m system[\u001b[38;5;124m'\u001b[39m\u001b[38;5;124mjunctions\u001b[39m\u001b[38;5;124m'\u001b[39m] \u001b[38;5;241m=\u001b[39m {} \u001b[38;5;28;01mif\u001b[39;00m no_junctions \u001b[38;5;28;01melse\u001b[39;00m {\n\u001b[0;32m    192\u001b[0m     k: \u001b[38;5;28mdict\u001b[39m(v) \u001b[38;5;28;01mfor\u001b[39;00m (k, v) \u001b[38;5;129;01min\u001b[39;00m s\u001b[38;5;241m.\u001b[39mjunctions\u001b[38;5;241m.\u001b[39mitems()\n\u001b[0;32m    193\u001b[0m }\n\u001b[0;32m    194\u001b[0m system[\u001b[38;5;124m'\u001b[39m\u001b[38;5;124mdissipatives\u001b[39m\u001b[38;5;124m'\u001b[39m] \u001b[38;5;241m=\u001b[39m \u001b[38;5;28mdict\u001b[39m(s\u001b[38;5;241m.\u001b[39mdissipatives)\n\u001b[1;32m--> 195\u001b[0m \u001b[38;5;28;43mself\u001b[39;49m\u001b[38;5;241;43m.\u001b[39;49m\u001b[43msim\u001b[49m\u001b[38;5;241;43m.\u001b[39;49m\u001b[43mrenderer\u001b[49m\u001b[38;5;241;43m.\u001b[39;49m\u001b[43mepr_start\u001b[49m\u001b[43m(\u001b[49m\u001b[38;5;241;43m*\u001b[39;49m\u001b[38;5;241;43m*\u001b[39;49m\u001b[43msystem\u001b[49m\u001b[43m)\u001b[49m\n\u001b[0;32m    196\u001b[0m \u001b[38;5;28;01mreturn\u001b[39;00m system\n",
      "File \u001b[1;32mc:\\users\\wanglab\\documents\\github\\qiskit-metal\\qiskit_metal\\renderers\\renderer_ansys\\ansys_renderer.py:1705\u001b[0m, in \u001b[0;36mQAnsysRenderer.epr_start\u001b[1;34m(self, junctions, dissipatives)\u001b[0m\n\u001b[0;32m   1703\u001b[0m         \u001b[38;5;28mself\u001b[39m\u001b[38;5;241m.\u001b[39mpinfo\u001b[38;5;241m.\u001b[39mjunctions[k] \u001b[38;5;241m=\u001b[39m v\n\u001b[0;32m   1704\u001b[0m     \u001b[38;5;66;03m# Check that valid names of variables and objects have been supplied\u001b[39;00m\n\u001b[1;32m-> 1705\u001b[0m     \u001b[38;5;28;43mself\u001b[39;49m\u001b[38;5;241;43m.\u001b[39;49m\u001b[43mpinfo\u001b[49m\u001b[38;5;241;43m.\u001b[39;49m\u001b[43mvalidate_junction_info\u001b[49m\u001b[43m(\u001b[49m\u001b[43m)\u001b[49m\n\u001b[0;32m   1706\u001b[0m \u001b[38;5;28;01mif\u001b[39;00m dissipatives:\n\u001b[0;32m   1707\u001b[0m     \u001b[38;5;28;01mfor\u001b[39;00m k, v \u001b[38;5;129;01min\u001b[39;00m dissipatives\u001b[38;5;241m.\u001b[39mitems():\n",
      "File \u001b[1;32m~\\anaconda3\\envs\\qiskit-metal\\Lib\\site-packages\\pyEPR\\project_info.py:473\u001b[0m, in \u001b[0;36mProjectInfo.validate_junction_info\u001b[1;34m(self)\u001b[0m\n\u001b[0;32m    469\u001b[0m all_object_names \u001b[38;5;241m=\u001b[39m \u001b[38;5;28mself\u001b[39m\u001b[38;5;241m.\u001b[39mget_all_object_names()\n\u001b[0;32m    471\u001b[0m \u001b[38;5;28;01mfor\u001b[39;00m jjnm, jj \u001b[38;5;129;01min\u001b[39;00m \u001b[38;5;28mself\u001b[39m\u001b[38;5;241m.\u001b[39mjunctions\u001b[38;5;241m.\u001b[39mitems():\n\u001b[1;32m--> 473\u001b[0m     \u001b[38;5;28;01massert\u001b[39;00m jj[\u001b[38;5;124m'\u001b[39m\u001b[38;5;124mLj_variable\u001b[39m\u001b[38;5;124m'\u001b[39m] \u001b[38;5;129;01min\u001b[39;00m all_variables_names,\\\n\u001b[0;32m    474\u001b[0m \u001b[38;5;250m        \u001b[39m\u001b[38;5;124;03m\"\"\"pyEPR ProjectInfo user error found \\N{face with medical mask}:\u001b[39;00m\n\u001b[0;32m    475\u001b[0m \u001b[38;5;124;03m        Seems like for junction `%s` you specified a design or project\u001b[39;00m\n\u001b[0;32m    476\u001b[0m \u001b[38;5;124;03m        variable for `Lj_variable` that does not exist in HFSS by the name:\u001b[39;00m\n\u001b[0;32m    477\u001b[0m \u001b[38;5;124;03m         `%s` \"\"\"\u001b[39;00m \u001b[38;5;241m%\u001b[39m (jjnm, jj[\u001b[38;5;124m'\u001b[39m\u001b[38;5;124mLj_variable\u001b[39m\u001b[38;5;124m'\u001b[39m])\n\u001b[0;32m    479\u001b[0m     \u001b[38;5;28;01mfor\u001b[39;00m name \u001b[38;5;129;01min\u001b[39;00m [\u001b[38;5;124m'\u001b[39m\u001b[38;5;124mrect\u001b[39m\u001b[38;5;124m'\u001b[39m, \u001b[38;5;124m'\u001b[39m\u001b[38;5;124mline\u001b[39m\u001b[38;5;124m'\u001b[39m]:\n\u001b[0;32m    481\u001b[0m         \u001b[38;5;28;01massert\u001b[39;00m jj[name] \u001b[38;5;129;01min\u001b[39;00m all_object_names, \\\n\u001b[0;32m    482\u001b[0m \u001b[38;5;250m            \u001b[39m\u001b[38;5;124;03m\"\"\"pyEPR ProjectInfo user error found \\N{face with medical mask}:\u001b[39;00m\n\u001b[0;32m    483\u001b[0m \u001b[38;5;124;03m            Seems like for junction `%s` you specified a %s that does not exist\u001b[39;00m\n\u001b[0;32m    484\u001b[0m \u001b[38;5;124;03m            in HFSS by the name: `%s` \"\"\"\u001b[39;00m \u001b[38;5;241m%\u001b[39m (jjnm, name, jj[name])\n",
      "\u001b[1;31mAssertionError\u001b[0m: pyEPR ProjectInfo user error found 😷:\n                Seems like for junction `jj` you specified a design or project\n                variable for `Lj_variable` that does not exist in HFSS by the name:\n                 `Lj` "
     ]
    }
   ],
   "source": [
    "eig_2qb.run_epr()\n"
   ]
  },
  {
   "cell_type": "code",
   "execution_count": null,
   "id": "34cb9207",
   "metadata": {},
   "outputs": [],
   "source": [
    "eig_2qb.sim.close()"
   ]
  },
  {
   "cell_type": "code",
   "execution_count": 23,
   "id": "6c039e1d",
   "metadata": {
    "ExecuteTime": {
     "end_time": "2023-08-15T05:41:18.770572Z",
     "start_time": "2023-08-15T05:40:34.785613Z"
    },
    "scrolled": true
   },
   "outputs": [
    {
     "name": "stderr",
     "output_type": "stream",
     "text": [
      "INFO 01:40AM [connect_project]: Connecting to Ansys Desktop API...\n",
      "INFO 01:40AM [load_ansys_project]: \tOpened Ansys App\n",
      "INFO 01:40AM [load_ansys_project]: \tOpened Ansys Desktop v2022.1.0\n",
      "INFO 01:40AM [load_ansys_project]: \tOpened Ansys Project\n",
      "\tFolder:    C:/Users/WANGLAB/Documents/Ansoft/\n",
      "\tProject:   Project4\n",
      "INFO 01:40AM [connect_design]: \tOpened active design\n",
      "\tDesign:    TwoT78954_hfss [Solution type: Eigenmode]\n",
      "INFO 01:40AM [get_setup]: \tOpened setup `Setup`  (<class 'pyEPR.ansys.HfssEMSetup'>)\n",
      "INFO 01:40AM [connect]: \tConnected to project \"Project4\" and design \"TwoT78954_hfss\" 😀 \n",
      "\n",
      "INFO 01:40AM [connect_design]: \tOpened active design\n",
      "\tDesign:    Design_q3d [Solution type: Q3D]\n",
      "INFO 01:40AM [get_setup]: \tOpened setup `Setup`  (<class 'pyEPR.ansys.AnsysQ3DSetup'>)\n",
      "INFO 01:40AM [analyze]: Analyzing setup Setup\n",
      "INFO 01:41AM [get_matrix]: Exporting matrix data to (C:\\Users\\WANGLAB\\AppData\\Local\\Temp\\tmpgk4dgi63.txt, C, , Setup:LastAdaptive, \"Original\", \"ohm\", \"nH\", \"fF\", \"mSie\", 5000000000, Maxwell, 1, False\n",
      "INFO 01:41AM [get_matrix]: Exporting matrix data to (C:\\Users\\WANGLAB\\AppData\\Local\\Temp\\tmpb22qikvq.txt, C, , Setup:AdaptivePass, \"Original\", \"ohm\", \"nH\", \"fF\", \"mSie\", 5000000000, Maxwell, 1, False\n",
      "INFO 01:41AM [get_matrix]: Exporting matrix data to (C:\\Users\\WANGLAB\\AppData\\Local\\Temp\\tmpdtgkitnu.txt, C, , Setup:AdaptivePass, \"Original\", \"ohm\", \"nH\", \"fF\", \"mSie\", 5000000000, Maxwell, 2, False\n",
      "INFO 01:41AM [get_matrix]: Exporting matrix data to (C:\\Users\\WANGLAB\\AppData\\Local\\Temp\\tmp523kv5zz.txt, C, , Setup:AdaptivePass, \"Original\", \"ohm\", \"nH\", \"fF\", \"mSie\", 5000000000, Maxwell, 3, False\n",
      "INFO 01:41AM [get_matrix]: Exporting matrix data to (C:\\Users\\WANGLAB\\AppData\\Local\\Temp\\tmp2ntti8zn.txt, C, , Setup:AdaptivePass, \"Original\", \"ohm\", \"nH\", \"fF\", \"mSie\", 5000000000, Maxwell, 4, False\n",
      "INFO 01:41AM [get_matrix]: Exporting matrix data to (C:\\Users\\WANGLAB\\AppData\\Local\\Temp\\tmpagawjy_0.txt, C, , Setup:AdaptivePass, \"Original\", \"ohm\", \"nH\", \"fF\", \"mSie\", 5000000000, Maxwell, 5, False\n",
      "INFO 01:41AM [get_matrix]: Exporting matrix data to (C:\\Users\\WANGLAB\\AppData\\Local\\Temp\\tmpsl_ig5s8.txt, C, , Setup:AdaptivePass, \"Original\", \"ohm\", \"nH\", \"fF\", \"mSie\", 5000000000, Maxwell, 6, False\n",
      "INFO 01:41AM [get_matrix]: Exporting matrix data to (C:\\Users\\WANGLAB\\AppData\\Local\\Temp\\tmp_kvfrdfs.txt, C, , Setup:AdaptivePass, \"Original\", \"ohm\", \"nH\", \"fF\", \"mSie\", 5000000000, Maxwell, 7, False\n",
      "INFO 01:41AM [get_matrix]: Exporting matrix data to (C:\\Users\\WANGLAB\\AppData\\Local\\Temp\\tmpyeyyx_s5.txt, C, , Setup:AdaptivePass, \"Original\", \"ohm\", \"nH\", \"fF\", \"mSie\", 5000000000, Maxwell, 8, False\n",
      "INFO 01:41AM [get_matrix]: Exporting matrix data to (C:\\Users\\WANGLAB\\AppData\\Local\\Temp\\tmppz7e2vr1.txt, C, , Setup:AdaptivePass, \"Original\", \"ohm\", \"nH\", \"fF\", \"mSie\", 5000000000, Maxwell, 9, False\n"
     ]
    },
    {
     "data": {
      "text/html": [
       "<div>\n",
       "<style scoped>\n",
       "    .dataframe tbody tr th:only-of-type {\n",
       "        vertical-align: middle;\n",
       "    }\n",
       "\n",
       "    .dataframe tbody tr th {\n",
       "        vertical-align: top;\n",
       "    }\n",
       "\n",
       "    .dataframe thead th {\n",
       "        text-align: right;\n",
       "    }\n",
       "</style>\n",
       "<table border=\"1\" class=\"dataframe\">\n",
       "  <thead>\n",
       "    <tr style=\"text-align: right;\">\n",
       "      <th></th>\n",
       "      <th>a_connector_pad_Q1</th>\n",
       "      <th>cross_Q2</th>\n",
       "      <th>pad_bot_Q1</th>\n",
       "      <th>pad_top_Q1</th>\n",
       "    </tr>\n",
       "  </thead>\n",
       "  <tbody>\n",
       "    <tr>\n",
       "      <th>a_connector_pad_Q1</th>\n",
       "      <td>172.83465</td>\n",
       "      <td>-64.85809</td>\n",
       "      <td>-25.68379</td>\n",
       "      <td>-22.07162</td>\n",
       "    </tr>\n",
       "    <tr>\n",
       "      <th>cross_Q2</th>\n",
       "      <td>-64.85809</td>\n",
       "      <td>68.98326</td>\n",
       "      <td>-0.27744</td>\n",
       "      <td>-2.50594</td>\n",
       "    </tr>\n",
       "    <tr>\n",
       "      <th>pad_bot_Q1</th>\n",
       "      <td>-25.68379</td>\n",
       "      <td>-0.27744</td>\n",
       "      <td>28.14483</td>\n",
       "      <td>-1.33373</td>\n",
       "    </tr>\n",
       "    <tr>\n",
       "      <th>pad_top_Q1</th>\n",
       "      <td>-22.07162</td>\n",
       "      <td>-2.50594</td>\n",
       "      <td>-1.33373</td>\n",
       "      <td>26.81053</td>\n",
       "    </tr>\n",
       "  </tbody>\n",
       "</table>\n",
       "</div>"
      ],
      "text/plain": [
       "                    a_connector_pad_Q1  cross_Q2  pad_bot_Q1  pad_top_Q1\n",
       "a_connector_pad_Q1           172.83465 -64.85809   -25.68379   -22.07162\n",
       "cross_Q2                     -64.85809  68.98326    -0.27744    -2.50594\n",
       "pad_bot_Q1                   -25.68379  -0.27744    28.14483    -1.33373\n",
       "pad_top_Q1                   -22.07162  -2.50594    -1.33373    26.81053"
      ]
     },
     "execution_count": 23,
     "metadata": {},
     "output_type": "execute_result"
    }
   ],
   "source": [
    "from qiskit_metal.analyses.quantization import LOManalysis\n",
    "c1 = LOManalysis(design, \"q3d\")\n",
    "\n",
    "# example: update single setting\n",
    "c1.sim.setup.max_passes = 10\n",
    "# example: update multiple settings\n",
    "c1.sim.setup_update(solution_order = 'Medium', auto_increase_solution_order = 'False')\n",
    "\n",
    "c1.sim.setup\n",
    "\n",
    "c1.sim.run(components=['Q1', 'Q2'], open_terminations=[])\n",
    "c1.sim.capacitance_matrix"
   ]
  },
  {
   "cell_type": "code",
   "execution_count": null,
   "id": "8b6dc251",
   "metadata": {
    "scrolled": true
   },
   "outputs": [],
   "source": []
  },
  {
   "cell_type": "code",
   "execution_count": null,
   "id": "a0124cc2",
   "metadata": {},
   "outputs": [],
   "source": []
  },
  {
   "cell_type": "code",
   "execution_count": null,
   "id": "c7ea4cc2",
   "metadata": {},
   "outputs": [],
   "source": []
  },
  {
   "cell_type": "code",
   "execution_count": null,
   "id": "0a47feac",
   "metadata": {},
   "outputs": [],
   "source": []
  },
  {
   "cell_type": "code",
   "execution_count": null,
   "id": "50ef05ed",
   "metadata": {},
   "outputs": [],
   "source": []
  },
  {
   "cell_type": "code",
   "execution_count": null,
   "id": "3469881e",
   "metadata": {
    "scrolled": true
   },
   "outputs": [],
   "source": []
  },
  {
   "cell_type": "code",
   "execution_count": null,
   "id": "57323914",
   "metadata": {},
   "outputs": [],
   "source": []
  },
  {
   "cell_type": "code",
   "execution_count": null,
   "id": "89ef3848",
   "metadata": {},
   "outputs": [],
   "source": []
  },
  {
   "cell_type": "code",
   "execution_count": null,
   "id": "db5a1b5d",
   "metadata": {},
   "outputs": [],
   "source": []
  },
  {
   "cell_type": "code",
   "execution_count": null,
   "id": "7b8e77c6",
   "metadata": {},
   "outputs": [],
   "source": []
  },
  {
   "cell_type": "code",
   "execution_count": null,
   "id": "0c3d59f3",
   "metadata": {},
   "outputs": [],
   "source": []
  },
  {
   "cell_type": "code",
   "execution_count": null,
   "id": "584baacc",
   "metadata": {},
   "outputs": [],
   "source": []
  },
  {
   "cell_type": "code",
   "execution_count": null,
   "id": "c7dd52a4",
   "metadata": {},
   "outputs": [],
   "source": []
  },
  {
   "cell_type": "code",
   "execution_count": null,
   "id": "96796cc3",
   "metadata": {},
   "outputs": [],
   "source": []
  },
  {
   "cell_type": "code",
   "execution_count": null,
   "id": "6d6c46d4",
   "metadata": {},
   "outputs": [],
   "source": []
  },
  {
   "cell_type": "code",
   "execution_count": null,
   "id": "2f376d44",
   "metadata": {},
   "outputs": [],
   "source": []
  },
  {
   "cell_type": "code",
   "execution_count": null,
   "id": "279cbdf1",
   "metadata": {},
   "outputs": [],
   "source": []
  },
  {
   "cell_type": "code",
   "execution_count": null,
   "id": "ac0d9e2f",
   "metadata": {},
   "outputs": [],
   "source": []
  },
  {
   "cell_type": "code",
   "execution_count": null,
   "id": "943a0fed",
   "metadata": {},
   "outputs": [],
   "source": []
  },
  {
   "cell_type": "code",
   "execution_count": null,
   "id": "b23ce512",
   "metadata": {},
   "outputs": [],
   "source": []
  },
  {
   "cell_type": "code",
   "execution_count": null,
   "id": "06c2d132",
   "metadata": {},
   "outputs": [],
   "source": []
  },
  {
   "cell_type": "code",
   "execution_count": null,
   "id": "c128bf03",
   "metadata": {},
   "outputs": [],
   "source": []
  },
  {
   "cell_type": "code",
   "execution_count": null,
   "id": "b2015652",
   "metadata": {},
   "outputs": [],
   "source": []
  },
  {
   "cell_type": "code",
   "execution_count": null,
   "id": "6715688a",
   "metadata": {
    "scrolled": true
   },
   "outputs": [],
   "source": []
  },
  {
   "cell_type": "code",
   "execution_count": null,
   "id": "300406b8",
   "metadata": {},
   "outputs": [],
   "source": []
  },
  {
   "cell_type": "code",
   "execution_count": null,
   "id": "75d42e80",
   "metadata": {},
   "outputs": [],
   "source": []
  }
 ],
 "metadata": {
  "kernelspec": {
   "display_name": "Python 3 (ipykernel)",
   "language": "python",
   "name": "python3"
  },
  "language_info": {
   "codemirror_mode": {
    "name": "ipython",
    "version": 3
   },
   "file_extension": ".py",
   "mimetype": "text/x-python",
   "name": "python",
   "nbconvert_exporter": "python",
   "pygments_lexer": "ipython3",
   "version": "3.11.4"
  },
  "varInspector": {
   "cols": {
    "lenName": 16,
    "lenType": 16,
    "lenVar": 40
   },
   "kernels_config": {
    "python": {
     "delete_cmd_postfix": "",
     "delete_cmd_prefix": "del ",
     "library": "var_list.py",
     "varRefreshCmd": "print(var_dic_list())"
    },
    "r": {
     "delete_cmd_postfix": ") ",
     "delete_cmd_prefix": "rm(",
     "library": "var_list.r",
     "varRefreshCmd": "cat(var_dic_list()) "
    }
   },
   "types_to_exclude": [
    "module",
    "function",
    "builtin_function_or_method",
    "instance",
    "_Feature"
   ],
   "window_display": false
  }
 },
 "nbformat": 4,
 "nbformat_minor": 5
}

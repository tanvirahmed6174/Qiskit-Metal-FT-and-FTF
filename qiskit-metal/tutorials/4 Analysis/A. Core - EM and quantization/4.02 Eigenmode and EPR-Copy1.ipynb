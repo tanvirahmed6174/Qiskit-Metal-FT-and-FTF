{
 "cells": [
  {
   "cell_type": "markdown",
   "metadata": {},
   "source": [
    "# Eigenmode and EPR analysis\n",
    "### Prerequisite\n",
    "You need to have a working local installation of Ansys."
   ]
  },
  {
   "cell_type": "code",
   "execution_count": 7,
   "metadata": {
    "ExecuteTime": {
     "end_time": "2023-07-05T20:14:08.287696Z",
     "start_time": "2023-07-05T20:14:08.174090600Z"
    }
   },
   "outputs": [],
   "source": [
    "%reload_ext autoreload\n",
    "%autoreload 2\n",
    "\n",
    "import qiskit_metal as metal\n",
    "from qiskit_metal import designs, draw\n",
    "from qiskit_metal import MetalGUI, Dict, Headings\n",
    "import pyEPR as epr\n",
    "\n",
    "\n",
    "from qiskit_metal.qlibrary.qubits.transmon_pocket_cl import TransmonPocketCL\n",
    "from qiskit_metal.qlibrary.qubits.transmon_cross_fl import TransmonCrossFL\n",
    "from qiskit_metal.qlibrary.qubits.transmon_cross_fl_cl import TransmonCrossFL_CL\n",
    "from qiskit_metal.qlibrary.qubits.transmon_cross import TransmonCross\n",
    "from qiskit_metal.qlibrary.couplers.tunable_coupler_01 import TunableCoupler01\n",
    "\n",
    "from qiskit_metal.qlibrary.tlines.meandered import RouteMeander\n",
    "from qiskit_metal.qlibrary.tlines.pathfinder import RoutePathfinder\n",
    "from qiskit_metal.qlibrary.tlines.anchored_path import RouteAnchors\n",
    "from qiskit_metal.qlibrary.tlines.straight_path import RouteStraight\n",
    "\n",
    "from qiskit_metal.qlibrary.terminations.open_to_ground import OpenToGround\n",
    "from qiskit_metal.qlibrary.terminations.short_to_ground import ShortToGround\n",
    "\n",
    "from qiskit_metal.qlibrary.lumped.cap_n_interdigital import CapNInterdigital\n",
    "from qiskit_metal.qlibrary.lumped.cap_3_interdigital import Cap3Interdigital\n",
    "from qiskit_metal.qlibrary.couplers.cap_n_interdigital_tee import CapNInterdigitalTee\n",
    "from qiskit_metal.qlibrary.couplers.coupled_line_tee import CoupledLineTee\n",
    "\n",
    "from qiskit_metal.qlibrary.terminations.launchpad_wb import LaunchpadWirebond\n",
    "\n",
    "#from qiskit_metal.qlibrary.terminations.launchpad_wb_simplecoupler import LaunchpadWirebondSimple\n",
    "#from qiskit_metal.qlibrary.terminations.launchpad_wb_coupled import LaunchpadWirebondCoupled\n",
    "\n",
    "from qiskit_metal.qlibrary.terminations.short_to_ground import ShortToGround\n",
    "import numpy as np\n",
    "from collections import OrderedDict\n",
    "\n",
    "from qiskit_metal.qlibrary.qubits.transmon_cross_ebru_temp import TransmonCross_ebru_temp\n",
    "\n",
    "from qiskit_metal.qlibrary.qubits.transmon_cross_fl_ebru_temp import TransmonCrossFL_ebru_temp\n",
    "from qiskit_metal.qlibrary.qubits.transmon_cross_fl_cl_ebru_temp import TransmonCrossFL_CL_ebru_temp"
   ]
  },
  {
   "cell_type": "code",
   "execution_count": 8,
   "metadata": {
    "ExecuteTime": {
     "end_time": "2023-07-05T20:14:09.235518400Z",
     "start_time": "2023-07-05T20:14:08.872285200Z"
    }
   },
   "outputs": [],
   "source": [
    "design = metal.designs.DesignPlanar(overwrite_enabled=True)\n",
    "\n",
    "design.chips.main.size['size_x'] = '5mm'\n",
    "design.chips.main.size['size_y'] = '5mm'\n",
    "design.chips.main.size['size_z'] = '-725um'\n",
    "gui = MetalGUI(design)"
   ]
  },
  {
   "cell_type": "markdown",
   "metadata": {},
   "source": [
    "Create a single transmon with one readout resonator and move it to the center of the chip previously defined."
   ]
  },
  {
   "cell_type": "code",
   "execution_count": 9,
   "metadata": {
    "scrolled": true,
    "ExecuteTime": {
     "end_time": "2023-07-05T20:14:13.155776700Z",
     "start_time": "2023-07-05T20:14:13.054049900Z"
    }
   },
   "outputs": [
    {
     "data": {
      "text/plain": "'5.071952814490852 mm'"
     },
     "execution_count": 9,
     "metadata": {},
     "output_type": "execute_result"
    }
   ],
   "source": [
    "from qiskit_metal.analyses.em.cpw_calculations import guided_wavelength\n",
    "\n",
    "def find_resonator_length(frequency, line_width, line_gap, N): \n",
    "    #frequency in GHz\n",
    "    #line_width/line_gap in um\n",
    "    #N -> 2 for lambda/2, 4 for lambda/4\n",
    "    \n",
    "    [lambdaG, etfSqrt, q] = guided_wavelength(frequency*10**9, line_width*10**-6,\n",
    "                                              line_gap*10**-6, 750*10**-6, 200*10**-9)\n",
    "    return str(lambdaG/N*10**3)+\" mm\"\n",
    "\n",
    "\n",
    "find_resonator_length(6.0, 10, 6, 4)"
   ]
  },
  {
   "cell_type": "code",
   "execution_count": 10,
   "metadata": {
    "ExecuteTime": {
     "end_time": "2023-07-05T20:14:13.905854900Z",
     "start_time": "2023-07-05T20:14:13.735045800Z"
    }
   },
   "outputs": [],
   "source": [
    "# design.overwrite_enabled = True\n",
    "options =  dict(\n",
    "    connection_pads=dict(\n",
    "        readout = dict(loc_W=+1, loc_H=+1),\n",
    "        storage = dict(loc_W=-1, loc_H=-1, )\n",
    "    ))\n",
    "    \n",
    "from qiskit_metal.qlibrary.qubits.transmon_cross_fl import TransmonCrossFL\n",
    "from qiskit_metal.qlibrary.qubits.transmon_cross_fl_cl import TransmonCrossFL_CL\n",
    "\n",
    "Q1 = TransmonCrossFL_CL_ebru_temp(design, 'Q1', options = dict(make_extra_rect=False, pos_x = '0.450mm', pos_y='1.410mm', \n",
    "                                                     cross_length='40um', cross_width='10um', cross_gap='15um',\n",
    "                                                    # cross_gap='3um',\n",
    "                                                 connection_pads = dict(\n",
    "                                                     readout = dict(connector_location = '90', lead_gap='6um',\n",
    "                                                     claw_length='30um', claw_width='5um', ground_spacing='2um', \n",
    "                                                                    claw_gap='5um', lead_width='10um', lead_length='60um')),#claw_length ='115um', claw_width='25um', claw_gap='7um',ground_spacing='3um')),\n",
    "                                                 fl_options = dict(t_shift='3.5um' , t_offset='-6um', t_inductive_gap='4.5um', \n",
    "                                                                   t_top='17.5um', t_width='5um', t_gap='3um'),\n",
    "                                                 cl_options= dict(c_offset='-40um', c_ground_gap='38um', c_width='5um', \n",
    "                                                                  c_gap='3um', translate_x='0um', c_angle='90'),\n",
    "                                                 ))\n",
    "    \n",
    "\n",
    "\n",
    "Q2 = TransmonCrossFL_CL(design, 'Q2', options = dict(make_extra_rect=True, pos_x = '0.2mm', pos_y='1.410mm', orientation=0, \n",
    "                                                     cross_length='160um', cross_width='30um', cross_gap='30um',\n",
    "                                                    \n",
    "                                                 connection_pads = dict(\n",
    "                                                     readout = dict(connector_location = '90', lead_gap='6um',\n",
    "                                                     claw_length='140um', claw_width='10um', ground_spacing='3um', \n",
    "                                                                    claw_gap='8um', lead_width='10um', lead_length='60um')),#claw_length ='115um', claw_width='25um', claw_gap='7um',ground_spacing='3um')),\n",
    "                                                 fl_options = dict(t_shift='3.5um' , t_offset='-6um', t_inductive_gap='4.5um', \n",
    "                                                                   t_top='17.5um', t_width='5um', t_gap='3um'),\n",
    "                                                 cl_options= dict(c_offset='30um', c_ground_gap='38um', c_width='5um', \n",
    "                                                                  c_gap='3um', translate_x='0um', c_angle='270'),\n",
    "                                                 rect_options= dict(rect_width='40um', rect_length='8um')))\n",
    "\n",
    "# gui.rebuild()\n",
    "# gui.autoscale()"
   ]
  },
  {
   "cell_type": "code",
   "execution_count": 11,
   "metadata": {
    "ExecuteTime": {
     "end_time": "2023-07-05T20:14:14.572527800Z",
     "start_time": "2023-07-05T20:14:14.414082500Z"
    }
   },
   "outputs": [],
   "source": [
    "import numpy as np\n",
    "from collections import OrderedDict\n",
    "\n",
    "\n",
    "anchors1f = OrderedDict()\n",
    "anchors1f[0] = np.array([-1.75, -2.0])\n",
    "\n",
    "\n",
    "\n",
    "launch_flux_options = dict(trace_width= '5um', trace_gap='3um', pad_width='150um', pad_gap_y= '130um', \n",
    "                           pad_gap_x = '96um', pad_height='200um', \n",
    "                           taper_height='150um', \n",
    "                           pos_x='-1.5mm', pos_y='0.5mm', orientation='0', lead_length='30um')\n",
    "lf = LaunchpadWirebond(design, 'Launch_Flux', options = launch_flux_options)\n",
    "\n",
    "\n",
    "flux_line_options = Dict(\n",
    "        #lead = dict(start_straight='100um', end_straight='100um'),\n",
    "        fillet='30um', \n",
    "        trace_width = '5um', trace_gap = '3um', \n",
    "        pin_inputs=Dict(\n",
    "            start_pin=Dict(component='Q2', pin='flux_line'),\n",
    "            end_pin=Dict(componentl=lf.name, pin='tie')), )\n",
    "flux_line_Q2 = RouteAnchors(design,'Flux_Line_1', options = dict(hfss_wire_bonds = True,\n",
    "                                            pin_inputs=Dict(\n",
    "                                                start_pin=Dict(\n",
    "                                                    component='Q2',\n",
    "                                                    pin='flux_line'),\n",
    "                                                end_pin=Dict(\n",
    "                                                    component='Launch_Flux',\n",
    "                                                    pin='tie')),\n",
    "                                            lead=Dict(\n",
    "#                                                 start_straight='175um',\n",
    "                                                 #end_straight = '100um',\n",
    "                                                #end_jogged_extension = jogs_end\n",
    "                                            ),\n",
    "                                                    fillet = '60um',\n",
    "                                            trace_width = '5um',\n",
    "                                            trace_gap = '3um',\n",
    "                                             #anchors = anchors1f\n",
    "                                            ))\n",
    "\n",
    "\n",
    "\n",
    "\n",
    "# anchors2fl = OrderedDict()\n",
    "# anchors2fl[0] = np.array([1.78, 0.415])\n",
    "\n",
    "\n",
    "\n",
    "launch_flux2_options = dict(trace_width= '5um', trace_gap='3um', pad_width='150um', pad_gap_y= '130um', \n",
    "                             pad_gap_x = '96um', pad_height='200um', \n",
    "                           taper_height='150um',  pos_x='1.5', pos_y='0.5mm', orientation='180', lead_length='30um')\n",
    "lf2 = LaunchpadWirebond(design, 'Launch_Flux2', options = launch_flux2_options)\n",
    "\n",
    "\n",
    "\n",
    "\n",
    "flux_line_Q2 = RoutePathfinder(design,'Flux_Line_2', options = dict(hfss_wire_bonds = True,\n",
    "                                            pin_inputs=Dict(\n",
    "                                                start_pin=Dict(\n",
    "                                                    component='Q1',\n",
    "                                                    pin='flux_line'),\n",
    "                                                end_pin=Dict(\n",
    "                                                    component='Launch_Flux2',\n",
    "                                                    pin='tie')),\n",
    "                                            lead=Dict(\n",
    "#                                                 start_straight='175um',\n",
    "                                                 end_straight = '100um',\n",
    "                                                #end_jogged_extension = jogs_end\n",
    "                                            ),\n",
    "                                            fillet = '60um',\n",
    "                                            trace_width = '5um',\n",
    "                                            trace_gap = '3um',\n",
    "                                            #anchors=anchors2fl\n",
    "                                            ))\n",
    "\n",
    "\n",
    "# gui.rebuild()"
   ]
  },
  {
   "cell_type": "code",
   "execution_count": 12,
   "metadata": {
    "ExecuteTime": {
     "end_time": "2023-07-05T20:14:15.421844Z",
     "start_time": "2023-07-05T20:14:15.211941800Z"
    }
   },
   "outputs": [
    {
     "name": "stderr",
     "output_type": "stream",
     "text": [
      "04:14PM 15s WARNING [check_lengths]: For path table, component=Charge_Line_1, key=trace has short segments that could cause issues with fillet. Values in (1-2)  are index(es) in shapely geometry.\n",
      "04:14PM 15s WARNING [check_lengths]: For path table, component=Charge_Line_1, key=cut has short segments that could cause issues with fillet. Values in (1-2)  are index(es) in shapely geometry.\n",
      "04:14PM 15s WARNING [check_lengths]: For path table, component=Charge_Line_2, key=trace has short segments that could cause issues with fillet. Values in (1-2)  are index(es) in shapely geometry.\n",
      "04:14PM 15s WARNING [check_lengths]: For path table, component=Charge_Line_2, key=cut has short segments that could cause issues with fillet. Values in (1-2)  are index(es) in shapely geometry.\n"
     ]
    }
   ],
   "source": [
    "\n",
    "\n",
    "\n",
    "\n",
    "launch_charge_options = dict(trace_width= '5um', trace_gap='3um', pad_width='150um', pad_gap_y= '130um', \n",
    "                             pad_gap_x = '96um', pad_height='200um', \n",
    "                           taper_height='150um',  pos_x='1.5mm', pos_y='1.41mm', orientation='180', lead_length='30um')\n",
    "\n",
    "lc = LaunchpadWirebond(design, 'Launch_Charge', options = launch_charge_options)\n",
    "\n",
    "\n",
    "\n",
    "\n",
    "\n",
    "\n",
    "launch_charge2_options = dict(trace_width= '5um', trace_gap='3um', pad_width='150um', pad_gap_y= '130um', \n",
    "                             pad_gap_x = '96um', pad_height='200um', \n",
    "                           taper_height='150um',  pos_x='-1.5mm', pos_y='1.41mm', orientation='0', lead_length='30um')\n",
    "\n",
    "lc2 = LaunchpadWirebond(design, 'Launch_Charge2', options = launch_charge2_options)\n",
    "\n",
    "\n",
    "#anchors1ch = OrderedDict()\n",
    "#anchors1ch[0] = np.array([1.78, 0.114])\n",
    "\n",
    "\n",
    "charge_line_Q1 = RoutePathfinder(design,'Charge_Line_1', options = dict(hfss_wire_bonds = True,\n",
    "                                            pin_inputs=Dict(\n",
    "                                                start_pin=Dict(\n",
    "                                                    component='Q1',\n",
    "                                                    pin='charge_line'),\n",
    "                                                end_pin=Dict(\n",
    "                                                    component='Launch_Charge',\n",
    "                                                    pin='tie')),\n",
    "                                            lead=Dict(\n",
    "                                                start_straight='175um',\n",
    "                                                end_straight = '100um',\n",
    "                                                #end_jogged_extension = jogs_end\n",
    "                                            ),\n",
    "                                            fillet = '60um',\n",
    "                                            trace_width = '5um',\n",
    "                                            trace_gap = '3um',\n",
    "                                            #anchors = anchors1ch\n",
    "                                            ))\n",
    "\n",
    "anchors2ch = OrderedDict()\n",
    "anchors2ch[0] = np.array([-1.75,2.0])\n",
    "charge_line_Q2 = RoutePathfinder(design,'Charge_Line_2', options = dict(hfss_wire_bonds = True,\n",
    "                                            pin_inputs=Dict(\n",
    "                                                start_pin=Dict(\n",
    "                                                    component='Q2',\n",
    "                                                    pin='charge_line'),\n",
    "                                                end_pin=Dict(\n",
    "                                                    component='Launch_Charge2',\n",
    "                                                    pin='tie')),\n",
    "                                            lead=Dict(\n",
    "#                                                 start_straight='175um',\n",
    "                                                 end_straight = '100um',\n",
    "                                                #end_jogged_extension = jogs_end\n",
    "                                            ),\n",
    "                                            fillet = '60um',\n",
    "                                            trace_width = '5um',\n",
    "                                            trace_gap = '3um',\n",
    "                                            #anchors = anchors2ch\n",
    "                                            ))\n",
    "\n",
    "# gui.rebuild()\n"
   ]
  },
  {
   "cell_type": "code",
   "execution_count": 13,
   "metadata": {
    "ExecuteTime": {
     "end_time": "2023-07-05T20:14:15.910292Z",
     "start_time": "2023-07-05T20:14:15.788749100Z"
    }
   },
   "outputs": [],
   "source": [
    "\n",
    "TQ2 = CoupledLineTee(design, 'TQ2', options=dict(pos_x='-0.85mm',\n",
    "                                             pos_y='2.6mm',\n",
    "                                             coupling_length='410um', coupling_space='4um', orientation=0, \n",
    "                                                 open_termination=False))\n",
    "\n",
    "\n",
    "\n",
    "\n",
    "\n",
    "#3.58\n",
    "\n",
    "options2 = Dict(\n",
    "     total_length='4.68mm',\n",
    "     hfss_wire_bonds = True,\n",
    "     fillet='40um',\n",
    "     lead = dict(start_straight='250um'),\n",
    "     pin_inputs=Dict(\n",
    "         end_pin=Dict(\n",
    "             component='TQ2',\n",
    "             pin='second_end'),\n",
    "         start_pin=Dict(\n",
    "             component='Q2',\n",
    "             pin='readout')),\n",
    "     meander=Dict(spacing='200um',\n",
    "             asymmetry='0um'))\n",
    "read_q2 = RouteMeander(design, 'read_q2', options=options2)\n",
    "\n",
    "\n",
    "\n",
    "# gui.rebuild()\n",
    "# gui.autoscale()\n"
   ]
  },
  {
   "cell_type": "code",
   "execution_count": 14,
   "metadata": {
    "ExecuteTime": {
     "end_time": "2023-07-05T20:14:17.296918300Z",
     "start_time": "2023-07-05T20:14:16.496429Z"
    }
   },
   "outputs": [
    {
     "name": "stderr",
     "output_type": "stream",
     "text": [
      "04:14PM 17s WARNING [check_lengths]: For path table, component=Charge_Line_1, key=trace has short segments that could cause issues with fillet. Values in (1-2)  are index(es) in shapely geometry.\n",
      "04:14PM 17s WARNING [check_lengths]: For path table, component=Charge_Line_1, key=cut has short segments that could cause issues with fillet. Values in (1-2)  are index(es) in shapely geometry.\n",
      "04:14PM 17s WARNING [check_lengths]: For path table, component=Charge_Line_2, key=trace has short segments that could cause issues with fillet. Values in (1-2)  are index(es) in shapely geometry.\n",
      "04:14PM 17s WARNING [check_lengths]: For path table, component=Charge_Line_2, key=cut has short segments that could cause issues with fillet. Values in (1-2)  are index(es) in shapely geometry.\n"
     ]
    }
   ],
   "source": [
    "\n",
    "TQ1 = CoupledLineTee(design, 'TQ1', options=dict(pos_x='1.07mm',\n",
    "                                             pos_y='2.6mm',\n",
    "                                              coupling_length='400um', coupling_space='4um', open_termination=False, orientation='0'))\n",
    "\n",
    "options1 = Dict(\n",
    "    total_length='5.07mm',\n",
    "    hfss_wire_bonds = True,\n",
    "    fillet='40um',\n",
    "    lead = dict(start_straight='100um', end_straight='20um'),\n",
    "    pin_inputs=Dict(\n",
    "        start_pin=Dict(\n",
    "            component='TQ1',\n",
    "            pin='second_end'),\n",
    "        end_pin=Dict(\n",
    "            component='Q1',\n",
    "            pin='readout')))\n",
    "read_q1 = RouteMeander(design, 'read_q1', options=options1)\n",
    "gui.rebuild()\n",
    "gui.autoscale()"
   ]
  },
  {
   "cell_type": "code",
   "execution_count": 15,
   "metadata": {
    "ExecuteTime": {
     "end_time": "2023-07-05T20:14:18.350193300Z",
     "start_time": "2023-07-05T20:14:18.230601700Z"
    }
   },
   "outputs": [],
   "source": [
    "launch_feed_left_options = dict(trace_width= '10um',pad_width='150um', pad_gap_x= '96um', pad_gap_y= '130um', pad_height='200um', \n",
    "                           taper_height='150um',  pos_x='-1.5mm', pos_y='2.6mm', orientation='0', lead_length='30um')\n",
    "l_feed_left = LaunchpadWirebond(design, 'Launch_Feed_Left', options = launch_feed_left_options)\n",
    "\n",
    "\n",
    "launch_feed_right_options = dict(trace_width= '10um', pad_width='150um', pad_gap_x= '96um', pad_gap_y= '130um', pad_height='200um', \n",
    "                           taper_height='150um',  pos_x='1.5mm', pos_y='2.6mm', lead_length='30um', orientation='180')\n",
    "l_feed_right = LaunchpadWirebond(design, 'Launch_Feed_Right', options = launch_feed_right_options)"
   ]
  },
  {
   "cell_type": "markdown",
   "metadata": {},
   "source": [
    "(optional) Captures the renderer GUI"
   ]
  },
  {
   "cell_type": "code",
   "execution_count": 16,
   "metadata": {
    "ExecuteTime": {
     "end_time": "2023-07-05T20:14:21.432027600Z",
     "start_time": "2023-07-05T20:14:21.331968400Z"
    }
   },
   "outputs": [
    {
     "data": {
      "text/plain": "<IPython.core.display.HTML object>",
      "text/html": "\n    <h1 style=\"\n        background: #12c2e9;  /* fallback for old browsers */\n        background: -webkit-linear-gradient(to right, #d4418e 0%, #0652c5 74%);  /* Chrome 10-25, Safari 5.1-6 */\n        background: linear-gradient(315deg, #d4418e 0%, #0652c5 74%); /* W3C, IE 10+/ Edge, Firefox 16+, Chrome 26+, Opera 12+, Safari 7+ */\n        margin-top: 50px;\n        border-style: outset;\n        padding-top:100px;\n        padding-bottom:50px;\n        padding-left:25px;\n        color: white;\n    \"> Now analyzing the design: HFSS & EPR <h1>\n        "
     },
     "metadata": {},
     "output_type": "display_data"
    }
   ],
   "source": [
    "%metal_heading Now analyzing the design: HFSS & EPR"
   ]
  },
  {
   "cell_type": "markdown",
   "metadata": {},
   "source": [
    "(optional) Work directly with the convergence numbers"
   ]
  },
  {
   "cell_type": "code",
   "execution_count": 17,
   "metadata": {
    "ExecuteTime": {
     "end_time": "2023-07-05T20:14:23.307747900Z",
     "start_time": "2023-07-05T20:14:22.477588300Z"
    }
   },
   "outputs": [
    {
     "name": "stderr",
     "output_type": "stream",
     "text": [
      "04:14PM 23s WARNING [check_lengths]: For path table, component=Charge_Line_1, key=trace has short segments that could cause issues with fillet. Values in (1-2)  are index(es) in shapely geometry.\n",
      "04:14PM 23s WARNING [check_lengths]: For path table, component=Charge_Line_1, key=cut has short segments that could cause issues with fillet. Values in (1-2)  are index(es) in shapely geometry.\n",
      "04:14PM 23s WARNING [check_lengths]: For path table, component=Charge_Line_2, key=trace has short segments that could cause issues with fillet. Values in (1-2)  are index(es) in shapely geometry.\n",
      "04:14PM 23s WARNING [check_lengths]: For path table, component=Charge_Line_2, key=cut has short segments that could cause issues with fillet. Values in (1-2)  are index(es) in shapely geometry.\n"
     ]
    }
   ],
   "source": [
    "from qiskit_metal.analyses.quantization import EPRanalysis\n",
    "eig_qb = EPRanalysis(design, \"hfss\")\n",
    "\n",
    "eig_qb = EPRanalysis(design, \"hfss\")\n",
    "\n",
    "eig_qb.sim.setup.vars.Lj = '12 nH'\n",
    "eig_qb.sim.setup.vars = Dict({'Lj': '12 nH', 'Cj': '3 fF'})\n",
    "gui.rebuild()\n",
    "gui.autoscale()"
   ]
  },
  {
   "cell_type": "markdown",
   "metadata": {},
   "source": [
    "(optional) You can re-run the analysis after varying the parameters.<br>\n",
    "Not passing the parameter `components` to the `sim.run()` method, skips the rendering and tries to run the analysis on the latest design. If a design is not found, the full metal design is rendered."
   ]
  },
  {
   "cell_type": "code",
   "execution_count": 18,
   "metadata": {
    "ExecuteTime": {
     "end_time": "2023-07-05T20:14:25.611389500Z",
     "start_time": "2023-07-05T20:14:24.927897700Z"
    }
   },
   "outputs": [
    {
     "name": "stderr",
     "output_type": "stream",
     "text": [
      "04:14PM 25s WARNING [check_lengths]: For path table, component=Charge_Line_1, key=trace has short segments that could cause issues with fillet. Values in (1-2)  are index(es) in shapely geometry.\n",
      "04:14PM 25s WARNING [check_lengths]: For path table, component=Charge_Line_1, key=cut has short segments that could cause issues with fillet. Values in (1-2)  are index(es) in shapely geometry.\n",
      "04:14PM 25s WARNING [check_lengths]: For path table, component=Charge_Line_2, key=trace has short segments that could cause issues with fillet. Values in (1-2)  are index(es) in shapely geometry.\n",
      "04:14PM 25s WARNING [check_lengths]: For path table, component=Charge_Line_2, key=cut has short segments that could cause issues with fillet. Values in (1-2)  are index(es) in shapely geometry.\n"
     ]
    }
   ],
   "source": [
    "design.qgeometry.tables['junction']\n",
    "qcomps=design.components\n",
    "qcomps['Q2'].options['hfss_inductance'] = 'Lj'\n",
    "qcomps['Q2'].options['hfss_capacitance'] = 'Cj'\n",
    "\n",
    "gui.rebuild()\n",
    "gui.autoscale()\n",
    "\n"
   ]
  },
  {
   "cell_type": "markdown",
   "metadata": {},
   "source": [
    "Verify that the Electro(magnetic) fields look realistic."
   ]
  },
  {
   "cell_type": "code",
   "execution_count": 19,
   "metadata": {
    "scrolled": true,
    "ExecuteTime": {
     "end_time": "2023-07-05T20:15:22.884676500Z",
     "start_time": "2023-07-05T20:14:27.410652300Z"
    }
   },
   "outputs": [
    {
     "name": "stderr",
     "output_type": "stream",
     "text": [
      "04:14PM 27s WARNING [check_lengths]: For path table, component=Charge_Line_1, key=trace has short segments that could cause issues with fillet. Values in (1-2)  are index(es) in shapely geometry.\n",
      "04:14PM 27s WARNING [check_lengths]: For path table, component=Charge_Line_1, key=cut has short segments that could cause issues with fillet. Values in (1-2)  are index(es) in shapely geometry.\n",
      "04:14PM 27s WARNING [check_lengths]: For path table, component=Charge_Line_2, key=trace has short segments that could cause issues with fillet. Values in (1-2)  are index(es) in shapely geometry.\n",
      "04:14PM 27s WARNING [check_lengths]: For path table, component=Charge_Line_2, key=cut has short segments that could cause issues with fillet. Values in (1-2)  are index(es) in shapely geometry.\n",
      "INFO 04:14PM [connect_project]: Connecting to Ansys Desktop API...\n",
      "INFO 04:14PM [load_ansys_project]: \tOpened Ansys App\n",
      "INFO 04:14PM [load_ansys_project]: \tOpened Ansys Desktop v2021.2.0\n",
      "INFO 04:14PM [load_ansys_project]: \tOpened Ansys Project\n",
      "\tFolder:    C:/Users/WANGLAB/Documents/Ansoft/\n",
      "\tProject:   Project1\n",
      "INFO 04:14PM [connect_design]: \tOpened active design\n",
      "\tDesign:    Qbit_hfss [Solution type: Eigenmode]\n",
      "INFO 04:14PM [get_setup]: \tOpened setup `Setup`  (<class 'pyEPR.ansys.HfssEMSetup'>)\n",
      "INFO 04:14PM [connect]: \tConnected to project \"Project1\" and design \"Qbit_hfss\" 😀 \n",
      "\n",
      "INFO 04:14PM [connect_design]: \tOpened active design\n",
      "\tDesign:    Xmon_only_new_hfss [Solution type: Eigenmode]\n",
      "INFO 04:14PM [get_setup]: \tOpened setup `Setup`  (<class 'pyEPR.ansys.HfssEMSetup'>)\n",
      "INFO 04:14PM [analyze]: Analyzing setup Setup\n",
      "04:15PM 22s INFO [get_f_convergence]: Saved convergences to C:\\Users\\WANGLAB\\Documents\\GitHub\\qiskit-metal\\tutorials\\4 Analysis\\A. Core - EM and quantization\\hfss_eig_f_convergence.csv\n"
     ]
    }
   ],
   "source": [
    "\n",
    "design.qgeometry.tables['junction']\n",
    "qcomps=design.components\n",
    "qcomps['Q2'].options['hfss_inductance'] = 'Lj'\n",
    "qcomps['Q2'].options['hfss_capacitance'] = 'Cj'\n",
    "\n",
    "gui.rebuild()\n",
    "gui.autoscale()\n",
    "\n",
    "\n",
    "\n",
    "eig_qb.sim.run(name=\"Xmon_only_new\", components=['Q2'], open_terminations=[], box_plus_buffer = False)\n",
    "eig_qb.sim.plot_convergences()"
   ]
  },
  {
   "cell_type": "markdown",
   "metadata": {},
   "source": [
    "(optional) clear the renderer by removing the fields"
   ]
  },
  {
   "cell_type": "code",
   "execution_count": null,
   "metadata": {
    "ExecuteTime": {
     "end_time": "2023-07-05T19:51:06.455760Z",
     "start_time": "2023-07-05T19:51:06.455760Z"
    }
   },
   "outputs": [],
   "source": [
    "eig_qb.setup.junctions.jj.rect = 'JJ_rect_Lj_Q2_rect_jj'\n",
    "eig_qb.setup.junctions.jj.line = 'JJ_Lj_Q2_rect_jj_'\n",
    "eig_qb.run_epr()"
   ]
  },
  {
   "cell_type": "markdown",
   "metadata": {},
   "source": [
    "### EPR Analysis\n",
    "#### Setup\n",
    "Identify the non-linear (Josephson) junctions in the model. You will need to list the junctions in the epr setup.\n",
    "\n",
    "In this case there's only one junction, namely 'jj'. Let's see what we need to change in the default setup."
   ]
  },
  {
   "cell_type": "code",
   "execution_count": 24,
   "metadata": {
    "ExecuteTime": {
     "end_time": "2023-07-05T20:16:58.452623Z",
     "start_time": "2023-07-05T20:16:58.340137200Z"
    }
   },
   "outputs": [
    {
     "data": {
      "text/plain": "{'junctions': {'jj': {'Lj_variable': 'Lj',\n   'Cj_variable': 'Cj',\n   'rect': 'JJ_rect_Lj_Q1_rect_jj',\n   'line': 'JJ_Lj_Q1_rect_jj_'}},\n 'dissipatives': {'dielectrics_bulk': ['main']},\n 'cos_trunc': 8,\n 'fock_trunc': 7,\n 'sweep_variable': 'Lj'}"
     },
     "execution_count": 24,
     "metadata": {},
     "output_type": "execute_result"
    }
   ],
   "source": [
    "eig_qb.setup"
   ]
  },
  {
   "cell_type": "markdown",
   "metadata": {},
   "source": [
    "The name of the `Lj_variable` and `Cj_variable` match with our model. However it is missing the names of the shapes that identify the junction (`rect` and `line`). Look for those in the renderer and find the name. Then let's change the name (See below)."
   ]
  },
  {
   "cell_type": "code",
   "execution_count": 25,
   "metadata": {
    "ExecuteTime": {
     "end_time": "2023-07-05T20:17:00.028994Z",
     "start_time": "2023-07-05T20:16:59.932112300Z"
    }
   },
   "outputs": [
    {
     "data": {
      "text/plain": "{'junctions': {'jj': {'Lj_variable': 'Lj',\n   'Cj_variable': 'Cj',\n   'rect': 'JJ_rect_Lj_Q1_rect_jj',\n   'line': 'JJ_Lj_Q1_rect_jj_'}},\n 'dissipatives': {'dielectrics_bulk': ['main']},\n 'cos_trunc': 8,\n 'fock_trunc': 7,\n 'sweep_variable': 'Lj'}"
     },
     "execution_count": 25,
     "metadata": {},
     "output_type": "execute_result"
    }
   ],
   "source": [
    "eig_qb.setup.junctions.jj.rect = 'JJ_rect_Lj_Q1_rect_jj'\n",
    "eig_qb.setup.junctions.jj.line = 'JJ_Lj_Q1_rect_jj_'\n",
    "eig_qb.setup"
   ]
  },
  {
   "cell_type": "markdown",
   "metadata": {},
   "source": [
    "We will now run epr as a single step. On screen you will observe various information in this order:\n",
    "* stored energy = Electric and magnetic energy stored in the substrate and the system as a whole.\n",
    "* EPR analysis results for all modes/variations.\n",
    "* Spectrum analysis.\n",
    "* Hamiltonian report."
   ]
  },
  {
   "cell_type": "code",
   "execution_count": 26,
   "metadata": {
    "ExecuteTime": {
     "end_time": "2023-07-05T20:17:02.270151600Z",
     "start_time": "2023-07-05T20:17:02.132191200Z"
    }
   },
   "outputs": [
    {
     "ename": "AssertionError",
     "evalue": "pyEPR ProjectInfo user error found 😷:\n                    Seems like for junction `jj` you specified a rect that does not exist\n                    in HFSS by the name: `JJ_rect_Lj_Q1_rect_jj` ",
     "output_type": "error",
     "traceback": [
      "\u001B[1;31m---------------------------------------------------------------------------\u001B[0m",
      "\u001B[1;31mAssertionError\u001B[0m                            Traceback (most recent call last)",
      "Cell \u001B[1;32mIn[26], line 1\u001B[0m\n\u001B[1;32m----> 1\u001B[0m \u001B[43meig_qb\u001B[49m\u001B[38;5;241;43m.\u001B[39;49m\u001B[43mrun_epr\u001B[49m\u001B[43m(\u001B[49m\u001B[43m)\u001B[49m\n\u001B[0;32m      3\u001B[0m \u001B[38;5;66;03m#### equivalent individual calls\u001B[39;00m\n\u001B[0;32m      4\u001B[0m \u001B[38;5;66;03m# s = self.setup\u001B[39;00m\n\u001B[0;32m      5\u001B[0m \u001B[38;5;66;03m# self.epr_start()\u001B[39;00m\n\u001B[1;32m   (...)\u001B[0m\n\u001B[0;32m      8\u001B[0m \u001B[38;5;66;03m# eig_qb.spectrum_analysis(s.cos_trunc, s.fock_trunc)\u001B[39;00m\n\u001B[0;32m      9\u001B[0m \u001B[38;5;66;03m# eig_qb.report_hamiltonian(s.swp_variable)\u001B[39;00m\n",
      "File \u001B[1;32m~\\Documents\\GitHub\\qiskit-metal\\qiskit_metal\\analyses\\quantization\\energy_participation_ratio.py:170\u001B[0m, in \u001B[0;36mEPRanalysis.run_epr\u001B[1;34m(self, no_junctions)\u001B[0m\n\u001B[0;32m    167\u001B[0m \u001B[38;5;66;03m# wipe data from the previous run (if any)\u001B[39;00m\n\u001B[0;32m    168\u001B[0m \u001B[38;5;28mself\u001B[39m\u001B[38;5;241m.\u001B[39mclear_data()\n\u001B[1;32m--> 170\u001B[0m \u001B[38;5;28;43mself\u001B[39;49m\u001B[38;5;241;43m.\u001B[39;49m\u001B[43mget_stored_energy\u001B[49m\u001B[43m(\u001B[49m\u001B[43mno_junctions\u001B[49m\u001B[43m)\u001B[49m\n\u001B[0;32m    171\u001B[0m \u001B[38;5;28;01mif\u001B[39;00m \u001B[38;5;129;01mnot\u001B[39;00m no_junctions:\n\u001B[0;32m    172\u001B[0m     \u001B[38;5;28mself\u001B[39m\u001B[38;5;241m.\u001B[39mrun_analysis()\n",
      "File \u001B[1;32m~\\Documents\\GitHub\\qiskit-metal\\qiskit_metal\\analyses\\quantization\\energy_participation_ratio.py:203\u001B[0m, in \u001B[0;36mEPRanalysis.get_stored_energy\u001B[1;34m(self, no_junctions)\u001B[0m\n\u001B[0;32m    199\u001B[0m \u001B[38;5;250m\u001B[39m\u001B[38;5;124;03m\"\"\"Calculate the energy stored in the system based on the eigenmode results.\u001B[39;00m\n\u001B[0;32m    200\u001B[0m \u001B[38;5;124;03m\"\"\"\u001B[39;00m\n\u001B[0;32m    201\u001B[0m \u001B[38;5;66;03m# execute EPR and energy extraction\u001B[39;00m\n\u001B[0;32m    202\u001B[0m \u001B[38;5;28mself\u001B[39m\u001B[38;5;241m.\u001B[39menergy_elec, \u001B[38;5;28mself\u001B[39m\u001B[38;5;241m.\u001B[39menergy_elec_sub, \u001B[38;5;28mself\u001B[39m\u001B[38;5;241m.\u001B[39menergy_mag \u001B[38;5;241m=\u001B[39m \\\n\u001B[1;32m--> 203\u001B[0m     \u001B[38;5;28mself\u001B[39m\u001B[38;5;241m.\u001B[39msim\u001B[38;5;241m.\u001B[39mrenderer\u001B[38;5;241m.\u001B[39mepr_get_stored_energy(\u001B[38;5;241m*\u001B[39m\u001B[38;5;241m*\u001B[39m\u001B[38;5;28;43mself\u001B[39;49m\u001B[38;5;241;43m.\u001B[39;49m\u001B[43mepr_start\u001B[49m\u001B[43m(\u001B[49m\u001B[43mno_junctions\u001B[49m\u001B[43m)\u001B[49m)\n\u001B[0;32m    205\u001B[0m \u001B[38;5;66;03m# present a human-friendly output\u001B[39;00m\n\u001B[0;32m    206\u001B[0m \u001B[38;5;28mprint\u001B[39m(\u001B[38;5;124mf\u001B[39m\u001B[38;5;124m\"\"\"\u001B[39m\n\u001B[0;32m    207\u001B[0m \u001B[38;5;124menergy_elec_all       = \u001B[39m\u001B[38;5;132;01m{\u001B[39;00m\u001B[38;5;28mself\u001B[39m\u001B[38;5;241m.\u001B[39menergy_elec\u001B[38;5;132;01m}\u001B[39;00m\n\u001B[0;32m    208\u001B[0m \u001B[38;5;124menergy_elec_substrate = \u001B[39m\u001B[38;5;132;01m{\u001B[39;00m\u001B[38;5;28mself\u001B[39m\u001B[38;5;241m.\u001B[39menergy_elec_sub\u001B[38;5;132;01m}\u001B[39;00m\n\u001B[1;32m   (...)\u001B[0m\n\u001B[0;32m    212\u001B[0m \u001B[38;5;124menergy_mag % of energy_elec_all  = \u001B[39m\u001B[38;5;132;01m{\u001B[39;00m\u001B[38;5;28mself\u001B[39m\u001B[38;5;241m.\u001B[39menergy_mag\u001B[38;5;250m \u001B[39m\u001B[38;5;241m/\u001B[39m\u001B[38;5;250m \u001B[39m\u001B[38;5;28mself\u001B[39m\u001B[38;5;241m.\u001B[39menergy_elec\u001B[38;5;250m \u001B[39m\u001B[38;5;241m*\u001B[39m\u001B[38;5;250m \u001B[39m\u001B[38;5;241m100\u001B[39m\u001B[38;5;250m \u001B[39m\u001B[38;5;132;01m:\u001B[39;00m\u001B[38;5;124m.1f\u001B[39m\u001B[38;5;132;01m}\u001B[39;00m\u001B[38;5;124m%\u001B[39m\n\u001B[0;32m    213\u001B[0m \u001B[38;5;124m\u001B[39m\u001B[38;5;124m\"\"\"\u001B[39m)\n",
      "File \u001B[1;32m~\\Documents\\GitHub\\qiskit-metal\\qiskit_metal\\analyses\\quantization\\energy_participation_ratio.py:195\u001B[0m, in \u001B[0;36mEPRanalysis.epr_start\u001B[1;34m(self, no_junctions)\u001B[0m\n\u001B[0;32m    191\u001B[0m system[\u001B[38;5;124m'\u001B[39m\u001B[38;5;124mjunctions\u001B[39m\u001B[38;5;124m'\u001B[39m] \u001B[38;5;241m=\u001B[39m {} \u001B[38;5;28;01mif\u001B[39;00m no_junctions \u001B[38;5;28;01melse\u001B[39;00m {\n\u001B[0;32m    192\u001B[0m     k: \u001B[38;5;28mdict\u001B[39m(v) \u001B[38;5;28;01mfor\u001B[39;00m (k, v) \u001B[38;5;129;01min\u001B[39;00m s\u001B[38;5;241m.\u001B[39mjunctions\u001B[38;5;241m.\u001B[39mitems()\n\u001B[0;32m    193\u001B[0m }\n\u001B[0;32m    194\u001B[0m system[\u001B[38;5;124m'\u001B[39m\u001B[38;5;124mdissipatives\u001B[39m\u001B[38;5;124m'\u001B[39m] \u001B[38;5;241m=\u001B[39m \u001B[38;5;28mdict\u001B[39m(s\u001B[38;5;241m.\u001B[39mdissipatives)\n\u001B[1;32m--> 195\u001B[0m \u001B[38;5;28;43mself\u001B[39;49m\u001B[38;5;241;43m.\u001B[39;49m\u001B[43msim\u001B[49m\u001B[38;5;241;43m.\u001B[39;49m\u001B[43mrenderer\u001B[49m\u001B[38;5;241;43m.\u001B[39;49m\u001B[43mepr_start\u001B[49m\u001B[43m(\u001B[49m\u001B[38;5;241;43m*\u001B[39;49m\u001B[38;5;241;43m*\u001B[39;49m\u001B[43msystem\u001B[49m\u001B[43m)\u001B[49m\n\u001B[0;32m    196\u001B[0m \u001B[38;5;28;01mreturn\u001B[39;00m system\n",
      "File \u001B[1;32m~\\Documents\\GitHub\\qiskit-metal\\qiskit_metal\\renderers\\renderer_ansys\\ansys_renderer.py:1705\u001B[0m, in \u001B[0;36mQAnsysRenderer.epr_start\u001B[1;34m(self, junctions, dissipatives)\u001B[0m\n\u001B[0;32m   1703\u001B[0m         \u001B[38;5;28mself\u001B[39m\u001B[38;5;241m.\u001B[39mpinfo\u001B[38;5;241m.\u001B[39mjunctions[k] \u001B[38;5;241m=\u001B[39m v\n\u001B[0;32m   1704\u001B[0m     \u001B[38;5;66;03m# Check that valid names of variables and objects have been supplied\u001B[39;00m\n\u001B[1;32m-> 1705\u001B[0m     \u001B[38;5;28;43mself\u001B[39;49m\u001B[38;5;241;43m.\u001B[39;49m\u001B[43mpinfo\u001B[49m\u001B[38;5;241;43m.\u001B[39;49m\u001B[43mvalidate_junction_info\u001B[49m\u001B[43m(\u001B[49m\u001B[43m)\u001B[49m\n\u001B[0;32m   1706\u001B[0m \u001B[38;5;28;01mif\u001B[39;00m dissipatives:\n\u001B[0;32m   1707\u001B[0m     \u001B[38;5;28;01mfor\u001B[39;00m k, v \u001B[38;5;129;01min\u001B[39;00m dissipatives\u001B[38;5;241m.\u001B[39mitems():\n",
      "File \u001B[1;32m~\\anaconda3\\envs\\qiskit-metal\\Lib\\site-packages\\pyEPR\\project_info.py:481\u001B[0m, in \u001B[0;36mProjectInfo.validate_junction_info\u001B[1;34m(self)\u001B[0m\n\u001B[0;32m    473\u001B[0m \u001B[38;5;28;01massert\u001B[39;00m jj[\u001B[38;5;124m'\u001B[39m\u001B[38;5;124mLj_variable\u001B[39m\u001B[38;5;124m'\u001B[39m] \u001B[38;5;129;01min\u001B[39;00m all_variables_names,\\\n\u001B[0;32m    474\u001B[0m \u001B[38;5;250m    \u001B[39m\u001B[38;5;124;03m\"\"\"pyEPR ProjectInfo user error found \\N{face with medical mask}:\u001B[39;00m\n\u001B[0;32m    475\u001B[0m \u001B[38;5;124;03m    Seems like for junction `%s` you specified a design or project\u001B[39;00m\n\u001B[0;32m    476\u001B[0m \u001B[38;5;124;03m    variable for `Lj_variable` that does not exist in HFSS by the name:\u001B[39;00m\n\u001B[0;32m    477\u001B[0m \u001B[38;5;124;03m     `%s` \"\"\"\u001B[39;00m \u001B[38;5;241m%\u001B[39m (jjnm, jj[\u001B[38;5;124m'\u001B[39m\u001B[38;5;124mLj_variable\u001B[39m\u001B[38;5;124m'\u001B[39m])\n\u001B[0;32m    479\u001B[0m \u001B[38;5;28;01mfor\u001B[39;00m name \u001B[38;5;129;01min\u001B[39;00m [\u001B[38;5;124m'\u001B[39m\u001B[38;5;124mrect\u001B[39m\u001B[38;5;124m'\u001B[39m, \u001B[38;5;124m'\u001B[39m\u001B[38;5;124mline\u001B[39m\u001B[38;5;124m'\u001B[39m]:\n\u001B[1;32m--> 481\u001B[0m     \u001B[38;5;28;01massert\u001B[39;00m jj[name] \u001B[38;5;129;01min\u001B[39;00m all_object_names, \\\n\u001B[0;32m    482\u001B[0m \u001B[38;5;250m        \u001B[39m\u001B[38;5;124;03m\"\"\"pyEPR ProjectInfo user error found \\N{face with medical mask}:\u001B[39;00m\n\u001B[0;32m    483\u001B[0m \u001B[38;5;124;03m        Seems like for junction `%s` you specified a %s that does not exist\u001B[39;00m\n\u001B[0;32m    484\u001B[0m \u001B[38;5;124;03m        in HFSS by the name: `%s` \"\"\"\u001B[39;00m \u001B[38;5;241m%\u001B[39m (jjnm, name, jj[name])\n",
      "\u001B[1;31mAssertionError\u001B[0m: pyEPR ProjectInfo user error found 😷:\n                    Seems like for junction `jj` you specified a rect that does not exist\n                    in HFSS by the name: `JJ_rect_Lj_Q1_rect_jj` "
     ]
    }
   ],
   "source": [
    "eig_qb.run_epr()\n",
    "\n",
    "#### equivalent individual calls\n",
    "# s = self.setup\n",
    "# self.epr_start()\n",
    "# eig_qb.get_stored_energy()\n",
    "# eig_qb.run_analysis()\n",
    "# eig_qb.spectrum_analysis(s.cos_trunc, s.fock_trunc)\n",
    "# eig_qb.report_hamiltonian(s.swp_variable)"
   ]
  },
  {
   "cell_type": "markdown",
   "metadata": {},
   "source": [
    "# 2. Analyze the CPW resonator by itself\n",
    "### Update the design in Metal\n",
    "Connect the transmon to a CPW. <br>\n",
    "The other end of the CPW connects to an open to ground termination."
   ]
  },
  {
   "cell_type": "code",
   "execution_count": null,
   "metadata": {
    "ExecuteTime": {
     "end_time": "2023-07-05T19:51:08.064733Z",
     "start_time": "2023-07-05T19:51:08.064733Z"
    }
   },
   "outputs": [],
   "source": [
    "from qiskit_metal.qlibrary.terminations.open_to_ground import OpenToGround\n",
    "from qiskit_metal.qlibrary.tlines.meandered import RouteMeander\n",
    "otg = OpenToGround(design, 'open_to_ground', options=dict(pos_x='1.75mm',  pos_y='0um', orientation='0'))\n",
    "RouteMeander(design, 'readout',  Dict(\n",
    "        total_length='6 mm',\n",
    "        hfss_wire_bonds = True,\n",
    "        fillet='90 um',\n",
    "        lead = dict(start_straight='100um'),\n",
    "        pin_inputs=Dict(\n",
    "            start_pin=Dict(component='Q1', pin='readout'),\n",
    "            end_pin=Dict(component='open_to_ground', pin='open')), ))\n",
    "\n",
    "gui.rebuild()\n",
    "gui.autoscale()"
   ]
  },
  {
   "cell_type": "markdown",
   "metadata": {},
   "source": [
    "### Finite Element Eigenmode Analysis\n",
    "\n",
    "#### Setup\n",
    "\n",
    "Create a separate analysis object, dedicated to the readout. This allows to retain the Qubit session active, in case we will later need to tweak the design and repeat the simulation. When different renderers are available you could even consider using different more appopriate ones for each simulation steps of this notebook, but for now we will be using the same one."
   ]
  },
  {
   "cell_type": "code",
   "execution_count": null,
   "metadata": {
    "ExecuteTime": {
     "end_time": "2023-07-05T19:51:08.463764Z",
     "start_time": "2023-07-05T19:51:08.463764Z"
    }
   },
   "outputs": [],
   "source": [
    "eig_rd = EPRanalysis(design, \"hfss\")"
   ]
  },
  {
   "cell_type": "markdown",
   "metadata": {},
   "source": [
    "For the resonator analysis we will use the default setup. Youn can feel free to edit it the same way we did in section 1.\n",
    "\n",
    "#### Execute simulation and verify convergence and EM field\n",
    "Analyze the readout in isolation. Select the readout and terminate it with an open on both ends. Note that we are selecting for this analysis both the `readout` component and the `open_to_ground` component. The `open_to_ground` compoent might feel redundant because we are specifying in that open in the `open_terminations`, and the end converging reult is indeed the same. however the `open_to_ground` appears to help the system to ceonverge faster, so we keep it in there."
   ]
  },
  {
   "cell_type": "code",
   "execution_count": null,
   "metadata": {
    "ExecuteTime": {
     "end_time": "2023-07-05T19:51:08.863365Z",
     "start_time": "2023-07-05T19:51:08.863365Z"
    }
   },
   "outputs": [],
   "source": [
    "eig_rd.sim.run(name=\"Readout\",\n",
    "               components=['readout', 'open_to_ground'],\n",
    "               open_terminations=[('readout', 'start'), ('readout', 'end')])\n",
    "eig_rd.sim.plot_convergences()"
   ]
  },
  {
   "cell_type": "code",
   "execution_count": null,
   "metadata": {
    "ExecuteTime": {
     "end_time": "2023-07-05T19:51:09.055418Z",
     "start_time": "2023-07-05T19:51:09.055418Z"
    }
   },
   "outputs": [],
   "source": [
    "eig_rd.sim.save_screenshot()  # optional"
   ]
  },
  {
   "cell_type": "markdown",
   "metadata": {},
   "source": [
    "Recover eigenmode frequencies for each variation."
   ]
  },
  {
   "cell_type": "code",
   "execution_count": null,
   "metadata": {
    "ExecuteTime": {
     "end_time": "2023-07-05T19:51:09.455826Z",
     "start_time": "2023-07-05T19:51:09.455826Z"
    }
   },
   "outputs": [],
   "source": [
    "eig_rd.get_frequencies()"
   ]
  },
  {
   "cell_type": "markdown",
   "metadata": {},
   "source": [
    "Display the Ansys modeler window and plot the E-field on the chip's surface."
   ]
  },
  {
   "cell_type": "code",
   "execution_count": null,
   "metadata": {
    "ExecuteTime": {
     "end_time": "2023-07-05T19:51:09.846801Z",
     "start_time": "2023-07-05T19:51:09.846801Z"
    }
   },
   "outputs": [],
   "source": [
    "eig_rd.sim.plot_fields('main')\n",
    "eig_rd.sim.save_screenshot()"
   ]
  },
  {
   "cell_type": "markdown",
   "metadata": {},
   "source": [
    "#### Refine\n",
    "\n",
    "If convergence is not complete, or the EM field is unclear, update the number of passes and re-run the flow (below repeated for convenience)"
   ]
  },
  {
   "cell_type": "code",
   "execution_count": null,
   "metadata": {
    "ExecuteTime": {
     "end_time": "2023-07-05T19:51:10.255642Z",
     "start_time": "2023-07-05T19:51:10.255642Z"
    }
   },
   "outputs": [],
   "source": [
    "eig_rd.sim.setup.max_passes = 15   # update single setting\n",
    "eig_rd.sim.run()\n",
    "eig_rd.sim.plot_convergences()"
   ]
  },
  {
   "cell_type": "markdown",
   "metadata": {},
   "source": [
    "Display the Ansys modeler window again and plot the E-field on the chip's surface with this updated number of passes. <br>\n",
    "Note that the bright areas have become much smoother compared to the previous image, indicating better convergence."
   ]
  },
  {
   "cell_type": "code",
   "execution_count": null,
   "metadata": {
    "ExecuteTime": {
     "end_time": "2023-07-05T19:51:10.792237Z",
     "start_time": "2023-07-05T19:51:10.792237Z"
    }
   },
   "outputs": [],
   "source": [
    "eig_rd.sim.plot_fields('main')\n",
    "eig_rd.sim.save_screenshot()"
   ]
  },
  {
   "cell_type": "markdown",
   "metadata": {},
   "source": [
    "### EPR Analysis\n",
    "Find the electric and magnetic energy stored in the readout system."
   ]
  },
  {
   "cell_type": "code",
   "execution_count": null,
   "metadata": {
    "ExecuteTime": {
     "end_time": "2023-07-05T19:51:11.424778Z",
     "start_time": "2023-07-05T19:51:11.424778Z"
    }
   },
   "outputs": [],
   "source": [
    "eig_rd.run_epr(no_junctions = True)"
   ]
  },
  {
   "cell_type": "markdown",
   "metadata": {},
   "source": [
    "# 3. Analyze the combined transmon + CPW resonator system\n",
    "\n",
    "### Finite Element Eigenmode Analysis\n",
    "\n",
    "#### Setup\n",
    "\n",
    "Create a separate analysis object for the combined qbit+readout."
   ]
  },
  {
   "cell_type": "code",
   "execution_count": null,
   "metadata": {},
   "outputs": [],
   "source": [
    "eig_qres = EPRanalysis(design, \"hfss\")"
   ]
  },
  {
   "cell_type": "markdown",
   "metadata": {},
   "source": [
    "For the resonator analysis we look for 2 eigenmodes - one with stronger fields near the transmon, the other with stronger fields near the resonator. Therefore let's update the setup accordingly."
   ]
  },
  {
   "cell_type": "code",
   "execution_count": null,
   "metadata": {},
   "outputs": [],
   "source": [
    "eig_qres.sim.setup.n_modes = 2\n",
    "eig_qres.sim.setup"
   ]
  },
  {
   "cell_type": "markdown",
   "metadata": {},
   "source": [
    "#### Execute simulation and verify convergence and EM field\n",
    "Analyze the qubit+readout. Select the qubit and the readout, then finalize with open termination on the other pins."
   ]
  },
  {
   "cell_type": "code",
   "execution_count": null,
   "metadata": {},
   "outputs": [],
   "source": [
    "eig_qres.sim.run(name=\"TransmonResonator\",\n",
    "                 components=['Q1', 'readout', 'open_to_ground'],\n",
    "                 open_terminations=[('readout', 'end')])\n",
    "eig_qres.sim.plot_convergences()"
   ]
  },
  {
   "cell_type": "code",
   "execution_count": null,
   "metadata": {},
   "outputs": [],
   "source": [
    "eig_qres.sim.save_screenshot()  # optional"
   ]
  },
  {
   "cell_type": "markdown",
   "metadata": {},
   "source": [
    "Display the Ansys modeler window again and plot the E-field on the chip's surface. you can select which of the two modes to visualize."
   ]
  },
  {
   "cell_type": "code",
   "execution_count": null,
   "metadata": {},
   "outputs": [],
   "source": [
    "eig_qres.sim.plot_fields('main', eigenmode=1)\n",
    "eig_qres.sim.save_screenshot()"
   ]
  },
  {
   "cell_type": "markdown",
   "metadata": {},
   "source": [
    "### EPR Analysis"
   ]
  },
  {
   "cell_type": "markdown",
   "metadata": {},
   "source": [
    "Similarly to section 1, we need to pass to the renderer the names of the shapes that identify the junction (`rect` and `line`). These should be the same as in section 1, or you can look again for those in the renderer."
   ]
  },
  {
   "cell_type": "code",
   "execution_count": null,
   "metadata": {},
   "outputs": [],
   "source": [
    "eig_qres.setup.junctions.jj.rect = 'JJ_rect_Lj_Q1_rect_jj'\n",
    "eig_qres.setup.junctions.jj.line = 'JJ_Lj_Q1_rect_jj_'\n",
    "eig_qres.setup"
   ]
  },
  {
   "cell_type": "markdown",
   "metadata": {},
   "source": [
    "We will now run epr as a single step. On screen you will observe various information in this order:\n",
    "* stored energy = Electric and magnetic energy stored in the substrate and the system as a whole.\n",
    "* EPR analysis results for all modes/variations.\n",
    "* Spectrum analysis.\n",
    "* Hamiltonian report."
   ]
  },
  {
   "cell_type": "code",
   "execution_count": null,
   "metadata": {},
   "outputs": [],
   "source": [
    "eig_qres.run_epr()"
   ]
  },
  {
   "cell_type": "markdown",
   "metadata": {},
   "source": [
    "Once you are sure you are done with the qubit analysis, please explicitly release the Ansys session to allow for a smooth close of the external tool."
   ]
  },
  {
   "cell_type": "code",
   "execution_count": null,
   "metadata": {},
   "outputs": [],
   "source": [
    "eig_qb.sim.close()"
   ]
  },
  {
   "cell_type": "code",
   "execution_count": null,
   "metadata": {},
   "outputs": [],
   "source": [
    "eig_rd.sim.close()"
   ]
  },
  {
   "cell_type": "code",
   "execution_count": null,
   "metadata": {},
   "outputs": [],
   "source": [
    "eig_qres.sim.close()"
   ]
  },
  {
   "cell_type": "markdown",
   "metadata": {},
   "source": [
    "# 4. Analyze a coupled 2-transmon system\n",
    "### Create the design\n",
    "\n",
    "This is a different system than the one analyzed in sections 1,2,3. Therefore, let's start by deleting the design currntly in the Qiskit Metal GUI (if any)."
   ]
  },
  {
   "cell_type": "code",
   "execution_count": null,
   "metadata": {},
   "outputs": [],
   "source": [
    "design.delete_all_components()"
   ]
  },
  {
   "cell_type": "markdown",
   "metadata": {},
   "source": [
    "Next, we create the `TwoTransmon` design, consisting of 2 transmons connected by a short coupler."
   ]
  },
  {
   "cell_type": "code",
   "execution_count": null,
   "metadata": {},
   "outputs": [],
   "source": [
    "from qiskit_metal.qlibrary.qubits.transmon_pocket import TransmonPocket\n",
    "from qiskit_metal.qlibrary.tlines.straight_path import RouteStraight\n",
    "\n",
    "q1 = TransmonPocket(design, 'Q1', options = dict(\n",
    "    pad_width = '425 um', \n",
    "    pocket_height = '650um',\n",
    "    connection_pads=dict(\n",
    "        readout = dict(loc_W=+1,loc_H=+1, pad_width='200um')\n",
    "    )))\n",
    "\n",
    "q2 = TransmonPocket(design, 'Q2', options = dict(\n",
    "    pos_x = '1.0 mm',\n",
    "    pad_width = '425 um', \n",
    "    pocket_height = '650um',\n",
    "    connection_pads=dict(\n",
    "        readout = dict(loc_W=-1,loc_H=+1, pad_width='200um')\n",
    "    )))\n",
    "\n",
    "coupler = RouteStraight(design, 'coupler', Dict(hfss_wire_bonds = True,\n",
    "        pin_inputs=Dict(\n",
    "            start_pin=Dict(component='Q1', pin='readout'),\n",
    "            end_pin=Dict(component='Q2', pin='readout')), ))\n",
    "\n",
    "gui.rebuild()\n",
    "gui.autoscale()"
   ]
  },
  {
   "cell_type": "markdown",
   "metadata": {},
   "source": [
    "Let's observe the current table describing the junctions in the qiskit metal design"
   ]
  },
  {
   "cell_type": "code",
   "execution_count": null,
   "metadata": {},
   "outputs": [],
   "source": [
    "design.qgeometry.tables['junction']"
   ]
  },
  {
   "cell_type": "markdown",
   "metadata": {},
   "source": [
    "You can observe in the table above that every junction has been assigned a default inductance, capacitance and resistance values, based on the originating component class `default_options`. In this example we intend to replace those values with a variable name, which will later be set directly in the renderer. Therefore, let's proceed with updating these values in the qubit instances, and then propagate the update to the table with a `rebuild()`.\n",
    "After executing the cell below, you can observe the change by re-executing the cell above."
   ]
  },
  {
   "cell_type": "code",
   "execution_count": null,
   "metadata": {},
   "outputs": [],
   "source": [
    "# TODO: fold this inside either an analysis class method, or inside the analysis class setup\n",
    "\n",
    "qcomps = design.components  # short handle (alias)\n",
    "qcomps['Q1'].options['hfss_inductance'] = 'Lj1'\n",
    "qcomps['Q1'].options['hfss_capacitance'] = 'Cj1'\n",
    "qcomps['Q2'].options['hfss_inductance'] = 'Lj2'\n",
    "qcomps['Q2'].options['hfss_capacitance'] = 'Cj2'\n",
    "gui.rebuild()  # line needed to propagate the updates from the qubit instance into the junction design table\n",
    "gui.autoscale()"
   ]
  },
  {
   "cell_type": "markdown",
   "metadata": {},
   "source": [
    "### Finite Element Eigenmode Analysis\n",
    "\n",
    "#### Setup\n",
    "\n",
    "Let's start the analysis by creating the appropriate analysis object."
   ]
  },
  {
   "cell_type": "code",
   "execution_count": null,
   "metadata": {},
   "outputs": [],
   "source": [
    "from qiskit_metal.analyses.quantization import EPRanalysis\n",
    "eig_2qb = EPRanalysis(design, \"hfss\")"
   ]
  },
  {
   "cell_type": "markdown",
   "metadata": {},
   "source": [
    "Now let us update the setup of this analysis to reflect what we plan to do:\n",
    "* define the variables that we have assigned to the inductance and capacitance of the junctions;\n",
    "* increase accuracy of the convergence;\n",
    "* observe the eigenmode corresponding to both qubits."
   ]
  },
  {
   "cell_type": "code",
   "execution_count": null,
   "metadata": {},
   "outputs": [],
   "source": [
    "eig_2qb.sim.setup.max_passes = 15\n",
    "eig_2qb.sim.setup.max_delta_f = 0.05\n",
    "eig_2qb.sim.setup.n_modes = 2\n",
    "eig_2qb.sim.setup.vars = Dict(Lj1= '13 nH', Cj1= '0 fF',\n",
    "                           Lj2= '9 nH', Cj2= '0 fF')\n",
    "eig_2qb.sim.setup"
   ]
  },
  {
   "cell_type": "markdown",
   "metadata": {},
   "source": [
    "By default, the analysis will be done on all components that we will list in the `run_sim()` method, but the analysis needs to know how much of the ground plane around the qubit to consider. One could use the declared chip dimension by passing the parameter `bux_plus_buffer = False` to the `run_sim()` method. However, its default (when said parameter is omitted) is to consider the ground plane to be as big as the minimum enclosing rectangle plus a set buffer. The default buffer value is `200um`, while in the cell below we will increase as an example that buffer to `500um`."
   ]
  },
  {
   "cell_type": "code",
   "execution_count": null,
   "metadata": {},
   "outputs": [],
   "source": [
    "# TODO: fold this inside either an analysis class method, or inside the analysis class setup\n",
    "\n",
    "eig_2qb.sim.renderer.options['x_buffer_width_mm'] = 0.5\n",
    "eig_2qb.sim.renderer.options['y_buffer_width_mm'] = 0.5\n",
    "eig_2qb.sim.renderer.options"
   ]
  },
  {
   "cell_type": "markdown",
   "metadata": {},
   "source": [
    "Let's finally run the cap extraction simulation and observe the convergence."
   ]
  },
  {
   "cell_type": "code",
   "execution_count": null,
   "metadata": {},
   "outputs": [],
   "source": [
    "eig_2qb.sim.run(name=\"TwoTransmons\",\n",
    "                components=['coupler', 'Q1', 'Q2'])"
   ]
  },
  {
   "cell_type": "code",
   "execution_count": null,
   "metadata": {},
   "outputs": [],
   "source": [
    "eig_2qb.sim.plot_convergences()"
   ]
  },
  {
   "cell_type": "code",
   "execution_count": null,
   "metadata": {},
   "outputs": [],
   "source": [
    "eig_2qb.sim.save_screenshot()  # optional"
   ]
  },
  {
   "cell_type": "markdown",
   "metadata": {},
   "source": [
    "Display the Ansys modeler window again and plot the E-field on the chip's surface. Since we have analyzed 2 modes, you will need to select which mode to visualize. The default is mode 1, but the mode can inclusively be any integer between 1 and `setup.n_modes`."
   ]
  },
  {
   "cell_type": "code",
   "execution_count": null,
   "metadata": {},
   "outputs": [],
   "source": [
    "eig_2qb.sim.plot_fields('main', eigenmode=2)\n",
    "eig_2qb.sim.save_screenshot()"
   ]
  },
  {
   "cell_type": "markdown",
   "metadata": {},
   "source": [
    "### EPR Analysis\n",
    "#### Setup\n",
    "Identify the non-linear (Josephson) junctions in the model. in this case there are 2 junctions, which we will refer to as `jj1` and `jj2`. Also define the dissipative reference shapes. Remove the default junction and create the two."
   ]
  },
  {
   "cell_type": "code",
   "execution_count": null,
   "metadata": {},
   "outputs": [],
   "source": [
    "del eig_2qb.setup.junctions['jj']"
   ]
  },
  {
   "cell_type": "code",
   "execution_count": null,
   "metadata": {
    "scrolled": true
   },
   "outputs": [],
   "source": [
    "eig_2qb.setup.junctions.jj1 = Dict(rect='JJ_rect_Lj_Q1_rect_jj', line='JJ_Lj_Q1_rect_jj_',\n",
    "                  Lj_variable='Lj1', Cj_variable='Cj1')\n",
    "eig_2qb.setup.junctions.jj2 = Dict(rect='JJ_rect_Lj_Q2_rect_jj', line='JJ_Lj_Q2_rect_jj_',\n",
    "                  Lj_variable='Lj2', Cj_variable='Cj2')\n",
    "eig_2qb.setup.sweep_variable = 'Lj1'\n",
    "eig_2qb.setup"
   ]
  },
  {
   "cell_type": "markdown",
   "metadata": {},
   "source": [
    "Find the electric and magnetic energy stored in the substrate and the system as a whole."
   ]
  },
  {
   "cell_type": "code",
   "execution_count": null,
   "metadata": {},
   "outputs": [],
   "source": [
    "eig_2qb.run_epr()"
   ]
  },
  {
   "cell_type": "markdown",
   "metadata": {},
   "source": [
    "Release Ansys's session"
   ]
  },
  {
   "cell_type": "code",
   "execution_count": null,
   "metadata": {},
   "outputs": [],
   "source": [
    "eig_2qb.sim.close()"
   ]
  },
  {
   "cell_type": "markdown",
   "metadata": {},
   "source": [
    "(optional) **final wrap**: Close the gui by removing the # in the line below."
   ]
  },
  {
   "cell_type": "code",
   "execution_count": null,
   "metadata": {},
   "outputs": [],
   "source": [
    "# gui.main_window.close()"
   ]
  }
 ],
 "metadata": {
  "kernelspec": {
   "display_name": "Python 3 (ipykernel)",
   "language": "python",
   "name": "python3"
  },
  "language_info": {
   "codemirror_mode": {
    "name": "ipython",
    "version": 3
   },
   "file_extension": ".py",
   "mimetype": "text/x-python",
   "name": "python",
   "nbconvert_exporter": "python",
   "pygments_lexer": "ipython3",
   "version": "3.11.4"
  },
  "varInspector": {
   "cols": {
    "lenName": 16,
    "lenType": 16,
    "lenVar": 40
   },
   "kernels_config": {
    "python": {
     "delete_cmd_postfix": "",
     "delete_cmd_prefix": "del ",
     "library": "var_list.py",
     "varRefreshCmd": "print(var_dic_list())"
    },
    "r": {
     "delete_cmd_postfix": ") ",
     "delete_cmd_prefix": "rm(",
     "library": "var_list.r",
     "varRefreshCmd": "cat(var_dic_list()) "
    }
   },
   "types_to_exclude": [
    "module",
    "function",
    "builtin_function_or_method",
    "instance",
    "_Feature"
   ],
   "window_display": false
  }
 },
 "nbformat": 4,
 "nbformat_minor": 4
}

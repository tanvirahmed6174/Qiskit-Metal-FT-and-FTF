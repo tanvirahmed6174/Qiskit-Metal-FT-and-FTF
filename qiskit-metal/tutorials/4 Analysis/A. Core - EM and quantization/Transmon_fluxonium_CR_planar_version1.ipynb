{
 "cells": [
  {
   "cell_type": "code",
   "execution_count": 1,
   "metadata": {
    "ExecuteTime": {
     "end_time": "2023-08-31T04:36:47.399978Z",
     "start_time": "2023-08-31T04:36:47.362620Z"
    },
    "scrolled": true
   },
   "outputs": [],
   "source": [
    "%reload_ext autoreload\n",
    "%autoreload 2\n"
   ]
  },
  {
   "cell_type": "code",
   "execution_count": 6,
   "metadata": {
    "ExecuteTime": {
     "end_time": "2023-08-31T04:37:26.641318Z",
     "start_time": "2023-08-31T04:37:26.579601Z"
    },
    "scrolled": false
   },
   "outputs": [
    {
     "data": {
      "text/html": [
       "\n",
       "    <h1 style=\"\n",
       "        background: #12c2e9;  /* fallback for old browsers */\n",
       "        background: -webkit-linear-gradient(to right, #d4418e 0%, #0652c5 74%);  /* Chrome 10-25, Safari 5.1-6 */\n",
       "        background: linear-gradient(315deg, #d4418e 0%, #0652c5 74%); /* W3C, IE 10+/ Edge, Firefox 16+, Chrome 26+, Opera 12+, Safari 7+ */\n",
       "        margin-top: 50px;\n",
       "        border-style: outset;\n",
       "        padding-top:100px;\n",
       "        padding-bottom:50px;\n",
       "        padding-left:25px;\n",
       "        color: white;\n",
       "    \"> Good news: Qiskit Metal works fine! <h1>\n",
       "        "
      ],
      "text/plain": [
       "<IPython.core.display.HTML object>"
      ]
     },
     "metadata": {},
     "output_type": "display_data"
    }
   ],
   "source": [
    "\n",
    "import qiskit_metal as metal\n",
    "from qiskit_metal import designs, draw\n",
    "from qiskit_metal import MetalGUI, Dict, Headings\n",
    "import pyEPR as epr\n",
    "%metal_heading Good news: Qiskit Metal works fine!"
   ]
  },
  {
   "cell_type": "code",
   "execution_count": 7,
   "metadata": {
    "ExecuteTime": {
     "end_time": "2023-08-31T04:37:28.525113Z",
     "start_time": "2023-08-31T04:37:28.466834Z"
    },
    "scrolled": true
   },
   "outputs": [],
   "source": [
    "from qiskit_metal.qlibrary.qubits.transmon_pocket_cl import TransmonPocketCL\n",
    "\n",
    "from qiskit_metal.qlibrary.qubits.transmon_pocket_cl_fl import TransmonPocketCL_FL\n",
    "from qiskit_metal.qlibrary.qubits.transmon_cross_fl import TransmonCrossFL\n",
    "from qiskit_metal.qlibrary.qubits.transmon_cross_fl_cl import TransmonCrossFL_CL\n",
    "from qiskit_metal.qlibrary.qubits.transmon_cross import TransmonCross\n",
    "from qiskit_metal.qlibrary.couplers.tunable_coupler_01 import TunableCoupler01\n",
    "\n",
    "from qiskit_metal.qlibrary.tlines.meandered import RouteMeander\n",
    "from qiskit_metal.qlibrary.tlines.pathfinder import RoutePathfinder\n",
    "from qiskit_metal.qlibrary.tlines.anchored_path import RouteAnchors\n",
    "from qiskit_metal.qlibrary.tlines.straight_path import RouteStraight\n",
    "\n",
    "from qiskit_metal.qlibrary.terminations.open_to_ground import OpenToGround\n",
    "from qiskit_metal.qlibrary.terminations.short_to_ground import ShortToGround\n",
    "\n",
    "from qiskit_metal.qlibrary.lumped.cap_n_interdigital import CapNInterdigital\n",
    "from qiskit_metal.qlibrary.lumped.cap_3_interdigital import Cap3Interdigital\n",
    "from qiskit_metal.qlibrary.couplers.cap_n_interdigital_tee import CapNInterdigitalTee\n",
    "from qiskit_metal.qlibrary.couplers.coupled_line_tee import CoupledLineTee\n",
    "from qiskit_metal.qlibrary.couplers.coupled_line_tee import CoupledLineTee\n",
    "from qiskit_metal.qlibrary.terminations.launchpad_wb import LaunchpadWirebond\n",
    "from qiskit_metal.qlibrary.couplers.line_tee import LineTee\n",
    "#from qiskit_metal.qlibrary.terminations.launchpad_wb_simplecoupler import LaunchpadWirebondSimple\n",
    "#from qiskit_metal.qlibrary.terminations.launchpad_wb_coupled import LaunchpadWirebondCoupled\n",
    "\n",
    "from qiskit_metal.qlibrary.terminations.short_to_ground import ShortToGround\n",
    "import numpy as np\n",
    "from collections import OrderedDict\n",
    "\n",
    "from qiskit_metal.qlibrary.qubits.transmon_cross_ebru_temp import TransmonCross_ebru_temp\n",
    "\n",
    "from qiskit_metal.qlibrary.qubits.transmon_cross_fl_ebru_temp import TransmonCrossFL_ebru_temp\n",
    "from qiskit_metal.qlibrary.qubits.transmon_cross_fl_cl_ebru_temp import TransmonCrossFL_CL_ebru_temp\n"
   ]
  },
  {
   "cell_type": "code",
   "execution_count": 8,
   "metadata": {
    "ExecuteTime": {
     "end_time": "2023-08-31T04:37:30.834940Z",
     "start_time": "2023-08-31T04:37:30.218607Z"
    },
    "scrolled": true
   },
   "outputs": [],
   "source": [
    "design = metal.designs.DesignPlanar()\n",
    "\n",
    "design.chips.main.size['size_x'] = '5mm'\n",
    "design.chips.main.size['size_y'] = '5mm'\n",
    "design.chips.main.size['size_z'] = '-725um'\n",
    "gui = MetalGUI(design)"
   ]
  },
  {
   "cell_type": "markdown",
   "metadata": {},
   "source": [
    "# Resonator length estimate"
   ]
  },
  {
   "cell_type": "code",
   "execution_count": null,
   "metadata": {
    "ExecuteTime": {
     "end_time": "2023-08-31T03:40:37.011406Z",
     "start_time": "2023-08-31T03:40:36.961484Z"
    },
    "scrolled": true
   },
   "outputs": [],
   "source": [
    "from qiskit_metal.analyses.em.cpw_calculations import guided_wavelength\n",
    "\n",
    "def find_resonator_length(frequency, line_width, line_gap, N): \n",
    "    #frequency in GHz\n",
    "    #line_width/line_gap in um\n",
    "    #N -> 2 for lambda/2, 4 for lambda/4\n",
    "    \n",
    "    [lambdaG, etfSqrt, q] = guided_wavelength(frequency*10**9, line_width*10**-6,\n",
    "                                              line_gap*10**-6, 750*10**-6, 200*10**-9)\n",
    "    return str(lambdaG/N*10**3)+\" mm\"\n",
    "\n",
    "\n",
    "find_resonator_length(7, 10, 6, 2)"
   ]
  },
  {
   "cell_type": "code",
   "execution_count": 26,
   "metadata": {
    "ExecuteTime": {
     "end_time": "2023-08-31T06:06:25.968135Z",
     "start_time": "2023-08-31T06:06:25.013780Z"
    }
   },
   "outputs": [
    {
     "name": "stderr",
     "output_type": "stream",
     "text": [
      "02:06AM 25s INFO [make_connection_pad]: Warning: Did you mean to define a transmon wubit with loc_W and loc_H that are not +1 or -1?? Are you sure you want to do this?\n",
      "02:06AM 25s WARNING [check_lengths]: For path table, component=cpw_openLast, key=trace has short segments that could cause issues with fillet. Values in (1-2)  are index(es) in shapely geometry.\n",
      "02:06AM 25s WARNING [check_lengths]: For path table, component=cpw_openLast, key=cut has short segments that could cause issues with fillet. Values in (1-2)  are index(es) in shapely geometry.\n",
      "02:06AM 25s INFO [connect_meandered]: Zero meanders for read_q2_part2\n",
      "02:06AM 25s WARNING [check_lengths]: For path table, component=read_q2_part2, key=trace has short segments that could cause issues with fillet. Values in (1-2)  are index(es) in shapely geometry.\n",
      "02:06AM 25s WARNING [check_lengths]: For path table, component=read_q2_part2, key=cut has short segments that could cause issues with fillet. Values in (1-2)  are index(es) in shapely geometry.\n",
      "02:06AM 25s INFO [make_connection_pad]: Warning: Did you mean to define a transmon wubit with loc_W and loc_H that are not +1 or -1?? Are you sure you want to do this?\n"
     ]
    }
   ],
   "source": [
    "design.overwrite_enabled = True\n",
    "\n",
    "    \n",
    "from qiskit_metal.qlibrary.qubits.transmon_cross_fl import TransmonCrossFL\n",
    "from qiskit_metal.qlibrary.qubits.transmon_cross_fl_cl import TransmonCrossFL_CL\n",
    "from qiskit_metal.qlibrary.qubits.transmon_pocket_cl_fl import TransmonPocketCL_FL\n",
    "\n",
    "\n",
    "\n",
    "Q1 = TransmonPocketCL_FL(design, 'Q1', options = dict( pos_x = '-0.6mm', pos_y='-1.09mm', orientation='90',\n",
    "                                                            connection_pads=dict(\n",
    "                                    a = dict(pad_gap='20um', loc_W=1.2, loc_H=-1.5, pad_width='25um', cpw_extend = '50um'),\n",
    "                                    \n",
    "                                    #b = dict(loc_W=-1, loc_H=-1, pad_width='125um', cpw_extend = '50um', pad_height='60um'),\n",
    "                                    #c = dict(loc_W=+1, loc_H=+1, pad_width='110um', cpw_extend = '50um')\n",
    "    ),\n",
    "    pad_width='88um', pad_height='88um', pad_gap='140um', inductor_width='10um',\n",
    "    pocket_width='240um', pocket_height='500um', \n",
    "    cl_pocket_edge = '90',\n",
    "    cl_off_center = '0um',\n",
    "    cl_gap='3um', cl_width='5um',\n",
    "    cl_length='0um',))\n",
    "                                                      #fl_options = dict(t_shift='0um', t_offset='130um'),\n",
    "\n",
    "\n",
    "Q2 = TransmonCrossFL_CL_ebru_temp(design, 'Q2', options = dict(make_extra_rect=False, make_fl=False, pos_x = '-0.95mm', pos_y='-1.09mm', orientation=0, \n",
    "                                                     cross_length='128um', cross_width='36um', cross_gap='30um',\n",
    "                                                    \n",
    "                                                 connection_pads = dict(\n",
    "                                                     readout = dict(connector_location = '90', lead_gap='6um',\n",
    "                                                     claw_length='110um', claw_width='10um', ground_spacing='3um', \n",
    "                                                                    claw_gap='8um', lead_width='10um', lead_length='60um')),#claw_length ='115um', claw_width='25um', claw_gap='7um',ground_spacing='3um')),\n",
    "                                                 fl_options = dict(t_shift='-100um' , t_offset='0um', t_inductive_gap='4.5um', \n",
    "                                                                   t_top='10.5um', t_width='5um', t_gap='3um'),\n",
    "                                                 cl_options= dict(c_offset='30um', c_ground_gap='38um', c_width='5um', \n",
    "                                                                  c_gap='3um', translate_x='-20um', translate_y='-50um',  c_angle='270'),\n",
    "                                                 rect_options= dict(rect_width='40um', rect_length='8um')))\n",
    "\n",
    "\n",
    "gui.rebuild()\n",
    "gui.autoscale()"
   ]
  },
  {
   "cell_type": "markdown",
   "metadata": {},
   "source": [
    "# Fixing the qubit parameters for Xmon (Q2: Xmon transmon)"
   ]
  },
  {
   "cell_type": "markdown",
   "metadata": {},
   "source": [
    "This will be allowing us to get the Xmon parameters. Lj should be given according to the Ej we would like to achieve. Cj can be 0 or some small capacitance value - which can be estimated based on LL design guide and the aimed junction area. Eventually the pyepr run will give the frequency of the qubit mode and the anharmonicity, calculated both according to the perturbation theory and diagonalization. The perturbation theory anharmonicity is equal to Ec. \n",
    "So, Ej is given (hence Lj)\n",
    "Ec can be read from the PT anharmonicity of the pyepr.\n",
    "Frequencies resulting from PT and ND results should be really close to each other. \n",
    "\n",
    "Make sure that the HFSS simulations have converged nicely to trust the result. "
   ]
  },
  {
   "cell_type": "code",
   "execution_count": null,
   "metadata": {
    "ExecuteTime": {
     "end_time": "2023-08-31T03:41:10.494421Z",
     "start_time": "2023-08-31T03:41:10.253161Z"
    }
   },
   "outputs": [],
   "source": [
    "\n",
    "from qiskit_metal.analyses.quantization import EPRanalysis\n",
    "eig_qb2 = EPRanalysis(design, \"hfss\")\n",
    "\n",
    "eig_qb2.sim.setup.vars.Lj = '10.9 nH'\n",
    "eig_qb2.sim.setup.vars = Dict({'Lj': '10.9 nH', 'Cj': '3 fF'})\n",
    "gui.rebuild()\n",
    "gui.autoscale()"
   ]
  },
  {
   "cell_type": "code",
   "execution_count": null,
   "metadata": {
    "ExecuteTime": {
     "end_time": "2023-08-31T03:41:12.287107Z",
     "start_time": "2023-08-31T03:41:12.037171Z"
    }
   },
   "outputs": [],
   "source": [
    "design.qgeometry.tables['junction']\n",
    "qcomps=design.components\n",
    "qcomps['Q2'].options['hfss_inductance'] = 'Lj'\n",
    "qcomps['Q2'].options['hfss_capacitance'] = 'Cj'\n",
    "\n",
    "gui.rebuild()\n",
    "gui.autoscale()\n",
    "\n"
   ]
  },
  {
   "cell_type": "code",
   "execution_count": null,
   "metadata": {
    "ExecuteTime": {
     "end_time": "2023-08-31T03:41:14.784740Z",
     "start_time": "2023-08-31T03:41:14.549285Z"
    }
   },
   "outputs": [],
   "source": [
    "eig_qb2.sim.setup.max_passes = 16\n",
    "\n",
    "eig_qb2.sim.setup_update(max_delta_f = 0.5, min_freq_ghz = 1)\n",
    "eig_qb2.sim.setup.min_passes = 10\n",
    "eig_qb2.sim.setup.n_modes = 1\n",
    "\n",
    "gui.rebuild()\n",
    "gui.autoscale()\n",
    "\n"
   ]
  },
  {
   "cell_type": "code",
   "execution_count": null,
   "metadata": {
    "ExecuteTime": {
     "end_time": "2023-08-31T03:41:15.475422Z",
     "start_time": "2023-08-31T03:41:15.421150Z"
    }
   },
   "outputs": [],
   "source": [
    "eig_qb2.sim.renderer._options['max_mesh_length_jj'] = '3um'\n",
    "eig_qb2.sim.renderer._options['max_mesh_length_port'] = '3um'"
   ]
  },
  {
   "cell_type": "code",
   "execution_count": null,
   "metadata": {
    "ExecuteTime": {
     "end_time": "2023-08-28T20:06:28.224886Z",
     "start_time": "2023-08-28T20:04:17.812982Z"
    }
   },
   "outputs": [],
   "source": [
    "eig_qb2.sim.run(name=\"Xmon_only\", components=['Q2'], open_terminations=[], box_plus_buffer = False)\n",
    "eig_qb2.sim.plot_convergences()"
   ]
  },
  {
   "cell_type": "code",
   "execution_count": null,
   "metadata": {
    "ExecuteTime": {
     "end_time": "2023-08-28T20:07:12.777223Z",
     "start_time": "2023-08-28T20:07:09.036621Z"
    }
   },
   "outputs": [],
   "source": [
    "eig_qb2.setup.junctions.jj.rect = 'JJ_rect_Lj_Q2_rect_jj'\n",
    "eig_qb2.setup.junctions.jj.line = 'JJ_Lj_Q2_rect_jj_'\n",
    "eig_qb2.run_epr()"
   ]
  },
  {
   "cell_type": "markdown",
   "metadata": {},
   "source": [
    "# Fixing the Ec for the floating fluxonium (Q1: Fluxonium)"
   ]
  },
  {
   "cell_type": "markdown",
   "metadata": {},
   "source": [
    "The reason why we picked a floating fluxonium instead of a grounded one is: the grounded qubits have smaller pads that achieve the target capacitance, due to quite strong coupling to the ground. If the fluxonium is grounded -hence an X-onium :)- then the cross pad for the fluxonium is really small. For the fluxonium, we determine Ej and El ourselves and include them during the process of drawing the junction and the array on the GDS file. Pyepr will not work for the fluxonium directly, but if we pretend that this is a transmon and run the pyepr simulation, we can get the Ec just the same way as we did for the transmon. So for this case, we run the simulation pretending that it is a transmon and only get the Ec value for the fluxonium. So Lj given here is a random one and the frequencies thrown by the pyepr are completely nonsense. \n",
    "It might still be a good idea to give a more-or-less correct Cj although it shouldn't make a huge difference. \n"
   ]
  },
  {
   "cell_type": "code",
   "execution_count": null,
   "metadata": {
    "ExecuteTime": {
     "end_time": "2023-08-31T03:41:19.469987Z",
     "start_time": "2023-08-31T03:41:19.229102Z"
    }
   },
   "outputs": [],
   "source": [
    "from qiskit_metal.analyses.quantization import EPRanalysis\n",
    "eig_qb1 = EPRanalysis(design, \"hfss\")\n",
    "\n",
    "eig_qb1.sim.setup.vars.Lj = '10 nH'\n",
    "eig_qb1.sim.setup.vars = Dict({'Lj': '10 nH', 'Cj': '3 fF'})\n",
    "gui.rebuild()\n",
    "gui.autoscale()"
   ]
  },
  {
   "cell_type": "code",
   "execution_count": null,
   "metadata": {
    "ExecuteTime": {
     "end_time": "2023-08-31T03:41:21.055951Z",
     "start_time": "2023-08-31T03:41:20.821303Z"
    }
   },
   "outputs": [],
   "source": [
    "design.qgeometry.tables['junction']\n",
    "qcomps=design.components\n",
    "qcomps['Q1'].options['hfss_inductance'] = 'Lj'\n",
    "qcomps['Q1'].options['hfss_capacitance'] = 'Cj'\n",
    "\n",
    "gui.rebuild()\n",
    "gui.autoscale()\n"
   ]
  },
  {
   "cell_type": "code",
   "execution_count": null,
   "metadata": {
    "ExecuteTime": {
     "end_time": "2023-08-31T03:41:21.891200Z",
     "start_time": "2023-08-31T03:41:21.829168Z"
    }
   },
   "outputs": [],
   "source": [
    "eig_qb1.sim.setup.max_passes = 16\n",
    "eig_qb1.sim.setup_update(max_delta_f = 0.5, min_freq_ghz = 1)\n",
    "eig_qb1.sim.setup.min_passes = 10\n",
    "eig_qb1.sim.setup.n_modes = 1"
   ]
  },
  {
   "cell_type": "code",
   "execution_count": null,
   "metadata": {
    "ExecuteTime": {
     "end_time": "2023-08-31T03:41:23.023947Z",
     "start_time": "2023-08-31T03:41:22.957132Z"
    }
   },
   "outputs": [],
   "source": [
    "eig_qb1.sim.renderer._options['max_mesh_length_jj'] = '3um'\n",
    "eig_qb1.sim.renderer._options['max_mesh_length_port'] = '3um'"
   ]
  },
  {
   "cell_type": "code",
   "execution_count": null,
   "metadata": {
    "ExecuteTime": {
     "end_time": "2023-08-31T03:41:45.400942Z",
     "start_time": "2023-08-31T03:41:24.662145Z"
    }
   },
   "outputs": [],
   "source": [
    "eig_qb1.sim.run(name=\"fluxonium_only2\", components=['Q1'], open_terminations=[], box_plus_buffer = False)\n",
    "eig_qb1.sim.plot_convergences()"
   ]
  },
  {
   "cell_type": "code",
   "execution_count": null,
   "metadata": {
    "ExecuteTime": {
     "end_time": "2023-08-28T20:12:08.858622Z",
     "start_time": "2023-08-28T20:12:06.388241Z"
    }
   },
   "outputs": [],
   "source": [
    "eig_qb1.setup.junctions.jj.rect = 'JJ_rect_Lj_Q1_rect_jj'\n",
    "eig_qb1.setup.junctions.jj.line = 'JJ_Lj_Q1_rect_jj_'\n",
    "eig_qb1.run_epr()"
   ]
  },
  {
   "cell_type": "markdown",
   "metadata": {},
   "source": [
    "# Getting qubit-qubit coupling between the pocket fluxonium and the Xmon "
   ]
  },
  {
   "cell_type": "markdown",
   "metadata": {},
   "source": [
    "This is going to be directly calculated with capacitances simulation. We will run the system consisting of the transmon and the fluxonium together to get the Maxwell capacitance matrix. First we run the simulation in Q3D and get the capacitance matrix: \n"
   ]
  },
  {
   "cell_type": "code",
   "execution_count": null,
   "metadata": {
    "ExecuteTime": {
     "end_time": "2023-08-28T20:13:22.199234Z",
     "start_time": "2023-08-28T20:12:34.212305Z"
    },
    "scrolled": true
   },
   "outputs": [],
   "source": [
    "from qiskit_metal.analyses.quantization import LOManalysis\n",
    "c1 = LOManalysis(design, \"q3d\")\n",
    "\n",
    "# example: update single setting\n",
    "c1.sim.setup.max_passes = 10\n",
    "# example: update multiple settings\n",
    "c1.sim.setup_update(solution_order = 'Medium', auto_increase_solution_order = 'False')\n",
    "\n",
    "c1.sim.setup\n",
    "\n",
    "c1.sim.run(components=['Q1', 'Q2'], open_terminations=[])\n",
    "c1.sim.capacitance_matrix"
   ]
  },
  {
   "cell_type": "markdown",
   "metadata": {},
   "source": [
    "From the getJc script, selecting the option for the grounded transmon and fluxonium system and running the script will throw the Jc value between the two qubits in MHz. This is the capacitive coupling between the two qubits, when written in the Hamiltonian as Jc x n1 x n2."
   ]
  },
  {
   "cell_type": "markdown",
   "metadata": {},
   "source": [
    "# Launchpads and charge and flux lines"
   ]
  },
  {
   "cell_type": "code",
   "execution_count": 10,
   "metadata": {
    "ExecuteTime": {
     "end_time": "2023-08-31T04:37:43.458502Z",
     "start_time": "2023-08-31T04:37:42.786614Z"
    },
    "scrolled": true
   },
   "outputs": [
    {
     "name": "stderr",
     "output_type": "stream",
     "text": [
      "12:37AM 43s INFO [make_connection_pad]: Warning: Did you mean to define a transmon wubit with loc_W and loc_H that are not +1 or -1?? Are you sure you want to do this?\n"
     ]
    }
   ],
   "source": [
    "\n",
    "import numpy as np\n",
    "from collections import OrderedDict\n",
    "\n",
    "\n",
    "#LAUNCH CHARGE FOR Q2\n",
    "\n",
    "launch_chargeQ2_options = dict(trace_width= '5um', trace_gap='3um', pad_width='150um', pad_gap_y= '130um', \n",
    "                           pad_gap_x = '96um', pad_height='200um', \n",
    "                           taper_height='150um', \n",
    "                           pos_x='-2.954mm', pos_y='-1.8mm', orientation='0', lead_length='30um')\n",
    "lc2 = LaunchpadWirebond(design, 'Launch_ChargeQ2', options = launch_chargeQ2_options)\n",
    "#anchors1ch = OrderedDict()\n",
    "#anchors1ch[0] = np.array([1.78, 0.114])\n",
    "charge_line_Q2 = RoutePathfinder(design,'Charge_Line_2', options = dict(hfss_wire_bonds = True,\n",
    "                                            pin_inputs=Dict(\n",
    "                                                start_pin=Dict(\n",
    "                                                    component='Q2',\n",
    "                                                    pin='charge_line'),\n",
    "                                                end_pin=Dict(\n",
    "                                                    component='Launch_ChargeQ2',\n",
    "                                                    pin='tie')),\n",
    "                                            lead=Dict(\n",
    "                                                start_straight='175um',\n",
    "                                                end_straight = '100um',\n",
    "                                                #end_jogged_extension = jogs_end\n",
    "                                            ),\n",
    "                                            fillet = '60um',\n",
    "                                            trace_width = '5um',\n",
    "                                            trace_gap = '3um',\n",
    "                                            #anchors = anchors1ch\n",
    "                                            ))\n",
    "\n",
    "#LAUNCH 6 (not used for the moment)\n",
    "launch6 = dict(trace_width= '5um', trace_gap='3um', pad_width='150um', pad_gap_y= '130um', \n",
    "                             pad_gap_x = '96um', pad_height='200um', \n",
    "                           taper_height='150um',  pos_x='1.954', pos_y='0.60081mm', orientation='180', lead_length='30um')\n",
    "l6 = LaunchpadWirebond(design, 'Launch6', options = launch6)\n",
    "\n",
    "\n",
    "\n",
    "\n",
    "#LAUNCH FEED LEFT (for the transmission line)\n",
    "\n",
    "launch_feed_left = dict(pad_width='150um', pad_gap_y= '130um', \n",
    "                             pad_gap_x = '96um', pad_height='200um', \n",
    "                           taper_height='150um',  pos_x='-2.954mm', pos_y='1.8mm', orientation='0', lead_length='30um')\n",
    "\n",
    "lfl = LaunchpadWirebond(design, 'Launch_Feed_Left', options = launch_feed_left)\n",
    "\n",
    "\n",
    "\n",
    "launch_feed_right = dict(pad_width='150um', pad_gap_y= '130um', \n",
    "                             pad_gap_x = '96um', pad_height='200um', \n",
    "                           taper_height='150um',  pos_x='1.954mm', pos_y='1.80081mm', orientation='180', lead_length='30um')\n",
    "lfr = LaunchpadWirebond(design, 'Launch_Feed_Right', options = launch_feed_right)\n",
    "\n",
    "\n",
    "#LAUNCH 2(not used)\n",
    "\n",
    "launch2 = dict(trace_width= '10um',pad_width='150um', pad_gap_x= '96um', pad_gap_y= '130um', pad_height='200um', \n",
    "                           taper_height='150um',  pos_x='-2.954mm', pos_y='-0.6mm', orientation='0', lead_length='30um')\n",
    "l2 = LaunchpadWirebond(design, 'Launch2', options = launch2)\n",
    "\n",
    "#LAUNCH 3 (not used)\n",
    "launch3 = dict(trace_width= '10um', pad_width='150um', pad_gap_x= '96um', pad_gap_y= '130um', pad_height='200um', \n",
    "                           taper_height='150um',  pos_x='-2.954mm', pos_y='0.6mm', lead_length='30um', orientation='0')\n",
    "l3 = LaunchpadWirebond(design, 'Launch3', options = launch3)\n",
    "\n",
    "\n",
    "\n",
    "#LAUNCH FLUX FOR QUBIT 1\n",
    "launch_fluxQ1_options = dict(trace_width= '5um', trace_gap='3um', pad_width='150um', pad_gap_y= '130um', \n",
    "                             pad_gap_x = '96um', pad_height='200um', \n",
    "                           taper_height='150um',  pos_x='1.954mm', pos_y='-1.8mm', orientation='180', lead_length='30um')\n",
    "lf1 = LaunchpadWirebond(design, 'Launch_FluxQ1', options = launch_fluxQ1_options)\n",
    "# anchors2f = OrderedDict()\n",
    "# anchors2f[0] = np.array([1.2, 1.25])\n",
    "# anchors2f[1]=np.array([1.2, 0.5])\n",
    "flux_line_Q1 = RoutePathfinder(design,'Flux_Line_1', options = dict(hfss_wire_bonds = True,\n",
    "                                            pin_inputs=Dict(\n",
    "                                                start_pin=Dict(\n",
    "                                                    component='Q1',\n",
    "                                                    pin='flux_line'),\n",
    "                                                end_pin=Dict(\n",
    "                                                    component='Launch_FluxQ1',\n",
    "                                                    pin='tie')),\n",
    "                                            lead=Dict(\n",
    "                                                 #start_straight='175um',\n",
    "                                                 #end_straight = '100um',\n",
    "                                                #end_jogged_extension = jogs_end\n",
    "                                            ),\n",
    "                                            fillet = '20um',\n",
    "                                            trace_width = '5um',\n",
    "                                            trace_gap = '3um',\n",
    "                                            #anchors=anchors2f,\n",
    "                                            ))\n",
    "\n",
    "\n",
    "#LAUNCH CHARGE FOR Q1\n",
    "\n",
    "launch_chargeQ1_options = dict(trace_width= '5um', trace_gap='3um', pad_width='150um', pad_gap_y= '130um', \n",
    "                             pad_gap_x = '96um', pad_height='200um', \n",
    "                           taper_height='150um',  pos_x='1.954mm', pos_y='-0.59919mm', orientation='180', lead_length='30um')\n",
    "\n",
    "lc = LaunchpadWirebond(design, 'Launch_Charge_Q1', options = launch_chargeQ1_options)\n",
    "#anchors1ch = OrderedDict()\n",
    "#anchors1ch[0] = np.array([1.78, 0.114])\n",
    "charge_line_Q1 = RoutePathfinder(design,'Charge_Line_Q1', options = dict(hfss_wire_bonds = True,\n",
    "                                            pin_inputs=Dict(\n",
    "                                                start_pin=Dict(\n",
    "                                                    component='Q1',\n",
    "                                                    pin='Charge_Line'),\n",
    "                                                end_pin=Dict(\n",
    "                                                    component='Launch_Charge_Q1',\n",
    "                                                    pin='tie')),\n",
    "                                            lead=Dict(\n",
    "                                                start_straight='175um',\n",
    "                                                end_straight = '100um',\n",
    "                                                #end_jogged_extension = jogs_end\n",
    "                                            ),\n",
    "                                            fillet = '60um',\n",
    "                                            trace_width = '5um',\n",
    "                                            trace_gap = '3um',\n",
    "                                            #anchors = anchors1ch\n",
    "                                            ))\n",
    "\n",
    "gui.rebuild()    \n",
    "gui.autoscale()   \n",
    "\n",
    "\n",
    "\n"
   ]
  },
  {
   "cell_type": "markdown",
   "metadata": {},
   "source": [
    "# Feedline\n"
   ]
  },
  {
   "cell_type": "code",
   "execution_count": 11,
   "metadata": {
    "ExecuteTime": {
     "end_time": "2023-08-31T04:37:45.424488Z",
     "start_time": "2023-08-31T04:37:44.618682Z"
    },
    "scrolled": true
   },
   "outputs": [
    {
     "name": "stderr",
     "output_type": "stream",
     "text": [
      "12:37AM 44s WARNING [check_lengths]: For path table, component=cpw_openLast, key=trace has short segments that could cause issues with fillet. Values in (1-2)  are index(es) in shapely geometry.\n",
      "12:37AM 44s WARNING [check_lengths]: For path table, component=cpw_openLast, key=cut has short segments that could cause issues with fillet. Values in (1-2)  are index(es) in shapely geometry.\n",
      "12:37AM 44s INFO [make_connection_pad]: Warning: Did you mean to define a transmon wubit with loc_W and loc_H that are not +1 or -1?? Are you sure you want to do this?\n",
      "12:37AM 45s WARNING [check_lengths]: For path table, component=cpw_openLast, key=trace has short segments that could cause issues with fillet. Values in (1-2)  are index(es) in shapely geometry.\n",
      "12:37AM 45s WARNING [check_lengths]: For path table, component=cpw_openLast, key=cut has short segments that could cause issues with fillet. Values in (1-2)  are index(es) in shapely geometry.\n"
     ]
    }
   ],
   "source": [
    "\n",
    "\n",
    "\n",
    "\n",
    "Tf_q2 = CapNInterdigitalTee(design, 'Tf_q2', options=dict(pos_x='-2mm',\n",
    "                                             pos_y='1.8mm',\n",
    "                                            orientation=0, finger_count='16', finger_length='60um', cap_gap='3um', cap_width='6um', \n",
    "                                                 open_termination=False))\n",
    "\n",
    "\n",
    "#Tf_q1 = CapNInterdigitalTee(design, 'Tf_q1', options=dict(pos_x='1mm',\n",
    "#                                             pos_y='1.8mm',\n",
    " #                                           orientation=0, finger_count='12', finger_length='60um', cap_gap='3um', cap_width='6um', \n",
    " #                                                open_termination=False))\n",
    "# TQ1 = CoupledLineTee(design, 'TQ1', options=dict(pos_x='0.09mm',\n",
    "#                                              pos_y='1.8mm',\n",
    "#                                               coupling_length='400um', coupling_space='4um', open_termination=True))\n",
    "\n",
    "TQ1 = CapNInterdigitalTee(design, 'TQ1', options=dict(pos_x='0.09mm',\n",
    "                                             pos_y='1.8mm',\n",
    "                                            orientation=0, finger_count='6', finger_length='30um', cap_gap='3um', cap_width='6um', \n",
    "                                                 open_termination=False))\n",
    "\n",
    "ops_oF = {'hfss_wire_bonds': 'True',\n",
    "            'pin_inputs': \n",
    "            {'start_pin': {'component': 'Tf_q2', 'pin': 'prime_start'}, \n",
    "             'end_pin': {'component': 'Launch_Feed_Left', 'pin': 'tie'}},\n",
    "            'fillet':'80um'\n",
    "            }\n",
    "cpw_openFirst = RouteStraight(design, 'cpw_openFirst', options=ops_oF)\n",
    "\n",
    "\n",
    "\n",
    "\n",
    "ops_oM = {'hfss_wire_bonds': 'False',\n",
    "            'pin_inputs': \n",
    "            {'start_pin': {'component': 'Tf_q2', 'pin': 'prime_end'}, \n",
    "             'end_pin': {'component': 'TQ1', 'pin': 'prime_start'}},\n",
    "            'fillet':'50um'\n",
    "            }\n",
    "cpw_openMid = RouteStraight(design, 'cpw_openMid', options=ops_oM)\n",
    "\n",
    "\n",
    "ops_oL = {'hfss_wire_bonds': 'False',\n",
    "            'pin_inputs': \n",
    "            {'start_pin': {'component': 'TQ1', 'pin': 'prime_end'}, \n",
    "             'end_pin': {'component': 'Launch_Feed_Right', 'pin': 'tie'}},\n",
    "            'fillet':'50um'\n",
    "            }\n",
    "cpw_openLast = RouteStraight(design, 'cpw_openLast', options=ops_oL)\n",
    "\n",
    "\n",
    "gui.rebuild()\n",
    "gui.autoscale()\n",
    "\n"
   ]
  },
  {
   "cell_type": "markdown",
   "metadata": {},
   "source": [
    "# Readout Tee's and Readout Resonators (Q2: transmon)"
   ]
  },
  {
   "cell_type": "markdown",
   "metadata": {},
   "source": [
    "Important reminder: I have removed the wirebonds since they were clashing with each other at some point, they need to be reintroduced after fixing the anchores that defines the shape of the meandered resonator. "
   ]
  },
  {
   "cell_type": "code",
   "execution_count": 27,
   "metadata": {
    "ExecuteTime": {
     "end_time": "2023-08-31T06:06:37.174400Z",
     "start_time": "2023-08-31T06:06:36.285101Z"
    },
    "scrolled": true
   },
   "outputs": [
    {
     "name": "stderr",
     "output_type": "stream",
     "text": [
      "02:06AM 36s INFO [connect_meandered]: Zero meanders for read_q2_part2\n",
      "02:06AM 36s WARNING [check_lengths]: For path table, component=cpw_openLast, key=trace has short segments that could cause issues with fillet. Values in (1-2)  are index(es) in shapely geometry.\n",
      "02:06AM 36s WARNING [check_lengths]: For path table, component=cpw_openLast, key=cut has short segments that could cause issues with fillet. Values in (1-2)  are index(es) in shapely geometry.\n",
      "02:06AM 36s INFO [make_connection_pad]: Warning: Did you mean to define a transmon wubit with loc_W and loc_H that are not +1 or -1?? Are you sure you want to do this?\n",
      "02:06AM 37s INFO [connect_meandered]: Zero meanders for read_q2_part2\n"
     ]
    }
   ],
   "source": [
    "from qiskit_metal.qlibrary.couplers.cap_n_interdigital_tee import CapNInterdigitalTee\n",
    "TQ2 = CapNInterdigitalTee(design, 'TQ2', options=dict(pos_x='-1.99mm',\n",
    "                                             pos_y='0.33mm',\n",
    "                                            orientation=180, finger_length='15um', finger_count='6',cap_gap='3um', cap_width='5um',\n",
    "                                                 open_termination=False))\n",
    "#TQT=LineTee(design, 'TQT',options=dict(pos_x='-1.99mm', pos_y='0.50mm'))\n",
    "\n",
    "otgQ2 = OpenToGround(design, 'otgQ2', options = dict(pos_x='-2.12mm', \n",
    "                                                   pos_y='0.2mm', orientation='270', termination_gap='6um', gap='6um'))\n",
    "\n",
    "#Coupler_resonator2 = CapNInterdigitalTee(design, 'Coupler_resonator2', options=dict(pos_x='-1.1mm', pos_y='-0.09mm'))\n",
    "\n",
    "\n",
    "options2_part1 = Dict(\n",
    "     total_length='7.5mm',\n",
    "     fillet='30um',\n",
    "    hfss_wire_bonds=False,\n",
    "     lead = dict(start_straight='500um'),\n",
    "     pin_inputs=Dict(\n",
    "         end_pin=Dict(\n",
    "             component='TQ2',\n",
    "             pin='prime_start'),\n",
    "         start_pin=Dict(\n",
    "             component='Q2',\n",
    "             pin='readout')),\n",
    "     meander=Dict(spacing='200um',\n",
    "             asymmetry='0um'))\n",
    "\n",
    "options2_part2 = Dict(\n",
    "     total_length='0.2mm',\n",
    "     hfss_wire_bonds = False,\n",
    "     fillet='40um',\n",
    "     lead = dict(start_straight='100um', end_straight='100um'),\n",
    "     pin_inputs=Dict(\n",
    "         end_pin=Dict(\n",
    "             component='otgQ2',\n",
    "             pin='open'),\n",
    "         start_pin=Dict(\n",
    "             component='TQ2',\n",
    "             pin='prime_end')),\n",
    "     meander=Dict(spacing='300um',\n",
    "             asymmetry='0um'),)\n",
    "read_q2_part1 = RouteMeander(design, 'read_q2_part1', options=options2_part1)\n",
    "read_q2_part2 = RouteMeander(design, 'read_q2_part2', options=options2_part2)\n",
    "\n",
    "\n",
    "\n",
    "# options2_part2 = Dict(\n",
    "#      total_length='1mm',\n",
    "#      hfss_wire_bonds = False,\n",
    "#      fillet='40um',\n",
    "#      #lead = dict(start_straight='300um', end_straight='200um'),\n",
    "#      pin_inputs=Dict(\n",
    "#          end_pin=Dict(\n",
    "#              component='TQT',\n",
    "#              pin='second_end'),\n",
    "#          start_pin=Dict(\n",
    "#              component='TQ2',\n",
    "#              pin='second_end')),\n",
    "#      meander=Dict(spacing='300um',\n",
    "#              asymmetry='0um'))\n",
    "\n",
    "gui.rebuild()\n",
    "gui.autoscale()\n"
   ]
  },
  {
   "cell_type": "markdown",
   "metadata": {},
   "source": [
    "Simulating for the readout resonator (which consists of two separate pieces + the capacitive coupling teeth with the second half open, assuming that this is a small perturbation on the resonator frequency) and the transmon qubit"
   ]
  },
  {
   "cell_type": "code",
   "execution_count": 28,
   "metadata": {
    "ExecuteTime": {
     "end_time": "2023-08-31T06:06:41.860696Z",
     "start_time": "2023-08-31T06:06:40.246577Z"
    },
    "scrolled": true
   },
   "outputs": [
    {
     "name": "stderr",
     "output_type": "stream",
     "text": [
      "02:06AM 40s WARNING [check_lengths]: For path table, component=cpw_openLast, key=trace has short segments that could cause issues with fillet. Values in (1-2)  are index(es) in shapely geometry.\n",
      "02:06AM 40s WARNING [check_lengths]: For path table, component=cpw_openLast, key=cut has short segments that could cause issues with fillet. Values in (1-2)  are index(es) in shapely geometry.\n",
      "02:06AM 40s INFO [make_connection_pad]: Warning: Did you mean to define a transmon wubit with loc_W and loc_H that are not +1 or -1?? Are you sure you want to do this?\n",
      "02:06AM 40s INFO [connect_meandered]: Zero meanders for read_q2_part2\n",
      "02:06AM 41s WARNING [check_lengths]: For path table, component=cpw_openLast, key=trace has short segments that could cause issues with fillet. Values in (1-2)  are index(es) in shapely geometry.\n",
      "02:06AM 41s WARNING [check_lengths]: For path table, component=cpw_openLast, key=cut has short segments that could cause issues with fillet. Values in (1-2)  are index(es) in shapely geometry.\n",
      "02:06AM 41s INFO [make_connection_pad]: Warning: Did you mean to define a transmon wubit with loc_W and loc_H that are not +1 or -1?? Are you sure you want to do this?\n",
      "02:06AM 41s INFO [connect_meandered]: Zero meanders for read_q2_part2\n"
     ]
    }
   ],
   "source": [
    "from qiskit_metal.analyses.quantization import EPRanalysis\n",
    "eig_qb2 = EPRanalysis(design, \"hfss\")\n",
    "\n",
    "eig_qb2.sim.setup.vars.Lj = '10.9 nH'\n",
    "eig_qb2.sim.setup.vars = Dict({'Lj': '10.9 nH', 'Cj': '3 fF'})\n",
    "gui.rebuild()\n",
    "gui.autoscale()\n",
    "\n",
    "design.qgeometry.tables['junction']\n",
    "qcomps=design.components\n",
    "qcomps['Q2'].options['hfss_inductance'] = 'Lj'\n",
    "qcomps['Q2'].options['hfss_capacitance'] = 'Cj'\n",
    "\n",
    "\n",
    "eig_qb2.sim.setup.max_passes = 20\n",
    "\n",
    "eig_qb2.sim.setup_update(max_delta_f = 0.5, min_freq_ghz = 1)\n",
    "eig_qb2.sim.setup.min_passes = 15\n",
    "eig_qb2.sim.setup.n_modes = 3\n",
    "\n",
    "gui.rebuild()\n",
    "gui.autoscale()\n",
    "\n",
    "\n",
    "eig_qb2.sim.renderer._options['max_mesh_length_jj'] = '3um'\n",
    "eig_qb2.sim.renderer._options['max_mesh_length_port'] = '3um'\n",
    "\n",
    "\n",
    "\n"
   ]
  },
  {
   "cell_type": "code",
   "execution_count": 29,
   "metadata": {
    "ExecuteTime": {
     "end_time": "2023-08-31T06:11:47.738782Z",
     "start_time": "2023-08-31T06:06:42.988086Z"
    }
   },
   "outputs": [
    {
     "name": "stderr",
     "output_type": "stream",
     "text": [
      "INFO 02:06AM [connect_design]: \tOpened active design\n",
      "\tDesign:    Xmon_and_resonator_hfss [Solution type: Eigenmode]\n",
      "INFO 02:07AM [get_setup]: \tOpened setup `Setup`  (<class 'pyEPR.ansys.HfssEMSetup'>)\n",
      "INFO 02:07AM [analyze]: Analyzing setup Setup\n"
     ]
    },
    {
     "ename": "com_error",
     "evalue": "(-2147352567, 'Exception occurred.', (0, None, None, None, 0, -2147024349), None)",
     "output_type": "error",
     "traceback": [
      "\u001b[1;31m---------------------------------------------------------------------------\u001b[0m",
      "\u001b[1;31mcom_error\u001b[0m                                 Traceback (most recent call last)",
      "Cell \u001b[1;32mIn[29], line 1\u001b[0m\n\u001b[1;32m----> 1\u001b[0m \u001b[43meig_qb2\u001b[49m\u001b[38;5;241;43m.\u001b[39;49m\u001b[43msim\u001b[49m\u001b[38;5;241;43m.\u001b[39;49m\u001b[43mrun\u001b[49m\u001b[43m(\u001b[49m\u001b[43mname\u001b[49m\u001b[38;5;241;43m=\u001b[39;49m\u001b[38;5;124;43m\"\u001b[39;49m\u001b[38;5;124;43mXmon_and_resonator\u001b[39;49m\u001b[38;5;124;43m\"\u001b[39;49m\u001b[43m,\u001b[49m\u001b[43m \u001b[49m\u001b[43mcomponents\u001b[49m\u001b[38;5;241;43m=\u001b[39;49m\u001b[43m[\u001b[49m\u001b[38;5;124;43m'\u001b[39;49m\u001b[38;5;124;43mQ2\u001b[39;49m\u001b[38;5;124;43m'\u001b[39;49m\u001b[43m,\u001b[49m\u001b[38;5;124;43m'\u001b[39;49m\u001b[38;5;124;43mread_q2_part1\u001b[39;49m\u001b[38;5;124;43m'\u001b[39;49m\u001b[43m,\u001b[49m\u001b[38;5;124;43m'\u001b[39;49m\u001b[38;5;124;43mread_q2_part2\u001b[39;49m\u001b[38;5;124;43m'\u001b[39;49m\u001b[43m,\u001b[49m\u001b[43m \u001b[49m\u001b[38;5;124;43m'\u001b[39;49m\u001b[38;5;124;43motgQ2\u001b[39;49m\u001b[38;5;124;43m'\u001b[39;49m\u001b[43m,\u001b[49m\u001b[43m \u001b[49m\u001b[38;5;124;43m'\u001b[39;49m\u001b[38;5;124;43mTQ2\u001b[39;49m\u001b[38;5;124;43m'\u001b[39;49m\u001b[43m \u001b[49m\u001b[43m,\u001b[49m\n\u001b[0;32m      2\u001b[0m \u001b[43m                                                        \u001b[49m\u001b[43m]\u001b[49m\u001b[43m,\u001b[49m\u001b[43m \u001b[49m\n\u001b[0;32m      3\u001b[0m \u001b[43m               \u001b[49m\u001b[43mopen_terminations\u001b[49m\u001b[38;5;241;43m=\u001b[39;49m\u001b[43m[\u001b[49m\u001b[43m(\u001b[49m\u001b[38;5;124;43m'\u001b[39;49m\u001b[38;5;124;43mTQ2\u001b[39;49m\u001b[38;5;124;43m'\u001b[39;49m\u001b[43m,\u001b[49m\u001b[43m \u001b[49m\u001b[38;5;124;43m'\u001b[39;49m\u001b[38;5;124;43msecond_end\u001b[39;49m\u001b[38;5;124;43m'\u001b[39;49m\u001b[43m)\u001b[49m\u001b[43m]\u001b[49m\u001b[43m,\u001b[49m\u001b[43m \u001b[49m\u001b[43mbox_plus_buffer\u001b[49m\u001b[43m \u001b[49m\u001b[38;5;241;43m=\u001b[39;49m\u001b[43m \u001b[49m\u001b[38;5;28;43;01mTrue\u001b[39;49;00m\u001b[43m)\u001b[49m\n\u001b[0;32m      5\u001b[0m eig_qb2\u001b[38;5;241m.\u001b[39msim\u001b[38;5;241m.\u001b[39mplot_convergences()\n",
      "File \u001b[1;32mc:\\users\\wanglab\\documents\\github\\qiskit-metal\\qiskit_metal\\analyses\\core\\simulation.py:203\u001b[0m, in \u001b[0;36mQSimulation.run\u001b[1;34m(self, *args, **kwargs)\u001b[0m\n\u001b[0;32m    199\u001b[0m \u001b[38;5;28;01mdef\u001b[39;00m \u001b[38;5;21mrun\u001b[39m(\u001b[38;5;28mself\u001b[39m, \u001b[38;5;241m*\u001b[39margs, \u001b[38;5;241m*\u001b[39m\u001b[38;5;241m*\u001b[39mkwargs):\n\u001b[0;32m    200\u001b[0m \u001b[38;5;250m    \u001b[39m\u001b[38;5;124;03m\"\"\"Alias for run_sim() necessary to implement super-class method, while\u001b[39;00m\n\u001b[0;32m    201\u001b[0m \u001b[38;5;124;03m    preventing method name collision when sim and non-sim QAnalysis classes are inherited.\u001b[39;00m\n\u001b[0;32m    202\u001b[0m \u001b[38;5;124;03m    \"\"\"\u001b[39;00m\n\u001b[1;32m--> 203\u001b[0m     \u001b[38;5;28;43mself\u001b[39;49m\u001b[38;5;241;43m.\u001b[39;49m\u001b[43mrun_sim\u001b[49m\u001b[43m(\u001b[49m\u001b[38;5;241;43m*\u001b[39;49m\u001b[43margs\u001b[49m\u001b[43m,\u001b[49m\u001b[43m \u001b[49m\u001b[38;5;241;43m*\u001b[39;49m\u001b[38;5;241;43m*\u001b[39;49m\u001b[43mkwargs\u001b[49m\u001b[43m)\u001b[49m\n",
      "File \u001b[1;32mc:\\users\\wanglab\\documents\\github\\qiskit-metal\\qiskit_metal\\analyses\\simulation\\eigenmode.py:141\u001b[0m, in \u001b[0;36mEigenmodeSim.run_sim\u001b[1;34m(self, name, components, open_terminations, port_list, jj_to_port, ignored_jjs, box_plus_buffer)\u001b[0m\n\u001b[0;32m    129\u001b[0m vars_to_initialize \u001b[38;5;241m=\u001b[39m \u001b[38;5;28mself\u001b[39m\u001b[38;5;241m.\u001b[39msetup\u001b[38;5;241m.\u001b[39mvars\n\u001b[0;32m    130\u001b[0m renderer_design_name \u001b[38;5;241m=\u001b[39m \u001b[38;5;28mself\u001b[39m\u001b[38;5;241m.\u001b[39m_render(\n\u001b[0;32m    131\u001b[0m     name\u001b[38;5;241m=\u001b[39mname,\n\u001b[0;32m    132\u001b[0m     solution_type\u001b[38;5;241m=\u001b[39m\u001b[38;5;124m'\u001b[39m\u001b[38;5;124meigenmode\u001b[39m\u001b[38;5;124m'\u001b[39m,\n\u001b[1;32m   (...)\u001b[0m\n\u001b[0;32m    138\u001b[0m     box_plus_buffer\u001b[38;5;241m=\u001b[39mbox_plus_buffer,\n\u001b[0;32m    139\u001b[0m     vars_to_initialize\u001b[38;5;241m=\u001b[39mvars_to_initialize)\n\u001b[1;32m--> 141\u001b[0m \u001b[38;5;28;43mself\u001b[39;49m\u001b[38;5;241;43m.\u001b[39;49m\u001b[43m_analyze\u001b[49m\u001b[43m(\u001b[49m\u001b[43m)\u001b[49m\n\u001b[0;32m    142\u001b[0m \u001b[38;5;28;01mreturn\u001b[39;00m renderer_design_name, \u001b[38;5;28mself\u001b[39m\u001b[38;5;241m.\u001b[39msim_setup_name\n",
      "File \u001b[1;32mc:\\users\\wanglab\\documents\\github\\qiskit-metal\\qiskit_metal\\analyses\\simulation\\eigenmode.py:81\u001b[0m, in \u001b[0;36mEigenmodeSim._analyze\u001b[1;34m(self)\u001b[0m\n\u001b[0;32m     75\u001b[0m \u001b[38;5;250m\u001b[39m\u001b[38;5;124;03m\"\"\"Executes the analysis step of the Run. First it initializes the renderer setup\u001b[39;00m\n\u001b[0;32m     76\u001b[0m \u001b[38;5;124;03mto prepare for eignemode analysis, then it executes it. Finally it recovers the\u001b[39;00m\n\u001b[0;32m     77\u001b[0m \u001b[38;5;124;03moutput of the analysis and stores it in self.convergence_t and self.convergence_f.\u001b[39;00m\n\u001b[0;32m     78\u001b[0m \u001b[38;5;124;03m\"\"\"\u001b[39;00m\n\u001b[0;32m     79\u001b[0m \u001b[38;5;28mself\u001b[39m\u001b[38;5;241m.\u001b[39msim_setup_name \u001b[38;5;241m=\u001b[39m \u001b[38;5;28mself\u001b[39m\u001b[38;5;241m.\u001b[39mrenderer\u001b[38;5;241m.\u001b[39minitialize_eigenmode(\u001b[38;5;241m*\u001b[39m\u001b[38;5;241m*\u001b[39m\u001b[38;5;28mself\u001b[39m\u001b[38;5;241m.\u001b[39msetup)\n\u001b[1;32m---> 81\u001b[0m \u001b[38;5;28;43mself\u001b[39;49m\u001b[38;5;241;43m.\u001b[39;49m\u001b[43mrenderer\u001b[49m\u001b[38;5;241;43m.\u001b[39;49m\u001b[43manalyze_setup\u001b[49m\u001b[43m(\u001b[49m\u001b[38;5;28;43mself\u001b[39;49m\u001b[38;5;241;43m.\u001b[39;49m\u001b[43msim_setup_name\u001b[49m\u001b[43m)\u001b[49m\n\u001b[0;32m     82\u001b[0m \u001b[38;5;28mself\u001b[39m\u001b[38;5;241m.\u001b[39mcompute_convergences()\n",
      "File \u001b[1;32mc:\\users\\wanglab\\documents\\github\\qiskit-metal\\qiskit_metal\\renderers\\renderer_ansys\\hfss_renderer.py:845\u001b[0m, in \u001b[0;36mQHFSSRenderer.analyze_setup\u001b[1;34m(self, setup_name)\u001b[0m\n\u001b[0;32m    843\u001b[0m \u001b[38;5;28;01mif\u001b[39;00m \u001b[38;5;28mself\u001b[39m\u001b[38;5;241m.\u001b[39mpinfo:\n\u001b[0;32m    844\u001b[0m     setup \u001b[38;5;241m=\u001b[39m \u001b[38;5;28mself\u001b[39m\u001b[38;5;241m.\u001b[39mpinfo\u001b[38;5;241m.\u001b[39mget_setup(setup_name)\n\u001b[1;32m--> 845\u001b[0m     \u001b[43msetup\u001b[49m\u001b[38;5;241;43m.\u001b[39;49m\u001b[43manalyze\u001b[49m\u001b[43m(\u001b[49m\u001b[43msetup_name\u001b[49m\u001b[43m)\u001b[49m\n",
      "File \u001b[1;32m~\\anaconda3\\envs\\qiskit-metal\\Lib\\site-packages\\pyEPR\\ansys.py:1065\u001b[0m, in \u001b[0;36mHfssSetup.analyze\u001b[1;34m(self, name)\u001b[0m\n\u001b[0;32m   1063\u001b[0m     name \u001b[38;5;241m=\u001b[39m \u001b[38;5;28mself\u001b[39m\u001b[38;5;241m.\u001b[39mname\n\u001b[0;32m   1064\u001b[0m logger\u001b[38;5;241m.\u001b[39minfo(\u001b[38;5;124mf\u001b[39m\u001b[38;5;124m'\u001b[39m\u001b[38;5;124mAnalyzing setup \u001b[39m\u001b[38;5;132;01m{\u001b[39;00mname\u001b[38;5;132;01m}\u001b[39;00m\u001b[38;5;124m'\u001b[39m)\n\u001b[1;32m-> 1065\u001b[0m \u001b[38;5;28;01mreturn\u001b[39;00m \u001b[38;5;28;43mself\u001b[39;49m\u001b[38;5;241;43m.\u001b[39;49m\u001b[43mparent\u001b[49m\u001b[38;5;241;43m.\u001b[39;49m\u001b[43m_design\u001b[49m\u001b[38;5;241;43m.\u001b[39;49m\u001b[43mAnalyze\u001b[49m\u001b[43m(\u001b[49m\u001b[43mname\u001b[49m\u001b[43m)\u001b[49m\n",
      "File \u001b[1;32m<COMObject GetDesign>:2\u001b[0m, in \u001b[0;36mAnalyze\u001b[1;34m(self, simulationName)\u001b[0m\n",
      "\u001b[1;31mcom_error\u001b[0m: (-2147352567, 'Exception occurred.', (0, None, None, None, 0, -2147024349), None)"
     ]
    }
   ],
   "source": [
    "eig_qb2.sim.run(name=\"Xmon_and_resonator\", components=['Q2','read_q2_part1','read_q2_part2', 'otgQ2', 'TQ2' ,\n",
    "                                                        ], \n",
    "               open_terminations=[('TQ2', 'second_end')], box_plus_buffer = True)\n",
    "\n",
    "eig_qb2.sim.plot_convergences()\n"
   ]
  },
  {
   "cell_type": "code",
   "execution_count": null,
   "metadata": {},
   "outputs": [],
   "source": []
  },
  {
   "cell_type": "code",
   "execution_count": 30,
   "metadata": {
    "ExecuteTime": {
     "end_time": "2023-08-31T06:12:19.723639Z",
     "start_time": "2023-08-31T06:11:54.488516Z"
    }
   },
   "outputs": [
    {
     "name": "stdout",
     "output_type": "stream",
     "text": [
      "Design \"Xmon_and_resonator_hfss\" info:\n",
      "\t# eigenmodes    3\n",
      "\t# variations    1\n",
      "Design \"Xmon_and_resonator_hfss\" info:\n",
      "\t# eigenmodes    3\n",
      "\t# variations    1\n"
     ]
    },
    {
     "name": "stderr",
     "output_type": "stream",
     "text": [
      "WARNING:py.warnings:C:\\Users\\WANGLAB\\anaconda3\\envs\\qiskit-metal\\Lib\\site-packages\\pyEPR\\project_info.py:239: FutureWarning: The default dtype for empty Series will be 'object' instead of 'float64' in a future version. Specify a dtype explicitly to silence this warning.\n",
      "  options=pd.Series(get_instance_vars(self.options)),\n",
      "\n"
     ]
    },
    {
     "name": "stdout",
     "output_type": "stream",
     "text": [
      "\n",
      "        energy_elec_all       = 9.0269791943716e-24\n",
      "        energy_elec_substrate = 8.31982785148722e-24\n",
      "        EPR of substrate = 92.2%\n",
      "\n",
      "        energy_mag    = 9.02679106957101e-24\n",
      "        energy_mag % of energy_elec_all  = 100.0%\n",
      "        \n",
      "\n",
      "Variation 0  [1/1]\n"
     ]
    },
    {
     "name": "stderr",
     "output_type": "stream",
     "text": [
      "WARNING:py.warnings:C:\\Users\\WANGLAB\\anaconda3\\envs\\qiskit-metal\\Lib\\site-packages\\pyEPR\\core_distributed_analysis.py:1101: FutureWarning: The default dtype for empty Series will be 'object' instead of 'float64' in a future version. Specify a dtype explicitly to silence this warning.\n",
      "  Ljs = pd.Series({})\n",
      "\n",
      "WARNING:py.warnings:C:\\Users\\WANGLAB\\anaconda3\\envs\\qiskit-metal\\Lib\\site-packages\\pyEPR\\core_distributed_analysis.py:1102: FutureWarning: The default dtype for empty Series will be 'object' instead of 'float64' in a future version. Specify a dtype explicitly to silence this warning.\n",
      "  Cjs = pd.Series({})\n",
      "\n",
      "WARNING:py.warnings:C:\\Users\\WANGLAB\\anaconda3\\envs\\qiskit-metal\\Lib\\site-packages\\pyEPR\\core_distributed_analysis.py:1245: FutureWarning: The default dtype for empty Series will be 'object' instead of 'float64' in a future version. Specify a dtype explicitly to silence this warning.\n",
      "  _Om = pd.Series({})\n",
      "\n"
     ]
    },
    {
     "name": "stdout",
     "output_type": "stream",
     "text": [
      "\n",
      "  \u001b[1mMode 0 at 5.39 GHz   [1/3]\u001b[0m\n",
      "    Calculating ℰ_magnetic,ℰ_electric\n"
     ]
    },
    {
     "name": "stderr",
     "output_type": "stream",
     "text": [
      "WARNING:py.warnings:C:\\Users\\WANGLAB\\anaconda3\\envs\\qiskit-metal\\Lib\\site-packages\\pyEPR\\core_distributed_analysis.py:981: FutureWarning: The default dtype for empty Series will be 'object' instead of 'float64' in a future version. Specify a dtype explicitly to silence this warning.\n",
      "  Sj = pd.Series({})\n",
      "\n"
     ]
    },
    {
     "name": "stdout",
     "output_type": "stream",
     "text": [
      "       (ℰ_E-ℰ_H)/ℰ_E       ℰ_E       ℰ_H\n",
      "               99.2%  9.128e-25 6.891e-27\n",
      "\n",
      "    Calculating junction energy participation ration (EPR)\n",
      "\tmethod=`line_voltage`. First estimates:\n",
      "\tjunction        EPR p_0j   sign s_0j    (p_capacitive)\n"
     ]
    },
    {
     "name": "stderr",
     "output_type": "stream",
     "text": [
      "WARNING:py.warnings:C:\\Users\\WANGLAB\\anaconda3\\envs\\qiskit-metal\\Lib\\site-packages\\pyEPR\\core_distributed_analysis.py:933: FutureWarning: The default dtype for empty Series will be 'object' instead of 'float64' in a future version. Specify a dtype explicitly to silence this warning.\n",
      "  Qp = pd.Series({})\n",
      "\n"
     ]
    },
    {
     "name": "stdout",
     "output_type": "stream",
     "text": [
      "\t\tEnergy fraction (Lj over Lj&Cj)= 97.56%\n",
      "\tjj               1.03023  (+)        0.0257326\n",
      "\t\t(U_tot_cap-U_tot_ind)/mean=-0.58%\n",
      "Calculating Qdielectric_main for mode 0 (0/2)\n"
     ]
    },
    {
     "name": "stderr",
     "output_type": "stream",
     "text": [
      "WARNING:py.warnings:C:\\Users\\WANGLAB\\anaconda3\\envs\\qiskit-metal\\Lib\\site-packages\\pyEPR\\core_distributed_analysis.py:1307: FutureWarning: The series.append method is deprecated and will be removed from pandas in a future version. Use pandas.concat instead.\n",
      "  sol = sol.append(self.get_Qdielectric(\n",
      "\n",
      "WARNING:py.warnings:C:\\Users\\WANGLAB\\anaconda3\\envs\\qiskit-metal\\Lib\\site-packages\\pyEPR\\core_distributed_analysis.py:1245: FutureWarning: The default dtype for empty Series will be 'object' instead of 'float64' in a future version. Specify a dtype explicitly to silence this warning.\n",
      "  _Om = pd.Series({})\n",
      "\n"
     ]
    },
    {
     "name": "stdout",
     "output_type": "stream",
     "text": [
      "p_dielectric_main_0 = 0.9204927726860276\n",
      "\n",
      "  \u001b[1mMode 1 at 7.17 GHz   [2/3]\u001b[0m\n",
      "    Calculating ℰ_magnetic,ℰ_electric\n"
     ]
    },
    {
     "name": "stderr",
     "output_type": "stream",
     "text": [
      "WARNING:py.warnings:C:\\Users\\WANGLAB\\anaconda3\\envs\\qiskit-metal\\Lib\\site-packages\\pyEPR\\core_distributed_analysis.py:981: FutureWarning: The default dtype for empty Series will be 'object' instead of 'float64' in a future version. Specify a dtype explicitly to silence this warning.\n",
      "  Sj = pd.Series({})\n",
      "\n"
     ]
    },
    {
     "name": "stdout",
     "output_type": "stream",
     "text": [
      "       (ℰ_E-ℰ_H)/ℰ_E       ℰ_E       ℰ_H\n",
      "                0.1%  1.045e-24 1.044e-24\n",
      "\n",
      "    Calculating junction energy participation ration (EPR)\n",
      "\tmethod=`line_voltage`. First estimates:\n",
      "\tjunction        EPR p_1j   sign s_1j    (p_capacitive)\n"
     ]
    },
    {
     "name": "stderr",
     "output_type": "stream",
     "text": [
      "WARNING:py.warnings:C:\\Users\\WANGLAB\\anaconda3\\envs\\qiskit-metal\\Lib\\site-packages\\pyEPR\\core_distributed_analysis.py:933: FutureWarning: The default dtype for empty Series will be 'object' instead of 'float64' in a future version. Specify a dtype explicitly to silence this warning.\n",
      "  Qp = pd.Series({})\n",
      "\n"
     ]
    },
    {
     "name": "stdout",
     "output_type": "stream",
     "text": [
      "\t\tEnergy fraction (Lj over Lj&Cj)= 95.77%\n",
      "\tjj              0.0011019  (+)        4.87101e-05\n",
      "\t\t(U_tot_cap-U_tot_ind)/mean=-0.00%\n",
      "Calculating Qdielectric_main for mode 1 (1/2)\n"
     ]
    },
    {
     "name": "stderr",
     "output_type": "stream",
     "text": [
      "WARNING:py.warnings:C:\\Users\\WANGLAB\\anaconda3\\envs\\qiskit-metal\\Lib\\site-packages\\pyEPR\\core_distributed_analysis.py:1307: FutureWarning: The series.append method is deprecated and will be removed from pandas in a future version. Use pandas.concat instead.\n",
      "  sol = sol.append(self.get_Qdielectric(\n",
      "\n",
      "WARNING:py.warnings:C:\\Users\\WANGLAB\\anaconda3\\envs\\qiskit-metal\\Lib\\site-packages\\pyEPR\\core_distributed_analysis.py:1245: FutureWarning: The default dtype for empty Series will be 'object' instead of 'float64' in a future version. Specify a dtype explicitly to silence this warning.\n",
      "  _Om = pd.Series({})\n",
      "\n"
     ]
    },
    {
     "name": "stdout",
     "output_type": "stream",
     "text": [
      "p_dielectric_main_1 = 0.9202896995936924\n",
      "\n",
      "  \u001b[1mMode 2 at 9.38 GHz   [3/3]\u001b[0m\n",
      "    Calculating ℰ_magnetic,ℰ_electric\n"
     ]
    },
    {
     "name": "stderr",
     "output_type": "stream",
     "text": [
      "WARNING:py.warnings:C:\\Users\\WANGLAB\\anaconda3\\envs\\qiskit-metal\\Lib\\site-packages\\pyEPR\\core_distributed_analysis.py:981: FutureWarning: The default dtype for empty Series will be 'object' instead of 'float64' in a future version. Specify a dtype explicitly to silence this warning.\n",
      "  Sj = pd.Series({})\n",
      "\n"
     ]
    },
    {
     "name": "stdout",
     "output_type": "stream",
     "text": [
      "       (ℰ_E-ℰ_H)/ℰ_E       ℰ_E       ℰ_H\n",
      "                0.0%  4.513e-24 4.513e-24\n",
      "\n",
      "    Calculating junction energy participation ration (EPR)\n",
      "\tmethod=`line_voltage`. First estimates:\n",
      "\tjunction        EPR p_2j   sign s_2j    (p_capacitive)\n"
     ]
    },
    {
     "name": "stderr",
     "output_type": "stream",
     "text": [
      "WARNING:py.warnings:C:\\Users\\WANGLAB\\anaconda3\\envs\\qiskit-metal\\Lib\\site-packages\\pyEPR\\core_distributed_analysis.py:933: FutureWarning: The default dtype for empty Series will be 'object' instead of 'float64' in a future version. Specify a dtype explicitly to silence this warning.\n",
      "  Qp = pd.Series({})\n",
      "\n"
     ]
    },
    {
     "name": "stdout",
     "output_type": "stream",
     "text": [
      "\t\tEnergy fraction (Lj over Lj&Cj)= 92.97%\n",
      "\tjj              2.74755e-05  (+)        2.0791e-06\n",
      "\t\t(U_tot_cap-U_tot_ind)/mean=-0.00%\n",
      "Calculating Qdielectric_main for mode 2 (2/2)\n"
     ]
    },
    {
     "name": "stderr",
     "output_type": "stream",
     "text": [
      "WARNING:py.warnings:C:\\Users\\WANGLAB\\anaconda3\\envs\\qiskit-metal\\Lib\\site-packages\\pyEPR\\core_distributed_analysis.py:1307: FutureWarning: The series.append method is deprecated and will be removed from pandas in a future version. Use pandas.concat instead.\n",
      "  sol = sol.append(self.get_Qdielectric(\n",
      "\n"
     ]
    },
    {
     "name": "stdout",
     "output_type": "stream",
     "text": [
      "p_dielectric_main_2 = 0.9216624600923756\n"
     ]
    },
    {
     "name": "stderr",
     "output_type": "stream",
     "text": [
      "WARNING:py.warnings:C:\\Users\\WANGLAB\\anaconda3\\envs\\qiskit-metal\\Lib\\site-packages\\pyEPR\\project_info.py:239: FutureWarning: The default dtype for empty Series will be 'object' instead of 'float64' in a future version. Specify a dtype explicitly to silence this warning.\n",
      "  options=pd.Series(get_instance_vars(self.options)),\n",
      "\n",
      "WARNING 02:12AM [__init__]: <p>Error: <class 'IndexError'></p>\n",
      "WARNING:py.warnings:C:\\Users\\WANGLAB\\anaconda3\\envs\\qiskit-metal\\Lib\\site-packages\\pyEPR\\core_quantum_analysis.py:712: FutureWarning: Support for multi-dimensional indexing (e.g. `obj[:, None]`) is deprecated and will be removed in a future version.  Convert to a numpy array before indexing instead.\n",
      "  result['Q_coupling'] = self.Qm_coupling[variation][self.Qm_coupling[variation].columns[junctions]][modes]#TODO change the columns to junctions\n",
      "\n"
     ]
    },
    {
     "name": "stdout",
     "output_type": "stream",
     "text": [
      "\n",
      "ANALYSIS DONE. Data saved to:\n",
      "\n",
      "C:\\data-pyEPR\\Fluxonium_experiment_blabla\\Xmon_and_resonator_hfss\\2023-08-31 02-11-54.npz\n",
      "\n",
      "\n",
      "\t Differences in variations:\n",
      "\n",
      "\n",
      "\n",
      " . . . . . . . . . . . . . . . . . . . . . . . . . . . . . . . . . . . . . . . . \n",
      "Variation 0\n",
      "\n",
      "Starting the diagonalization\n",
      "Finished the diagonalization\n",
      "Pm_norm=\n",
      "modes\n",
      "0    0.988347\n",
      "1    0.989574\n",
      "2    0.917085\n",
      "dtype: float64\n",
      "\n",
      "Pm_norm idx =\n",
      "      jj\n",
      "0   True\n",
      "1  False\n",
      "2  False\n"
     ]
    },
    {
     "name": "stderr",
     "output_type": "stream",
     "text": [
      "WARNING:py.warnings:C:\\Users\\WANGLAB\\anaconda3\\envs\\qiskit-metal\\Lib\\site-packages\\pyEPR\\core_quantum_analysis.py:717: FutureWarning: Support for multi-dimensional indexing (e.g. `obj[:, None]`) is deprecated and will be removed in a future version.  Convert to a numpy array before indexing instead.\n",
      "  result['Qs'] = self.Qs[variation][self.PM[variation].columns[junctions]][modes] #TODO change the columns to junctions\n",
      "\n"
     ]
    },
    {
     "name": "stdout",
     "output_type": "stream",
     "text": [
      "*** P (participation matrix, not normlz.)\n",
      "         jj\n",
      "0  1.004387\n",
      "1  0.001102\n",
      "2  0.000027\n",
      "\n",
      "*** S (sign-bit matrix)\n",
      "   s_jj\n",
      "0     1\n",
      "1     1\n",
      "2    -1\n",
      "*** P (participation matrix, normalized.)\n",
      "      0.99\n",
      "    0.0011\n",
      "   2.7e-05\n",
      "\n",
      "*** Chi matrix O1 PT (MHz)\n",
      "    Diag is anharmonicity, off diag is full cross-Kerr.\n",
      "       238    0.704    0.023\n",
      "     0.704  0.00052 3.39e-05\n",
      "     0.023 3.39e-05 5.53e-07\n",
      "\n",
      "*** Chi matrix ND (MHz) \n",
      "       263    0.534   0.0215\n",
      "     0.534  0.00032 2.46e-05\n",
      "    0.0215 2.46e-05 4.76e-07\n",
      "\n",
      "*** Frequencies O1 PT (MHz)\n",
      "0    5148.492534\n",
      "1    7166.523992\n",
      "2    9376.819903\n",
      "dtype: float64\n",
      "\n",
      "*** Frequencies ND (MHz)\n",
      "0    5136.699551\n",
      "1    7166.552068\n",
      "2    9376.819987\n",
      "dtype: float64\n",
      "\n",
      "*** Q_coupling\n",
      "Empty DataFrame\n",
      "Columns: []\n",
      "Index: [0, 1, 2]\n"
     ]
    },
    {
     "data": {
      "text/markdown": [
       "#### Mode frequencies (MHz)"
      ],
      "text/plain": [
       "<IPython.core.display.Markdown object>"
      ]
     },
     "metadata": {},
     "output_type": "display_data"
    },
    {
     "data": {
      "text/markdown": [
       "###### Numerical diagonalization"
      ],
      "text/plain": [
       "<IPython.core.display.Markdown object>"
      ]
     },
     "metadata": {},
     "output_type": "display_data"
    },
    {
     "data": {
      "text/html": [
       "<div>\n",
       "<style scoped>\n",
       "    .dataframe tbody tr th:only-of-type {\n",
       "        vertical-align: middle;\n",
       "    }\n",
       "\n",
       "    .dataframe tbody tr th {\n",
       "        vertical-align: top;\n",
       "    }\n",
       "\n",
       "    .dataframe thead th {\n",
       "        text-align: right;\n",
       "    }\n",
       "</style>\n",
       "<table border=\"1\" class=\"dataframe\">\n",
       "  <thead>\n",
       "    <tr style=\"text-align: right;\">\n",
       "      <th>Lj</th>\n",
       "      <th>10.9</th>\n",
       "    </tr>\n",
       "  </thead>\n",
       "  <tbody>\n",
       "    <tr>\n",
       "      <th>0</th>\n",
       "      <td>5136.70</td>\n",
       "    </tr>\n",
       "    <tr>\n",
       "      <th>1</th>\n",
       "      <td>7166.55</td>\n",
       "    </tr>\n",
       "    <tr>\n",
       "      <th>2</th>\n",
       "      <td>9376.82</td>\n",
       "    </tr>\n",
       "  </tbody>\n",
       "</table>\n",
       "</div>"
      ],
      "text/plain": [
       "Lj     10.9\n",
       "0   5136.70\n",
       "1   7166.55\n",
       "2   9376.82"
      ]
     },
     "metadata": {},
     "output_type": "display_data"
    },
    {
     "data": {
      "text/markdown": [
       "#### Kerr Non-linear coefficient table (MHz)"
      ],
      "text/plain": [
       "<IPython.core.display.Markdown object>"
      ]
     },
     "metadata": {},
     "output_type": "display_data"
    },
    {
     "data": {
      "text/markdown": [
       "###### Numerical diagonalization"
      ],
      "text/plain": [
       "<IPython.core.display.Markdown object>"
      ]
     },
     "metadata": {},
     "output_type": "display_data"
    },
    {
     "data": {
      "text/html": [
       "<div>\n",
       "<style scoped>\n",
       "    .dataframe tbody tr th:only-of-type {\n",
       "        vertical-align: middle;\n",
       "    }\n",
       "\n",
       "    .dataframe tbody tr th {\n",
       "        vertical-align: top;\n",
       "    }\n",
       "\n",
       "    .dataframe thead th {\n",
       "        text-align: right;\n",
       "    }\n",
       "</style>\n",
       "<table border=\"1\" class=\"dataframe\">\n",
       "  <thead>\n",
       "    <tr style=\"text-align: right;\">\n",
       "      <th></th>\n",
       "      <th></th>\n",
       "      <th>0</th>\n",
       "      <th>1</th>\n",
       "      <th>2</th>\n",
       "    </tr>\n",
       "    <tr>\n",
       "      <th>Lj</th>\n",
       "      <th></th>\n",
       "      <th></th>\n",
       "      <th></th>\n",
       "      <th></th>\n",
       "    </tr>\n",
       "  </thead>\n",
       "  <tbody>\n",
       "    <tr>\n",
       "      <th rowspan=\"3\" valign=\"top\">10.9</th>\n",
       "      <th>0</th>\n",
       "      <td>263.45</td>\n",
       "      <td>5.34e-01</td>\n",
       "      <td>2.15e-02</td>\n",
       "    </tr>\n",
       "    <tr>\n",
       "      <th>1</th>\n",
       "      <td>0.53</td>\n",
       "      <td>3.20e-04</td>\n",
       "      <td>2.46e-05</td>\n",
       "    </tr>\n",
       "    <tr>\n",
       "      <th>2</th>\n",
       "      <td>0.02</td>\n",
       "      <td>2.46e-05</td>\n",
       "      <td>4.76e-07</td>\n",
       "    </tr>\n",
       "  </tbody>\n",
       "</table>\n",
       "</div>"
      ],
      "text/plain": [
       "             0         1         2\n",
       "Lj                                \n",
       "10.9 0  263.45  5.34e-01  2.15e-02\n",
       "     1    0.53  3.20e-04  2.46e-05\n",
       "     2    0.02  2.46e-05  4.76e-07"
      ]
     },
     "metadata": {},
     "output_type": "display_data"
    }
   ],
   "source": [
    "\n",
    "eig_qb2.setup.junctions.jj.rect = 'JJ_rect_Lj_Q2_rect_jj'\n",
    "eig_qb2.setup.junctions.jj.line = 'JJ_Lj_Q2_rect_jj_'\n",
    "eig_qb2.run_epr()"
   ]
  },
  {
   "cell_type": "markdown",
   "metadata": {},
   "source": [
    "# Purcell filter for the transmon (Q2)"
   ]
  },
  {
   "cell_type": "code",
   "execution_count": 13,
   "metadata": {
    "ExecuteTime": {
     "end_time": "2023-08-31T04:37:51.458697Z",
     "start_time": "2023-08-31T04:37:50.626457Z"
    }
   },
   "outputs": [
    {
     "name": "stderr",
     "output_type": "stream",
     "text": [
      "12:37AM 50s INFO [make_connection_pad]: Warning: Did you mean to define a transmon wubit with loc_W and loc_H that are not +1 or -1?? Are you sure you want to do this?\n",
      "12:37AM 51s WARNING [check_lengths]: For path table, component=cpw_openLast, key=trace has short segments that could cause issues with fillet. Values in (1-2)  are index(es) in shapely geometry.\n",
      "12:37AM 51s WARNING [check_lengths]: For path table, component=cpw_openLast, key=cut has short segments that could cause issues with fillet. Values in (1-2)  are index(es) in shapely geometry.\n",
      "12:37AM 51s INFO [connect_meandered]: Zero meanders for read_q2_part2\n"
     ]
    }
   ],
   "source": [
    "options_purcell2 = Dict(\n",
    "     total_length='7.9mm',\n",
    "     hfss_wire_bonds = True,\n",
    "     fillet='40um',\n",
    "     lead = dict(start_straight='100um'),\n",
    "     pin_inputs=Dict(\n",
    "         end_pin=Dict(\n",
    "             component='TQ2',\n",
    "             pin='second_end'),\n",
    "         start_pin=Dict(\n",
    "             component='Tf_q2',\n",
    "             pin='second_end')),\n",
    "     meander=Dict(spacing='200um',\n",
    "             asymmetry='0um'))\n",
    "purcell2 = RouteMeander(design, 'purcell2', options=options_purcell2)\n",
    "\n",
    "gui.rebuild()\n",
    "gui.autoscale()"
   ]
  },
  {
   "cell_type": "markdown",
   "metadata": {},
   "source": [
    "Running for the purcell filter only, including the capacitive teeth with the other sides open. The aim is to have the Purcell filter to have a frequency close to the RO frequency but with a much lower Q, so that it serves as a filter for the transmon frequency. "
   ]
  },
  {
   "cell_type": "code",
   "execution_count": null,
   "metadata": {
    "ExecuteTime": {
     "end_time": "2023-08-23T04:51:39.880346Z",
     "start_time": "2023-08-23T04:51:35.088098Z"
    }
   },
   "outputs": [],
   "source": [
    "\n",
    "eig_prcl = EPRanalysis(design, \"hfss\")\n",
    "\n",
    "\n",
    "\n",
    "qcomps=design.components\n",
    "\n",
    "\n",
    "\n",
    "eig_prcl.sim.setup.max_passes = 3\n",
    "\n",
    "eig_prcl.sim.setup_update(max_delta_f = 0.5, min_freq_ghz = 1)\n",
    "eig_prcl.sim.setup.min_passes = 2\n",
    "eig_prcl.sim.setup.n_modes = 2\n",
    "\n",
    "gui.rebuild()\n",
    "gui.autoscale()\n",
    "\n",
    "\n",
    "eig_prcl.sim.run(name=\"purcell_resonator\", components=['purcell2', 'TQ2', 'Tf_q2' ], open_terminations=[('TQ2', 'prime_start'), ('TQ2', 'prime_end'), ('Tf_q2', 'prime_start'), ('Tf_q2', 'prime_end')], box_plus_buffer = True)\n",
    "eig_prcl.sim.plot_convergences()\n"
   ]
  },
  {
   "cell_type": "markdown",
   "metadata": {},
   "source": [
    "# Q2 system together: transmon qubit, its RO and purcell filter"
   ]
  },
  {
   "cell_type": "markdown",
   "metadata": {},
   "source": [
    "Running for the full system: We aim to get qubit, RO frequency and purcell frequency all at the same time. We still haven't introduced any losses to the system yet. \n"
   ]
  },
  {
   "cell_type": "code",
   "execution_count": 14,
   "metadata": {
    "ExecuteTime": {
     "end_time": "2023-08-31T04:38:35.862622Z",
     "start_time": "2023-08-31T04:37:57.010742Z"
    }
   },
   "outputs": [
    {
     "name": "stderr",
     "output_type": "stream",
     "text": [
      "12:37AM 57s INFO [make_connection_pad]: Warning: Did you mean to define a transmon wubit with loc_W and loc_H that are not +1 or -1?? Are you sure you want to do this?\n",
      "12:37AM 57s WARNING [check_lengths]: For path table, component=cpw_openLast, key=trace has short segments that could cause issues with fillet. Values in (1-2)  are index(es) in shapely geometry.\n",
      "12:37AM 57s WARNING [check_lengths]: For path table, component=cpw_openLast, key=cut has short segments that could cause issues with fillet. Values in (1-2)  are index(es) in shapely geometry.\n",
      "12:37AM 57s INFO [connect_meandered]: Zero meanders for read_q2_part2\n",
      "12:37AM 57s INFO [make_connection_pad]: Warning: Did you mean to define a transmon wubit with loc_W and loc_H that are not +1 or -1?? Are you sure you want to do this?\n",
      "12:37AM 58s WARNING [check_lengths]: For path table, component=cpw_openLast, key=trace has short segments that could cause issues with fillet. Values in (1-2)  are index(es) in shapely geometry.\n",
      "12:37AM 58s WARNING [check_lengths]: For path table, component=cpw_openLast, key=cut has short segments that could cause issues with fillet. Values in (1-2)  are index(es) in shapely geometry.\n",
      "12:37AM 58s INFO [connect_meandered]: Zero meanders for read_q2_part2\n",
      "INFO 12:37AM [connect_project]: Connecting to Ansys Desktop API...\n",
      "INFO 12:37AM [load_ansys_project]: \tOpened Ansys App\n",
      "INFO 12:37AM [load_ansys_project]: \tOpened Ansys Desktop v2022.1.0\n",
      "INFO 12:37AM [load_ansys_project]: \tOpened Ansys Project\n",
      "\tFolder:    C:/Users/WANGLAB/Desktop/Ebru/\n",
      "\tProject:   Fluxonium_experiment_blabla\n",
      "INFO 12:37AM [connect_design]: \tOpened active design\n",
      "\tDesign:    Xmon_and_resonator_and_purcell_hfss [Solution type: Eigenmode]\n",
      "INFO 12:37AM [get_setup]: \tOpened setup `Setup`  (<class 'pyEPR.ansys.HfssEMSetup'>)\n",
      "INFO 12:37AM [connect]: \tConnected to project \"Fluxonium_experiment_blabla\" and design \"Xmon_and_resonator_and_purcell_hfss\" 😀 \n",
      "\n",
      "INFO 12:37AM [connect_design]: \tOpened active design\n",
      "\tDesign:    Xmon_and_resonator_and_purcell_hfss [Solution type: Eigenmode]\n",
      "INFO 12:38AM [get_setup]: \tOpened setup `Setup`  (<class 'pyEPR.ansys.HfssEMSetup'>)\n",
      "INFO 12:38AM [analyze]: Analyzing setup Setup\n"
     ]
    },
    {
     "ename": "com_error",
     "evalue": "(-2147352567, 'Exception occurred.', (0, None, None, None, 0, -2147024349), None)",
     "output_type": "error",
     "traceback": [
      "\u001b[1;31m---------------------------------------------------------------------------\u001b[0m",
      "\u001b[1;31mcom_error\u001b[0m                                 Traceback (most recent call last)",
      "Cell \u001b[1;32mIn[14], line 27\u001b[0m\n\u001b[0;32m     25\u001b[0m eig_Q2sys\u001b[38;5;241m.\u001b[39msim\u001b[38;5;241m.\u001b[39mrenderer\u001b[38;5;241m.\u001b[39m_options[\u001b[38;5;124m'\u001b[39m\u001b[38;5;124mmax_mesh_length_jj\u001b[39m\u001b[38;5;124m'\u001b[39m] \u001b[38;5;241m=\u001b[39m \u001b[38;5;124m'\u001b[39m\u001b[38;5;124m3um\u001b[39m\u001b[38;5;124m'\u001b[39m\n\u001b[0;32m     26\u001b[0m eig_Q2sys\u001b[38;5;241m.\u001b[39msim\u001b[38;5;241m.\u001b[39mrenderer\u001b[38;5;241m.\u001b[39m_options[\u001b[38;5;124m'\u001b[39m\u001b[38;5;124mmax_mesh_length_port\u001b[39m\u001b[38;5;124m'\u001b[39m] \u001b[38;5;241m=\u001b[39m \u001b[38;5;124m'\u001b[39m\u001b[38;5;124m3um\u001b[39m\u001b[38;5;124m'\u001b[39m\n\u001b[1;32m---> 27\u001b[0m \u001b[43meig_Q2sys\u001b[49m\u001b[38;5;241;43m.\u001b[39;49m\u001b[43msim\u001b[49m\u001b[38;5;241;43m.\u001b[39;49m\u001b[43mrun\u001b[49m\u001b[43m(\u001b[49m\u001b[43mname\u001b[49m\u001b[38;5;241;43m=\u001b[39;49m\u001b[38;5;124;43m\"\u001b[39;49m\u001b[38;5;124;43mXmon_and_resonator_and_purcell\u001b[39;49m\u001b[38;5;124;43m\"\u001b[39;49m\u001b[43m,\u001b[49m\u001b[43m \u001b[49m\u001b[43mcomponents\u001b[49m\u001b[38;5;241;43m=\u001b[39;49m\u001b[43m[\u001b[49m\u001b[38;5;124;43m'\u001b[39;49m\u001b[38;5;124;43mQ2\u001b[39;49m\u001b[38;5;124;43m'\u001b[39;49m\u001b[43m,\u001b[49m\u001b[38;5;124;43m'\u001b[39;49m\u001b[38;5;124;43mread_q2_part1\u001b[39;49m\u001b[38;5;124;43m'\u001b[39;49m\u001b[43m,\u001b[49m\u001b[38;5;124;43m'\u001b[39;49m\u001b[38;5;124;43mread_q2_part2\u001b[39;49m\u001b[38;5;124;43m'\u001b[39;49m\u001b[43m,\u001b[49m\u001b[43m \u001b[49m\u001b[38;5;124;43m'\u001b[39;49m\u001b[38;5;124;43motgQ2\u001b[39;49m\u001b[38;5;124;43m'\u001b[39;49m\u001b[43m,\u001b[49m\u001b[43m \u001b[49m\u001b[38;5;124;43m'\u001b[39;49m\u001b[38;5;124;43mTQ2\u001b[39;49m\u001b[38;5;124;43m'\u001b[39;49m\u001b[43m \u001b[49m\u001b[43m,\u001b[49m\u001b[43m \u001b[49m\n\u001b[0;32m     28\u001b[0m \u001b[43m                                                        \u001b[49m\u001b[38;5;124;43m'\u001b[39;49m\u001b[38;5;124;43mpurcell2\u001b[39;49m\u001b[38;5;124;43m'\u001b[39;49m\u001b[43m,\u001b[49m\u001b[38;5;124;43m'\u001b[39;49m\u001b[38;5;124;43mTf_q2\u001b[39;49m\u001b[38;5;124;43m'\u001b[39;49m\u001b[43m \u001b[49m\u001b[43m]\u001b[49m\u001b[43m,\u001b[49m\u001b[43m \u001b[49m\n\u001b[0;32m     29\u001b[0m \u001b[43m                \u001b[49m\u001b[43mopen_terminations\u001b[49m\u001b[38;5;241;43m=\u001b[39;49m\u001b[43m[\u001b[49m\u001b[43m(\u001b[49m\u001b[38;5;124;43m'\u001b[39;49m\u001b[38;5;124;43mTf_q2\u001b[39;49m\u001b[38;5;124;43m'\u001b[39;49m\u001b[43m,\u001b[49m\u001b[43m \u001b[49m\u001b[38;5;124;43m'\u001b[39;49m\u001b[38;5;124;43mprime_end\u001b[39;49m\u001b[38;5;124;43m'\u001b[39;49m\u001b[43m)\u001b[49m\u001b[43m,\u001b[49m\u001b[43m \u001b[49m\u001b[43m(\u001b[49m\u001b[38;5;124;43m'\u001b[39;49m\u001b[38;5;124;43mTf_q2\u001b[39;49m\u001b[38;5;124;43m'\u001b[39;49m\u001b[43m,\u001b[49m\u001b[43m \u001b[49m\u001b[38;5;124;43m'\u001b[39;49m\u001b[38;5;124;43mprime_start\u001b[39;49m\u001b[38;5;124;43m'\u001b[39;49m\u001b[43m)\u001b[49m\u001b[43m]\u001b[49m\u001b[43m,\u001b[49m\u001b[43m \u001b[49m\u001b[43mbox_plus_buffer\u001b[49m\u001b[43m \u001b[49m\u001b[38;5;241;43m=\u001b[39;49m\u001b[43m \u001b[49m\u001b[38;5;28;43;01mTrue\u001b[39;49;00m\u001b[43m)\u001b[49m\n\u001b[0;32m     32\u001b[0m eig_Q2sys\u001b[38;5;241m.\u001b[39msim\u001b[38;5;241m.\u001b[39mplot_convergences()\n",
      "File \u001b[1;32mc:\\users\\wanglab\\documents\\github\\qiskit-metal\\qiskit_metal\\analyses\\core\\simulation.py:203\u001b[0m, in \u001b[0;36mQSimulation.run\u001b[1;34m(self, *args, **kwargs)\u001b[0m\n\u001b[0;32m    199\u001b[0m \u001b[38;5;28;01mdef\u001b[39;00m \u001b[38;5;21mrun\u001b[39m(\u001b[38;5;28mself\u001b[39m, \u001b[38;5;241m*\u001b[39margs, \u001b[38;5;241m*\u001b[39m\u001b[38;5;241m*\u001b[39mkwargs):\n\u001b[0;32m    200\u001b[0m \u001b[38;5;250m    \u001b[39m\u001b[38;5;124;03m\"\"\"Alias for run_sim() necessary to implement super-class method, while\u001b[39;00m\n\u001b[0;32m    201\u001b[0m \u001b[38;5;124;03m    preventing method name collision when sim and non-sim QAnalysis classes are inherited.\u001b[39;00m\n\u001b[0;32m    202\u001b[0m \u001b[38;5;124;03m    \"\"\"\u001b[39;00m\n\u001b[1;32m--> 203\u001b[0m     \u001b[38;5;28;43mself\u001b[39;49m\u001b[38;5;241;43m.\u001b[39;49m\u001b[43mrun_sim\u001b[49m\u001b[43m(\u001b[49m\u001b[38;5;241;43m*\u001b[39;49m\u001b[43margs\u001b[49m\u001b[43m,\u001b[49m\u001b[43m \u001b[49m\u001b[38;5;241;43m*\u001b[39;49m\u001b[38;5;241;43m*\u001b[39;49m\u001b[43mkwargs\u001b[49m\u001b[43m)\u001b[49m\n",
      "File \u001b[1;32mc:\\users\\wanglab\\documents\\github\\qiskit-metal\\qiskit_metal\\analyses\\simulation\\eigenmode.py:141\u001b[0m, in \u001b[0;36mEigenmodeSim.run_sim\u001b[1;34m(self, name, components, open_terminations, port_list, jj_to_port, ignored_jjs, box_plus_buffer)\u001b[0m\n\u001b[0;32m    129\u001b[0m vars_to_initialize \u001b[38;5;241m=\u001b[39m \u001b[38;5;28mself\u001b[39m\u001b[38;5;241m.\u001b[39msetup\u001b[38;5;241m.\u001b[39mvars\n\u001b[0;32m    130\u001b[0m renderer_design_name \u001b[38;5;241m=\u001b[39m \u001b[38;5;28mself\u001b[39m\u001b[38;5;241m.\u001b[39m_render(\n\u001b[0;32m    131\u001b[0m     name\u001b[38;5;241m=\u001b[39mname,\n\u001b[0;32m    132\u001b[0m     solution_type\u001b[38;5;241m=\u001b[39m\u001b[38;5;124m'\u001b[39m\u001b[38;5;124meigenmode\u001b[39m\u001b[38;5;124m'\u001b[39m,\n\u001b[1;32m   (...)\u001b[0m\n\u001b[0;32m    138\u001b[0m     box_plus_buffer\u001b[38;5;241m=\u001b[39mbox_plus_buffer,\n\u001b[0;32m    139\u001b[0m     vars_to_initialize\u001b[38;5;241m=\u001b[39mvars_to_initialize)\n\u001b[1;32m--> 141\u001b[0m \u001b[38;5;28;43mself\u001b[39;49m\u001b[38;5;241;43m.\u001b[39;49m\u001b[43m_analyze\u001b[49m\u001b[43m(\u001b[49m\u001b[43m)\u001b[49m\n\u001b[0;32m    142\u001b[0m \u001b[38;5;28;01mreturn\u001b[39;00m renderer_design_name, \u001b[38;5;28mself\u001b[39m\u001b[38;5;241m.\u001b[39msim_setup_name\n",
      "File \u001b[1;32mc:\\users\\wanglab\\documents\\github\\qiskit-metal\\qiskit_metal\\analyses\\simulation\\eigenmode.py:81\u001b[0m, in \u001b[0;36mEigenmodeSim._analyze\u001b[1;34m(self)\u001b[0m\n\u001b[0;32m     75\u001b[0m \u001b[38;5;250m\u001b[39m\u001b[38;5;124;03m\"\"\"Executes the analysis step of the Run. First it initializes the renderer setup\u001b[39;00m\n\u001b[0;32m     76\u001b[0m \u001b[38;5;124;03mto prepare for eignemode analysis, then it executes it. Finally it recovers the\u001b[39;00m\n\u001b[0;32m     77\u001b[0m \u001b[38;5;124;03moutput of the analysis and stores it in self.convergence_t and self.convergence_f.\u001b[39;00m\n\u001b[0;32m     78\u001b[0m \u001b[38;5;124;03m\"\"\"\u001b[39;00m\n\u001b[0;32m     79\u001b[0m \u001b[38;5;28mself\u001b[39m\u001b[38;5;241m.\u001b[39msim_setup_name \u001b[38;5;241m=\u001b[39m \u001b[38;5;28mself\u001b[39m\u001b[38;5;241m.\u001b[39mrenderer\u001b[38;5;241m.\u001b[39minitialize_eigenmode(\u001b[38;5;241m*\u001b[39m\u001b[38;5;241m*\u001b[39m\u001b[38;5;28mself\u001b[39m\u001b[38;5;241m.\u001b[39msetup)\n\u001b[1;32m---> 81\u001b[0m \u001b[38;5;28;43mself\u001b[39;49m\u001b[38;5;241;43m.\u001b[39;49m\u001b[43mrenderer\u001b[49m\u001b[38;5;241;43m.\u001b[39;49m\u001b[43manalyze_setup\u001b[49m\u001b[43m(\u001b[49m\u001b[38;5;28;43mself\u001b[39;49m\u001b[38;5;241;43m.\u001b[39;49m\u001b[43msim_setup_name\u001b[49m\u001b[43m)\u001b[49m\n\u001b[0;32m     82\u001b[0m \u001b[38;5;28mself\u001b[39m\u001b[38;5;241m.\u001b[39mcompute_convergences()\n",
      "File \u001b[1;32mc:\\users\\wanglab\\documents\\github\\qiskit-metal\\qiskit_metal\\renderers\\renderer_ansys\\hfss_renderer.py:845\u001b[0m, in \u001b[0;36mQHFSSRenderer.analyze_setup\u001b[1;34m(self, setup_name)\u001b[0m\n\u001b[0;32m    843\u001b[0m \u001b[38;5;28;01mif\u001b[39;00m \u001b[38;5;28mself\u001b[39m\u001b[38;5;241m.\u001b[39mpinfo:\n\u001b[0;32m    844\u001b[0m     setup \u001b[38;5;241m=\u001b[39m \u001b[38;5;28mself\u001b[39m\u001b[38;5;241m.\u001b[39mpinfo\u001b[38;5;241m.\u001b[39mget_setup(setup_name)\n\u001b[1;32m--> 845\u001b[0m     \u001b[43msetup\u001b[49m\u001b[38;5;241;43m.\u001b[39;49m\u001b[43manalyze\u001b[49m\u001b[43m(\u001b[49m\u001b[43msetup_name\u001b[49m\u001b[43m)\u001b[49m\n",
      "File \u001b[1;32m~\\anaconda3\\envs\\qiskit-metal\\Lib\\site-packages\\pyEPR\\ansys.py:1065\u001b[0m, in \u001b[0;36mHfssSetup.analyze\u001b[1;34m(self, name)\u001b[0m\n\u001b[0;32m   1063\u001b[0m     name \u001b[38;5;241m=\u001b[39m \u001b[38;5;28mself\u001b[39m\u001b[38;5;241m.\u001b[39mname\n\u001b[0;32m   1064\u001b[0m logger\u001b[38;5;241m.\u001b[39minfo(\u001b[38;5;124mf\u001b[39m\u001b[38;5;124m'\u001b[39m\u001b[38;5;124mAnalyzing setup \u001b[39m\u001b[38;5;132;01m{\u001b[39;00mname\u001b[38;5;132;01m}\u001b[39;00m\u001b[38;5;124m'\u001b[39m)\n\u001b[1;32m-> 1065\u001b[0m \u001b[38;5;28;01mreturn\u001b[39;00m \u001b[38;5;28;43mself\u001b[39;49m\u001b[38;5;241;43m.\u001b[39;49m\u001b[43mparent\u001b[49m\u001b[38;5;241;43m.\u001b[39;49m\u001b[43m_design\u001b[49m\u001b[38;5;241;43m.\u001b[39;49m\u001b[43mAnalyze\u001b[49m\u001b[43m(\u001b[49m\u001b[43mname\u001b[49m\u001b[43m)\u001b[49m\n",
      "File \u001b[1;32m<COMObject GetDesign>:2\u001b[0m, in \u001b[0;36mAnalyze\u001b[1;34m(self, simulationName)\u001b[0m\n",
      "\u001b[1;31mcom_error\u001b[0m: (-2147352567, 'Exception occurred.', (0, None, None, None, 0, -2147024349), None)"
     ]
    }
   ],
   "source": [
    "from qiskit_metal.analyses.quantization import EPRanalysis\n",
    "eig_Q2sys = EPRanalysis(design, \"hfss\")\n",
    "\n",
    "eig_Q2sys.sim.setup.vars.Lj = '10.9 nH'\n",
    "eig_Q2sys.sim.setup.vars = Dict({'Lj': '10.9 nH', 'Cj': '3 fF'})\n",
    "gui.rebuild()\n",
    "gui.autoscale()\n",
    "\n",
    "design.qgeometry.tables['junction']\n",
    "qcomps=design.components\n",
    "qcomps['Q2'].options['hfss_inductance'] = 'Lj'\n",
    "qcomps['Q2'].options['hfss_capacitance'] = 'Cj'\n",
    "\n",
    "\n",
    "eig_Q2sys.sim.setup.max_passes = 15\n",
    "\n",
    "eig_Q2sys.sim.setup_update(max_delta_f = 0.5, min_freq_ghz = 1)\n",
    "eig_Q2sys.sim.setup.min_passes = 14\n",
    "eig_Q2sys.sim.setup.n_modes = 3\n",
    "\n",
    "gui.rebuild()\n",
    "gui.autoscale()\n",
    "\n",
    "\n",
    "eig_Q2sys.sim.renderer._options['max_mesh_length_jj'] = '3um'\n",
    "eig_Q2sys.sim.renderer._options['max_mesh_length_port'] = '3um'\n",
    "eig_Q2sys.sim.run(name=\"Xmon_and_resonator_and_purcell\", components=['Q2','read_q2_part1','read_q2_part2', 'otgQ2', 'TQ2' , \n",
    "                                                        'purcell2','Tf_q2' ], \n",
    "                open_terminations=[('Tf_q2', 'prime_end'), ('Tf_q2', 'prime_start')], box_plus_buffer = True)\n",
    "\n",
    "\n",
    "eig_Q2sys.sim.plot_convergences()\n"
   ]
  },
  {
   "cell_type": "code",
   "execution_count": null,
   "metadata": {
    "ExecuteTime": {
     "end_time": "2023-08-28T05:49:20.939686Z",
     "start_time": "2023-08-28T05:49:14.782163Z"
    }
   },
   "outputs": [],
   "source": [
    "\n",
    "eig_Q2sys.setup.junctions.jj.rect = 'JJ_rect_Lj_Q2_rect_jj'\n",
    "eig_Q2sys.setup.junctions.jj.line = 'JJ_Lj_Q2_rect_jj_'\n",
    "eig_Q2sys.run_epr()"
   ]
  },
  {
   "cell_type": "markdown",
   "metadata": {},
   "source": [
    "# Readout Tee's and Readout Resonators (Q1: fluxonium)"
   ]
  },
  {
   "cell_type": "code",
   "execution_count": 42,
   "metadata": {
    "ExecuteTime": {
     "end_time": "2023-08-31T06:41:10.650942Z",
     "start_time": "2023-08-31T06:41:09.671277Z"
    },
    "scrolled": true
   },
   "outputs": [
    {
     "name": "stderr",
     "output_type": "stream",
     "text": [
      "02:41AM 10s WARNING [check_lengths]: For path table, component=cpw_openLast, key=trace has short segments that could cause issues with fillet. Values in (1-2)  are index(es) in shapely geometry.\n",
      "02:41AM 10s WARNING [check_lengths]: For path table, component=cpw_openLast, key=cut has short segments that could cause issues with fillet. Values in (1-2)  are index(es) in shapely geometry.\n",
      "02:41AM 10s INFO [make_connection_pad]: Warning: Did you mean to define a transmon wubit with loc_W and loc_H that are not +1 or -1?? Are you sure you want to do this?\n",
      "02:41AM 10s INFO [connect_meandered]: Zero meanders for read_q2_part2\n"
     ]
    }
   ],
   "source": [
    "from qiskit_metal.qlibrary.couplers.cap_n_interdigital_tee import CapNInterdigitalTee\n",
    "TQ1 = CapNInterdigitalTee(design, 'TQ1', options=dict(pos_x='0.1mm',\n",
    "                                            pos_y='1.8mm',\n",
    "                                           orientation=0, finger_length='15um', finger_count='6',cap_gap='3um', cap_width='5um',\n",
    "                                                open_termination=False))\n",
    "#TQT=LineTee(design, 'TQT',options=dict(pos_x='-2.9mm', pos_y='-0.10mm'))\n",
    "\n",
    "otgQ1 = OpenToGround(design, 'otgQ1', options = dict(pos_x='1.49mm', \n",
    "                                                   pos_y='-1mm', orientation='270', termination_gap='6um', gap='6um'))\n",
    "\n",
    "#Coupler_resonator2 = CapNInterdigitalTee(design, 'Coupler_resonator2', options=dict(pos_x='-1.1mm', pos_y='-0.09mm'))\n",
    "\n",
    "\n",
    "options1_part1 = Dict(\n",
    "     total_length='8.075mm',\n",
    "     fillet='30um',\n",
    "    hfss_wire_bonds=False,\n",
    "     lead = dict(start_straight='500um'),\n",
    "     pin_inputs=Dict(\n",
    "         end_pin=Dict(\n",
    "             component='TQ1',\n",
    "             pin='second_end'),\n",
    "         start_pin=Dict(\n",
    "             component='Q1',\n",
    "             pin='a')),\n",
    "     meander=Dict(spacing='200um',\n",
    "             asymmetry='0um'))\n",
    "\n",
    "options1_part2 = Dict(\n",
    "     total_length='2.3mm',\n",
    "     hfss_wire_bonds = False,\n",
    "     fillet='40um',\n",
    "     lead = dict(start_straight='100um', end_straight='100um'),\n",
    "     pin_inputs=Dict(\n",
    "         end_pin=Dict(\n",
    "             component='otgQ1',\n",
    "             pin='open'),\n",
    "         start_pin=Dict(\n",
    "             component='TQ1',\n",
    "             pin='prime_start')),\n",
    "     meander=Dict(spacing='300um',\n",
    "             asymmetry='0um'),)\n",
    "read_q1_part1 = RouteMeander(design, 'read_q1_part1', options=options1_part1)\n",
    "#read_q1_part2 = RouteMeander(design, 'read_q1_part2', options=options1_part2)\n",
    "\n",
    "\n",
    "\n",
    "# options2_part2 = Dict(\n",
    "#      total_length='1mm',\n",
    "#      hfss_wire_bonds = False,\n",
    "#      fillet='40um',\n",
    "#      #lead = dict(start_straight='300um', end_straight='200um'),\n",
    "#      pin_inputs=Dict(\n",
    "#          end_pin=Dict(\n",
    "#              component='TQT',\n",
    "#              pin='second_end'),\n",
    "#          start_pin=Dict(\n",
    "#              component='TQ2',\n",
    "#              pin='second_end')),\n",
    "#      meander=Dict(spacing='300um',\n",
    "#              asymmetry='0um'))\n",
    "\n",
    "gui.rebuild()\n",
    "gui.autoscale()\n"
   ]
  },
  {
   "cell_type": "code",
   "execution_count": 39,
   "metadata": {
    "ExecuteTime": {
     "end_time": "2023-08-31T06:39:25.593111Z",
     "start_time": "2023-08-31T06:39:23.859149Z"
    },
    "scrolled": true
   },
   "outputs": [
    {
     "name": "stderr",
     "output_type": "stream",
     "text": [
      "02:39AM 24s WARNING [check_lengths]: For path table, component=cpw_openMid, key=trace has short segments that could cause issues with fillet. Values in (1-1)  are index(es) in shapely geometry.\n",
      "02:39AM 24s WARNING [check_lengths]: For path table, component=cpw_openMid, key=cut has short segments that could cause issues with fillet. Values in (1-1)  are index(es) in shapely geometry.\n",
      "02:39AM 24s WARNING [check_lengths]: For path table, component=cpw_openLast, key=trace has short segments that could cause issues with fillet. Values in (1-2)  are index(es) in shapely geometry.\n",
      "02:39AM 24s WARNING [check_lengths]: For path table, component=cpw_openLast, key=cut has short segments that could cause issues with fillet. Values in (1-2)  are index(es) in shapely geometry.\n",
      "02:39AM 24s INFO [make_connection_pad]: Warning: Did you mean to define a transmon wubit with loc_W and loc_H that are not +1 or -1?? Are you sure you want to do this?\n",
      "02:39AM 24s INFO [connect_meandered]: Zero meanders for read_q2_part2\n",
      "02:39AM 24s WARNING [check_lengths]: For path table, component=read_q1_part1, key=trace has short segments that could cause issues with fillet. Values in (25-25)  are index(es) in shapely geometry.\n",
      "02:39AM 24s WARNING [check_lengths]: For path table, component=read_q1_part1, key=cut has short segments that could cause issues with fillet. Values in (25-25)  are index(es) in shapely geometry.\n",
      "02:39AM 25s WARNING [check_lengths]: For path table, component=cpw_openMid, key=trace has short segments that could cause issues with fillet. Values in (1-1)  are index(es) in shapely geometry.\n",
      "02:39AM 25s WARNING [check_lengths]: For path table, component=cpw_openMid, key=cut has short segments that could cause issues with fillet. Values in (1-1)  are index(es) in shapely geometry.\n",
      "02:39AM 25s WARNING [check_lengths]: For path table, component=cpw_openLast, key=trace has short segments that could cause issues with fillet. Values in (1-2)  are index(es) in shapely geometry.\n",
      "02:39AM 25s WARNING [check_lengths]: For path table, component=cpw_openLast, key=cut has short segments that could cause issues with fillet. Values in (1-2)  are index(es) in shapely geometry.\n",
      "02:39AM 25s INFO [make_connection_pad]: Warning: Did you mean to define a transmon wubit with loc_W and loc_H that are not +1 or -1?? Are you sure you want to do this?\n",
      "02:39AM 25s INFO [connect_meandered]: Zero meanders for read_q2_part2\n",
      "02:39AM 25s WARNING [check_lengths]: For path table, component=read_q1_part1, key=trace has short segments that could cause issues with fillet. Values in (25-25)  are index(es) in shapely geometry.\n",
      "02:39AM 25s WARNING [check_lengths]: For path table, component=read_q1_part1, key=cut has short segments that could cause issues with fillet. Values in (25-25)  are index(es) in shapely geometry.\n"
     ]
    }
   ],
   "source": [
    "from qiskit_metal.analyses.quantization import EPRanalysis\n",
    "eig_qb1 = EPRanalysis(design, \"hfss\")\n",
    "\n",
    "eig_qb1.sim.setup.vars.Lj = '10.9 nH'\n",
    "eig_qb1.sim.setup.vars = Dict({'Lj': '10.9 nH', 'Cj': '3 fF'})\n",
    "gui.rebuild()\n",
    "gui.autoscale()\n",
    "\n",
    "design.qgeometry.tables['junction']\n",
    "qcomps=design.components\n",
    "qcomps['Q1'].options['hfss_inductance'] = 'Lj'\n",
    "qcomps['Q1'].options['hfss_capacitance'] = 'Cj'\n",
    "\n",
    "\n",
    "eig_qb1.sim.setup.max_passes = 20\n",
    "\n",
    "eig_qb1.sim.setup_update(max_delta_f = 0.5, min_freq_ghz = 1)\n",
    "eig_qb1.sim.setup.min_passes = 15\n",
    "eig_qb1.sim.setup.n_modes = 3\n",
    "\n",
    "gui.rebuild()\n",
    "gui.autoscale()\n",
    "\n",
    "\n",
    "eig_qb1.sim.renderer._options['max_mesh_length_jj'] = '3um'\n",
    "eig_qb1.sim.renderer._options['max_mesh_length_port'] = '3um'\n",
    "\n",
    "\n",
    "\n"
   ]
  },
  {
   "cell_type": "code",
   "execution_count": 43,
   "metadata": {
    "ExecuteTime": {
     "end_time": "2023-08-31T06:44:57.963665Z",
     "start_time": "2023-08-31T06:41:19.435016Z"
    }
   },
   "outputs": [
    {
     "name": "stderr",
     "output_type": "stream",
     "text": [
      "INFO 02:41AM [connect_design]: \tOpened active design\n",
      "\tDesign:    Fluxonium_and_resonator_hfss [Solution type: Eigenmode]\n",
      "INFO 02:41AM [get_setup]: \tOpened setup `Setup`  (<class 'pyEPR.ansys.HfssEMSetup'>)\n",
      "INFO 02:41AM [analyze]: Analyzing setup Setup\n"
     ]
    },
    {
     "ename": "com_error",
     "evalue": "(-2147352567, 'Exception occurred.', (0, None, 'Class not registered\\r\\n', None, 0, -2147024349), None)",
     "output_type": "error",
     "traceback": [
      "\u001b[1;31m---------------------------------------------------------------------------\u001b[0m",
      "\u001b[1;31mcom_error\u001b[0m                                 Traceback (most recent call last)",
      "Cell \u001b[1;32mIn[43], line 1\u001b[0m\n\u001b[1;32m----> 1\u001b[0m \u001b[43meig_qb1\u001b[49m\u001b[38;5;241;43m.\u001b[39;49m\u001b[43msim\u001b[49m\u001b[38;5;241;43m.\u001b[39;49m\u001b[43mrun\u001b[49m\u001b[43m(\u001b[49m\u001b[43mname\u001b[49m\u001b[38;5;241;43m=\u001b[39;49m\u001b[38;5;124;43m\"\u001b[39;49m\u001b[38;5;124;43mFluxonium_and_resonator\u001b[39;49m\u001b[38;5;124;43m\"\u001b[39;49m\u001b[43m,\u001b[49m\u001b[43m \u001b[49m\u001b[43mcomponents\u001b[49m\u001b[38;5;241;43m=\u001b[39;49m\u001b[43m[\u001b[49m\u001b[38;5;124;43m'\u001b[39;49m\u001b[38;5;124;43mQ1\u001b[39;49m\u001b[38;5;124;43m'\u001b[39;49m\u001b[43m,\u001b[49m\u001b[38;5;124;43m'\u001b[39;49m\u001b[38;5;124;43mread_q1_part1\u001b[39;49m\u001b[38;5;124;43m'\u001b[39;49m\u001b[43m,\u001b[49m\u001b[38;5;124;43m'\u001b[39;49m\u001b[38;5;124;43mTQ1\u001b[39;49m\u001b[38;5;124;43m'\u001b[39;49m\u001b[43m \u001b[49m\u001b[43m,\u001b[49m\u001b[43m \u001b[49m\n\u001b[0;32m      2\u001b[0m \u001b[43m                                                        \u001b[49m\u001b[43m]\u001b[49m\u001b[43m,\u001b[49m\u001b[43m \u001b[49m\n\u001b[0;32m      3\u001b[0m \u001b[43m               \u001b[49m\u001b[43mopen_terminations\u001b[49m\u001b[38;5;241;43m=\u001b[39;49m\u001b[43m[\u001b[49m\u001b[43m(\u001b[49m\u001b[38;5;124;43m'\u001b[39;49m\u001b[38;5;124;43mTQ1\u001b[39;49m\u001b[38;5;124;43m'\u001b[39;49m\u001b[43m,\u001b[49m\u001b[43m \u001b[49m\u001b[38;5;124;43m'\u001b[39;49m\u001b[38;5;124;43msecond_end\u001b[39;49m\u001b[38;5;124;43m'\u001b[39;49m\u001b[43m)\u001b[49m\u001b[43m,\u001b[49m\u001b[43m \u001b[49m\u001b[43m(\u001b[49m\u001b[38;5;124;43m'\u001b[39;49m\u001b[38;5;124;43mTQ1\u001b[39;49m\u001b[38;5;124;43m'\u001b[39;49m\u001b[43m,\u001b[49m\u001b[43m \u001b[49m\u001b[38;5;124;43m'\u001b[39;49m\u001b[38;5;124;43mprime_end\u001b[39;49m\u001b[38;5;124;43m'\u001b[39;49m\u001b[43m)\u001b[49m\u001b[43m,\u001b[49m\u001b[43m(\u001b[49m\u001b[38;5;124;43m'\u001b[39;49m\u001b[38;5;124;43mTQ1\u001b[39;49m\u001b[38;5;124;43m'\u001b[39;49m\u001b[43m,\u001b[49m\u001b[43m \u001b[49m\u001b[38;5;124;43m'\u001b[39;49m\u001b[38;5;124;43mprime_start\u001b[39;49m\u001b[38;5;124;43m'\u001b[39;49m\u001b[43m)\u001b[49m\u001b[43m]\u001b[49m\u001b[43m,\u001b[49m\u001b[43m \u001b[49m\u001b[43mbox_plus_buffer\u001b[49m\u001b[43m \u001b[49m\u001b[38;5;241;43m=\u001b[39;49m\u001b[43m \u001b[49m\u001b[38;5;28;43;01mFalse\u001b[39;49;00m\u001b[43m)\u001b[49m\n\u001b[0;32m      5\u001b[0m eig_qb1\u001b[38;5;241m.\u001b[39msim\u001b[38;5;241m.\u001b[39mplot_convergences()\n",
      "File \u001b[1;32mc:\\users\\wanglab\\documents\\github\\qiskit-metal\\qiskit_metal\\analyses\\core\\simulation.py:203\u001b[0m, in \u001b[0;36mQSimulation.run\u001b[1;34m(self, *args, **kwargs)\u001b[0m\n\u001b[0;32m    199\u001b[0m \u001b[38;5;28;01mdef\u001b[39;00m \u001b[38;5;21mrun\u001b[39m(\u001b[38;5;28mself\u001b[39m, \u001b[38;5;241m*\u001b[39margs, \u001b[38;5;241m*\u001b[39m\u001b[38;5;241m*\u001b[39mkwargs):\n\u001b[0;32m    200\u001b[0m \u001b[38;5;250m    \u001b[39m\u001b[38;5;124;03m\"\"\"Alias for run_sim() necessary to implement super-class method, while\u001b[39;00m\n\u001b[0;32m    201\u001b[0m \u001b[38;5;124;03m    preventing method name collision when sim and non-sim QAnalysis classes are inherited.\u001b[39;00m\n\u001b[0;32m    202\u001b[0m \u001b[38;5;124;03m    \"\"\"\u001b[39;00m\n\u001b[1;32m--> 203\u001b[0m     \u001b[38;5;28;43mself\u001b[39;49m\u001b[38;5;241;43m.\u001b[39;49m\u001b[43mrun_sim\u001b[49m\u001b[43m(\u001b[49m\u001b[38;5;241;43m*\u001b[39;49m\u001b[43margs\u001b[49m\u001b[43m,\u001b[49m\u001b[43m \u001b[49m\u001b[38;5;241;43m*\u001b[39;49m\u001b[38;5;241;43m*\u001b[39;49m\u001b[43mkwargs\u001b[49m\u001b[43m)\u001b[49m\n",
      "File \u001b[1;32mc:\\users\\wanglab\\documents\\github\\qiskit-metal\\qiskit_metal\\analyses\\simulation\\eigenmode.py:141\u001b[0m, in \u001b[0;36mEigenmodeSim.run_sim\u001b[1;34m(self, name, components, open_terminations, port_list, jj_to_port, ignored_jjs, box_plus_buffer)\u001b[0m\n\u001b[0;32m    129\u001b[0m vars_to_initialize \u001b[38;5;241m=\u001b[39m \u001b[38;5;28mself\u001b[39m\u001b[38;5;241m.\u001b[39msetup\u001b[38;5;241m.\u001b[39mvars\n\u001b[0;32m    130\u001b[0m renderer_design_name \u001b[38;5;241m=\u001b[39m \u001b[38;5;28mself\u001b[39m\u001b[38;5;241m.\u001b[39m_render(\n\u001b[0;32m    131\u001b[0m     name\u001b[38;5;241m=\u001b[39mname,\n\u001b[0;32m    132\u001b[0m     solution_type\u001b[38;5;241m=\u001b[39m\u001b[38;5;124m'\u001b[39m\u001b[38;5;124meigenmode\u001b[39m\u001b[38;5;124m'\u001b[39m,\n\u001b[1;32m   (...)\u001b[0m\n\u001b[0;32m    138\u001b[0m     box_plus_buffer\u001b[38;5;241m=\u001b[39mbox_plus_buffer,\n\u001b[0;32m    139\u001b[0m     vars_to_initialize\u001b[38;5;241m=\u001b[39mvars_to_initialize)\n\u001b[1;32m--> 141\u001b[0m \u001b[38;5;28;43mself\u001b[39;49m\u001b[38;5;241;43m.\u001b[39;49m\u001b[43m_analyze\u001b[49m\u001b[43m(\u001b[49m\u001b[43m)\u001b[49m\n\u001b[0;32m    142\u001b[0m \u001b[38;5;28;01mreturn\u001b[39;00m renderer_design_name, \u001b[38;5;28mself\u001b[39m\u001b[38;5;241m.\u001b[39msim_setup_name\n",
      "File \u001b[1;32mc:\\users\\wanglab\\documents\\github\\qiskit-metal\\qiskit_metal\\analyses\\simulation\\eigenmode.py:81\u001b[0m, in \u001b[0;36mEigenmodeSim._analyze\u001b[1;34m(self)\u001b[0m\n\u001b[0;32m     75\u001b[0m \u001b[38;5;250m\u001b[39m\u001b[38;5;124;03m\"\"\"Executes the analysis step of the Run. First it initializes the renderer setup\u001b[39;00m\n\u001b[0;32m     76\u001b[0m \u001b[38;5;124;03mto prepare for eignemode analysis, then it executes it. Finally it recovers the\u001b[39;00m\n\u001b[0;32m     77\u001b[0m \u001b[38;5;124;03moutput of the analysis and stores it in self.convergence_t and self.convergence_f.\u001b[39;00m\n\u001b[0;32m     78\u001b[0m \u001b[38;5;124;03m\"\"\"\u001b[39;00m\n\u001b[0;32m     79\u001b[0m \u001b[38;5;28mself\u001b[39m\u001b[38;5;241m.\u001b[39msim_setup_name \u001b[38;5;241m=\u001b[39m \u001b[38;5;28mself\u001b[39m\u001b[38;5;241m.\u001b[39mrenderer\u001b[38;5;241m.\u001b[39minitialize_eigenmode(\u001b[38;5;241m*\u001b[39m\u001b[38;5;241m*\u001b[39m\u001b[38;5;28mself\u001b[39m\u001b[38;5;241m.\u001b[39msetup)\n\u001b[1;32m---> 81\u001b[0m \u001b[38;5;28;43mself\u001b[39;49m\u001b[38;5;241;43m.\u001b[39;49m\u001b[43mrenderer\u001b[49m\u001b[38;5;241;43m.\u001b[39;49m\u001b[43manalyze_setup\u001b[49m\u001b[43m(\u001b[49m\u001b[38;5;28;43mself\u001b[39;49m\u001b[38;5;241;43m.\u001b[39;49m\u001b[43msim_setup_name\u001b[49m\u001b[43m)\u001b[49m\n\u001b[0;32m     82\u001b[0m \u001b[38;5;28mself\u001b[39m\u001b[38;5;241m.\u001b[39mcompute_convergences()\n",
      "File \u001b[1;32mc:\\users\\wanglab\\documents\\github\\qiskit-metal\\qiskit_metal\\renderers\\renderer_ansys\\hfss_renderer.py:845\u001b[0m, in \u001b[0;36mQHFSSRenderer.analyze_setup\u001b[1;34m(self, setup_name)\u001b[0m\n\u001b[0;32m    843\u001b[0m \u001b[38;5;28;01mif\u001b[39;00m \u001b[38;5;28mself\u001b[39m\u001b[38;5;241m.\u001b[39mpinfo:\n\u001b[0;32m    844\u001b[0m     setup \u001b[38;5;241m=\u001b[39m \u001b[38;5;28mself\u001b[39m\u001b[38;5;241m.\u001b[39mpinfo\u001b[38;5;241m.\u001b[39mget_setup(setup_name)\n\u001b[1;32m--> 845\u001b[0m     \u001b[43msetup\u001b[49m\u001b[38;5;241;43m.\u001b[39;49m\u001b[43manalyze\u001b[49m\u001b[43m(\u001b[49m\u001b[43msetup_name\u001b[49m\u001b[43m)\u001b[49m\n",
      "File \u001b[1;32m~\\anaconda3\\envs\\qiskit-metal\\Lib\\site-packages\\pyEPR\\ansys.py:1065\u001b[0m, in \u001b[0;36mHfssSetup.analyze\u001b[1;34m(self, name)\u001b[0m\n\u001b[0;32m   1063\u001b[0m     name \u001b[38;5;241m=\u001b[39m \u001b[38;5;28mself\u001b[39m\u001b[38;5;241m.\u001b[39mname\n\u001b[0;32m   1064\u001b[0m logger\u001b[38;5;241m.\u001b[39minfo(\u001b[38;5;124mf\u001b[39m\u001b[38;5;124m'\u001b[39m\u001b[38;5;124mAnalyzing setup \u001b[39m\u001b[38;5;132;01m{\u001b[39;00mname\u001b[38;5;132;01m}\u001b[39;00m\u001b[38;5;124m'\u001b[39m)\n\u001b[1;32m-> 1065\u001b[0m \u001b[38;5;28;01mreturn\u001b[39;00m \u001b[38;5;28;43mself\u001b[39;49m\u001b[38;5;241;43m.\u001b[39;49m\u001b[43mparent\u001b[49m\u001b[38;5;241;43m.\u001b[39;49m\u001b[43m_design\u001b[49m\u001b[38;5;241;43m.\u001b[39;49m\u001b[43mAnalyze\u001b[49m\u001b[43m(\u001b[49m\u001b[43mname\u001b[49m\u001b[43m)\u001b[49m\n",
      "File \u001b[1;32m<COMObject GetDesign>:2\u001b[0m, in \u001b[0;36mAnalyze\u001b[1;34m(self, simulationName)\u001b[0m\n",
      "\u001b[1;31mcom_error\u001b[0m: (-2147352567, 'Exception occurred.', (0, None, 'Class not registered\\r\\n', None, 0, -2147024349), None)"
     ]
    }
   ],
   "source": [
    "eig_qb1.sim.run(name=\"Fluxonium_and_resonator\", components=['Q1','read_q1_part1','TQ1' , \n",
    "                                                        ], \n",
    "               open_terminations=[('TQ1', 'second_end'), ('TQ1', 'prime_end'),('TQ1', 'prime_start')], box_plus_buffer = False)\n",
    "\n",
    "eig_qb1.sim.plot_convergences()\n"
   ]
  },
  {
   "cell_type": "code",
   "execution_count": null,
   "metadata": {
    "ExecuteTime": {
     "end_time": "2023-08-29T02:50:06.486103Z",
     "start_time": "2023-08-29T02:49:53.042853Z"
    }
   },
   "outputs": [],
   "source": [
    "\n",
    "eig_qb1.setup.junctions.jj.rect = 'JJ_rect_Lj_Q1_rect_jj'\n",
    "eig_qb1.setup.junctions.jj.line = 'JJ_Lj_Q1_rect_jj_'\n",
    "eig_qb1.run_epr()"
   ]
  },
  {
   "cell_type": "code",
   "execution_count": null,
   "metadata": {},
   "outputs": [],
   "source": []
  },
  {
   "cell_type": "code",
   "execution_count": null,
   "metadata": {},
   "outputs": [],
   "source": []
  },
  {
   "cell_type": "code",
   "execution_count": null,
   "metadata": {},
   "outputs": [],
   "source": []
  },
  {
   "cell_type": "code",
   "execution_count": null,
   "metadata": {},
   "outputs": [],
   "source": []
  },
  {
   "cell_type": "code",
   "execution_count": null,
   "metadata": {},
   "outputs": [],
   "source": []
  }
 ],
 "metadata": {
  "kernelspec": {
   "display_name": "Python 3 (ipykernel)",
   "language": "python",
   "name": "python3"
  },
  "language_info": {
   "codemirror_mode": {
    "name": "ipython",
    "version": 3
   },
   "file_extension": ".py",
   "mimetype": "text/x-python",
   "name": "python",
   "nbconvert_exporter": "python",
   "pygments_lexer": "ipython3",
   "version": "3.11.4"
  },
  "varInspector": {
   "cols": {
    "lenName": 16,
    "lenType": 16,
    "lenVar": 40
   },
   "kernels_config": {
    "python": {
     "delete_cmd_postfix": "",
     "delete_cmd_prefix": "del ",
     "library": "var_list.py",
     "varRefreshCmd": "print(var_dic_list())"
    },
    "r": {
     "delete_cmd_postfix": ") ",
     "delete_cmd_prefix": "rm(",
     "library": "var_list.r",
     "varRefreshCmd": "cat(var_dic_list()) "
    }
   },
   "types_to_exclude": [
    "module",
    "function",
    "builtin_function_or_method",
    "instance",
    "_Feature"
   ],
   "window_display": false
  }
 },
 "nbformat": 4,
 "nbformat_minor": 4
}

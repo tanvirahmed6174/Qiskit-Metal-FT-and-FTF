{
 "cells": [
  {
   "cell_type": "markdown",
   "metadata": {},
   "source": [
    "#Step by step design for the two resonator single xmon design. \n"
   ]
  },
  {
   "cell_type": "markdown",
   "metadata": {},
   "source": [
    "## Sections\n",
    "### I. Transmon only\n",
    "1. Prepare the layout in qiskit-metal. <br>\n",
    "1. Run finite element eigenmode analysis. <br>\n",
    "1. Plot fields and display them. <br>\n",
    "1. Set up EPR junction dictionary. <br>\n",
    "1. Run EPR analysis on single mode. <br>\n",
    "1. Get qubit freq and anharmonicity. <br>\n",
    "1. Calculate EPR of substrate.  <br>\n",
    "1. (Extra: Calculate surface EPR.) <br>\n",
    "\n",
    "### II. Resonator only\n",
    "1. Update the layout in qiskit-metal. <br>\n",
    "1. Run finite element eigenmode analysis. <br>\n",
    "1. Plot fields and display them. <br>\n",
    "1. Calculate EPR of substrate. <br>\n",
    "    \n",
    "### III. Transmon & resonator\n",
    "1. Update the layout in qiskit-metal. <br>\n",
    "1. Run finite element eigenmode analysis. <br>\n",
    "1. Plot fields and display them. <br>\n",
    "1. Set up EPR junction dictionary. <br>\n",
    "1. Run EPR analysis on the two modes. <br>\n",
    "1. Get qubit frequency and anharmonicity. <br>\n",
    "\n",
    "### IV. Transmon & resonator\n",
    "1. Update the layout in qiskit-metal. <br>\n",
    "1. Run finite element eigenmode analysis. <br>\n",
    "1. Plot fields and display them. <br>\n",
    "1. Set up EPR junction dictionary. <br>\n",
    "1. Run EPR analysis on the two modes. <br>\n",
    "1. Get qubit frequency and anharmonicity. <br>\n",
    "\n",
    "### V. Analyze the coupled  transmon 2 resonator system. \n",
    "1. Finite Element Eigenmode Analysis\n",
    "1. Identify the mode you want. The mode can inclusively be from 1 to setup.n_modes.\n",
    "1. Set variables in the Ansys design. As before, we seek 2 modes.\n",
    "1. Set up the simulation and specify the variables for the sweep.\n",
    "1. Plot the E-field on the chip's surface.\n",
    "1. Specify the junctions in the model; in this case there are 2 junctions.\n",
    "1. Find the electric and magnetic energy stored in the substrate and the system as a whole.\n",
    "1. Perform EPR analysis for all modes and variations."
   ]
  },
  {
   "cell_type": "code",
   "execution_count": 1,
   "metadata": {
    "ExecuteTime": {
     "end_time": "2023-07-25T23:25:12.586226Z",
     "start_time": "2023-07-25T23:25:12.551049Z"
    },
    "scrolled": true
   },
   "outputs": [],
   "source": [
    "%reload_ext autoreload\n",
    "%autoreload 2\n"
   ]
  },
  {
   "cell_type": "code",
   "execution_count": 2,
   "metadata": {
    "ExecuteTime": {
     "end_time": "2023-07-25T23:25:15.599323Z",
     "start_time": "2023-07-25T23:25:13.182943Z"
    },
    "scrolled": true
   },
   "outputs": [
    {
     "data": {
      "text/html": [
       "\n",
       "    <h1 style=\"\n",
       "        background: #12c2e9;  /* fallback for old browsers */\n",
       "        background: -webkit-linear-gradient(to right, #d4418e 0%, #0652c5 74%);  /* Chrome 10-25, Safari 5.1-6 */\n",
       "        background: linear-gradient(315deg, #d4418e 0%, #0652c5 74%); /* W3C, IE 10+/ Edge, Firefox 16+, Chrome 26+, Opera 12+, Safari 7+ */\n",
       "        margin-top: 50px;\n",
       "        border-style: outset;\n",
       "        padding-top:100px;\n",
       "        padding-bottom:50px;\n",
       "        padding-left:25px;\n",
       "        color: white;\n",
       "    \"> Qiskit Metal works fine! - Here are the design components! <h1>\n",
       "        "
      ],
      "text/plain": [
       "<IPython.core.display.HTML object>"
      ]
     },
     "metadata": {},
     "output_type": "display_data"
    }
   ],
   "source": [
    "\n",
    "import qiskit_metal as metal\n",
    "from qiskit_metal import designs, draw\n",
    "from qiskit_metal import MetalGUI, Dict, Headings\n",
    "import pyEPR as epr\n",
    "%metal_heading Qiskit Metal works fine! - Here are the design components!"
   ]
  },
  {
   "cell_type": "code",
   "execution_count": 3,
   "metadata": {
    "ExecuteTime": {
     "end_time": "2023-07-25T23:25:15.911364Z",
     "start_time": "2023-07-25T23:25:15.857646Z"
    },
    "scrolled": true
   },
   "outputs": [],
   "source": [
    "from qiskit_metal.qlibrary.qubits.transmon_pocket_cl import TransmonPocketCL\n",
    "\n",
    "from qiskit_metal.qlibrary.qubits.transmon_pocket_cl_fl import TransmonPocketCL_FL\n",
    "from qiskit_metal.qlibrary.qubits.transmon_cross_fl import TransmonCrossFL\n",
    "from qiskit_metal.qlibrary.qubits.transmon_cross_fl_cl import TransmonCrossFL_CL\n",
    "from qiskit_metal.qlibrary.qubits.transmon_cross import TransmonCross\n",
    "from qiskit_metal.qlibrary.couplers.tunable_coupler_01 import TunableCoupler01\n",
    "\n",
    "from qiskit_metal.qlibrary.tlines.meandered import RouteMeander\n",
    "from qiskit_metal.qlibrary.tlines.pathfinder import RoutePathfinder\n",
    "from qiskit_metal.qlibrary.tlines.anchored_path import RouteAnchors\n",
    "from qiskit_metal.qlibrary.tlines.straight_path import RouteStraight\n",
    "\n",
    "from qiskit_metal.qlibrary.terminations.open_to_ground import OpenToGround\n",
    "from qiskit_metal.qlibrary.terminations.short_to_ground import ShortToGround\n",
    "\n",
    "from qiskit_metal.qlibrary.lumped.cap_n_interdigital import CapNInterdigital\n",
    "from qiskit_metal.qlibrary.lumped.cap_3_interdigital import Cap3Interdigital\n",
    "from qiskit_metal.qlibrary.couplers.cap_n_interdigital_tee import CapNInterdigitalTee\n",
    "from qiskit_metal.qlibrary.couplers.coupled_line_tee import CoupledLineTee\n",
    "\n",
    "from qiskit_metal.qlibrary.terminations.launchpad_wb import LaunchpadWirebond\n",
    "\n",
    "#from qiskit_metal.qlibrary.terminations.launchpad_wb_simplecoupler import LaunchpadWirebondSimple\n",
    "#from qiskit_metal.qlibrary.terminations.launchpad_wb_coupled import LaunchpadWirebondCoupled\n",
    "\n",
    "from qiskit_metal.qlibrary.terminations.short_to_ground import ShortToGround\n",
    "import numpy as np\n",
    "from collections import OrderedDict\n",
    "\n",
    "from qiskit_metal.qlibrary.qubits.transmon_cross_ebru_temp import TransmonCross_ebru_temp\n",
    "\n",
    "from qiskit_metal.qlibrary.qubits.transmon_cross_fl_ebru_temp import TransmonCrossFL_ebru_temp\n",
    "from qiskit_metal.qlibrary.qubits.transmon_cross_fl_cl_ebru_temp import TransmonCrossFL_CL_ebru_temp\n"
   ]
  },
  {
   "cell_type": "code",
   "execution_count": 4,
   "metadata": {
    "ExecuteTime": {
     "end_time": "2023-07-25T23:25:16.889279Z",
     "start_time": "2023-07-25T23:25:16.268911Z"
    },
    "scrolled": true
   },
   "outputs": [],
   "source": [
    "design = metal.designs.DesignPlanar()\n",
    "\n",
    "design.chips.main.size['size_x'] = '5mm'\n",
    "design.chips.main.size['size_y'] = '5mm'\n",
    "design.chips.main.size['size_z'] = '-725um'\n",
    "gui = MetalGUI(design)"
   ]
  },
  {
   "cell_type": "markdown",
   "metadata": {},
   "source": [
    "# Resonator length estimate"
   ]
  },
  {
   "cell_type": "code",
   "execution_count": 5,
   "metadata": {
    "ExecuteTime": {
     "end_time": "2023-07-25T23:25:18.075759Z",
     "start_time": "2023-07-25T23:25:18.014813Z"
    },
    "scrolled": true
   },
   "outputs": [
    {
     "data": {
      "text/plain": [
       "'5.071952814490852 mm'"
      ]
     },
     "execution_count": 5,
     "metadata": {},
     "output_type": "execute_result"
    }
   ],
   "source": [
    "from qiskit_metal.analyses.em.cpw_calculations import guided_wavelength\n",
    "\n",
    "def find_resonator_length(frequency, line_width, line_gap, N): \n",
    "    #frequency in GHz\n",
    "    #line_width/line_gap in um\n",
    "    #N -> 2 for lambda/2, 4 for lambda/4\n",
    "    \n",
    "    [lambdaG, etfSqrt, q] = guided_wavelength(frequency*10**9, line_width*10**-6,\n",
    "                                              line_gap*10**-6, 750*10**-6, 200*10**-9)\n",
    "    return str(lambdaG/N*10**3)+\" mm\"\n",
    "\n",
    "\n",
    "find_resonator_length(6.0, 10, 6, 4)"
   ]
  },
  {
   "cell_type": "markdown",
   "metadata": {},
   "source": [
    "# Xmon qubits "
   ]
  },
  {
   "cell_type": "code",
   "execution_count": 95,
   "metadata": {
    "ExecuteTime": {
     "end_time": "2023-07-26T05:14:43.202600Z",
     "start_time": "2023-07-26T05:14:42.844059Z"
    },
    "scrolled": true
   },
   "outputs": [],
   "source": [
    "design.overwrite_enabled = True\n",
    "options =  dict(\n",
    "    connection_pads=dict(\n",
    "        readout = dict(loc_W=+1, loc_H=+1),\n",
    "        storage = dict(loc_W=-1, loc_H=-1, )\n",
    "    ))\n",
    "    \n",
    "from qiskit_metal.qlibrary.qubits.transmon_cross_fl import TransmonCrossFL\n",
    "from qiskit_metal.qlibrary.qubits.transmon_cross_fl_cl import TransmonCrossFL_CL\n",
    "from qiskit_metal.qlibrary.qubits.transmon_pocket_cl_fl import TransmonPocketCL_FL\n",
    "\n",
    "\n",
    "# Q1 = TransmonCrossFL_CL_ebru_temp(design, 'Q1', options = dict(make_extra_rect=False, pos_x = '0.450mm', pos_y='1.410mm', \n",
    "#                                                      cross_length='40um', cross_width='10um', cross_gap='15um',\n",
    "#                                                     # cross_gap='3um',\n",
    "#                                                  connection_pads = dict(\n",
    "#                                                      readout = dict(connector_location = '90', lead_gap='6um',\n",
    "#                                                      claw_length='30um', claw_width='5um', ground_spacing='2um', \n",
    "#                                                                     claw_gap='5um', lead_width='10um', lead_length='60um')),#claw_length ='115um', claw_width='25um', claw_gap='7um',ground_spacing='3um')),\n",
    "#                                                  fl_options = dict(t_shift='3.5um' , t_offset='-6um', t_inductive_gap='4.5um', \n",
    "#                                                                    t_top='10.5um', t_width='5um', t_gap='3um'),\n",
    "#                                                  cl_options= dict(c_offset='-40um', c_ground_gap='38um', c_width='5um', \n",
    "#                                                                   c_gap='3um', translate_x='0um', c_angle='90'),\n",
    "#                                                  ))\n",
    "\n",
    "\n",
    "Q1 = TransmonPocketCL_FL(design, 'Q1', options = dict( pos_x = '0.65mm', pos_y='1.410mm', orientation='90',\n",
    "                                                            connection_pads=dict(\n",
    "                                    a = dict(loc_W='120um', loc_H='-100um', pad_width='50um', cpw_extend = '50um'),\n",
    "                                    \n",
    "                                    #b = dict(loc_W=-1, loc_H=-1, pad_width='125um', cpw_extend = '50um', pad_height='60um'),\n",
    "                                    #c = dict(loc_W=+1, loc_H=+1, pad_width='110um', cpw_extend = '50um')\n",
    "    ),\n",
    "    pad_width='100um', pad_gap='140um', \n",
    "    pocket_width='450um', pocket_height='550um', \n",
    "    cl_pocket_edge = '90',\n",
    "    cl_off_center = '2.5um',\n",
    "    cl_gap='3um', cl_width='5um',\n",
    "                                                      \n",
    "                                                 ))\n",
    "\n",
    "\n",
    "Q2 = TransmonCrossFL_CL_ebru_temp(design, 'Q2', options = dict(make_extra_rect=False, pos_x = '0.2mm', pos_y='1.410mm', orientation=270, \n",
    "                                                     cross_length='160um', cross_width='36um', cross_gap='30um',\n",
    "                                                    \n",
    "                                                 connection_pads = dict(\n",
    "                                                     readout = dict(connector_location = '0', lead_gap='6um',\n",
    "                                                     claw_length='140um', claw_width='10um', ground_spacing='3um', \n",
    "                                                                    claw_gap='8um', lead_width='10um', lead_length='60um')),#claw_length ='115um', claw_width='25um', claw_gap='7um',ground_spacing='3um')),\n",
    "                                                 fl_options = dict(t_shift='-200um' , t_offset='-200um', t_inductive_gap='4.5um', \n",
    "                                                                   t_top='10.5um', t_width='5um', t_gap='3um'),\n",
    "                                                 cl_options= dict(c_offset='30um', c_ground_gap='38um', c_width='5um', \n",
    "                                                                  c_gap='3um', translate_x='-20um', translate_y='-50um',  c_angle='0'),\n",
    "                                                 rect_options= dict(rect_width='40um', rect_length='8um')))\n",
    "\n",
    "gui.rebuild()\n",
    "gui.autoscale()"
   ]
  },
  {
   "cell_type": "markdown",
   "metadata": {},
   "source": [
    "# Flux Lines and Flux Launchpads"
   ]
  },
  {
   "cell_type": "code",
   "execution_count": 96,
   "metadata": {
    "ExecuteTime": {
     "end_time": "2023-07-26T05:15:31.755492Z",
     "start_time": "2023-07-26T05:15:31.403815Z"
    },
    "scrolled": true
   },
   "outputs": [
    {
     "name": "stderr",
     "output_type": "stream",
     "text": [
      "01:15AM 31s WARNING [check_lengths]: For path table, component=Flux_Line_2, key=trace has short segments that could cause issues with fillet. Values in (1-2)  are index(es) in shapely geometry.\n",
      "01:15AM 31s WARNING [check_lengths]: For path table, component=Flux_Line_2, key=cut has short segments that could cause issues with fillet. Values in (1-2)  are index(es) in shapely geometry.\n",
      "01:15AM 31s WARNING [check_lengths]: For path table, component=Flux_Line_2, key=trace has short segments that could cause issues with fillet. Values in (1-2)  are index(es) in shapely geometry.\n",
      "01:15AM 31s WARNING [check_lengths]: For path table, component=Flux_Line_2, key=cut has short segments that could cause issues with fillet. Values in (1-2)  are index(es) in shapely geometry.\n"
     ]
    }
   ],
   "source": [
    "\n",
    "import numpy as np\n",
    "from collections import OrderedDict\n",
    "\n",
    "\n",
    "# anchors1f = OrderedDict()\n",
    "# anchors1f[0] = np.array([0.18, 1.12])\n",
    "# anchors1f[1]=np.array([-1.15, 0.5])\n",
    "\n",
    "\n",
    "launch_flux_options = dict(trace_width= '5um', trace_gap='3um', pad_width='150um', pad_gap_y= '130um', \n",
    "                           pad_gap_x = '96um', pad_height='200um', \n",
    "                           taper_height='150um', \n",
    "                           pos_x='-1.5mm', pos_y='1.412mm', orientation='0', lead_length='30um')\n",
    "lf = LaunchpadWirebond(design, 'Launch_Flux', options = launch_flux_options)\n",
    "\n",
    "\n",
    "flux_line_options = Dict(\n",
    "        #lead = dict(start_straight='100um', end_straight='100um'),\n",
    "        fillet='30um', \n",
    "        trace_width = '5um', trace_gap = '3um', \n",
    "        pin_inputs=Dict(\n",
    "            start_pin=Dict(component='Q2', pin='flux_line'),\n",
    "            end_pin=Dict(componentl=lf.name, pin='tie')), )\n",
    "flux_line_Q2 = RouteAnchors(design,'Flux_Line_2', options = dict(hfss_wire_bonds = True,\n",
    "                                            pin_inputs=Dict(\n",
    "                                                start_pin=Dict(\n",
    "                                                    component='Q2',\n",
    "                                                    pin='flux_line'),\n",
    "                                                end_pin=Dict(\n",
    "                                                    component='Launch_Flux',\n",
    "                                                    pin='tie')),\n",
    "                                            lead=Dict(\n",
    "#                                                 start_straight='175um',\n",
    "                                                 #end_straight = '100um',\n",
    "                                                #end_jogged_extension = jogs_end\n",
    "                                            ),\n",
    "                                            fillet = '20um',\n",
    "                                            trace_width = '5um',\n",
    "                                            trace_gap = '3um',\n",
    "                                             #anchors = anchors1f\n",
    "                                            ))\n",
    "\n",
    "gui.rebuild()"
   ]
  },
  {
   "cell_type": "code",
   "execution_count": 97,
   "metadata": {
    "ExecuteTime": {
     "end_time": "2023-07-26T05:15:35.416895Z",
     "start_time": "2023-07-26T05:15:34.743643Z"
    }
   },
   "outputs": [
    {
     "name": "stderr",
     "output_type": "stream",
     "text": [
      "01:15AM 35s WARNING [check_lengths]: For path table, component=Flux_Line_2, key=trace has short segments that could cause issues with fillet. Values in (1-2)  are index(es) in shapely geometry.\n",
      "01:15AM 35s WARNING [check_lengths]: For path table, component=Flux_Line_2, key=cut has short segments that could cause issues with fillet. Values in (1-2)  are index(es) in shapely geometry.\n"
     ]
    }
   ],
   "source": [
    "\n",
    "\n",
    "\n",
    "# anchors2fl = OrderedDict()\n",
    "anchors2f = OrderedDict()\n",
    "anchors2f[0] = np.array([1.2, 1.25])\n",
    "anchors2f[1]=np.array([1.2, 0.5])\n",
    "\n",
    "\n",
    "launch_flux2_options = dict(trace_width= '5um', trace_gap='3um', pad_width='150um', pad_gap_y= '130um', \n",
    "                             pad_gap_x = '96um', pad_height='200um', \n",
    "                           taper_height='150um',  pos_x='1.5', pos_y='0.5mm', orientation='180', lead_length='30um')\n",
    "lf2 = LaunchpadWirebond(design, 'Launch_Flux2', options = launch_flux2_options)\n",
    "\n",
    "\n",
    "\n",
    "\n",
    "flux_line_Q1 = RoutePathfinder(design,'Flux_Line_1', options = dict(hfss_wire_bonds = True,\n",
    "                                            pin_inputs=Dict(\n",
    "                                                start_pin=Dict(\n",
    "                                                    component='Q1',\n",
    "                                                    pin='flux_line'),\n",
    "                                                end_pin=Dict(\n",
    "                                                    component='Launch_Flux2',\n",
    "                                                    pin='tie')),\n",
    "                                            lead=Dict(\n",
    "                                                 #start_straight='175um',\n",
    "                                                 #end_straight = '100um',\n",
    "                                                #end_jogged_extension = jogs_end\n",
    "                                            ),\n",
    "                                            fillet = '20um',\n",
    "                                            trace_width = '5um',\n",
    "                                            trace_gap = '3um',\n",
    "                                            #anchors=anchors2f,\n",
    "                                            ))\n",
    "\n",
    "\n",
    "gui.rebuild()"
   ]
  },
  {
   "cell_type": "code",
   "execution_count": null,
   "metadata": {
    "ExecuteTime": {
     "end_time": "2023-07-25T19:04:13.711019Z",
     "start_time": "2023-07-25T19:04:13.711019Z"
    },
    "scrolled": true
   },
   "outputs": [],
   "source": [
    "print(\"RUn\")"
   ]
  },
  {
   "cell_type": "markdown",
   "metadata": {},
   "source": [
    "# Charge Lines and Charge Launchpads"
   ]
  },
  {
   "cell_type": "code",
   "execution_count": 98,
   "metadata": {
    "ExecuteTime": {
     "end_time": "2023-07-26T05:15:39.346167Z",
     "start_time": "2023-07-26T05:15:38.626662Z"
    },
    "scrolled": true
   },
   "outputs": [
    {
     "name": "stderr",
     "output_type": "stream",
     "text": [
      "01:15AM 39s WARNING [check_lengths]: For path table, component=Flux_Line_2, key=trace has short segments that could cause issues with fillet. Values in (1-2)  are index(es) in shapely geometry.\n",
      "01:15AM 39s WARNING [check_lengths]: For path table, component=Flux_Line_2, key=cut has short segments that could cause issues with fillet. Values in (1-2)  are index(es) in shapely geometry.\n"
     ]
    }
   ],
   "source": [
    "\n",
    "\n",
    "\n",
    "\n",
    "\n",
    "\n",
    "launch_charge_options = dict(trace_width= '5um', trace_gap='3um', pad_width='150um', pad_gap_y= '130um', \n",
    "                             pad_gap_x = '96um', pad_height='200um', \n",
    "                           taper_height='150um',  pos_x='1.5mm', pos_y='1.405mm', orientation='180', lead_length='30um')\n",
    "\n",
    "lc = LaunchpadWirebond(design, 'Launch_Charge', options = launch_charge_options)\n",
    "\n",
    "\n",
    "\n",
    "\n",
    "\n",
    "\n",
    "\n",
    "\n",
    "#anchors1ch = OrderedDict()\n",
    "#anchors1ch[0] = np.array([1.78, 0.114])\n",
    "\n",
    "\n",
    "charge_line_Q1 = RoutePathfinder(design,'Charge_Line_1', options = dict(hfss_wire_bonds = True,\n",
    "                                            pin_inputs=Dict(\n",
    "                                                start_pin=Dict(\n",
    "                                                    component='Q1',\n",
    "                                                    pin='Charge_Line'),\n",
    "                                                end_pin=Dict(\n",
    "                                                    component='Launch_Charge',\n",
    "                                                    pin='tie')),\n",
    "                                            lead=Dict(\n",
    "                                                start_straight='175um',\n",
    "                                                end_straight = '100um',\n",
    "                                                #end_jogged_extension = jogs_end\n",
    "                                            ),\n",
    "                                            fillet = '60um',\n",
    "                                            trace_width = '5um',\n",
    "                                            trace_gap = '3um',\n",
    "                                            #anchors = anchors1ch\n",
    "                                            ))\n",
    "\n",
    "gui.rebuild()"
   ]
  },
  {
   "cell_type": "code",
   "execution_count": null,
   "metadata": {
    "ExecuteTime": {
     "end_time": "2023-07-25T19:08:01.876662Z",
     "start_time": "2023-07-25T19:08:01.424597Z"
    }
   },
   "outputs": [],
   "source": [
    "\n",
    "launch_charge2_options = dict(trace_width= '5um', trace_gap='3um', pad_width='150um', pad_gap_y= '130um', \n",
    "                             pad_gap_x = '96um', pad_height='200um', \n",
    "                           taper_height='150um',  pos_x='-1.5mm', pos_y='0.5mm', orientation='0', lead_length='30um')\n",
    "\n",
    "lc2 = LaunchpadWirebond(design, 'Launch_Charge2', options = launch_charge2_options)\n",
    "anchors2ch = OrderedDict()\n",
    "anchors2ch[0] = np.array([-1.75,2.0])\n",
    "charge_line_Q2 = RoutePathfinder(design,'Charge_Line_2', options = dict(hfss_wire_bonds = True,\n",
    "                                            pin_inputs=Dict(\n",
    "                                                start_pin=Dict(\n",
    "                                                    component='Q2',\n",
    "                                                    pin='charge_line'),\n",
    "                                                end_pin=Dict(\n",
    "                                                    component='Launch_Charge2',\n",
    "                                                    pin='tie')),\n",
    "                                            lead=Dict(\n",
    "#                                                 start_straight='175um',\n",
    "                                                 end_straight = '100um',\n",
    "                                                #end_jogged_extension = jogs_end\n",
    "                                            ),\n",
    "                                            fillet = '60um',\n",
    "                                            trace_width = '5um',\n",
    "                                            trace_gap = '3um',\n",
    "                                            #anchors = anchors2ch\n",
    "                                            ))\n",
    "\n",
    "gui.rebuild()\n"
   ]
  },
  {
   "cell_type": "markdown",
   "metadata": {},
   "source": [
    "# Readout Tee's and Readout Resonators"
   ]
  },
  {
   "cell_type": "code",
   "execution_count": 99,
   "metadata": {
    "ExecuteTime": {
     "end_time": "2023-07-26T05:15:44.408916Z",
     "start_time": "2023-07-26T05:15:43.494664Z"
    },
    "scrolled": true
   },
   "outputs": [
    {
     "name": "stderr",
     "output_type": "stream",
     "text": [
      "01:15AM 43s WARNING [check_lengths]: For path table, component=Flux_Line_2, key=trace has short segments that could cause issues with fillet. Values in (1-2)  are index(es) in shapely geometry.\n",
      "01:15AM 43s WARNING [check_lengths]: For path table, component=Flux_Line_2, key=cut has short segments that could cause issues with fillet. Values in (1-2)  are index(es) in shapely geometry.\n"
     ]
    }
   ],
   "source": [
    "\n",
    "TQ2 = CoupledLineTee(design, 'TQ2', options=dict(pos_x='-0.85mm',\n",
    "                                             pos_y='2.6mm',\n",
    "                                             coupling_length='460um', coupling_space='3um', orientation=0, \n",
    "                                                 open_termination=False))\n",
    "\n",
    "\n",
    "\n",
    "\n",
    "\n",
    "#3.58\n",
    "\n",
    "options2 = Dict(\n",
    "     total_length='4.250mm',\n",
    "     hfss_wire_bonds = True,\n",
    "     fillet='40um',\n",
    "     lead = dict(start_straight='250um'),\n",
    "     pin_inputs=Dict(\n",
    "         end_pin=Dict(\n",
    "             component='TQ2',\n",
    "             pin='second_end'),\n",
    "         start_pin=Dict(\n",
    "             component='Q2',\n",
    "             pin='readout')),\n",
    "     meander=Dict(spacing='200um',\n",
    "             asymmetry='0um'))\n",
    "read_q2 = RouteMeander(design, 'read_q2', options=options2)\n",
    "\n",
    "\n",
    "\n",
    "gui.rebuild()\n",
    "gui.autoscale()\n"
   ]
  },
  {
   "cell_type": "code",
   "execution_count": 100,
   "metadata": {
    "ExecuteTime": {
     "end_time": "2023-07-26T05:15:47.027767Z",
     "start_time": "2023-07-26T05:15:46.014463Z"
    },
    "scrolled": true
   },
   "outputs": [
    {
     "name": "stderr",
     "output_type": "stream",
     "text": [
      "01:15AM 46s WARNING [check_lengths]: For path table, component=Flux_Line_2, key=trace has short segments that could cause issues with fillet. Values in (1-2)  are index(es) in shapely geometry.\n",
      "01:15AM 46s WARNING [check_lengths]: For path table, component=Flux_Line_2, key=cut has short segments that could cause issues with fillet. Values in (1-2)  are index(es) in shapely geometry.\n"
     ]
    }
   ],
   "source": [
    "\n",
    "TQ1 = CoupledLineTee(design, 'TQ1', options=dict(pos_x='1.07mm',\n",
    "                                             pos_y='2.6mm',\n",
    "                                              coupling_length='400um', coupling_space='4um', open_termination=False, orientation='0'))\n",
    "\n",
    "options1 = Dict(\n",
    "    total_length='3.9mm',\n",
    "    hfss_wire_bonds = True,\n",
    "    fillet='40um',\n",
    "    lead = dict(start_straight='50um'),\n",
    "    pin_inputs=Dict(\n",
    "        start_pin=Dict(\n",
    "            component='TQ1',\n",
    "            pin='second_end'),\n",
    "        end_pin=Dict(\n",
    "            component='Q1',\n",
    "            pin='a')))\n",
    "read_q1 = RouteMeander(design, 'read_q1', options=options1)\n",
    "gui.rebuild()\n",
    "gui.autoscale()"
   ]
  },
  {
   "cell_type": "markdown",
   "metadata": {},
   "source": [
    "# Feedline and Feedline Launchpads "
   ]
  },
  {
   "cell_type": "code",
   "execution_count": 101,
   "metadata": {
    "ExecuteTime": {
     "end_time": "2023-07-26T05:15:51.593087Z",
     "start_time": "2023-07-26T05:15:50.445899Z"
    },
    "scrolled": true
   },
   "outputs": [
    {
     "name": "stderr",
     "output_type": "stream",
     "text": [
      "01:15AM 50s WARNING [check_lengths]: For path table, component=Flux_Line_2, key=trace has short segments that could cause issues with fillet. Values in (1-2)  are index(es) in shapely geometry.\n",
      "01:15AM 50s WARNING [check_lengths]: For path table, component=Flux_Line_2, key=cut has short segments that could cause issues with fillet. Values in (1-2)  are index(es) in shapely geometry.\n"
     ]
    }
   ],
   "source": [
    "launch_feed_left_options = dict(trace_width= '10um',pad_width='150um', pad_gap_x= '96um', pad_gap_y= '130um', pad_height='200um', \n",
    "                           taper_height='150um',  pos_x='-1.5mm', pos_y='2.6mm', orientation='0', lead_length='30um')\n",
    "l_feed_left = LaunchpadWirebond(design, 'Launch_Feed_Left', options = launch_feed_left_options)\n",
    "\n",
    "\n",
    "launch_feed_right_options = dict(trace_width= '10um', pad_width='150um', pad_gap_x= '96um', pad_gap_y= '130um', pad_height='200um', \n",
    "                           taper_height='150um',  pos_x='1.5mm', pos_y='2.6mm', lead_length='30um', orientation='180')\n",
    "l_feed_right = LaunchpadWirebond(design, 'Launch_Feed_Right', options = launch_feed_right_options)\n",
    "\n",
    "\n",
    "\n",
    "\n",
    "# anchors1c = OrderedDict()\n",
    "# anchors1c[0] = np.array([-0.65, 0.56079])\n",
    "\n",
    "\n",
    "\n",
    "ops_oF = {'hfss_wire_bonds': 'True',\n",
    "            'pin_inputs': \n",
    "            {'start_pin': {'component': 'TQ2', 'pin': 'prime_start'}, \n",
    "             'end_pin': {'component': 'Launch_Feed_Left', 'pin': 'tie'}},\n",
    "            #'fillet':'80um'\n",
    "            }\n",
    "cpw_openFirst = RouteStraight(design, 'cpw_openFirst', options=ops_oF)\n",
    "\n",
    "\n",
    "\n",
    "\n",
    "ops_oM = {'hfss_wire_bonds': 'True',\n",
    "            'pin_inputs': \n",
    "            {'start_pin': {'component': 'TQ1', 'pin': 'prime_start'}, \n",
    "             'end_pin': {'component': 'TQ2', 'pin': 'prime_end'}},\n",
    "            #'anchors': anchors1c,\n",
    "            #'fillet':'50um'\n",
    "            }\n",
    "cpw_openMid = RouteStraight(design, 'cpw_openMid', options=ops_oM)\n",
    "\n",
    "\n",
    "\n",
    "\n",
    "\n",
    "# ops_oLast = {'hfss_wire_bonds': 'True',\n",
    "#             'pin_inputs': \n",
    "#             {'start_pin': {'component': 'TQ1', 'pin': 'prime_end'}, \n",
    "#              'end_pin': {'component': l_feed_right.name, 'pin': 'tie'}},\n",
    "#             'fillet':'80um'\n",
    "#             }\n",
    "# cpw_openLast = RouteStraight(design, 'cpw_openLast', options=ops_oLast)\n",
    "\n",
    "\n",
    "\n",
    "gui.rebuild()\n",
    "gui.autoscale()"
   ]
  },
  {
   "cell_type": "code",
   "execution_count": null,
   "metadata": {
    "ExecuteTime": {
     "end_time": "2023-07-05T19:38:10.671002Z",
     "start_time": "2023-07-05T19:38:10.671002Z"
    },
    "scrolled": true
   },
   "outputs": [],
   "source": [
    "%metal_heading Now analyzing the design: HFSS & EPR"
   ]
  },
  {
   "cell_type": "markdown",
   "metadata": {},
   "source": [
    "# Running for an individual XMon"
   ]
  },
  {
   "cell_type": "code",
   "execution_count": 79,
   "metadata": {
    "ExecuteTime": {
     "end_time": "2023-07-26T00:50:24.435553Z",
     "start_time": "2023-07-26T00:50:24.020632Z"
    },
    "scrolled": true
   },
   "outputs": [],
   "source": [
    "from qiskit_metal.analyses.quantization import EPRanalysis\n",
    "eig_qb = EPRanalysis(design, \"hfss\")\n",
    "\n",
    "eig_qb = EPRanalysis(design, \"hfss\")\n",
    "\n",
    "eig_qb.sim.setup.vars.Lj = '10 nH'\n",
    "eig_qb.sim.setup.vars = Dict({'Lj': '10 nH', 'Cj': '3 fF'})\n",
    "gui.rebuild()\n",
    "gui.autoscale()"
   ]
  },
  {
   "cell_type": "code",
   "execution_count": 80,
   "metadata": {
    "ExecuteTime": {
     "end_time": "2023-07-26T00:50:28.301797Z",
     "start_time": "2023-07-26T00:50:27.885651Z"
    },
    "scrolled": true
   },
   "outputs": [],
   "source": [
    "design.qgeometry.tables['junction']\n",
    "qcomps=design.components\n",
    "qcomps['Q2'].options['hfss_inductance'] = 'Lj'\n",
    "qcomps['Q2'].options['hfss_capacitance'] = 'Cj'\n",
    "\n",
    "gui.rebuild()\n",
    "gui.autoscale()\n",
    "\n"
   ]
  },
  {
   "cell_type": "code",
   "execution_count": null,
   "metadata": {
    "ExecuteTime": {
     "end_time": "2023-06-29T05:39:55.602556Z",
     "start_time": "2023-06-29T05:39:55.598569Z"
    },
    "scrolled": true
   },
   "outputs": [],
   "source": [
    "eig_qb.sim.setup"
   ]
  },
  {
   "cell_type": "code",
   "execution_count": 85,
   "metadata": {
    "ExecuteTime": {
     "end_time": "2023-07-26T00:56:12.830640Z",
     "start_time": "2023-07-26T00:56:12.404322Z"
    },
    "scrolled": true
   },
   "outputs": [],
   "source": [
    "eig_qb.sim.setup.max_passes = 16\n",
    "eig_qb.sim.setup.vars.Lj = '10 nH'\n",
    "eig_qb.sim.setup.vars = Dict({'Lj': '10 nH', 'Cj': '3 fF'})\n",
    "\n",
    "eig_qb.sim.setup_update(max_delta_f = 0.5, min_freq_ghz = 4)\n",
    "eig_qb.sim.setup.min_passes = 10\n",
    "eig_qb.sim.setup.n_modes = 1\n",
    "\n",
    "gui.rebuild()\n",
    "gui.autoscale()\n",
    "\n"
   ]
  },
  {
   "cell_type": "code",
   "execution_count": 88,
   "metadata": {
    "ExecuteTime": {
     "end_time": "2023-07-26T01:02:23.055670Z",
     "start_time": "2023-07-26T01:02:22.956708Z"
    },
    "scrolled": true
   },
   "outputs": [],
   "source": [
    "eig_qb.sim.renderer._options['max_mesh_length_jj'] = '3um'\n",
    "eig_qb.sim.renderer._options['max_mesh_length_port'] = '3um'"
   ]
  },
  {
   "cell_type": "code",
   "execution_count": 91,
   "metadata": {
    "ExecuteTime": {
     "end_time": "2023-07-26T01:05:58.461508Z",
     "start_time": "2023-07-26T01:02:43.117166Z"
    },
    "scrolled": true
   },
   "outputs": [
    {
     "name": "stderr",
     "output_type": "stream",
     "text": [
      "INFO 09:02PM [connect_design]: \tOpened active design\n",
      "\tDesign:    Xmon_only_new_hfss [Solution type: Eigenmode]\n",
      "INFO 09:02PM [get_setup]: \tOpened setup `Setup`  (<class 'pyEPR.ansys.HfssEMSetup'>)\n",
      "INFO 09:02PM [analyze]: Analyzing setup Setup\n",
      "09:05PM 58s INFO [get_f_convergence]: Saved convergences to C:\\Users\\WANGLAB\\Documents\\GitHub\\qiskit-metal\\tutorials\\4 Analysis\\A. Core - EM and quantization\\hfss_eig_f_convergence.csv\n"
     ]
    }
   ],
   "source": [
    "\n",
    "design.qgeometry.tables['junction']\n",
    "qcomps=design.components\n",
    "qcomps['Q2'].options['hfss_inductance'] = 'Lj'\n",
    "qcomps['Q2'].options['hfss_capacitance'] = 'Cj'\n",
    "\n",
    "gui.rebuild()\n",
    "gui.autoscale()\n",
    "\n",
    "\n",
    "\n",
    "eig_qb.sim.run(name=\"Xmon_only_new\", components=['Q2'], open_terminations=[], box_plus_buffer = True)\n",
    "eig_qb.sim.plot_convergences()"
   ]
  },
  {
   "cell_type": "markdown",
   "metadata": {},
   "source": [
    "The last variables you pass to the `run()` or `sim.run()` methods, will be stored in the `sim.setup` dictionary under the key `run`. You can recall the information passed by either accessing the dictionary directly, or by using the print handle below."
   ]
  },
  {
   "cell_type": "code",
   "execution_count": null,
   "metadata": {
    "ExecuteTime": {
     "end_time": "2023-06-29T05:40:52.248057Z",
     "start_time": "2023-06-29T05:40:51.994436Z"
    },
    "scrolled": true
   },
   "outputs": [],
   "source": [
    "eig_qb.sim.plot_convergences()"
   ]
  },
  {
   "cell_type": "code",
   "execution_count": null,
   "metadata": {
    "ExecuteTime": {
     "end_time": "2023-06-29T05:40:53.796054Z",
     "start_time": "2023-06-29T05:40:53.793171Z"
    },
    "scrolled": true
   },
   "outputs": [],
   "source": [
    "# eig_qb.setup.run    <- direct access\n",
    "eig_qb.sim.print_run_args()"
   ]
  },
  {
   "cell_type": "code",
   "execution_count": 93,
   "metadata": {
    "ExecuteTime": {
     "end_time": "2023-07-26T01:09:05.255806Z",
     "start_time": "2023-07-26T01:08:52.957110Z"
    },
    "scrolled": true
   },
   "outputs": [
    {
     "name": "stdout",
     "output_type": "stream",
     "text": [
      "Design \"Xmon_only_new_hfss\" info:\n",
      "\t# eigenmodes    1\n",
      "\t# variations    1\n",
      "Design \"Xmon_only_new_hfss\" info:\n",
      "\t# eigenmodes    1\n",
      "\t# variations    1\n"
     ]
    },
    {
     "name": "stderr",
     "output_type": "stream",
     "text": [
      "WARNING:py.warnings:FutureWarning: The default dtype for empty Series will be 'object' instead of 'float64' in a future version. Specify a dtype explicitly to silence this warning.\n",
      " C:\\Users\\WANGLAB\\anaconda3\\envs\\qiskit-metal\\Lib\\site-packages\\pyEPR\\project_info.py: 239\n"
     ]
    },
    {
     "name": "stdout",
     "output_type": "stream",
     "text": [
      "\n",
      "        energy_elec_all       = 2.42277039473135e-25\n",
      "        energy_elec_substrate = 2.23332259257517e-25\n",
      "        EPR of substrate = 92.2%\n",
      "\n",
      "        energy_mag    = 2.09690701355333e-27\n",
      "        energy_mag % of energy_elec_all  = 0.9%\n",
      "        \n",
      "\n",
      "Variation 0  [1/1]\n"
     ]
    },
    {
     "name": "stderr",
     "output_type": "stream",
     "text": [
      "WARNING:py.warnings:FutureWarning: The default dtype for empty Series will be 'object' instead of 'float64' in a future version. Specify a dtype explicitly to silence this warning.\n",
      " C:\\Users\\WANGLAB\\anaconda3\\envs\\qiskit-metal\\Lib\\site-packages\\pyEPR\\core_distributed_analysis.py: 1101\n",
      "WARNING:py.warnings:FutureWarning: The default dtype for empty Series will be 'object' instead of 'float64' in a future version. Specify a dtype explicitly to silence this warning.\n",
      " C:\\Users\\WANGLAB\\anaconda3\\envs\\qiskit-metal\\Lib\\site-packages\\pyEPR\\core_distributed_analysis.py: 1102\n",
      "WARNING:py.warnings:FutureWarning: The default dtype for empty Series will be 'object' instead of 'float64' in a future version. Specify a dtype explicitly to silence this warning.\n",
      " C:\\Users\\WANGLAB\\anaconda3\\envs\\qiskit-metal\\Lib\\site-packages\\pyEPR\\core_distributed_analysis.py: 1245\n"
     ]
    },
    {
     "name": "stdout",
     "output_type": "stream",
     "text": [
      "\n",
      "  \u001b[1mMode 0 at 5.14 GHz   [1/1]\u001b[0m\n",
      "    Calculating ℰ_magnetic,ℰ_electric\n"
     ]
    },
    {
     "name": "stderr",
     "output_type": "stream",
     "text": [
      "WARNING:py.warnings:FutureWarning: The default dtype for empty Series will be 'object' instead of 'float64' in a future version. Specify a dtype explicitly to silence this warning.\n",
      " C:\\Users\\WANGLAB\\anaconda3\\envs\\qiskit-metal\\Lib\\site-packages\\pyEPR\\core_distributed_analysis.py: 981\n"
     ]
    },
    {
     "name": "stdout",
     "output_type": "stream",
     "text": [
      "       (ℰ_E-ℰ_H)/ℰ_E       ℰ_E       ℰ_H\n",
      "               99.1%  1.211e-25 1.048e-27\n",
      "\n",
      "    Calculating junction energy participation ration (EPR)\n",
      "\tmethod=`line_voltage`. First estimates:\n",
      "\tjunction        EPR p_0j   sign s_0j    (p_capacitive)\n"
     ]
    },
    {
     "name": "stderr",
     "output_type": "stream",
     "text": [
      "WARNING:py.warnings:FutureWarning: The default dtype for empty Series will be 'object' instead of 'float64' in a future version. Specify a dtype explicitly to silence this warning.\n",
      " C:\\Users\\WANGLAB\\anaconda3\\envs\\qiskit-metal\\Lib\\site-packages\\pyEPR\\core_distributed_analysis.py: 933\n"
     ]
    },
    {
     "name": "stdout",
     "output_type": "stream",
     "text": [
      "\t\tEnergy fraction (Lj over Lj&Cj)= 97.96%\n",
      "\tjj               1.02189  (+)        0.0213152\n",
      "\t\t(U_tot_cap-U_tot_ind)/mean=-0.45%\n",
      "Calculating Qdielectric_main for mode 0 (0/0)\n"
     ]
    },
    {
     "name": "stderr",
     "output_type": "stream",
     "text": [
      "WARNING:py.warnings:FutureWarning: The series.append method is deprecated and will be removed from pandas in a future version. Use pandas.concat instead.\n",
      " C:\\Users\\WANGLAB\\anaconda3\\envs\\qiskit-metal\\Lib\\site-packages\\pyEPR\\core_distributed_analysis.py: 1307\n"
     ]
    },
    {
     "name": "stdout",
     "output_type": "stream",
     "text": [
      "p_dielectric_main_0 = 0.9218053008373553\n"
     ]
    },
    {
     "name": "stderr",
     "output_type": "stream",
     "text": [
      "WARNING:py.warnings:FutureWarning: The default dtype for empty Series will be 'object' instead of 'float64' in a future version. Specify a dtype explicitly to silence this warning.\n",
      " C:\\Users\\WANGLAB\\anaconda3\\envs\\qiskit-metal\\Lib\\site-packages\\pyEPR\\project_info.py: 239\n",
      "WARNING 09:09PM [__init__]: <p>Error: <class 'IndexError'></p>\n",
      "WARNING:py.warnings:FutureWarning: Support for multi-dimensional indexing (e.g. `obj[:, None]`) is deprecated and will be removed in a future version.  Convert to a numpy array before indexing instead.\n",
      " C:\\Users\\WANGLAB\\anaconda3\\envs\\qiskit-metal\\Lib\\site-packages\\pyEPR\\core_quantum_analysis.py: 712\n",
      "WARNING:py.warnings:FutureWarning: Support for multi-dimensional indexing (e.g. `obj[:, None]`) is deprecated and will be removed in a future version.  Convert to a numpy array before indexing instead.\n",
      " C:\\Users\\WANGLAB\\anaconda3\\envs\\qiskit-metal\\Lib\\site-packages\\pyEPR\\core_quantum_analysis.py: 717\n"
     ]
    },
    {
     "name": "stdout",
     "output_type": "stream",
     "text": [
      "\n",
      "ANALYSIS DONE. Data saved to:\n",
      "\n",
      "C:\\data-pyEPR\\Fluxonium_experiment\\Xmon_only_new_hfss\\2023-07-25 21-08-53.npz\n",
      "\n",
      "\n",
      "\t Differences in variations:\n",
      "\n",
      "\n",
      "\n",
      " . . . . . . . . . . . . . . . . . . . . . . . . . . . . . . . . . . . . . . . . \n",
      "Variation 0\n",
      "\n",
      "Starting the diagonalization\n",
      "Finished the diagonalization\n",
      "Pm_norm=\n",
      "modes\n",
      "0    0.991005\n",
      "dtype: float64\n",
      "\n",
      "Pm_norm idx =\n",
      "     jj\n",
      "0  True\n",
      "*** P (participation matrix, not normlz.)\n",
      "         jj\n",
      "0  1.000563\n",
      "\n",
      "*** S (sign-bit matrix)\n",
      "   s_jj\n",
      "0    -1\n",
      "*** P (participation matrix, normalized.)\n",
      "      0.99\n",
      "\n",
      "*** Chi matrix O1 PT (MHz)\n",
      "    Diag is anharmonicity, off diag is full cross-Kerr.\n",
      "       199\n",
      "\n",
      "*** Chi matrix ND (MHz) \n",
      "       217\n",
      "\n",
      "*** Frequencies O1 PT (MHz)\n",
      "0    4941.188576\n",
      "dtype: float64\n",
      "\n",
      "*** Frequencies ND (MHz)\n",
      "0    4932.819234\n",
      "dtype: float64\n",
      "\n",
      "*** Q_coupling\n",
      "Empty DataFrame\n",
      "Columns: []\n",
      "Index: [0]\n"
     ]
    },
    {
     "data": {
      "text/markdown": [
       "#### Mode frequencies (MHz)"
      ],
      "text/plain": [
       "<IPython.core.display.Markdown object>"
      ]
     },
     "metadata": {},
     "output_type": "display_data"
    },
    {
     "data": {
      "text/markdown": [
       "###### Numerical diagonalization"
      ],
      "text/plain": [
       "<IPython.core.display.Markdown object>"
      ]
     },
     "metadata": {},
     "output_type": "display_data"
    },
    {
     "data": {
      "text/html": [
       "<div>\n",
       "<style scoped>\n",
       "    .dataframe tbody tr th:only-of-type {\n",
       "        vertical-align: middle;\n",
       "    }\n",
       "\n",
       "    .dataframe tbody tr th {\n",
       "        vertical-align: top;\n",
       "    }\n",
       "\n",
       "    .dataframe thead th {\n",
       "        text-align: right;\n",
       "    }\n",
       "</style>\n",
       "<table border=\"1\" class=\"dataframe\">\n",
       "  <thead>\n",
       "    <tr style=\"text-align: right;\">\n",
       "      <th>Lj</th>\n",
       "      <th>10</th>\n",
       "    </tr>\n",
       "  </thead>\n",
       "  <tbody>\n",
       "    <tr>\n",
       "      <th>0</th>\n",
       "      <td>4932.82</td>\n",
       "    </tr>\n",
       "  </tbody>\n",
       "</table>\n",
       "</div>"
      ],
      "text/plain": [
       "Lj       10\n",
       "0   4932.82"
      ]
     },
     "metadata": {},
     "output_type": "display_data"
    },
    {
     "data": {
      "text/markdown": [
       "#### Kerr Non-linear coefficient table (MHz)"
      ],
      "text/plain": [
       "<IPython.core.display.Markdown object>"
      ]
     },
     "metadata": {},
     "output_type": "display_data"
    },
    {
     "data": {
      "text/markdown": [
       "###### Numerical diagonalization"
      ],
      "text/plain": [
       "<IPython.core.display.Markdown object>"
      ]
     },
     "metadata": {},
     "output_type": "display_data"
    },
    {
     "data": {
      "text/html": [
       "<div>\n",
       "<style scoped>\n",
       "    .dataframe tbody tr th:only-of-type {\n",
       "        vertical-align: middle;\n",
       "    }\n",
       "\n",
       "    .dataframe tbody tr th {\n",
       "        vertical-align: top;\n",
       "    }\n",
       "\n",
       "    .dataframe thead th {\n",
       "        text-align: right;\n",
       "    }\n",
       "</style>\n",
       "<table border=\"1\" class=\"dataframe\">\n",
       "  <thead>\n",
       "    <tr style=\"text-align: right;\">\n",
       "      <th></th>\n",
       "      <th></th>\n",
       "      <th>0</th>\n",
       "    </tr>\n",
       "    <tr>\n",
       "      <th>Lj</th>\n",
       "      <th></th>\n",
       "      <th></th>\n",
       "    </tr>\n",
       "  </thead>\n",
       "  <tbody>\n",
       "    <tr>\n",
       "      <th>10</th>\n",
       "      <th>0</th>\n",
       "      <td>216.54</td>\n",
       "    </tr>\n",
       "  </tbody>\n",
       "</table>\n",
       "</div>"
      ],
      "text/plain": [
       "           0\n",
       "Lj          \n",
       "10 0  216.54"
      ]
     },
     "metadata": {},
     "output_type": "display_data"
    }
   ],
   "source": [
    "eig_qb.setup.junctions.jj.rect = 'JJ_rect_Lj_Q2_rect_jj'\n",
    "eig_qb.setup.junctions.jj.line = 'JJ_Lj_Q2_rect_jj_'\n",
    "eig_qb.run_epr()"
   ]
  },
  {
   "cell_type": "code",
   "execution_count": null,
   "metadata": {
    "scrolled": true
   },
   "outputs": [],
   "source": []
  },
  {
   "cell_type": "markdown",
   "metadata": {},
   "source": [
    "# Capacitance matrix "
   ]
  },
  {
   "cell_type": "code",
   "execution_count": 94,
   "metadata": {
    "ExecuteTime": {
     "end_time": "2023-07-26T01:40:10.839755Z",
     "start_time": "2023-07-26T01:39:21.041026Z"
    },
    "scrolled": true
   },
   "outputs": [
    {
     "name": "stderr",
     "output_type": "stream",
     "text": [
      "INFO 09:39PM [connect_design]: \tOpened active design\n",
      "\tDesign:    Design_q3d [Solution type: Q3D]\n",
      "INFO 09:39PM [get_setup]: \tOpened setup `Setup`  (<class 'pyEPR.ansys.AnsysQ3DSetup'>)\n",
      "INFO 09:39PM [analyze]: Analyzing setup Setup\n",
      "INFO 09:40PM [get_matrix]: Exporting matrix data to (C:\\Users\\WANGLAB\\AppData\\Local\\Temp\\tmp4xdy4xwq.txt, C, , Setup:LastAdaptive, \"Original\", \"ohm\", \"nH\", \"fF\", \"mSie\", 5000000000, Maxwell, 1, False\n",
      "INFO 09:40PM [get_matrix]: Exporting matrix data to (C:\\Users\\WANGLAB\\AppData\\Local\\Temp\\tmp1j61nqna.txt, C, , Setup:AdaptivePass, \"Original\", \"ohm\", \"nH\", \"fF\", \"mSie\", 5000000000, Maxwell, 1, False\n",
      "INFO 09:40PM [get_matrix]: Exporting matrix data to (C:\\Users\\WANGLAB\\AppData\\Local\\Temp\\tmp8egolq2z.txt, C, , Setup:AdaptivePass, \"Original\", \"ohm\", \"nH\", \"fF\", \"mSie\", 5000000000, Maxwell, 2, False\n",
      "INFO 09:40PM [get_matrix]: Exporting matrix data to (C:\\Users\\WANGLAB\\AppData\\Local\\Temp\\tmp1kua0geb.txt, C, , Setup:AdaptivePass, \"Original\", \"ohm\", \"nH\", \"fF\", \"mSie\", 5000000000, Maxwell, 3, False\n",
      "INFO 09:40PM [get_matrix]: Exporting matrix data to (C:\\Users\\WANGLAB\\AppData\\Local\\Temp\\tmpuj1j_u9r.txt, C, , Setup:AdaptivePass, \"Original\", \"ohm\", \"nH\", \"fF\", \"mSie\", 5000000000, Maxwell, 4, False\n",
      "INFO 09:40PM [get_matrix]: Exporting matrix data to (C:\\Users\\WANGLAB\\AppData\\Local\\Temp\\tmpr2yb_pi3.txt, C, , Setup:AdaptivePass, \"Original\", \"ohm\", \"nH\", \"fF\", \"mSie\", 5000000000, Maxwell, 5, False\n",
      "INFO 09:40PM [get_matrix]: Exporting matrix data to (C:\\Users\\WANGLAB\\AppData\\Local\\Temp\\tmph_2en48k.txt, C, , Setup:AdaptivePass, \"Original\", \"ohm\", \"nH\", \"fF\", \"mSie\", 5000000000, Maxwell, 6, False\n",
      "INFO 09:40PM [get_matrix]: Exporting matrix data to (C:\\Users\\WANGLAB\\AppData\\Local\\Temp\\tmpy65vob3k.txt, C, , Setup:AdaptivePass, \"Original\", \"ohm\", \"nH\", \"fF\", \"mSie\", 5000000000, Maxwell, 7, False\n",
      "INFO 09:40PM [get_matrix]: Exporting matrix data to (C:\\Users\\WANGLAB\\AppData\\Local\\Temp\\tmpeqky34j7.txt, C, , Setup:AdaptivePass, \"Original\", \"ohm\", \"nH\", \"fF\", \"mSie\", 5000000000, Maxwell, 8, False\n",
      "INFO 09:40PM [get_matrix]: Exporting matrix data to (C:\\Users\\WANGLAB\\AppData\\Local\\Temp\\tmpu8002ycb.txt, C, , Setup:AdaptivePass, \"Original\", \"ohm\", \"nH\", \"fF\", \"mSie\", 5000000000, Maxwell, 9, False\n"
     ]
    },
    {
     "data": {
      "text/html": [
       "<div>\n",
       "<style scoped>\n",
       "    .dataframe tbody tr th:only-of-type {\n",
       "        vertical-align: middle;\n",
       "    }\n",
       "\n",
       "    .dataframe tbody tr th {\n",
       "        vertical-align: top;\n",
       "    }\n",
       "\n",
       "    .dataframe thead th {\n",
       "        text-align: right;\n",
       "    }\n",
       "</style>\n",
       "<table border=\"1\" class=\"dataframe\">\n",
       "  <thead>\n",
       "    <tr style=\"text-align: right;\">\n",
       "      <th></th>\n",
       "      <th>cross_Q2</th>\n",
       "      <th>ground_main_plane</th>\n",
       "      <th>pad_bot_Q1</th>\n",
       "      <th>pad_top_Q1</th>\n",
       "    </tr>\n",
       "  </thead>\n",
       "  <tbody>\n",
       "    <tr>\n",
       "      <th>cross_Q2</th>\n",
       "      <td>87.42823</td>\n",
       "      <td>-84.12185</td>\n",
       "      <td>-0.35855</td>\n",
       "      <td>-1.46081</td>\n",
       "    </tr>\n",
       "    <tr>\n",
       "      <th>ground_main_plane</th>\n",
       "      <td>-84.12185</td>\n",
       "      <td>193.96004</td>\n",
       "      <td>-23.22842</td>\n",
       "      <td>-22.22070</td>\n",
       "    </tr>\n",
       "    <tr>\n",
       "      <th>pad_bot_Q1</th>\n",
       "      <td>-0.35855</td>\n",
       "      <td>-23.22842</td>\n",
       "      <td>27.33465</td>\n",
       "      <td>-2.41914</td>\n",
       "    </tr>\n",
       "    <tr>\n",
       "      <th>pad_top_Q1</th>\n",
       "      <td>-1.46081</td>\n",
       "      <td>-22.22070</td>\n",
       "      <td>-2.41914</td>\n",
       "      <td>27.31718</td>\n",
       "    </tr>\n",
       "  </tbody>\n",
       "</table>\n",
       "</div>"
      ],
      "text/plain": [
       "                   cross_Q2  ground_main_plane  pad_bot_Q1  pad_top_Q1\n",
       "cross_Q2           87.42823          -84.12185    -0.35855    -1.46081\n",
       "ground_main_plane -84.12185          193.96004   -23.22842   -22.22070\n",
       "pad_bot_Q1         -0.35855          -23.22842    27.33465    -2.41914\n",
       "pad_top_Q1         -1.46081          -22.22070    -2.41914    27.31718"
      ]
     },
     "execution_count": 94,
     "metadata": {},
     "output_type": "execute_result"
    }
   ],
   "source": [
    "from qiskit_metal.analyses.quantization import LOManalysis\n",
    "c1 = LOManalysis(design, \"q3d\")\n",
    "\n",
    "# example: update single setting\n",
    "c1.sim.setup.max_passes = 10\n",
    "# example: update multiple settings\n",
    "c1.sim.setup_update(solution_order = 'Medium', auto_increase_solution_order = 'False')\n",
    "\n",
    "c1.sim.setup\n",
    "\n",
    "c1.sim.run(components=['Q1', 'Q2'], open_terminations=[])\n",
    "c1.sim.capacitance_matrix"
   ]
  },
  {
   "cell_type": "code",
   "execution_count": 74,
   "metadata": {
    "ExecuteTime": {
     "end_time": "2023-07-26T00:30:35.515704Z",
     "start_time": "2023-07-26T00:30:34.718557Z"
    }
   },
   "outputs": [
    {
     "ename": "ValueError",
     "evalue": "Capacitance matrix is not the right size",
     "output_type": "error",
     "traceback": [
      "\u001b[1;31m---------------------------------------------------------------------------\u001b[0m",
      "\u001b[1;31mValueError\u001b[0m                                Traceback (most recent call last)",
      "Cell \u001b[1;32mIn[74], line 5\u001b[0m\n\u001b[0;32m      2\u001b[0m c1\u001b[38;5;241m.\u001b[39msetup\u001b[38;5;241m.\u001b[39mfreq_readout \u001b[38;5;241m=\u001b[39m []\n\u001b[0;32m      3\u001b[0m \u001b[38;5;66;03m#c1.setup.freq_bus = [6.0]\u001b[39;00m\n\u001b[1;32m----> 5\u001b[0m \u001b[43mc1\u001b[49m\u001b[38;5;241;43m.\u001b[39;49m\u001b[43mrun_lom\u001b[49m\u001b[43m(\u001b[49m\u001b[43m)\u001b[49m\n\u001b[0;32m      6\u001b[0m c1\u001b[38;5;241m.\u001b[39mlumped_oscillator_all\n",
      "File \u001b[1;32mc:\\users\\wanglab\\documents\\github\\qiskit-metal\\qiskit_metal\\analyses\\quantization\\lumped_oscillator_model.py:171\u001b[0m, in \u001b[0;36mLOManalysis.run_lom\u001b[1;34m(self)\u001b[0m\n\u001b[0;32m    169\u001b[0m all_res \u001b[38;5;241m=\u001b[39m {}\n\u001b[0;32m    170\u001b[0m \u001b[38;5;28;01mfor\u001b[39;00m idx_cmat, df_cmat \u001b[38;5;129;01min\u001b[39;00m \u001b[38;5;28mself\u001b[39m\u001b[38;5;241m.\u001b[39msim\u001b[38;5;241m.\u001b[39mcapacitance_all_passes\u001b[38;5;241m.\u001b[39mitems():\n\u001b[1;32m--> 171\u001b[0m     res \u001b[38;5;241m=\u001b[39m \u001b[43mextract_transmon_coupled_Noscillator\u001b[49m\u001b[43m(\u001b[49m\n\u001b[0;32m    172\u001b[0m \u001b[43m        \u001b[49m\u001b[43mdf_cmat\u001b[49m\u001b[43m,\u001b[49m\n\u001b[0;32m    173\u001b[0m \u001b[43m        \u001b[49m\u001b[43mic_amps\u001b[49m\u001b[43m,\u001b[49m\n\u001b[0;32m    174\u001b[0m \u001b[43m        \u001b[49m\u001b[43mcj\u001b[49m\u001b[43m,\u001b[49m\n\u001b[0;32m    175\u001b[0m \u001b[43m        \u001b[49m\u001b[43mnum_cpads\u001b[49m\u001b[43m,\u001b[49m\n\u001b[0;32m    176\u001b[0m \u001b[43m        \u001b[49m\u001b[43mfbus\u001b[49m\u001b[43m,\u001b[49m\n\u001b[0;32m    177\u001b[0m \u001b[43m        \u001b[49m\u001b[43mfread\u001b[49m\u001b[43m,\u001b[49m\n\u001b[0;32m    178\u001b[0m \u001b[43m        \u001b[49m\u001b[43mg_scale\u001b[49m\u001b[38;5;241;43m=\u001b[39;49m\u001b[38;5;241;43m1\u001b[39;49m\u001b[43m,\u001b[49m\n\u001b[0;32m    179\u001b[0m \u001b[43m        \u001b[49m\u001b[43mprint_info\u001b[49m\u001b[38;5;241;43m=\u001b[39;49m\u001b[38;5;28;43mbool\u001b[39;49m\u001b[43m(\u001b[49m\n\u001b[0;32m    180\u001b[0m \u001b[43m            \u001b[49m\u001b[43midx_cmat\u001b[49m\u001b[43m \u001b[49m\u001b[38;5;241;43m==\u001b[39;49m\u001b[43m \u001b[49m\u001b[38;5;28;43mlen\u001b[39;49m\u001b[43m(\u001b[49m\u001b[38;5;28;43mself\u001b[39;49m\u001b[38;5;241;43m.\u001b[39;49m\u001b[43msim\u001b[49m\u001b[38;5;241;43m.\u001b[39;49m\u001b[43mcapacitance_all_passes\u001b[49m\u001b[43m)\u001b[49m\u001b[43m)\u001b[49m\u001b[43m)\u001b[49m\n\u001b[0;32m    181\u001b[0m     all_res[idx_cmat] \u001b[38;5;241m=\u001b[39m res\n\u001b[0;32m    182\u001b[0m \u001b[38;5;28mself\u001b[39m\u001b[38;5;241m.\u001b[39mlumped_oscillator \u001b[38;5;241m=\u001b[39m all_res[\u001b[38;5;28mlen\u001b[39m(\u001b[38;5;28mself\u001b[39m\u001b[38;5;241m.\u001b[39msim\u001b[38;5;241m.\u001b[39mcapacitance_all_passes)]\n",
      "File \u001b[1;32mc:\\users\\wanglab\\documents\\github\\qiskit-metal\\qiskit_metal\\analyses\\quantization\\lumped_capacitive.py:198\u001b[0m, in \u001b[0;36mextract_transmon_coupled_Noscillator\u001b[1;34m(capMatrix, Ic, CJ, N, fb, fr, res_L4_corr, g_scale, print_info)\u001b[0m\n\u001b[0;32m    196\u001b[0m     \u001b[38;5;28;01mraise\u001b[39;00m \u001b[38;5;167;01mValueError\u001b[39;00m(\u001b[38;5;124m'\u001b[39m\u001b[38;5;124mN must positive\u001b[39m\u001b[38;5;124m'\u001b[39m)\n\u001b[0;32m    197\u001b[0m \u001b[38;5;28;01mif\u001b[39;00m \u001b[38;5;28mlen\u001b[39m(capMatrix) \u001b[38;5;241m!=\u001b[39m (N \u001b[38;5;241m+\u001b[39m \u001b[38;5;241m3\u001b[39m):\n\u001b[1;32m--> 198\u001b[0m     \u001b[38;5;28;01mraise\u001b[39;00m \u001b[38;5;167;01mValueError\u001b[39;00m(\u001b[38;5;124m'\u001b[39m\u001b[38;5;124mCapacitance matrix is not the right size\u001b[39m\u001b[38;5;124m'\u001b[39m)\n\u001b[0;32m    200\u001b[0m \u001b[38;5;66;03m# make list of angular frequencies of resonators\u001b[39;00m\n\u001b[0;32m    201\u001b[0m wr \u001b[38;5;241m=\u001b[39m np\u001b[38;5;241m.\u001b[39mzeros(N)  \u001b[38;5;66;03m# angular freq of resonators (GHz-rad)\u001b[39;00m\n",
      "\u001b[1;31mValueError\u001b[0m: Capacitance matrix is not the right size"
     ]
    }
   ],
   "source": []
  },
  {
   "cell_type": "code",
   "execution_count": 76,
   "metadata": {
    "ExecuteTime": {
     "end_time": "2023-07-26T00:31:57.253221Z",
     "start_time": "2023-07-26T00:31:57.150092Z"
    },
    "scrolled": true
   },
   "outputs": [],
   "source": [
    "\n",
    "from qiskit_metal.analyses.quantization.lumped_capacitive import load_q3d_capacitance_matrix\n",
    "from qiskit_metal.analyses.quantization.lom_core_analysis import CompositeSystem, Cell, Subsystem\n",
    "\n",
    "opt1 = dict(\n",
    "    node_rename = {'coupling_pad_Q1': 'coupling'}, \n",
    "    cap_mat = c1.sim.capacitance_matrix,\n",
    "    ind_dict = {('pad_bot_Q1', 'pad_top_Q1'): 1},  # placeholder inductance here; only used for node-basis transformation and reduction\n",
    "    jj_dict = {('pad_bot_Q1', 'pad_top_Q1'):'j1'},\n",
    ")\n",
    "cell_1 = Cell(opt1)\n",
    "\n",
    "\n"
   ]
  },
  {
   "cell_type": "code",
   "execution_count": 77,
   "metadata": {
    "ExecuteTime": {
     "end_time": "2023-07-26T00:31:59.169889Z",
     "start_time": "2023-07-26T00:31:59.070124Z"
    }
   },
   "outputs": [],
   "source": [
    "fluxonium = Subsystem(name='fluxonium', sys_type='FLUXONIUM', nodes=['j1'], q_opts={'EJ':5570, 'EL':640, 'flux': .5})\n",
    "composite_sys = CompositeSystem(\n",
    "    subsystems=[fluxonium], \n",
    "    cells=[cell_1], \n",
    "    grd_node='ground_main_plane')\n",
    "\n",
    "cg = composite_sys.circuitGraph()"
   ]
  },
  {
   "cell_type": "code",
   "execution_count": 78,
   "metadata": {
    "ExecuteTime": {
     "end_time": "2023-07-26T00:32:01.192391Z",
     "start_time": "2023-07-26T00:32:01.085735Z"
    },
    "scrolled": true
   },
   "outputs": [
    {
     "name": "stdout",
     "output_type": "stream",
     "text": [
      "HilbertSpace:  subsystems\n",
      "-------------------------\n",
      "\n",
      "Fluxonium-----------| [Fluxonium_22]\n",
      "                    | EJ: 5570\n",
      "                    | EC: 1300.1785677075857\n",
      "                    | EL: 640\n",
      "                    | flux: 0.5\n",
      "                    | cutoff: 110\n",
      "                    | truncated_dim: 10\n",
      "                    |\n",
      "                    | dim: 110\n",
      "\n",
      "\n"
     ]
    }
   ],
   "source": [
    "hilbertspace = composite_sys.create_hilbertspace()\n",
    "hilbertspace = composite_sys.add_interaction()\n",
    "print(hilbertspace)"
   ]
  },
  {
   "cell_type": "code",
   "execution_count": null,
   "metadata": {},
   "outputs": [],
   "source": []
  },
  {
   "cell_type": "code",
   "execution_count": 26,
   "metadata": {
    "ExecuteTime": {
     "end_time": "2023-07-26T00:02:10.293246Z",
     "start_time": "2023-07-26T00:02:09.647920Z"
    }
   },
   "outputs": [
    {
     "data": {
      "application/vnd.jupyter.widget-view+json": {
       "model_id": "",
       "version_major": 2,
       "version_minor": 0
      },
      "text/plain": [
       "Bare spectra:   0%|          | 0/101 [00:00<?, ?it/s]"
      ]
     },
     "metadata": {},
     "output_type": "display_data"
    },
    {
     "data": {
      "application/vnd.jupyter.widget-view+json": {
       "model_id": "1a842462590b44e6a7c3a96206301f19",
       "version_major": 2,
       "version_minor": 0
      },
      "text/plain": [
       "Dressed spectrum:   0%|          | 0/101 [00:00<?, ?it/s]"
      ]
     },
     "metadata": {},
     "output_type": "display_data"
    },
    {
     "ename": "ValueError",
     "evalue": "Number of requested eigen vals/vecs must be <= N.",
     "output_type": "error",
     "traceback": [
      "\u001b[1;31m---------------------------------------------------------------------------\u001b[0m",
      "\u001b[1;31mValueError\u001b[0m                                Traceback (most recent call last)",
      "Cell \u001b[1;32mIn[26], line 11\u001b[0m\n\u001b[0;32m      8\u001b[0m param_name \u001b[38;5;241m=\u001b[39m \u001b[38;5;124m'\u001b[39m\u001b[38;5;124mflux\u001b[39m\u001b[38;5;124m'\u001b[39m\n\u001b[0;32m      9\u001b[0m param_vals \u001b[38;5;241m=\u001b[39m np\u001b[38;5;241m.\u001b[39mlinspace(\u001b[38;5;241m0\u001b[39m, \u001b[38;5;241m1\u001b[39m, \u001b[38;5;241m101\u001b[39m)\n\u001b[1;32m---> 11\u001b[0m sweep \u001b[38;5;241m=\u001b[39m \u001b[43mscq\u001b[49m\u001b[38;5;241;43m.\u001b[39;49m\u001b[43mParameterSweep\u001b[49m\u001b[43m(\u001b[49m\n\u001b[0;32m     12\u001b[0m \u001b[43m    \u001b[49m\u001b[43mparamvals_by_name\u001b[49m\u001b[38;5;241;43m=\u001b[39;49m\u001b[43m{\u001b[49m\u001b[43mparam_name\u001b[49m\u001b[43m:\u001b[49m\u001b[43m \u001b[49m\u001b[43mparam_vals\u001b[49m\u001b[43m}\u001b[49m\u001b[43m,\u001b[49m\n\u001b[0;32m     13\u001b[0m \u001b[43m    \u001b[49m\u001b[43mevals_count\u001b[49m\u001b[38;5;241;43m=\u001b[39;49m\u001b[38;5;241;43m30\u001b[39;49m\u001b[43m,\u001b[49m\n\u001b[0;32m     14\u001b[0m \u001b[43m    \u001b[49m\u001b[43mhilbertspace\u001b[49m\u001b[38;5;241;43m=\u001b[39;49m\u001b[43mhilbertspace\u001b[49m\u001b[43m,\u001b[49m\n\u001b[0;32m     15\u001b[0m \u001b[43m    \u001b[49m\u001b[43msubsys_update_info\u001b[49m\u001b[38;5;241;43m=\u001b[39;49m\u001b[43m{\u001b[49m\u001b[43mparam_name\u001b[49m\u001b[43m:\u001b[49m\u001b[43m \u001b[49m\u001b[43m[\u001b[49m\u001b[43m_sys\u001b[49m\u001b[43m]\u001b[49m\u001b[43m}\u001b[49m\u001b[43m,\u001b[49m\n\u001b[0;32m     16\u001b[0m \u001b[43m    \u001b[49m\u001b[43mupdate_hilbertspace\u001b[49m\u001b[38;5;241;43m=\u001b[39;49m\u001b[43mupdate_hilbertspace\u001b[49m\u001b[43m,\u001b[49m\n\u001b[0;32m     17\u001b[0m \u001b[43m)\u001b[49m\n\u001b[0;32m     20\u001b[0m wq_f \u001b[38;5;241m=\u001b[39m sweep\u001b[38;5;241m.\u001b[39mtransitions(\u001b[38;5;28;01mFalse\u001b[39;00m, [],(\u001b[38;5;241m0\u001b[39m), (\u001b[38;5;241m1\u001b[39m))[\u001b[38;5;241m1\u001b[39m]\n\u001b[0;32m     21\u001b[0m \u001b[38;5;66;03m#wq_f_02 = sweep.transitions(False, [],(0, 0), (2, 0))[1][0]\u001b[39;00m\n",
      "File \u001b[1;32m~\\anaconda3\\envs\\qiskit-metal\\Lib\\site-packages\\scqubits\\core\\param_sweep.py:964\u001b[0m, in \u001b[0;36mParameterSweep.__init__\u001b[1;34m(self, hilbertspace, paramvals_by_name, update_hilbertspace, evals_count, subsys_update_info, bare_only, ignore_low_overlap, autorun, deepcopy, num_cpus)\u001b[0m\n\u001b[0;32m    961\u001b[0m dispatch\u001b[38;5;241m.\u001b[39mCENTRAL_DISPATCH\u001b[38;5;241m.\u001b[39mregister(\u001b[38;5;124m\"\u001b[39m\u001b[38;5;124mHILBERTSPACE_UPDATE\u001b[39m\u001b[38;5;124m\"\u001b[39m, \u001b[38;5;28mself\u001b[39m)\n\u001b[0;32m    963\u001b[0m \u001b[38;5;28;01mif\u001b[39;00m autorun:\n\u001b[1;32m--> 964\u001b[0m     \u001b[38;5;28;43mself\u001b[39;49m\u001b[38;5;241;43m.\u001b[39;49m\u001b[43mrun\u001b[49m\u001b[43m(\u001b[49m\u001b[43m)\u001b[49m\n",
      "File \u001b[1;32m~\\anaconda3\\envs\\qiskit-metal\\Lib\\site-packages\\scqubits\\core\\param_sweep.py:1006\u001b[0m, in \u001b[0;36mParameterSweep.run\u001b[1;34m(self)\u001b[0m\n\u001b[0;32m   1004\u001b[0m \u001b[38;5;28mself\u001b[39m\u001b[38;5;241m.\u001b[39m_data[\u001b[38;5;124m\"\u001b[39m\u001b[38;5;124mbare_evals\u001b[39m\u001b[38;5;124m\"\u001b[39m], \u001b[38;5;28mself\u001b[39m\u001b[38;5;241m.\u001b[39m_data[\u001b[38;5;124m\"\u001b[39m\u001b[38;5;124mbare_evecs\u001b[39m\u001b[38;5;124m\"\u001b[39m] \u001b[38;5;241m=\u001b[39m \u001b[38;5;28mself\u001b[39m\u001b[38;5;241m.\u001b[39m_bare_spectrum_sweep()\n\u001b[0;32m   1005\u001b[0m \u001b[38;5;28;01mif\u001b[39;00m \u001b[38;5;129;01mnot\u001b[39;00m \u001b[38;5;28mself\u001b[39m\u001b[38;5;241m.\u001b[39m_bare_only:\n\u001b[1;32m-> 1006\u001b[0m     \u001b[38;5;28mself\u001b[39m\u001b[38;5;241m.\u001b[39m_data[\u001b[38;5;124m\"\u001b[39m\u001b[38;5;124mevals\u001b[39m\u001b[38;5;124m\"\u001b[39m], \u001b[38;5;28mself\u001b[39m\u001b[38;5;241m.\u001b[39m_data[\u001b[38;5;124m\"\u001b[39m\u001b[38;5;124mevecs\u001b[39m\u001b[38;5;124m\"\u001b[39m] \u001b[38;5;241m=\u001b[39m \u001b[38;5;28;43mself\u001b[39;49m\u001b[38;5;241;43m.\u001b[39;49m\u001b[43m_dressed_spectrum_sweep\u001b[49m\u001b[43m(\u001b[49m\u001b[43m)\u001b[49m\n\u001b[0;32m   1007\u001b[0m     \u001b[38;5;28mself\u001b[39m\u001b[38;5;241m.\u001b[39m_data[\u001b[38;5;124m\"\u001b[39m\u001b[38;5;124mdressed_indices\u001b[39m\u001b[38;5;124m\"\u001b[39m] \u001b[38;5;241m=\u001b[39m \u001b[38;5;28mself\u001b[39m\u001b[38;5;241m.\u001b[39mgenerate_lookup()\n\u001b[0;32m   1008\u001b[0m     (\n\u001b[0;32m   1009\u001b[0m         \u001b[38;5;28mself\u001b[39m\u001b[38;5;241m.\u001b[39m_data[\u001b[38;5;124m\"\u001b[39m\u001b[38;5;124mlamb\u001b[39m\u001b[38;5;124m\"\u001b[39m],\n\u001b[0;32m   1010\u001b[0m         \u001b[38;5;28mself\u001b[39m\u001b[38;5;241m.\u001b[39m_data[\u001b[38;5;124m\"\u001b[39m\u001b[38;5;124mchi\u001b[39m\u001b[38;5;124m\"\u001b[39m],\n\u001b[0;32m   1011\u001b[0m         \u001b[38;5;28mself\u001b[39m\u001b[38;5;241m.\u001b[39m_data[\u001b[38;5;124m\"\u001b[39m\u001b[38;5;124mkerr\u001b[39m\u001b[38;5;124m\"\u001b[39m],\n\u001b[0;32m   1012\u001b[0m     ) \u001b[38;5;241m=\u001b[39m \u001b[38;5;28mself\u001b[39m\u001b[38;5;241m.\u001b[39m_dispersive_coefficients()\n",
      "File \u001b[1;32m~\\anaconda3\\envs\\qiskit-metal\\Lib\\site-packages\\scqubits\\core\\param_sweep.py:1173\u001b[0m, in \u001b[0;36mParameterSweep._dressed_spectrum_sweep\u001b[1;34m(self)\u001b[0m\n\u001b[0;32m   1167\u001b[0m total_count \u001b[38;5;241m=\u001b[39m np\u001b[38;5;241m.\u001b[39mprod(\u001b[38;5;28mself\u001b[39m\u001b[38;5;241m.\u001b[39m_parameters\u001b[38;5;241m.\u001b[39mcounts)\n\u001b[0;32m   1169\u001b[0m \u001b[38;5;28;01mwith\u001b[39;00m utils\u001b[38;5;241m.\u001b[39mInfoBar(\n\u001b[0;32m   1170\u001b[0m     \u001b[38;5;124m\"\u001b[39m\u001b[38;5;124mParallel compute dressed eigensys [num_cpus=\u001b[39m\u001b[38;5;132;01m{}\u001b[39;00m\u001b[38;5;124m]\u001b[39m\u001b[38;5;124m\"\u001b[39m\u001b[38;5;241m.\u001b[39mformat(\u001b[38;5;28mself\u001b[39m\u001b[38;5;241m.\u001b[39m_num_cpus),\n\u001b[0;32m   1171\u001b[0m     \u001b[38;5;28mself\u001b[39m\u001b[38;5;241m.\u001b[39m_num_cpus,\n\u001b[0;32m   1172\u001b[0m ) \u001b[38;5;28;01mas\u001b[39;00m p:\n\u001b[1;32m-> 1173\u001b[0m     spectrum_data \u001b[38;5;241m=\u001b[39m \u001b[38;5;28;43mlist\u001b[39;49m\u001b[43m(\u001b[49m\n\u001b[0;32m   1174\u001b[0m \u001b[43m        \u001b[49m\u001b[43mtqdm\u001b[49m\u001b[43m(\u001b[49m\n\u001b[0;32m   1175\u001b[0m \u001b[43m            \u001b[49m\u001b[43mtarget_map\u001b[49m\u001b[43m(\u001b[49m\n\u001b[0;32m   1176\u001b[0m \u001b[43m                \u001b[49m\u001b[43mfunctools\u001b[49m\u001b[38;5;241;43m.\u001b[39;49m\u001b[43mpartial\u001b[49m\u001b[43m(\u001b[49m\n\u001b[0;32m   1177\u001b[0m \u001b[43m                    \u001b[49m\u001b[38;5;28;43mself\u001b[39;49m\u001b[38;5;241;43m.\u001b[39;49m\u001b[43m_update_and_compute_dressed_esys\u001b[49m\u001b[43m,\u001b[49m\n\u001b[0;32m   1178\u001b[0m \u001b[43m                    \u001b[49m\u001b[38;5;28;43mself\u001b[39;49m\u001b[38;5;241;43m.\u001b[39;49m\u001b[43m_hilbertspace\u001b[49m\u001b[43m,\u001b[49m\n\u001b[0;32m   1179\u001b[0m \u001b[43m                    \u001b[49m\u001b[38;5;28;43mself\u001b[39;49m\u001b[38;5;241;43m.\u001b[39;49m\u001b[43m_evals_count\u001b[49m\u001b[43m,\u001b[49m\n\u001b[0;32m   1180\u001b[0m \u001b[43m                    \u001b[49m\u001b[38;5;28;43mself\u001b[39;49m\u001b[38;5;241;43m.\u001b[39;49m\u001b[43m_update_hilbertspace\u001b[49m\u001b[43m,\u001b[49m\n\u001b[0;32m   1181\u001b[0m \u001b[43m                \u001b[49m\u001b[43m)\u001b[49m\u001b[43m,\u001b[49m\n\u001b[0;32m   1182\u001b[0m \u001b[43m                \u001b[49m\u001b[43mitertools\u001b[49m\u001b[38;5;241;43m.\u001b[39;49m\u001b[43mproduct\u001b[49m\u001b[43m(\u001b[49m\u001b[38;5;241;43m*\u001b[39;49m\u001b[38;5;28;43mself\u001b[39;49m\u001b[38;5;241;43m.\u001b[39;49m\u001b[43m_parameters\u001b[49m\u001b[38;5;241;43m.\u001b[39;49m\u001b[43mranges\u001b[49m\u001b[43m)\u001b[49m\u001b[43m,\u001b[49m\n\u001b[0;32m   1183\u001b[0m \u001b[43m            \u001b[49m\u001b[43m)\u001b[49m\u001b[43m,\u001b[49m\n\u001b[0;32m   1184\u001b[0m \u001b[43m            \u001b[49m\u001b[43mtotal\u001b[49m\u001b[38;5;241;43m=\u001b[39;49m\u001b[43mtotal_count\u001b[49m\u001b[43m,\u001b[49m\n\u001b[0;32m   1185\u001b[0m \u001b[43m            \u001b[49m\u001b[43mdesc\u001b[49m\u001b[38;5;241;43m=\u001b[39;49m\u001b[38;5;124;43m\"\u001b[39;49m\u001b[38;5;124;43mDressed spectrum\u001b[39;49m\u001b[38;5;124;43m\"\u001b[39;49m\u001b[43m,\u001b[49m\n\u001b[0;32m   1186\u001b[0m \u001b[43m            \u001b[49m\u001b[43mleave\u001b[49m\u001b[38;5;241;43m=\u001b[39;49m\u001b[38;5;28;43;01mFalse\u001b[39;49;00m\u001b[43m,\u001b[49m\n\u001b[0;32m   1187\u001b[0m \u001b[43m            \u001b[49m\u001b[43mdisable\u001b[49m\u001b[38;5;241;43m=\u001b[39;49m\u001b[43mmulti_cpu\u001b[49m\u001b[43m,\u001b[49m\n\u001b[0;32m   1188\u001b[0m \u001b[43m        \u001b[49m\u001b[43m)\u001b[49m\n\u001b[0;32m   1189\u001b[0m \u001b[43m    \u001b[49m\u001b[43m)\u001b[49m\n\u001b[0;32m   1191\u001b[0m spectrum_data_ndarray \u001b[38;5;241m=\u001b[39m np\u001b[38;5;241m.\u001b[39masarray(spectrum_data, dtype\u001b[38;5;241m=\u001b[39m\u001b[38;5;28mobject\u001b[39m)\n\u001b[0;32m   1192\u001b[0m spectrum_data_ndarray \u001b[38;5;241m=\u001b[39m spectrum_data_ndarray\u001b[38;5;241m.\u001b[39mreshape(\n\u001b[0;32m   1193\u001b[0m     (\u001b[38;5;241m*\u001b[39m\u001b[38;5;28mself\u001b[39m\u001b[38;5;241m.\u001b[39m_parameters\u001b[38;5;241m.\u001b[39mcounts, \u001b[38;5;241m2\u001b[39m)\n\u001b[0;32m   1194\u001b[0m )\n",
      "File \u001b[1;32m~\\anaconda3\\envs\\qiskit-metal\\Lib\\site-packages\\tqdm\\notebook.py:254\u001b[0m, in \u001b[0;36mtqdm_notebook.__iter__\u001b[1;34m(self)\u001b[0m\n\u001b[0;32m    252\u001b[0m \u001b[38;5;28;01mtry\u001b[39;00m:\n\u001b[0;32m    253\u001b[0m     it \u001b[38;5;241m=\u001b[39m \u001b[38;5;28msuper\u001b[39m(tqdm_notebook, \u001b[38;5;28mself\u001b[39m)\u001b[38;5;241m.\u001b[39m\u001b[38;5;21m__iter__\u001b[39m()\n\u001b[1;32m--> 254\u001b[0m     \u001b[38;5;28;01mfor\u001b[39;00m obj \u001b[38;5;129;01min\u001b[39;00m it:\n\u001b[0;32m    255\u001b[0m         \u001b[38;5;66;03m# return super(tqdm...) will not catch exception\u001b[39;00m\n\u001b[0;32m    256\u001b[0m         \u001b[38;5;28;01myield\u001b[39;00m obj\n\u001b[0;32m    257\u001b[0m \u001b[38;5;66;03m# NB: except ... [ as ...] breaks IPython async KeyboardInterrupt\u001b[39;00m\n",
      "File \u001b[1;32m~\\anaconda3\\envs\\qiskit-metal\\Lib\\site-packages\\tqdm\\std.py:1178\u001b[0m, in \u001b[0;36mtqdm.__iter__\u001b[1;34m(self)\u001b[0m\n\u001b[0;32m   1175\u001b[0m time \u001b[38;5;241m=\u001b[39m \u001b[38;5;28mself\u001b[39m\u001b[38;5;241m.\u001b[39m_time\n\u001b[0;32m   1177\u001b[0m \u001b[38;5;28;01mtry\u001b[39;00m:\n\u001b[1;32m-> 1178\u001b[0m     \u001b[38;5;28;01mfor\u001b[39;00m obj \u001b[38;5;129;01min\u001b[39;00m iterable:\n\u001b[0;32m   1179\u001b[0m         \u001b[38;5;28;01myield\u001b[39;00m obj\n\u001b[0;32m   1180\u001b[0m         \u001b[38;5;66;03m# Update and possibly print the progressbar.\u001b[39;00m\n\u001b[0;32m   1181\u001b[0m         \u001b[38;5;66;03m# Note: does not call self.update(1) for speed optimisation.\u001b[39;00m\n",
      "File \u001b[1;32m~\\anaconda3\\envs\\qiskit-metal\\Lib\\site-packages\\scqubits\\core\\param_sweep.py:1147\u001b[0m, in \u001b[0;36mParameterSweep._update_and_compute_dressed_esys\u001b[1;34m(self, hilbertspace, evals_count, update_func, paramindex_tuple)\u001b[0m\n\u001b[0;32m   1138\u001b[0m \u001b[38;5;28;01massert\u001b[39;00m \u001b[38;5;28mself\u001b[39m\u001b[38;5;241m.\u001b[39m_data \u001b[38;5;129;01mis\u001b[39;00m \u001b[38;5;129;01mnot\u001b[39;00m \u001b[38;5;28;01mNone\u001b[39;00m\n\u001b[0;32m   1139\u001b[0m bare_esys: Dict[\u001b[38;5;28mint\u001b[39m, List[ndarray]] \u001b[38;5;241m=\u001b[39m {\n\u001b[0;32m   1140\u001b[0m     subsys_index: [\n\u001b[0;32m   1141\u001b[0m         \u001b[38;5;28mself\u001b[39m\u001b[38;5;241m.\u001b[39m_data[\u001b[38;5;124m\"\u001b[39m\u001b[38;5;124mbare_evals\u001b[39m\u001b[38;5;124m\"\u001b[39m][subsys_index][paramindex_tuple],\n\u001b[1;32m   (...)\u001b[0m\n\u001b[0;32m   1144\u001b[0m     \u001b[38;5;28;01mfor\u001b[39;00m subsys_index, _ \u001b[38;5;129;01min\u001b[39;00m \u001b[38;5;28menumerate\u001b[39m(\u001b[38;5;28mself\u001b[39m\u001b[38;5;241m.\u001b[39mhilbertspace)\n\u001b[0;32m   1145\u001b[0m }\n\u001b[1;32m-> 1147\u001b[0m evals, evecs \u001b[38;5;241m=\u001b[39m \u001b[43mhilbertspace\u001b[49m\u001b[38;5;241;43m.\u001b[39;49m\u001b[43meigensys\u001b[49m\u001b[43m(\u001b[49m\n\u001b[0;32m   1148\u001b[0m \u001b[43m    \u001b[49m\u001b[43mevals_count\u001b[49m\u001b[38;5;241;43m=\u001b[39;49m\u001b[43mevals_count\u001b[49m\u001b[43m,\u001b[49m\u001b[43m \u001b[49m\u001b[43mbare_esys\u001b[49m\u001b[38;5;241;43m=\u001b[39;49m\u001b[43mbare_esys\u001b[49m\u001b[43m  \u001b[49m\u001b[38;5;66;43;03m# type:ignore\u001b[39;49;00m\n\u001b[0;32m   1149\u001b[0m \u001b[43m\u001b[49m\u001b[43m)\u001b[49m\n\u001b[0;32m   1150\u001b[0m esys_array \u001b[38;5;241m=\u001b[39m np\u001b[38;5;241m.\u001b[39mempty(shape\u001b[38;5;241m=\u001b[39m(\u001b[38;5;241m2\u001b[39m,), dtype\u001b[38;5;241m=\u001b[39m\u001b[38;5;28mobject\u001b[39m)\n\u001b[0;32m   1151\u001b[0m esys_array[\u001b[38;5;241m0\u001b[39m] \u001b[38;5;241m=\u001b[39m evals\n",
      "File \u001b[1;32m~\\anaconda3\\envs\\qiskit-metal\\Lib\\site-packages\\scqubits\\core\\hilbert_space.py:658\u001b[0m, in \u001b[0;36mHilbertSpace.eigensys\u001b[1;34m(self, evals_count, bare_esys)\u001b[0m\n\u001b[0;32m    642\u001b[0m \u001b[38;5;250m\u001b[39m\u001b[38;5;124;03m\"\"\"Calculates eigenvalues and eigenvectors of the full Hamiltonian using\u001b[39;00m\n\u001b[0;32m    643\u001b[0m \u001b[38;5;124;03m`qutip.Qob.eigenstates()`.\u001b[39;00m\n\u001b[0;32m    644\u001b[0m \n\u001b[1;32m   (...)\u001b[0m\n\u001b[0;32m    655\u001b[0m \u001b[38;5;124;03m    eigenvalues and eigenvectors\u001b[39;00m\n\u001b[0;32m    656\u001b[0m \u001b[38;5;124;03m\"\"\"\u001b[39;00m\n\u001b[0;32m    657\u001b[0m hamiltonian_mat \u001b[38;5;241m=\u001b[39m \u001b[38;5;28mself\u001b[39m\u001b[38;5;241m.\u001b[39mhamiltonian(bare_esys\u001b[38;5;241m=\u001b[39mbare_esys)  \u001b[38;5;66;03m# type:ignore\u001b[39;00m\n\u001b[1;32m--> 658\u001b[0m evals, evecs \u001b[38;5;241m=\u001b[39m \u001b[43mhamiltonian_mat\u001b[49m\u001b[38;5;241;43m.\u001b[39;49m\u001b[43meigenstates\u001b[49m\u001b[43m(\u001b[49m\u001b[43meigvals\u001b[49m\u001b[38;5;241;43m=\u001b[39;49m\u001b[43mevals_count\u001b[49m\u001b[43m)\u001b[49m\n\u001b[0;32m    659\u001b[0m evecs \u001b[38;5;241m=\u001b[39m evecs\u001b[38;5;241m.\u001b[39mview(scqubits\u001b[38;5;241m.\u001b[39mio_utils\u001b[38;5;241m.\u001b[39mfileio_qutip\u001b[38;5;241m.\u001b[39mQutipEigenstates)\n\u001b[0;32m    660\u001b[0m \u001b[38;5;28;01mreturn\u001b[39;00m evals, evecs\n",
      "File \u001b[1;32m~\\anaconda3\\envs\\qiskit-metal\\Lib\\site-packages\\qutip\\qobj.py:1703\u001b[0m, in \u001b[0;36mQobj.eigenstates\u001b[1;34m(self, sparse, sort, eigvals, tol, maxiter, phase_fix)\u001b[0m\n\u001b[0;32m   1659\u001b[0m \u001b[38;5;28;01mdef\u001b[39;00m \u001b[38;5;21meigenstates\u001b[39m(\u001b[38;5;28mself\u001b[39m, sparse\u001b[38;5;241m=\u001b[39m\u001b[38;5;28;01mFalse\u001b[39;00m, sort\u001b[38;5;241m=\u001b[39m\u001b[38;5;124m'\u001b[39m\u001b[38;5;124mlow\u001b[39m\u001b[38;5;124m'\u001b[39m, eigvals\u001b[38;5;241m=\u001b[39m\u001b[38;5;241m0\u001b[39m,\n\u001b[0;32m   1660\u001b[0m                 tol\u001b[38;5;241m=\u001b[39m\u001b[38;5;241m0\u001b[39m, maxiter\u001b[38;5;241m=\u001b[39m\u001b[38;5;241m100000\u001b[39m, phase_fix\u001b[38;5;241m=\u001b[39m\u001b[38;5;28;01mNone\u001b[39;00m):\n\u001b[0;32m   1661\u001b[0m \u001b[38;5;250m    \u001b[39m\u001b[38;5;124;03m\"\"\"Eigenstates and eigenenergies.\u001b[39;00m\n\u001b[0;32m   1662\u001b[0m \n\u001b[0;32m   1663\u001b[0m \u001b[38;5;124;03m    Eigenstates and eigenenergies are defined for operators and\u001b[39;00m\n\u001b[1;32m   (...)\u001b[0m\n\u001b[0;32m   1701\u001b[0m \n\u001b[0;32m   1702\u001b[0m \u001b[38;5;124;03m    \"\"\"\u001b[39;00m\n\u001b[1;32m-> 1703\u001b[0m     evals, evecs \u001b[38;5;241m=\u001b[39m \u001b[43msp_eigs\u001b[49m\u001b[43m(\u001b[49m\u001b[38;5;28;43mself\u001b[39;49m\u001b[38;5;241;43m.\u001b[39;49m\u001b[43mdata\u001b[49m\u001b[43m,\u001b[49m\u001b[43m \u001b[49m\u001b[38;5;28;43mself\u001b[39;49m\u001b[38;5;241;43m.\u001b[39;49m\u001b[43misherm\u001b[49m\u001b[43m,\u001b[49m\u001b[43m \u001b[49m\u001b[43msparse\u001b[49m\u001b[38;5;241;43m=\u001b[39;49m\u001b[43msparse\u001b[49m\u001b[43m,\u001b[49m\n\u001b[0;32m   1704\u001b[0m \u001b[43m                           \u001b[49m\u001b[43msort\u001b[49m\u001b[38;5;241;43m=\u001b[39;49m\u001b[43msort\u001b[49m\u001b[43m,\u001b[49m\u001b[43m \u001b[49m\u001b[43meigvals\u001b[49m\u001b[38;5;241;43m=\u001b[39;49m\u001b[43meigvals\u001b[49m\u001b[43m,\u001b[49m\u001b[43m \u001b[49m\u001b[43mtol\u001b[49m\u001b[38;5;241;43m=\u001b[39;49m\u001b[43mtol\u001b[49m\u001b[43m,\u001b[49m\n\u001b[0;32m   1705\u001b[0m \u001b[43m                           \u001b[49m\u001b[43mmaxiter\u001b[49m\u001b[38;5;241;43m=\u001b[39;49m\u001b[43mmaxiter\u001b[49m\u001b[43m)\u001b[49m\n\u001b[0;32m   1706\u001b[0m     \u001b[38;5;28;01mif\u001b[39;00m \u001b[38;5;28mself\u001b[39m\u001b[38;5;241m.\u001b[39mtype \u001b[38;5;241m==\u001b[39m \u001b[38;5;124m'\u001b[39m\u001b[38;5;124msuper\u001b[39m\u001b[38;5;124m'\u001b[39m:\n\u001b[0;32m   1707\u001b[0m         new_dims \u001b[38;5;241m=\u001b[39m [\u001b[38;5;28mself\u001b[39m\u001b[38;5;241m.\u001b[39mdims[\u001b[38;5;241m0\u001b[39m], [\u001b[38;5;241m1\u001b[39m]]\n",
      "File \u001b[1;32m~\\anaconda3\\envs\\qiskit-metal\\Lib\\site-packages\\qutip\\sparse.py:351\u001b[0m, in \u001b[0;36msp_eigs\u001b[1;34m(data, isherm, vecs, sparse, sort, eigvals, tol, maxiter)\u001b[0m\n\u001b[0;32m    348\u001b[0m     eigvals \u001b[38;5;241m=\u001b[39m \u001b[38;5;241m0\u001b[39m\n\u001b[0;32m    350\u001b[0m \u001b[38;5;28;01mif\u001b[39;00m eigvals \u001b[38;5;241m>\u001b[39m N:\n\u001b[1;32m--> 351\u001b[0m     \u001b[38;5;28;01mraise\u001b[39;00m \u001b[38;5;167;01mValueError\u001b[39;00m(\u001b[38;5;124m\"\u001b[39m\u001b[38;5;124mNumber of requested eigen vals/vecs must be <= N.\u001b[39m\u001b[38;5;124m\"\u001b[39m)\n\u001b[0;32m    353\u001b[0m \u001b[38;5;66;03m# set number of large and small eigenvals/vecs\u001b[39;00m\n\u001b[0;32m    354\u001b[0m \u001b[38;5;28;01mif\u001b[39;00m eigvals \u001b[38;5;241m==\u001b[39m \u001b[38;5;241m0\u001b[39m:  \u001b[38;5;66;03m# user wants all eigs (default)\u001b[39;00m\n",
      "\u001b[1;31mValueError\u001b[0m: Number of requested eigen vals/vecs must be <= N."
     ]
    }
   ],
   "source": [
    "import sys\n",
    "stdout = sys.stdout\n",
    "reload(sys)\n",
    "sys.setdefaultencoding('utf-8')\n",
    "sys.stdout = stdout"
   ]
  },
  {
   "cell_type": "code",
   "execution_count": null,
   "metadata": {
    "ExecuteTime": {
     "end_time": "2023-06-29T04:29:02.200519Z",
     "start_time": "2023-06-29T04:29:02.128765Z"
    },
    "scrolled": true
   },
   "outputs": [],
   "source": []
  },
  {
   "cell_type": "code",
   "execution_count": null,
   "metadata": {
    "ExecuteTime": {
     "end_time": "2023-07-06T05:10:33.368157Z",
     "start_time": "2023-07-06T05:10:29.641888Z"
    },
    "scrolled": true
   },
   "outputs": [],
   "source": [
    "eig_qb.sim.plot_fields('main')  \n",
    "\n",
    "hfss = eig_qb.sim.renderer\n",
    "hfss.clear_fields(['Mag_E1'])\n",
    "hfss.set_mode(1, \"Setup\")\n",
    "hfss.modeler._modeler.ShowWindow()\n",
    "hfss.plot_fields('main')\n",
    "hfss.save_screenshot()"
   ]
  },
  {
   "cell_type": "code",
   "execution_count": null,
   "metadata": {
    "scrolled": true
   },
   "outputs": [],
   "source": [
    "eig_qb.sim.clear_fields()"
   ]
  },
  {
   "cell_type": "markdown",
   "metadata": {},
   "source": [
    "# Xmon and resonators together"
   ]
  },
  {
   "cell_type": "code",
   "execution_count": null,
   "metadata": {
    "ExecuteTime": {
     "end_time": "2023-07-06T16:55:50.829042Z",
     "start_time": "2023-07-06T16:55:50.737141Z"
    },
    "scrolled": true
   },
   "outputs": [],
   "source": [
    "from qiskit_metal.analyses.quantization import EPRanalysis"
   ]
  },
  {
   "cell_type": "code",
   "execution_count": null,
   "metadata": {
    "ExecuteTime": {
     "end_time": "2023-07-06T17:48:03.864415Z",
     "start_time": "2023-07-06T17:48:03.306336Z"
    },
    "scrolled": true
   },
   "outputs": [],
   "source": [
    "design.qgeometry.tables['junction']\n",
    "qcomps=design.components\n",
    "qcomps['Q1'].options['hfss_inductance'] = 'Lj'\n",
    "qcomps['Q1'].options['hfss_capacitance'] = 'Cj'\n",
    "gui.rebuild()\n",
    "gui.autoscale()"
   ]
  },
  {
   "cell_type": "code",
   "execution_count": null,
   "metadata": {
    "ExecuteTime": {
     "end_time": "2023-07-06T17:48:07.919572Z",
     "start_time": "2023-07-06T17:48:07.354054Z"
    },
    "scrolled": true
   },
   "outputs": [],
   "source": [
    "eig_rd = EPRanalysis(design, \"hfss\")\n",
    "\n",
    "eig_rd.sim.setup.vars.Lj = '550 nH'\n",
    "eig_rd.sim.setup.vars = Dict({'Lj': '550 nH', 'Cj': '3 fF'})\n",
    "gui.rebuild()\n",
    "gui.autoscale()"
   ]
  },
  {
   "cell_type": "markdown",
   "metadata": {},
   "source": [
    "# Qubit 1 related simulations"
   ]
  },
  {
   "cell_type": "code",
   "execution_count": null,
   "metadata": {
    "ExecuteTime": {
     "end_time": "2023-07-06T17:51:32.737028Z",
     "start_time": "2023-07-06T17:48:27.026129Z"
    },
    "scrolled": true
   },
   "outputs": [],
   "source": [
    "eig_rd.sim.setup.n_modes =1\n",
    "\n",
    "# eig_rd.sim.setup.min_passes = 1\n",
    "# eig_rd.sim.setup.max_passes = 1\n",
    "\n",
    "eig_rd.sim.setup.min_passes = 15\n",
    "eig_rd.sim.setup.max_passes = 20\n",
    "\n",
    "\n",
    "eig_rd.sim.setup_update(max_delta_f = 0.5, min_freq_ghz = 1.1)\n",
    "\n",
    "\n",
    "design.qgeometry.tables['junction']\n",
    "qcomps=design.components\n",
    "qcomps['Q1'].options['hfss_inductance'] = 'Lj'\n",
    "qcomps['Q1'].options['hfss_capacitance'] = 'Cj'\n",
    "\n",
    "\n",
    "#eig_rd.sim.run(name=\"xmon_and_readout_storage_final\", components=['Q1', 'read_q1', 'Store_Q1_1', 'TQ1'], open_terminations=[], box_plus_buffer = False)\n",
    "#eig_rd.sim.run(name=\"xmon_and_readout_87\", components=['Q1', 'read_q1', 'TQ1'], open_terminations=[('TQ1', 'prime_start'), ('TQ1', 'prime_end')], box_plus_buffer = False)\n",
    "\n",
    "\n",
    "eig_rd.sim.run(name=\"readout_transmon_hfss33\", components=['read_q1', 'TQ1', 'Q1'], open_terminations=[('TQ1', 'prime_end'), ('TQ1', 'prime_start')], box_plus_buffer = True)\n",
    "#eig_rd.sim.run(name=\"storage_and_xmon_and_readout_final3\", components=['Q2', 'Store_Q2_2', 'read_q2', 'TQ2', 'TQ1', 'Launch_Feed_Left', 'Launch_Feed_Right', 'cpw_openFirst', 'cpw_openMid', 'cpw_openLast'], open_terminations=[('TQ1', 'prime_end'), ('TQ1', 'prime_start')], box_plus_buffer = False)\n",
    "#eig_rd.sim.run(name=\"xmon_chargeline\", components=['Q1', 'Charge_Line_1'], open_terminations=[('Charge_Line_1','end')])\n",
    "# eig_rd.sim.run(name=\"open_24_131\", components=['Q1', 'Store_Q1_1', 'Launch_Storage'], open_terminations=[('Launch_Storage','tie')], box_plus_buffer = False)\n",
    "#eig_rd.sim.run(name=\"storage_coupling_PART96\", components=['Q1','Store_Q1_1', 'Storage_Line_1', 'otg11', 'stg11'], open_terminations=[('Storage_Line_1', 'end')], box_plus_buffer = False)\n",
    "#eig_rd.sim.run(name=\"ro_111622\", components=['Q2', 'read_q2', 'TQ2', 'Store_Q2_2'], open_terminations=[], box_plus_buffer = False)\n",
    "#eig_rd.sim.run(name=\"full_set2\", components=['Q2', 'Store_Q2_2' 'read_q2', 'TQ2'], open_terminations=[], box_plus_buffer = False)\n",
    "\n",
    "#eig_rd.sim.run(name=\"xmon_and_ro_set1\", components=['Q1',  'read_q1', 'TQ1'], open_terminations=[], box_plus_buffer = False)\n",
    "#eig_rd.sim.run(name=\"storage_loss_fluxpad2\", components=['Q2', 'Store_Q2_2', 'Launch_Flux2'], open_terminations=[], box_plus_buffer = False)\n",
    "eig_rd.sim.plot_convergences()"
   ]
  },
  {
   "cell_type": "code",
   "execution_count": null,
   "metadata": {
    "ExecuteTime": {
     "end_time": "2023-07-06T05:18:17.451476Z",
     "start_time": "2023-07-06T05:18:08.609964Z"
    },
    "scrolled": true
   },
   "outputs": [],
   "source": [
    "eig_rd.setup.junctions.jj.rect = 'JJ_rect_Lj_Q2_rect_jj'\n",
    "eig_rd.setup.junctions.jj.line = 'JJ_Lj_Q2_rect_jj_'\n",
    "eig_rd.run_epr()"
   ]
  },
  {
   "cell_type": "markdown",
   "metadata": {},
   "source": [
    "# Qubit 2 related simulations"
   ]
  },
  {
   "cell_type": "code",
   "execution_count": null,
   "metadata": {
    "scrolled": true
   },
   "outputs": [],
   "source": [
    "eig_rd.sim.setup.n_modes =1\n",
    "\n",
    "eig_rd.sim.setup.min_passes = 1\n",
    "eig_rd.sim.setup.max_passes = 1\n",
    "\n",
    "# eig_rd.sim.setup.min_passes = 11\n",
    "# eig_rd.sim.setup.max_passes = 17\n",
    "\n",
    "\n",
    "eig_rd.sim.setup_update(max_delta_f = 0.5, min_freq_ghz = 1.1)\n",
    "\n",
    "\n",
    "design.qgeometry.tables['junction']\n",
    "qcomps=design.components\n",
    "qcomps['Q2'].options['hfss_inductance'] = 'Lj'\n",
    "qcomps['Q2'].options['hfss_capacitance'] = 'Cj'\n",
    "\n",
    "gui.rebuild()\n",
    "gui.autoscale()\n",
    "\n",
    "\n",
    "\n",
    "\n",
    "\n",
    "\n",
    "#eig_rd.sim.run(name=\"storage_coupling_PART92\", components=['Q2','Store_Q2_2', 'Storage_Line_2', 'otg11_2', 'stg11_2'], open_terminations=[('Storage_Line_2', 'end')], box_plus_buffer = False)\n",
    "\n",
    "\n",
    "\n",
    "\n",
    "#eig_rd.sim.run(name=\"xmon_and_readout_storage_ayoy_39\", components=['Q2', 'read_q2', 'Store_Q2_2', 'TQ2'], open_terminations=[], box_plus_buffer = False)\n",
    "eig_rd.sim.run(name=\"xmon_and_readout_PART90\", components=['Q2', 'read_q2', 'TQ2'], open_terminations=[('TQ2', 'prime_start'), ('TQ2', 'prime_end')], box_plus_buffer = False)\n",
    "\n",
    "\n",
    "#eig_rd.sim.run(name=\"readout4\", components=['read_q1', 'TQ1', 'Q1'], open_terminations=[('TQ1', 'prime_end'), ('TQ1', 'prime_start')], box_plus_buffer = False)\n",
    "#eig_rd.sim.run(name=\"storage_and_xmon_and_readout\", components=['Q1', 'Store_Q1', 'read_q1', 'TQ1', 'Launch_Feed_Left', 'Launch_Feed_Right', 'cpw_openRight', 'cpw_openLeft'], open_terminations=[], box_plus_buffer = False)\n",
    "#eig_rd.sim.run(name=\"xmon_chargeline\", components=['Q1', 'Charge_Line_1'], open_terminations=[('Charge_Line_1','end')])\n",
    "# eig_rd.sim.run(name=\"open_24_131\", components=['Q1', 'Store_Q1_1', 'Launch_Storage'], open_terminations=[('Launch_Storage','tie')], box_plus_buffer = False)\n",
    "#eig_rd.sim.run(name=\"storage_coupling_ayoy\", components=['Q1', 'Store_Q1_1', 'stg11', 'Storage_Line_1', 'otg11'], open_terminations=[('otg11', 'open'), ('Storage_Line_1', 'end')], box_plus_buffer = False)\n",
    "#eig_rd.sim.run(name=\"ro_111622\", components=['Q2', 'read_q2', 'TQ2', 'Store_Q2_2'], open_terminations=[], box_plus_buffer = False)\n",
    "#eig_rd.sim.run(name=\"full_set2\", components=['Q2', 'Store_Q2_2' 'read_q2', 'TQ2'], open_terminations=[], box_plus_buffer = False)\n",
    "\n",
    "#eig_rd.sim.run(name=\"xmon_and_ro_set1\", components=['Q1', 'Store_Q1_1', 'read_q1', 'TQ1'], open_terminations=[], box_plus_buffer = False)\n",
    "#eig_rd.sim.run(name=\"storage_loss_fluxpad2\", components=['Q2', 'Store_Q2_2', 'Launch_Flux2'], open_terminations=[], box_plus_buffer = False)\n",
    "eig_rd.sim.plot_convergences()"
   ]
  },
  {
   "cell_type": "code",
   "execution_count": null,
   "metadata": {
    "scrolled": true
   },
   "outputs": [],
   "source": [
    "eig_rd.sim.setup.n_modes =3\n",
    "\n",
    "eig_rd.sim.setup.min_passes = 1\n",
    "eig_rd.sim.setup.max_passes = 1\n",
    "\n",
    "# eig_rd.sim.setup.min_passes = 15\n",
    "# eig_rd.sim.setup.max_passes = 17\n",
    "\n",
    "\n",
    "eig_rd.sim.setup_update(max_delta_f = 0.5, min_freq_ghz = 1.1)\n",
    "\n",
    "\n",
    "design.qgeometry.tables['junction']\n",
    "qcomps=design.components\n",
    "qcomps['Q1'].options['hfss_inductance'] = 'Lj'\n",
    "qcomps['Q1'].options['hfss_capacitance'] = 'Cj'\n",
    "\n",
    "gui.rebuild()\n",
    "gui.autoscale()\n",
    "\n",
    "\n",
    "eig_rd.sim.run(name=\"chargecoupling\", components=['Q1', 'Charge_Line_1'], open_terminations=[('Charge_Line_1', 'end')], box_plus_buffer = False)\n",
    "\n",
    "\n",
    "eig_rd.sim.plot_convergences()"
   ]
  },
  {
   "cell_type": "code",
   "execution_count": null,
   "metadata": {
    "scrolled": true
   },
   "outputs": [],
   "source": []
  },
  {
   "cell_type": "code",
   "execution_count": null,
   "metadata": {
    "scrolled": true
   },
   "outputs": [],
   "source": []
  },
  {
   "cell_type": "code",
   "execution_count": null,
   "metadata": {
    "scrolled": true
   },
   "outputs": [],
   "source": [
    "eig_rd.sim.setup"
   ]
  },
  {
   "cell_type": "markdown",
   "metadata": {},
   "source": [
    "Recover eigenmode frequencies for each variation."
   ]
  },
  {
   "cell_type": "markdown",
   "metadata": {},
   "source": [
    "Display the Ansys modeler window and plot the E-field on the chip's surface."
   ]
  },
  {
   "cell_type": "code",
   "execution_count": null,
   "metadata": {
    "scrolled": true
   },
   "outputs": [],
   "source": [
    "\n",
    "hfss = eig_rd.sim.renderer\n",
    "hfss.clear_fields(['Mag_E1'])\n",
    "hfss.set_mode(1, \"Setup\")\n",
    "hfss.modeler._modeler.ShowWindow()\n",
    "hfss.plot_fields('main')\n",
    "hfss.save_screenshot()"
   ]
  },
  {
   "cell_type": "markdown",
   "metadata": {},
   "source": [
    "### EPR Analysis\n",
    "Find the electric and magnetic energy stored in the readout system."
   ]
  },
  {
   "cell_type": "code",
   "execution_count": null,
   "metadata": {
    "scrolled": true
   },
   "outputs": [],
   "source": [
    "\n",
    "eig_rd.sim.setup.name"
   ]
  },
  {
   "cell_type": "code",
   "execution_count": null,
   "metadata": {
    "scrolled": true
   },
   "outputs": [],
   "source": [
    "# eig_rd.setup\n",
    "# eig_rd.setup.junctions.jj.rect = 'JJ_rect_Lj_Q1_rect_jj'\n",
    "# eig_rd.setup.junctions.jj.line = 'JJ_Lj_Q1_rect_jj_'\n",
    "\n",
    "# eig_rd.setup\n",
    "\n",
    "eig_rd.setup\n",
    "eig_rd.setup.junctions.jj.rect = 'JJ_rect_Lj_Q2_rect_jj'\n",
    "eig_rd.setup.junctions.jj.line = 'JJ_Lj_Q2_rect_jj_'\n",
    "\n",
    "eig_rd.setup"
   ]
  },
  {
   "cell_type": "code",
   "execution_count": null,
   "metadata": {
    "scrolled": true
   },
   "outputs": [],
   "source": [
    "\n",
    "eig_rd.run_epr()"
   ]
  },
  {
   "cell_type": "code",
   "execution_count": null,
   "metadata": {
    "scrolled": true
   },
   "outputs": [],
   "source": [
    "eig_rd.sim.setup.vars.Lj "
   ]
  },
  {
   "cell_type": "code",
   "execution_count": null,
   "metadata": {
    "scrolled": true
   },
   "outputs": [],
   "source": [
    "eig_rd.sim.close()"
   ]
  },
  {
   "cell_type": "code",
   "execution_count": null,
   "metadata": {
    "scrolled": true
   },
   "outputs": [],
   "source": []
  },
  {
   "cell_type": "markdown",
   "metadata": {},
   "source": [
    "# LOM"
   ]
  },
  {
   "cell_type": "code",
   "execution_count": null,
   "metadata": {
    "scrolled": true
   },
   "outputs": [],
   "source": [
    "from qiskit_metal.analyses.quantization import LOManalysis\n",
    "c1 = LOManalysis(design, \"q3d\")\n",
    "\n",
    "# example: update single setting\n",
    "c1.sim.setup.max_passes = 10\n",
    "# example: update multiple settings\n",
    "c1.sim.setup_update(solution_order = 'Medium', auto_increase_solution_order = 'False')\n",
    "\n",
    "c1.sim.setup\n",
    "\n",
    "\n",
    "c1.sim.run(components=['Q1', 'Store_Q1_1','Storage_Line_1', 'Launch_Storage'], open_terminations=[('Storage_Line_1', 'start')])\n"
   ]
  },
  {
   "cell_type": "code",
   "execution_count": null,
   "metadata": {
    "scrolled": true
   },
   "outputs": [],
   "source": [
    "c1.sim.capacitance_matrix"
   ]
  },
  {
   "cell_type": "code",
   "execution_count": null,
   "metadata": {
    "scrolled": true
   },
   "outputs": [],
   "source": []
  }
 ],
 "metadata": {
  "kernelspec": {
   "display_name": "Python 3 (ipykernel)",
   "language": "python",
   "name": "python3"
  },
  "language_info": {
   "codemirror_mode": {
    "name": "ipython",
    "version": 3
   },
   "file_extension": ".py",
   "mimetype": "text/x-python",
   "name": "python",
   "nbconvert_exporter": "python",
   "pygments_lexer": "ipython3",
   "version": "3.11.4"
  },
  "varInspector": {
   "cols": {
    "lenName": 16,
    "lenType": 16,
    "lenVar": 40
   },
   "kernels_config": {
    "python": {
     "delete_cmd_postfix": "",
     "delete_cmd_prefix": "del ",
     "library": "var_list.py",
     "varRefreshCmd": "print(var_dic_list())"
    },
    "r": {
     "delete_cmd_postfix": ") ",
     "delete_cmd_prefix": "rm(",
     "library": "var_list.r",
     "varRefreshCmd": "cat(var_dic_list()) "
    }
   },
   "types_to_exclude": [
    "module",
    "function",
    "builtin_function_or_method",
    "instance",
    "_Feature"
   ],
   "window_display": false
  }
 },
 "nbformat": 4,
 "nbformat_minor": 4
}

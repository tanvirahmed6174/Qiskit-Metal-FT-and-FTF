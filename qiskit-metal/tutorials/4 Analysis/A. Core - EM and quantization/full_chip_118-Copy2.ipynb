{
 "cells": [
  {
   "cell_type": "code",
   "execution_count": 1,
   "id": "7ff0bac0",
   "metadata": {
    "ExecuteTime": {
     "end_time": "2023-08-15T06:27:03.997722Z",
     "start_time": "2023-08-15T06:27:03.957434Z"
    },
    "scrolled": true
   },
   "outputs": [],
   "source": [
    "%load_ext autoreload\n",
    "%autoreload 2"
   ]
  },
  {
   "cell_type": "code",
   "execution_count": 2,
   "id": "18403e0c",
   "metadata": {
    "ExecuteTime": {
     "end_time": "2023-08-15T06:27:06.804529Z",
     "start_time": "2023-08-15T06:27:04.341226Z"
    }
   },
   "outputs": [
    {
     "data": {
      "text/html": [
       "\n",
       "    <h1 style=\"\n",
       "        background: #12c2e9;  /* fallback for old browsers */\n",
       "        background: -webkit-linear-gradient(to right, #d4418e 0%, #0652c5 74%);  /* Chrome 10-25, Safari 5.1-6 */\n",
       "        background: linear-gradient(315deg, #d4418e 0%, #0652c5 74%); /* W3C, IE 10+/ Edge, Firefox 16+, Chrome 26+, Opera 12+, Safari 7+ */\n",
       "        margin-top: 50px;\n",
       "        border-style: outset;\n",
       "        padding-top:100px;\n",
       "        padding-bottom:50px;\n",
       "        padding-left:25px;\n",
       "        color: white;\n",
       "    \"> Welcome to Qiskit Metal! <h1>\n",
       "        "
      ],
      "text/plain": [
       "<IPython.core.display.HTML object>"
      ]
     },
     "metadata": {},
     "output_type": "display_data"
    }
   ],
   "source": [
    "import qiskit_metal as metal\n",
    "from qiskit_metal import designs, draw\n",
    "from qiskit_metal import MetalGUI, Dict, open_docs\n",
    "\n",
    "%metal_heading Welcome to Qiskit Metal!"
   ]
  },
  {
   "cell_type": "code",
   "execution_count": 3,
   "id": "0b17ce5b",
   "metadata": {
    "ExecuteTime": {
     "end_time": "2023-08-15T06:27:07.464785Z",
     "start_time": "2023-08-15T06:27:06.896037Z"
    }
   },
   "outputs": [],
   "source": [
    "design = designs.DesignPlanar()\n",
    "gui = MetalGUI(design)"
   ]
  },
  {
   "cell_type": "code",
   "execution_count": 4,
   "id": "eab6a217",
   "metadata": {
    "ExecuteTime": {
     "end_time": "2023-08-15T06:27:08.207353Z",
     "start_time": "2023-08-15T06:27:08.125311Z"
    }
   },
   "outputs": [
    {
     "data": {
      "text/plain": [
       "{'pos_x': '0.0um',\n",
       " 'pos_y': '0.0um',\n",
       " 'orientation': '0.0',\n",
       " 'chip': 'main',\n",
       " 'layer': '1',\n",
       " 'connection_pads': {},\n",
       " '_default_connection_pads': {'connector_type': '0',\n",
       "  'claw_length': '30um',\n",
       "  'ground_spacing': '5um',\n",
       "  'claw_width': '10um',\n",
       "  'claw_gap': '6um',\n",
       "  'claw_cpw_length': '40um',\n",
       "  'claw_cpw_width': '10um',\n",
       "  'connector_location': '0'},\n",
       " 'cross_width': '20um',\n",
       " 'cross_length': '200um',\n",
       " 'cross_gap': '20um',\n",
       " 'make_fl': True,\n",
       " 'fl_options': {'t_top': '15um',\n",
       "  't_offset': '0um',\n",
       "  't_inductive_gap': '3um',\n",
       "  't_width': '5um',\n",
       "  't_gap': '3um'},\n",
       " 'hfss_wire_bonds': False,\n",
       " 'q3d_wire_bonds': False,\n",
       " 'aedt_q3d_wire_bonds': False,\n",
       " 'aedt_hfss_wire_bonds': False,\n",
       " 'hfss_inductance': '10nH',\n",
       " 'hfss_capacitance': 0,\n",
       " 'hfss_resistance': 0,\n",
       " 'hfss_mesh_kw_jj': 7e-06,\n",
       " 'q3d_inductance': '10nH',\n",
       " 'q3d_capacitance': 0,\n",
       " 'q3d_resistance': 0,\n",
       " 'q3d_mesh_kw_jj': 7e-06,\n",
       " 'gds_cell_name': 'my_other_junction',\n",
       " 'aedt_q3d_inductance': 1e-08,\n",
       " 'aedt_q3d_capacitance': 0,\n",
       " 'aedt_hfss_inductance': 1e-08,\n",
       " 'aedt_hfss_capacitance': 0}"
      ]
     },
     "execution_count": 4,
     "metadata": {},
     "output_type": "execute_result"
    }
   ],
   "source": [
    "from qiskit_metal.qlibrary.qubits.transmon_pocket_6 import TransmonPocket6\n",
    "from qiskit_metal.qlibrary.qubits.transmon_cross_fl import TransmonCrossFL\n",
    "\n",
    "from qiskit_metal.qlibrary.couplers.tunable_coupler_01 import TunableCoupler01\n",
    "\n",
    "from qiskit_metal.qlibrary.tlines.meandered import RouteMeander\n",
    "from qiskit_metal.qlibrary.tlines.pathfinder import RoutePathfinder\n",
    "from qiskit_metal.qlibrary.tlines.anchored_path import RouteAnchors\n",
    "\n",
    "from qiskit_metal.qlibrary.lumped.cap_n_interdigital import CapNInterdigital\n",
    "from qiskit_metal.qlibrary.couplers.cap_n_interdigital_tee import CapNInterdigitalTee\n",
    "from qiskit_metal.qlibrary.couplers.coupled_line_tee import CoupledLineTee\n",
    "\n",
    "from qiskit_metal.qlibrary.terminations.launchpad_wb import LaunchpadWirebond\n",
    "from qiskit_metal.qlibrary.terminations.launchpad_wb_coupled import LaunchpadWirebondCoupled\n",
    "from qiskit_metal.qlibrary.qubits.transmon_cross import TransmonCross\n",
    "from qiskit_metal.qlibrary.tlines.anchored_path import RouteAnchors \n",
    "\n",
    "\n",
    "import numpy as np \n",
    "\n",
    "from collections import OrderedDict \n",
    "\n",
    "TransmonCross.get_template_options(design)\n",
    "TransmonCrossFL.get_template_options(design)"
   ]
  },
  {
   "cell_type": "code",
   "execution_count": 5,
   "id": "4c399195",
   "metadata": {
    "ExecuteTime": {
     "end_time": "2023-08-15T06:27:09.187664Z",
     "start_time": "2023-08-15T06:27:09.117517Z"
    }
   },
   "outputs": [],
   "source": [
    "from qiskit_metal.qlibrary.qubits.transmon_cross_fl_cl import TransmonCrossFL_CL"
   ]
  },
  {
   "cell_type": "code",
   "execution_count": 6,
   "id": "00b2cdce",
   "metadata": {
    "ExecuteTime": {
     "end_time": "2023-08-15T06:27:10.364972Z",
     "start_time": "2023-08-15T06:27:10.301389Z"
    }
   },
   "outputs": [],
   "source": [
    "design.chips.main.size.size_x = '5mm'\n",
    "design.chips.main.size.size_y = '5mm'\n",
    "design.chips.main.size.size_z = '725um'"
   ]
  },
  {
   "cell_type": "code",
   "execution_count": 7,
   "id": "be4d62e4",
   "metadata": {
    "ExecuteTime": {
     "end_time": "2023-08-15T06:27:10.970769Z",
     "start_time": "2023-08-15T06:27:10.901482Z"
    }
   },
   "outputs": [],
   "source": [
    "TransmonPocket6.get_template_options(design)\n",
    "design.overwrite_enabled = True"
   ]
  },
  {
   "cell_type": "code",
   "execution_count": 37,
   "id": "3a6c33e6",
   "metadata": {
    "ExecuteTime": {
     "end_time": "2023-08-15T06:45:40.235584Z",
     "start_time": "2023-08-15T06:45:39.987954Z"
    }
   },
   "outputs": [],
   "source": [
    "design.overwrite_enabled = True\n",
    "options =  dict(\n",
    "    connection_pads=dict(\n",
    "        readout = dict(loc_W=+1, loc_H=+1),\n",
    "        storage = dict(loc_W=-1, loc_H=-1, )\n",
    "    ))\n",
    "    \n",
    "from qiskit_metal.qlibrary.qubits.transmon_cross_fl import TransmonCrossFL\n",
    "from qiskit_metal.qlibrary.qubits.transmon_cross_fl_cl import TransmonCrossFL_CL\n",
    "from qiskit_metal.qlibrary.qubits.transmon_pocket_cl import TransmonPocketCL\n",
    "from qiskit_metal.qlibrary.qubits.transmon_pocket_cl_fl import TransmonPocketCL_FL\n",
    "\n",
    "\n",
    "from qiskit_metal.qlibrary.qubits.transmon_cross_ebru_temp import TransmonCross_ebru_temp\n",
    "\n",
    "from qiskit_metal.qlibrary.qubits.transmon_cross_fl_ebru_temp import TransmonCrossFL_ebru_temp\n",
    "from qiskit_metal.qlibrary.qubits.transmon_cross_fl_cl_ebru_temp import TransmonCrossFL_CL_ebru_temp\n",
    "\n",
    "\n",
    "\n",
    "\n",
    "Q1 = TransmonPocketCL_FL(design, 'Q1', options = dict( pos_x = '0.625mm', pos_y='1.410mm', orientation='90', make_fl=False, make_cl=False, \n",
    "                                                            connection_pads=dict(\n",
    "                                    #a = dict(pad_gap='20um', loc_W=-1, loc_H=-1, pad_width='50um', cpw_extend = '50um'),\n",
    "                                    \n",
    "                                    #b = dict(loc_W=-1, loc_H=-1, pad_width='125um', cpw_extend = '50um', pad_height='60um'),\n",
    "                                    #c = dict(loc_W=+1, loc_H=+1, pad_width='110um', cpw_extend = '50um')\n",
    "    ),\n",
    "    pad_width='200um', pad_height='200um', pad_gap='80um', inductor_width='10um',\n",
    "    pocket_width='370um', pocket_height='650um', \n",
    "    cl_pocket_edge = '270',\n",
    "    cl_off_center = '120um',\n",
    "    cl_gap='3um', cl_width='5um',\n",
    "    cl_length='0um', \n",
    "                                                      fl_options = dict(t_shift='0um', t_offset='130um'),\n",
    "                                                      \n",
    "                                                      \n",
    "                                                 ))\n",
    "\n",
    "\n",
    "Q2 = TransmonCrossFL_CL_ebru_temp(design, 'Q2', options = dict(make_extra_rect=False, make_fl=False, make_cl=False,  pos_x = '0.2mm', pos_y='1.410mm', orientation=0, \n",
    "                                                     cross_length='128um', cross_width='36um', cross_gap='30um',\n",
    "                                    \n",
    "                                                 rect_options= dict(rect_width='40um', rect_length='8um')))\n",
    "\n",
    "\n",
    "gui.rebuild()\n",
    "gui.autoscale()"
   ]
  },
  {
   "cell_type": "code",
   "execution_count": null,
   "id": "0d801663",
   "metadata": {},
   "outputs": [],
   "source": []
  },
  {
   "cell_type": "code",
   "execution_count": null,
   "id": "117489f5",
   "metadata": {},
   "outputs": [],
   "source": [
    "q1_read_T = CoupledLineTee(design,'Q1_Read_T', options=dict(pos_x = '-0.65mm', pos_y = '%smm'%(pos_list[0]+0.05), \n",
    "                                                        orientation = '270', \n",
    "                                                        coupling_length = '200um',\n",
    "                                                        coupling_space = '7um',\n",
    "                                                        down_length ='70um',\n",
    "                                                        fillet = \"50um\",\n",
    "                                                        mirror = True,\n",
    "                                                        open_termination = False))\n",
    "\n",
    "q2_read_T = CoupledLineTee(design,'Q2_Read_T', options=dict(pos_x = '-0.65mm', pos_y = '%smm'%(pos_list[1]+0.05), \n",
    "                                                        orientation = '270', \n",
    "                                                        coupling_length = '200um',\n",
    "                                                        coupling_space = '7um',\n",
    "                                                        down_length ='70um',\n",
    "                                                        fillet = \"50um\",\n",
    "                                                        mirror = True,\n",
    "                                                        open_termination = False))\n",
    "\n",
    "q3_read_T = CoupledLineTee(design,'Q3_Read_T', options=dict(pos_x = '-0.65mm', pos_y = '%smm'%(pos_list[2]+0.05), \n",
    "                                                        orientation = '270', \n",
    "                                                        coupling_length = '200um',\n",
    "                                                        coupling_space = '7um',\n",
    "                                                        down_length ='70um',\n",
    "                                                        fillet = \"50um\",\n",
    "                                                        mirror = True,\n",
    "                                                        open_termination = False))\n",
    "\n",
    "q4_read_T = CoupledLineTee(design,'Q4_Read_T', options=dict(pos_x = '-0.38mm', pos_y = '%smm'%(pos_list1[0]+0.045), \n",
    "                                                        orientation = '90', \n",
    "                                                        coupling_length = '235um',\n",
    "                                                        coupling_space = '5um',\n",
    "                                                        down_length ='70um',\n",
    "                                                        fillet = \"50um\",\n",
    "                                                        mirror = False,\n",
    "                                                        open_termination = False))\n",
    "\n",
    "q5_read_T = CoupledLineTee(design,'Q5_Read_T', options=dict(pos_x = '-0.38mm', pos_y = '%smm'%(pos_list1[1]+0.045),  \n",
    "                                                        orientation = '90', \n",
    "                                                        coupling_length = '250um',\n",
    "                                                        coupling_space = '4um',\n",
    "                                                        down_length ='70um',\n",
    "                                                        fillet = \"50um\",\n",
    "                                                        mirror = False,\n",
    "                                                        open_termination = False))\n",
    "\n",
    "q6_read_T = CoupledLineTee(design,'Q6_Read_T', options=dict(pos_x = '-0.38mm', pos_y = '%smm'%(pos_list1[2]+0.045), \n",
    "                                                        orientation = '90', \n",
    "                                                        coupling_length = '235um',\n",
    "                                                        coupling_space = '4um',\n",
    "                                                        down_length ='70um',\n",
    "                                                        fillet = \"50um\",\n",
    "                                                        mirror = False,\n",
    "                                                        open_termination = False))\n",
    "\n",
    "\n",
    "#We use finger count to set the width of the gap capacitance, -> N*cap_width + (N-1)*cap_gap\n",
    "\n",
    "gui.rebuild()\n",
    "gui.autoscale()"
   ]
  },
  {
   "cell_type": "code",
   "execution_count": null,
   "id": "178d1966",
   "metadata": {},
   "outputs": [],
   "source": [
    "launch_nw = LaunchpadWirebond(design, 'Launch_NW',options = dict( pos_x=' -1.1250mm', pos_y = '%smm'%(pos_list[1]-1.954), pad_width='160um', pad_gap_x= '96um', pad_gap_y= '100um', pad_height='200um', taper_height='150um',orientation=90))\n",
    "launch_ne = LaunchpadWirebond(design, 'Launch_NE',options = dict( pos_x=' -1.1250mm', pos_y = '%smm'%(pos_list[1]+1.954),pad_width='160um', pad_gap_x= '96um', pad_gap_y= '100um', pad_height='200um', taper_height='150um',orientation=270))\n",
    "\n",
    "launch_nw2 = LaunchpadWirebond(design, 'Launch_NW2',options = dict(pos_x='-0.38mm',pos_y = '%smm'%(pos_list[1]-1.954),  pad_width='160um', pad_gap_x= '96um', pad_gap_y= '100um', pad_height='200um', taper_height='150um',orientation=90))\n",
    "launch_ne2 = LaunchpadWirebond(design, 'Launch_NE2',options = dict(pos_x='-0.38mm',pos_y = '%smm'%(pos_list[1]+1.954), pad_width='160um', pad_gap_x= '96um', pad_gap_y= '100um', pad_height='200um', taper_height='150um',orientation=270))\n",
    "\n",
    "\n",
    "gui.rebuild()"
   ]
  },
  {
   "cell_type": "code",
   "execution_count": null,
   "id": "6565d00c",
   "metadata": {},
   "outputs": [],
   "source": [
    "read_q1 = RouteMeander(design,'Read_Q1', options = dict(hfss_wire_bonds = True, \n",
    "                                            pin_inputs=Dict(\n",
    "                                                start_pin=Dict(\n",
    "                                                    component='Q1',\n",
    "                                                    pin='readout1'),\n",
    "                                                end_pin=Dict(\n",
    "                                                    component='Q1_Read_T',\n",
    "                                                    pin='second_end')\n",
    "                                            ),\n",
    "                                            lead=Dict(\n",
    "                                                start_straight='50um',\n",
    "                                                end_straight = '70um',\n",
    "                                                #start_jogged_extension = jogs_start,\n",
    "                                                #end_jogged_extension = jogs_end\n",
    "                                            ),\n",
    "                                            meander=Dict(spacing = \"100um\",\n",
    "                                                asymmetry = '0um'),\n",
    "                                            fillet = \"49um\",\n",
    "                                            spacing = \"160um\",   \n",
    "                                            total_length = '3mm'))\n",
    "\n",
    "read_q2 = RouteMeander(design,'Read_Q2', options = dict(hfss_wire_bonds = True, \n",
    "                                            pin_inputs=Dict(\n",
    "                                                start_pin=Dict(\n",
    "                                                    component='Q2',\n",
    "                                                    pin='readout2'),\n",
    "                                                end_pin=Dict(\n",
    "                                                    component='Q2_Read_T',\n",
    "                                                    pin='second_end')\n",
    "                                            ),\n",
    "                                            lead=Dict(\n",
    "                                                start_straight='50um',\n",
    "                                                end_straight = '70um',\n",
    "                                                #start_jogged_extension = jogs_start,\n",
    "                                                #end_jogged_extension = jogs_end\n",
    "                                            ),\n",
    "                                            meander=Dict(spacing = \"100um\",\n",
    "                                                asymmetry = '0um'),\n",
    "                                            fillet = \"49um\",\n",
    "                                            spacing = \"160um\",   \n",
    "                                            total_length = '3.1mm'))\n",
    "\n",
    "read_q3 = RouteMeander(design,'Read_Q3', options = dict(hfss_wire_bonds = True, \n",
    "                                            pin_inputs=Dict(\n",
    "                                                start_pin=Dict(\n",
    "                                                    component='Q3',\n",
    "                                                    pin='readout3'),\n",
    "                                                end_pin=Dict(\n",
    "                                                    component='Q3_Read_T',\n",
    "                                                    pin='second_end')\n",
    "                                            ),\n",
    "                                            lead=Dict(\n",
    "                                                start_straight='50um',\n",
    "                                                end_straight = '70um',\n",
    "                                                #start_jogged_extension = jogs_start,\n",
    "                                                #end_jogged_extension = jogs_end\n",
    "                                            ),\n",
    "                                            meander=Dict(spacing = \"100um\",\n",
    "                                                asymmetry = '0um'),\n",
    "                                            fillet = \"49um\",\n",
    "                                            spacing = \"160um\",   \n",
    "                                            total_length = '3.2mm'))\n",
    "\n",
    "read_q4 = RouteMeander(design,'Read_Q4', options = dict(hfss_wire_bonds = True, \n",
    "                                            pin_inputs=Dict(\n",
    "                                                start_pin=Dict(\n",
    "                                                    component='Q4',\n",
    "                                                    pin='readout4'),\n",
    "                                                end_pin=Dict(\n",
    "                                                    component='Q4_Read_T',\n",
    "                                                    pin='second_end')\n",
    "                                            ),\n",
    "                                            lead=Dict(\n",
    "                                                start_straight='110um',\n",
    "                                                end_straight = '90um',\n",
    "                                                #start_jogged_extension = jogs_start,\n",
    "                                                #end_jogged_extension = jogs_end\n",
    "                                            ),\n",
    "                                            meander=Dict(spacing = \"110um\",\n",
    "                                                asymmetry = '0um'),\n",
    "                                            fillet = \"40um\",\n",
    "                                            spacing = \"160um\",   \n",
    "                                            total_length = '2.9mm'))\n",
    "\n",
    "read_q5 = RouteMeander(design,'Read_Q5', options = dict(hfss_wire_bonds = True, \n",
    "                                            pin_inputs=Dict(\n",
    "                                                start_pin=Dict(\n",
    "                                                    component='Q5',\n",
    "                                                    pin='readout5'),\n",
    "                                                end_pin=Dict(\n",
    "                                                    component='Q5_Read_T',\n",
    "                                                    pin='second_end')\n",
    "                                            ),\n",
    "                                            lead=Dict(\n",
    "                                                start_straight='110um',\n",
    "                                                end_straight = '90um',\n",
    "                                                #start_jogged_extension = jogs_start,\n",
    "                                                #end_jogged_extension = jogs_end\n",
    "                                            ),\n",
    "                                            meander=Dict(spacing = \"110um\",\n",
    "                                                asymmetry = '0um'),\n",
    "                                            fillet = \"49um\",\n",
    "                                            spacing = \"160um\",   \n",
    "                                            total_length = '3mm'))\n",
    "\n",
    "read_q6 = RouteMeander(design,'Read_Q6', options = dict(hfss_wire_bonds = True, \n",
    "                                            pin_inputs=Dict(\n",
    "                                                start_pin=Dict(\n",
    "                                                    component='Q6',\n",
    "                                                    pin='readout6'),\n",
    "                                                end_pin=Dict(\n",
    "                                                    component='Q6_Read_T',\n",
    "                                                    pin='second_end')\n",
    "                                            ),\n",
    "                                            lead=Dict(\n",
    "                                                start_straight='110um',\n",
    "                                                end_straight = '90um',\n",
    "                                                #start_jogged_extension = jogs_start,\n",
    "                                                #end_jogged_extension = jogs_end\n",
    "                                            ),\n",
    "                                            meander=Dict(spacing = \"110um\",\n",
    "                                                asymmetry = '0um'),\n",
    "                                            fillet = \"49um\",\n",
    "                                            spacing = \"160um\",   \n",
    "                                            total_length = '3.1mm'))\n",
    "\n",
    "gui.rebuild()"
   ]
  },
  {
   "cell_type": "code",
   "execution_count": null,
   "id": "4af8fdd1",
   "metadata": {},
   "outputs": [],
   "source": [
    "mp_tl_01 = RoutePathfinder(design, 'ML_TL_01', options = dict(hfss_wire_bonds = True,\n",
    "                                                    pin_inputs = dict(\n",
    "                                                    start_pin=Dict(\n",
    "                                                        component='Launch_NW',\n",
    "                                                        pin='tie'),\n",
    "                                                    end_pin=Dict(\n",
    "                                                        component='Q1_Read_T',\n",
    "                                                        pin='prime_end')),\n",
    "                                                    fillet = '99um',\n",
    "                                                 lead=Dict(\n",
    "                                                start_straight='500um',\n",
    "                                                end_straight = '300um',\n",
    "                                                #start_jogged_extension = jogs_start,\n",
    "                                                #end_jogged_extension = jogs_end\n",
    "                                                  ),\n",
    "                                            ))\n",
    "\n",
    "\n",
    "mp_tl_02 = RoutePathfinder(design, 'ML_TL_02', options = dict(hfss_wire_bonds = True,\n",
    "                                                    pin_inputs = dict(\n",
    "                                                    start_pin=Dict(\n",
    "                                                        component='Q1_Read_T',\n",
    "                                                        pin='prime_start'),\n",
    "                                                    end_pin=Dict(\n",
    "                                                        component='Q2_Read_T',\n",
    "                                                        pin='prime_end'))\n",
    "                                            ))\n",
    "\n",
    "\n",
    "\n",
    "\n",
    "mp_tl_03 = RoutePathfinder(design, 'ML_TL_03', options = dict(hfss_wire_bonds = True,\n",
    "                                                    pin_inputs = dict(\n",
    "                                                    start_pin=Dict(\n",
    "                                                        component='Q2_Read_T',\n",
    "                                                        pin='prime_start'),\n",
    "                                                    end_pin=Dict(\n",
    "                                                        component='Q3_Read_T',\n",
    "                                                        pin='prime_end'))\n",
    "                                            ))\n",
    "\n",
    "mp_tl_04 = RoutePathfinder(design, 'ML_TL_04', options = dict(hfss_wire_bonds = True,\n",
    "                                                    pin_inputs = dict(\n",
    "                                                    start_pin=Dict(\n",
    "                                                        component='Q3_Read_T',\n",
    "                                                        pin='prime_start'),\n",
    "                                                    end_pin=Dict(\n",
    "                                                        component='Launch_NE',\n",
    "                                                        pin='tie')),\n",
    "                                                    fillet = '99um',\n",
    "                                                    lead=Dict(\n",
    "                                                    start_straight='500um',\n",
    "                                                     end_straight = '100um',\n",
    "                                                #start_jogged_extension = jogs_start,\n",
    "                                                #end_jogged_extension = jogs_end\n",
    "                                                  ),\n",
    "                                            ))\n",
    "\n",
    "\n",
    "gui.rebuild()\n",
    "\n",
    "gui.autoscale()"
   ]
  },
  {
   "cell_type": "code",
   "execution_count": null,
   "id": "e88bc7e0",
   "metadata": {
    "scrolled": true
   },
   "outputs": [],
   "source": [
    "mp_tl_05 = RoutePathfinder(design, 'ML_TL_05', options = dict(hfss_wire_bonds = True,\n",
    "                                                    pin_inputs = dict(\n",
    "                                                    start_pin=Dict(\n",
    "                                                        component='Launch_NW2',\n",
    "                                                        pin='tie'),\n",
    "                                                    end_pin=Dict(\n",
    "                                                        component='Q4_Read_T',\n",
    "                                                        pin='prime_start')),\n",
    "                                                    fillet = '99um',\n",
    "                                                 lead=Dict(\n",
    "                                                start_straight='500um',\n",
    "                                                end_straight = '300um',\n",
    "                                                #start_jogged_extension = jogs_start,\n",
    "                                                #end_jogged_extension = jogs_end\n",
    "                                                  ),\n",
    "                                            ))\n",
    "\n",
    "\n",
    "mp_tl_06 = RoutePathfinder(design, 'ML_TL_06', options = dict(hfss_wire_bonds = True,\n",
    "                                                    pin_inputs = dict(\n",
    "                                                    start_pin=Dict(\n",
    "                                                        component='Q4_Read_T',\n",
    "                                                        pin='prime_end'),\n",
    "                                                    end_pin=Dict(\n",
    "                                                        component='Q5_Read_T',\n",
    "                                                        pin='prime_start'))\n",
    "                                            ))\n",
    "\n",
    "\n",
    "\n",
    "\n",
    "mp_tl_07 = RoutePathfinder(design, 'ML_TL_07', options = dict(hfss_wire_bonds = True,\n",
    "                                                    pin_inputs = dict(\n",
    "                                                    start_pin=Dict(\n",
    "                                                        component='Q5_Read_T',\n",
    "                                                        pin='prime_end'),\n",
    "                                                    end_pin=Dict(\n",
    "                                                        component='Q6_Read_T',\n",
    "                                                        pin='prime_start'))\n",
    "                                            ))\n",
    "\n",
    "mp_tl_08 = RoutePathfinder(design, 'ML_TL_08', options = dict(hfss_wire_bonds = True,\n",
    "                                                    pin_inputs = dict(\n",
    "                                                    start_pin=Dict(\n",
    "                                                        component='Q6_Read_T',\n",
    "                                                        pin='prime_end'),\n",
    "                                                    end_pin=Dict(\n",
    "                                                        component='Launch_NE2',\n",
    "                                                        pin='tie')),\n",
    "                                                    fillet = '60um',\n",
    "                                                    lead=Dict(\n",
    "                                                    start_straight='100um',\n",
    "                                                     end_straight = '500um',\n",
    "                                                #start_jogged_extension = jogs_start,\n",
    "                                                #end_jogged_extension = jogs_end\n",
    "                                                  ),\n",
    "                                            ))\n",
    "\n",
    "\n",
    "gui.rebuild()\n",
    "\n",
    "gui.autoscale()"
   ]
  },
  {
   "cell_type": "code",
   "execution_count": null,
   "id": "2da3f981",
   "metadata": {},
   "outputs": [],
   "source": [
    "launch_flux_options4 = dict(trace_width= '5um',trace_gap= '3um', pos_x='1.954mm',pos_y='-1.8mm',pad_width='160um', pad_gap_x= '96um', pad_gap_y= '100um', pad_height='200um', taper_height='150um',  orientation='180', lead_length='30um')\n",
    "launch_flux_options5 = dict(trace_width= '5um',trace_gap= '3um', pos_x='1.954mm',pos_y='0.6mm',pad_width='160um', pad_gap_x= '96um', pad_gap_y= '100um', pad_height='200um', taper_height='150um',  orientation='180', lead_length='30um')\n",
    "launch_flux_options6 = dict(trace_width= '5um',trace_gap= '3um', pos_x='1.954mm',pos_y='1.8mm',pad_width='160um', pad_gap_x= '96um', pad_gap_y= '100um', pad_height='200um', taper_height='150um',  orientation='180', lead_length='30um')\n",
    "lf4 = LaunchpadWirebond(design, 'Launch_Flux4', options = launch_flux_options4)\n",
    "lf5 = LaunchpadWirebond(design, 'Launch_Flux5', options = launch_flux_options5)\n",
    "lf6 = LaunchpadWirebond(design, 'Launch_Flux6', options = launch_flux_options6)"
   ]
  },
  {
   "cell_type": "code",
   "execution_count": null,
   "id": "91ae063e",
   "metadata": {},
   "outputs": [],
   "source": [
    "flux_line_Q5 = RoutePathfinder(design,'Flux_Line_5', options = dict(hfss_wire_bonds = True,\n",
    "                                            pin_inputs=Dict(\n",
    "                                                start_pin=Dict(\n",
    "                                                    component='Q5',\n",
    "                                                    pin='flux_line'),\n",
    "                                                end_pin=Dict(\n",
    "                                                    component='Launch_Flux5',\n",
    "                                                    pin='tie')),\n",
    "                                            lead=Dict(\n",
    "                                                start_straight='175um',\n",
    "                                                end_straight = '150um',\n",
    "                                                #end_jogged_extension = jogs_end\n",
    "                                            ),\n",
    "                                            fillet = '99um',\n",
    "                                            trace_width = '5um',\n",
    "                                            trace_gap = '3um',\n",
    "                                            #anchors = anchors\n",
    "                                            ))\n",
    "\n",
    "\n",
    "gui.rebuild()\n",
    "gui.autoscale()"
   ]
  },
  {
   "cell_type": "code",
   "execution_count": null,
   "id": "7749c1d0",
   "metadata": {},
   "outputs": [],
   "source": [
    "\n",
    "\n",
    "flux_line_Q4 = RoutePathfinder(design,'Flux_Line_4', options = dict(hfss_wire_bonds = True,\n",
    "                                            pin_inputs=Dict(\n",
    "                                                start_pin=Dict(\n",
    "                                                    component='Q4',\n",
    "                                                    pin='flux_line'),\n",
    "                                                end_pin=Dict(\n",
    "                                                    component='Launch_Flux4',\n",
    "                                                    pin='tie')),\n",
    "                                            lead=Dict(\n",
    "                                                start_straight='175um',\n",
    "                                                end_straight = '150um',\n",
    "                                                #end_jogged_extension = jogs_end\n",
    "                                            ),\n",
    "                                            fillet = '99um',\n",
    "                                            trace_width = '5um',\n",
    "                                            trace_gap = '3um',\n",
    "                                            #anchors = anchors\n",
    "                                            ))\n",
    "\n",
    "\n",
    "\n",
    "flux_line_Q6 = RoutePathfinder(design,'Flux_Line_6', options = dict(hfss_wire_bonds = True,\n",
    "                                            pin_inputs=Dict(\n",
    "                                                start_pin=Dict(\n",
    "                                                    component='Q6',\n",
    "                                                    pin='flux_line'),\n",
    "                                                end_pin=Dict(\n",
    "                                                    component='Launch_Flux6',\n",
    "                                                    pin='tie')),\n",
    "                                            lead=Dict(\n",
    "                                                start_straight='175um',\n",
    "                                                end_straight = '150um',\n",
    "                                                #end_jogged_extension = jogs_end\n",
    "                                            ),\n",
    "                                            fillet = '99um',\n",
    "                                            trace_width = '5um',\n",
    "                                            trace_gap = '3um',\n",
    "                                            #anchors = anchors\n",
    "                                            ))\n",
    "\n",
    "\n",
    "\n",
    "gui.rebuild()\n",
    "gui.autoscale()\n"
   ]
  },
  {
   "cell_type": "code",
   "execution_count": null,
   "id": "289a2d01",
   "metadata": {},
   "outputs": [],
   "source": [
    "launch_charge_options4 = dict(trace_width= '5um',trace_gap= '3um', pos_x='0.375mm',pos_y='%smm'%(pos_list[1]-1.954),pad_width='160um', pad_gap_x= '96um', pad_gap_y= '100um', pad_height='200um', taper_height='150um',  orientation='90', lead_length='30um')\n",
    "launch_charge_options5 = dict(trace_width= '5um',trace_gap= '3um', pos_x='1.954mm', pos_y='-0.6mm',pad_width='160um', pad_gap_x= '96um', pad_gap_y= '100um', pad_height='200um', taper_height='150um', orientation='180', lead_length='30um')\n",
    "launch_charge_options6 = dict(trace_width= '5um',trace_gap= '3um', pos_x='0.375mm',pos_y='%smm'%(pos_list[1]+1.954), pad_width='160um', pad_gap_x= '96um', pad_gap_y= '100um', pad_height='200um', taper_height='150um',orientation='270', lead_length='30um')\n",
    "\n",
    "# launch_nw2 = LaunchpadWirebond(design, 'Launch_NW2',options = dict(pos_x = '%smm'%(pos_list[1]-1.954), pos_y='0.19mm', orientation=0))\n",
    "# launch_ne2 = LaunchpadWirebond(design, 'Launch_NE2',options = dict(pos_x = '%smm'%(pos_list[1]+1.954), pos_y='0.19mm', orientation=180))\n",
    "\n",
    "\n",
    "lc4 = LaunchpadWirebond(design, 'Launch_Charge4', options = launch_charge_options4)\n",
    "lc5 = LaunchpadWirebond(design, 'Launch_Charge5', options = launch_charge_options5)\n",
    "lc6 = LaunchpadWirebond(design, 'Launch_Charge6', options = launch_charge_options6)\n",
    "\n",
    "\n",
    "gui.rebuild()\n",
    "gui.autoscale()\n"
   ]
  },
  {
   "cell_type": "code",
   "execution_count": null,
   "id": "5e356cb3",
   "metadata": {},
   "outputs": [],
   "source": [
    "\n",
    "charge_line_Q4 = RoutePathfinder(design,'Charge_Line_4', options = dict(hfss_wire_bonds = True,\n",
    "                                            pin_inputs=Dict(\n",
    "                                                start_pin=Dict(\n",
    "                                                    component='Q4',\n",
    "                                                    pin='charge_line'),\n",
    "                                                end_pin=Dict(\n",
    "                                                    component='Launch_Charge4',\n",
    "                                                    pin='tie')),\n",
    "                                            lead=Dict(\n",
    "                                                start_straight='175um',\n",
    "                                                end_straight = '150um',\n",
    "                                                #end_jogged_extension = jogs_end\n",
    "                                            ),\n",
    "                                            fillet = '99um',\n",
    "                                            trace_width = '5um',\n",
    "                                            trace_gap = '3um',\n",
    "                                            #anchors = anchors\n",
    "                                            ))\n",
    "\n",
    "charge_line_Q5 = RoutePathfinder(design,'Charge_Line_5', options = dict(hfss_wire_bonds = True,\n",
    "                                            pin_inputs=Dict(\n",
    "                                                start_pin=Dict(\n",
    "                                                    component='Q5',\n",
    "                                                    pin='charge_line'),\n",
    "                                                end_pin=Dict(\n",
    "                                                    component='Launch_Charge5',\n",
    "                                                    pin='tie')),\n",
    "                                            lead=Dict(\n",
    "                                                start_straight='175um',\n",
    "                                                end_straight = '150um',\n",
    "                                                #end_jogged_extension = jogs_end\n",
    "                                            ),\n",
    "                                            fillet = '50um',\n",
    "                                            trace_width = '5um',\n",
    "                                            trace_gap = '3um',\n",
    "                                            #anchors = anchors\n",
    "                                            ))\n",
    "\n",
    "charge_line_Q6 = RoutePathfinder(design,'Charge_Line_6', options = dict(hfss_wire_bonds = True,\n",
    "                                            pin_inputs=Dict(\n",
    "                                                start_pin=Dict(\n",
    "                                                    component='Q6',\n",
    "                                                    pin='charge_line'),\n",
    "                                                end_pin=Dict(\n",
    "                                                    component='Launch_Charge6',\n",
    "                                                    pin='tie')),\n",
    "                                            lead=Dict(\n",
    "                                                start_straight='175um',\n",
    "                                                end_straight = '150um',\n",
    "                                                #end_jogged_extension = jogs_end\n",
    "                                            ),\n",
    "                                            fillet = '99um',\n",
    "                                            trace_width = '5um',\n",
    "                                            trace_gap = '3um',\n",
    "                                            #anchors = anchors\n",
    "                                            ))\n",
    "\n",
    "\n",
    "\n",
    "\n",
    "gui.rebuild()\n",
    "gui.autoscale()"
   ]
  },
  {
   "cell_type": "code",
   "execution_count": null,
   "id": "41cb1a28",
   "metadata": {},
   "outputs": [],
   "source": []
  },
  {
   "cell_type": "code",
   "execution_count": 9,
   "id": "6bfa608e",
   "metadata": {
    "ExecuteTime": {
     "end_time": "2023-08-15T06:27:35.553803Z",
     "start_time": "2023-08-15T06:27:35.445181Z"
    },
    "scrolled": true
   },
   "outputs": [
    {
     "data": {
      "text/html": [
       "<div>\n",
       "<style scoped>\n",
       "    .dataframe tbody tr th:only-of-type {\n",
       "        vertical-align: middle;\n",
       "    }\n",
       "\n",
       "    .dataframe tbody tr th {\n",
       "        vertical-align: top;\n",
       "    }\n",
       "\n",
       "    .dataframe thead th {\n",
       "        text-align: right;\n",
       "    }\n",
       "</style>\n",
       "<table border=\"1\" class=\"dataframe\">\n",
       "  <thead>\n",
       "    <tr style=\"text-align: right;\">\n",
       "      <th></th>\n",
       "      <th>component</th>\n",
       "      <th>name</th>\n",
       "      <th>geometry</th>\n",
       "      <th>layer</th>\n",
       "      <th>subtract</th>\n",
       "      <th>helper</th>\n",
       "      <th>chip</th>\n",
       "      <th>width</th>\n",
       "      <th>hfss_inductance</th>\n",
       "      <th>hfss_capacitance</th>\n",
       "      <th>...</th>\n",
       "      <th>hfss_mesh_kw_jj</th>\n",
       "      <th>q3d_inductance</th>\n",
       "      <th>q3d_capacitance</th>\n",
       "      <th>q3d_resistance</th>\n",
       "      <th>q3d_mesh_kw_jj</th>\n",
       "      <th>gds_cell_name</th>\n",
       "      <th>aedt_q3d_inductance</th>\n",
       "      <th>aedt_q3d_capacitance</th>\n",
       "      <th>aedt_hfss_inductance</th>\n",
       "      <th>aedt_hfss_capacitance</th>\n",
       "    </tr>\n",
       "  </thead>\n",
       "  <tbody>\n",
       "    <tr>\n",
       "      <th>0</th>\n",
       "      <td>1</td>\n",
       "      <td>rect_jj</td>\n",
       "      <td>LINESTRING (0.64500 1.41000, 0.55500 1.41000)</td>\n",
       "      <td>1</td>\n",
       "      <td>False</td>\n",
       "      <td>False</td>\n",
       "      <td>main</td>\n",
       "      <td>0.010</td>\n",
       "      <td>10nH</td>\n",
       "      <td>0</td>\n",
       "      <td>...</td>\n",
       "      <td>0.000007</td>\n",
       "      <td>10nH</td>\n",
       "      <td>0</td>\n",
       "      <td>0</td>\n",
       "      <td>0.000007</td>\n",
       "      <td>my_other_junction</td>\n",
       "      <td>1.000000e-08</td>\n",
       "      <td>0</td>\n",
       "      <td>1.000000e-08</td>\n",
       "      <td>0</td>\n",
       "    </tr>\n",
       "    <tr>\n",
       "      <th>1</th>\n",
       "      <td>2</td>\n",
       "      <td>rect_jj</td>\n",
       "      <td>LINESTRING (0.20000 1.28200, 0.20000 1.25200)</td>\n",
       "      <td>1</td>\n",
       "      <td>False</td>\n",
       "      <td>False</td>\n",
       "      <td>main</td>\n",
       "      <td>0.036</td>\n",
       "      <td>10nH</td>\n",
       "      <td>0</td>\n",
       "      <td>...</td>\n",
       "      <td>0.000007</td>\n",
       "      <td>10nH</td>\n",
       "      <td>0</td>\n",
       "      <td>0</td>\n",
       "      <td>0.000007</td>\n",
       "      <td>my_other_junction</td>\n",
       "      <td>1.000000e-08</td>\n",
       "      <td>0</td>\n",
       "      <td>1.000000e-08</td>\n",
       "      <td>0</td>\n",
       "    </tr>\n",
       "  </tbody>\n",
       "</table>\n",
       "<p>2 rows × 21 columns</p>\n",
       "</div>"
      ],
      "text/plain": [
       "  component     name                                       geometry  layer  \\\n",
       "0         1  rect_jj  LINESTRING (0.64500 1.41000, 0.55500 1.41000)      1   \n",
       "1         2  rect_jj  LINESTRING (0.20000 1.28200, 0.20000 1.25200)      1   \n",
       "\n",
       "   subtract  helper  chip  width hfss_inductance  hfss_capacitance  ...  \\\n",
       "0     False   False  main  0.010            10nH                 0  ...   \n",
       "1     False   False  main  0.036            10nH                 0  ...   \n",
       "\n",
       "   hfss_mesh_kw_jj  q3d_inductance q3d_capacitance  q3d_resistance  \\\n",
       "0         0.000007            10nH               0               0   \n",
       "1         0.000007            10nH               0               0   \n",
       "\n",
       "   q3d_mesh_kw_jj      gds_cell_name aedt_q3d_inductance  \\\n",
       "0        0.000007  my_other_junction        1.000000e-08   \n",
       "1        0.000007  my_other_junction        1.000000e-08   \n",
       "\n",
       "   aedt_q3d_capacitance  aedt_hfss_inductance  aedt_hfss_capacitance  \n",
       "0                     0          1.000000e-08                      0  \n",
       "1                     0          1.000000e-08                      0  \n",
       "\n",
       "[2 rows x 21 columns]"
      ]
     },
     "execution_count": 9,
     "metadata": {},
     "output_type": "execute_result"
    }
   ],
   "source": [
    "design.qgeometry.tables['junction']"
   ]
  },
  {
   "cell_type": "code",
   "execution_count": 38,
   "id": "2e619f3d",
   "metadata": {
    "ExecuteTime": {
     "end_time": "2023-08-15T06:46:04.636481Z",
     "start_time": "2023-08-15T06:46:04.435876Z"
    }
   },
   "outputs": [],
   "source": [
    "qcomps = design.components  # short handle (alias)\n",
    "qcomps['Q1'].options['hfss_inductance'] = 'Lj1'\n",
    "qcomps['Q1'].options['hfss_capacitance'] = 'Cj1'\n",
    "qcomps['Q2'].options['hfss_inductance'] = 'Lj2'\n",
    "qcomps['Q2'].options['hfss_capacitance'] = 'Cj2'\n",
    "gui.rebuild()  # line needed to propagate the updates from the qubit instance into the junction design table\n",
    "gui.autoscale()"
   ]
  },
  {
   "cell_type": "code",
   "execution_count": 11,
   "id": "64c74f13",
   "metadata": {
    "ExecuteTime": {
     "end_time": "2023-08-15T06:27:38.399235Z",
     "start_time": "2023-08-15T06:27:38.310421Z"
    }
   },
   "outputs": [],
   "source": [
    "from qiskit_metal.analyses.quantization import EPRanalysis\n",
    "eig_2qb = EPRanalysis(design, \"hfss\")"
   ]
  },
  {
   "cell_type": "code",
   "execution_count": null,
   "id": "3c4a71e9",
   "metadata": {},
   "outputs": [],
   "source": []
  },
  {
   "cell_type": "code",
   "execution_count": 39,
   "id": "e29ddc3b",
   "metadata": {
    "ExecuteTime": {
     "end_time": "2023-08-15T06:46:07.632219Z",
     "start_time": "2023-08-15T06:46:07.563786Z"
    }
   },
   "outputs": [
    {
     "data": {
      "text/plain": [
       "{'name': 'Setup',\n",
       " 'reuse_selected_design': True,\n",
       " 'reuse_setup': True,\n",
       " 'min_freq_ghz': 1,\n",
       " 'n_modes': 2,\n",
       " 'max_delta_f': 0.05,\n",
       " 'max_passes': 15,\n",
       " 'min_passes': 1,\n",
       " 'min_converged': 1,\n",
       " 'pct_refinement': 30,\n",
       " 'basis_order': 1,\n",
       " 'vars': {'Lj1': '9.14 nH', 'Cj1': '2 fF', 'Lj2': '9.4 nH', 'Cj2': '2 fF'},\n",
       " 'run': {'name': 'TwoT78953',\n",
       "  'components': ['Q1', 'Q2'],\n",
       "  'open_terminations': [],\n",
       "  'port_list': None,\n",
       "  'jj_to_port': None,\n",
       "  'ignored_jjs': None,\n",
       "  'box_plus_buffer': True}}"
      ]
     },
     "execution_count": 39,
     "metadata": {},
     "output_type": "execute_result"
    }
   ],
   "source": [
    "eig_2qb.sim.setup.max_passes = 15\n",
    "eig_2qb.sim.setup.max_delta_f = 0.05\n",
    "eig_2qb.sim.setup.n_modes = 2\n",
    "eig_2qb.sim.setup.vars = Dict(Lj1= '9.14 nH', Cj1= '2 fF',\n",
    "                           Lj2= '9.4 nH', Cj2= '2 fF')\n",
    "eig_2qb.sim.setup"
   ]
  },
  {
   "cell_type": "code",
   "execution_count": 13,
   "id": "63f57328",
   "metadata": {
    "ExecuteTime": {
     "end_time": "2023-08-15T06:27:43.525329Z",
     "start_time": "2023-08-15T06:27:43.429373Z"
    }
   },
   "outputs": [
    {
     "data": {
      "text/plain": [
       "{'Lj': '10nH',\n",
       " 'Cj': 0,\n",
       " '_Rj': 0,\n",
       " 'max_mesh_length_jj': '7um',\n",
       " 'max_mesh_length_port': '7um',\n",
       " 'project_path': None,\n",
       " 'project_name': None,\n",
       " 'design_name': None,\n",
       " 'x_buffer_width_mm': 0.5,\n",
       " 'y_buffer_width_mm': 0.5,\n",
       " 'wb_threshold': '400um',\n",
       " 'wb_offset': '0um',\n",
       " 'wb_size': 5,\n",
       " 'plot_ansys_fields_options': {'name': 'NAME:Mag_E1',\n",
       "  'UserSpecifyName': '0',\n",
       "  'UserSpecifyFolder': '0',\n",
       "  'QuantityName': 'Mag_E',\n",
       "  'PlotFolder': 'E Field',\n",
       "  'StreamlinePlot': 'False',\n",
       "  'AdjacentSidePlot': 'False',\n",
       "  'FullModelPlot': 'False',\n",
       "  'IntrinsicVar': \"Phase='0deg'\",\n",
       "  'PlotGeomInfo_0': '1',\n",
       "  'PlotGeomInfo_1': 'Surface',\n",
       "  'PlotGeomInfo_2': 'FacesList',\n",
       "  'PlotGeomInfo_3': '1'}}"
      ]
     },
     "execution_count": 13,
     "metadata": {},
     "output_type": "execute_result"
    }
   ],
   "source": [
    "eig_2qb.sim.renderer.options['x_buffer_width_mm'] = 0.5\n",
    "eig_2qb.sim.renderer.options['y_buffer_width_mm'] = 0.5\n",
    "eig_2qb.sim.renderer.options"
   ]
  },
  {
   "cell_type": "code",
   "execution_count": null,
   "id": "30a701fc",
   "metadata": {},
   "outputs": [],
   "source": []
  },
  {
   "cell_type": "code",
   "execution_count": 40,
   "id": "26bf0c34",
   "metadata": {
    "ExecuteTime": {
     "end_time": "2023-08-15T06:47:45.136731Z",
     "start_time": "2023-08-15T06:46:10.803818Z"
    },
    "scrolled": true
   },
   "outputs": [
    {
     "name": "stderr",
     "output_type": "stream",
     "text": [
      "INFO 02:46AM [connect_design]: \tOpened active design\n",
      "\tDesign:    TwoT78953_hfss [Solution type: Eigenmode]\n",
      "INFO 02:46AM [get_setup]: \tOpened setup `Setup`  (<class 'pyEPR.ansys.HfssEMSetup'>)\n",
      "INFO 02:46AM [analyze]: Analyzing setup Setup\n",
      "02:47AM 45s INFO [get_f_convergence]: Saved convergences to C:\\Users\\WANGLAB\\Documents\\GitHub\\qiskit-metal\\tutorials\\4 Analysis\\A. Core - EM and quantization\\hfss_eig_f_convergence.csv\n"
     ]
    }
   ],
   "source": [
    "eig_2qb.sim.run(name=\"TwoT78953\",\n",
    "               components=['Q1', 'Q2',], open_terminations=[])"
   ]
  },
  {
   "cell_type": "code",
   "execution_count": null,
   "id": "b7c9dce4",
   "metadata": {},
   "outputs": [],
   "source": []
  },
  {
   "cell_type": "code",
   "execution_count": null,
   "id": "d6bef20e",
   "metadata": {},
   "outputs": [],
   "source": [
    "eig_2qb.sim.plot_convergences()"
   ]
  },
  {
   "cell_type": "code",
   "execution_count": null,
   "id": "b8006cf9",
   "metadata": {},
   "outputs": [],
   "source": [
    "eig_2qb.sim.save_screenshot()  # optional"
   ]
  },
  {
   "cell_type": "code",
   "execution_count": null,
   "id": "dd28c5b0",
   "metadata": {},
   "outputs": [],
   "source": [
    "eig_2qb.sim.plot_fields('main', eigenmode=4)\n",
    "eig_2qb.sim.save_screenshot()"
   ]
  },
  {
   "cell_type": "code",
   "execution_count": null,
   "id": "bfe3f1be",
   "metadata": {},
   "outputs": [],
   "source": [
    "hfss = eig_2qb.sim.renderer\n",
    "\n",
    "hfss.clear_fields(['Mag_E1'])\n",
    "hfss.set_mode(1, \"Setup\")\n",
    "hfss.modeler._modeler.ShowWindow()\n",
    "hfss.plot_fields('main')\n",
    "hfss.save_screenshot()"
   ]
  },
  {
   "cell_type": "code",
   "execution_count": 34,
   "id": "ac7dfb66",
   "metadata": {
    "ExecuteTime": {
     "end_time": "2023-08-15T06:44:35.185767Z",
     "start_time": "2023-08-15T06:44:35.123981Z"
    }
   },
   "outputs": [
    {
     "ename": "KeyError",
     "evalue": "'jj'",
     "output_type": "error",
     "traceback": [
      "\u001b[1;31m---------------------------------------------------------------------------\u001b[0m",
      "\u001b[1;31mKeyError\u001b[0m                                  Traceback (most recent call last)",
      "Cell \u001b[1;32mIn[34], line 1\u001b[0m\n\u001b[1;32m----> 1\u001b[0m \u001b[38;5;28;01mdel\u001b[39;00m \u001b[43meig_2qb\u001b[49m\u001b[38;5;241;43m.\u001b[39;49m\u001b[43msetup\u001b[49m\u001b[38;5;241;43m.\u001b[39;49m\u001b[43mjunctions\u001b[49m\u001b[43m[\u001b[49m\u001b[38;5;124;43m'\u001b[39;49m\u001b[38;5;124;43mjj\u001b[39;49m\u001b[38;5;124;43m'\u001b[39;49m\u001b[43m]\u001b[49m\n",
      "\u001b[1;31mKeyError\u001b[0m: 'jj'"
     ]
    }
   ],
   "source": [
    "del eig_2qb.setup.junctions['jj']"
   ]
  },
  {
   "cell_type": "code",
   "execution_count": 41,
   "id": "b12f834b",
   "metadata": {
    "ExecuteTime": {
     "end_time": "2023-08-15T06:47:54.132309Z",
     "start_time": "2023-08-15T06:47:54.068614Z"
    }
   },
   "outputs": [
    {
     "data": {
      "text/plain": [
       "{'junctions': {'jj1': {'rect': 'JJ_rect_Lj_Q1_rect_jj',\n",
       "   'line': 'JJ_Lj_Q1_rect_jj_',\n",
       "   'Lj_variable': 'Lj1',\n",
       "   'Cj_variable': 'Cj1'},\n",
       "  'jj2': {'rect': 'JJ_rect_Lj_Q2_rect_jj',\n",
       "   'line': 'JJ_Lj_Q2_rect_jj_',\n",
       "   'Lj_variable': 'Lj2',\n",
       "   'Cj_variable': 'Cj2'}},\n",
       " 'dissipatives': {'dielectrics_bulk': ['main']},\n",
       " 'cos_trunc': 8,\n",
       " 'fock_trunc': 7,\n",
       " 'sweep_variable': 'Lj1'}"
      ]
     },
     "execution_count": 41,
     "metadata": {},
     "output_type": "execute_result"
    }
   ],
   "source": [
    "eig_2qb.setup.junctions.jj1 = Dict(rect='JJ_rect_Lj_Q1_rect_jj', line='JJ_Lj_Q1_rect_jj_',\n",
    "                  Lj_variable='Lj1', Cj_variable='Cj1')\n",
    "eig_2qb.setup.junctions.jj2 = Dict(rect='JJ_rect_Lj_Q2_rect_jj', line='JJ_Lj_Q2_rect_jj_',\n",
    "                  Lj_variable='Lj2', Cj_variable='Cj2')\n",
    "eig_2qb.setup.sweep_variable = 'Lj1'\n",
    "eig_2qb.setup"
   ]
  },
  {
   "cell_type": "code",
   "execution_count": 42,
   "id": "5769cabb",
   "metadata": {
    "ExecuteTime": {
     "end_time": "2023-08-15T06:48:01.001087Z",
     "start_time": "2023-08-15T06:47:56.388720Z"
    }
   },
   "outputs": [
    {
     "name": "stdout",
     "output_type": "stream",
     "text": [
      "Design \"TwoT78953_hfss\" info:\n",
      "\t# eigenmodes    2\n",
      "\t# variations    1\n",
      "Design \"TwoT78953_hfss\" info:\n",
      "\t# eigenmodes    2\n",
      "\t# variations    1\n"
     ]
    },
    {
     "name": "stderr",
     "output_type": "stream",
     "text": [
      "WARNING:py.warnings:C:\\Users\\WANGLAB\\anaconda3\\envs\\qiskit-metal\\Lib\\site-packages\\pyEPR\\project_info.py:239: FutureWarning: The default dtype for empty Series will be 'object' instead of 'float64' in a future version. Specify a dtype explicitly to silence this warning.\n",
      "  options=pd.Series(get_instance_vars(self.options)),\n",
      "\n"
     ]
    },
    {
     "name": "stdout",
     "output_type": "stream",
     "text": [
      "\n",
      "        energy_elec_all       = 8.20198515842008e-25\n",
      "        energy_elec_substrate = 7.56212433190872e-25\n",
      "        EPR of substrate = 92.2%\n",
      "\n",
      "        energy_mag    = 9.65272069375169e-27\n",
      "        energy_mag % of energy_elec_all  = 1.2%\n",
      "        \n",
      "\n",
      "Variation 0  [1/1]\n"
     ]
    },
    {
     "name": "stderr",
     "output_type": "stream",
     "text": [
      "WARNING:py.warnings:C:\\Users\\WANGLAB\\anaconda3\\envs\\qiskit-metal\\Lib\\site-packages\\pyEPR\\core_distributed_analysis.py:1101: FutureWarning: The default dtype for empty Series will be 'object' instead of 'float64' in a future version. Specify a dtype explicitly to silence this warning.\n",
      "  Ljs = pd.Series({})\n",
      "\n",
      "WARNING:py.warnings:C:\\Users\\WANGLAB\\anaconda3\\envs\\qiskit-metal\\Lib\\site-packages\\pyEPR\\core_distributed_analysis.py:1102: FutureWarning: The default dtype for empty Series will be 'object' instead of 'float64' in a future version. Specify a dtype explicitly to silence this warning.\n",
      "  Cjs = pd.Series({})\n",
      "\n",
      "WARNING:py.warnings:C:\\Users\\WANGLAB\\anaconda3\\envs\\qiskit-metal\\Lib\\site-packages\\pyEPR\\core_distributed_analysis.py:1245: FutureWarning: The default dtype for empty Series will be 'object' instead of 'float64' in a future version. Specify a dtype explicitly to silence this warning.\n",
      "  _Om = pd.Series({})\n",
      "\n"
     ]
    },
    {
     "name": "stdout",
     "output_type": "stream",
     "text": [
      "\n",
      "  \u001b[1mMode 0 at 5.98 GHz   [1/2]\u001b[0m\n",
      "    Calculating ℰ_magnetic,"
     ]
    },
    {
     "name": "stderr",
     "output_type": "stream",
     "text": [
      "WARNING:py.warnings:C:\\Users\\WANGLAB\\anaconda3\\envs\\qiskit-metal\\Lib\\site-packages\\pyEPR\\core_distributed_analysis.py:981: FutureWarning: The default dtype for empty Series will be 'object' instead of 'float64' in a future version. Specify a dtype explicitly to silence this warning.\n",
      "  Sj = pd.Series({})\n",
      "\n"
     ]
    },
    {
     "name": "stdout",
     "output_type": "stream",
     "text": [
      "ℰ_electric\n",
      "       (ℰ_E-ℰ_H)/ℰ_E       ℰ_E       ℰ_H\n",
      "               99.1%  1.983e-25 1.861e-27\n",
      "\n",
      "    Calculating junction energy participation ration (EPR)\n",
      "\tmethod=`line_voltage`. First estimates:\n",
      "\tjunction        EPR p_0j   sign s_0j    (p_capacitive)\n"
     ]
    },
    {
     "name": "stderr",
     "output_type": "stream",
     "text": [
      "WARNING:py.warnings:C:\\Users\\WANGLAB\\anaconda3\\envs\\qiskit-metal\\Lib\\site-packages\\pyEPR\\core_distributed_analysis.py:933: FutureWarning: The default dtype for empty Series will be 'object' instead of 'float64' in a future version. Specify a dtype explicitly to silence this warning.\n",
      "  Qp = pd.Series({})\n",
      "\n"
     ]
    },
    {
     "name": "stdout",
     "output_type": "stream",
     "text": [
      "\t\tEnergy fraction (Lj over Lj&Cj)= 97.48%\n",
      "\tjj1             0.00469685  (+)        0.000121379\n",
      "\t\tEnergy fraction (Lj over Lj&Cj)= 97.41%\n",
      "\tjj2              1.01144  (+)        0.0268817\n",
      "\t\t(U_tot_cap-U_tot_ind)/mean=0.07%\n",
      "Calculating Qdielectric_main for mode 0 (0/1)\n"
     ]
    },
    {
     "name": "stderr",
     "output_type": "stream",
     "text": [
      "WARNING:py.warnings:C:\\Users\\WANGLAB\\anaconda3\\envs\\qiskit-metal\\Lib\\site-packages\\pyEPR\\core_distributed_analysis.py:1307: FutureWarning: The series.append method is deprecated and will be removed from pandas in a future version. Use pandas.concat instead.\n",
      "  sol = sol.append(self.get_Qdielectric(\n",
      "\n",
      "WARNING:py.warnings:C:\\Users\\WANGLAB\\anaconda3\\envs\\qiskit-metal\\Lib\\site-packages\\pyEPR\\core_distributed_analysis.py:1245: FutureWarning: The default dtype for empty Series will be 'object' instead of 'float64' in a future version. Specify a dtype explicitly to silence this warning.\n",
      "  _Om = pd.Series({})\n",
      "\n"
     ]
    },
    {
     "name": "stdout",
     "output_type": "stream",
     "text": [
      "p_dielectric_main_0 = 0.9207534423135011\n",
      "\n",
      "  \u001b[1mMode 1 at 8.05 GHz   [2/2]\u001b[0m\n",
      "    Calculating ℰ_magnetic,"
     ]
    },
    {
     "name": "stderr",
     "output_type": "stream",
     "text": [
      "WARNING:py.warnings:C:\\Users\\WANGLAB\\anaconda3\\envs\\qiskit-metal\\Lib\\site-packages\\pyEPR\\core_distributed_analysis.py:981: FutureWarning: The default dtype for empty Series will be 'object' instead of 'float64' in a future version. Specify a dtype explicitly to silence this warning.\n",
      "  Sj = pd.Series({})\n",
      "\n"
     ]
    },
    {
     "name": "stdout",
     "output_type": "stream",
     "text": [
      "ℰ_electric\n",
      "       (ℰ_E-ℰ_H)/ℰ_E       ℰ_E       ℰ_H\n",
      "               98.8%  4.101e-25 4.826e-27\n",
      "\n",
      "    Calculating junction energy participation ration (EPR)\n",
      "\tmethod=`line_voltage`. First estimates:\n",
      "\tjunction        EPR p_1j   sign s_1j    (p_capacitive)\n"
     ]
    },
    {
     "name": "stderr",
     "output_type": "stream",
     "text": [
      "WARNING:py.warnings:C:\\Users\\WANGLAB\\anaconda3\\envs\\qiskit-metal\\Lib\\site-packages\\pyEPR\\core_distributed_analysis.py:933: FutureWarning: The default dtype for empty Series will be 'object' instead of 'float64' in a future version. Specify a dtype explicitly to silence this warning.\n",
      "  Qp = pd.Series({})\n",
      "\n",
      "WARNING:py.warnings:C:\\Users\\WANGLAB\\anaconda3\\envs\\qiskit-metal\\Lib\\site-packages\\pyEPR\\core_distributed_analysis.py:1307: FutureWarning: The series.append method is deprecated and will be removed from pandas in a future version. Use pandas.concat instead.\n",
      "  sol = sol.append(self.get_Qdielectric(\n",
      "\n"
     ]
    },
    {
     "name": "stdout",
     "output_type": "stream",
     "text": [
      "\t\tEnergy fraction (Lj over Lj&Cj)= 95.53%\n",
      "\tjj1              1.03005  (+)        0.0481466\n",
      "\t\tEnergy fraction (Lj over Lj&Cj)= 95.41%\n",
      "\tjj2             0.00484174  (+)        0.000232749\n",
      "\t\t(U_tot_cap-U_tot_ind)/mean=0.08%\n",
      "Calculating Qdielectric_main for mode 1 (1/1)\n",
      "p_dielectric_main_1 = 0.9219870782313627\n"
     ]
    },
    {
     "name": "stderr",
     "output_type": "stream",
     "text": [
      "WARNING:py.warnings:C:\\Users\\WANGLAB\\anaconda3\\envs\\qiskit-metal\\Lib\\site-packages\\pyEPR\\project_info.py:239: FutureWarning: The default dtype for empty Series will be 'object' instead of 'float64' in a future version. Specify a dtype explicitly to silence this warning.\n",
      "  options=pd.Series(get_instance_vars(self.options)),\n",
      "\n",
      "WARNING 02:48AM [__init__]: <p>Error: <class 'IndexError'></p>\n",
      "WARNING:py.warnings:C:\\Users\\WANGLAB\\anaconda3\\envs\\qiskit-metal\\Lib\\site-packages\\pyEPR\\core_quantum_analysis.py:712: FutureWarning: Support for multi-dimensional indexing (e.g. `obj[:, None]`) is deprecated and will be removed in a future version.  Convert to a numpy array before indexing instead.\n",
      "  result['Q_coupling'] = self.Qm_coupling[variation][self.Qm_coupling[variation].columns[junctions]][modes]#TODO change the columns to junctions\n",
      "\n",
      "WARNING:py.warnings:C:\\Users\\WANGLAB\\anaconda3\\envs\\qiskit-metal\\Lib\\site-packages\\pyEPR\\core_quantum_analysis.py:717: FutureWarning: Support for multi-dimensional indexing (e.g. `obj[:, None]`) is deprecated and will be removed in a future version.  Convert to a numpy array before indexing instead.\n",
      "  result['Qs'] = self.Qs[variation][self.PM[variation].columns[junctions]][modes] #TODO change the columns to junctions\n",
      "\n"
     ]
    },
    {
     "name": "stdout",
     "output_type": "stream",
     "text": [
      "\n",
      "ANALYSIS DONE. Data saved to:\n",
      "\n",
      "C:\\data-pyEPR\\Project4\\TwoT78953_hfss\\2023-08-15 02-47-56.npz\n",
      "\n",
      "\n",
      "\t Differences in variations:\n",
      "\n",
      "\n",
      "\n",
      " . . . . . . . . . . . . . . . . . . . . . . . . . . . . . . . . . . . . . . . . \n",
      "Variation 0\n",
      "\n",
      "Starting the diagonalization\n",
      "Finished the diagonalization\n",
      "Pm_norm=\n",
      "modes\n",
      "0    1.001451\n",
      "1    1.001647\n",
      "dtype: float64\n",
      "\n",
      "Pm_norm idx =\n",
      "     jj1    jj2\n",
      "0  False   True\n",
      "1   True  False\n",
      "*** P (participation matrix, not normlz.)\n",
      "        jj1       jj2\n",
      "0  0.004573  0.984845\n",
      "1  0.982521  0.004618\n",
      "\n",
      "*** S (sign-bit matrix)\n",
      "   s_jj1  s_jj2\n",
      "0     -1     -1\n",
      "1      1     -1\n",
      "*** P (participation matrix, normalized.)\n",
      "    0.0046     0.99\n",
      "      0.98   0.0046\n",
      "\n",
      "*** Chi matrix O1 PT (MHz)\n",
      "    Diag is anharmonicity, off diag is full cross-Kerr.\n",
      "       250     6.18\n",
      "      6.18      438\n",
      "\n",
      "*** Chi matrix ND (MHz) \n",
      "       275     8.71\n",
      "      8.71      493\n",
      "\n",
      "*** Frequencies O1 PT (MHz)\n",
      "0    5730.621578\n",
      "1    7606.381179\n",
      "dtype: float64\n",
      "\n",
      "*** Frequencies ND (MHz)\n",
      "0    5718.785596\n",
      "1    7578.969955\n",
      "dtype: float64\n",
      "\n",
      "*** Q_coupling\n",
      "Empty DataFrame\n",
      "Columns: []\n",
      "Index: [0, 1]\n"
     ]
    },
    {
     "data": {
      "text/markdown": [
       "#### Mode frequencies (MHz)"
      ],
      "text/plain": [
       "<IPython.core.display.Markdown object>"
      ]
     },
     "metadata": {},
     "output_type": "display_data"
    },
    {
     "data": {
      "text/markdown": [
       "###### Numerical diagonalization"
      ],
      "text/plain": [
       "<IPython.core.display.Markdown object>"
      ]
     },
     "metadata": {},
     "output_type": "display_data"
    },
    {
     "data": {
      "text/html": [
       "<div>\n",
       "<style scoped>\n",
       "    .dataframe tbody tr th:only-of-type {\n",
       "        vertical-align: middle;\n",
       "    }\n",
       "\n",
       "    .dataframe tbody tr th {\n",
       "        vertical-align: top;\n",
       "    }\n",
       "\n",
       "    .dataframe thead th {\n",
       "        text-align: right;\n",
       "    }\n",
       "</style>\n",
       "<table border=\"1\" class=\"dataframe\">\n",
       "  <thead>\n",
       "    <tr style=\"text-align: right;\">\n",
       "      <th>Lj1</th>\n",
       "      <th>9.14</th>\n",
       "    </tr>\n",
       "  </thead>\n",
       "  <tbody>\n",
       "    <tr>\n",
       "      <th>0</th>\n",
       "      <td>5718.79</td>\n",
       "    </tr>\n",
       "    <tr>\n",
       "      <th>1</th>\n",
       "      <td>7578.97</td>\n",
       "    </tr>\n",
       "  </tbody>\n",
       "</table>\n",
       "</div>"
      ],
      "text/plain": [
       "Lj1     9.14\n",
       "0    5718.79\n",
       "1    7578.97"
      ]
     },
     "metadata": {},
     "output_type": "display_data"
    },
    {
     "data": {
      "text/markdown": [
       "#### Kerr Non-linear coefficient table (MHz)"
      ],
      "text/plain": [
       "<IPython.core.display.Markdown object>"
      ]
     },
     "metadata": {},
     "output_type": "display_data"
    },
    {
     "data": {
      "text/markdown": [
       "###### Numerical diagonalization"
      ],
      "text/plain": [
       "<IPython.core.display.Markdown object>"
      ]
     },
     "metadata": {},
     "output_type": "display_data"
    },
    {
     "data": {
      "text/html": [
       "<div>\n",
       "<style scoped>\n",
       "    .dataframe tbody tr th:only-of-type {\n",
       "        vertical-align: middle;\n",
       "    }\n",
       "\n",
       "    .dataframe tbody tr th {\n",
       "        vertical-align: top;\n",
       "    }\n",
       "\n",
       "    .dataframe thead th {\n",
       "        text-align: right;\n",
       "    }\n",
       "</style>\n",
       "<table border=\"1\" class=\"dataframe\">\n",
       "  <thead>\n",
       "    <tr style=\"text-align: right;\">\n",
       "      <th></th>\n",
       "      <th></th>\n",
       "      <th>0</th>\n",
       "      <th>1</th>\n",
       "    </tr>\n",
       "    <tr>\n",
       "      <th>Lj1</th>\n",
       "      <th></th>\n",
       "      <th></th>\n",
       "      <th></th>\n",
       "    </tr>\n",
       "  </thead>\n",
       "  <tbody>\n",
       "    <tr>\n",
       "      <th rowspan=\"2\" valign=\"top\">9.14</th>\n",
       "      <th>0</th>\n",
       "      <td>275.34</td>\n",
       "      <td>8.71</td>\n",
       "    </tr>\n",
       "    <tr>\n",
       "      <th>1</th>\n",
       "      <td>8.71</td>\n",
       "      <td>492.74</td>\n",
       "    </tr>\n",
       "  </tbody>\n",
       "</table>\n",
       "</div>"
      ],
      "text/plain": [
       "             0       1\n",
       "Lj1                   \n",
       "9.14 0  275.34    8.71\n",
       "     1    8.71  492.74"
      ]
     },
     "metadata": {},
     "output_type": "display_data"
    }
   ],
   "source": [
    "eig_2qb.run_epr()\n"
   ]
  },
  {
   "cell_type": "code",
   "execution_count": null,
   "id": "34cb9207",
   "metadata": {},
   "outputs": [],
   "source": [
    "eig_2qb.sim.close()"
   ]
  },
  {
   "cell_type": "code",
   "execution_count": 43,
   "id": "6c039e1d",
   "metadata": {
    "ExecuteTime": {
     "end_time": "2023-08-15T06:50:06.709662Z",
     "start_time": "2023-08-15T06:49:24.763654Z"
    }
   },
   "outputs": [
    {
     "name": "stderr",
     "output_type": "stream",
     "text": [
      "INFO 02:49AM [connect_design]: \tOpened active design\n",
      "\tDesign:    Design_q3d [Solution type: Q3D]\n",
      "INFO 02:49AM [get_setup]: \tOpened setup `Setup`  (<class 'pyEPR.ansys.AnsysQ3DSetup'>)\n",
      "INFO 02:49AM [analyze]: Analyzing setup Setup\n",
      "INFO 02:50AM [get_matrix]: Exporting matrix data to (C:\\Users\\WANGLAB\\AppData\\Local\\Temp\\tmpf1ahtltf.txt, C, , Setup:LastAdaptive, \"Original\", \"ohm\", \"nH\", \"fF\", \"mSie\", 5000000000, Maxwell, 1, False\n",
      "INFO 02:50AM [get_matrix]: Exporting matrix data to (C:\\Users\\WANGLAB\\AppData\\Local\\Temp\\tmpal70_sjh.txt, C, , Setup:AdaptivePass, \"Original\", \"ohm\", \"nH\", \"fF\", \"mSie\", 5000000000, Maxwell, 1, False\n",
      "INFO 02:50AM [get_matrix]: Exporting matrix data to (C:\\Users\\WANGLAB\\AppData\\Local\\Temp\\tmpjck7jz9e.txt, C, , Setup:AdaptivePass, \"Original\", \"ohm\", \"nH\", \"fF\", \"mSie\", 5000000000, Maxwell, 2, False\n",
      "INFO 02:50AM [get_matrix]: Exporting matrix data to (C:\\Users\\WANGLAB\\AppData\\Local\\Temp\\tmp291pxq7y.txt, C, , Setup:AdaptivePass, \"Original\", \"ohm\", \"nH\", \"fF\", \"mSie\", 5000000000, Maxwell, 3, False\n",
      "INFO 02:50AM [get_matrix]: Exporting matrix data to (C:\\Users\\WANGLAB\\AppData\\Local\\Temp\\tmphskgp654.txt, C, , Setup:AdaptivePass, \"Original\", \"ohm\", \"nH\", \"fF\", \"mSie\", 5000000000, Maxwell, 4, False\n",
      "INFO 02:50AM [get_matrix]: Exporting matrix data to (C:\\Users\\WANGLAB\\AppData\\Local\\Temp\\tmph30up_57.txt, C, , Setup:AdaptivePass, \"Original\", \"ohm\", \"nH\", \"fF\", \"mSie\", 5000000000, Maxwell, 5, False\n",
      "INFO 02:50AM [get_matrix]: Exporting matrix data to (C:\\Users\\WANGLAB\\AppData\\Local\\Temp\\tmpvdo1cfxb.txt, C, , Setup:AdaptivePass, \"Original\", \"ohm\", \"nH\", \"fF\", \"mSie\", 5000000000, Maxwell, 6, False\n",
      "INFO 02:50AM [get_matrix]: Exporting matrix data to (C:\\Users\\WANGLAB\\AppData\\Local\\Temp\\tmp_8gco6yy.txt, C, , Setup:AdaptivePass, \"Original\", \"ohm\", \"nH\", \"fF\", \"mSie\", 5000000000, Maxwell, 7, False\n",
      "INFO 02:50AM [get_matrix]: Exporting matrix data to (C:\\Users\\WANGLAB\\AppData\\Local\\Temp\\tmpp1ztme1r.txt, C, , Setup:AdaptivePass, \"Original\", \"ohm\", \"nH\", \"fF\", \"mSie\", 5000000000, Maxwell, 8, False\n",
      "INFO 02:50AM [get_matrix]: Exporting matrix data to (C:\\Users\\WANGLAB\\AppData\\Local\\Temp\\tmpixfsij0i.txt, C, , Setup:AdaptivePass, \"Original\", \"ohm\", \"nH\", \"fF\", \"mSie\", 5000000000, Maxwell, 9, False\n"
     ]
    },
    {
     "data": {
      "text/html": [
       "<div>\n",
       "<style scoped>\n",
       "    .dataframe tbody tr th:only-of-type {\n",
       "        vertical-align: middle;\n",
       "    }\n",
       "\n",
       "    .dataframe tbody tr th {\n",
       "        vertical-align: top;\n",
       "    }\n",
       "\n",
       "    .dataframe thead th {\n",
       "        text-align: right;\n",
       "    }\n",
       "</style>\n",
       "<table border=\"1\" class=\"dataframe\">\n",
       "  <thead>\n",
       "    <tr style=\"text-align: right;\">\n",
       "      <th></th>\n",
       "      <th>cl_metal_Q1</th>\n",
       "      <th>cross_Q2</th>\n",
       "      <th>pad_bot_Q1</th>\n",
       "      <th>pad_top_Q1</th>\n",
       "    </tr>\n",
       "  </thead>\n",
       "  <tbody>\n",
       "    <tr>\n",
       "      <th>cl_metal_Q1</th>\n",
       "      <td>227.29045</td>\n",
       "      <td>-61.62795</td>\n",
       "      <td>-55.05642</td>\n",
       "      <td>-51.50664</td>\n",
       "    </tr>\n",
       "    <tr>\n",
       "      <th>cross_Q2</th>\n",
       "      <td>-61.62795</td>\n",
       "      <td>68.54766</td>\n",
       "      <td>-0.51946</td>\n",
       "      <td>-4.99516</td>\n",
       "    </tr>\n",
       "    <tr>\n",
       "      <th>pad_bot_Q1</th>\n",
       "      <td>-55.05642</td>\n",
       "      <td>-0.51946</td>\n",
       "      <td>68.42675</td>\n",
       "      <td>-10.06571</td>\n",
       "    </tr>\n",
       "    <tr>\n",
       "      <th>pad_top_Q1</th>\n",
       "      <td>-51.50664</td>\n",
       "      <td>-4.99516</td>\n",
       "      <td>-10.06571</td>\n",
       "      <td>69.14845</td>\n",
       "    </tr>\n",
       "  </tbody>\n",
       "</table>\n",
       "</div>"
      ],
      "text/plain": [
       "             cl_metal_Q1  cross_Q2  pad_bot_Q1  pad_top_Q1\n",
       "cl_metal_Q1    227.29045 -61.62795   -55.05642   -51.50664\n",
       "cross_Q2       -61.62795  68.54766    -0.51946    -4.99516\n",
       "pad_bot_Q1     -55.05642  -0.51946    68.42675   -10.06571\n",
       "pad_top_Q1     -51.50664  -4.99516   -10.06571    69.14845"
      ]
     },
     "execution_count": 43,
     "metadata": {},
     "output_type": "execute_result"
    }
   ],
   "source": [
    "from qiskit_metal.analyses.quantization import LOManalysis\n",
    "c1 = LOManalysis(design, \"q3d\")\n",
    "\n",
    "# example: update single setting\n",
    "c1.sim.setup.max_passes = 10\n",
    "# example: update multiple settings\n",
    "c1.sim.setup_update(solution_order = 'Medium', auto_increase_solution_order = 'False')\n",
    "\n",
    "c1.sim.setup\n",
    "\n",
    "c1.sim.run(components=['Q1', 'Q2'], open_terminations=[])\n",
    "c1.sim.capacitance_matrix"
   ]
  },
  {
   "cell_type": "code",
   "execution_count": null,
   "id": "8b6dc251",
   "metadata": {
    "scrolled": true
   },
   "outputs": [],
   "source": []
  },
  {
   "cell_type": "code",
   "execution_count": null,
   "id": "a0124cc2",
   "metadata": {},
   "outputs": [],
   "source": []
  },
  {
   "cell_type": "code",
   "execution_count": null,
   "id": "c7ea4cc2",
   "metadata": {},
   "outputs": [],
   "source": []
  },
  {
   "cell_type": "code",
   "execution_count": null,
   "id": "0a47feac",
   "metadata": {},
   "outputs": [],
   "source": []
  },
  {
   "cell_type": "code",
   "execution_count": null,
   "id": "50ef05ed",
   "metadata": {},
   "outputs": [],
   "source": []
  },
  {
   "cell_type": "code",
   "execution_count": null,
   "id": "3469881e",
   "metadata": {
    "scrolled": true
   },
   "outputs": [],
   "source": []
  },
  {
   "cell_type": "code",
   "execution_count": null,
   "id": "57323914",
   "metadata": {},
   "outputs": [],
   "source": []
  },
  {
   "cell_type": "code",
   "execution_count": null,
   "id": "89ef3848",
   "metadata": {},
   "outputs": [],
   "source": []
  },
  {
   "cell_type": "code",
   "execution_count": null,
   "id": "db5a1b5d",
   "metadata": {},
   "outputs": [],
   "source": []
  },
  {
   "cell_type": "code",
   "execution_count": null,
   "id": "7b8e77c6",
   "metadata": {},
   "outputs": [],
   "source": []
  },
  {
   "cell_type": "code",
   "execution_count": null,
   "id": "0c3d59f3",
   "metadata": {},
   "outputs": [],
   "source": []
  },
  {
   "cell_type": "code",
   "execution_count": null,
   "id": "584baacc",
   "metadata": {},
   "outputs": [],
   "source": []
  },
  {
   "cell_type": "code",
   "execution_count": null,
   "id": "c7dd52a4",
   "metadata": {},
   "outputs": [],
   "source": []
  },
  {
   "cell_type": "code",
   "execution_count": null,
   "id": "96796cc3",
   "metadata": {},
   "outputs": [],
   "source": []
  },
  {
   "cell_type": "code",
   "execution_count": null,
   "id": "6d6c46d4",
   "metadata": {},
   "outputs": [],
   "source": []
  },
  {
   "cell_type": "code",
   "execution_count": null,
   "id": "2f376d44",
   "metadata": {},
   "outputs": [],
   "source": []
  },
  {
   "cell_type": "code",
   "execution_count": null,
   "id": "279cbdf1",
   "metadata": {},
   "outputs": [],
   "source": []
  },
  {
   "cell_type": "code",
   "execution_count": null,
   "id": "ac0d9e2f",
   "metadata": {},
   "outputs": [],
   "source": []
  },
  {
   "cell_type": "code",
   "execution_count": null,
   "id": "943a0fed",
   "metadata": {},
   "outputs": [],
   "source": []
  },
  {
   "cell_type": "code",
   "execution_count": null,
   "id": "b23ce512",
   "metadata": {},
   "outputs": [],
   "source": []
  },
  {
   "cell_type": "code",
   "execution_count": null,
   "id": "06c2d132",
   "metadata": {},
   "outputs": [],
   "source": []
  },
  {
   "cell_type": "code",
   "execution_count": null,
   "id": "c128bf03",
   "metadata": {},
   "outputs": [],
   "source": []
  },
  {
   "cell_type": "code",
   "execution_count": null,
   "id": "b2015652",
   "metadata": {},
   "outputs": [],
   "source": []
  },
  {
   "cell_type": "code",
   "execution_count": null,
   "id": "6715688a",
   "metadata": {
    "scrolled": true
   },
   "outputs": [],
   "source": []
  },
  {
   "cell_type": "code",
   "execution_count": null,
   "id": "300406b8",
   "metadata": {},
   "outputs": [],
   "source": []
  },
  {
   "cell_type": "code",
   "execution_count": null,
   "id": "75d42e80",
   "metadata": {},
   "outputs": [],
   "source": []
  }
 ],
 "metadata": {
  "kernelspec": {
   "display_name": "Python 3 (ipykernel)",
   "language": "python",
   "name": "python3"
  },
  "language_info": {
   "codemirror_mode": {
    "name": "ipython",
    "version": 3
   },
   "file_extension": ".py",
   "mimetype": "text/x-python",
   "name": "python",
   "nbconvert_exporter": "python",
   "pygments_lexer": "ipython3",
   "version": "3.11.4"
  },
  "varInspector": {
   "cols": {
    "lenName": 16,
    "lenType": 16,
    "lenVar": 40
   },
   "kernels_config": {
    "python": {
     "delete_cmd_postfix": "",
     "delete_cmd_prefix": "del ",
     "library": "var_list.py",
     "varRefreshCmd": "print(var_dic_list())"
    },
    "r": {
     "delete_cmd_postfix": ") ",
     "delete_cmd_prefix": "rm(",
     "library": "var_list.r",
     "varRefreshCmd": "cat(var_dic_list()) "
    }
   },
   "types_to_exclude": [
    "module",
    "function",
    "builtin_function_or_method",
    "instance",
    "_Feature"
   ],
   "window_display": false
  }
 },
 "nbformat": 4,
 "nbformat_minor": 5
}

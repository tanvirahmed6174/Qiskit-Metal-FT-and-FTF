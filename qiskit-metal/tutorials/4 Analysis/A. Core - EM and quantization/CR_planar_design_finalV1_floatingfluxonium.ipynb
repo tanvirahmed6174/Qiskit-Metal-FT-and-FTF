{
 "cells": [
  {
   "cell_type": "markdown",
   "metadata": {},
   "source": [
    "#Step by step design for the two resonator single xmon design. \n"
   ]
  },
  {
   "cell_type": "markdown",
   "metadata": {},
   "source": [
    "## Sections\n",
    "### I. Transmon only\n",
    "1. Prepare the layout in qiskit-metal. <br>\n",
    "1. Run finite element eigenmode analysis. <br>\n",
    "1. Plot fields and display them. <br>\n",
    "1. Set up EPR junction dictionary. <br>\n",
    "1. Run EPR analysis on single mode. <br>\n",
    "1. Get qubit freq and anharmonicity. <br>\n",
    "1. Calculate EPR of substrate.  <br>\n",
    "1. (Extra: Calculate surface EPR.) <br>\n",
    "\n",
    "### II. Resonator only\n",
    "1. Update the layout in qiskit-metal. <br>\n",
    "1. Run finite element eigenmode analysis. <br>\n",
    "1. Plot fields and display them. <br>\n",
    "1. Calculate EPR of substrate. <br>\n",
    "    \n",
    "### III. Transmon & resonator\n",
    "1. Update the layout in qiskit-metal. <br>\n",
    "1. Run finite element eigenmode analysis. <br>\n",
    "1. Plot fields and display them. <br>\n",
    "1. Set up EPR junction dictionary. <br>\n",
    "1. Run EPR analysis on the two modes. <br>\n",
    "1. Get qubit frequency and anharmonicity. <br>\n",
    "\n",
    "### IV. Transmon & resonator\n",
    "1. Update the layout in qiskit-metal. <br>\n",
    "1. Run finite element eigenmode analysis. <br>\n",
    "1. Plot fields and display them. <br>\n",
    "1. Set up EPR junction dictionary. <br>\n",
    "1. Run EPR analysis on the two modes. <br>\n",
    "1. Get qubit frequency and anharmonicity. <br>\n",
    "\n",
    "### V. Analyze the coupled  transmon 2 resonator system. \n",
    "1. Finite Element Eigenmode Analysis\n",
    "1. Identify the mode you want. The mode can inclusively be from 1 to setup.n_modes.\n",
    "1. Set variables in the Ansys design. As before, we seek 2 modes.\n",
    "1. Set up the simulation and specify the variables for the sweep.\n",
    "1. Plot the E-field on the chip's surface.\n",
    "1. Specify the junctions in the model; in this case there are 2 junctions.\n",
    "1. Find the electric and magnetic energy stored in the substrate and the system as a whole.\n",
    "1. Perform EPR analysis for all modes and variations."
   ]
  },
  {
   "cell_type": "code",
   "execution_count": 1,
   "metadata": {
    "ExecuteTime": {
     "end_time": "2023-08-24T07:44:55.341270Z",
     "start_time": "2023-08-24T07:44:55.291341Z"
    },
    "scrolled": true
   },
   "outputs": [],
   "source": [
    "%reload_ext autoreload\n",
    "%autoreload 2\n"
   ]
  },
  {
   "cell_type": "code",
   "execution_count": 2,
   "metadata": {
    "ExecuteTime": {
     "end_time": "2023-08-24T07:45:00.345965Z",
     "start_time": "2023-08-24T07:44:57.076164Z"
    },
    "scrolled": true
   },
   "outputs": [
    {
     "data": {
      "text/html": [
       "\n",
       "    <h1 style=\"\n",
       "        background: #12c2e9;  /* fallback for old browsers */\n",
       "        background: -webkit-linear-gradient(to right, #d4418e 0%, #0652c5 74%);  /* Chrome 10-25, Safari 5.1-6 */\n",
       "        background: linear-gradient(315deg, #d4418e 0%, #0652c5 74%); /* W3C, IE 10+/ Edge, Firefox 16+, Chrome 26+, Opera 12+, Safari 7+ */\n",
       "        margin-top: 50px;\n",
       "        border-style: outset;\n",
       "        padding-top:100px;\n",
       "        padding-bottom:50px;\n",
       "        padding-left:25px;\n",
       "        color: white;\n",
       "    \"> Good news: Qiskit Metal works fine! <h1>\n",
       "        "
      ],
      "text/plain": [
       "<IPython.core.display.HTML object>"
      ]
     },
     "metadata": {},
     "output_type": "display_data"
    }
   ],
   "source": [
    "\n",
    "import qiskit_metal as metal\n",
    "from qiskit_metal import designs, draw\n",
    "from qiskit_metal import MetalGUI, Dict, Headings\n",
    "import pyEPR as epr\n",
    "%metal_heading Good news: Qiskit Metal works fine!"
   ]
  },
  {
   "cell_type": "code",
   "execution_count": 3,
   "metadata": {
    "ExecuteTime": {
     "end_time": "2023-08-24T07:45:01.150710Z",
     "start_time": "2023-08-24T07:45:01.051992Z"
    },
    "scrolled": true
   },
   "outputs": [],
   "source": [
    "from qiskit_metal.qlibrary.qubits.transmon_pocket_cl import TransmonPocketCL\n",
    "\n",
    "from qiskit_metal.qlibrary.qubits.transmon_pocket_cl_fl import TransmonPocketCL_FL\n",
    "from qiskit_metal.qlibrary.qubits.transmon_cross_fl import TransmonCrossFL\n",
    "from qiskit_metal.qlibrary.qubits.transmon_cross_fl_cl import TransmonCrossFL_CL\n",
    "from qiskit_metal.qlibrary.qubits.transmon_cross import TransmonCross\n",
    "from qiskit_metal.qlibrary.couplers.tunable_coupler_01 import TunableCoupler01\n",
    "\n",
    "from qiskit_metal.qlibrary.tlines.meandered import RouteMeander\n",
    "from qiskit_metal.qlibrary.tlines.pathfinder import RoutePathfinder\n",
    "from qiskit_metal.qlibrary.tlines.anchored_path import RouteAnchors\n",
    "from qiskit_metal.qlibrary.tlines.straight_path import RouteStraight\n",
    "\n",
    "from qiskit_metal.qlibrary.terminations.open_to_ground import OpenToGround\n",
    "from qiskit_metal.qlibrary.terminations.short_to_ground import ShortToGround\n",
    "\n",
    "from qiskit_metal.qlibrary.lumped.cap_n_interdigital import CapNInterdigital\n",
    "from qiskit_metal.qlibrary.lumped.cap_3_interdigital import Cap3Interdigital\n",
    "from qiskit_metal.qlibrary.couplers.cap_n_interdigital_tee import CapNInterdigitalTee\n",
    "from qiskit_metal.qlibrary.couplers.coupled_line_tee import CoupledLineTee\n",
    "from qiskit_metal.qlibrary.couplers.coupled_line_tee import CoupledLineTee\n",
    "from qiskit_metal.qlibrary.terminations.launchpad_wb import LaunchpadWirebond\n",
    "from qiskit_metal.qlibrary.couplers.line_tee import LineTee\n",
    "#from qiskit_metal.qlibrary.terminations.launchpad_wb_simplecoupler import LaunchpadWirebondSimple\n",
    "#from qiskit_metal.qlibrary.terminations.launchpad_wb_coupled import LaunchpadWirebondCoupled\n",
    "\n",
    "from qiskit_metal.qlibrary.terminations.short_to_ground import ShortToGround\n",
    "import numpy as np\n",
    "from collections import OrderedDict\n",
    "\n",
    "from qiskit_metal.qlibrary.qubits.transmon_cross_ebru_temp import TransmonCross_ebru_temp\n",
    "\n",
    "from qiskit_metal.qlibrary.qubits.transmon_cross_fl_ebru_temp import TransmonCrossFL_ebru_temp\n",
    "from qiskit_metal.qlibrary.qubits.transmon_cross_fl_cl_ebru_temp import TransmonCrossFL_CL_ebru_temp\n"
   ]
  },
  {
   "cell_type": "code",
   "execution_count": 4,
   "metadata": {
    "ExecuteTime": {
     "end_time": "2023-08-24T07:45:03.864897Z",
     "start_time": "2023-08-24T07:45:03.132407Z"
    },
    "scrolled": true
   },
   "outputs": [],
   "source": [
    "design = metal.designs.DesignPlanar()\n",
    "\n",
    "design.chips.main.size['size_x'] = '5mm'\n",
    "design.chips.main.size['size_y'] = '5mm'\n",
    "design.chips.main.size['size_z'] = '-725um'\n",
    "gui = MetalGUI(design)"
   ]
  },
  {
   "cell_type": "markdown",
   "metadata": {},
   "source": [
    "# Resonator length estimate"
   ]
  },
  {
   "cell_type": "code",
   "execution_count": null,
   "metadata": {
    "ExecuteTime": {
     "end_time": "2023-08-22T23:58:38.586040Z",
     "start_time": "2023-08-22T23:58:38.506364Z"
    },
    "scrolled": true
   },
   "outputs": [],
   "source": [
    "from qiskit_metal.analyses.em.cpw_calculations import guided_wavelength\n",
    "\n",
    "def find_resonator_length(frequency, line_width, line_gap, N): \n",
    "    #frequency in GHz\n",
    "    #line_width/line_gap in um\n",
    "    #N -> 2 for lambda/2, 4 for lambda/4\n",
    "    \n",
    "    [lambdaG, etfSqrt, q] = guided_wavelength(frequency*10**9, line_width*10**-6,\n",
    "                                              line_gap*10**-6, 750*10**-6, 200*10**-9)\n",
    "    return str(lambdaG/N*10**3)+\" mm\"\n",
    "\n",
    "\n",
    "find_resonator_length(5.6, 10, 6, 4)"
   ]
  },
  {
   "cell_type": "code",
   "execution_count": 5,
   "metadata": {
    "ExecuteTime": {
     "end_time": "2023-08-24T07:45:06.873439Z",
     "start_time": "2023-08-24T07:45:06.547266Z"
    }
   },
   "outputs": [
    {
     "name": "stderr",
     "output_type": "stream",
     "text": [
      "03:45AM 06s INFO [make_connection_pad]: Warning: Did you mean to define a transmon wubit with loc_W and loc_H that are not +1 or -1?? Are you sure you want to do this?\n",
      "03:45AM 06s INFO [make_connection_pad]: Warning: Did you mean to define a transmon wubit with loc_W and loc_H that are not +1 or -1?? Are you sure you want to do this?\n"
     ]
    }
   ],
   "source": [
    "design.overwrite_enabled = True\n",
    "options =  dict(\n",
    "    connection_pads=dict(\n",
    "        readout = dict(loc_W=+1, loc_H=+1),\n",
    "        storage = dict(loc_W=-1, loc_H=-1, )\n",
    "    ))\n",
    "    \n",
    "from qiskit_metal.qlibrary.qubits.transmon_cross_fl import TransmonCrossFL\n",
    "from qiskit_metal.qlibrary.qubits.transmon_cross_fl_cl import TransmonCrossFL_CL\n",
    "from qiskit_metal.qlibrary.qubits.transmon_pocket_cl_fl import TransmonPocketCL_FL\n",
    "\n",
    "\n",
    "# # Q1 = TransmonCrossFL_CL_ebru_temp(design, 'Q1', options = dict(make_extra_rect=False, pos_x = '0.450mm', pos_y='1.410mm', \n",
    "# #                                                      cross_length='40um', cross_width='10um', cross_gap='15um',\n",
    "# #                                                     # cross_gap='3um',\n",
    "# #                                                  connection_pads = dict(\n",
    "# #                                                      readout = dict(connector_location = '90', lead_gap='6um',\n",
    "# #                                                      claw_length='30um', claw_width='5um', ground_spacing='2um', \n",
    "# #                                                                     claw_gap='5um', lead_width='10um', lead_length='60um')),#claw_length ='115um', claw_width='25um', claw_gap='7um',ground_spacing='3um')),\n",
    "# #                                                  fl_options = dict(t_shift='3.5um' , t_offset='-6um', t_inductive_gap='4.5um', \n",
    "# #                                                                    t_top='10.5um', t_width='5um', t_gap='3um'),\n",
    "# #                                                  cl_options= dict(c_offset='-40um', c_ground_gap='38um', c_width='5um', \n",
    "# #                                                                   c_gap='3um', translate_x='0um', c_angle='90'),\n",
    "# #                                                  ))\n",
    "\n",
    "\n",
    "# Q1 = TransmonPocketCL_FL(design, 'Q1', options = dict( pos_x = '0.55mm', pos_y='1.410mm', orientation='90',\n",
    "#                                                             connection_pads=dict(\n",
    "#                                     a = dict(pad_gap='20um', loc_W=1.5, loc_H=-1, pad_width='20um', cpw_extend = '50um'),\n",
    "                                    \n",
    "                                    \n",
    "#                                     #b = dict(loc_W=-1, loc_H=-1, pad_width='125um', cpw_extend = '50um', pad_height='60um'),\n",
    "#                                     #c = dict(loc_W=+1, loc_H=+1, pad_width='110um', cpw_extend = '50um')\n",
    "#     ),\n",
    "#     pad_width='88um', pad_height='88um', pad_gap='140um', inductor_width='10um',\n",
    "#     pocket_width='240um', pocket_height='500um', \n",
    "#     cl_pocket_edge = '270',\n",
    "#     cl_off_center = '2.5um',\n",
    "#     cl_gap='3um', cl_width='5um',\n",
    "                                                      \n",
    "#                                                  ))\n",
    "\n",
    "\n",
    "Q1 = TransmonPocketCL_FL(design, 'Q1', options = dict( pos_x = '0.2mm', pos_y='-1.09mm', orientation='90',\n",
    "                                                            connection_pads=dict(\n",
    "                                    a = dict(pad_gap='20um', loc_W=1.2, loc_H=-1.5, pad_width='25um', cpw_extend = '50um'),\n",
    "                                    \n",
    "                                    #b = dict(loc_W=-1, loc_H=-1, pad_width='125um', cpw_extend = '50um', pad_height='60um'),\n",
    "                                    #c = dict(loc_W=+1, loc_H=+1, pad_width='110um', cpw_extend = '50um')\n",
    "    ),\n",
    "    pad_width='88um', pad_height='88um', pad_gap='140um', inductor_width='10um',\n",
    "    pocket_width='240um', pocket_height='500um', \n",
    "    cl_pocket_edge = '90',\n",
    "    cl_off_center = '0um',\n",
    "    cl_gap='3um', cl_width='5um',\n",
    "    cl_length='0um', \n",
    "                                                      #fl_options = dict(t_shift='0um', t_offset='130um'),\n",
    "                                                      \n",
    "                                                      \n",
    "                                                 ))\n",
    "\n",
    "\n",
    "# Q1 = TransmonPocketCL_FL(design, 'Q1', options = dict( pos_x = '0.55mm', pos_y='1.410mm', orientation='90',\n",
    "#                                                             connection_pads=dict(\n",
    "#                                     a = dict(pad_gap='20um', loc_W=-1, loc_H=-1, pad_width='50um', cpw_extend = '50um'),\n",
    "                                    \n",
    "#                                     #b = dict(loc_W=-1, loc_H=-1, pad_width='125um', cpw_extend = '50um', pad_height='60um'),\n",
    "#                                     #c = dict(loc_W=+1, loc_H=+1, pad_width='110um', cpw_extend = '50um')\n",
    "#     ),\n",
    "#     pad_width='88um', pad_height='88um', pad_gap='140um', inductor_width='10um',\n",
    "#     pocket_width='240um', pocket_height='500um', \n",
    "#     cl_pocket_edge = '270',\n",
    "#     cl_off_center = '120um',\n",
    "#     cl_gap='3um', cl_width='5um',\n",
    "#     cl_length='0um', \n",
    "#                                                       #fl_options = dict(t_shift='0um', t_offset='130um'),\n",
    "                                                      \n",
    "                                                      \n",
    "#                                                  ))\n",
    "\n",
    "Q2 = TransmonCrossFL_CL_ebru_temp(design, 'Q2', options = dict(make_extra_rect=False, make_fl=False, pos_x = '-0.15mm', pos_y='-1.09mm', orientation=0, \n",
    "                                                     cross_length='128um', cross_width='36um', cross_gap='30um',\n",
    "                                                    \n",
    "                                                 connection_pads = dict(\n",
    "                                                     readout = dict(connector_location = '90', lead_gap='6um',\n",
    "                                                     claw_length='90um', claw_width='10um', ground_spacing='3um', \n",
    "                                                                    claw_gap='8um', lead_width='10um', lead_length='60um')),#claw_length ='115um', claw_width='25um', claw_gap='7um',ground_spacing='3um')),\n",
    "                                                 fl_options = dict(t_shift='-100um' , t_offset='0um', t_inductive_gap='4.5um', \n",
    "                                                                   t_top='10.5um', t_width='5um', t_gap='3um'),\n",
    "                                                 cl_options= dict(c_offset='30um', c_ground_gap='38um', c_width='5um', \n",
    "                                                                  c_gap='3um', translate_x='-20um', translate_y='-50um',  c_angle='270'),\n",
    "                                                 rect_options= dict(rect_width='40um', rect_length='8um')))\n",
    "\n",
    "\n",
    "gui.rebuild()\n",
    "gui.autoscale()"
   ]
  },
  {
   "cell_type": "code",
   "execution_count": null,
   "metadata": {},
   "outputs": [],
   "source": []
  },
  {
   "cell_type": "code",
   "execution_count": null,
   "metadata": {},
   "outputs": [],
   "source": []
  },
  {
   "cell_type": "markdown",
   "metadata": {},
   "source": [
    "# Launchpads and charge and flux lines"
   ]
  },
  {
   "cell_type": "code",
   "execution_count": 18,
   "metadata": {
    "ExecuteTime": {
     "end_time": "2023-08-24T07:47:57.424692Z",
     "start_time": "2023-08-24T07:47:56.508574Z"
    },
    "scrolled": true
   },
   "outputs": [
    {
     "name": "stderr",
     "output_type": "stream",
     "text": [
      "03:47AM 56s INFO [make_connection_pad]: Warning: Did you mean to define a transmon wubit with loc_W and loc_H that are not +1 or -1?? Are you sure you want to do this?\n",
      "03:47AM 57s WARNING [check_lengths]: For path table, component=read_q2_part2, key=trace has short segments that could cause issues with fillet. Values in (7-8)  are index(es) in shapely geometry.\n",
      "03:47AM 57s WARNING [check_lengths]: For path table, component=read_q2_part2, key=cut has short segments that could cause issues with fillet. Values in (7-8)  are index(es) in shapely geometry.\n"
     ]
    }
   ],
   "source": [
    "\n",
    "import numpy as np\n",
    "from collections import OrderedDict\n",
    "\n",
    "\n",
    "#LAUNCH CHARGE FOR Q2\n",
    "\n",
    "launch_chargeQ2_options = dict(trace_width= '5um', trace_gap='3um', pad_width='150um', pad_gap_y= '130um', \n",
    "                           pad_gap_x = '96um', pad_height='200um', \n",
    "                           taper_height='150um', \n",
    "                           pos_x='-2.954mm', pos_y='-1.8mm', orientation='0', lead_length='30um')\n",
    "lc2 = LaunchpadWirebond(design, 'Launch_ChargeQ2', options = launch_chargeQ2_options)\n",
    "#anchors1ch = OrderedDict()\n",
    "#anchors1ch[0] = np.array([1.78, 0.114])\n",
    "charge_line_Q2 = RoutePathfinder(design,'Charge_Line_2', options = dict(hfss_wire_bonds = True,\n",
    "                                            pin_inputs=Dict(\n",
    "                                                start_pin=Dict(\n",
    "                                                    component='Q2',\n",
    "                                                    pin='charge_line'),\n",
    "                                                end_pin=Dict(\n",
    "                                                    component='Launch_ChargeQ2',\n",
    "                                                    pin='tie')),\n",
    "                                            lead=Dict(\n",
    "                                                start_straight='175um',\n",
    "                                                end_straight = '100um',\n",
    "                                                #end_jogged_extension = jogs_end\n",
    "                                            ),\n",
    "                                            fillet = '60um',\n",
    "                                            trace_width = '5um',\n",
    "                                            trace_gap = '3um',\n",
    "                                            #anchors = anchors1ch\n",
    "                                            ))\n",
    "\n",
    "#LAUNCH 6 (not used for the moment)\n",
    "launch6 = dict(trace_width= '5um', trace_gap='3um', pad_width='150um', pad_gap_y= '130um', \n",
    "                             pad_gap_x = '96um', pad_height='200um', \n",
    "                           taper_height='150um',  pos_x='1.954', pos_y='0.60081mm', orientation='180', lead_length='30um')\n",
    "l6 = LaunchpadWirebond(design, 'Launch6', options = launch6)\n",
    "\n",
    "\n",
    "\n",
    "\n",
    "#LAUNCH FEED LEFT (for the transmission line)\n",
    "\n",
    "launch_feed_left = dict(pad_width='150um', pad_gap_y= '130um', \n",
    "                             pad_gap_x = '96um', pad_height='200um', \n",
    "                           taper_height='150um',  pos_x='-2.954mm', pos_y='1.8mm', orientation='0', lead_length='30um')\n",
    "\n",
    "lfl = LaunchpadWirebond(design, 'Launch_Feed_Left', options = launch_feed_left)\n",
    "\n",
    "\n",
    "\n",
    "launch_feed_right = dict(pad_width='150um', pad_gap_y= '130um', \n",
    "                             pad_gap_x = '96um', pad_height='200um', \n",
    "                           taper_height='150um',  pos_x='1.954mm', pos_y='1.80081mm', orientation='180', lead_length='30um')\n",
    "lfr = LaunchpadWirebond(design, 'Launch_Feed_Right', options = launch_feed_right)\n",
    "\n",
    "\n",
    "#LAUNCH 2(not used)\n",
    "\n",
    "launch2 = dict(trace_width= '10um',pad_width='150um', pad_gap_x= '96um', pad_gap_y= '130um', pad_height='200um', \n",
    "                           taper_height='150um',  pos_x='-2.954mm', pos_y='-0.6mm', orientation='0', lead_length='30um')\n",
    "l2 = LaunchpadWirebond(design, 'Launch2', options = launch2)\n",
    "\n",
    "#LAUNCH 3 (not used)\n",
    "launch3 = dict(trace_width= '10um', pad_width='150um', pad_gap_x= '96um', pad_gap_y= '130um', pad_height='200um', \n",
    "                           taper_height='150um',  pos_x='-2.954mm', pos_y='0.6mm', lead_length='30um', orientation='0')\n",
    "l3 = LaunchpadWirebond(design, 'Launch3', options = launch3)\n",
    "\n",
    "\n",
    "\n",
    "#LAUNCH FLUX FOR QUBIT 1\n",
    "launch_fluxQ1_options = dict(trace_width= '5um', trace_gap='3um', pad_width='150um', pad_gap_y= '130um', \n",
    "                             pad_gap_x = '96um', pad_height='200um', \n",
    "                           taper_height='150um',  pos_x='1.954mm', pos_y='-1.8mm', orientation='180', lead_length='30um')\n",
    "lf1 = LaunchpadWirebond(design, 'Launch_FluxQ1', options = launch_fluxQ1_options)\n",
    "# anchors2f = OrderedDict()\n",
    "# anchors2f[0] = np.array([1.2, 1.25])\n",
    "# anchors2f[1]=np.array([1.2, 0.5])\n",
    "flux_line_Q1 = RoutePathfinder(design,'Flux_Line_1', options = dict(hfss_wire_bonds = True,\n",
    "                                            pin_inputs=Dict(\n",
    "                                                start_pin=Dict(\n",
    "                                                    component='Q1',\n",
    "                                                    pin='flux_line'),\n",
    "                                                end_pin=Dict(\n",
    "                                                    component='Launch_FluxQ1',\n",
    "                                                    pin='tie')),\n",
    "                                            lead=Dict(\n",
    "                                                 #start_straight='175um',\n",
    "                                                 #end_straight = '100um',\n",
    "                                                #end_jogged_extension = jogs_end\n",
    "                                            ),\n",
    "                                            fillet = '20um',\n",
    "                                            trace_width = '5um',\n",
    "                                            trace_gap = '3um',\n",
    "                                            #anchors=anchors2f,\n",
    "                                            ))\n",
    "\n",
    "\n",
    "#LAUNCH CHARGE FOR Q1\n",
    "\n",
    "launch_chargeQ1_options = dict(trace_width= '5um', trace_gap='3um', pad_width='150um', pad_gap_y= '130um', \n",
    "                             pad_gap_x = '96um', pad_height='200um', \n",
    "                           taper_height='150um',  pos_x='1.954mm', pos_y='-0.59919mm', orientation='180', lead_length='30um')\n",
    "\n",
    "lc = LaunchpadWirebond(design, 'Launch_Charge_Q1', options = launch_chargeQ1_options)\n",
    "#anchors1ch = OrderedDict()\n",
    "#anchors1ch[0] = np.array([1.78, 0.114])\n",
    "charge_line_Q1 = RoutePathfinder(design,'Charge_Line_Q1', options = dict(hfss_wire_bonds = True,\n",
    "                                            pin_inputs=Dict(\n",
    "                                                start_pin=Dict(\n",
    "                                                    component='Q1',\n",
    "                                                    pin='Charge_Line'),\n",
    "                                                end_pin=Dict(\n",
    "                                                    component='Launch_Charge_Q1',\n",
    "                                                    pin='tie')),\n",
    "                                            lead=Dict(\n",
    "                                                start_straight='175um',\n",
    "                                                end_straight = '100um',\n",
    "                                                #end_jogged_extension = jogs_end\n",
    "                                            ),\n",
    "                                            fillet = '60um',\n",
    "                                            trace_width = '5um',\n",
    "                                            trace_gap = '3um',\n",
    "                                            #anchors = anchors1ch\n",
    "                                            ))\n",
    "\n",
    "gui.rebuild()    \n",
    "gui.autoscale()   \n",
    "\n",
    "\n",
    "\n"
   ]
  },
  {
   "cell_type": "markdown",
   "metadata": {},
   "source": [
    "# Fixing Ec's for both qubits (and qubit parameters for Xmon)"
   ]
  },
  {
   "cell_type": "markdown",
   "metadata": {},
   "source": [
    "# Pocket fluxonium (Q1), getting EC pretending that it is a transmon \n"
   ]
  },
  {
   "cell_type": "code",
   "execution_count": 7,
   "metadata": {
    "ExecuteTime": {
     "end_time": "2023-08-24T07:45:11.168065Z",
     "start_time": "2023-08-24T07:45:10.683733Z"
    }
   },
   "outputs": [
    {
     "name": "stderr",
     "output_type": "stream",
     "text": [
      "03:45AM 10s INFO [make_connection_pad]: Warning: Did you mean to define a transmon wubit with loc_W and loc_H that are not +1 or -1?? Are you sure you want to do this?\n"
     ]
    }
   ],
   "source": [
    "from qiskit_metal.analyses.quantization import EPRanalysis\n",
    "eig_qb1 = EPRanalysis(design, \"hfss\")\n",
    "\n",
    "eig_qb1.sim.setup.vars.Lj = '10 nH'\n",
    "eig_qb1.sim.setup.vars = Dict({'Lj': '10 nH', 'Cj': '3 fF'})\n",
    "gui.rebuild()\n",
    "gui.autoscale()"
   ]
  },
  {
   "cell_type": "code",
   "execution_count": 8,
   "metadata": {
    "ExecuteTime": {
     "end_time": "2023-08-24T07:45:13.460490Z",
     "start_time": "2023-08-24T07:45:12.979771Z"
    }
   },
   "outputs": [
    {
     "name": "stderr",
     "output_type": "stream",
     "text": [
      "03:45AM 13s INFO [make_connection_pad]: Warning: Did you mean to define a transmon wubit with loc_W and loc_H that are not +1 or -1?? Are you sure you want to do this?\n"
     ]
    }
   ],
   "source": [
    "design.qgeometry.tables['junction']\n",
    "qcomps=design.components\n",
    "qcomps['Q1'].options['hfss_inductance'] = 'Lj'\n",
    "qcomps['Q1'].options['hfss_capacitance'] = 'Cj'\n",
    "\n",
    "gui.rebuild()\n",
    "gui.autoscale()\n",
    "\n"
   ]
  },
  {
   "cell_type": "code",
   "execution_count": 9,
   "metadata": {
    "ExecuteTime": {
     "end_time": "2023-08-24T07:45:15.819140Z",
     "start_time": "2023-08-24T07:45:15.748495Z"
    }
   },
   "outputs": [],
   "source": [
    "eig_qb1.sim.setup.max_passes = 16\n",
    "eig_qb1.sim.setup_update(max_delta_f = 0.5, min_freq_ghz = 1)\n",
    "eig_qb1.sim.setup.min_passes = 10\n",
    "eig_qb1.sim.setup.n_modes = 1"
   ]
  },
  {
   "cell_type": "code",
   "execution_count": 10,
   "metadata": {
    "ExecuteTime": {
     "end_time": "2023-08-24T07:45:18.701825Z",
     "start_time": "2023-08-24T07:45:18.635349Z"
    }
   },
   "outputs": [],
   "source": [
    "eig_qb1.sim.renderer._options['max_mesh_length_jj'] = '3um'\n",
    "eig_qb1.sim.renderer._options['max_mesh_length_port'] = '3um'"
   ]
  },
  {
   "cell_type": "code",
   "execution_count": 11,
   "metadata": {
    "ExecuteTime": {
     "end_time": "2023-08-24T07:45:58.718633Z",
     "start_time": "2023-08-24T07:45:20.844722Z"
    }
   },
   "outputs": [
    {
     "name": "stderr",
     "output_type": "stream",
     "text": [
      "INFO 03:45AM [connect_project]: Connecting to Ansys Desktop API...\n",
      "INFO 03:45AM [load_ansys_project]: \tOpened Ansys App\n",
      "INFO 03:45AM [load_ansys_project]: \tOpened Ansys Desktop v2022.1.0\n",
      "INFO 03:45AM [load_ansys_project]: \tOpened Ansys Project\n",
      "\tFolder:    C:/Users/WANGLAB/Documents/Ansoft/\n",
      "\tProject:   Project5\n",
      "INFO 03:45AM [connect_design]: \tOpened active design\n",
      "\tDesign:    HFSSDesign1 [Solution type: DrivenTerminal]\n",
      "WARNING 03:45AM [connect_setup]: \tNo design setup detected.\n",
      "WARNING 03:45AM [connect_setup]: \tCreating driven terminal default setup.\n",
      "INFO 03:45AM [get_setup]: \tOpened setup `Setup`  (<class 'pyEPR.ansys.HfssDTSetup'>)\n",
      "INFO 03:45AM [connect]: \tConnected to project \"Project5\" and design \"HFSSDesign1\" 😀 \n",
      "\n",
      "INFO 03:45AM [connect_design]: \tOpened active design\n",
      "\tDesign:    fluxonium_only2_hfss [Solution type: Eigenmode]\n",
      "WARNING 03:45AM [connect_setup]: \tNo design setup detected.\n",
      "WARNING 03:45AM [connect_setup]: \tCreating eigenmode default setup.\n",
      "INFO 03:45AM [get_setup]: \tOpened setup `Setup`  (<class 'pyEPR.ansys.HfssEMSetup'>)\n",
      "INFO 03:45AM [get_setup]: \tOpened setup `Setup`  (<class 'pyEPR.ansys.HfssEMSetup'>)\n",
      "INFO 03:45AM [analyze]: Analyzing setup Setup\n"
     ]
    },
    {
     "ename": "KeyboardInterrupt",
     "evalue": "",
     "output_type": "error",
     "traceback": [
      "\u001b[1;31m---------------------------------------------------------------------------\u001b[0m",
      "\u001b[1;31mKeyboardInterrupt\u001b[0m                         Traceback (most recent call last)",
      "\u001b[1;31mKeyboardInterrupt\u001b[0m: "
     ]
    }
   ],
   "source": [
    "eig_qb1.sim.run(name=\"fluxonium_only2\", components=['Q1'], open_terminations=[], box_plus_buffer = False)\n",
    "eig_qb1.sim.plot_convergences()"
   ]
  },
  {
   "cell_type": "code",
   "execution_count": null,
   "metadata": {
    "ExecuteTime": {
     "end_time": "2023-08-24T07:45:58.736631Z",
     "start_time": "2023-08-24T07:45:58.736631Z"
    }
   },
   "outputs": [],
   "source": [
    "eig_qb1.setup.junctions.jj.rect = 'JJ_rect_Lj_Q1_rect_jj'\n",
    "eig_qb1.setup.junctions.jj.line = 'JJ_Lj_Q1_rect_jj_'\n",
    "eig_qb1.run_epr()"
   ]
  },
  {
   "cell_type": "markdown",
   "metadata": {},
   "source": [
    "# Xmon (Q2)"
   ]
  },
  {
   "cell_type": "code",
   "execution_count": null,
   "metadata": {
    "ExecuteTime": {
     "end_time": "2023-08-21T03:51:30.141757Z",
     "start_time": "2023-08-21T03:51:29.569208Z"
    }
   },
   "outputs": [],
   "source": [
    "eig_qb2 = EPRanalysis(design, \"hfss\")\n",
    "\n",
    "eig_qb2.sim.setup.vars.Lj = '10.9 nH'\n",
    "eig_qb2.sim.setup.vars = Dict({'Lj': '10.9 nH', 'Cj': '3 fF'})\n",
    "gui.rebuild()\n",
    "gui.autoscale()"
   ]
  },
  {
   "cell_type": "code",
   "execution_count": null,
   "metadata": {
    "ExecuteTime": {
     "end_time": "2023-08-21T03:51:33.547754Z",
     "start_time": "2023-08-21T03:51:32.970285Z"
    }
   },
   "outputs": [],
   "source": [
    "design.qgeometry.tables['junction']\n",
    "qcomps=design.components\n",
    "qcomps['Q2'].options['hfss_inductance'] = 'Lj'\n",
    "qcomps['Q2'].options['hfss_capacitance'] = 'Cj'\n",
    "\n",
    "gui.rebuild()\n",
    "gui.autoscale()\n",
    "\n"
   ]
  },
  {
   "cell_type": "code",
   "execution_count": null,
   "metadata": {
    "ExecuteTime": {
     "end_time": "2023-08-21T03:51:36.191895Z",
     "start_time": "2023-08-21T03:51:35.610503Z"
    }
   },
   "outputs": [],
   "source": [
    "eig_qb2.sim.setup.max_passes = 16\n",
    "\n",
    "\n",
    "eig_qb2.sim.setup_update(max_delta_f = 0.5, min_freq_ghz = 1)\n",
    "eig_qb2.sim.setup.min_passes = 10\n",
    "eig_qb2.sim.setup.n_modes = 1\n",
    "\n",
    "gui.rebuild()\n",
    "gui.autoscale()\n",
    "\n"
   ]
  },
  {
   "cell_type": "code",
   "execution_count": null,
   "metadata": {
    "ExecuteTime": {
     "end_time": "2023-08-21T03:51:38.428164Z",
     "start_time": "2023-08-21T03:51:38.361453Z"
    }
   },
   "outputs": [],
   "source": [
    "eig_qb2.sim.renderer._options['max_mesh_length_jj'] = '3um'\n",
    "eig_qb2.sim.renderer._options['max_mesh_length_port'] = '3um'"
   ]
  },
  {
   "cell_type": "code",
   "execution_count": null,
   "metadata": {
    "ExecuteTime": {
     "end_time": "2023-08-21T03:54:07.869501Z",
     "start_time": "2023-08-21T03:51:40.490265Z"
    }
   },
   "outputs": [],
   "source": [
    "eig_qb2.sim.run(name=\"Xmon_only\", components=['Q2'], open_terminations=[], box_plus_buffer = False)\n",
    "eig_qb2.sim.plot_convergences()"
   ]
  },
  {
   "cell_type": "code",
   "execution_count": null,
   "metadata": {
    "ExecuteTime": {
     "end_time": "2023-08-15T03:22:08.572609Z",
     "start_time": "2023-08-15T03:22:04.206197Z"
    }
   },
   "outputs": [],
   "source": [
    "eig_qb2.setup.junctions.jj.rect = 'JJ_rect_Lj_Q2_rect_jj'\n",
    "eig_qb2.setup.junctions.jj.line = 'JJ_Lj_Q2_rect_jj_'\n",
    "eig_qb2.run_epr()"
   ]
  },
  {
   "cell_type": "markdown",
   "metadata": {},
   "source": [
    "# Getting qubit-qubit coupling between the pocket fluxonium and the Xmon "
   ]
  },
  {
   "cell_type": "markdown",
   "metadata": {},
   "source": [
    "# With pyepr, again pretending that both qubits are transmons and assuming that Jc is simply capacitive coupling "
   ]
  },
  {
   "cell_type": "markdown",
   "metadata": {},
   "source": [
    "# with capacitance matrix"
   ]
  },
  {
   "cell_type": "code",
   "execution_count": null,
   "metadata": {
    "ExecuteTime": {
     "end_time": "2023-08-17T21:42:08.102207Z",
     "start_time": "2023-08-17T21:41:19.435467Z"
    },
    "scrolled": true
   },
   "outputs": [],
   "source": [
    "from qiskit_metal.analyses.quantization import LOManalysis\n",
    "c1 = LOManalysis(design, \"q3d\")\n",
    "\n",
    "# example: update single setting\n",
    "c1.sim.setup.max_passes = 10\n",
    "# example: update multiple settings\n",
    "c1.sim.setup_update(solution_order = 'Medium', auto_increase_solution_order = 'False')\n",
    "\n",
    "c1.sim.setup\n",
    "\n",
    "c1.sim.run(components=['Q1', 'Q2'], open_terminations=[])\n",
    "c1.sim.capacitance_matrix"
   ]
  },
  {
   "cell_type": "markdown",
   "metadata": {},
   "source": [
    "# Flux Lines and Flux Launchpads"
   ]
  },
  {
   "cell_type": "code",
   "execution_count": null,
   "metadata": {},
   "outputs": [],
   "source": []
  },
  {
   "cell_type": "code",
   "execution_count": null,
   "metadata": {
    "ExecuteTime": {
     "end_time": "2023-08-19T06:09:03.138621Z",
     "start_time": "2023-08-19T06:09:02.899642Z"
    },
    "scrolled": true
   },
   "outputs": [],
   "source": []
  },
  {
   "cell_type": "code",
   "execution_count": null,
   "metadata": {
    "ExecuteTime": {
     "end_time": "2023-08-19T06:09:12.360063Z",
     "start_time": "2023-08-19T06:09:11.811138Z"
    }
   },
   "outputs": [],
   "source": [
    "\n"
   ]
  },
  {
   "cell_type": "code",
   "execution_count": null,
   "metadata": {
    "ExecuteTime": {
     "end_time": "2023-07-25T19:04:13.711019Z",
     "start_time": "2023-07-25T19:04:13.711019Z"
    },
    "scrolled": true
   },
   "outputs": [],
   "source": [
    "print(\"RUn\")"
   ]
  },
  {
   "cell_type": "markdown",
   "metadata": {},
   "source": [
    "# Feedline\n"
   ]
  },
  {
   "cell_type": "code",
   "execution_count": 20,
   "metadata": {
    "ExecuteTime": {
     "end_time": "2023-08-24T07:48:41.210600Z",
     "start_time": "2023-08-24T07:48:40.412413Z"
    },
    "scrolled": true
   },
   "outputs": [
    {
     "name": "stderr",
     "output_type": "stream",
     "text": [
      "03:48AM 40s WARNING [check_lengths]: For path table, component=cpw_openMid, key=trace has short segments that could cause issues with fillet. Values in (1-2)  are index(es) in shapely geometry.\n",
      "03:48AM 40s WARNING [check_lengths]: For path table, component=cpw_openMid, key=cut has short segments that could cause issues with fillet. Values in (1-2)  are index(es) in shapely geometry.\n",
      "03:48AM 40s INFO [make_connection_pad]: Warning: Did you mean to define a transmon wubit with loc_W and loc_H that are not +1 or -1?? Are you sure you want to do this?\n",
      "03:48AM 40s WARNING [check_lengths]: For path table, component=read_q2_part2, key=trace has short segments that could cause issues with fillet. Values in (7-8)  are index(es) in shapely geometry.\n",
      "03:48AM 40s WARNING [check_lengths]: For path table, component=read_q2_part2, key=cut has short segments that could cause issues with fillet. Values in (7-8)  are index(es) in shapely geometry.\n",
      "03:48AM 41s WARNING [check_lengths]: For path table, component=cpw_openMid, key=trace has short segments that could cause issues with fillet. Values in (1-2)  are index(es) in shapely geometry.\n",
      "03:48AM 41s WARNING [check_lengths]: For path table, component=cpw_openMid, key=cut has short segments that could cause issues with fillet. Values in (1-2)  are index(es) in shapely geometry.\n"
     ]
    }
   ],
   "source": [
    "\n",
    "\n",
    "ops_oF = {'hfss_wire_bonds': 'True',\n",
    "            'pin_inputs': \n",
    "            {'start_pin': {'component': 'Tf_q2', 'pin': 'prime_start'}, \n",
    "             'end_pin': {'component': 'Launch_Feed_Left', 'pin': 'tie'}},\n",
    "            'fillet':'80um'\n",
    "            }\n",
    "cpw_openFirst = RouteStraight(design, 'cpw_openFirst', options=ops_oF)\n",
    "\n",
    "\n",
    "\n",
    "\n",
    "ops_oM = {'hfss_wire_bonds': 'False',\n",
    "            'pin_inputs': \n",
    "            {'start_pin': {'component': 'Tf_q2', 'pin': 'prime_end'}, \n",
    "             'end_pin': {'component': 'Launch_Feed_Right', 'pin': 'tie'}},\n",
    "            'fillet':'50um'\n",
    "            }\n",
    "cpw_openMid = RouteStraight(design, 'cpw_openMid', options=ops_oM)\n",
    "\n",
    "\n",
    "\n",
    "Tf_q2 = CapNInterdigitalTee(design, 'Tf_q2', options=dict(pos_x='-1.1mm',\n",
    "                                             pos_y='1.8mm',\n",
    "                                            orientation=0, finger_count='15', finger_length='65um', cap_gap='3um', cap_width='5um', \n",
    "                                                 open_termination=False))\n",
    "\n",
    "gui.rebuild()\n",
    "gui.autoscale()\n",
    "\n"
   ]
  },
  {
   "cell_type": "markdown",
   "metadata": {
    "ExecuteTime": {
     "end_time": "2023-08-19T06:19:27.510018Z",
     "start_time": "2023-08-19T06:19:27.144928Z"
    }
   },
   "source": [
    "# Purcell filter\n"
   ]
  },
  {
   "cell_type": "code",
   "execution_count": 21,
   "metadata": {
    "ExecuteTime": {
     "end_time": "2023-08-24T07:48:48.877235Z",
     "start_time": "2023-08-24T07:48:48.130435Z"
    }
   },
   "outputs": [
    {
     "name": "stderr",
     "output_type": "stream",
     "text": [
      "03:48AM 48s INFO [make_connection_pad]: Warning: Did you mean to define a transmon wubit with loc_W and loc_H that are not +1 or -1?? Are you sure you want to do this?\n",
      "03:48AM 48s WARNING [check_lengths]: For path table, component=read_q2_part2, key=trace has short segments that could cause issues with fillet. Values in (7-8)  are index(es) in shapely geometry.\n",
      "03:48AM 48s WARNING [check_lengths]: For path table, component=read_q2_part2, key=cut has short segments that could cause issues with fillet. Values in (7-8)  are index(es) in shapely geometry.\n",
      "03:48AM 48s WARNING [check_lengths]: For path table, component=cpw_openMid, key=trace has short segments that could cause issues with fillet. Values in (1-2)  are index(es) in shapely geometry.\n",
      "03:48AM 48s WARNING [check_lengths]: For path table, component=cpw_openMid, key=cut has short segments that could cause issues with fillet. Values in (1-2)  are index(es) in shapely geometry.\n"
     ]
    }
   ],
   "source": [
    "options_purcell2 = Dict(\n",
    "     total_length='9.2mm',\n",
    "     hfss_wire_bonds = True,\n",
    "     fillet='40um',\n",
    "     lead = dict(start_straight='250um'),\n",
    "     pin_inputs=Dict(\n",
    "         end_pin=Dict(\n",
    "             component='TQ2',\n",
    "             pin='second_end'),\n",
    "         start_pin=Dict(\n",
    "             component='Tf_q2',\n",
    "             pin='second_end')),\n",
    "     meander=Dict(spacing='200um',\n",
    "             asymmetry='0um'))\n",
    "purcell2 = RouteMeander(design, 'purcell2', options=options_purcell2)\n",
    "\n",
    "gui.rebuild()\n",
    "gui.autoscale()"
   ]
  },
  {
   "cell_type": "code",
   "execution_count": 14,
   "metadata": {
    "ExecuteTime": {
     "end_time": "2023-08-24T07:46:10.666043Z",
     "start_time": "2023-08-24T07:46:10.587797Z"
    }
   },
   "outputs": [
    {
     "ename": "NameError",
     "evalue": "name 'eig_qb2' is not defined",
     "output_type": "error",
     "traceback": [
      "\u001b[1;31m---------------------------------------------------------------------------\u001b[0m",
      "\u001b[1;31mNameError\u001b[0m                                 Traceback (most recent call last)",
      "Cell \u001b[1;32mIn[14], line 9\u001b[0m\n\u001b[0;32m      1\u001b[0m eig_prcl \u001b[38;5;241m=\u001b[39m EPRanalysis(design, \u001b[38;5;124m\"\u001b[39m\u001b[38;5;124mhfss\u001b[39m\u001b[38;5;124m\"\u001b[39m)\n\u001b[0;32m      5\u001b[0m qcomps\u001b[38;5;241m=\u001b[39mdesign\u001b[38;5;241m.\u001b[39mcomponents\n\u001b[1;32m----> 9\u001b[0m \u001b[43meig_qb2\u001b[49m\u001b[38;5;241m.\u001b[39msim\u001b[38;5;241m.\u001b[39msetup\u001b[38;5;241m.\u001b[39mmax_passes \u001b[38;5;241m=\u001b[39m \u001b[38;5;241m1\u001b[39m\n\u001b[0;32m     11\u001b[0m eig_qb2\u001b[38;5;241m.\u001b[39msim\u001b[38;5;241m.\u001b[39msetup_update(max_delta_f \u001b[38;5;241m=\u001b[39m \u001b[38;5;241m0.5\u001b[39m, min_freq_ghz \u001b[38;5;241m=\u001b[39m \u001b[38;5;241m1\u001b[39m)\n\u001b[0;32m     12\u001b[0m eig_qb2\u001b[38;5;241m.\u001b[39msim\u001b[38;5;241m.\u001b[39msetup\u001b[38;5;241m.\u001b[39mmin_passes \u001b[38;5;241m=\u001b[39m \u001b[38;5;241m1\u001b[39m\n",
      "\u001b[1;31mNameError\u001b[0m: name 'eig_qb2' is not defined"
     ]
    }
   ],
   "source": [
    "\n",
    "eig_prcl = EPRanalysis(design, \"hfss\")\n",
    "\n",
    "\n",
    "\n",
    "qcomps=design.components\n",
    "\n",
    "\n",
    "\n",
    "eig_qb2.sim.setup.max_passes = 1\n",
    "\n",
    "eig_qb2.sim.setup_update(max_delta_f = 0.5, min_freq_ghz = 1)\n",
    "eig_qb2.sim.setup.min_passes = 1\n",
    "eig_qb2.sim.setup.n_modes = 2\n",
    "\n",
    "gui.rebuild()\n",
    "gui.autoscale()\n",
    "\n",
    "\n",
    "eig_qb2.sim.run(name=\"purcell_resonator\", components=['purcell2', 'TQ2', 'Tf_q2' ], open_terminations=[('TQ2', 'prime_start'), ('TQ2', 'prime_end'), ('Tf_q2', 'prime_start'), ('Tf_q2', 'prime_end')], box_plus_buffer = True)\n",
    "eig_qb2.sim.plot_convergences()\n"
   ]
  },
  {
   "cell_type": "markdown",
   "metadata": {},
   "source": [
    "# Readout Tee's and Readout Resonators"
   ]
  },
  {
   "cell_type": "code",
   "execution_count": 29,
   "metadata": {
    "ExecuteTime": {
     "end_time": "2023-08-24T15:39:31.671431Z",
     "start_time": "2023-08-24T15:39:30.825664Z"
    },
    "scrolled": true
   },
   "outputs": [
    {
     "name": "stderr",
     "output_type": "stream",
     "text": [
      "11:39AM 30s WARNING [check_lengths]: For path table, component=read_q2_part2, key=trace has short segments that could cause issues with fillet. Values in (7-8)  are index(es) in shapely geometry.\n",
      "11:39AM 30s WARNING [check_lengths]: For path table, component=read_q2_part2, key=cut has short segments that could cause issues with fillet. Values in (7-8)  are index(es) in shapely geometry.\n",
      "11:39AM 30s INFO [make_connection_pad]: Warning: Did you mean to define a transmon wubit with loc_W and loc_H that are not +1 or -1?? Are you sure you want to do this?\n",
      "11:39AM 31s WARNING [check_lengths]: For path table, component=cpw_openMid, key=trace has short segments that could cause issues with fillet. Values in (1-2)  are index(es) in shapely geometry.\n",
      "11:39AM 31s WARNING [check_lengths]: For path table, component=cpw_openMid, key=cut has short segments that could cause issues with fillet. Values in (1-2)  are index(es) in shapely geometry.\n",
      "11:39AM 31s INFO [connect_meandered]: Zero meanders for read_q2_part3\n",
      "11:39AM 31s WARNING [check_lengths]: For path table, component=read_q2_part3, key=trace has short segments that could cause issues with fillet. Values in (1-2)  are index(es) in shapely geometry.\n",
      "11:39AM 31s WARNING [check_lengths]: For path table, component=read_q2_part3, key=cut has short segments that could cause issues with fillet. Values in (1-2)  are index(es) in shapely geometry.\n",
      "11:39AM 31s WARNING [check_lengths]: For path table, component=read_q2_part2, key=trace has short segments that could cause issues with fillet. Values in (7-8)  are index(es) in shapely geometry.\n",
      "11:39AM 31s WARNING [check_lengths]: For path table, component=read_q2_part2, key=cut has short segments that could cause issues with fillet. Values in (7-8)  are index(es) in shapely geometry.\n"
     ]
    }
   ],
   "source": [
    "from qiskit_metal.qlibrary.couplers.cap_n_interdigital_tee import CapNInterdigitalTee\n",
    "#TQ2 = CapNInterdigitalTee(design, 'TQ2', options=dict(pos_x='-2.5mm',\n",
    "#                                             pos_y='-0.25mm',\n",
    "#                                            orientation=180, finger_length='30um', finger_count='6',cap_gap='3um', cap_width='5um',\n",
    "#                                                 open_termination=False))\n",
    "TQT=LineTee(design, 'TQT',options=dict(pos_x='-2.5mm', pos_y='-0.10mm'))\n",
    "\n",
    "otgQ2 = OpenToGround(design, 'otgQ2', options = dict(pos_x='-4mm', \n",
    "                                                   pos_y='-0.35mm', orientation='270', termination_gap='6um', gap='6um'))\n",
    "\n",
    "#Coupler_resonator2 = CapNInterdigitalTee(design, 'Coupler_resonator2', options=dict(pos_x='-1.1mm', pos_y='-0.09mm'))\n",
    "\n",
    "\n",
    "options2_part1 = Dict(\n",
    "     total_length='7.1mm',\n",
    "     fillet='30um',\n",
    "    hfss_wire_bonds=False,\n",
    "     lead = dict(start_straight='500um'),\n",
    "     pin_inputs=Dict(\n",
    "         end_pin=Dict(\n",
    "             component='TQ2',\n",
    "             pin='prime_start'),\n",
    "         start_pin=Dict(\n",
    "             component='Q2',\n",
    "             pin='readout')),\n",
    "     meander=Dict(spacing='200um',\n",
    "             asymmetry='0um'))\n",
    "\n",
    "options2_part2 = Dict(\n",
    "     total_length='2.3mm',\n",
    "     hfss_wire_bonds = False,\n",
    "     fillet='40um',\n",
    "     lead = dict(start_straight='300um', end_straight='200um'),\n",
    "     pin_inputs=Dict(\n",
    "         end_pin=Dict(\n",
    "             component='otgQ2',\n",
    "             pin='open'),\n",
    "         start_pin=Dict(\n",
    "             component='TQ2',\n",
    "             pin='prime_end')),\n",
    "     meander=Dict(spacing='300um',\n",
    "             asymmetry='0um'))\n",
    "read_q2_part1 = RouteMeander(design, 'read_q2_part1', options=options2_part1)\n",
    "read_q2_part2 = RouteMeander(design, 'read_q2_part2', options=options2_part2)\n",
    "\n",
    "\n",
    "\n",
    "# options2_part3 = Dict(\n",
    "#      total_length='1mm',\n",
    "#      hfss_wire_bonds = False,\n",
    "#      fillet='40um',\n",
    "#      #lead = dict(start_straight='300um', end_straight='200um'),\n",
    "#      pin_inputs=Dict(\n",
    "#          end_pin=Dict(\n",
    "#              component='TQT',\n",
    "#              pin='second_end'),\n",
    "#          start_pin=Dict(\n",
    "#              component='TQ2',\n",
    "#              pin='second_end')),\n",
    "#      meander=Dict(spacing='300um',\n",
    "#              asymmetry='0um'))\n",
    "# read_q2_part2 = RouteMeander(design, 'read_q2_part3', options=options2_part3)\n",
    "gui.rebuild()\n",
    "gui.autoscale()\n"
   ]
  },
  {
   "cell_type": "code",
   "execution_count": null,
   "metadata": {},
   "outputs": [],
   "source": []
  },
  {
   "cell_type": "code",
   "execution_count": 23,
   "metadata": {
    "ExecuteTime": {
     "end_time": "2023-08-24T07:48:58.380008Z",
     "start_time": "2023-08-24T07:48:56.924219Z"
    },
    "scrolled": true
   },
   "outputs": [
    {
     "name": "stderr",
     "output_type": "stream",
     "text": [
      "03:48AM 57s INFO [make_connection_pad]: Warning: Did you mean to define a transmon wubit with loc_W and loc_H that are not +1 or -1?? Are you sure you want to do this?\n",
      "03:48AM 57s WARNING [check_lengths]: For path table, component=cpw_openMid, key=trace has short segments that could cause issues with fillet. Values in (1-2)  are index(es) in shapely geometry.\n",
      "03:48AM 57s WARNING [check_lengths]: For path table, component=cpw_openMid, key=cut has short segments that could cause issues with fillet. Values in (1-2)  are index(es) in shapely geometry.\n",
      "03:48AM 57s WARNING [check_lengths]: For path table, component=read_q2_part2, key=trace has short segments that could cause issues with fillet. Values in (7-8)  are index(es) in shapely geometry.\n",
      "03:48AM 57s WARNING [check_lengths]: For path table, component=read_q2_part2, key=cut has short segments that could cause issues with fillet. Values in (7-8)  are index(es) in shapely geometry.\n",
      "03:48AM 57s INFO [make_connection_pad]: Warning: Did you mean to define a transmon wubit with loc_W and loc_H that are not +1 or -1?? Are you sure you want to do this?\n",
      "03:48AM 58s WARNING [check_lengths]: For path table, component=cpw_openMid, key=trace has short segments that could cause issues with fillet. Values in (1-2)  are index(es) in shapely geometry.\n",
      "03:48AM 58s WARNING [check_lengths]: For path table, component=cpw_openMid, key=cut has short segments that could cause issues with fillet. Values in (1-2)  are index(es) in shapely geometry.\n",
      "03:48AM 58s WARNING [check_lengths]: For path table, component=read_q2_part2, key=trace has short segments that could cause issues with fillet. Values in (7-8)  are index(es) in shapely geometry.\n",
      "03:48AM 58s WARNING [check_lengths]: For path table, component=read_q2_part2, key=cut has short segments that could cause issues with fillet. Values in (7-8)  are index(es) in shapely geometry.\n"
     ]
    }
   ],
   "source": [
    "from qiskit_metal.analyses.quantization import EPRanalysis\n",
    "eig_qb2 = EPRanalysis(design, \"hfss\")\n",
    "\n",
    "eig_qb2.sim.setup.vars.Lj = '10.9 nH'\n",
    "eig_qb2.sim.setup.vars = Dict({'Lj': '10.9 nH', 'Cj': '3 fF'})\n",
    "gui.rebuild()\n",
    "gui.autoscale()\n",
    "\n",
    "design.qgeometry.tables['junction']\n",
    "qcomps=design.components\n",
    "qcomps['Q2'].options['hfss_inductance'] = 'Lj'\n",
    "qcomps['Q2'].options['hfss_capacitance'] = 'Cj'\n",
    "\n",
    "\n",
    "eig_qb2.sim.setup.max_passes = 20\n",
    "\n",
    "eig_qb2.sim.setup_update(max_delta_f = 0.5, min_freq_ghz = 1)\n",
    "eig_qb2.sim.setup.min_passes = 15\n",
    "eig_qb2.sim.setup.n_modes = 3\n",
    "\n",
    "gui.rebuild()\n",
    "gui.autoscale()\n",
    "\n",
    "\n",
    "eig_qb2.sim.renderer._options['max_mesh_length_jj'] = '3um'\n",
    "eig_qb2.sim.renderer._options['max_mesh_length_port'] = '3um'\n",
    "\n",
    "\n",
    "\n"
   ]
  },
  {
   "cell_type": "code",
   "execution_count": null,
   "metadata": {},
   "outputs": [],
   "source": []
  },
  {
   "cell_type": "code",
   "execution_count": 31,
   "metadata": {
    "ExecuteTime": {
     "end_time": "2023-08-24T15:43:28.213269Z",
     "start_time": "2023-08-24T15:40:23.720649Z"
    }
   },
   "outputs": [
    {
     "name": "stderr",
     "output_type": "stream",
     "text": [
      "INFO 11:40AM [connect_design]: \tOpened active design\n",
      "\tDesign:    Xmon_and_resonator_hfss [Solution type: Eigenmode]\n",
      "WARNING 11:40AM [connect_setup]: \tNo design setup detected.\n",
      "WARNING 11:40AM [connect_setup]: \tCreating eigenmode default setup.\n",
      "INFO 11:40AM [get_setup]: \tOpened setup `Setup`  (<class 'pyEPR.ansys.HfssEMSetup'>)\n",
      "INFO 11:40AM [get_setup]: \tOpened setup `Setup`  (<class 'pyEPR.ansys.HfssEMSetup'>)\n",
      "INFO 11:40AM [analyze]: Analyzing setup Setup\n",
      "11:43AM 28s INFO [get_f_convergence]: Saved convergences to C:\\Users\\WANGLAB\\Documents\\GitHub\\qiskit-metal\\tutorials\\4 Analysis\\A. Core - EM and quantization\\hfss_eig_f_convergence.csv\n"
     ]
    },
    {
     "ename": "TypeError",
     "evalue": "no numeric data to plot",
     "output_type": "error",
     "traceback": [
      "\u001b[1;31m---------------------------------------------------------------------------\u001b[0m",
      "\u001b[1;31mTypeError\u001b[0m                                 Traceback (most recent call last)",
      "Cell \u001b[1;32mIn[31], line 9\u001b[0m\n\u001b[0;32m      1\u001b[0m \u001b[38;5;66;03m# eig_qb2.sim.run(name=\"Xmon_and_resonator2\", components=['Q2','read_q2_part1','read_q2_part2', 'otgQ2', 'TQ2' , \u001b[39;00m\n\u001b[0;32m      2\u001b[0m \u001b[38;5;66;03m#                                                         'purcell2','Tf_q2' ], \u001b[39;00m\n\u001b[0;32m      3\u001b[0m \u001b[38;5;66;03m#                 open_terminations=[('Tf_q2', 'prime_end'), ('Tf_q2', 'prime_start')], box_plus_buffer = True)\u001b[39;00m\n\u001b[0;32m      5\u001b[0m eig_qb2\u001b[38;5;241m.\u001b[39msim\u001b[38;5;241m.\u001b[39mrun(name\u001b[38;5;241m=\u001b[39m\u001b[38;5;124m\"\u001b[39m\u001b[38;5;124mXmon_and_resonator\u001b[39m\u001b[38;5;124m\"\u001b[39m, components\u001b[38;5;241m=\u001b[39m[\u001b[38;5;124m'\u001b[39m\u001b[38;5;124mQ2\u001b[39m\u001b[38;5;124m'\u001b[39m,\u001b[38;5;124m'\u001b[39m\u001b[38;5;124mread_q2_part1\u001b[39m\u001b[38;5;124m'\u001b[39m,\u001b[38;5;124m'\u001b[39m\u001b[38;5;124mread_q2_part2\u001b[39m\u001b[38;5;124m'\u001b[39m, \u001b[38;5;124m'\u001b[39m\u001b[38;5;124motgQ2\u001b[39m\u001b[38;5;124m'\u001b[39m, \u001b[38;5;124m'\u001b[39m\u001b[38;5;124mTQ2\u001b[39m\u001b[38;5;124m'\u001b[39m , \u001b[38;5;124m'\u001b[39m\u001b[38;5;124mTQT\u001b[39m\u001b[38;5;124m'\u001b[39m\n\u001b[0;32m      6\u001b[0m                                                         ], \n\u001b[0;32m      7\u001b[0m                open_terminations\u001b[38;5;241m=\u001b[39m[(\u001b[38;5;124m'\u001b[39m\u001b[38;5;124mTQT\u001b[39m\u001b[38;5;124m'\u001b[39m, \u001b[38;5;124m'\u001b[39m\u001b[38;5;124mprime_end\u001b[39m\u001b[38;5;124m'\u001b[39m), (\u001b[38;5;124m'\u001b[39m\u001b[38;5;124mTQT\u001b[39m\u001b[38;5;124m'\u001b[39m, \u001b[38;5;124m'\u001b[39m\u001b[38;5;124mprime_start\u001b[39m\u001b[38;5;124m'\u001b[39m)], box_plus_buffer \u001b[38;5;241m=\u001b[39m \u001b[38;5;28;01mTrue\u001b[39;00m)\n\u001b[1;32m----> 9\u001b[0m \u001b[43meig_qb2\u001b[49m\u001b[38;5;241;43m.\u001b[39;49m\u001b[43msim\u001b[49m\u001b[38;5;241;43m.\u001b[39;49m\u001b[43mplot_convergences\u001b[49m\u001b[43m(\u001b[49m\u001b[43m)\u001b[49m\n",
      "File \u001b[1;32mc:\\users\\wanglab\\documents\\github\\qiskit-metal\\qiskit_metal\\analyses\\simulation\\eigenmode.py:232\u001b[0m, in \u001b[0;36mEigenmodeSim.plot_convergences\u001b[1;34m(self, convergence_t, convergence_f, fig, _display)\u001b[0m\n\u001b[0;32m    230\u001b[0m ax0t \u001b[38;5;241m=\u001b[39m axs[\u001b[38;5;241m1\u001b[39m]\u001b[38;5;241m.\u001b[39mtwinx()\n\u001b[0;32m    231\u001b[0m plot_convergence_f_vspass(axs[\u001b[38;5;241m0\u001b[39m], convergence_f)\n\u001b[1;32m--> 232\u001b[0m \u001b[43mplot_convergence_max_df\u001b[49m\u001b[43m(\u001b[49m\u001b[43maxs\u001b[49m\u001b[43m[\u001b[49m\u001b[38;5;241;43m1\u001b[39;49m\u001b[43m]\u001b[49m\u001b[43m,\u001b[49m\u001b[43m \u001b[49m\u001b[43mconvergence_t\u001b[49m\u001b[38;5;241;43m.\u001b[39;49m\u001b[43miloc\u001b[49m\u001b[43m[\u001b[49m\u001b[43m:\u001b[49m\u001b[43m,\u001b[49m\u001b[43m \u001b[49m\u001b[38;5;241;43m1\u001b[39;49m\u001b[43m]\u001b[49m\u001b[43m)\u001b[49m\n\u001b[0;32m    233\u001b[0m plot_convergence_solved_elem(ax0t, convergence_t\u001b[38;5;241m.\u001b[39miloc[:, \u001b[38;5;241m0\u001b[39m])\n\u001b[0;32m    234\u001b[0m plot_convergence_maxdf_vs_sol(axs[\u001b[38;5;241m2\u001b[39m], convergence_t\u001b[38;5;241m.\u001b[39miloc[:, \u001b[38;5;241m1\u001b[39m],\n\u001b[0;32m    235\u001b[0m                               convergence_t\u001b[38;5;241m.\u001b[39miloc[:, \u001b[38;5;241m0\u001b[39m])\n",
      "File \u001b[1;32m~\\anaconda3\\envs\\qiskit-metal\\Lib\\site-packages\\pyEPR\\reports.py:33\u001b[0m, in \u001b[0;36mplot_convergence_max_df\u001b[1;34m(ax, s, kw, color)\u001b[0m\n\u001b[0;32m     31\u001b[0m \u001b[38;5;28;01mdef\u001b[39;00m \u001b[38;5;21mplot_convergence_max_df\u001b[39m(ax, s, kw\u001b[38;5;241m=\u001b[39m{}, color\u001b[38;5;241m=\u001b[39m\u001b[38;5;124m'\u001b[39m\u001b[38;5;124mr\u001b[39m\u001b[38;5;124m'\u001b[39m):\n\u001b[0;32m     32\u001b[0m \u001b[38;5;250m    \u001b[39m\u001b[38;5;124;03m'''For a single pass'''\u001b[39;00m\n\u001b[1;32m---> 33\u001b[0m     \u001b[43ms\u001b[49m\u001b[38;5;241;43m.\u001b[39;49m\u001b[43mplot\u001b[49m\u001b[43m(\u001b[49m\u001b[43max\u001b[49m\u001b[38;5;241;43m=\u001b[39;49m\u001b[43max\u001b[49m\u001b[43m,\u001b[49m\u001b[43m \u001b[49m\u001b[38;5;241;43m*\u001b[39;49m\u001b[38;5;241;43m*\u001b[39;49m\u001b[43m{\u001b[49m\u001b[38;5;241;43m*\u001b[39;49m\u001b[38;5;241;43m*\u001b[39;49m\u001b[38;5;28;43mdict\u001b[39;49m\u001b[43m(\u001b[49m\u001b[43mc\u001b[49m\u001b[38;5;241;43m=\u001b[39;49m\u001b[38;5;124;43m'\u001b[39;49m\u001b[38;5;124;43mr\u001b[39;49m\u001b[38;5;124;43m'\u001b[39;49m\u001b[43m)\u001b[49m\u001b[43m,\u001b[49m\u001b[43m \u001b[49m\u001b[38;5;241;43m*\u001b[39;49m\u001b[38;5;241;43m*\u001b[39;49m\u001b[43m_style_plot_conv_kw\u001b[49m\u001b[43m,\u001b[49m\u001b[43m \u001b[49m\u001b[38;5;241;43m*\u001b[39;49m\u001b[38;5;241;43m*\u001b[39;49m\u001b[43mkw\u001b[49m\u001b[43m}\u001b[49m\u001b[43m)\u001b[49m\n\u001b[0;32m     34\u001b[0m     ax\u001b[38;5;241m.\u001b[39mset_yscale(\u001b[38;5;124m\"\u001b[39m\u001b[38;5;124mlog\u001b[39m\u001b[38;5;124m\"\u001b[39m)\n\u001b[0;32m     35\u001b[0m     _style_plot_convergence(ax)\n",
      "File \u001b[1;32m~\\anaconda3\\envs\\qiskit-metal\\Lib\\site-packages\\pandas\\plotting\\_core.py:1000\u001b[0m, in \u001b[0;36mPlotAccessor.__call__\u001b[1;34m(self, *args, **kwargs)\u001b[0m\n\u001b[0;32m    997\u001b[0m             label_name \u001b[38;5;241m=\u001b[39m label_kw \u001b[38;5;129;01mor\u001b[39;00m data\u001b[38;5;241m.\u001b[39mcolumns\n\u001b[0;32m    998\u001b[0m             data\u001b[38;5;241m.\u001b[39mcolumns \u001b[38;5;241m=\u001b[39m label_name\n\u001b[1;32m-> 1000\u001b[0m \u001b[38;5;28;01mreturn\u001b[39;00m \u001b[43mplot_backend\u001b[49m\u001b[38;5;241;43m.\u001b[39;49m\u001b[43mplot\u001b[49m\u001b[43m(\u001b[49m\u001b[43mdata\u001b[49m\u001b[43m,\u001b[49m\u001b[43m \u001b[49m\u001b[43mkind\u001b[49m\u001b[38;5;241;43m=\u001b[39;49m\u001b[43mkind\u001b[49m\u001b[43m,\u001b[49m\u001b[43m \u001b[49m\u001b[38;5;241;43m*\u001b[39;49m\u001b[38;5;241;43m*\u001b[39;49m\u001b[43mkwargs\u001b[49m\u001b[43m)\u001b[49m\n",
      "File \u001b[1;32m~\\anaconda3\\envs\\qiskit-metal\\Lib\\site-packages\\pandas\\plotting\\_matplotlib\\__init__.py:71\u001b[0m, in \u001b[0;36mplot\u001b[1;34m(data, kind, **kwargs)\u001b[0m\n\u001b[0;32m     69\u001b[0m         kwargs[\u001b[38;5;124m\"\u001b[39m\u001b[38;5;124max\u001b[39m\u001b[38;5;124m\"\u001b[39m] \u001b[38;5;241m=\u001b[39m \u001b[38;5;28mgetattr\u001b[39m(ax, \u001b[38;5;124m\"\u001b[39m\u001b[38;5;124mleft_ax\u001b[39m\u001b[38;5;124m\"\u001b[39m, ax)\n\u001b[0;32m     70\u001b[0m plot_obj \u001b[38;5;241m=\u001b[39m PLOT_CLASSES[kind](data, \u001b[38;5;241m*\u001b[39m\u001b[38;5;241m*\u001b[39mkwargs)\n\u001b[1;32m---> 71\u001b[0m \u001b[43mplot_obj\u001b[49m\u001b[38;5;241;43m.\u001b[39;49m\u001b[43mgenerate\u001b[49m\u001b[43m(\u001b[49m\u001b[43m)\u001b[49m\n\u001b[0;32m     72\u001b[0m plot_obj\u001b[38;5;241m.\u001b[39mdraw()\n\u001b[0;32m     73\u001b[0m \u001b[38;5;28;01mreturn\u001b[39;00m plot_obj\u001b[38;5;241m.\u001b[39mresult\n",
      "File \u001b[1;32m~\\anaconda3\\envs\\qiskit-metal\\Lib\\site-packages\\pandas\\plotting\\_matplotlib\\core.py:450\u001b[0m, in \u001b[0;36mMPLPlot.generate\u001b[1;34m(self)\u001b[0m\n\u001b[0;32m    448\u001b[0m \u001b[38;5;28;01mdef\u001b[39;00m \u001b[38;5;21mgenerate\u001b[39m(\u001b[38;5;28mself\u001b[39m) \u001b[38;5;241m-\u001b[39m\u001b[38;5;241m>\u001b[39m \u001b[38;5;28;01mNone\u001b[39;00m:\n\u001b[0;32m    449\u001b[0m     \u001b[38;5;28mself\u001b[39m\u001b[38;5;241m.\u001b[39m_args_adjust()\n\u001b[1;32m--> 450\u001b[0m     \u001b[38;5;28;43mself\u001b[39;49m\u001b[38;5;241;43m.\u001b[39;49m\u001b[43m_compute_plot_data\u001b[49m\u001b[43m(\u001b[49m\u001b[43m)\u001b[49m\n\u001b[0;32m    451\u001b[0m     \u001b[38;5;28mself\u001b[39m\u001b[38;5;241m.\u001b[39m_setup_subplots()\n\u001b[0;32m    452\u001b[0m     \u001b[38;5;28mself\u001b[39m\u001b[38;5;241m.\u001b[39m_make_plot()\n",
      "File \u001b[1;32m~\\anaconda3\\envs\\qiskit-metal\\Lib\\site-packages\\pandas\\plotting\\_matplotlib\\core.py:635\u001b[0m, in \u001b[0;36mMPLPlot._compute_plot_data\u001b[1;34m(self)\u001b[0m\n\u001b[0;32m    633\u001b[0m \u001b[38;5;66;03m# no non-numeric frames or series allowed\u001b[39;00m\n\u001b[0;32m    634\u001b[0m \u001b[38;5;28;01mif\u001b[39;00m is_empty:\n\u001b[1;32m--> 635\u001b[0m     \u001b[38;5;28;01mraise\u001b[39;00m \u001b[38;5;167;01mTypeError\u001b[39;00m(\u001b[38;5;124m\"\u001b[39m\u001b[38;5;124mno numeric data to plot\u001b[39m\u001b[38;5;124m\"\u001b[39m)\n\u001b[0;32m    637\u001b[0m \u001b[38;5;28mself\u001b[39m\u001b[38;5;241m.\u001b[39mdata \u001b[38;5;241m=\u001b[39m numeric_data\u001b[38;5;241m.\u001b[39mapply(\u001b[38;5;28mself\u001b[39m\u001b[38;5;241m.\u001b[39m_convert_to_ndarray)\n",
      "\u001b[1;31mTypeError\u001b[0m: no numeric data to plot"
     ]
    }
   ],
   "source": [
    "\n",
    "# eig_qb2.sim.run(name=\"Xmon_and_resonator2\", components=['Q2','read_q2_part1','read_q2_part2', 'otgQ2', 'TQ2' , \n",
    "#                                                         'purcell2','Tf_q2' ], \n",
    "#                 open_terminations=[('Tf_q2', 'prime_end'), ('Tf_q2', 'prime_start')], box_plus_buffer = True)\n",
    "\n",
    "eig_qb2.sim.run(name=\"Xmon_and_resonator\", components=['Q2','read_q2_part1','read_q2_part2', 'otgQ2', 'TQ2' , 'TQT'\n",
    "                                                        ], \n",
    "               open_terminations=[('TQT', 'prime_end'), ('TQT', 'prime_start')], box_plus_buffer = True)\n",
    "\n",
    "eig_qb2.sim.plot_convergences()\n"
   ]
  },
  {
   "cell_type": "code",
   "execution_count": null,
   "metadata": {},
   "outputs": [],
   "source": []
  },
  {
   "cell_type": "code",
   "execution_count": null,
   "metadata": {
    "ExecuteTime": {
     "end_time": "2023-08-23T04:13:35.610431Z",
     "start_time": "2023-08-23T04:13:20.956604Z"
    }
   },
   "outputs": [],
   "source": [
    "\n",
    "eig_qb2.setup.junctions.jj.rect = 'JJ_rect_Lj_Q2_rect_jj'\n",
    "eig_qb2.setup.junctions.jj.line = 'JJ_Lj_Q2_rect_jj_'\n",
    "eig_qb2.run_epr()"
   ]
  },
  {
   "cell_type": "code",
   "execution_count": null,
   "metadata": {
    "ExecuteTime": {
     "end_time": "2023-08-20T05:56:19.596243Z",
     "start_time": "2023-08-20T05:56:19.109039Z"
    },
    "scrolled": true
   },
   "outputs": [],
   "source": [
    "\n",
    "TQ1 = CoupledLineTee(design, 'TQ1', options=dict(pos_x='1.07mm',\n",
    "                                             pos_y='2.6mm',\n",
    "                                              coupling_length='400um', coupling_space='4um', open_termination=False, orientation='0'))\n",
    "\n",
    "options1 = Dict(\n",
    "    total_length='3.9mm',\n",
    "    hfss_wire_bonds = True,\n",
    "    fillet='40um',\n",
    "    lead = dict(start_straight='50um'),\n",
    "    pin_inputs=Dict(\n",
    "        start_pin=Dict(\n",
    "            component='TQ1',\n",
    "            pin='second_end'),\n",
    "        end_pin=Dict(\n",
    "            component='Q1',\n",
    "            pin='a')))\n",
    "read_q1 = RouteMeander(design, 'read_q1', options=options1)\n",
    "gui.rebuild()\n",
    "gui.autoscale()"
   ]
  },
  {
   "cell_type": "markdown",
   "metadata": {},
   "source": [
    "# Feedline and Feedline Launchpads "
   ]
  },
  {
   "cell_type": "code",
   "execution_count": null,
   "metadata": {
    "ExecuteTime": {
     "end_time": "2023-08-20T05:56:28.805351Z",
     "start_time": "2023-08-20T05:56:28.244389Z"
    },
    "scrolled": true
   },
   "outputs": [],
   "source": [
    "launch_feed_left_options = dict(trace_width= '10um',pad_width='150um', pad_gap_x= '96um', pad_gap_y= '130um', pad_height='200um', \n",
    "                           taper_height='150um',  pos_x='-1.5mm', pos_y='3.8mm', orientation='0', lead_length='30um')\n",
    "l_feed_left = LaunchpadWirebond(design, 'Launch_Feed_Left', options = launch_feed_left_options)\n",
    "\n",
    "\n",
    "launch_feed_right_options = dict(trace_width= '10um', pad_width='150um', pad_gap_x= '96um', pad_gap_y= '130um', pad_height='200um', \n",
    "                           taper_height='150um',  pos_x='1.5mm', pos_y='3.8mm', lead_length='30um', orientation='180')\n",
    "l_feed_right = LaunchpadWirebond(design, 'Launch_Feed_Right', options = launch_feed_right_options)\n",
    "\n",
    "\n",
    "\n",
    "\n",
    "# anchors1c = OrderedDict()\n",
    "# anchors1c[0] = np.array([-0.65, 0.56079])\n",
    "\n",
    "\n",
    "\n",
    "ops_oF = {'hfss_wire_bonds': 'True',\n",
    "            'pin_inputs': \n",
    "            {'start_pin': {'component': 'TQ2', 'pin': 'prime_start'}, \n",
    "             'end_pin': {'component': 'Launch_Feed_Left', 'pin': 'tie'}},\n",
    "            #'fillet':'80um'\n",
    "            }\n",
    "cpw_openFirst = RouteStraight(design, 'cpw_openFirst', options=ops_oF)\n",
    "\n",
    "\n",
    "\n",
    "\n",
    "ops_oM = {'hfss_wire_bonds': 'True',\n",
    "            'pin_inputs': \n",
    "            {'start_pin': {'component': 'TQ1', 'pin': 'prime_start'}, \n",
    "             'end_pin': {'component': 'TQ2', 'pin': 'prime_end'}},\n",
    "            #'anchors': anchors1c,\n",
    "            #'fillet':'50um'\n",
    "            }\n",
    "cpw_openMid = RouteStraight(design, 'cpw_openMid', options=ops_oM)\n",
    "\n",
    "\n",
    "\n",
    "\n",
    "\n",
    "# ops_oLast = {'hfss_wire_bonds': 'True',\n",
    "#             'pin_inputs': \n",
    "#             {'start_pin': {'component': 'TQ1', 'pin': 'prime_end'}, \n",
    "#              'end_pin': {'component': l_feed_right.name, 'pin': 'tie'}},\n",
    "#             'fillet':'80um'\n",
    "#             }\n",
    "# cpw_openLast = RouteStraight(design, 'cpw_openLast', options=ops_oLast)\n",
    "\n",
    "\n",
    "\n",
    "gui.rebuild()\n",
    "gui.autoscale()"
   ]
  },
  {
   "cell_type": "code",
   "execution_count": null,
   "metadata": {
    "ExecuteTime": {
     "end_time": "2023-07-05T19:38:10.671002Z",
     "start_time": "2023-07-05T19:38:10.671002Z"
    },
    "scrolled": true
   },
   "outputs": [],
   "source": [
    "%metal_heading Now analyzing the design: HFSS & EPR"
   ]
  },
  {
   "cell_type": "markdown",
   "metadata": {},
   "source": [
    "# Running for an individual XMon"
   ]
  },
  {
   "cell_type": "code",
   "execution_count": null,
   "metadata": {
    "ExecuteTime": {
     "end_time": "2023-08-21T03:49:26.332465Z",
     "start_time": "2023-08-21T03:49:25.762749Z"
    },
    "scrolled": true
   },
   "outputs": [],
   "source": [
    "from qiskit_metal.analyses.quantization import EPRanalysis\n",
    "eig_qb2 = EPRanalysis(design, \"hfss\")\n",
    "\n",
    "eig_qb2.sim.setup.vars.Lj = '10.9 nH'\n",
    "eig_qb2.sim.setup.vars = Dict({'Lj': '10.9 nH', 'Cj': '3 fF'})\n",
    "gui.rebuild()\n",
    "gui.autoscale()"
   ]
  },
  {
   "cell_type": "code",
   "execution_count": null,
   "metadata": {
    "ExecuteTime": {
     "end_time": "2023-07-26T00:50:28.301797Z",
     "start_time": "2023-07-26T00:50:27.885651Z"
    },
    "scrolled": true
   },
   "outputs": [],
   "source": [
    "design.qgeometry.tables['junction']\n",
    "qcomps=design.components\n",
    "qcomps['Q2'].options['hfss_inductance'] = 'Lj'\n",
    "qcomps['Q2'].options['hfss_capacitance'] = 'Cj'\n",
    "\n",
    "gui.rebuild()\n",
    "gui.autoscale()\n",
    "\n"
   ]
  },
  {
   "cell_type": "code",
   "execution_count": null,
   "metadata": {
    "ExecuteTime": {
     "end_time": "2023-06-29T05:39:55.602556Z",
     "start_time": "2023-06-29T05:39:55.598569Z"
    },
    "scrolled": true
   },
   "outputs": [],
   "source": [
    "eig_qb.sim.setup"
   ]
  },
  {
   "cell_type": "code",
   "execution_count": null,
   "metadata": {
    "ExecuteTime": {
     "end_time": "2023-07-26T00:56:12.830640Z",
     "start_time": "2023-07-26T00:56:12.404322Z"
    },
    "scrolled": true
   },
   "outputs": [],
   "source": [
    "eig_qb.sim.setup.max_passes = 16\n",
    "eig_qb.sim.setup.vars.Lj = '10 nH'\n",
    "eig_qb.sim.setup.vars = Dict({'Lj': '10 nH', 'Cj': '3 fF'})\n",
    "\n",
    "eig_qb.sim.setup_update(max_delta_f = 0.5, min_freq_ghz = 4)\n",
    "eig_qb.sim.setup.min_passes = 10\n",
    "eig_qb.sim.setup.n_modes = 1\n",
    "\n",
    "gui.rebuild()\n",
    "gui.autoscale()\n",
    "\n"
   ]
  },
  {
   "cell_type": "code",
   "execution_count": null,
   "metadata": {
    "ExecuteTime": {
     "end_time": "2023-07-26T01:02:23.055670Z",
     "start_time": "2023-07-26T01:02:22.956708Z"
    },
    "scrolled": true
   },
   "outputs": [],
   "source": [
    "eig_qb.sim.renderer._options['max_mesh_length_jj'] = '3um'\n",
    "eig_qb.sim.renderer._options['max_mesh_length_port'] = '3um'"
   ]
  },
  {
   "cell_type": "code",
   "execution_count": null,
   "metadata": {
    "ExecuteTime": {
     "end_time": "2023-07-26T01:05:58.461508Z",
     "start_time": "2023-07-26T01:02:43.117166Z"
    },
    "scrolled": true
   },
   "outputs": [],
   "source": [
    "\n",
    "design.qgeometry.tables['junction']\n",
    "qcomps=design.components\n",
    "qcomps['Q2'].options['hfss_inductance'] = 'Lj'\n",
    "qcomps['Q2'].options['hfss_capacitance'] = 'Cj'\n",
    "\n",
    "gui.rebuild()\n",
    "gui.autoscale()\n",
    "\n",
    "\n",
    "\n",
    "eig_qb.sim.run(name=\"Xmon_only_new\", components=['Q2'], open_terminations=[], box_plus_buffer = True)\n",
    "eig_qb.sim.plot_convergences()"
   ]
  },
  {
   "cell_type": "markdown",
   "metadata": {},
   "source": [
    "The last variables you pass to the `run()` or `sim.run()` methods, will be stored in the `sim.setup` dictionary under the key `run`. You can recall the information passed by either accessing the dictionary directly, or by using the print handle below."
   ]
  },
  {
   "cell_type": "code",
   "execution_count": null,
   "metadata": {
    "ExecuteTime": {
     "end_time": "2023-06-29T05:40:52.248057Z",
     "start_time": "2023-06-29T05:40:51.994436Z"
    },
    "scrolled": true
   },
   "outputs": [],
   "source": [
    "eig_qb.sim.plot_convergences()"
   ]
  },
  {
   "cell_type": "code",
   "execution_count": null,
   "metadata": {
    "ExecuteTime": {
     "end_time": "2023-06-29T05:40:53.796054Z",
     "start_time": "2023-06-29T05:40:53.793171Z"
    },
    "scrolled": true
   },
   "outputs": [],
   "source": [
    "# eig_qb.setup.run    <- direct access\n",
    "eig_qb.sim.print_run_args()"
   ]
  },
  {
   "cell_type": "code",
   "execution_count": null,
   "metadata": {
    "ExecuteTime": {
     "end_time": "2023-08-21T03:54:37.785211Z",
     "start_time": "2023-08-21T03:54:32.937998Z"
    },
    "scrolled": true
   },
   "outputs": [],
   "source": [
    "eig_qb.setup.junctions.jj.rect = 'JJ_rect_Lj_Q2_rect_jj'\n",
    "eig_qb.setup.junctions.jj.line = 'JJ_Lj_Q2_rect_jj_'\n",
    "eig_qb.run_epr()"
   ]
  },
  {
   "cell_type": "code",
   "execution_count": null,
   "metadata": {
    "scrolled": true
   },
   "outputs": [],
   "source": []
  },
  {
   "cell_type": "markdown",
   "metadata": {},
   "source": [
    "# Capacitance matrix "
   ]
  },
  {
   "cell_type": "code",
   "execution_count": null,
   "metadata": {
    "ExecuteTime": {
     "end_time": "2023-07-26T01:40:10.839755Z",
     "start_time": "2023-07-26T01:39:21.041026Z"
    },
    "scrolled": true
   },
   "outputs": [],
   "source": [
    "from qiskit_metal.analyses.quantization import LOManalysis\n",
    "c1 = LOManalysis(design, \"q3d\")\n",
    "\n",
    "# example: update single setting\n",
    "c1.sim.setup.max_passes = 10\n",
    "# example: update multiple settings\n",
    "c1.sim.setup_update(solution_order = 'Medium', auto_increase_solution_order = 'False')\n",
    "\n",
    "c1.sim.setup\n",
    "\n",
    "c1.sim.run(components=['Q1', 'Q2'], open_terminations=[])\n",
    "c1.sim.capacitance_matrix"
   ]
  },
  {
   "cell_type": "markdown",
   "metadata": {},
   "source": [
    "# Qubit 2 readout simulation -EBRU"
   ]
  },
  {
   "cell_type": "markdown",
   "metadata": {},
   "source": [
    "# Qubit 2 related simulations"
   ]
  },
  {
   "cell_type": "code",
   "execution_count": null,
   "metadata": {
    "scrolled": true
   },
   "outputs": [],
   "source": [
    "eig_rd.sim.setup.n_modes =1\n",
    "\n",
    "eig_rd.sim.setup.min_passes = 1\n",
    "eig_rd.sim.setup.max_passes = 1\n",
    "\n",
    "# eig_rd.sim.setup.min_passes = 11\n",
    "# eig_rd.sim.setup.max_passes = 17\n",
    "\n",
    "\n",
    "eig_rd.sim.setup_update(max_delta_f = 0.5, min_freq_ghz = 1.1)\n",
    "\n",
    "\n",
    "design.qgeometry.tables['junction']\n",
    "qcomps=design.components\n",
    "qcomps['Q2'].options['hfss_inductance'] = 'Lj'\n",
    "qcomps['Q2'].options['hfss_capacitance'] = 'Cj'\n",
    "\n",
    "gui.rebuild()\n",
    "gui.autoscale()\n",
    "\n",
    "\n",
    "\n",
    "\n",
    "\n",
    "\n",
    "#eig_rd.sim.run(name=\"storage_coupling_PART92\", components=['Q2','Store_Q2_2', 'Storage_Line_2', 'otg11_2', 'stg11_2'], open_terminations=[('Storage_Line_2', 'end')], box_plus_buffer = False)\n",
    "\n",
    "\n",
    "\n",
    "\n",
    "#eig_rd.sim.run(name=\"xmon_and_readout_storage_ayoy_39\", components=['Q2', 'read_q2', 'Store_Q2_2', 'TQ2'], open_terminations=[], box_plus_buffer = False)\n",
    "eig_rd.sim.run(name=\"xmon_and_readout_PART90\", components=['Q2', 'read_q2', 'TQ2'], open_terminations=[('TQ2', 'prime_start'), ('TQ2', 'prime_end')], box_plus_buffer = False)\n",
    "\n",
    "\n",
    "#eig_rd.sim.run(name=\"readout4\", components=['read_q1', 'TQ1', 'Q1'], open_terminations=[('TQ1', 'prime_end'), ('TQ1', 'prime_start')], box_plus_buffer = False)\n",
    "#eig_rd.sim.run(name=\"storage_and_xmon_and_readout\", components=['Q1', 'Store_Q1', 'read_q1', 'TQ1', 'Launch_Feed_Left', 'Launch_Feed_Right', 'cpw_openRight', 'cpw_openLeft'], open_terminations=[], box_plus_buffer = False)\n",
    "#eig_rd.sim.run(name=\"xmon_chargeline\", components=['Q1', 'Charge_Line_1'], open_terminations=[('Charge_Line_1','end')])\n",
    "# eig_rd.sim.run(name=\"open_24_131\", components=['Q1', 'Store_Q1_1', 'Launch_Storage'], open_terminations=[('Launch_Storage','tie')], box_plus_buffer = False)\n",
    "#eig_rd.sim.run(name=\"storage_coupling_ayoy\", components=['Q1', 'Store_Q1_1', 'stg11', 'Storage_Line_1', 'otg11'], open_terminations=[('otg11', 'open'), ('Storage_Line_1', 'end')], box_plus_buffer = False)\n",
    "#eig_rd.sim.run(name=\"ro_111622\", components=['Q2', 'read_q2', 'TQ2', 'Store_Q2_2'], open_terminations=[], box_plus_buffer = False)\n",
    "#eig_rd.sim.run(name=\"full_set2\", components=['Q2', 'Store_Q2_2' 'read_q2', 'TQ2'], open_terminations=[], box_plus_buffer = False)\n",
    "\n",
    "#eig_rd.sim.run(name=\"xmon_and_ro_set1\", components=['Q1', 'Store_Q1_1', 'read_q1', 'TQ1'], open_terminations=[], box_plus_buffer = False)\n",
    "#eig_rd.sim.run(name=\"storage_loss_fluxpad2\", components=['Q2', 'Store_Q2_2', 'Launch_Flux2'], open_terminations=[], box_plus_buffer = False)\n",
    "eig_rd.sim.plot_convergences()"
   ]
  },
  {
   "cell_type": "code",
   "execution_count": null,
   "metadata": {
    "scrolled": true
   },
   "outputs": [],
   "source": [
    "eig_rd.sim.setup.n_modes =3\n",
    "\n",
    "eig_rd.sim.setup.min_passes = 1\n",
    "eig_rd.sim.setup.max_passes = 1\n",
    "\n",
    "# eig_rd.sim.setup.min_passes = 15\n",
    "# eig_rd.sim.setup.max_passes = 17\n",
    "\n",
    "\n",
    "eig_rd.sim.setup_update(max_delta_f = 0.5, min_freq_ghz = 1.1)\n",
    "\n",
    "\n",
    "design.qgeometry.tables['junction']\n",
    "qcomps=design.components\n",
    "qcomps['Q1'].options['hfss_inductance'] = 'Lj'\n",
    "qcomps['Q1'].options['hfss_capacitance'] = 'Cj'\n",
    "\n",
    "gui.rebuild()\n",
    "gui.autoscale()\n",
    "\n",
    "\n",
    "eig_rd.sim.run(name=\"chargecoupling\", components=['Q1', 'Charge_Line_1'], open_terminations=[('Charge_Line_1', 'end')], box_plus_buffer = False)\n",
    "\n",
    "\n",
    "eig_rd.sim.plot_convergences()"
   ]
  },
  {
   "cell_type": "code",
   "execution_count": null,
   "metadata": {
    "scrolled": true
   },
   "outputs": [],
   "source": []
  },
  {
   "cell_type": "code",
   "execution_count": null,
   "metadata": {
    "scrolled": true
   },
   "outputs": [],
   "source": []
  },
  {
   "cell_type": "code",
   "execution_count": null,
   "metadata": {
    "scrolled": true
   },
   "outputs": [],
   "source": [
    "eig_rd.sim.setup"
   ]
  },
  {
   "cell_type": "markdown",
   "metadata": {},
   "source": [
    "Recover eigenmode frequencies for each variation."
   ]
  },
  {
   "cell_type": "markdown",
   "metadata": {},
   "source": [
    "Display the Ansys modeler window and plot the E-field on the chip's surface."
   ]
  },
  {
   "cell_type": "code",
   "execution_count": null,
   "metadata": {
    "scrolled": true
   },
   "outputs": [],
   "source": [
    "\n",
    "hfss = eig_rd.sim.renderer\n",
    "hfss.clear_fields(['Mag_E1'])\n",
    "hfss.set_mode(1, \"Setup\")\n",
    "hfss.modeler._modeler.ShowWindow()\n",
    "hfss.plot_fields('main')\n",
    "hfss.save_screenshot()"
   ]
  },
  {
   "cell_type": "markdown",
   "metadata": {},
   "source": [
    "### EPR Analysis\n",
    "Find the electric and magnetic energy stored in the readout system."
   ]
  },
  {
   "cell_type": "code",
   "execution_count": null,
   "metadata": {
    "scrolled": true
   },
   "outputs": [],
   "source": [
    "\n",
    "eig_rd.sim.setup.name"
   ]
  },
  {
   "cell_type": "code",
   "execution_count": null,
   "metadata": {
    "scrolled": true
   },
   "outputs": [],
   "source": [
    "# eig_rd.setup\n",
    "# eig_rd.setup.junctions.jj.rect = 'JJ_rect_Lj_Q1_rect_jj'\n",
    "# eig_rd.setup.junctions.jj.line = 'JJ_Lj_Q1_rect_jj_'\n",
    "\n",
    "# eig_rd.setup\n",
    "\n",
    "eig_rd.setup\n",
    "eig_rd.setup.junctions.jj.rect = 'JJ_rect_Lj_Q2_rect_jj'\n",
    "eig_rd.setup.junctions.jj.line = 'JJ_Lj_Q2_rect_jj_'\n",
    "\n",
    "eig_rd.setup"
   ]
  },
  {
   "cell_type": "code",
   "execution_count": null,
   "metadata": {
    "scrolled": true
   },
   "outputs": [],
   "source": [
    "\n",
    "eig_rd.run_epr()"
   ]
  },
  {
   "cell_type": "code",
   "execution_count": null,
   "metadata": {
    "scrolled": true
   },
   "outputs": [],
   "source": [
    "eig_rd.sim.setup.vars.Lj "
   ]
  },
  {
   "cell_type": "code",
   "execution_count": null,
   "metadata": {
    "scrolled": true
   },
   "outputs": [],
   "source": [
    "eig_rd.sim.close()"
   ]
  },
  {
   "cell_type": "code",
   "execution_count": null,
   "metadata": {
    "scrolled": true
   },
   "outputs": [],
   "source": []
  },
  {
   "cell_type": "markdown",
   "metadata": {},
   "source": [
    "# LOM"
   ]
  },
  {
   "cell_type": "code",
   "execution_count": null,
   "metadata": {
    "scrolled": true
   },
   "outputs": [],
   "source": [
    "from qiskit_metal.analyses.quantization import LOManalysis\n",
    "c1 = LOManalysis(design, \"q3d\")\n",
    "\n",
    "# example: update single setting\n",
    "c1.sim.setup.max_passes = 10\n",
    "# example: update multiple settings\n",
    "c1.sim.setup_update(solution_order = 'Medium', auto_increase_solution_order = 'False')\n",
    "\n",
    "c1.sim.setup\n",
    "\n",
    "\n",
    "c1.sim.run(components=['Q1', 'Store_Q1_1','Storage_Line_1', 'Launch_Storage'], open_terminations=[('Storage_Line_1', 'start')])\n"
   ]
  },
  {
   "cell_type": "code",
   "execution_count": null,
   "metadata": {
    "scrolled": true
   },
   "outputs": [],
   "source": [
    "c1.sim.capacitance_matrix"
   ]
  },
  {
   "cell_type": "code",
   "execution_count": null,
   "metadata": {
    "scrolled": true
   },
   "outputs": [],
   "source": []
  }
 ],
 "metadata": {
  "kernelspec": {
   "display_name": "Python 3 (ipykernel)",
   "language": "python",
   "name": "python3"
  },
  "language_info": {
   "codemirror_mode": {
    "name": "ipython",
    "version": 3
   },
   "file_extension": ".py",
   "mimetype": "text/x-python",
   "name": "python",
   "nbconvert_exporter": "python",
   "pygments_lexer": "ipython3",
   "version": "3.11.4"
  },
  "varInspector": {
   "cols": {
    "lenName": 16,
    "lenType": 16,
    "lenVar": 40
   },
   "kernels_config": {
    "python": {
     "delete_cmd_postfix": "",
     "delete_cmd_prefix": "del ",
     "library": "var_list.py",
     "varRefreshCmd": "print(var_dic_list())"
    },
    "r": {
     "delete_cmd_postfix": ") ",
     "delete_cmd_prefix": "rm(",
     "library": "var_list.r",
     "varRefreshCmd": "cat(var_dic_list()) "
    }
   },
   "types_to_exclude": [
    "module",
    "function",
    "builtin_function_or_method",
    "instance",
    "_Feature"
   ],
   "window_display": false
  }
 },
 "nbformat": 4,
 "nbformat_minor": 4
}

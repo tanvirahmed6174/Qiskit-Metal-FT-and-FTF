{
 "cells": [
  {
   "cell_type": "markdown",
   "metadata": {},
   "source": [
    "#Step by step design for the two resonator single xmon design. \n"
   ]
  },
  {
   "cell_type": "markdown",
   "metadata": {},
   "source": [
    "## Sections\n",
    "### I. Transmon only\n",
    "1. Prepare the layout in qiskit-metal. <br>\n",
    "1. Run finite element eigenmode analysis. <br>\n",
    "1. Plot fields and display them. <br>\n",
    "1. Set up EPR junction dictionary. <br>\n",
    "1. Run EPR analysis on single mode. <br>\n",
    "1. Get qubit freq and anharmonicity. <br>\n",
    "1. Calculate EPR of substrate.  <br>\n",
    "1. (Extra: Calculate surface EPR.) <br>\n",
    "\n",
    "### II. Resonator only\n",
    "1. Update the layout in qiskit-metal. <br>\n",
    "1. Run finite element eigenmode analysis. <br>\n",
    "1. Plot fields and display them. <br>\n",
    "1. Calculate EPR of substrate. <br>\n",
    "    \n",
    "### III. Transmon & resonator\n",
    "1. Update the layout in qiskit-metal. <br>\n",
    "1. Run finite element eigenmode analysis. <br>\n",
    "1. Plot fields and display them. <br>\n",
    "1. Set up EPR junction dictionary. <br>\n",
    "1. Run EPR analysis on the two modes. <br>\n",
    "1. Get qubit frequency and anharmonicity. <br>\n",
    "\n",
    "### IV. Transmon & resonator\n",
    "1. Update the layout in qiskit-metal. <br>\n",
    "1. Run finite element eigenmode analysis. <br>\n",
    "1. Plot fields and display them. <br>\n",
    "1. Set up EPR junction dictionary. <br>\n",
    "1. Run EPR analysis on the two modes. <br>\n",
    "1. Get qubit frequency and anharmonicity. <br>\n",
    "\n",
    "### V. Analyze the coupled  transmon 2 resonator system. \n",
    "1. Finite Element Eigenmode Analysis\n",
    "1. Identify the mode you want. The mode can inclusively be from 1 to setup.n_modes.\n",
    "1. Set variables in the Ansys design. As before, we seek 2 modes.\n",
    "1. Set up the simulation and specify the variables for the sweep.\n",
    "1. Plot the E-field on the chip's surface.\n",
    "1. Specify the junctions in the model; in this case there are 2 junctions.\n",
    "1. Find the electric and magnetic energy stored in the substrate and the system as a whole.\n",
    "1. Perform EPR analysis for all modes and variations."
   ]
  },
  {
   "cell_type": "code",
   "execution_count": 1,
   "metadata": {
    "ExecuteTime": {
     "end_time": "2023-08-21T04:23:10.456823Z",
     "start_time": "2023-08-21T04:23:10.426339Z"
    },
    "scrolled": true
   },
   "outputs": [],
   "source": [
    "%reload_ext autoreload\n",
    "%autoreload 2\n"
   ]
  },
  {
   "cell_type": "code",
   "execution_count": 4,
   "metadata": {
    "ExecuteTime": {
     "end_time": "2023-08-21T04:23:19.821623Z",
     "start_time": "2023-08-21T04:23:18.088402Z"
    },
    "scrolled": true
   },
   "outputs": [
    {
     "data": {
      "text/html": [
       "\n",
       "    <h1 style=\"\n",
       "        background: #12c2e9;  /* fallback for old browsers */\n",
       "        background: -webkit-linear-gradient(to right, #d4418e 0%, #0652c5 74%);  /* Chrome 10-25, Safari 5.1-6 */\n",
       "        background: linear-gradient(315deg, #d4418e 0%, #0652c5 74%); /* W3C, IE 10+/ Edge, Firefox 16+, Chrome 26+, Opera 12+, Safari 7+ */\n",
       "        margin-top: 50px;\n",
       "        border-style: outset;\n",
       "        padding-top:100px;\n",
       "        padding-bottom:50px;\n",
       "        padding-left:25px;\n",
       "        color: white;\n",
       "    \"> Qiskit Metal works fine! - Here are the design components! <h1>\n",
       "        "
      ],
      "text/plain": [
       "<IPython.core.display.HTML object>"
      ]
     },
     "metadata": {},
     "output_type": "display_data"
    }
   ],
   "source": [
    "\n",
    "import qiskit_metal as metal\n",
    "from qiskit_metal import designs, draw\n",
    "from qiskit_metal import MetalGUI, Dict, Headings\n",
    "import pyEPR as epr\n",
    "%metal_heading Qiskit Metal works fine! - Here are the design components!"
   ]
  },
  {
   "cell_type": "code",
   "execution_count": 5,
   "metadata": {
    "ExecuteTime": {
     "end_time": "2023-08-21T04:23:21.731833Z",
     "start_time": "2023-08-21T04:23:21.654479Z"
    },
    "scrolled": true
   },
   "outputs": [],
   "source": [
    "from qiskit_metal.qlibrary.qubits.transmon_pocket_cl import TransmonPocketCL\n",
    "\n",
    "from qiskit_metal.qlibrary.qubits.transmon_pocket_cl_fl import TransmonPocketCL_FL\n",
    "from qiskit_metal.qlibrary.qubits.transmon_cross_fl import TransmonCrossFL\n",
    "from qiskit_metal.qlibrary.qubits.transmon_cross_fl_cl import TransmonCrossFL_CL\n",
    "from qiskit_metal.qlibrary.qubits.transmon_cross import TransmonCross\n",
    "from qiskit_metal.qlibrary.couplers.tunable_coupler_01 import TunableCoupler01\n",
    "\n",
    "from qiskit_metal.qlibrary.tlines.meandered import RouteMeander\n",
    "from qiskit_metal.qlibrary.tlines.pathfinder import RoutePathfinder\n",
    "from qiskit_metal.qlibrary.tlines.anchored_path import RouteAnchors\n",
    "from qiskit_metal.qlibrary.tlines.straight_path import RouteStraight\n",
    "\n",
    "from qiskit_metal.qlibrary.terminations.open_to_ground import OpenToGround\n",
    "from qiskit_metal.qlibrary.terminations.short_to_ground import ShortToGround\n",
    "\n",
    "from qiskit_metal.qlibrary.lumped.cap_n_interdigital import CapNInterdigital\n",
    "from qiskit_metal.qlibrary.lumped.cap_3_interdigital import Cap3Interdigital\n",
    "from qiskit_metal.qlibrary.couplers.cap_n_interdigital_tee import CapNInterdigitalTee\n",
    "from qiskit_metal.qlibrary.couplers.coupled_line_tee import CoupledLineTee\n",
    "from qiskit_metal.qlibrary.couplers.coupled_line_tee import CoupledLineTee\n",
    "from qiskit_metal.qlibrary.terminations.launchpad_wb import LaunchpadWirebond\n",
    "from qiskit_metal.qlibrary.couplers.line_tee import LineTee\n",
    "#from qiskit_metal.qlibrary.terminations.launchpad_wb_simplecoupler import LaunchpadWirebondSimple\n",
    "#from qiskit_metal.qlibrary.terminations.launchpad_wb_coupled import LaunchpadWirebondCoupled\n",
    "\n",
    "from qiskit_metal.qlibrary.terminations.short_to_ground import ShortToGround\n",
    "import numpy as np\n",
    "from collections import OrderedDict\n",
    "\n",
    "from qiskit_metal.qlibrary.qubits.transmon_cross_ebru_temp import TransmonCross_ebru_temp\n",
    "\n",
    "from qiskit_metal.qlibrary.qubits.transmon_cross_fl_ebru_temp import TransmonCrossFL_ebru_temp\n",
    "from qiskit_metal.qlibrary.qubits.transmon_cross_fl_cl_ebru_temp import TransmonCrossFL_CL_ebru_temp\n"
   ]
  },
  {
   "cell_type": "code",
   "execution_count": 6,
   "metadata": {
    "ExecuteTime": {
     "end_time": "2023-08-21T04:23:24.460103Z",
     "start_time": "2023-08-21T04:23:23.941035Z"
    },
    "scrolled": true
   },
   "outputs": [],
   "source": [
    "design = metal.designs.DesignPlanar()\n",
    "\n",
    "design.chips.main.size['size_x'] = '5mm'\n",
    "design.chips.main.size['size_y'] = '5mm'\n",
    "design.chips.main.size['size_z'] = '-725um'\n",
    "gui = MetalGUI(design)"
   ]
  },
  {
   "cell_type": "markdown",
   "metadata": {},
   "source": [
    "# Resonator length estimate"
   ]
  },
  {
   "cell_type": "code",
   "execution_count": 5,
   "metadata": {
    "ExecuteTime": {
     "end_time": "2023-08-18T05:38:06.590573Z",
     "start_time": "2023-08-18T05:38:06.537582Z"
    },
    "scrolled": true
   },
   "outputs": [
    {
     "data": {
      "text/plain": [
       "'5.071952814490852 mm'"
      ]
     },
     "execution_count": 5,
     "metadata": {},
     "output_type": "execute_result"
    }
   ],
   "source": [
    "from qiskit_metal.analyses.em.cpw_calculations import guided_wavelength\n",
    "\n",
    "def find_resonator_length(frequency, line_width, line_gap, N): \n",
    "    #frequency in GHz\n",
    "    #line_width/line_gap in um\n",
    "    #N -> 2 for lambda/2, 4 for lambda/4\n",
    "    \n",
    "    [lambdaG, etfSqrt, q] = guided_wavelength(frequency*10**9, line_width*10**-6,\n",
    "                                              line_gap*10**-6, 750*10**-6, 200*10**-9)\n",
    "    return str(lambdaG/N*10**3)+\" mm\"\n",
    "\n",
    "\n",
    "find_resonator_length(6.0, 10, 6, 4)"
   ]
  },
  {
   "cell_type": "markdown",
   "metadata": {},
   "source": [
    "# Xmon qubits "
   ]
  },
  {
   "cell_type": "code",
   "execution_count": 7,
   "metadata": {
    "ExecuteTime": {
     "end_time": "2023-08-21T04:23:27.872433Z",
     "start_time": "2023-08-21T04:23:27.522130Z"
    },
    "scrolled": true
   },
   "outputs": [
    {
     "name": "stderr",
     "output_type": "stream",
     "text": [
      "12:23AM 27s INFO [make_connection_pad]: Warning: Did you mean to define a transmon wubit with loc_W and loc_H that are not +1 or -1?? Are you sure you want to do this?\n",
      "12:23AM 27s INFO [make_connection_pad]: Warning: Did you mean to define a transmon wubit with loc_W and loc_H that are not +1 or -1?? Are you sure you want to do this?\n"
     ]
    }
   ],
   "source": [
    "design.overwrite_enabled = True\n",
    "options =  dict(\n",
    "    connection_pads=dict(\n",
    "        readout = dict(loc_W=+1, loc_H=+1),\n",
    "        storage = dict(loc_W=-1, loc_H=-1, )\n",
    "    ))\n",
    "    \n",
    "from qiskit_metal.qlibrary.qubits.transmon_cross_fl import TransmonCrossFL\n",
    "from qiskit_metal.qlibrary.qubits.transmon_cross_fl_cl import TransmonCrossFL_CL\n",
    "from qiskit_metal.qlibrary.qubits.transmon_pocket_cl_fl import TransmonPocketCL_FL\n",
    "\n",
    "\n",
    "# Q1 = TransmonCrossFL_CL_ebru_temp(design, 'Q1', options = dict(make_extra_rect=False, pos_x = '0.450mm', pos_y='1.410mm', \n",
    "#                                                      cross_length='40um', cross_width='10um', cross_gap='15um',\n",
    "#                                                     # cross_gap='3um',\n",
    "#                                                  connection_pads = dict(\n",
    "#                                                      readout = dict(connector_location = '90', lead_gap='6um',\n",
    "#                                                      claw_length='30um', claw_width='5um', ground_spacing='2um', \n",
    "#                                                                     claw_gap='5um', lead_width='10um', lead_length='60um')),#claw_length ='115um', claw_width='25um', claw_gap='7um',ground_spacing='3um')),\n",
    "#                                                  fl_options = dict(t_shift='3.5um' , t_offset='-6um', t_inductive_gap='4.5um', \n",
    "#                                                                    t_top='10.5um', t_width='5um', t_gap='3um'),\n",
    "#                                                  cl_options= dict(c_offset='-40um', c_ground_gap='38um', c_width='5um', \n",
    "#                                                                   c_gap='3um', translate_x='0um', c_angle='90'),\n",
    "#                                                  ))\n",
    "\n",
    "\n",
    "Q1 = TransmonPocketCL_FL(design, 'Q1', options = dict( pos_x = '0.65mm', pos_y='1.410mm', orientation='90',\n",
    "                                                            connection_pads=dict(\n",
    "                                    a = dict(loc_W='120um', loc_H='-100um', pad_width='50um', cpw_extend = '50um'),\n",
    "                                    \n",
    "                                    #b = dict(loc_W=-1, loc_H=-1, pad_width='125um', cpw_extend = '50um', pad_height='60um'),\n",
    "                                    #c = dict(loc_W=+1, loc_H=+1, pad_width='110um', cpw_extend = '50um')\n",
    "    ),\n",
    "    pad_width='100um', pad_gap='140um', \n",
    "    pocket_width='450um', pocket_height='550um', \n",
    "    cl_pocket_edge = '90',\n",
    "    cl_off_center = '2.5um',\n",
    "    cl_gap='3um', cl_width='5um',\n",
    "                                                      \n",
    "                                                 ))\n",
    "\n",
    "\n",
    "Q2 = TransmonCrossFL_CL_ebru_temp(design, 'Q2', options = dict(make_extra_rect=False, pos_x = '0.2mm', pos_y='1.410mm', orientation=270, \n",
    "                                                     cross_length='160um', cross_width='36um', cross_gap='30um',\n",
    "                                                    \n",
    "                                                 connection_pads = dict(\n",
    "                                                     readout = dict(connector_location = '0', lead_gap='6um',\n",
    "                                                     claw_length='140um', claw_width='10um', ground_spacing='3um', \n",
    "                                                                    claw_gap='8um', lead_width='10um', lead_length='60um')),#claw_length ='115um', claw_width='25um', claw_gap='7um',ground_spacing='3um')),\n",
    "                                                 fl_options = dict(t_shift='-200um' , t_offset='-200um', t_inductive_gap='4.5um', \n",
    "                                                                   t_top='10.5um', t_width='5um', t_gap='3um'),\n",
    "                                                 cl_options= dict(c_offset='30um', c_ground_gap='38um', c_width='5um', \n",
    "                                                                  c_gap='3um', translate_x='-20um', translate_y='-50um',  c_angle='0'),\n",
    "                                                 rect_options= dict(rect_width='40um', rect_length='8um')))\n",
    "\n",
    "gui.rebuild()\n",
    "gui.autoscale()"
   ]
  },
  {
   "cell_type": "markdown",
   "metadata": {},
   "source": [
    "# Flux Lines and Flux Launchpads"
   ]
  },
  {
   "cell_type": "code",
   "execution_count": 8,
   "metadata": {
    "ExecuteTime": {
     "end_time": "2023-08-21T04:23:30.204536Z",
     "start_time": "2023-08-21T04:23:29.910243Z"
    },
    "scrolled": true
   },
   "outputs": [
    {
     "name": "stderr",
     "output_type": "stream",
     "text": [
      "12:23AM 29s WARNING [check_lengths]: For path table, component=Flux_Line_2, key=trace has short segments that could cause issues with fillet. Values in (1-2)  are index(es) in shapely geometry.\n",
      "12:23AM 30s WARNING [check_lengths]: For path table, component=Flux_Line_2, key=cut has short segments that could cause issues with fillet. Values in (1-2)  are index(es) in shapely geometry.\n",
      "12:23AM 30s INFO [make_connection_pad]: Warning: Did you mean to define a transmon wubit with loc_W and loc_H that are not +1 or -1?? Are you sure you want to do this?\n",
      "12:23AM 30s WARNING [check_lengths]: For path table, component=Flux_Line_2, key=trace has short segments that could cause issues with fillet. Values in (1-2)  are index(es) in shapely geometry.\n",
      "12:23AM 30s WARNING [check_lengths]: For path table, component=Flux_Line_2, key=cut has short segments that could cause issues with fillet. Values in (1-2)  are index(es) in shapely geometry.\n"
     ]
    }
   ],
   "source": [
    "\n",
    "import numpy as np\n",
    "from collections import OrderedDict\n",
    "\n",
    "\n",
    "# anchors1f = OrderedDict()\n",
    "# anchors1f[0] = np.array([0.18, 1.12])\n",
    "# anchors1f[1]=np.array([-1.15, 0.5])\n",
    "\n",
    "\n",
    "launch_flux_options = dict(trace_width= '5um', trace_gap='3um', pad_width='150um', pad_gap_y= '130um', \n",
    "                           pad_gap_x = '96um', pad_height='200um', \n",
    "                           taper_height='150um', \n",
    "                           pos_x='-1.5mm', pos_y='1.412mm', orientation='0', lead_length='30um')\n",
    "lf = LaunchpadWirebond(design, 'Launch_Flux', options = launch_flux_options)\n",
    "\n",
    "\n",
    "flux_line_options = Dict(\n",
    "        #lead = dict(start_straight='100um', end_straight='100um'),\n",
    "        fillet='30um', \n",
    "        trace_width = '5um', trace_gap = '3um', \n",
    "        pin_inputs=Dict(\n",
    "            start_pin=Dict(component='Q2', pin='flux_line'),\n",
    "            end_pin=Dict(componentl=lf.name, pin='tie')), )\n",
    "flux_line_Q2 = RouteAnchors(design,'Flux_Line_2', options = dict(hfss_wire_bonds = True,\n",
    "                                            pin_inputs=Dict(\n",
    "                                                start_pin=Dict(\n",
    "                                                    component='Q2',\n",
    "                                                    pin='flux_line'),\n",
    "                                                end_pin=Dict(\n",
    "                                                    component='Launch_Flux',\n",
    "                                                    pin='tie')),\n",
    "                                            lead=Dict(\n",
    "#                                                 start_straight='175um',\n",
    "                                                 #end_straight = '100um',\n",
    "                                                #end_jogged_extension = jogs_end\n",
    "                                            ),\n",
    "                                            fillet = '20um',\n",
    "                                            trace_width = '5um',\n",
    "                                            trace_gap = '3um',\n",
    "                                             #anchors = anchors1f\n",
    "                                            ))\n",
    "\n",
    "gui.rebuild()"
   ]
  },
  {
   "cell_type": "code",
   "execution_count": 8,
   "metadata": {
    "ExecuteTime": {
     "end_time": "2023-08-18T05:38:34.113688Z",
     "start_time": "2023-08-18T05:38:33.742916Z"
    }
   },
   "outputs": [
    {
     "name": "stderr",
     "output_type": "stream",
     "text": [
      "01:38AM 33s INFO [make_connection_pad]: Warning: Did you mean to define a transmon wubit with loc_W and loc_H that are not +1 or -1?? Are you sure you want to do this?\n",
      "01:38AM 33s WARNING [check_lengths]: For path table, component=Flux_Line_2, key=trace has short segments that could cause issues with fillet. Values in (1-2)  are index(es) in shapely geometry.\n",
      "01:38AM 33s WARNING [check_lengths]: For path table, component=Flux_Line_2, key=cut has short segments that could cause issues with fillet. Values in (1-2)  are index(es) in shapely geometry.\n"
     ]
    }
   ],
   "source": [
    "\n",
    "\n",
    "\n",
    "# anchors2fl = OrderedDict()\n",
    "anchors2f = OrderedDict()\n",
    "anchors2f[0] = np.array([1.2, 1.25])\n",
    "anchors2f[1]=np.array([1.2, 0.5])\n",
    "\n",
    "\n",
    "launch_flux2_options = dict(trace_width= '5um', trace_gap='3um', pad_width='150um', pad_gap_y= '130um', \n",
    "                             pad_gap_x = '96um', pad_height='200um', \n",
    "                           taper_height='150um',  pos_x='1.5', pos_y='0.5mm', orientation='180', lead_length='30um')\n",
    "lf2 = LaunchpadWirebond(design, 'Launch_Flux2', options = launch_flux2_options)\n",
    "\n",
    "\n",
    "\n",
    "\n",
    "flux_line_Q1 = RoutePathfinder(design,'Flux_Line_1', options = dict(hfss_wire_bonds = True,\n",
    "                                            pin_inputs=Dict(\n",
    "                                                start_pin=Dict(\n",
    "                                                    component='Q1',\n",
    "                                                    pin='flux_line'),\n",
    "                                                end_pin=Dict(\n",
    "                                                    component='Launch_Flux2',\n",
    "                                                    pin='tie')),\n",
    "                                            lead=Dict(\n",
    "                                                 #start_straight='175um',\n",
    "                                                 #end_straight = '100um',\n",
    "                                                #end_jogged_extension = jogs_end\n",
    "                                            ),\n",
    "                                            fillet = '20um',\n",
    "                                            trace_width = '5um',\n",
    "                                            trace_gap = '3um',\n",
    "                                            #anchors=anchors2f,\n",
    "                                            ))\n",
    "\n",
    "\n",
    "gui.rebuild()"
   ]
  },
  {
   "cell_type": "code",
   "execution_count": null,
   "metadata": {
    "ExecuteTime": {
     "end_time": "2023-07-25T19:04:13.711019Z",
     "start_time": "2023-07-25T19:04:13.711019Z"
    },
    "scrolled": true
   },
   "outputs": [],
   "source": [
    "print(\"RUn\")"
   ]
  },
  {
   "cell_type": "markdown",
   "metadata": {},
   "source": [
    "# Charge Lines and Charge Launchpads"
   ]
  },
  {
   "cell_type": "code",
   "execution_count": 9,
   "metadata": {
    "ExecuteTime": {
     "end_time": "2023-08-21T04:23:33.012877Z",
     "start_time": "2023-08-21T04:23:32.693969Z"
    },
    "scrolled": true
   },
   "outputs": [
    {
     "name": "stderr",
     "output_type": "stream",
     "text": [
      "12:23AM 32s INFO [make_connection_pad]: Warning: Did you mean to define a transmon wubit with loc_W and loc_H that are not +1 or -1?? Are you sure you want to do this?\n",
      "12:23AM 32s WARNING [check_lengths]: For path table, component=Flux_Line_2, key=trace has short segments that could cause issues with fillet. Values in (1-2)  are index(es) in shapely geometry.\n",
      "12:23AM 32s WARNING [check_lengths]: For path table, component=Flux_Line_2, key=cut has short segments that could cause issues with fillet. Values in (1-2)  are index(es) in shapely geometry.\n"
     ]
    }
   ],
   "source": [
    "\n",
    "\n",
    "\n",
    "\n",
    "\n",
    "\n",
    "launch_charge_options = dict(trace_width= '5um', trace_gap='3um', pad_width='150um', pad_gap_y= '130um', \n",
    "                             pad_gap_x = '96um', pad_height='200um', \n",
    "                           taper_height='150um',  pos_x='1.5mm', pos_y='1.405mm', orientation='180', lead_length='30um')\n",
    "\n",
    "lc = LaunchpadWirebond(design, 'Launch_Charge', options = launch_charge_options)\n",
    "\n",
    "\n",
    "\n",
    "\n",
    "\n",
    "\n",
    "\n",
    "\n",
    "#anchors1ch = OrderedDict()\n",
    "#anchors1ch[0] = np.array([1.78, 0.114])\n",
    "\n",
    "\n",
    "charge_line_Q1 = RoutePathfinder(design,'Charge_Line_1', options = dict(hfss_wire_bonds = True,\n",
    "                                            pin_inputs=Dict(\n",
    "                                                start_pin=Dict(\n",
    "                                                    component='Q1',\n",
    "                                                    pin='Charge_Line'),\n",
    "                                                end_pin=Dict(\n",
    "                                                    component='Launch_Charge',\n",
    "                                                    pin='tie')),\n",
    "                                            lead=Dict(\n",
    "                                                start_straight='175um',\n",
    "                                                end_straight = '100um',\n",
    "                                                #end_jogged_extension = jogs_end\n",
    "                                            ),\n",
    "                                            fillet = '60um',\n",
    "                                            trace_width = '5um',\n",
    "                                            trace_gap = '3um',\n",
    "                                            #anchors = anchors1ch\n",
    "                                            ))\n",
    "\n",
    "gui.rebuild()"
   ]
  },
  {
   "cell_type": "code",
   "execution_count": 10,
   "metadata": {
    "ExecuteTime": {
     "end_time": "2023-08-18T05:53:44.455835Z",
     "start_time": "2023-08-18T05:53:43.980316Z"
    }
   },
   "outputs": [
    {
     "name": "stderr",
     "output_type": "stream",
     "text": [
      "01:53AM 44s INFO [make_connection_pad]: Warning: Did you mean to define a transmon wubit with loc_W and loc_H that are not +1 or -1?? Are you sure you want to do this?\n",
      "01:53AM 44s WARNING [check_lengths]: For path table, component=Flux_Line_2, key=trace has short segments that could cause issues with fillet. Values in (1-2)  are index(es) in shapely geometry.\n",
      "01:53AM 44s WARNING [check_lengths]: For path table, component=Flux_Line_2, key=cut has short segments that could cause issues with fillet. Values in (1-2)  are index(es) in shapely geometry.\n"
     ]
    }
   ],
   "source": [
    "\n",
    "launch_charge2_options = dict(trace_width= '5um', trace_gap='3um', pad_width='150um', pad_gap_y= '130um', \n",
    "                             pad_gap_x = '96um', pad_height='200um', \n",
    "                           taper_height='150um',  pos_x='-1.5mm', pos_y='0.5mm', orientation='0', lead_length='30um')\n",
    "\n",
    "lc2 = LaunchpadWirebond(design, 'Launch_Charge2', options = launch_charge2_options)\n",
    "anchors2ch = OrderedDict()\n",
    "anchors2ch[0] = np.array([-1.75,2.0])\n",
    "charge_line_Q2 = RoutePathfinder(design,'Charge_Line_2', options = dict(hfss_wire_bonds = True,\n",
    "                                            pin_inputs=Dict(\n",
    "                                                start_pin=Dict(\n",
    "                                                    component='Q2',\n",
    "                                                    pin='charge_line'),\n",
    "                                                end_pin=Dict(\n",
    "                                                    component='Launch_Charge2',\n",
    "                                                    pin='tie')),\n",
    "                                            lead=Dict(\n",
    "#                                                 start_straight='175um',\n",
    "                                                 end_straight = '100um',\n",
    "                                                #end_jogged_extension = jogs_end\n",
    "                                            ),\n",
    "                                            fillet = '60um',\n",
    "                                            trace_width = '5um',\n",
    "                                            trace_gap = '3um',\n",
    "                                            #anchors = anchors2ch\n",
    "                                            ))\n",
    "\n",
    "gui.rebuild()\n"
   ]
  },
  {
   "cell_type": "markdown",
   "metadata": {},
   "source": [
    "# Readout Tee's and Readout Resonators"
   ]
  },
  {
   "cell_type": "code",
   "execution_count": 10,
   "metadata": {
    "ExecuteTime": {
     "end_time": "2023-08-21T04:23:39.793717Z",
     "start_time": "2023-08-21T04:23:39.381187Z"
    },
    "scrolled": true
   },
   "outputs": [
    {
     "name": "stderr",
     "output_type": "stream",
     "text": [
      "12:23AM 39s INFO [make_connection_pad]: Warning: Did you mean to define a transmon wubit with loc_W and loc_H that are not +1 or -1?? Are you sure you want to do this?\n",
      "12:23AM 39s WARNING [check_lengths]: For path table, component=Flux_Line_2, key=trace has short segments that could cause issues with fillet. Values in (1-2)  are index(es) in shapely geometry.\n",
      "12:23AM 39s WARNING [check_lengths]: For path table, component=Flux_Line_2, key=cut has short segments that could cause issues with fillet. Values in (1-2)  are index(es) in shapely geometry.\n"
     ]
    }
   ],
   "source": [
    "\n",
    "TQ2 = LineTee(design, 'TQ2', options=dict(pos_x='-0.85mm',\n",
    "                                             pos_y='2.6mm',\n",
    "                                            orientation=0, \n",
    "                                                 open_termination=False))\n",
    "\n",
    "\n",
    "\n",
    "\n",
    "\n",
    "#3.58\n",
    "\n",
    "options2 = Dict(\n",
    "     total_length='4.250mm',\n",
    "     hfss_wire_bonds = True,\n",
    "     fillet='40um',\n",
    "     lead = dict(start_straight='250um'),\n",
    "     pin_inputs=Dict(\n",
    "         end_pin=Dict(\n",
    "             component='TQ2',\n",
    "             pin='second_end'),\n",
    "         start_pin=Dict(\n",
    "             component='Q2',\n",
    "             pin='readout')),\n",
    "     meander=Dict(spacing='200um',\n",
    "             asymmetry='0um'))\n",
    "read_q2 = RouteMeander(design, 'read_q2', options=options2)\n",
    "\n",
    "\n",
    "\n",
    "gui.rebuild()\n",
    "gui.autoscale()\n"
   ]
  },
  {
   "cell_type": "code",
   "execution_count": 11,
   "metadata": {
    "ExecuteTime": {
     "end_time": "2023-08-21T04:23:44.577480Z",
     "start_time": "2023-08-21T04:23:44.131920Z"
    },
    "scrolled": true
   },
   "outputs": [
    {
     "name": "stderr",
     "output_type": "stream",
     "text": [
      "12:23AM 44s INFO [make_connection_pad]: Warning: Did you mean to define a transmon wubit with loc_W and loc_H that are not +1 or -1?? Are you sure you want to do this?\n",
      "12:23AM 44s WARNING [check_lengths]: For path table, component=Flux_Line_2, key=trace has short segments that could cause issues with fillet. Values in (1-2)  are index(es) in shapely geometry.\n",
      "12:23AM 44s WARNING [check_lengths]: For path table, component=Flux_Line_2, key=cut has short segments that could cause issues with fillet. Values in (1-2)  are index(es) in shapely geometry.\n"
     ]
    }
   ],
   "source": [
    "\n",
    "TQ1 = CoupledLineTee(design, 'TQ1', options=dict(pos_x='1.07mm',\n",
    "                                             pos_y='2.6mm',\n",
    "                                              coupling_length='400um', coupling_space='4um', open_termination=False, orientation='0'))\n",
    "\n",
    "options1 = Dict(\n",
    "    total_length='3.9mm',\n",
    "    hfss_wire_bonds = True,\n",
    "    fillet='40um',\n",
    "    lead = dict(start_straight='50um'),\n",
    "    pin_inputs=Dict(\n",
    "        start_pin=Dict(\n",
    "            component='TQ1',\n",
    "            pin='second_end'),\n",
    "        end_pin=Dict(\n",
    "            component='Q1',\n",
    "            pin='a')))\n",
    "read_q1 = RouteMeander(design, 'read_q1', options=options1)\n",
    "gui.rebuild()\n",
    "gui.autoscale()"
   ]
  },
  {
   "cell_type": "markdown",
   "metadata": {},
   "source": [
    "# Feedline and Feedline Launchpads "
   ]
  },
  {
   "cell_type": "code",
   "execution_count": 13,
   "metadata": {
    "ExecuteTime": {
     "end_time": "2023-08-18T05:53:53.175049Z",
     "start_time": "2023-08-18T05:53:52.403800Z"
    },
    "scrolled": true
   },
   "outputs": [
    {
     "name": "stderr",
     "output_type": "stream",
     "text": [
      "01:53AM 52s INFO [make_connection_pad]: Warning: Did you mean to define a transmon wubit with loc_W and loc_H that are not +1 or -1?? Are you sure you want to do this?\n",
      "01:53AM 52s WARNING [check_lengths]: For path table, component=Flux_Line_2, key=trace has short segments that could cause issues with fillet. Values in (1-2)  are index(es) in shapely geometry.\n",
      "01:53AM 52s WARNING [check_lengths]: For path table, component=Flux_Line_2, key=cut has short segments that could cause issues with fillet. Values in (1-2)  are index(es) in shapely geometry.\n"
     ]
    }
   ],
   "source": [
    "launch_feed_left_options = dict(trace_width= '10um',pad_width='150um', pad_gap_x= '96um', pad_gap_y= '130um', pad_height='200um', \n",
    "                           taper_height='150um',  pos_x='-1.5mm', pos_y='3.8mm', orientation='0', lead_length='30um')\n",
    "l_feed_left = LaunchpadWirebond(design, 'Launch_Feed_Left', options = launch_feed_left_options)\n",
    "\n",
    "\n",
    "launch_feed_right_options = dict(trace_width= '10um', pad_width='150um', pad_gap_x= '96um', pad_gap_y= '130um', pad_height='200um', \n",
    "                           taper_height='150um',  pos_x='1.5mm', pos_y='3.8mm', lead_length='30um', orientation='180')\n",
    "l_feed_right = LaunchpadWirebond(design, 'Launch_Feed_Right', options = launch_feed_right_options)\n",
    "\n",
    "\n",
    "\n",
    "\n",
    "# anchors1c = OrderedDict()\n",
    "# anchors1c[0] = np.array([-0.65, 0.56079])\n",
    "\n",
    "\n",
    "\n",
    "ops_oF = {'hfss_wire_bonds': 'True',\n",
    "            'pin_inputs': \n",
    "            {'start_pin': {'component': 'TQ2', 'pin': 'prime_start'}, \n",
    "             'end_pin': {'component': 'Launch_Feed_Left', 'pin': 'tie'}},\n",
    "            #'fillet':'80um'\n",
    "            }\n",
    "cpw_openFirst = RouteStraight(design, 'cpw_openFirst', options=ops_oF)\n",
    "\n",
    "\n",
    "\n",
    "\n",
    "ops_oM = {'hfss_wire_bonds': 'True',\n",
    "            'pin_inputs': \n",
    "            {'start_pin': {'component': 'TQ1', 'pin': 'prime_start'}, \n",
    "             'end_pin': {'component': 'TQ2', 'pin': 'prime_end'}},\n",
    "            #'anchors': anchors1c,\n",
    "            #'fillet':'50um'\n",
    "            }\n",
    "cpw_openMid = RouteStraight(design, 'cpw_openMid', options=ops_oM)\n",
    "\n",
    "\n",
    "\n",
    "\n",
    "\n",
    "# ops_oLast = {'hfss_wire_bonds': 'True',\n",
    "#             'pin_inputs': \n",
    "#             {'start_pin': {'component': 'TQ1', 'pin': 'prime_end'}, \n",
    "#              'end_pin': {'component': l_feed_right.name, 'pin': 'tie'}},\n",
    "#             'fillet':'80um'\n",
    "#             }\n",
    "# cpw_openLast = RouteStraight(design, 'cpw_openLast', options=ops_oLast)\n",
    "\n",
    "\n",
    "\n",
    "gui.rebuild()\n",
    "gui.autoscale()"
   ]
  },
  {
   "cell_type": "code",
   "execution_count": null,
   "metadata": {
    "ExecuteTime": {
     "end_time": "2023-07-05T19:38:10.671002Z",
     "start_time": "2023-07-05T19:38:10.671002Z"
    },
    "scrolled": true
   },
   "outputs": [],
   "source": [
    "%metal_heading Now analyzing the design: HFSS & EPR"
   ]
  },
  {
   "cell_type": "markdown",
   "metadata": {},
   "source": [
    "# Running for an individual XMon"
   ]
  },
  {
   "cell_type": "code",
   "execution_count": null,
   "metadata": {
    "ExecuteTime": {
     "end_time": "2023-07-26T00:50:24.435553Z",
     "start_time": "2023-07-26T00:50:24.020632Z"
    },
    "scrolled": true
   },
   "outputs": [],
   "source": [
    "from qiskit_metal.analyses.quantization import EPRanalysis\n",
    "eig_qb = EPRanalysis(design, \"hfss\")\n",
    "\n",
    "eig_qb = EPRanalysis(design, \"hfss\")\n",
    "\n",
    "eig_qb.sim.setup.vars.Lj = '10 nH'\n",
    "eig_qb.sim.setup.vars = Dict({'Lj': '10 nH', 'Cj': '3 fF'})\n",
    "gui.rebuild()\n",
    "gui.autoscale()"
   ]
  },
  {
   "cell_type": "code",
   "execution_count": null,
   "metadata": {
    "ExecuteTime": {
     "end_time": "2023-07-26T00:50:28.301797Z",
     "start_time": "2023-07-26T00:50:27.885651Z"
    },
    "scrolled": true
   },
   "outputs": [],
   "source": [
    "design.qgeometry.tables['junction']\n",
    "qcomps=design.components\n",
    "qcomps['Q2'].options['hfss_inductance'] = 'Lj'\n",
    "qcomps['Q2'].options['hfss_capacitance'] = 'Cj'\n",
    "\n",
    "gui.rebuild()\n",
    "gui.autoscale()\n",
    "\n"
   ]
  },
  {
   "cell_type": "code",
   "execution_count": null,
   "metadata": {
    "ExecuteTime": {
     "end_time": "2023-06-29T05:39:55.602556Z",
     "start_time": "2023-06-29T05:39:55.598569Z"
    },
    "scrolled": true
   },
   "outputs": [],
   "source": [
    "eig_qb.sim.setup"
   ]
  },
  {
   "cell_type": "code",
   "execution_count": null,
   "metadata": {
    "ExecuteTime": {
     "end_time": "2023-07-26T00:56:12.830640Z",
     "start_time": "2023-07-26T00:56:12.404322Z"
    },
    "scrolled": true
   },
   "outputs": [],
   "source": [
    "eig_qb.sim.setup.max_passes = 16\n",
    "eig_qb.sim.setup.vars.Lj = '10 nH'\n",
    "eig_qb.sim.setup.vars = Dict({'Lj': '10 nH', 'Cj': '3 fF'})\n",
    "\n",
    "eig_qb.sim.setup_update(max_delta_f = 0.5, min_freq_ghz = 4)\n",
    "eig_qb.sim.setup.min_passes = 10\n",
    "eig_qb.sim.setup.n_modes = 1\n",
    "\n",
    "gui.rebuild()\n",
    "gui.autoscale()\n",
    "\n"
   ]
  },
  {
   "cell_type": "code",
   "execution_count": null,
   "metadata": {
    "ExecuteTime": {
     "end_time": "2023-07-26T01:02:23.055670Z",
     "start_time": "2023-07-26T01:02:22.956708Z"
    },
    "scrolled": true
   },
   "outputs": [],
   "source": [
    "eig_qb.sim.renderer._options['max_mesh_length_jj'] = '3um'\n",
    "eig_qb.sim.renderer._options['max_mesh_length_port'] = '3um'"
   ]
  },
  {
   "cell_type": "code",
   "execution_count": null,
   "metadata": {
    "ExecuteTime": {
     "end_time": "2023-07-26T01:05:58.461508Z",
     "start_time": "2023-07-26T01:02:43.117166Z"
    },
    "scrolled": true
   },
   "outputs": [],
   "source": [
    "\n",
    "design.qgeometry.tables['junction']\n",
    "qcomps=design.components\n",
    "qcomps['Q2'].options['hfss_inductance'] = 'Lj'\n",
    "qcomps['Q2'].options['hfss_capacitance'] = 'Cj'\n",
    "\n",
    "gui.rebuild()\n",
    "gui.autoscale()\n",
    "\n",
    "\n",
    "\n",
    "eig_qb.sim.run(name=\"Xmon_only_new\", components=['Q2'], open_terminations=[], box_plus_buffer = True)\n",
    "eig_qb.sim.plot_convergences()"
   ]
  },
  {
   "cell_type": "markdown",
   "metadata": {},
   "source": [
    "The last variables you pass to the `run()` or `sim.run()` methods, will be stored in the `sim.setup` dictionary under the key `run`. You can recall the information passed by either accessing the dictionary directly, or by using the print handle below."
   ]
  },
  {
   "cell_type": "code",
   "execution_count": null,
   "metadata": {
    "ExecuteTime": {
     "end_time": "2023-06-29T05:40:52.248057Z",
     "start_time": "2023-06-29T05:40:51.994436Z"
    },
    "scrolled": true
   },
   "outputs": [],
   "source": [
    "eig_qb.sim.plot_convergences()"
   ]
  },
  {
   "cell_type": "code",
   "execution_count": null,
   "metadata": {
    "ExecuteTime": {
     "end_time": "2023-06-29T05:40:53.796054Z",
     "start_time": "2023-06-29T05:40:53.793171Z"
    },
    "scrolled": true
   },
   "outputs": [],
   "source": [
    "# eig_qb.setup.run    <- direct access\n",
    "eig_qb.sim.print_run_args()"
   ]
  },
  {
   "cell_type": "code",
   "execution_count": null,
   "metadata": {
    "ExecuteTime": {
     "end_time": "2023-07-26T01:09:05.255806Z",
     "start_time": "2023-07-26T01:08:52.957110Z"
    },
    "scrolled": true
   },
   "outputs": [],
   "source": [
    "eig_qb.setup.junctions.jj.rect = 'JJ_rect_Lj_Q2_rect_jj'\n",
    "eig_qb.setup.junctions.jj.line = 'JJ_Lj_Q2_rect_jj_'\n",
    "eig_qb.run_epr()"
   ]
  },
  {
   "cell_type": "code",
   "execution_count": null,
   "metadata": {
    "scrolled": true
   },
   "outputs": [],
   "source": []
  },
  {
   "cell_type": "markdown",
   "metadata": {},
   "source": [
    "# Capacitance matrix "
   ]
  },
  {
   "cell_type": "code",
   "execution_count": null,
   "metadata": {
    "ExecuteTime": {
     "end_time": "2023-07-26T01:40:10.839755Z",
     "start_time": "2023-07-26T01:39:21.041026Z"
    },
    "scrolled": true
   },
   "outputs": [],
   "source": [
    "from qiskit_metal.analyses.quantization import LOManalysis\n",
    "c1 = LOManalysis(design, \"q3d\")\n",
    "\n",
    "# example: update single setting\n",
    "c1.sim.setup.max_passes = 10\n",
    "# example: update multiple settings\n",
    "c1.sim.setup_update(solution_order = 'Medium', auto_increase_solution_order = 'False')\n",
    "\n",
    "c1.sim.setup\n",
    "\n",
    "c1.sim.run(components=['Q1', 'Q2'], open_terminations=[])\n",
    "c1.sim.capacitance_matrix"
   ]
  },
  {
   "cell_type": "code",
   "execution_count": null,
   "metadata": {
    "ExecuteTime": {
     "end_time": "2023-07-26T00:30:35.515704Z",
     "start_time": "2023-07-26T00:30:34.718557Z"
    }
   },
   "outputs": [],
   "source": []
  },
  {
   "cell_type": "code",
   "execution_count": null,
   "metadata": {
    "ExecuteTime": {
     "end_time": "2023-07-26T00:31:57.253221Z",
     "start_time": "2023-07-26T00:31:57.150092Z"
    },
    "scrolled": true
   },
   "outputs": [],
   "source": [
    "\n",
    "from qiskit_metal.analyses.quantization.lumped_capacitive import load_q3d_capacitance_matrix\n",
    "from qiskit_metal.analyses.quantization.lom_core_analysis import CompositeSystem, Cell, Subsystem\n",
    "\n",
    "opt1 = dict(\n",
    "    node_rename = {'coupling_pad_Q1': 'coupling'}, \n",
    "    cap_mat = c1.sim.capacitance_matrix,\n",
    "    ind_dict = {('pad_bot_Q1', 'pad_top_Q1'): 1},  # placeholder inductance here; only used for node-basis transformation and reduction\n",
    "    jj_dict = {('pad_bot_Q1', 'pad_top_Q1'):'j1'},\n",
    ")\n",
    "cell_1 = Cell(opt1)\n",
    "\n",
    "\n"
   ]
  },
  {
   "cell_type": "code",
   "execution_count": null,
   "metadata": {
    "ExecuteTime": {
     "end_time": "2023-07-26T00:31:59.169889Z",
     "start_time": "2023-07-26T00:31:59.070124Z"
    }
   },
   "outputs": [],
   "source": [
    "fluxonium = Subsystem(name='fluxonium', sys_type='FLUXONIUM', nodes=['j1'], q_opts={'EJ':5570, 'EL':640, 'flux': .5})\n",
    "composite_sys = CompositeSystem(\n",
    "    subsystems=[fluxonium], \n",
    "    cells=[cell_1], \n",
    "    grd_node='ground_main_plane')\n",
    "\n",
    "cg = composite_sys.circuitGraph()"
   ]
  },
  {
   "cell_type": "code",
   "execution_count": null,
   "metadata": {
    "ExecuteTime": {
     "end_time": "2023-07-26T00:32:01.192391Z",
     "start_time": "2023-07-26T00:32:01.085735Z"
    },
    "scrolled": true
   },
   "outputs": [],
   "source": [
    "hilbertspace = composite_sys.create_hilbertspace()\n",
    "hilbertspace = composite_sys.add_interaction()\n",
    "print(hilbertspace)"
   ]
  },
  {
   "cell_type": "code",
   "execution_count": null,
   "metadata": {},
   "outputs": [],
   "source": []
  },
  {
   "cell_type": "code",
   "execution_count": null,
   "metadata": {
    "ExecuteTime": {
     "end_time": "2023-07-26T00:02:10.293246Z",
     "start_time": "2023-07-26T00:02:09.647920Z"
    }
   },
   "outputs": [],
   "source": [
    "import sys\n",
    "stdout = sys.stdout\n",
    "reload(sys)\n",
    "sys.setdefaultencoding('utf-8')\n",
    "sys.stdout = stdout"
   ]
  },
  {
   "cell_type": "code",
   "execution_count": null,
   "metadata": {
    "ExecuteTime": {
     "end_time": "2023-06-29T04:29:02.200519Z",
     "start_time": "2023-06-29T04:29:02.128765Z"
    },
    "scrolled": true
   },
   "outputs": [],
   "source": []
  },
  {
   "cell_type": "code",
   "execution_count": null,
   "metadata": {
    "ExecuteTime": {
     "end_time": "2023-07-06T05:10:33.368157Z",
     "start_time": "2023-07-06T05:10:29.641888Z"
    },
    "scrolled": true
   },
   "outputs": [],
   "source": [
    "eig_qb.sim.plot_fields('main')  \n",
    "\n",
    "hfss = eig_qb.sim.renderer\n",
    "hfss.clear_fields(['Mag_E1'])\n",
    "hfss.set_mode(1, \"Setup\")\n",
    "hfss.modeler._modeler.ShowWindow()\n",
    "hfss.plot_fields('main')\n",
    "hfss.save_screenshot()"
   ]
  },
  {
   "cell_type": "code",
   "execution_count": null,
   "metadata": {
    "scrolled": true
   },
   "outputs": [],
   "source": [
    "eig_qb.sim.clear_fields()"
   ]
  },
  {
   "cell_type": "markdown",
   "metadata": {},
   "source": [
    "# Xmon and resonators together"
   ]
  },
  {
   "cell_type": "code",
   "execution_count": 12,
   "metadata": {
    "ExecuteTime": {
     "end_time": "2023-08-21T04:23:56.162078Z",
     "start_time": "2023-08-21T04:23:56.102452Z"
    },
    "scrolled": true
   },
   "outputs": [],
   "source": [
    "from qiskit_metal.analyses.quantization import EPRanalysis"
   ]
  },
  {
   "cell_type": "code",
   "execution_count": 13,
   "metadata": {
    "ExecuteTime": {
     "end_time": "2023-08-21T04:23:57.876830Z",
     "start_time": "2023-08-21T04:23:57.102440Z"
    },
    "scrolled": true
   },
   "outputs": [
    {
     "name": "stderr",
     "output_type": "stream",
     "text": [
      "12:23AM 57s INFO [make_connection_pad]: Warning: Did you mean to define a transmon wubit with loc_W and loc_H that are not +1 or -1?? Are you sure you want to do this?\n",
      "12:23AM 57s WARNING [check_lengths]: For path table, component=Flux_Line_2, key=trace has short segments that could cause issues with fillet. Values in (1-2)  are index(es) in shapely geometry.\n",
      "12:23AM 57s WARNING [check_lengths]: For path table, component=Flux_Line_2, key=cut has short segments that could cause issues with fillet. Values in (1-2)  are index(es) in shapely geometry.\n"
     ]
    }
   ],
   "source": [
    "design.qgeometry.tables['junction']\n",
    "qcomps=design.components\n",
    "qcomps['Q1'].options['hfss_inductance'] = 'Lj'\n",
    "qcomps['Q1'].options['hfss_capacitance'] = 'Cj'\n",
    "gui.rebuild()\n",
    "gui.autoscale()"
   ]
  },
  {
   "cell_type": "code",
   "execution_count": 14,
   "metadata": {
    "ExecuteTime": {
     "end_time": "2023-08-21T04:23:59.568834Z",
     "start_time": "2023-08-21T04:23:58.791518Z"
    },
    "scrolled": true
   },
   "outputs": [
    {
     "name": "stderr",
     "output_type": "stream",
     "text": [
      "12:23AM 58s INFO [make_connection_pad]: Warning: Did you mean to define a transmon wubit with loc_W and loc_H that are not +1 or -1?? Are you sure you want to do this?\n",
      "12:23AM 59s WARNING [check_lengths]: For path table, component=Flux_Line_2, key=trace has short segments that could cause issues with fillet. Values in (1-2)  are index(es) in shapely geometry.\n",
      "12:23AM 59s WARNING [check_lengths]: For path table, component=Flux_Line_2, key=cut has short segments that could cause issues with fillet. Values in (1-2)  are index(es) in shapely geometry.\n"
     ]
    }
   ],
   "source": [
    "eig_rd = EPRanalysis(design, \"hfss\")\n",
    "\n",
    "eig_rd.sim.setup.vars.Lj = '550 nH'\n",
    "eig_rd.sim.setup.vars = Dict({'Lj': '550 nH', 'Cj': '3 fF'})\n",
    "gui.rebuild()\n",
    "gui.autoscale()"
   ]
  },
  {
   "cell_type": "markdown",
   "metadata": {},
   "source": [
    "# Qubit 1 related simulations"
   ]
  },
  {
   "cell_type": "code",
   "execution_count": 15,
   "metadata": {
    "ExecuteTime": {
     "end_time": "2023-08-21T04:25:57.914913Z",
     "start_time": "2023-08-21T04:24:03.950564Z"
    },
    "scrolled": true
   },
   "outputs": [
    {
     "name": "stderr",
     "output_type": "stream",
     "text": [
      "INFO 12:24AM [connect_project]: Connecting to Ansys Desktop API...\n",
      "INFO 12:24AM [load_ansys_project]: \tOpened Ansys App\n",
      "INFO 12:24AM [load_ansys_project]: \tOpened Ansys Desktop v2022.1.0\n",
      "INFO 12:24AM [load_ansys_project]: \tOpened Ansys Project\n",
      "\tFolder:    C:/Users/WANGLAB/Desktop/Ebru/\n",
      "\tProject:   Fluxonium_experiment_blabla\n",
      "INFO 12:24AM [connect_design]: \tOpened active design\n",
      "\tDesign:    Xmon_and_resonator2_hfss [Solution type: Eigenmode]\n",
      "INFO 12:24AM [get_setup]: \tOpened setup `Setup`  (<class 'pyEPR.ansys.HfssEMSetup'>)\n",
      "INFO 12:24AM [connect]: \tConnected to project \"Fluxonium_experiment_blabla\" and design \"Xmon_and_resonator2_hfss\" 😀 \n",
      "\n",
      "INFO 12:24AM [connect_design]: \tOpened active design\n",
      "\tDesign:    readout_transmon_hfss33_hfss [Solution type: Eigenmode]\n",
      "INFO 12:24AM [get_setup]: \tOpened setup `Setup`  (<class 'pyEPR.ansys.HfssEMSetup'>)\n",
      "INFO 12:24AM [analyze]: Analyzing setup Setup\n",
      "12:25AM 57s INFO [get_f_convergence]: Saved convergences to C:\\Users\\WANGLAB\\Documents\\GitHub\\qiskit-metal\\tutorials\\4 Analysis\\A. Core - EM and quantization\\hfss_eig_f_convergence.csv\n"
     ]
    }
   ],
   "source": [
    "eig_rd.sim.setup.n_modes =1\n",
    "\n",
    "# eig_rd.sim.setup.min_passes = 1\n",
    "# eig_rd.sim.setup.max_passes = 1\n",
    "\n",
    "eig_rd.sim.setup.min_passes = 15\n",
    "eig_rd.sim.setup.max_passes = 20\n",
    "\n",
    "\n",
    "eig_rd.sim.setup_update(max_delta_f = 0.5, min_freq_ghz = 1.1)\n",
    "\n",
    "\n",
    "design.qgeometry.tables['junction']\n",
    "qcomps=design.components\n",
    "qcomps['Q1'].options['hfss_inductance'] = 'Lj'\n",
    "qcomps['Q1'].options['hfss_capacitance'] = 'Cj'\n",
    "\n",
    "\n",
    "#eig_rd.sim.run(name=\"xmon_and_readout_storage_final\", components=['Q1', 'read_q1', 'Store_Q1_1', 'TQ1'], open_terminations=[], box_plus_buffer = False)\n",
    "#eig_rd.sim.run(name=\"xmon_and_readout_87\", components=['Q1', 'read_q1', 'TQ1'], open_terminations=[('TQ1', 'prime_start'), ('TQ1', 'prime_end')], box_plus_buffer = False)\n",
    "\n",
    "\n",
    "eig_rd.sim.run(name=\"readout_transmon_hfss33\", components=['read_q1', 'TQ1', 'Q1'], open_terminations=[('TQ1', 'prime_end'), ('TQ1', 'prime_start')], box_plus_buffer = True)\n",
    "#eig_rd.sim.run(name=\"storage_and_xmon_and_readout_final3\", components=['Q2', 'Store_Q2_2', 'read_q2', 'TQ2', 'TQ1', 'Launch_Feed_Left', 'Launch_Feed_Right', 'cpw_openFirst', 'cpw_openMid', 'cpw_openLast'], open_terminations=[('TQ1', 'prime_end'), ('TQ1', 'prime_start')], box_plus_buffer = False)\n",
    "#eig_rd.sim.run(name=\"xmon_chargeline\", components=['Q1', 'Charge_Line_1'], open_terminations=[('Charge_Line_1','end')])\n",
    "# eig_rd.sim.run(name=\"open_24_131\", components=['Q1', 'Store_Q1_1', 'Launch_Storage'], open_terminations=[('Launch_Storage','tie')], box_plus_buffer = False)\n",
    "#eig_rd.sim.run(name=\"storage_coupling_PART96\", components=['Q1','Store_Q1_1', 'Storage_Line_1', 'otg11', 'stg11'], open_terminations=[('Storage_Line_1', 'end')], box_plus_buffer = False)\n",
    "#eig_rd.sim.run(name=\"ro_111622\", components=['Q2', 'read_q2', 'TQ2', 'Store_Q2_2'], open_terminations=[], box_plus_buffer = False)\n",
    "#eig_rd.sim.run(name=\"full_set2\", components=['Q2', 'Store_Q2_2' 'read_q2', 'TQ2'], open_terminations=[], box_plus_buffer = False)\n",
    "\n",
    "#eig_rd.sim.run(name=\"xmon_and_ro_set1\", components=['Q1',  'read_q1', 'TQ1'], open_terminations=[], box_plus_buffer = False)\n",
    "#eig_rd.sim.run(name=\"storage_loss_fluxpad2\", components=['Q2', 'Store_Q2_2', 'Launch_Flux2'], open_terminations=[], box_plus_buffer = False)\n",
    "eig_rd.sim.plot_convergences()"
   ]
  },
  {
   "cell_type": "code",
   "execution_count": null,
   "metadata": {
    "ExecuteTime": {
     "end_time": "2023-07-06T05:18:17.451476Z",
     "start_time": "2023-07-06T05:18:08.609964Z"
    },
    "scrolled": true
   },
   "outputs": [],
   "source": [
    "eig_rd.setup.junctions.jj.rect = 'JJ_rect_Lj_Q2_rect_jj'\n",
    "eig_rd.setup.junctions.jj.line = 'JJ_Lj_Q2_rect_jj_'\n",
    "eig_rd.run_epr()"
   ]
  },
  {
   "cell_type": "markdown",
   "metadata": {},
   "source": [
    "# Qubit 2 related simulations"
   ]
  },
  {
   "cell_type": "code",
   "execution_count": null,
   "metadata": {
    "scrolled": true
   },
   "outputs": [],
   "source": [
    "eig_rd.sim.setup.n_modes =1\n",
    "\n",
    "eig_rd.sim.setup.min_passes = 1\n",
    "eig_rd.sim.setup.max_passes = 1\n",
    "\n",
    "# eig_rd.sim.setup.min_passes = 11\n",
    "# eig_rd.sim.setup.max_passes = 17\n",
    "\n",
    "\n",
    "eig_rd.sim.setup_update(max_delta_f = 0.5, min_freq_ghz = 1.1)\n",
    "\n",
    "\n",
    "design.qgeometry.tables['junction']\n",
    "qcomps=design.components\n",
    "qcomps['Q2'].options['hfss_inductance'] = 'Lj'\n",
    "qcomps['Q2'].options['hfss_capacitance'] = 'Cj'\n",
    "\n",
    "gui.rebuild()\n",
    "gui.autoscale()\n",
    "\n",
    "\n",
    "\n",
    "\n",
    "\n",
    "\n",
    "#eig_rd.sim.run(name=\"storage_coupling_PART92\", components=['Q2','Store_Q2_2', 'Storage_Line_2', 'otg11_2', 'stg11_2'], open_terminations=[('Storage_Line_2', 'end')], box_plus_buffer = False)\n",
    "\n",
    "\n",
    "\n",
    "\n",
    "#eig_rd.sim.run(name=\"xmon_and_readout_storage_ayoy_39\", components=['Q2', 'read_q2', 'Store_Q2_2', 'TQ2'], open_terminations=[], box_plus_buffer = False)\n",
    "eig_rd.sim.run(name=\"xmon_and_readout_PART90\", components=['Q2', 'read_q2', 'TQ2'], open_terminations=[('TQ2', 'prime_start'), ('TQ2', 'prime_end')], box_plus_buffer = False)\n",
    "\n",
    "\n",
    "#eig_rd.sim.run(name=\"readout4\", components=['read_q1', 'TQ1', 'Q1'], open_terminations=[('TQ1', 'prime_end'), ('TQ1', 'prime_start')], box_plus_buffer = False)\n",
    "#eig_rd.sim.run(name=\"storage_and_xmon_and_readout\", components=['Q1', 'Store_Q1', 'read_q1', 'TQ1', 'Launch_Feed_Left', 'Launch_Feed_Right', 'cpw_openRight', 'cpw_openLeft'], open_terminations=[], box_plus_buffer = False)\n",
    "#eig_rd.sim.run(name=\"xmon_chargeline\", components=['Q1', 'Charge_Line_1'], open_terminations=[('Charge_Line_1','end')])\n",
    "# eig_rd.sim.run(name=\"open_24_131\", components=['Q1', 'Store_Q1_1', 'Launch_Storage'], open_terminations=[('Launch_Storage','tie')], box_plus_buffer = False)\n",
    "#eig_rd.sim.run(name=\"storage_coupling_ayoy\", components=['Q1', 'Store_Q1_1', 'stg11', 'Storage_Line_1', 'otg11'], open_terminations=[('otg11', 'open'), ('Storage_Line_1', 'end')], box_plus_buffer = False)\n",
    "#eig_rd.sim.run(name=\"ro_111622\", components=['Q2', 'read_q2', 'TQ2', 'Store_Q2_2'], open_terminations=[], box_plus_buffer = False)\n",
    "#eig_rd.sim.run(name=\"full_set2\", components=['Q2', 'Store_Q2_2' 'read_q2', 'TQ2'], open_terminations=[], box_plus_buffer = False)\n",
    "\n",
    "#eig_rd.sim.run(name=\"xmon_and_ro_set1\", components=['Q1', 'Store_Q1_1', 'read_q1', 'TQ1'], open_terminations=[], box_plus_buffer = False)\n",
    "#eig_rd.sim.run(name=\"storage_loss_fluxpad2\", components=['Q2', 'Store_Q2_2', 'Launch_Flux2'], open_terminations=[], box_plus_buffer = False)\n",
    "eig_rd.sim.plot_convergences()"
   ]
  },
  {
   "cell_type": "code",
   "execution_count": null,
   "metadata": {
    "scrolled": true
   },
   "outputs": [],
   "source": [
    "eig_rd.sim.setup.n_modes =3\n",
    "\n",
    "eig_rd.sim.setup.min_passes = 1\n",
    "eig_rd.sim.setup.max_passes = 1\n",
    "\n",
    "# eig_rd.sim.setup.min_passes = 15\n",
    "# eig_rd.sim.setup.max_passes = 17\n",
    "\n",
    "\n",
    "eig_rd.sim.setup_update(max_delta_f = 0.5, min_freq_ghz = 1.1)\n",
    "\n",
    "\n",
    "design.qgeometry.tables['junction']\n",
    "qcomps=design.components\n",
    "qcomps['Q1'].options['hfss_inductance'] = 'Lj'\n",
    "qcomps['Q1'].options['hfss_capacitance'] = 'Cj'\n",
    "\n",
    "gui.rebuild()\n",
    "gui.autoscale()\n",
    "\n",
    "\n",
    "eig_rd.sim.run(name=\"chargecoupling\", components=['Q1', 'Charge_Line_1'], open_terminations=[('Charge_Line_1', 'end')], box_plus_buffer = False)\n",
    "\n",
    "\n",
    "eig_rd.sim.plot_convergences()"
   ]
  },
  {
   "cell_type": "code",
   "execution_count": null,
   "metadata": {
    "scrolled": true
   },
   "outputs": [],
   "source": []
  },
  {
   "cell_type": "code",
   "execution_count": null,
   "metadata": {
    "scrolled": true
   },
   "outputs": [],
   "source": []
  },
  {
   "cell_type": "code",
   "execution_count": null,
   "metadata": {
    "scrolled": true
   },
   "outputs": [],
   "source": [
    "eig_rd.sim.setup"
   ]
  },
  {
   "cell_type": "markdown",
   "metadata": {},
   "source": [
    "Recover eigenmode frequencies for each variation."
   ]
  },
  {
   "cell_type": "markdown",
   "metadata": {},
   "source": [
    "Display the Ansys modeler window and plot the E-field on the chip's surface."
   ]
  },
  {
   "cell_type": "code",
   "execution_count": null,
   "metadata": {
    "scrolled": true
   },
   "outputs": [],
   "source": [
    "\n",
    "hfss = eig_rd.sim.renderer\n",
    "hfss.clear_fields(['Mag_E1'])\n",
    "hfss.set_mode(1, \"Setup\")\n",
    "hfss.modeler._modeler.ShowWindow()\n",
    "hfss.plot_fields('main')\n",
    "hfss.save_screenshot()"
   ]
  },
  {
   "cell_type": "markdown",
   "metadata": {},
   "source": [
    "### EPR Analysis\n",
    "Find the electric and magnetic energy stored in the readout system."
   ]
  },
  {
   "cell_type": "code",
   "execution_count": null,
   "metadata": {
    "scrolled": true
   },
   "outputs": [],
   "source": [
    "\n",
    "eig_rd.sim.setup.name"
   ]
  },
  {
   "cell_type": "code",
   "execution_count": null,
   "metadata": {
    "scrolled": true
   },
   "outputs": [],
   "source": [
    "# eig_rd.setup\n",
    "# eig_rd.setup.junctions.jj.rect = 'JJ_rect_Lj_Q1_rect_jj'\n",
    "# eig_rd.setup.junctions.jj.line = 'JJ_Lj_Q1_rect_jj_'\n",
    "\n",
    "# eig_rd.setup\n",
    "\n",
    "eig_rd.setup\n",
    "eig_rd.setup.junctions.jj.rect = 'JJ_rect_Lj_Q2_rect_jj'\n",
    "eig_rd.setup.junctions.jj.line = 'JJ_Lj_Q2_rect_jj_'\n",
    "\n",
    "eig_rd.setup"
   ]
  },
  {
   "cell_type": "code",
   "execution_count": null,
   "metadata": {
    "scrolled": true
   },
   "outputs": [],
   "source": [
    "\n",
    "eig_rd.run_epr()"
   ]
  },
  {
   "cell_type": "code",
   "execution_count": null,
   "metadata": {
    "scrolled": true
   },
   "outputs": [],
   "source": [
    "eig_rd.sim.setup.vars.Lj "
   ]
  },
  {
   "cell_type": "code",
   "execution_count": null,
   "metadata": {
    "scrolled": true
   },
   "outputs": [],
   "source": [
    "eig_rd.sim.close()"
   ]
  },
  {
   "cell_type": "code",
   "execution_count": null,
   "metadata": {
    "scrolled": true
   },
   "outputs": [],
   "source": []
  },
  {
   "cell_type": "markdown",
   "metadata": {},
   "source": [
    "# LOM"
   ]
  },
  {
   "cell_type": "code",
   "execution_count": null,
   "metadata": {
    "scrolled": true
   },
   "outputs": [],
   "source": [
    "from qiskit_metal.analyses.quantization import LOManalysis\n",
    "c1 = LOManalysis(design, \"q3d\")\n",
    "\n",
    "# example: update single setting\n",
    "c1.sim.setup.max_passes = 10\n",
    "# example: update multiple settings\n",
    "c1.sim.setup_update(solution_order = 'Medium', auto_increase_solution_order = 'False')\n",
    "\n",
    "c1.sim.setup\n",
    "\n",
    "\n",
    "c1.sim.run(components=['Q1', 'Store_Q1_1','Storage_Line_1', 'Launch_Storage'], open_terminations=[('Storage_Line_1', 'start')])\n"
   ]
  },
  {
   "cell_type": "code",
   "execution_count": null,
   "metadata": {
    "scrolled": true
   },
   "outputs": [],
   "source": [
    "c1.sim.capacitance_matrix"
   ]
  },
  {
   "cell_type": "code",
   "execution_count": null,
   "metadata": {
    "scrolled": true
   },
   "outputs": [],
   "source": []
  }
 ],
 "metadata": {
  "kernelspec": {
   "display_name": "Python 3 (ipykernel)",
   "language": "python",
   "name": "python3"
  },
  "language_info": {
   "codemirror_mode": {
    "name": "ipython",
    "version": 3
   },
   "file_extension": ".py",
   "mimetype": "text/x-python",
   "name": "python",
   "nbconvert_exporter": "python",
   "pygments_lexer": "ipython3",
   "version": "3.11.4"
  },
  "varInspector": {
   "cols": {
    "lenName": 16,
    "lenType": 16,
    "lenVar": 40
   },
   "kernels_config": {
    "python": {
     "delete_cmd_postfix": "",
     "delete_cmd_prefix": "del ",
     "library": "var_list.py",
     "varRefreshCmd": "print(var_dic_list())"
    },
    "r": {
     "delete_cmd_postfix": ") ",
     "delete_cmd_prefix": "rm(",
     "library": "var_list.r",
     "varRefreshCmd": "cat(var_dic_list()) "
    }
   },
   "types_to_exclude": [
    "module",
    "function",
    "builtin_function_or_method",
    "instance",
    "_Feature"
   ],
   "window_display": false
  }
 },
 "nbformat": 4,
 "nbformat_minor": 4
}

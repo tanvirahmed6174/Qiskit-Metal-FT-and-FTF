{
 "cells": [
  {
   "cell_type": "code",
   "execution_count": 1,
   "id": "7ff0bac0",
   "metadata": {
    "ExecuteTime": {
     "end_time": "2023-08-15T05:18:39.384369Z",
     "start_time": "2023-08-15T05:18:39.345213Z"
    },
    "scrolled": true
   },
   "outputs": [],
   "source": [
    "%load_ext autoreload\n",
    "%autoreload 2"
   ]
  },
  {
   "cell_type": "code",
   "execution_count": 2,
   "id": "18403e0c",
   "metadata": {
    "ExecuteTime": {
     "end_time": "2023-08-15T05:18:42.178978Z",
     "start_time": "2023-08-15T05:18:39.795038Z"
    }
   },
   "outputs": [
    {
     "data": {
      "text/html": [
       "\n",
       "    <h1 style=\"\n",
       "        background: #12c2e9;  /* fallback for old browsers */\n",
       "        background: -webkit-linear-gradient(to right, #d4418e 0%, #0652c5 74%);  /* Chrome 10-25, Safari 5.1-6 */\n",
       "        background: linear-gradient(315deg, #d4418e 0%, #0652c5 74%); /* W3C, IE 10+/ Edge, Firefox 16+, Chrome 26+, Opera 12+, Safari 7+ */\n",
       "        margin-top: 50px;\n",
       "        border-style: outset;\n",
       "        padding-top:100px;\n",
       "        padding-bottom:50px;\n",
       "        padding-left:25px;\n",
       "        color: white;\n",
       "    \"> Welcome to Qiskit Metal! <h1>\n",
       "        "
      ],
      "text/plain": [
       "<IPython.core.display.HTML object>"
      ]
     },
     "metadata": {},
     "output_type": "display_data"
    }
   ],
   "source": [
    "import qiskit_metal as metal\n",
    "from qiskit_metal import designs, draw\n",
    "from qiskit_metal import MetalGUI, Dict, open_docs\n",
    "\n",
    "%metal_heading Welcome to Qiskit Metal!"
   ]
  },
  {
   "cell_type": "code",
   "execution_count": 3,
   "id": "0b17ce5b",
   "metadata": {
    "ExecuteTime": {
     "end_time": "2023-08-15T05:18:42.817628Z",
     "start_time": "2023-08-15T05:18:42.266250Z"
    }
   },
   "outputs": [],
   "source": [
    "design = designs.DesignPlanar()\n",
    "gui = MetalGUI(design)"
   ]
  },
  {
   "cell_type": "code",
   "execution_count": 4,
   "id": "eab6a217",
   "metadata": {
    "ExecuteTime": {
     "end_time": "2023-08-15T05:18:42.958196Z",
     "start_time": "2023-08-15T05:18:42.903741Z"
    }
   },
   "outputs": [
    {
     "data": {
      "text/plain": [
       "{'pos_x': '0.0um',\n",
       " 'pos_y': '0.0um',\n",
       " 'orientation': '0.0',\n",
       " 'chip': 'main',\n",
       " 'layer': '1',\n",
       " 'connection_pads': {},\n",
       " '_default_connection_pads': {'connector_type': '0',\n",
       "  'claw_length': '30um',\n",
       "  'ground_spacing': '5um',\n",
       "  'claw_width': '10um',\n",
       "  'claw_gap': '6um',\n",
       "  'claw_cpw_length': '40um',\n",
       "  'claw_cpw_width': '10um',\n",
       "  'connector_location': '0'},\n",
       " 'cross_width': '20um',\n",
       " 'cross_length': '200um',\n",
       " 'cross_gap': '20um',\n",
       " 'make_fl': True,\n",
       " 'fl_options': {'t_top': '15um',\n",
       "  't_offset': '0um',\n",
       "  't_inductive_gap': '3um',\n",
       "  't_width': '5um',\n",
       "  't_gap': '3um'},\n",
       " 'hfss_wire_bonds': False,\n",
       " 'q3d_wire_bonds': False,\n",
       " 'aedt_q3d_wire_bonds': False,\n",
       " 'aedt_hfss_wire_bonds': False,\n",
       " 'hfss_inductance': '10nH',\n",
       " 'hfss_capacitance': 0,\n",
       " 'hfss_resistance': 0,\n",
       " 'hfss_mesh_kw_jj': 7e-06,\n",
       " 'q3d_inductance': '10nH',\n",
       " 'q3d_capacitance': 0,\n",
       " 'q3d_resistance': 0,\n",
       " 'q3d_mesh_kw_jj': 7e-06,\n",
       " 'gds_cell_name': 'my_other_junction',\n",
       " 'aedt_q3d_inductance': 1e-08,\n",
       " 'aedt_q3d_capacitance': 0,\n",
       " 'aedt_hfss_inductance': 1e-08,\n",
       " 'aedt_hfss_capacitance': 0}"
      ]
     },
     "execution_count": 4,
     "metadata": {},
     "output_type": "execute_result"
    }
   ],
   "source": [
    "from qiskit_metal.qlibrary.qubits.transmon_pocket_6 import TransmonPocket6\n",
    "from qiskit_metal.qlibrary.qubits.transmon_cross_fl import TransmonCrossFL\n",
    "\n",
    "from qiskit_metal.qlibrary.couplers.tunable_coupler_01 import TunableCoupler01\n",
    "\n",
    "from qiskit_metal.qlibrary.tlines.meandered import RouteMeander\n",
    "from qiskit_metal.qlibrary.tlines.pathfinder import RoutePathfinder\n",
    "from qiskit_metal.qlibrary.tlines.anchored_path import RouteAnchors\n",
    "\n",
    "from qiskit_metal.qlibrary.lumped.cap_n_interdigital import CapNInterdigital\n",
    "from qiskit_metal.qlibrary.couplers.cap_n_interdigital_tee import CapNInterdigitalTee\n",
    "from qiskit_metal.qlibrary.couplers.coupled_line_tee import CoupledLineTee\n",
    "\n",
    "from qiskit_metal.qlibrary.terminations.launchpad_wb import LaunchpadWirebond\n",
    "from qiskit_metal.qlibrary.terminations.launchpad_wb_coupled import LaunchpadWirebondCoupled\n",
    "from qiskit_metal.qlibrary.qubits.transmon_cross import TransmonCross\n",
    "from qiskit_metal.qlibrary.tlines.anchored_path import RouteAnchors \n",
    "\n",
    "\n",
    "import numpy as np \n",
    "\n",
    "from collections import OrderedDict \n",
    "\n",
    "TransmonCross.get_template_options(design)\n",
    "TransmonCrossFL.get_template_options(design)"
   ]
  },
  {
   "cell_type": "code",
   "execution_count": 5,
   "id": "4c399195",
   "metadata": {
    "ExecuteTime": {
     "end_time": "2023-08-15T05:18:43.132022Z",
     "start_time": "2023-08-15T05:18:43.089664Z"
    }
   },
   "outputs": [],
   "source": [
    "from qiskit_metal.qlibrary.qubits.transmon_cross_fl_cl import TransmonCrossFL_CL"
   ]
  },
  {
   "cell_type": "code",
   "execution_count": 6,
   "id": "00b2cdce",
   "metadata": {
    "ExecuteTime": {
     "end_time": "2023-08-15T05:18:43.262874Z",
     "start_time": "2023-08-15T05:18:43.221044Z"
    }
   },
   "outputs": [],
   "source": [
    "design.chips.main.size.size_x = '5mm'\n",
    "design.chips.main.size.size_y = '5mm'\n",
    "design.chips.main.size.size_z = '725um'"
   ]
  },
  {
   "cell_type": "code",
   "execution_count": 7,
   "id": "be4d62e4",
   "metadata": {
    "ExecuteTime": {
     "end_time": "2023-08-15T05:18:43.396752Z",
     "start_time": "2023-08-15T05:18:43.352953Z"
    }
   },
   "outputs": [],
   "source": [
    "TransmonPocket6.get_template_options(design)\n",
    "design.overwrite_enabled = True"
   ]
  },
  {
   "cell_type": "code",
   "execution_count": 8,
   "id": "3a6c33e6",
   "metadata": {
    "ExecuteTime": {
     "end_time": "2023-08-15T05:18:52.797169Z",
     "start_time": "2023-08-15T05:18:52.268281Z"
    }
   },
   "outputs": [],
   "source": [
    "pos_list = [-0.9,0,0.9]\n",
    "xmon_options1 =dict(pos_x='-2.10mm',  \n",
    "        pos_y='%smm'%(pos_list[0]), \n",
    "        gds_cell_name ='FakeJunction_01',\n",
    "        hfss_inductance ='8.66nH',\n",
    "        cross_width = '30um',\n",
    "        cross_length = '240um',\n",
    "        cross_gap = '30um',\n",
    "        orientation = '270',\n",
    "        connection_pads=dict(\n",
    "        readout1 = dict(connector_location = '90', connector_type = '0', claw_width ='35um', claw_length ='205um',\n",
    "                        ground_spacing='15um')),\n",
    "        make_fl=False,\n",
    ")\n",
    "\n",
    "q1 = TransmonCrossFL(design, 'Q1', options=xmon_options1)\n",
    "\n",
    "xmon_options2 =dict(pos_x='-2.10mm',  \n",
    "        pos_y='%smm'%(pos_list[1]), \n",
    "        gds_cell_name ='FakeJunction_01',\n",
    "        hfss_inductance ='9.14nH',\n",
    "        cross_width = '30um',\n",
    "        cross_length = '240um',\n",
    "        cross_gap = '30um',\n",
    "        orientation = '270',\n",
    "        connection_pads=dict(\n",
    "        readout2 = dict(connector_location = '90', connector_type = '0', claw_width ='35um', claw_length ='205um',\n",
    "                        ground_spacing='15um')),\n",
    "        make_fl=False,\n",
    ")\n",
    "\n",
    "\n",
    "q2 = TransmonCrossFL(design, 'Q2', options=xmon_options2)\n",
    "\n",
    "\n",
    "xmon_options3 =dict(pos_x='-2.10mm',  \n",
    "        pos_y='%smm'%(pos_list[2]),  \n",
    "        gds_cell_name ='FakeJunction_01',\n",
    "        hfss_inductance ='9.4nH',\n",
    "        cross_width = '30um',\n",
    "        cross_length = '240um',\n",
    "        cross_gap = '30um',\n",
    "        orientation = '270',\n",
    "        connection_pads=dict(\n",
    "        readout3 = dict(connector_location = '90', connector_type = '0', claw_width ='35um', claw_length ='205um',\n",
    "                        ground_spacing='15um')),\n",
    "        make_fl=False,\n",
    ")\n",
    "\n",
    "\n",
    "q3 = TransmonCrossFL(design, 'Q3', options=xmon_options3)\n",
    "\n",
    "\n",
    "pos_list1 = [-0.6,-0.1,0.4]\n",
    "xmon_options4 = dict(pos_x='1.198mm',  \n",
    "        pos_y='%smm'%(pos_list1[0]), \n",
    "        gds_cell_name ='FakeJunction_01',\n",
    "        hfss_inductance ='6nH',\n",
    "        cross_width = '30um',\n",
    "        cross_length = '200um',\n",
    "        cross_gap = '30um',\n",
    "        orientation = '90',\n",
    "        connection_pads=dict(\n",
    "        readout4 = dict(connector_location = '90', connector_type = '0', claw_width ='35um', claw_length ='135um',\n",
    "                        ground_spacing='5um')),\n",
    "                 fl_options =  dict(t_width='10um',t_shift='-30um',t_gap='6um', t_offset='-6um', t_inductive_gap='3um', t_top='56um'), \n",
    "                 cl_options= dict(c_width='10um',c_gap='6um',c_offset='0um', c_angle=0),\n",
    "    )\n",
    "\n",
    "q4 = TransmonCrossFL_CL(design, 'Q4', options=xmon_options4)\n",
    "\n",
    "xmon_options5 = dict(pos_x='1.198mm',  \n",
    "        pos_y='%smm'%(pos_list1[1]), \n",
    "        gds_cell_name ='FakeJunction_01',\n",
    "        hfss_inductance ='8nH',\n",
    "        cross_width = '30um',\n",
    "        cross_length = '200um',\n",
    "        cross_gap = '30um',\n",
    "        orientation = '90',\n",
    "        connection_pads=dict(\n",
    "        readout5 = dict(connector_location = '90', connector_type = '0', claw_width ='35um', claw_length ='170um',\n",
    "                        ground_spacing='5um')),\n",
    "                 fl_options =  dict(t_width='10um',t_shift='30um',t_gap='6um', t_offset='6um', t_inductive_gap='3um', t_top='56um'), \n",
    "                 cl_options= dict(c_width='10um',c_gap='6um',c_offset='-30um', c_angle=90, c_translate_x='-190um', c_translate_y='-140um'),\n",
    "    )\n",
    "\n",
    "\n",
    "q5 = TransmonCrossFL_CL(design, 'Q5', options=xmon_options5)\n",
    "\n",
    "\n",
    "xmon_options6 = dict(pos_x='1.198mm',  \n",
    "        pos_y='%smm'%(pos_list1[2]), \n",
    "        gds_cell_name ='FakeJunction_01',\n",
    "        hfss_inductance ='6.2nH',\n",
    "        cross_width = '30um',\n",
    "        cross_length = '200um',\n",
    "        cross_gap = '30um',\n",
    "        orientation = '90',\n",
    "        connection_pads=dict(\n",
    "        readout6 = dict(connector_location = '90', connector_type = '0', claw_width ='35um', claw_length ='135um',\n",
    "                        ground_spacing='5um')),\n",
    "                 fl_options =  dict(t_width='10um',t_shift='-30um',t_gap='6um', t_offset='-6um', t_inductive_gap='3um', t_top='56um'), \n",
    "                 cl_options= dict(c_width='10um',c_gap='6um',c_offset='0um', c_angle=180),\n",
    "\n",
    "    )\n",
    "\n",
    "\n",
    "q6 = TransmonCrossFL_CL(design, 'Q6', options=xmon_options6)\n",
    "\n",
    "\n",
    "\n",
    "gui.rebuild()\n",
    "gui.autoscale()"
   ]
  },
  {
   "cell_type": "code",
   "execution_count": null,
   "id": "0d801663",
   "metadata": {},
   "outputs": [],
   "source": []
  },
  {
   "cell_type": "code",
   "execution_count": null,
   "id": "117489f5",
   "metadata": {},
   "outputs": [],
   "source": [
    "q1_read_T = CoupledLineTee(design,'Q1_Read_T', options=dict(pos_x = '-0.65mm', pos_y = '%smm'%(pos_list[0]+0.05), \n",
    "                                                        orientation = '270', \n",
    "                                                        coupling_length = '200um',\n",
    "                                                        coupling_space = '7um',\n",
    "                                                        down_length ='70um',\n",
    "                                                        fillet = \"50um\",\n",
    "                                                        mirror = True,\n",
    "                                                        open_termination = False))\n",
    "\n",
    "q2_read_T = CoupledLineTee(design,'Q2_Read_T', options=dict(pos_x = '-0.65mm', pos_y = '%smm'%(pos_list[1]+0.05), \n",
    "                                                        orientation = '270', \n",
    "                                                        coupling_length = '200um',\n",
    "                                                        coupling_space = '7um',\n",
    "                                                        down_length ='70um',\n",
    "                                                        fillet = \"50um\",\n",
    "                                                        mirror = True,\n",
    "                                                        open_termination = False))\n",
    "\n",
    "q3_read_T = CoupledLineTee(design,'Q3_Read_T', options=dict(pos_x = '-0.65mm', pos_y = '%smm'%(pos_list[2]+0.05), \n",
    "                                                        orientation = '270', \n",
    "                                                        coupling_length = '200um',\n",
    "                                                        coupling_space = '7um',\n",
    "                                                        down_length ='70um',\n",
    "                                                        fillet = \"50um\",\n",
    "                                                        mirror = True,\n",
    "                                                        open_termination = False))\n",
    "\n",
    "q4_read_T = CoupledLineTee(design,'Q4_Read_T', options=dict(pos_x = '-0.38mm', pos_y = '%smm'%(pos_list1[0]+0.045), \n",
    "                                                        orientation = '90', \n",
    "                                                        coupling_length = '235um',\n",
    "                                                        coupling_space = '5um',\n",
    "                                                        down_length ='70um',\n",
    "                                                        fillet = \"50um\",\n",
    "                                                        mirror = False,\n",
    "                                                        open_termination = False))\n",
    "\n",
    "q5_read_T = CoupledLineTee(design,'Q5_Read_T', options=dict(pos_x = '-0.38mm', pos_y = '%smm'%(pos_list1[1]+0.045),  \n",
    "                                                        orientation = '90', \n",
    "                                                        coupling_length = '250um',\n",
    "                                                        coupling_space = '4um',\n",
    "                                                        down_length ='70um',\n",
    "                                                        fillet = \"50um\",\n",
    "                                                        mirror = False,\n",
    "                                                        open_termination = False))\n",
    "\n",
    "q6_read_T = CoupledLineTee(design,'Q6_Read_T', options=dict(pos_x = '-0.38mm', pos_y = '%smm'%(pos_list1[2]+0.045), \n",
    "                                                        orientation = '90', \n",
    "                                                        coupling_length = '235um',\n",
    "                                                        coupling_space = '4um',\n",
    "                                                        down_length ='70um',\n",
    "                                                        fillet = \"50um\",\n",
    "                                                        mirror = False,\n",
    "                                                        open_termination = False))\n",
    "\n",
    "\n",
    "#We use finger count to set the width of the gap capacitance, -> N*cap_width + (N-1)*cap_gap\n",
    "\n",
    "gui.rebuild()\n",
    "gui.autoscale()"
   ]
  },
  {
   "cell_type": "code",
   "execution_count": null,
   "id": "178d1966",
   "metadata": {},
   "outputs": [],
   "source": [
    "launch_nw = LaunchpadWirebond(design, 'Launch_NW',options = dict( pos_x=' -1.1250mm', pos_y = '%smm'%(pos_list[1]-1.954), pad_width='160um', pad_gap_x= '96um', pad_gap_y= '100um', pad_height='200um', taper_height='150um',orientation=90))\n",
    "launch_ne = LaunchpadWirebond(design, 'Launch_NE',options = dict( pos_x=' -1.1250mm', pos_y = '%smm'%(pos_list[1]+1.954),pad_width='160um', pad_gap_x= '96um', pad_gap_y= '100um', pad_height='200um', taper_height='150um',orientation=270))\n",
    "\n",
    "launch_nw2 = LaunchpadWirebond(design, 'Launch_NW2',options = dict(pos_x='-0.38mm',pos_y = '%smm'%(pos_list[1]-1.954),  pad_width='160um', pad_gap_x= '96um', pad_gap_y= '100um', pad_height='200um', taper_height='150um',orientation=90))\n",
    "launch_ne2 = LaunchpadWirebond(design, 'Launch_NE2',options = dict(pos_x='-0.38mm',pos_y = '%smm'%(pos_list[1]+1.954), pad_width='160um', pad_gap_x= '96um', pad_gap_y= '100um', pad_height='200um', taper_height='150um',orientation=270))\n",
    "\n",
    "\n",
    "gui.rebuild()"
   ]
  },
  {
   "cell_type": "code",
   "execution_count": null,
   "id": "6565d00c",
   "metadata": {},
   "outputs": [],
   "source": [
    "read_q1 = RouteMeander(design,'Read_Q1', options = dict(hfss_wire_bonds = True, \n",
    "                                            pin_inputs=Dict(\n",
    "                                                start_pin=Dict(\n",
    "                                                    component='Q1',\n",
    "                                                    pin='readout1'),\n",
    "                                                end_pin=Dict(\n",
    "                                                    component='Q1_Read_T',\n",
    "                                                    pin='second_end')\n",
    "                                            ),\n",
    "                                            lead=Dict(\n",
    "                                                start_straight='50um',\n",
    "                                                end_straight = '70um',\n",
    "                                                #start_jogged_extension = jogs_start,\n",
    "                                                #end_jogged_extension = jogs_end\n",
    "                                            ),\n",
    "                                            meander=Dict(spacing = \"100um\",\n",
    "                                                asymmetry = '0um'),\n",
    "                                            fillet = \"49um\",\n",
    "                                            spacing = \"160um\",   \n",
    "                                            total_length = '3mm'))\n",
    "\n",
    "read_q2 = RouteMeander(design,'Read_Q2', options = dict(hfss_wire_bonds = True, \n",
    "                                            pin_inputs=Dict(\n",
    "                                                start_pin=Dict(\n",
    "                                                    component='Q2',\n",
    "                                                    pin='readout2'),\n",
    "                                                end_pin=Dict(\n",
    "                                                    component='Q2_Read_T',\n",
    "                                                    pin='second_end')\n",
    "                                            ),\n",
    "                                            lead=Dict(\n",
    "                                                start_straight='50um',\n",
    "                                                end_straight = '70um',\n",
    "                                                #start_jogged_extension = jogs_start,\n",
    "                                                #end_jogged_extension = jogs_end\n",
    "                                            ),\n",
    "                                            meander=Dict(spacing = \"100um\",\n",
    "                                                asymmetry = '0um'),\n",
    "                                            fillet = \"49um\",\n",
    "                                            spacing = \"160um\",   \n",
    "                                            total_length = '3.1mm'))\n",
    "\n",
    "read_q3 = RouteMeander(design,'Read_Q3', options = dict(hfss_wire_bonds = True, \n",
    "                                            pin_inputs=Dict(\n",
    "                                                start_pin=Dict(\n",
    "                                                    component='Q3',\n",
    "                                                    pin='readout3'),\n",
    "                                                end_pin=Dict(\n",
    "                                                    component='Q3_Read_T',\n",
    "                                                    pin='second_end')\n",
    "                                            ),\n",
    "                                            lead=Dict(\n",
    "                                                start_straight='50um',\n",
    "                                                end_straight = '70um',\n",
    "                                                #start_jogged_extension = jogs_start,\n",
    "                                                #end_jogged_extension = jogs_end\n",
    "                                            ),\n",
    "                                            meander=Dict(spacing = \"100um\",\n",
    "                                                asymmetry = '0um'),\n",
    "                                            fillet = \"49um\",\n",
    "                                            spacing = \"160um\",   \n",
    "                                            total_length = '3.2mm'))\n",
    "\n",
    "read_q4 = RouteMeander(design,'Read_Q4', options = dict(hfss_wire_bonds = True, \n",
    "                                            pin_inputs=Dict(\n",
    "                                                start_pin=Dict(\n",
    "                                                    component='Q4',\n",
    "                                                    pin='readout4'),\n",
    "                                                end_pin=Dict(\n",
    "                                                    component='Q4_Read_T',\n",
    "                                                    pin='second_end')\n",
    "                                            ),\n",
    "                                            lead=Dict(\n",
    "                                                start_straight='110um',\n",
    "                                                end_straight = '90um',\n",
    "                                                #start_jogged_extension = jogs_start,\n",
    "                                                #end_jogged_extension = jogs_end\n",
    "                                            ),\n",
    "                                            meander=Dict(spacing = \"110um\",\n",
    "                                                asymmetry = '0um'),\n",
    "                                            fillet = \"40um\",\n",
    "                                            spacing = \"160um\",   \n",
    "                                            total_length = '2.9mm'))\n",
    "\n",
    "read_q5 = RouteMeander(design,'Read_Q5', options = dict(hfss_wire_bonds = True, \n",
    "                                            pin_inputs=Dict(\n",
    "                                                start_pin=Dict(\n",
    "                                                    component='Q5',\n",
    "                                                    pin='readout5'),\n",
    "                                                end_pin=Dict(\n",
    "                                                    component='Q5_Read_T',\n",
    "                                                    pin='second_end')\n",
    "                                            ),\n",
    "                                            lead=Dict(\n",
    "                                                start_straight='110um',\n",
    "                                                end_straight = '90um',\n",
    "                                                #start_jogged_extension = jogs_start,\n",
    "                                                #end_jogged_extension = jogs_end\n",
    "                                            ),\n",
    "                                            meander=Dict(spacing = \"110um\",\n",
    "                                                asymmetry = '0um'),\n",
    "                                            fillet = \"49um\",\n",
    "                                            spacing = \"160um\",   \n",
    "                                            total_length = '3mm'))\n",
    "\n",
    "read_q6 = RouteMeander(design,'Read_Q6', options = dict(hfss_wire_bonds = True, \n",
    "                                            pin_inputs=Dict(\n",
    "                                                start_pin=Dict(\n",
    "                                                    component='Q6',\n",
    "                                                    pin='readout6'),\n",
    "                                                end_pin=Dict(\n",
    "                                                    component='Q6_Read_T',\n",
    "                                                    pin='second_end')\n",
    "                                            ),\n",
    "                                            lead=Dict(\n",
    "                                                start_straight='110um',\n",
    "                                                end_straight = '90um',\n",
    "                                                #start_jogged_extension = jogs_start,\n",
    "                                                #end_jogged_extension = jogs_end\n",
    "                                            ),\n",
    "                                            meander=Dict(spacing = \"110um\",\n",
    "                                                asymmetry = '0um'),\n",
    "                                            fillet = \"49um\",\n",
    "                                            spacing = \"160um\",   \n",
    "                                            total_length = '3.1mm'))\n",
    "\n",
    "gui.rebuild()"
   ]
  },
  {
   "cell_type": "code",
   "execution_count": null,
   "id": "4af8fdd1",
   "metadata": {},
   "outputs": [],
   "source": [
    "mp_tl_01 = RoutePathfinder(design, 'ML_TL_01', options = dict(hfss_wire_bonds = True,\n",
    "                                                    pin_inputs = dict(\n",
    "                                                    start_pin=Dict(\n",
    "                                                        component='Launch_NW',\n",
    "                                                        pin='tie'),\n",
    "                                                    end_pin=Dict(\n",
    "                                                        component='Q1_Read_T',\n",
    "                                                        pin='prime_end')),\n",
    "                                                    fillet = '99um',\n",
    "                                                 lead=Dict(\n",
    "                                                start_straight='500um',\n",
    "                                                end_straight = '300um',\n",
    "                                                #start_jogged_extension = jogs_start,\n",
    "                                                #end_jogged_extension = jogs_end\n",
    "                                                  ),\n",
    "                                            ))\n",
    "\n",
    "\n",
    "mp_tl_02 = RoutePathfinder(design, 'ML_TL_02', options = dict(hfss_wire_bonds = True,\n",
    "                                                    pin_inputs = dict(\n",
    "                                                    start_pin=Dict(\n",
    "                                                        component='Q1_Read_T',\n",
    "                                                        pin='prime_start'),\n",
    "                                                    end_pin=Dict(\n",
    "                                                        component='Q2_Read_T',\n",
    "                                                        pin='prime_end'))\n",
    "                                            ))\n",
    "\n",
    "\n",
    "\n",
    "\n",
    "mp_tl_03 = RoutePathfinder(design, 'ML_TL_03', options = dict(hfss_wire_bonds = True,\n",
    "                                                    pin_inputs = dict(\n",
    "                                                    start_pin=Dict(\n",
    "                                                        component='Q2_Read_T',\n",
    "                                                        pin='prime_start'),\n",
    "                                                    end_pin=Dict(\n",
    "                                                        component='Q3_Read_T',\n",
    "                                                        pin='prime_end'))\n",
    "                                            ))\n",
    "\n",
    "mp_tl_04 = RoutePathfinder(design, 'ML_TL_04', options = dict(hfss_wire_bonds = True,\n",
    "                                                    pin_inputs = dict(\n",
    "                                                    start_pin=Dict(\n",
    "                                                        component='Q3_Read_T',\n",
    "                                                        pin='prime_start'),\n",
    "                                                    end_pin=Dict(\n",
    "                                                        component='Launch_NE',\n",
    "                                                        pin='tie')),\n",
    "                                                    fillet = '99um',\n",
    "                                                    lead=Dict(\n",
    "                                                    start_straight='500um',\n",
    "                                                     end_straight = '100um',\n",
    "                                                #start_jogged_extension = jogs_start,\n",
    "                                                #end_jogged_extension = jogs_end\n",
    "                                                  ),\n",
    "                                            ))\n",
    "\n",
    "\n",
    "gui.rebuild()\n",
    "\n",
    "gui.autoscale()"
   ]
  },
  {
   "cell_type": "code",
   "execution_count": null,
   "id": "e88bc7e0",
   "metadata": {
    "scrolled": true
   },
   "outputs": [],
   "source": [
    "mp_tl_05 = RoutePathfinder(design, 'ML_TL_05', options = dict(hfss_wire_bonds = True,\n",
    "                                                    pin_inputs = dict(\n",
    "                                                    start_pin=Dict(\n",
    "                                                        component='Launch_NW2',\n",
    "                                                        pin='tie'),\n",
    "                                                    end_pin=Dict(\n",
    "                                                        component='Q4_Read_T',\n",
    "                                                        pin='prime_start')),\n",
    "                                                    fillet = '99um',\n",
    "                                                 lead=Dict(\n",
    "                                                start_straight='500um',\n",
    "                                                end_straight = '300um',\n",
    "                                                #start_jogged_extension = jogs_start,\n",
    "                                                #end_jogged_extension = jogs_end\n",
    "                                                  ),\n",
    "                                            ))\n",
    "\n",
    "\n",
    "mp_tl_06 = RoutePathfinder(design, 'ML_TL_06', options = dict(hfss_wire_bonds = True,\n",
    "                                                    pin_inputs = dict(\n",
    "                                                    start_pin=Dict(\n",
    "                                                        component='Q4_Read_T',\n",
    "                                                        pin='prime_end'),\n",
    "                                                    end_pin=Dict(\n",
    "                                                        component='Q5_Read_T',\n",
    "                                                        pin='prime_start'))\n",
    "                                            ))\n",
    "\n",
    "\n",
    "\n",
    "\n",
    "mp_tl_07 = RoutePathfinder(design, 'ML_TL_07', options = dict(hfss_wire_bonds = True,\n",
    "                                                    pin_inputs = dict(\n",
    "                                                    start_pin=Dict(\n",
    "                                                        component='Q5_Read_T',\n",
    "                                                        pin='prime_end'),\n",
    "                                                    end_pin=Dict(\n",
    "                                                        component='Q6_Read_T',\n",
    "                                                        pin='prime_start'))\n",
    "                                            ))\n",
    "\n",
    "mp_tl_08 = RoutePathfinder(design, 'ML_TL_08', options = dict(hfss_wire_bonds = True,\n",
    "                                                    pin_inputs = dict(\n",
    "                                                    start_pin=Dict(\n",
    "                                                        component='Q6_Read_T',\n",
    "                                                        pin='prime_end'),\n",
    "                                                    end_pin=Dict(\n",
    "                                                        component='Launch_NE2',\n",
    "                                                        pin='tie')),\n",
    "                                                    fillet = '60um',\n",
    "                                                    lead=Dict(\n",
    "                                                    start_straight='100um',\n",
    "                                                     end_straight = '500um',\n",
    "                                                #start_jogged_extension = jogs_start,\n",
    "                                                #end_jogged_extension = jogs_end\n",
    "                                                  ),\n",
    "                                            ))\n",
    "\n",
    "\n",
    "gui.rebuild()\n",
    "\n",
    "gui.autoscale()"
   ]
  },
  {
   "cell_type": "code",
   "execution_count": null,
   "id": "2da3f981",
   "metadata": {},
   "outputs": [],
   "source": [
    "launch_flux_options4 = dict(trace_width= '5um',trace_gap= '3um', pos_x='1.954mm',pos_y='-1.8mm',pad_width='160um', pad_gap_x= '96um', pad_gap_y= '100um', pad_height='200um', taper_height='150um',  orientation='180', lead_length='30um')\n",
    "launch_flux_options5 = dict(trace_width= '5um',trace_gap= '3um', pos_x='1.954mm',pos_y='0.6mm',pad_width='160um', pad_gap_x= '96um', pad_gap_y= '100um', pad_height='200um', taper_height='150um',  orientation='180', lead_length='30um')\n",
    "launch_flux_options6 = dict(trace_width= '5um',trace_gap= '3um', pos_x='1.954mm',pos_y='1.8mm',pad_width='160um', pad_gap_x= '96um', pad_gap_y= '100um', pad_height='200um', taper_height='150um',  orientation='180', lead_length='30um')\n",
    "lf4 = LaunchpadWirebond(design, 'Launch_Flux4', options = launch_flux_options4)\n",
    "lf5 = LaunchpadWirebond(design, 'Launch_Flux5', options = launch_flux_options5)\n",
    "lf6 = LaunchpadWirebond(design, 'Launch_Flux6', options = launch_flux_options6)"
   ]
  },
  {
   "cell_type": "code",
   "execution_count": null,
   "id": "91ae063e",
   "metadata": {},
   "outputs": [],
   "source": [
    "flux_line_Q5 = RoutePathfinder(design,'Flux_Line_5', options = dict(hfss_wire_bonds = True,\n",
    "                                            pin_inputs=Dict(\n",
    "                                                start_pin=Dict(\n",
    "                                                    component='Q5',\n",
    "                                                    pin='flux_line'),\n",
    "                                                end_pin=Dict(\n",
    "                                                    component='Launch_Flux5',\n",
    "                                                    pin='tie')),\n",
    "                                            lead=Dict(\n",
    "                                                start_straight='175um',\n",
    "                                                end_straight = '150um',\n",
    "                                                #end_jogged_extension = jogs_end\n",
    "                                            ),\n",
    "                                            fillet = '99um',\n",
    "                                            trace_width = '5um',\n",
    "                                            trace_gap = '3um',\n",
    "                                            #anchors = anchors\n",
    "                                            ))\n",
    "\n",
    "\n",
    "gui.rebuild()\n",
    "gui.autoscale()"
   ]
  },
  {
   "cell_type": "code",
   "execution_count": null,
   "id": "7749c1d0",
   "metadata": {},
   "outputs": [],
   "source": [
    "\n",
    "\n",
    "flux_line_Q4 = RoutePathfinder(design,'Flux_Line_4', options = dict(hfss_wire_bonds = True,\n",
    "                                            pin_inputs=Dict(\n",
    "                                                start_pin=Dict(\n",
    "                                                    component='Q4',\n",
    "                                                    pin='flux_line'),\n",
    "                                                end_pin=Dict(\n",
    "                                                    component='Launch_Flux4',\n",
    "                                                    pin='tie')),\n",
    "                                            lead=Dict(\n",
    "                                                start_straight='175um',\n",
    "                                                end_straight = '150um',\n",
    "                                                #end_jogged_extension = jogs_end\n",
    "                                            ),\n",
    "                                            fillet = '99um',\n",
    "                                            trace_width = '5um',\n",
    "                                            trace_gap = '3um',\n",
    "                                            #anchors = anchors\n",
    "                                            ))\n",
    "\n",
    "\n",
    "\n",
    "flux_line_Q6 = RoutePathfinder(design,'Flux_Line_6', options = dict(hfss_wire_bonds = True,\n",
    "                                            pin_inputs=Dict(\n",
    "                                                start_pin=Dict(\n",
    "                                                    component='Q6',\n",
    "                                                    pin='flux_line'),\n",
    "                                                end_pin=Dict(\n",
    "                                                    component='Launch_Flux6',\n",
    "                                                    pin='tie')),\n",
    "                                            lead=Dict(\n",
    "                                                start_straight='175um',\n",
    "                                                end_straight = '150um',\n",
    "                                                #end_jogged_extension = jogs_end\n",
    "                                            ),\n",
    "                                            fillet = '99um',\n",
    "                                            trace_width = '5um',\n",
    "                                            trace_gap = '3um',\n",
    "                                            #anchors = anchors\n",
    "                                            ))\n",
    "\n",
    "\n",
    "\n",
    "gui.rebuild()\n",
    "gui.autoscale()\n"
   ]
  },
  {
   "cell_type": "code",
   "execution_count": null,
   "id": "289a2d01",
   "metadata": {},
   "outputs": [],
   "source": [
    "launch_charge_options4 = dict(trace_width= '5um',trace_gap= '3um', pos_x='0.375mm',pos_y='%smm'%(pos_list[1]-1.954),pad_width='160um', pad_gap_x= '96um', pad_gap_y= '100um', pad_height='200um', taper_height='150um',  orientation='90', lead_length='30um')\n",
    "launch_charge_options5 = dict(trace_width= '5um',trace_gap= '3um', pos_x='1.954mm', pos_y='-0.6mm',pad_width='160um', pad_gap_x= '96um', pad_gap_y= '100um', pad_height='200um', taper_height='150um', orientation='180', lead_length='30um')\n",
    "launch_charge_options6 = dict(trace_width= '5um',trace_gap= '3um', pos_x='0.375mm',pos_y='%smm'%(pos_list[1]+1.954), pad_width='160um', pad_gap_x= '96um', pad_gap_y= '100um', pad_height='200um', taper_height='150um',orientation='270', lead_length='30um')\n",
    "\n",
    "# launch_nw2 = LaunchpadWirebond(design, 'Launch_NW2',options = dict(pos_x = '%smm'%(pos_list[1]-1.954), pos_y='0.19mm', orientation=0))\n",
    "# launch_ne2 = LaunchpadWirebond(design, 'Launch_NE2',options = dict(pos_x = '%smm'%(pos_list[1]+1.954), pos_y='0.19mm', orientation=180))\n",
    "\n",
    "\n",
    "lc4 = LaunchpadWirebond(design, 'Launch_Charge4', options = launch_charge_options4)\n",
    "lc5 = LaunchpadWirebond(design, 'Launch_Charge5', options = launch_charge_options5)\n",
    "lc6 = LaunchpadWirebond(design, 'Launch_Charge6', options = launch_charge_options6)\n",
    "\n",
    "\n",
    "gui.rebuild()\n",
    "gui.autoscale()\n"
   ]
  },
  {
   "cell_type": "code",
   "execution_count": null,
   "id": "5e356cb3",
   "metadata": {},
   "outputs": [],
   "source": [
    "\n",
    "charge_line_Q4 = RoutePathfinder(design,'Charge_Line_4', options = dict(hfss_wire_bonds = True,\n",
    "                                            pin_inputs=Dict(\n",
    "                                                start_pin=Dict(\n",
    "                                                    component='Q4',\n",
    "                                                    pin='charge_line'),\n",
    "                                                end_pin=Dict(\n",
    "                                                    component='Launch_Charge4',\n",
    "                                                    pin='tie')),\n",
    "                                            lead=Dict(\n",
    "                                                start_straight='175um',\n",
    "                                                end_straight = '150um',\n",
    "                                                #end_jogged_extension = jogs_end\n",
    "                                            ),\n",
    "                                            fillet = '99um',\n",
    "                                            trace_width = '5um',\n",
    "                                            trace_gap = '3um',\n",
    "                                            #anchors = anchors\n",
    "                                            ))\n",
    "\n",
    "charge_line_Q5 = RoutePathfinder(design,'Charge_Line_5', options = dict(hfss_wire_bonds = True,\n",
    "                                            pin_inputs=Dict(\n",
    "                                                start_pin=Dict(\n",
    "                                                    component='Q5',\n",
    "                                                    pin='charge_line'),\n",
    "                                                end_pin=Dict(\n",
    "                                                    component='Launch_Charge5',\n",
    "                                                    pin='tie')),\n",
    "                                            lead=Dict(\n",
    "                                                start_straight='175um',\n",
    "                                                end_straight = '150um',\n",
    "                                                #end_jogged_extension = jogs_end\n",
    "                                            ),\n",
    "                                            fillet = '50um',\n",
    "                                            trace_width = '5um',\n",
    "                                            trace_gap = '3um',\n",
    "                                            #anchors = anchors\n",
    "                                            ))\n",
    "\n",
    "charge_line_Q6 = RoutePathfinder(design,'Charge_Line_6', options = dict(hfss_wire_bonds = True,\n",
    "                                            pin_inputs=Dict(\n",
    "                                                start_pin=Dict(\n",
    "                                                    component='Q6',\n",
    "                                                    pin='charge_line'),\n",
    "                                                end_pin=Dict(\n",
    "                                                    component='Launch_Charge6',\n",
    "                                                    pin='tie')),\n",
    "                                            lead=Dict(\n",
    "                                                start_straight='175um',\n",
    "                                                end_straight = '150um',\n",
    "                                                #end_jogged_extension = jogs_end\n",
    "                                            ),\n",
    "                                            fillet = '99um',\n",
    "                                            trace_width = '5um',\n",
    "                                            trace_gap = '3um',\n",
    "                                            #anchors = anchors\n",
    "                                            ))\n",
    "\n",
    "\n",
    "\n",
    "\n",
    "gui.rebuild()\n",
    "gui.autoscale()"
   ]
  },
  {
   "cell_type": "code",
   "execution_count": null,
   "id": "41cb1a28",
   "metadata": {},
   "outputs": [],
   "source": []
  },
  {
   "cell_type": "code",
   "execution_count": 9,
   "id": "6bfa608e",
   "metadata": {
    "ExecuteTime": {
     "end_time": "2023-08-15T05:19:25.218720Z",
     "start_time": "2023-08-15T05:19:25.139028Z"
    },
    "scrolled": true
   },
   "outputs": [
    {
     "data": {
      "text/html": [
       "<div>\n",
       "<style scoped>\n",
       "    .dataframe tbody tr th:only-of-type {\n",
       "        vertical-align: middle;\n",
       "    }\n",
       "\n",
       "    .dataframe tbody tr th {\n",
       "        vertical-align: top;\n",
       "    }\n",
       "\n",
       "    .dataframe thead th {\n",
       "        text-align: right;\n",
       "    }\n",
       "</style>\n",
       "<table border=\"1\" class=\"dataframe\">\n",
       "  <thead>\n",
       "    <tr style=\"text-align: right;\">\n",
       "      <th></th>\n",
       "      <th>component</th>\n",
       "      <th>name</th>\n",
       "      <th>geometry</th>\n",
       "      <th>layer</th>\n",
       "      <th>subtract</th>\n",
       "      <th>helper</th>\n",
       "      <th>chip</th>\n",
       "      <th>width</th>\n",
       "      <th>hfss_inductance</th>\n",
       "      <th>hfss_capacitance</th>\n",
       "      <th>...</th>\n",
       "      <th>hfss_mesh_kw_jj</th>\n",
       "      <th>q3d_inductance</th>\n",
       "      <th>q3d_capacitance</th>\n",
       "      <th>q3d_resistance</th>\n",
       "      <th>q3d_mesh_kw_jj</th>\n",
       "      <th>gds_cell_name</th>\n",
       "      <th>aedt_q3d_inductance</th>\n",
       "      <th>aedt_q3d_capacitance</th>\n",
       "      <th>aedt_hfss_inductance</th>\n",
       "      <th>aedt_hfss_capacitance</th>\n",
       "    </tr>\n",
       "  </thead>\n",
       "  <tbody>\n",
       "    <tr>\n",
       "      <th>0</th>\n",
       "      <td>1</td>\n",
       "      <td>rect_jj</td>\n",
       "      <td>LINESTRING (-2.34000 -0.90000, -2.37000 -0.90000)</td>\n",
       "      <td>1</td>\n",
       "      <td>False</td>\n",
       "      <td>False</td>\n",
       "      <td>main</td>\n",
       "      <td>0.03</td>\n",
       "      <td>8.66nH</td>\n",
       "      <td>0</td>\n",
       "      <td>...</td>\n",
       "      <td>0.000007</td>\n",
       "      <td>10nH</td>\n",
       "      <td>0</td>\n",
       "      <td>0</td>\n",
       "      <td>0.000007</td>\n",
       "      <td>FakeJunction_01</td>\n",
       "      <td>1.000000e-08</td>\n",
       "      <td>0</td>\n",
       "      <td>1.000000e-08</td>\n",
       "      <td>0</td>\n",
       "    </tr>\n",
       "    <tr>\n",
       "      <th>1</th>\n",
       "      <td>2</td>\n",
       "      <td>rect_jj</td>\n",
       "      <td>LINESTRING (-2.34000 0.00000, -2.37000 0.00000)</td>\n",
       "      <td>1</td>\n",
       "      <td>False</td>\n",
       "      <td>False</td>\n",
       "      <td>main</td>\n",
       "      <td>0.03</td>\n",
       "      <td>9.14nH</td>\n",
       "      <td>0</td>\n",
       "      <td>...</td>\n",
       "      <td>0.000007</td>\n",
       "      <td>10nH</td>\n",
       "      <td>0</td>\n",
       "      <td>0</td>\n",
       "      <td>0.000007</td>\n",
       "      <td>FakeJunction_01</td>\n",
       "      <td>1.000000e-08</td>\n",
       "      <td>0</td>\n",
       "      <td>1.000000e-08</td>\n",
       "      <td>0</td>\n",
       "    </tr>\n",
       "    <tr>\n",
       "      <th>2</th>\n",
       "      <td>3</td>\n",
       "      <td>rect_jj</td>\n",
       "      <td>LINESTRING (-2.34000 0.90000, -2.37000 0.90000)</td>\n",
       "      <td>1</td>\n",
       "      <td>False</td>\n",
       "      <td>False</td>\n",
       "      <td>main</td>\n",
       "      <td>0.03</td>\n",
       "      <td>9.4nH</td>\n",
       "      <td>0</td>\n",
       "      <td>...</td>\n",
       "      <td>0.000007</td>\n",
       "      <td>10nH</td>\n",
       "      <td>0</td>\n",
       "      <td>0</td>\n",
       "      <td>0.000007</td>\n",
       "      <td>FakeJunction_01</td>\n",
       "      <td>1.000000e-08</td>\n",
       "      <td>0</td>\n",
       "      <td>1.000000e-08</td>\n",
       "      <td>0</td>\n",
       "    </tr>\n",
       "    <tr>\n",
       "      <th>3</th>\n",
       "      <td>4</td>\n",
       "      <td>rect_jj</td>\n",
       "      <td>LINESTRING (1.39800 -0.60000, 1.42800 -0.60000)</td>\n",
       "      <td>1</td>\n",
       "      <td>False</td>\n",
       "      <td>False</td>\n",
       "      <td>main</td>\n",
       "      <td>0.03</td>\n",
       "      <td>6nH</td>\n",
       "      <td>0</td>\n",
       "      <td>...</td>\n",
       "      <td>0.000007</td>\n",
       "      <td>10nH</td>\n",
       "      <td>0</td>\n",
       "      <td>0</td>\n",
       "      <td>0.000007</td>\n",
       "      <td>FakeJunction_01</td>\n",
       "      <td>1.000000e-08</td>\n",
       "      <td>0</td>\n",
       "      <td>1.000000e-08</td>\n",
       "      <td>0</td>\n",
       "    </tr>\n",
       "    <tr>\n",
       "      <th>4</th>\n",
       "      <td>5</td>\n",
       "      <td>rect_jj</td>\n",
       "      <td>LINESTRING (1.39800 -0.10000, 1.42800 -0.10000)</td>\n",
       "      <td>1</td>\n",
       "      <td>False</td>\n",
       "      <td>False</td>\n",
       "      <td>main</td>\n",
       "      <td>0.03</td>\n",
       "      <td>8nH</td>\n",
       "      <td>0</td>\n",
       "      <td>...</td>\n",
       "      <td>0.000007</td>\n",
       "      <td>10nH</td>\n",
       "      <td>0</td>\n",
       "      <td>0</td>\n",
       "      <td>0.000007</td>\n",
       "      <td>FakeJunction_01</td>\n",
       "      <td>1.000000e-08</td>\n",
       "      <td>0</td>\n",
       "      <td>1.000000e-08</td>\n",
       "      <td>0</td>\n",
       "    </tr>\n",
       "    <tr>\n",
       "      <th>5</th>\n",
       "      <td>6</td>\n",
       "      <td>rect_jj</td>\n",
       "      <td>LINESTRING (1.39800 0.40000, 1.42800 0.40000)</td>\n",
       "      <td>1</td>\n",
       "      <td>False</td>\n",
       "      <td>False</td>\n",
       "      <td>main</td>\n",
       "      <td>0.03</td>\n",
       "      <td>6.2nH</td>\n",
       "      <td>0</td>\n",
       "      <td>...</td>\n",
       "      <td>0.000007</td>\n",
       "      <td>10nH</td>\n",
       "      <td>0</td>\n",
       "      <td>0</td>\n",
       "      <td>0.000007</td>\n",
       "      <td>FakeJunction_01</td>\n",
       "      <td>1.000000e-08</td>\n",
       "      <td>0</td>\n",
       "      <td>1.000000e-08</td>\n",
       "      <td>0</td>\n",
       "    </tr>\n",
       "  </tbody>\n",
       "</table>\n",
       "<p>6 rows × 21 columns</p>\n",
       "</div>"
      ],
      "text/plain": [
       "  component     name                                           geometry  \\\n",
       "0         1  rect_jj  LINESTRING (-2.34000 -0.90000, -2.37000 -0.90000)   \n",
       "1         2  rect_jj    LINESTRING (-2.34000 0.00000, -2.37000 0.00000)   \n",
       "2         3  rect_jj    LINESTRING (-2.34000 0.90000, -2.37000 0.90000)   \n",
       "3         4  rect_jj    LINESTRING (1.39800 -0.60000, 1.42800 -0.60000)   \n",
       "4         5  rect_jj    LINESTRING (1.39800 -0.10000, 1.42800 -0.10000)   \n",
       "5         6  rect_jj      LINESTRING (1.39800 0.40000, 1.42800 0.40000)   \n",
       "\n",
       "   layer  subtract  helper  chip  width hfss_inductance  hfss_capacitance  \\\n",
       "0      1     False   False  main   0.03          8.66nH                 0   \n",
       "1      1     False   False  main   0.03          9.14nH                 0   \n",
       "2      1     False   False  main   0.03           9.4nH                 0   \n",
       "3      1     False   False  main   0.03             6nH                 0   \n",
       "4      1     False   False  main   0.03             8nH                 0   \n",
       "5      1     False   False  main   0.03           6.2nH                 0   \n",
       "\n",
       "   ...  hfss_mesh_kw_jj  q3d_inductance q3d_capacitance  q3d_resistance  \\\n",
       "0  ...         0.000007            10nH               0               0   \n",
       "1  ...         0.000007            10nH               0               0   \n",
       "2  ...         0.000007            10nH               0               0   \n",
       "3  ...         0.000007            10nH               0               0   \n",
       "4  ...         0.000007            10nH               0               0   \n",
       "5  ...         0.000007            10nH               0               0   \n",
       "\n",
       "   q3d_mesh_kw_jj    gds_cell_name aedt_q3d_inductance  aedt_q3d_capacitance  \\\n",
       "0        0.000007  FakeJunction_01        1.000000e-08                     0   \n",
       "1        0.000007  FakeJunction_01        1.000000e-08                     0   \n",
       "2        0.000007  FakeJunction_01        1.000000e-08                     0   \n",
       "3        0.000007  FakeJunction_01        1.000000e-08                     0   \n",
       "4        0.000007  FakeJunction_01        1.000000e-08                     0   \n",
       "5        0.000007  FakeJunction_01        1.000000e-08                     0   \n",
       "\n",
       "   aedt_hfss_inductance  aedt_hfss_capacitance  \n",
       "0          1.000000e-08                      0  \n",
       "1          1.000000e-08                      0  \n",
       "2          1.000000e-08                      0  \n",
       "3          1.000000e-08                      0  \n",
       "4          1.000000e-08                      0  \n",
       "5          1.000000e-08                      0  \n",
       "\n",
       "[6 rows x 21 columns]"
      ]
     },
     "execution_count": 9,
     "metadata": {},
     "output_type": "execute_result"
    }
   ],
   "source": [
    "design.qgeometry.tables['junction']"
   ]
  },
  {
   "cell_type": "code",
   "execution_count": 10,
   "id": "2e619f3d",
   "metadata": {
    "ExecuteTime": {
     "end_time": "2023-08-15T05:19:26.899311Z",
     "start_time": "2023-08-15T05:19:26.569753Z"
    }
   },
   "outputs": [],
   "source": [
    "qcomps = design.components  # short handle (alias)\n",
    "qcomps['Q1'].options['hfss_inductance'] = 'Lj1'\n",
    "qcomps['Q1'].options['hfss_capacitance'] = 'Cj1'\n",
    "qcomps['Q2'].options['hfss_inductance'] = 'Lj2'\n",
    "qcomps['Q2'].options['hfss_capacitance'] = 'Cj2'\n",
    "gui.rebuild()  # line needed to propagate the updates from the qubit instance into the junction design table\n",
    "gui.autoscale()"
   ]
  },
  {
   "cell_type": "code",
   "execution_count": 11,
   "id": "64c74f13",
   "metadata": {
    "ExecuteTime": {
     "end_time": "2023-08-15T05:19:29.892723Z",
     "start_time": "2023-08-15T05:19:29.828221Z"
    }
   },
   "outputs": [],
   "source": [
    "from qiskit_metal.analyses.quantization import EPRanalysis\n",
    "eig_2qb = EPRanalysis(design, \"hfss\")"
   ]
  },
  {
   "cell_type": "code",
   "execution_count": null,
   "id": "3c4a71e9",
   "metadata": {},
   "outputs": [],
   "source": []
  },
  {
   "cell_type": "code",
   "execution_count": 12,
   "id": "e29ddc3b",
   "metadata": {
    "ExecuteTime": {
     "end_time": "2023-08-15T05:19:32.173735Z",
     "start_time": "2023-08-15T05:19:32.107250Z"
    }
   },
   "outputs": [
    {
     "data": {
      "text/plain": [
       "{'name': 'Setup',\n",
       " 'reuse_selected_design': True,\n",
       " 'reuse_setup': True,\n",
       " 'min_freq_ghz': 1,\n",
       " 'n_modes': 4,\n",
       " 'max_delta_f': 0.05,\n",
       " 'max_passes': 15,\n",
       " 'min_passes': 1,\n",
       " 'min_converged': 1,\n",
       " 'pct_refinement': 30,\n",
       " 'basis_order': 1,\n",
       " 'vars': {'Lj1': '9.14 nH', 'Cj1': '2 fF', 'Lj2': '9.4 nH', 'Cj2': '2 fF'}}"
      ]
     },
     "execution_count": 12,
     "metadata": {},
     "output_type": "execute_result"
    }
   ],
   "source": [
    "eig_2qb.sim.setup.max_passes = 15\n",
    "eig_2qb.sim.setup.max_delta_f = 0.05\n",
    "eig_2qb.sim.setup.n_modes = 4\n",
    "eig_2qb.sim.setup.vars = Dict(Lj1= '9.14 nH', Cj1= '2 fF',\n",
    "                           Lj2= '9.4 nH', Cj2= '2 fF')\n",
    "eig_2qb.sim.setup"
   ]
  },
  {
   "cell_type": "code",
   "execution_count": 13,
   "id": "63f57328",
   "metadata": {
    "ExecuteTime": {
     "end_time": "2023-08-15T05:19:49.545217Z",
     "start_time": "2023-08-15T05:19:49.483375Z"
    }
   },
   "outputs": [
    {
     "data": {
      "text/plain": [
       "{'Lj': '10nH',\n",
       " 'Cj': 0,\n",
       " '_Rj': 0,\n",
       " 'max_mesh_length_jj': '7um',\n",
       " 'max_mesh_length_port': '7um',\n",
       " 'project_path': None,\n",
       " 'project_name': None,\n",
       " 'design_name': None,\n",
       " 'x_buffer_width_mm': 0.5,\n",
       " 'y_buffer_width_mm': 0.5,\n",
       " 'wb_threshold': '400um',\n",
       " 'wb_offset': '0um',\n",
       " 'wb_size': 5,\n",
       " 'plot_ansys_fields_options': {'name': 'NAME:Mag_E1',\n",
       "  'UserSpecifyName': '0',\n",
       "  'UserSpecifyFolder': '0',\n",
       "  'QuantityName': 'Mag_E',\n",
       "  'PlotFolder': 'E Field',\n",
       "  'StreamlinePlot': 'False',\n",
       "  'AdjacentSidePlot': 'False',\n",
       "  'FullModelPlot': 'False',\n",
       "  'IntrinsicVar': \"Phase='0deg'\",\n",
       "  'PlotGeomInfo_0': '1',\n",
       "  'PlotGeomInfo_1': 'Surface',\n",
       "  'PlotGeomInfo_2': 'FacesList',\n",
       "  'PlotGeomInfo_3': '1'}}"
      ]
     },
     "execution_count": 13,
     "metadata": {},
     "output_type": "execute_result"
    }
   ],
   "source": [
    "eig_2qb.sim.renderer.options['x_buffer_width_mm'] = 0.5\n",
    "eig_2qb.sim.renderer.options['y_buffer_width_mm'] = 0.5\n",
    "eig_2qb.sim.renderer.options"
   ]
  },
  {
   "cell_type": "code",
   "execution_count": null,
   "id": "30a701fc",
   "metadata": {},
   "outputs": [],
   "source": []
  },
  {
   "cell_type": "code",
   "execution_count": 14,
   "id": "26bf0c34",
   "metadata": {
    "ExecuteTime": {
     "end_time": "2023-08-15T05:20:53.833990Z",
     "start_time": "2023-08-15T05:19:52.051114Z"
    },
    "scrolled": true
   },
   "outputs": [
    {
     "name": "stderr",
     "output_type": "stream",
     "text": [
      "INFO 01:19AM [connect_project]: Connecting to Ansys Desktop API...\n",
      "INFO 01:19AM [load_ansys_project]: \tOpened Ansys App\n",
      "INFO 01:19AM [load_ansys_project]: \tOpened Ansys Desktop v2022.1.0\n",
      "INFO 01:19AM [load_ansys_project]: \tOpened Ansys Project\n",
      "\tFolder:    C:/Users/WANGLAB/Documents/Ansoft/\n",
      "\tProject:   Project4\n",
      "INFO 01:19AM [connect_design]: \tOpened active design\n",
      "\tDesign:    Twofg003_hfss [Solution type: Eigenmode]\n",
      "INFO 01:19AM [get_setup]: \tOpened setup `Setup`  (<class 'pyEPR.ansys.HfssEMSetup'>)\n",
      "INFO 01:19AM [connect]: \tConnected to project \"Project4\" and design \"Twofg003_hfss\" 😀 \n",
      "\n",
      "INFO 01:19AM [connect_design]: \tOpened active design\n",
      "\tDesign:    TwoT78953_hfss [Solution type: Eigenmode]\n",
      "WARNING 01:19AM [connect_setup]: \tNo design setup detected.\n",
      "WARNING 01:19AM [connect_setup]: \tCreating eigenmode default setup.\n",
      "INFO 01:19AM [get_setup]: \tOpened setup `Setup`  (<class 'pyEPR.ansys.HfssEMSetup'>)\n",
      "INFO 01:19AM [get_setup]: \tOpened setup `Setup`  (<class 'pyEPR.ansys.HfssEMSetup'>)\n",
      "INFO 01:19AM [analyze]: Analyzing setup Setup\n",
      "01:20AM 53s INFO [get_f_convergence]: Saved convergences to C:\\Users\\WANGLAB\\Documents\\GitHub\\qiskit-metal\\tutorials\\4 Analysis\\A. Core - EM and quantization\\hfss_eig_f_convergence.csv\n"
     ]
    }
   ],
   "source": [
    "eig_2qb.sim.run(name=\"TwoT78953\",\n",
    "               components=['Q1', 'Q2',], open_terminations=[])"
   ]
  },
  {
   "cell_type": "code",
   "execution_count": null,
   "id": "b7c9dce4",
   "metadata": {},
   "outputs": [],
   "source": []
  },
  {
   "cell_type": "code",
   "execution_count": null,
   "id": "d6bef20e",
   "metadata": {},
   "outputs": [],
   "source": [
    "eig_2qb.sim.plot_convergences()"
   ]
  },
  {
   "cell_type": "code",
   "execution_count": null,
   "id": "b8006cf9",
   "metadata": {},
   "outputs": [],
   "source": [
    "eig_2qb.sim.save_screenshot()  # optional"
   ]
  },
  {
   "cell_type": "code",
   "execution_count": null,
   "id": "dd28c5b0",
   "metadata": {},
   "outputs": [],
   "source": [
    "eig_2qb.sim.plot_fields('main', eigenmode=4)\n",
    "eig_2qb.sim.save_screenshot()"
   ]
  },
  {
   "cell_type": "code",
   "execution_count": null,
   "id": "bfe3f1be",
   "metadata": {},
   "outputs": [],
   "source": [
    "hfss = eig_2qb.sim.renderer\n",
    "\n",
    "hfss.clear_fields(['Mag_E1'])\n",
    "hfss.set_mode(1, \"Setup\")\n",
    "hfss.modeler._modeler.ShowWindow()\n",
    "hfss.plot_fields('main')\n",
    "hfss.save_screenshot()"
   ]
  },
  {
   "cell_type": "code",
   "execution_count": 15,
   "id": "ac7dfb66",
   "metadata": {
    "ExecuteTime": {
     "end_time": "2023-08-15T05:21:00.107168Z",
     "start_time": "2023-08-15T05:21:00.050854Z"
    }
   },
   "outputs": [],
   "source": [
    "del eig_2qb.setup.junctions['jj']"
   ]
  },
  {
   "cell_type": "code",
   "execution_count": 16,
   "id": "b12f834b",
   "metadata": {
    "ExecuteTime": {
     "end_time": "2023-08-15T05:21:02.264169Z",
     "start_time": "2023-08-15T05:21:02.204378Z"
    }
   },
   "outputs": [
    {
     "data": {
      "text/plain": [
       "{'junctions': {'jj1': {'rect': 'JJ_rect_Lj_Q1_rect_jj',\n",
       "   'line': 'JJ_Lj_Q1_rect_jj_',\n",
       "   'Lj_variable': 'Lj1',\n",
       "   'Cj_variable': 'Cj1'},\n",
       "  'jj2': {'rect': 'JJ_rect_Lj_Q2_rect_jj',\n",
       "   'line': 'JJ_Lj_Q2_rect_jj_',\n",
       "   'Lj_variable': 'Lj2',\n",
       "   'Cj_variable': 'Cj2'}},\n",
       " 'dissipatives': {'dielectrics_bulk': ['main']},\n",
       " 'cos_trunc': 8,\n",
       " 'fock_trunc': 7,\n",
       " 'sweep_variable': 'Lj1'}"
      ]
     },
     "execution_count": 16,
     "metadata": {},
     "output_type": "execute_result"
    }
   ],
   "source": [
    "eig_2qb.setup.junctions.jj1 = Dict(rect='JJ_rect_Lj_Q1_rect_jj', line='JJ_Lj_Q1_rect_jj_',\n",
    "                  Lj_variable='Lj1', Cj_variable='Cj1')\n",
    "eig_2qb.setup.junctions.jj2 = Dict(rect='JJ_rect_Lj_Q2_rect_jj', line='JJ_Lj_Q2_rect_jj_',\n",
    "                  Lj_variable='Lj2', Cj_variable='Cj2')\n",
    "eig_2qb.setup.sweep_variable = 'Lj1'\n",
    "eig_2qb.setup"
   ]
  },
  {
   "cell_type": "code",
   "execution_count": 17,
   "id": "5769cabb",
   "metadata": {
    "ExecuteTime": {
     "end_time": "2023-08-15T05:21:21.612554Z",
     "start_time": "2023-08-15T05:21:04.788163Z"
    }
   },
   "outputs": [
    {
     "name": "stdout",
     "output_type": "stream",
     "text": [
      "Design \"TwoT78953_hfss\" info:\n",
      "\t# eigenmodes    4\n",
      "\t# variations    1\n",
      "Design \"TwoT78953_hfss\" info:\n",
      "\t# eigenmodes    4\n",
      "\t# variations    1\n"
     ]
    },
    {
     "name": "stderr",
     "output_type": "stream",
     "text": [
      "WARNING:py.warnings:C:\\Users\\WANGLAB\\anaconda3\\envs\\qiskit-metal\\Lib\\site-packages\\pyEPR\\project_info.py:239: FutureWarning: The default dtype for empty Series will be 'object' instead of 'float64' in a future version. Specify a dtype explicitly to silence this warning.\n",
      "  options=pd.Series(get_instance_vars(self.options)),\n",
      "\n"
     ]
    },
    {
     "name": "stdout",
     "output_type": "stream",
     "text": [
      "\n",
      "        energy_elec_all       = 1.15186527145803e-24\n",
      "        energy_elec_substrate = 1.03695187154913e-24\n",
      "        EPR of substrate = 90.0%\n",
      "\n",
      "        energy_mag    = 1.46797149546982e-26\n",
      "        energy_mag % of energy_elec_all  = 1.3%\n",
      "        \n",
      "\n",
      "Variation 0  [1/1]\n"
     ]
    },
    {
     "name": "stderr",
     "output_type": "stream",
     "text": [
      "WARNING:py.warnings:C:\\Users\\WANGLAB\\anaconda3\\envs\\qiskit-metal\\Lib\\site-packages\\pyEPR\\core_distributed_analysis.py:1101: FutureWarning: The default dtype for empty Series will be 'object' instead of 'float64' in a future version. Specify a dtype explicitly to silence this warning.\n",
      "  Ljs = pd.Series({})\n",
      "\n",
      "WARNING:py.warnings:C:\\Users\\WANGLAB\\anaconda3\\envs\\qiskit-metal\\Lib\\site-packages\\pyEPR\\core_distributed_analysis.py:1102: FutureWarning: The default dtype for empty Series will be 'object' instead of 'float64' in a future version. Specify a dtype explicitly to silence this warning.\n",
      "  Cjs = pd.Series({})\n",
      "\n",
      "WARNING:py.warnings:C:\\Users\\WANGLAB\\anaconda3\\envs\\qiskit-metal\\Lib\\site-packages\\pyEPR\\core_distributed_analysis.py:1245: FutureWarning: The default dtype for empty Series will be 'object' instead of 'float64' in a future version. Specify a dtype explicitly to silence this warning.\n",
      "  _Om = pd.Series({})\n",
      "\n"
     ]
    },
    {
     "name": "stdout",
     "output_type": "stream",
     "text": [
      "\n",
      "  \u001b[1mMode 0 at 4.06 GHz   [1/4]\u001b[0m\n",
      "    Calculating ℰ_magnetic,"
     ]
    },
    {
     "name": "stderr",
     "output_type": "stream",
     "text": [
      "WARNING:py.warnings:C:\\Users\\WANGLAB\\anaconda3\\envs\\qiskit-metal\\Lib\\site-packages\\pyEPR\\core_distributed_analysis.py:981: FutureWarning: The default dtype for empty Series will be 'object' instead of 'float64' in a future version. Specify a dtype explicitly to silence this warning.\n",
      "  Sj = pd.Series({})\n",
      "\n"
     ]
    },
    {
     "name": "stdout",
     "output_type": "stream",
     "text": [
      "ℰ_electric\n",
      "       (ℰ_E-ℰ_H)/ℰ_E       ℰ_E       ℰ_H\n",
      "               98.7%  5.759e-25  7.34e-27\n",
      "\n",
      "    Calculating junction energy participation ration (EPR)\n",
      "\tmethod=`line_voltage`. First estimates:\n",
      "\tjunction        EPR p_0j   sign s_0j    (p_capacitive)\n",
      "\t\tEnergy fraction (Lj over Lj&Cj)= 98.82%\n",
      "\tjj1             0.992031  (+)        0.011798\n"
     ]
    },
    {
     "name": "stderr",
     "output_type": "stream",
     "text": [
      "WARNING:py.warnings:C:\\Users\\WANGLAB\\anaconda3\\envs\\qiskit-metal\\Lib\\site-packages\\pyEPR\\core_distributed_analysis.py:933: FutureWarning: The default dtype for empty Series will be 'object' instead of 'float64' in a future version. Specify a dtype explicitly to silence this warning.\n",
      "  Qp = pd.Series({})\n",
      "\n",
      "WARNING:py.warnings:C:\\Users\\WANGLAB\\anaconda3\\envs\\qiskit-metal\\Lib\\site-packages\\pyEPR\\core_distributed_analysis.py:1307: FutureWarning: The series.append method is deprecated and will be removed from pandas in a future version. Use pandas.concat instead.\n",
      "  sol = sol.append(self.get_Qdielectric(\n",
      "\n",
      "WARNING:py.warnings:C:\\Users\\WANGLAB\\anaconda3\\envs\\qiskit-metal\\Lib\\site-packages\\pyEPR\\core_distributed_analysis.py:1245: FutureWarning: The default dtype for empty Series will be 'object' instead of 'float64' in a future version. Specify a dtype explicitly to silence this warning.\n",
      "  _Om = pd.Series({})\n",
      "\n"
     ]
    },
    {
     "name": "stdout",
     "output_type": "stream",
     "text": [
      "\t\tEnergy fraction (Lj over Lj&Cj)= 98.79%\n",
      "\tjj2             0.00670998  (+)        8.20702e-05\n",
      "\t\t(U_tot_cap-U_tot_ind)/mean=0.02%\n",
      "Calculating Qdielectric_main for mode 0 (0/3)\n",
      "p_dielectric_main_0 = 0.9002371173466817\n",
      "\n",
      "  \u001b[1mMode 1 at 4.07 GHz   [2/4]\u001b[0m\n",
      "    Calculating ℰ_magnetic,"
     ]
    },
    {
     "name": "stderr",
     "output_type": "stream",
     "text": [
      "WARNING:py.warnings:C:\\Users\\WANGLAB\\anaconda3\\envs\\qiskit-metal\\Lib\\site-packages\\pyEPR\\core_distributed_analysis.py:981: FutureWarning: The default dtype for empty Series will be 'object' instead of 'float64' in a future version. Specify a dtype explicitly to silence this warning.\n",
      "  Sj = pd.Series({})\n",
      "\n",
      "WARNING:py.warnings:C:\\Users\\WANGLAB\\anaconda3\\envs\\qiskit-metal\\Lib\\site-packages\\pyEPR\\core_distributed_analysis.py:933: FutureWarning: The default dtype for empty Series will be 'object' instead of 'float64' in a future version. Specify a dtype explicitly to silence this warning.\n",
      "  Qp = pd.Series({})\n",
      "\n"
     ]
    },
    {
     "name": "stdout",
     "output_type": "stream",
     "text": [
      "ℰ_electric\n",
      "       (ℰ_E-ℰ_H)/ℰ_E       ℰ_E       ℰ_H\n",
      "               98.7%  7.389e-25 9.385e-27\n",
      "\n",
      "    Calculating junction energy participation ration (EPR)\n",
      "\tmethod=`line_voltage`. First estimates:\n",
      "\tjunction        EPR p_1j   sign s_1j    (p_capacitive)\n",
      "\t\tEnergy fraction (Lj over Lj&Cj)= 98.82%\n",
      "\tjj1             0.00671165  (+)        8.03954e-05\n",
      "\t\tEnergy fraction (Lj over Lj&Cj)= 98.78%\n",
      "\tjj2             0.991967  (+)        0.0122203\n",
      "\t\t(U_tot_cap-U_tot_ind)/mean=0.05%\n"
     ]
    },
    {
     "name": "stderr",
     "output_type": "stream",
     "text": [
      "WARNING:py.warnings:C:\\Users\\WANGLAB\\anaconda3\\envs\\qiskit-metal\\Lib\\site-packages\\pyEPR\\core_distributed_analysis.py:1307: FutureWarning: The series.append method is deprecated and will be removed from pandas in a future version. Use pandas.concat instead.\n",
      "  sol = sol.append(self.get_Qdielectric(\n",
      "\n",
      "WARNING:py.warnings:C:\\Users\\WANGLAB\\anaconda3\\envs\\qiskit-metal\\Lib\\site-packages\\pyEPR\\core_distributed_analysis.py:1245: FutureWarning: The default dtype for empty Series will be 'object' instead of 'float64' in a future version. Specify a dtype explicitly to silence this warning.\n",
      "  _Om = pd.Series({})\n",
      "\n"
     ]
    },
    {
     "name": "stdout",
     "output_type": "stream",
     "text": [
      "Calculating Qdielectric_main for mode 1 (1/3)\n",
      "p_dielectric_main_1 = 0.9084017049848818\n",
      "\n",
      "  \u001b[1mMode 2 at 28.66 GHz   [3/4]\u001b[0m\n",
      "    Calculating ℰ_magnetic,"
     ]
    },
    {
     "name": "stderr",
     "output_type": "stream",
     "text": [
      "WARNING:py.warnings:C:\\Users\\WANGLAB\\anaconda3\\envs\\qiskit-metal\\Lib\\site-packages\\pyEPR\\core_distributed_analysis.py:981: FutureWarning: The default dtype for empty Series will be 'object' instead of 'float64' in a future version. Specify a dtype explicitly to silence this warning.\n",
      "  Sj = pd.Series({})\n",
      "\n",
      "WARNING:py.warnings:C:\\Users\\WANGLAB\\anaconda3\\envs\\qiskit-metal\\Lib\\site-packages\\pyEPR\\core_distributed_analysis.py:933: FutureWarning: The default dtype for empty Series will be 'object' instead of 'float64' in a future version. Specify a dtype explicitly to silence this warning.\n",
      "  Qp = pd.Series({})\n",
      "\n"
     ]
    },
    {
     "name": "stdout",
     "output_type": "stream",
     "text": [
      "ℰ_electric\n",
      "       (ℰ_E-ℰ_H)/ℰ_E       ℰ_E       ℰ_H\n",
      "               99.2%  3.124e-27 2.625e-29\n",
      "\n",
      "    Calculating junction energy participation ration (EPR)\n",
      "\tmethod=`line_voltage`. First estimates:\n",
      "\tjunction        EPR p_2j   sign s_2j    (p_capacitive)\n",
      "\t\tEnergy fraction (Lj over Lj&Cj)= 62.79%\n",
      "\tjj1             2.86121e-11  (+)        1.69578e-11\n",
      "\t\tEnergy fraction (Lj over Lj&Cj)= 62.13%\n",
      "\tjj2             1.30437e-05  (+)        7.95063e-06\n",
      "\t\t(U_tot_cap-U_tot_ind)/mean=98.33%\n",
      "WARNING: This simulation must not have converged well!!!                The difference in the total cap and ind energies is larger than 10%.                Proceed with caution.\n"
     ]
    },
    {
     "name": "stderr",
     "output_type": "stream",
     "text": [
      "WARNING:py.warnings:C:\\Users\\WANGLAB\\anaconda3\\envs\\qiskit-metal\\Lib\\site-packages\\pyEPR\\core_distributed_analysis.py:1307: FutureWarning: The series.append method is deprecated and will be removed from pandas in a future version. Use pandas.concat instead.\n",
      "  sol = sol.append(self.get_Qdielectric(\n",
      "\n",
      "WARNING:py.warnings:C:\\Users\\WANGLAB\\anaconda3\\envs\\qiskit-metal\\Lib\\site-packages\\pyEPR\\core_distributed_analysis.py:1245: FutureWarning: The default dtype for empty Series will be 'object' instead of 'float64' in a future version. Specify a dtype explicitly to silence this warning.\n",
      "  _Om = pd.Series({})\n",
      "\n"
     ]
    },
    {
     "name": "stdout",
     "output_type": "stream",
     "text": [
      "Calculating Qdielectric_main for mode 2 (2/3)\n",
      "p_dielectric_main_2 = 0.9220296664885234\n",
      "\n",
      "  \u001b[1mMode 3 at 29.06 GHz   [4/4]\u001b[0m\n",
      "    Calculating ℰ_magnetic,"
     ]
    },
    {
     "name": "stderr",
     "output_type": "stream",
     "text": [
      "WARNING:py.warnings:C:\\Users\\WANGLAB\\anaconda3\\envs\\qiskit-metal\\Lib\\site-packages\\pyEPR\\core_distributed_analysis.py:981: FutureWarning: The default dtype for empty Series will be 'object' instead of 'float64' in a future version. Specify a dtype explicitly to silence this warning.\n",
      "  Sj = pd.Series({})\n",
      "\n"
     ]
    },
    {
     "name": "stdout",
     "output_type": "stream",
     "text": [
      "ℰ_electric\n",
      "       (ℰ_E-ℰ_H)/ℰ_E       ℰ_E       ℰ_H\n",
      "               13.4%   3.92e-27 3.395e-27\n",
      "\n",
      "    Calculating junction energy participation ration (EPR)\n",
      "\tmethod=`line_voltage`. First estimates:\n",
      "\tjunction        EPR p_3j   sign s_3j    (p_capacitive)\n",
      "\t\tEnergy fraction (Lj over Lj&Cj)= 62.13%\n",
      "\tjj1             8.37997e-06  (+)        5.10691e-06\n"
     ]
    },
    {
     "name": "stderr",
     "output_type": "stream",
     "text": [
      "WARNING:py.warnings:C:\\Users\\WANGLAB\\anaconda3\\envs\\qiskit-metal\\Lib\\site-packages\\pyEPR\\core_distributed_analysis.py:933: FutureWarning: The default dtype for empty Series will be 'object' instead of 'float64' in a future version. Specify a dtype explicitly to silence this warning.\n",
      "  Qp = pd.Series({})\n",
      "\n",
      "WARNING:py.warnings:C:\\Users\\WANGLAB\\anaconda3\\envs\\qiskit-metal\\Lib\\site-packages\\pyEPR\\core_distributed_analysis.py:1307: FutureWarning: The series.append method is deprecated and will be removed from pandas in a future version. Use pandas.concat instead.\n",
      "  sol = sol.append(self.get_Qdielectric(\n",
      "\n"
     ]
    },
    {
     "name": "stdout",
     "output_type": "stream",
     "text": [
      "\t\tEnergy fraction (Lj over Lj&Cj)= 61.47%\n",
      "\tjj2             1.65262e-10  (+)        1.03579e-10\n",
      "\t\t(U_tot_cap-U_tot_ind)/mean=7.17%\n",
      "Calculating Qdielectric_main for mode 3 (3/3)\n",
      "p_dielectric_main_3 = 0.9220632888727376\n"
     ]
    },
    {
     "name": "stderr",
     "output_type": "stream",
     "text": [
      "WARNING:py.warnings:C:\\Users\\WANGLAB\\anaconda3\\envs\\qiskit-metal\\Lib\\site-packages\\pyEPR\\project_info.py:239: FutureWarning: The default dtype for empty Series will be 'object' instead of 'float64' in a future version. Specify a dtype explicitly to silence this warning.\n",
      "  options=pd.Series(get_instance_vars(self.options)),\n",
      "\n",
      "WARNING 01:21AM [__init__]: <p>Error: <class 'IndexError'></p>\n",
      "ERROR 01:21AM [_get_participation_normalized]: WARNING: U_tot_cap-U_tot_ind / mean = 196.7% is > 15%.                     \n",
      "Is the simulation converged? Proceed with caution\n"
     ]
    },
    {
     "name": "stdout",
     "output_type": "stream",
     "text": [
      "\n",
      "ANALYSIS DONE. Data saved to:\n",
      "\n",
      "C:\\data-pyEPR\\Project4\\TwoT78953_hfss\\2023-08-15 01-21-04.npz\n",
      "\n",
      "\n",
      "\t Differences in variations:\n",
      "\n",
      "\n",
      "\n",
      " . . . . . . . . . . . . . . . . . . . . . . . . . . . . . . . . . . . . . . . . \n",
      "Variation 0\n",
      "\n",
      "Starting the diagonalization\n",
      "Finished the diagonalization\n"
     ]
    },
    {
     "name": "stderr",
     "output_type": "stream",
     "text": [
      "ERROR 01:21AM [_get_participation_normalized]: WARNING: U_tot_cap-U_tot_ind / mean = 196.7% is > 15%.                     \n",
      "Is the simulation converged? Proceed with caution\n",
      "WARNING:py.warnings:C:\\Users\\WANGLAB\\anaconda3\\envs\\qiskit-metal\\Lib\\site-packages\\pyEPR\\core_quantum_analysis.py:712: FutureWarning: Support for multi-dimensional indexing (e.g. `obj[:, None]`) is deprecated and will be removed in a future version.  Convert to a numpy array before indexing instead.\n",
      "  result['Q_coupling'] = self.Qm_coupling[variation][self.Qm_coupling[variation].columns[junctions]][modes]#TODO change the columns to junctions\n",
      "\n",
      "WARNING:py.warnings:C:\\Users\\WANGLAB\\anaconda3\\envs\\qiskit-metal\\Lib\\site-packages\\pyEPR\\core_quantum_analysis.py:717: FutureWarning: Support for multi-dimensional indexing (e.g. `obj[:, None]`) is deprecated and will be removed in a future version.  Convert to a numpy array before indexing instead.\n",
      "  result['Qs'] = self.Qs[variation][self.PM[variation].columns[junctions]][modes] #TODO change the columns to junctions\n",
      "\n"
     ]
    },
    {
     "name": "stdout",
     "output_type": "stream",
     "text": [
      "Pm_norm=\n",
      "modes\n",
      "0        1.000393\n",
      "1        1.000915\n",
      "2    75388.490170\n",
      "3     8559.861472\n",
      "dtype: float64\n",
      "\n",
      "Pm_norm idx =\n",
      "     jj1    jj2\n",
      "0   True  False\n",
      "1  False   True\n",
      "2  False  False\n",
      "3  False  False\n",
      "*** P (participation matrix, not normlz.)\n",
      "            jj1           jj2\n",
      "0  9.803842e-01  6.631204e-03\n",
      "1  6.630099e-03  9.799138e-01\n",
      "2  2.861189e-11  1.304356e-05\n",
      "3  8.379932e-06  1.652609e-10\n",
      "\n",
      "*** S (sign-bit matrix)\n",
      "   s_jj1  s_jj2\n",
      "0     -1      1\n",
      "1     -1     -1\n",
      "2     -1      1\n",
      "3     -1      1\n",
      "*** P (participation matrix, normalized.)\n",
      "      0.98   0.0066\n",
      "    0.0066     0.98\n",
      "   2.9e-11  1.3e-05\n",
      "   8.4e-06  1.7e-10\n",
      "\n",
      "*** Chi matrix O1 PT (MHz)\n",
      "    Diag is anharmonicity, off diag is full cross-Kerr.\n",
      "       111     3.05 0.000145   0.0136\n",
      "      3.05      115   0.0215 9.22e-05\n",
      "  0.000145   0.0215    1e-06 2.86e-11\n",
      "    0.0136 9.22e-05 2.86e-11 4.14e-07\n",
      "\n",
      "*** Chi matrix ND (MHz) \n",
      "       119  -0.0514  0.00027   0.0134\n",
      "   -0.0514      124   0.0212 0.000171\n",
      "   0.00027   0.0212 9.99e-07 9.16e-11\n",
      "    0.0134 0.000171 9.16e-11 4.12e-07\n",
      "\n",
      "*** Frequencies O1 PT (MHz)\n",
      "0     3947.175171\n",
      "1     3957.792460\n",
      "2    28657.748315\n",
      "3    29059.610357\n",
      "dtype: float64\n",
      "\n",
      "*** Frequencies ND (MHz)\n",
      "0     3943.881834\n",
      "1     3954.285875\n",
      "2    28657.748357\n",
      "3    29059.610383\n",
      "dtype: float64\n",
      "\n",
      "*** Q_coupling\n",
      "Empty DataFrame\n",
      "Columns: []\n",
      "Index: [0, 1, 2, 3]\n"
     ]
    },
    {
     "data": {
      "text/markdown": [
       "#### Mode frequencies (MHz)"
      ],
      "text/plain": [
       "<IPython.core.display.Markdown object>"
      ]
     },
     "metadata": {},
     "output_type": "display_data"
    },
    {
     "data": {
      "text/markdown": [
       "###### Numerical diagonalization"
      ],
      "text/plain": [
       "<IPython.core.display.Markdown object>"
      ]
     },
     "metadata": {},
     "output_type": "display_data"
    },
    {
     "data": {
      "text/html": [
       "<div>\n",
       "<style scoped>\n",
       "    .dataframe tbody tr th:only-of-type {\n",
       "        vertical-align: middle;\n",
       "    }\n",
       "\n",
       "    .dataframe tbody tr th {\n",
       "        vertical-align: top;\n",
       "    }\n",
       "\n",
       "    .dataframe thead th {\n",
       "        text-align: right;\n",
       "    }\n",
       "</style>\n",
       "<table border=\"1\" class=\"dataframe\">\n",
       "  <thead>\n",
       "    <tr style=\"text-align: right;\">\n",
       "      <th>Lj1</th>\n",
       "      <th>9.14</th>\n",
       "    </tr>\n",
       "  </thead>\n",
       "  <tbody>\n",
       "    <tr>\n",
       "      <th>0</th>\n",
       "      <td>3943.88</td>\n",
       "    </tr>\n",
       "    <tr>\n",
       "      <th>1</th>\n",
       "      <td>3954.29</td>\n",
       "    </tr>\n",
       "    <tr>\n",
       "      <th>2</th>\n",
       "      <td>28657.75</td>\n",
       "    </tr>\n",
       "    <tr>\n",
       "      <th>3</th>\n",
       "      <td>29059.61</td>\n",
       "    </tr>\n",
       "  </tbody>\n",
       "</table>\n",
       "</div>"
      ],
      "text/plain": [
       "Lj1      9.14\n",
       "0     3943.88\n",
       "1     3954.29\n",
       "2    28657.75\n",
       "3    29059.61"
      ]
     },
     "metadata": {},
     "output_type": "display_data"
    },
    {
     "data": {
      "text/markdown": [
       "#### Kerr Non-linear coefficient table (MHz)"
      ],
      "text/plain": [
       "<IPython.core.display.Markdown object>"
      ]
     },
     "metadata": {},
     "output_type": "display_data"
    },
    {
     "data": {
      "text/markdown": [
       "###### Numerical diagonalization"
      ],
      "text/plain": [
       "<IPython.core.display.Markdown object>"
      ]
     },
     "metadata": {},
     "output_type": "display_data"
    },
    {
     "data": {
      "text/html": [
       "<div>\n",
       "<style scoped>\n",
       "    .dataframe tbody tr th:only-of-type {\n",
       "        vertical-align: middle;\n",
       "    }\n",
       "\n",
       "    .dataframe tbody tr th {\n",
       "        vertical-align: top;\n",
       "    }\n",
       "\n",
       "    .dataframe thead th {\n",
       "        text-align: right;\n",
       "    }\n",
       "</style>\n",
       "<table border=\"1\" class=\"dataframe\">\n",
       "  <thead>\n",
       "    <tr style=\"text-align: right;\">\n",
       "      <th></th>\n",
       "      <th></th>\n",
       "      <th>0</th>\n",
       "      <th>1</th>\n",
       "      <th>2</th>\n",
       "      <th>3</th>\n",
       "    </tr>\n",
       "    <tr>\n",
       "      <th>Lj1</th>\n",
       "      <th></th>\n",
       "      <th></th>\n",
       "      <th></th>\n",
       "      <th></th>\n",
       "      <th></th>\n",
       "    </tr>\n",
       "  </thead>\n",
       "  <tbody>\n",
       "    <tr>\n",
       "      <th rowspan=\"4\" valign=\"top\">9.14</th>\n",
       "      <th>0</th>\n",
       "      <td>1.19e+02</td>\n",
       "      <td>-5.14e-02</td>\n",
       "      <td>2.70e-04</td>\n",
       "      <td>1.34e-02</td>\n",
       "    </tr>\n",
       "    <tr>\n",
       "      <th>1</th>\n",
       "      <td>-5.14e-02</td>\n",
       "      <td>1.24e+02</td>\n",
       "      <td>2.12e-02</td>\n",
       "      <td>1.71e-04</td>\n",
       "    </tr>\n",
       "    <tr>\n",
       "      <th>2</th>\n",
       "      <td>2.70e-04</td>\n",
       "      <td>2.12e-02</td>\n",
       "      <td>9.99e-07</td>\n",
       "      <td>9.16e-11</td>\n",
       "    </tr>\n",
       "    <tr>\n",
       "      <th>3</th>\n",
       "      <td>1.34e-02</td>\n",
       "      <td>1.71e-04</td>\n",
       "      <td>9.16e-11</td>\n",
       "      <td>4.12e-07</td>\n",
       "    </tr>\n",
       "  </tbody>\n",
       "</table>\n",
       "</div>"
      ],
      "text/plain": [
       "               0         1         2         3\n",
       "Lj1                                           \n",
       "9.14 0  1.19e+02 -5.14e-02  2.70e-04  1.34e-02\n",
       "     1 -5.14e-02  1.24e+02  2.12e-02  1.71e-04\n",
       "     2  2.70e-04  2.12e-02  9.99e-07  9.16e-11\n",
       "     3  1.34e-02  1.71e-04  9.16e-11  4.12e-07"
      ]
     },
     "metadata": {},
     "output_type": "display_data"
    }
   ],
   "source": [
    "eig_2qb.run_epr()\n"
   ]
  },
  {
   "cell_type": "code",
   "execution_count": null,
   "id": "34cb9207",
   "metadata": {},
   "outputs": [],
   "source": [
    "eig_2qb.sim.close()"
   ]
  },
  {
   "cell_type": "code",
   "execution_count": null,
   "id": "6c039e1d",
   "metadata": {},
   "outputs": [],
   "source": []
  },
  {
   "cell_type": "code",
   "execution_count": null,
   "id": "8b6dc251",
   "metadata": {
    "scrolled": true
   },
   "outputs": [],
   "source": []
  },
  {
   "cell_type": "code",
   "execution_count": null,
   "id": "a0124cc2",
   "metadata": {},
   "outputs": [],
   "source": []
  },
  {
   "cell_type": "code",
   "execution_count": null,
   "id": "c7ea4cc2",
   "metadata": {},
   "outputs": [],
   "source": []
  },
  {
   "cell_type": "code",
   "execution_count": null,
   "id": "0a47feac",
   "metadata": {},
   "outputs": [],
   "source": []
  },
  {
   "cell_type": "code",
   "execution_count": null,
   "id": "50ef05ed",
   "metadata": {},
   "outputs": [],
   "source": []
  },
  {
   "cell_type": "code",
   "execution_count": null,
   "id": "3469881e",
   "metadata": {
    "scrolled": true
   },
   "outputs": [],
   "source": []
  },
  {
   "cell_type": "code",
   "execution_count": null,
   "id": "57323914",
   "metadata": {},
   "outputs": [],
   "source": []
  },
  {
   "cell_type": "code",
   "execution_count": null,
   "id": "89ef3848",
   "metadata": {},
   "outputs": [],
   "source": []
  },
  {
   "cell_type": "code",
   "execution_count": null,
   "id": "db5a1b5d",
   "metadata": {},
   "outputs": [],
   "source": []
  },
  {
   "cell_type": "code",
   "execution_count": null,
   "id": "7b8e77c6",
   "metadata": {},
   "outputs": [],
   "source": []
  },
  {
   "cell_type": "code",
   "execution_count": null,
   "id": "0c3d59f3",
   "metadata": {},
   "outputs": [],
   "source": []
  },
  {
   "cell_type": "code",
   "execution_count": null,
   "id": "584baacc",
   "metadata": {},
   "outputs": [],
   "source": []
  },
  {
   "cell_type": "code",
   "execution_count": null,
   "id": "c7dd52a4",
   "metadata": {},
   "outputs": [],
   "source": []
  },
  {
   "cell_type": "code",
   "execution_count": null,
   "id": "96796cc3",
   "metadata": {},
   "outputs": [],
   "source": []
  },
  {
   "cell_type": "code",
   "execution_count": null,
   "id": "6d6c46d4",
   "metadata": {},
   "outputs": [],
   "source": []
  },
  {
   "cell_type": "code",
   "execution_count": null,
   "id": "2f376d44",
   "metadata": {},
   "outputs": [],
   "source": []
  },
  {
   "cell_type": "code",
   "execution_count": null,
   "id": "279cbdf1",
   "metadata": {},
   "outputs": [],
   "source": []
  },
  {
   "cell_type": "code",
   "execution_count": null,
   "id": "ac0d9e2f",
   "metadata": {},
   "outputs": [],
   "source": []
  },
  {
   "cell_type": "code",
   "execution_count": null,
   "id": "943a0fed",
   "metadata": {},
   "outputs": [],
   "source": []
  },
  {
   "cell_type": "code",
   "execution_count": null,
   "id": "b23ce512",
   "metadata": {},
   "outputs": [],
   "source": []
  },
  {
   "cell_type": "code",
   "execution_count": null,
   "id": "06c2d132",
   "metadata": {},
   "outputs": [],
   "source": []
  },
  {
   "cell_type": "code",
   "execution_count": null,
   "id": "c128bf03",
   "metadata": {},
   "outputs": [],
   "source": []
  },
  {
   "cell_type": "code",
   "execution_count": null,
   "id": "b2015652",
   "metadata": {},
   "outputs": [],
   "source": []
  },
  {
   "cell_type": "code",
   "execution_count": null,
   "id": "6715688a",
   "metadata": {
    "scrolled": true
   },
   "outputs": [],
   "source": []
  },
  {
   "cell_type": "code",
   "execution_count": null,
   "id": "300406b8",
   "metadata": {},
   "outputs": [],
   "source": []
  },
  {
   "cell_type": "code",
   "execution_count": null,
   "id": "75d42e80",
   "metadata": {},
   "outputs": [],
   "source": []
  }
 ],
 "metadata": {
  "kernelspec": {
   "display_name": "Python 3 (ipykernel)",
   "language": "python",
   "name": "python3"
  },
  "language_info": {
   "codemirror_mode": {
    "name": "ipython",
    "version": 3
   },
   "file_extension": ".py",
   "mimetype": "text/x-python",
   "name": "python",
   "nbconvert_exporter": "python",
   "pygments_lexer": "ipython3",
   "version": "3.11.4"
  },
  "varInspector": {
   "cols": {
    "lenName": 16,
    "lenType": 16,
    "lenVar": 40
   },
   "kernels_config": {
    "python": {
     "delete_cmd_postfix": "",
     "delete_cmd_prefix": "del ",
     "library": "var_list.py",
     "varRefreshCmd": "print(var_dic_list())"
    },
    "r": {
     "delete_cmd_postfix": ") ",
     "delete_cmd_prefix": "rm(",
     "library": "var_list.r",
     "varRefreshCmd": "cat(var_dic_list()) "
    }
   },
   "types_to_exclude": [
    "module",
    "function",
    "builtin_function_or_method",
    "instance",
    "_Feature"
   ],
   "window_display": false
  }
 },
 "nbformat": 4,
 "nbformat_minor": 5
}

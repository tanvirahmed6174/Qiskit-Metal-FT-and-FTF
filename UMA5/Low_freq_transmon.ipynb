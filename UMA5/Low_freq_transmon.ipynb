{
 "cells": [
  {
   "cell_type": "code",
   "execution_count": 1,
   "id": "d8d64d92-66e4-49c2-b6e2-7699e8d72564",
   "metadata": {},
   "outputs": [
    {
     "data": {
      "text/html": [
       "\n",
       "    <h1 style=\"\n",
       "        background: #12c2e9;  /* fallback for old browsers */\n",
       "        background: -webkit-linear-gradient(to right, #d4418e 0%, #0652c5 74%);  /* Chrome 10-25, Safari 5.1-6 */\n",
       "        background: linear-gradient(315deg, #d4418e 0%, #0652c5 74%); /* W3C, IE 10+/ Edge, Firefox 16+, Chrome 26+, Opera 12+, Safari 7+ */\n",
       "        margin-top: 50px;\n",
       "        border-style: outset;\n",
       "        padding-top:100px;\n",
       "        padding-bottom:50px;\n",
       "        padding-left:25px;\n",
       "        color: white;\n",
       "    \"> Good news: Qiskit Metal works fine! <h1>\n",
       "        "
      ],
      "text/plain": [
       "<IPython.core.display.HTML object>"
      ]
     },
     "metadata": {},
     "output_type": "display_data"
    }
   ],
   "source": [
    "%reload_ext autoreload\n",
    "%autoreload 2\n",
    "import qiskit_metal as metal\n",
    "from qiskit_metal import designs, draw\n",
    "from qiskit_metal import MetalGUI, Dict, Headings\n",
    "import pyEPR as epr\n",
    "%metal_heading Good news: Qiskit Metal works fine!\n",
    "\n",
    "\n",
    "from qiskit_metal.qlibrary.qubits.transmon_cross_tanvir_mod_v1 import TransmonCross_mod\n",
    "from qiskit_metal.qlibrary.couplers.coupled_line_tee import CoupledLineTee\n",
    "from qiskit_metal.qlibrary.tlines.pathfinder import RoutePathfinder\n",
    "\n",
    "design_var = 1  # 0 if doing HFSS simulation\n",
    "\n",
    "if design_var:\n",
    "    cpw_width_10 = '10um'\n",
    "    cpw_gap_6 = '6 um'\n",
    "    cpw_width_5 = '5 um'\n",
    "    cpw_gap_3 = '3um'\n",
    "else:\n",
    "    cpw_width_10 = '10.9um'\n",
    "    cpw_gap_6 = '5.1um'\n",
    "    cpw_width_5 = '5.9um'\n",
    "    cpw_gap_3 = '2.1um'"
   ]
  },
  {
   "cell_type": "code",
   "execution_count": 2,
   "id": "46bffe2d-4a7b-4d15-91aa-5ad7da898b11",
   "metadata": {},
   "outputs": [],
   "source": [
    "design = metal.designs.DesignPlanar()\n",
    "\n",
    "design.chips.main.size['size_x'] = '5mm'\n",
    "design.chips.main.size['size_y'] = '5mm'\n",
    "design.chips.main.size['size_z'] = '-325um'\n",
    "gui = MetalGUI(design)\n"
   ]
  },
  {
   "cell_type": "code",
   "execution_count": 3,
   "id": "c5596f0b-4a32-404a-b172-2f091a427221",
   "metadata": {},
   "outputs": [],
   "source": [
    "from qiskit_metal.qlibrary.tlines.pathfinder import RoutePathfinder\n",
    "from qiskit_metal.qlibrary.qubits.transmon_cross_digitized_claw import TransmonCross\n",
    "from qiskit_metal.qlibrary.lumped.cap_n_interdigital import CapNInterdigital\n",
    "from qiskit_metal import draw, Dict\n",
    "from qiskit_metal.qlibrary.tlines.meandered import RouteMeander\n",
    "design.overwrite_enabled = True\n",
    "\n",
    "\n",
    "\n",
    "\n",
    "Transmon_width = '20um'\n",
    "Transmon_gap = '6um'\n",
    "orientation = '90'\n",
    "pos_x = '0 mm'\n",
    "pos_y = '0 mm'\n",
    "\n",
    "pos_x_digitizer = '0 mm'\n",
    "pos_y_digitizer = '0.298 mm'\n",
    "\n",
    "cross_length = '110 um'\n",
    "finger_length = '100um'\n",
    "\n",
    "orientation = 0\n",
    "\n",
    "\n",
    "\n",
    "Q2 = TransmonCross(design, 'Q2', options = dict(make_extra_rect=False, make_fl=False, pos_x = pos_x, pos_y=pos_y, orientation=orientation, \n",
    "                                                     cross_length=cross_length, cross_width=Transmon_width, cross_gap=Transmon_gap))\n",
    "\n",
    "T_Q2 = CapNInterdigital(design, 'T_Q2', options=dict(pos_x=pos_x_digitizer,\n",
    "                                             pos_y=pos_y_digitizer,\n",
    "                                            orientation=orientation, finger_count='11', finger_length=finger_length, cap_gap='6 um', cap_width=0.0150,\n",
    "                                                           prime_width ='10um',\n",
    "                                                        prime_gap ='10um',\n",
    "                                                        second_width =Transmon_width,\n",
    "                                                        second_gap ='10um',\n",
    "                                                        north_width='10um',\n",
    "                                                        north_gap='6um',\n",
    "                                                        south_width=Transmon_width,\n",
    "                                                        south_gap='10um',\n",
    "                                                        cap_distance = '10 um',     \n",
    "                                                        open_termination=False))\n",
    "Connect_Q2 = RoutePathfinder(design,'Connect_Q2', options = dict(hfss_wire_bonds = True,\n",
    "                                            pin_inputs=Dict(\n",
    "                                                start_pin=Dict(\n",
    "                                                    component='Q2',\n",
    "                                                    pin='connect'),\n",
    "                                                end_pin=Dict(\n",
    "                                                    component='T_Q2',\n",
    "                                                    pin='south_end')),\n",
    "                                            lead=Dict(\n",
    "                                                start_straight='0um',\n",
    "                                                end_straight = '0um',\n",
    "                                                #end_jogged_extension = jogs_end\n",
    "                                            ),\n",
    "                                            fillet = '0 um',\n",
    "                                            trace_width = Transmon_width,\n",
    "                                            trace_gap = Transmon_gap,\n",
    "                                            #anchors = anchors\n",
    "                                            ))\n",
    "\n",
    "gui.rebuild()\n",
    "gui.autoscale()"
   ]
  },
  {
   "cell_type": "code",
   "execution_count": 4,
   "id": "81478cb7-c835-45ad-b6d7-35929324d0fa",
   "metadata": {},
   "outputs": [],
   "source": [
    "TQ2 = CoupledLineTee(design, 'TQ2', options=dict(pos_x='0 mm',\n",
    "                                             pos_y='1.3mm',\n",
    "                                              coupling_length='270um', coupling_space='4um',\n",
    "                                                        #coupling_space = '4.9um',\n",
    "                                                        prime_width =cpw_width_10,\n",
    "                                                        prime_gap =cpw_gap_6,\n",
    "                                                        second_width =cpw_width_10,\n",
    "                                                        second_gap =cpw_gap_6,\n",
    "                                                        down_length ='70um',\n",
    "                                                        fillet = \"20um\",\n",
    "                                                        mirror = False,\n",
    "                                                        open_termination = False, orientation = 0))\n",
    "\n",
    "\n",
    "\n",
    "\n",
    "\n",
    "\n",
    "read_q2 = RouteMeander(design,'Read_Q2', options = dict(hfss_wire_bonds = False, \n",
    "                                            pin_inputs=Dict(\n",
    "                                                start_pin=Dict(\n",
    "                                                    component='T_Q2',\n",
    "                                                    pin='north_end'),\n",
    "                                                end_pin=Dict(\n",
    "                                                    component='TQ2',\n",
    "                                                    pin='second_end')\n",
    "                                            ),\n",
    "                                            lead=Dict(\n",
    "                                                start_straight='50um',\n",
    "                                                end_straight = '20um',\n",
    "                                                #start_jogged_extension = jogs_start,\n",
    "                                                #end_jogged_extension = jogs_end\n",
    "                                            ),\n",
    "                                            meander=Dict(spacing = \"100um\",\n",
    "                                                asymmetry = '0um'),\n",
    "                                            fillet = \"49.9um\",\n",
    "                                            spacing = \"60um\",  \n",
    "                                            total_length = '3.3mm', trace_width = cpw_width_10, trace_gap =cpw_gap_6))\n",
    "\n",
    "\n",
    "gui.rebuild()\n",
    "gui.autoscale()"
   ]
  },
  {
   "cell_type": "code",
   "execution_count": 5,
   "id": "09d9068e-0c3f-41d3-8c0e-9e192e4d281c",
   "metadata": {},
   "outputs": [],
   "source": [
    "from qiskit_metal.qlibrary.qubits.transmon_cross_fl_cl_tanvir_temp import TransmonCrossFL_CL_tanvir_temp\n",
    "design.overwrite_enabled = True\n",
    "\n",
    "Q3 = TransmonCrossFL_CL_tanvir_temp(design, 'Q3', options = dict(make_extra_rect=False, make_fl=False, pos_x = '-0.36mm', pos_y=' -1.3 mm', orientation=270, \n",
    "                                                     cross_length='450um', cross_width='100um', cross_gap='30um',\n",
    "                                                    \n",
    "                                                 connection_pads = dict(\n",
    "                                                     readout = dict(connector_location = '0', lead_gap=cpw_gap_6,\n",
    "                                                     claw_length='400um', claw_width='125um', ground_spacing='-5um', \n",
    "                                                                    claw_gap= cpw_gap_6, lead_width=cpw_width_10, lead_length='160um')),#claw_length ='115um', claw_width='25um', claw_gap='7um',ground_spacing='3um')),\n",
    "                                                 fl_options = dict(t_shift='-100um' , t_offset='0um', t_inductive_gap='4.5um', \n",
    "                                                                   t_top='10.5um', t_width=cpw_width_5, t_gap= cpw_gap_3),\n",
    "                                                 cl_options= dict(c_offset='25um', c_ground_gap='38um', c_width=cpw_width_5, \n",
    "                                                                  c_gap= cpw_gap_3, translate_x='-50um', translate_y='-00um',  c_angle='270'),\n",
    "                                                 rect_options= dict(rect_width='40um', rect_length='8um')))\n",
    "\n",
    "\n",
    "\n",
    "gui.rebuild()\n",
    "gui.autoscale()"
   ]
  },
  {
   "cell_type": "code",
   "execution_count": null,
   "id": "7f2fd499-3f09-4508-a8cc-94407743855a",
   "metadata": {},
   "outputs": [],
   "source": []
  },
  {
   "cell_type": "code",
   "execution_count": 200,
   "id": "a2b29222-d95c-431e-abde-d4af89eac0ef",
   "metadata": {},
   "outputs": [],
   "source": [
    "from qiskit_metal.analyses.quantization import EPRanalysis\n",
    "eig_qb2 = EPRanalysis(design, \"hfss\")\n",
    "\n",
    "eig_qb2.sim.setup.vars.Lj = '30 nH'\n",
    "eig_qb2.sim.setup.vars = Dict({'Lj': '30 nH', 'Cj': '3.2 fF'})\n",
    "gui.rebuild()\n",
    "gui.autoscale()\n",
    "\n",
    "design.qgeometry.tables['junction']\n",
    "qcomps=design.components\n",
    "qcomps['Q2'].options['hfss_inductance'] = 'Lj'\n",
    "qcomps['Q2'].options['hfss_capacitance'] = 'Cj'\n",
    "\n",
    "\n",
    "eig_qb2.sim.setup.max_passes = 14\n",
    "\n",
    "eig_qb2.sim.setup_update(max_delta_f = 0.5, min_freq_ghz = 1)\n",
    "eig_qb2.sim.setup.min_passes = 6\n",
    "eig_qb2.sim.setup.n_modes = 2\n",
    "\n",
    "gui.rebuild()\n",
    "gui.autoscale()\n",
    "\n",
    "\n",
    "eig_qb2.sim.renderer._options['max_mesh_length_jj'] = '3um'\n",
    "eig_qb2.sim.renderer._options['max_mesh_length_port'] = '3um'\n",
    "\n"
   ]
  },
  {
   "cell_type": "code",
   "execution_count": 201,
   "id": "1e8b6cb8-2b11-4171-9306-bf9c9a619598",
   "metadata": {},
   "outputs": [
    {
     "name": "stderr",
     "output_type": "stream",
     "text": [
      "INFO 06:29PM [connect_design]: \tOpened active design\n",
      "\tDesign:    Modified_Xmon_resonator_hfss [Solution type: Eigenmode]\n",
      "INFO 06:29PM [get_setup]: \tOpened setup `Setup`  (<class 'pyEPR.ansys.HfssEMSetup'>)\n",
      "INFO 06:29PM [analyze]: Analyzing setup Setup\n",
      "06:32PM 25s INFO [get_f_convergence]: Saved convergences to c:\\Users\\WANGLAB\\Tanvir Files and codes\\CR project design\\Type 3 design\\hfss_eig_f_convergence.csv\n"
     ]
    }
   ],
   "source": [
    "eig_qb2.sim.run(name=\"Modified_Xmon_resonator\", components=['Q2','Read_Q2','TQ2','Connect_Q2', 'T_Q2'], \n",
    "               open_terminations=[], box_plus_buffer = True)\n",
    "\n",
    "eig_qb2.sim.plot_convergences()\n"
   ]
  },
  {
   "cell_type": "code",
   "execution_count": 202,
   "id": "4cfb7d10-6437-45e2-a95d-12dfee318640",
   "metadata": {},
   "outputs": [
    {
     "name": "stdout",
     "output_type": "stream",
     "text": [
      "Design \"Modified_Xmon_resonator_hfss\" info:\n",
      "\t# eigenmodes    2\n",
      "\t# variations    1\n",
      "Design \"Modified_Xmon_resonator_hfss\" info:\n",
      "\t# eigenmodes    2\n",
      "\t# variations    1\n",
      "\n",
      "        energy_elec_all       = 1.08594516939997e-24\n",
      "        energy_elec_substrate = 9.96338902281325e-25\n",
      "        EPR of substrate = 91.7%\n",
      "\n",
      "        energy_mag    = 1.08388926760258e-24\n",
      "        energy_mag % of energy_elec_all  = 99.8%\n",
      "        \n",
      "\n",
      "Variation 0  [1/1]\n",
      "\n",
      "  \u001b[1mMode 0 at 1.41 GHz   [1/2]\u001b[0m\n",
      "    Calculating ℰ_magnetic,ℰ_electric\n",
      "       (ℰ_E-ℰ_H)/ℰ_E       ℰ_E       ℰ_H\n",
      "               99.5%  3.643e-25 1.911e-27\n",
      "\n",
      "    Calculating junction energy participation ration (EPR)\n",
      "\tmethod=`line_voltage`. First estimates:\n",
      "\tjunction        EPR p_0j   sign s_0j    (p_capacitive)\n",
      "\t\tEnergy fraction (Lj over Lj&Cj)= 99.53%\n",
      "\tjj               1.00225  (+)        0.00471105\n",
      "\t\t(U_tot_cap-U_tot_ind)/mean=-0.14%\n",
      "Calculating Qdielectric_main for mode 0 (0/1)\n"
     ]
    },
    {
     "name": "stderr",
     "output_type": "stream",
     "text": [
      "WARNING:py.warnings:c:\\Users\\WANGLAB\\anaconda3\\envs\\qiskit-metal\\Lib\\site-packages\\pyEPR\\core_distributed_analysis.py:1307: FutureWarning: The series.append method is deprecated and will be removed from pandas in a future version. Use pandas.concat instead.\n",
      "  sol = sol.append(self.get_Qdielectric(\n",
      "\n"
     ]
    },
    {
     "name": "stdout",
     "output_type": "stream",
     "text": [
      "p_dielectric_main_0 = 0.8894076110667128\n",
      "\n",
      "  \u001b[1mMode 1 at 7.00 GHz   [2/2]\u001b[0m\n",
      "    Calculating ℰ_magnetic,ℰ_electric\n",
      "       (ℰ_E-ℰ_H)/ℰ_E       ℰ_E       ℰ_H\n",
      "                0.2%   5.43e-25 5.419e-25\n",
      "\n",
      "    Calculating junction energy participation ration (EPR)\n",
      "\tmethod=`line_voltage`. First estimates:\n",
      "\tjunction        EPR p_1j   sign s_1j    (p_capacitive)\n",
      "\t\tEnergy fraction (Lj over Lj&Cj)= 89.61%\n",
      "\tjj              0.00232259  (+)        0.000269413\n",
      "\t\t(U_tot_cap-U_tot_ind)/mean=-0.01%\n",
      "Calculating Qdielectric_main for mode 1 (1/1)\n"
     ]
    },
    {
     "name": "stderr",
     "output_type": "stream",
     "text": [
      "WARNING:py.warnings:c:\\Users\\WANGLAB\\anaconda3\\envs\\qiskit-metal\\Lib\\site-packages\\pyEPR\\core_distributed_analysis.py:1307: FutureWarning: The series.append method is deprecated and will be removed from pandas in a future version. Use pandas.concat instead.\n",
      "  sol = sol.append(self.get_Qdielectric(\n",
      "\n"
     ]
    },
    {
     "name": "stdout",
     "output_type": "stream",
     "text": [
      "p_dielectric_main_1 = 0.9174854590787892\n"
     ]
    },
    {
     "name": "stderr",
     "output_type": "stream",
     "text": [
      "WARNING 06:52PM [__init__]: <p>Error: <class 'IndexError'></p>\n",
      "WARNING:py.warnings:c:\\Users\\WANGLAB\\anaconda3\\envs\\qiskit-metal\\Lib\\site-packages\\pyEPR\\core_quantum_analysis.py:712: FutureWarning: Support for multi-dimensional indexing (e.g. `obj[:, None]`) is deprecated and will be removed in a future version.  Convert to a numpy array before indexing instead.\n",
      "  result['Q_coupling'] = self.Qm_coupling[variation][self.Qm_coupling[variation].columns[junctions]][modes]#TODO change the columns to junctions\n",
      "\n",
      "WARNING:py.warnings:c:\\Users\\WANGLAB\\anaconda3\\envs\\qiskit-metal\\Lib\\site-packages\\pyEPR\\core_quantum_analysis.py:717: FutureWarning: Support for multi-dimensional indexing (e.g. `obj[:, None]`) is deprecated and will be removed in a future version.  Convert to a numpy array before indexing instead.\n",
      "  result['Qs'] = self.Qs[variation][self.PM[variation].columns[junctions]][modes] #TODO change the columns to junctions\n",
      "\n"
     ]
    },
    {
     "name": "stdout",
     "output_type": "stream",
     "text": [
      "\n",
      "ANALYSIS DONE. Data saved to:\n",
      "\n",
      "C:\\data-pyEPR\\Project35\\Modified_Xmon_resonator_hfss\\2024-10-10 18-52-18.npz\n",
      "\n",
      "\n",
      "\t Differences in variations:\n",
      "\n",
      "\n",
      "\n",
      " . . . . . . . . . . . . . . . . . . . . . . . . . . . . . . . . . . . . . . . . \n",
      "Variation 0\n",
      "\n",
      "Starting the diagonalization\n",
      "Finished the diagonalization\n",
      "Pm_norm=\n",
      "modes\n",
      "0    0.997227\n",
      "1    0.965481\n",
      "dtype: float64\n",
      "\n",
      "Pm_norm idx =\n",
      "      jj\n",
      "0   True\n",
      "1  False\n",
      "*** P (participation matrix, not normlz.)\n",
      "         jj\n",
      "0  0.997553\n",
      "1  0.002322\n",
      "\n",
      "*** S (sign-bit matrix)\n",
      "   s_jj\n",
      "0    -1\n",
      "1     1\n",
      "*** P (participation matrix, normalized.)\n",
      "      0.99\n",
      "    0.0023\n",
      "\n",
      "*** Chi matrix O1 PT (MHz)\n",
      "    Diag is anharmonicity, off diag is full cross-Kerr.\n",
      "      45.1     1.04\n",
      "      1.04  0.00606\n",
      "\n",
      "*** Chi matrix ND (MHz) \n",
      "      48.5     1.03\n",
      "      1.03  0.00599\n",
      "\n",
      "*** Frequencies O1 PT (MHz)\n",
      "0    1363.114712\n",
      "1    6997.361218\n",
      "dtype: float64\n",
      "\n",
      "*** Frequencies ND (MHz)\n",
      "0    1361.532136\n",
      "1    6997.366316\n",
      "dtype: float64\n",
      "\n",
      "*** Q_coupling\n",
      "Empty DataFrame\n",
      "Columns: []\n",
      "Index: [0, 1]\n"
     ]
    },
    {
     "data": {
      "text/markdown": [
       "#### Mode frequencies (MHz)"
      ],
      "text/plain": [
       "<IPython.core.display.Markdown object>"
      ]
     },
     "metadata": {},
     "output_type": "display_data"
    },
    {
     "data": {
      "text/markdown": [
       "###### Numerical diagonalization"
      ],
      "text/plain": [
       "<IPython.core.display.Markdown object>"
      ]
     },
     "metadata": {},
     "output_type": "display_data"
    },
    {
     "data": {
      "text/html": [
       "<div>\n",
       "<style scoped>\n",
       "    .dataframe tbody tr th:only-of-type {\n",
       "        vertical-align: middle;\n",
       "    }\n",
       "\n",
       "    .dataframe tbody tr th {\n",
       "        vertical-align: top;\n",
       "    }\n",
       "\n",
       "    .dataframe thead th {\n",
       "        text-align: right;\n",
       "    }\n",
       "</style>\n",
       "<table border=\"1\" class=\"dataframe\">\n",
       "  <thead>\n",
       "    <tr style=\"text-align: right;\">\n",
       "      <th>Lj</th>\n",
       "      <th>30.0</th>\n",
       "    </tr>\n",
       "  </thead>\n",
       "  <tbody>\n",
       "    <tr>\n",
       "      <th>0</th>\n",
       "      <td>1361.53</td>\n",
       "    </tr>\n",
       "    <tr>\n",
       "      <th>1</th>\n",
       "      <td>6997.37</td>\n",
       "    </tr>\n",
       "  </tbody>\n",
       "</table>\n",
       "</div>"
      ],
      "text/plain": [
       "Lj     30.0\n",
       "0   1361.53\n",
       "1   6997.37"
      ]
     },
     "metadata": {},
     "output_type": "display_data"
    },
    {
     "data": {
      "text/markdown": [
       "#### Kerr Non-linear coefficient table (MHz)"
      ],
      "text/plain": [
       "<IPython.core.display.Markdown object>"
      ]
     },
     "metadata": {},
     "output_type": "display_data"
    },
    {
     "data": {
      "text/markdown": [
       "###### Numerical diagonalization"
      ],
      "text/plain": [
       "<IPython.core.display.Markdown object>"
      ]
     },
     "metadata": {},
     "output_type": "display_data"
    },
    {
     "data": {
      "text/html": [
       "<div>\n",
       "<style scoped>\n",
       "    .dataframe tbody tr th:only-of-type {\n",
       "        vertical-align: middle;\n",
       "    }\n",
       "\n",
       "    .dataframe tbody tr th {\n",
       "        vertical-align: top;\n",
       "    }\n",
       "\n",
       "    .dataframe thead th {\n",
       "        text-align: right;\n",
       "    }\n",
       "</style>\n",
       "<table border=\"1\" class=\"dataframe\">\n",
       "  <thead>\n",
       "    <tr style=\"text-align: right;\">\n",
       "      <th></th>\n",
       "      <th></th>\n",
       "      <th>0</th>\n",
       "      <th>1</th>\n",
       "    </tr>\n",
       "    <tr>\n",
       "      <th>Lj</th>\n",
       "      <th></th>\n",
       "      <th></th>\n",
       "      <th></th>\n",
       "    </tr>\n",
       "  </thead>\n",
       "  <tbody>\n",
       "    <tr>\n",
       "      <th rowspan=\"2\" valign=\"top\">30.0</th>\n",
       "      <th>0</th>\n",
       "      <td>48.49</td>\n",
       "      <td>1.03e+00</td>\n",
       "    </tr>\n",
       "    <tr>\n",
       "      <th>1</th>\n",
       "      <td>1.03</td>\n",
       "      <td>5.99e-03</td>\n",
       "    </tr>\n",
       "  </tbody>\n",
       "</table>\n",
       "</div>"
      ],
      "text/plain": [
       "            0         1\n",
       "Lj                     \n",
       "30.0 0  48.49  1.03e+00\n",
       "     1   1.03  5.99e-03"
      ]
     },
     "metadata": {},
     "output_type": "display_data"
    }
   ],
   "source": [
    "eig_qb2.setup.junctions.jj.rect = 'JJ_rect_Lj_Q2_rect_jj'\n",
    "eig_qb2.setup.junctions.jj.line = 'JJ_Lj_Q2_rect_jj_'\n",
    "eig_qb2.run_epr()"
   ]
  },
  {
   "cell_type": "code",
   "execution_count": null,
   "id": "4aeb5e0d",
   "metadata": {},
   "outputs": [],
   "source": [
    "Hellow chicking the auto save"
   ]
  }
 ],
 "metadata": {
  "kernelspec": {
   "display_name": "qiskit-metal",
   "language": "python",
   "name": "python3"
  },
  "language_info": {
   "codemirror_mode": {
    "name": "ipython",
    "version": 3
   },
   "file_extension": ".py",
   "mimetype": "text/x-python",
   "name": "python",
   "nbconvert_exporter": "python",
   "pygments_lexer": "ipython3",
   "version": "3.11.4"
  }
 },
 "nbformat": 4,
 "nbformat_minor": 5
}

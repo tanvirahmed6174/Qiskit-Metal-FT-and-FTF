{
 "cells": [
  {
   "cell_type": "code",
   "execution_count": 1,
   "metadata": {},
   "outputs": [
    {
     "data": {
      "text/html": [
       "\n",
       "    <h1 style=\"\n",
       "        background: #12c2e9;  /* fallback for old browsers */\n",
       "        background: -webkit-linear-gradient(to right, #d4418e 0%, #0652c5 74%);  /* Chrome 10-25, Safari 5.1-6 */\n",
       "        background: linear-gradient(315deg, #d4418e 0%, #0652c5 74%); /* W3C, IE 10+/ Edge, Firefox 16+, Chrome 26+, Opera 12+, Safari 7+ */\n",
       "        margin-top: 50px;\n",
       "        border-style: outset;\n",
       "        padding-top:100px;\n",
       "        padding-bottom:50px;\n",
       "        padding-left:25px;\n",
       "        color: white;\n",
       "    \"> Good news: Qiskit Metal works fine! <h1>\n",
       "        "
      ],
      "text/plain": [
       "<IPython.core.display.HTML object>"
      ]
     },
     "metadata": {},
     "output_type": "display_data"
    }
   ],
   "source": [
    "\n",
    "\n",
    "from qiskit_metal.qlibrary.qubits.transmon_cross_tanvir_mod_v1 import TransmonCross_mod\n",
    "from qiskit_metal.qlibrary.couplers.coupled_line_tee import CoupledLineTee\n",
    "from qiskit_metal.qlibrary.tlines.pathfinder import RoutePathfinder\n",
    "%reload_ext autoreload\n",
    "%autoreload 2\n",
    "import qiskit_metal as metal\n",
    "from qiskit_metal import designs, draw\n",
    "from qiskit_metal import MetalGUI, Dict, Headings\n",
    "import pyEPR as epr\n",
    "%metal_heading Good news: Qiskit Metal works fine!\n",
    "\n",
    "\n",
    "from qiskit_metal.qlibrary.qubits.transmon_pocket_cl import TransmonPocketCL\n",
    "\n",
    "from qiskit_metal.qlibrary.qubits.transmon_pocket_cl_fl import TransmonPocketCL_FL\n",
    "from qiskit_metal.qlibrary.qubits.transmon_cross_fl import TransmonCrossFL\n",
    "from qiskit_metal.qlibrary.qubits.transmon_cross_fl_cl import TransmonCrossFL_CL\n",
    "from qiskit_metal.qlibrary.qubits.transmon_cross import TransmonCross\n",
    "from qiskit_metal.qlibrary.couplers.tunable_coupler_01 import TunableCoupler01\n",
    "\n",
    "from qiskit_metal.qlibrary.tlines.meandered import RouteMeander\n",
    "from qiskit_metal.qlibrary.tlines.pathfinder import RoutePathfinder\n",
    "from qiskit_metal.qlibrary.tlines.anchored_path import RouteAnchors\n",
    "from qiskit_metal.qlibrary.tlines.straight_path import RouteStraight\n",
    "from qiskit_metal.qlibrary.terminations.open_to_ground import OpenToGround\n",
    "from qiskit_metal.qlibrary.terminations.short_to_ground import ShortToGround\n",
    "\n",
    "from qiskit_metal.qlibrary.lumped.cap_n_interdigital import CapNInterdigital\n",
    "from qiskit_metal.qlibrary.lumped.cap_3_interdigital import Cap3Interdigital\n",
    "from qiskit_metal.qlibrary.couplers.cap_n_interdigital_tee import CapNInterdigitalTee\n",
    "from qiskit_metal.qlibrary.couplers.coupled_line_tee import CoupledLineTee\n",
    "from qiskit_metal.qlibrary.couplers.coupled_line_tee import CoupledLineTee\n",
    "from qiskit_metal.qlibrary.terminations.launchpad_wb import LaunchpadWirebond\n",
    "from qiskit_metal.qlibrary.couplers.line_tee import LineTee\n",
    "#from qiskit_metal.qlibrary.terminations.launchpad_wb_simplecoupler import LaunchpadWirebondSimple\n",
    "#from qiskit_metal.qlibrary.terminations.launchpad_wb_coupled import LaunchpadWirebondCoupled\n",
    "\n",
    "from qiskit_metal.qlibrary.terminations.short_to_ground import ShortToGround\n",
    "import numpy as np\n",
    "from collections import OrderedDict\n",
    "\n",
    "from qiskit_metal.qlibrary.qubits.transmon_cross_ebru_temp import TransmonCross_ebru_temp\n",
    "\n",
    "from qiskit_metal.qlibrary.qubits.transmon_cross_fl_ebru_temp import TransmonCrossFL_ebru_temp\n",
    "from qiskit_metal.qlibrary.qubits.transmon_cross_fl_cl_ebru_temp import TransmonCrossFL_CL_ebru_temp\n",
    "\n",
    "design_var = 1  # 0 if doing HFSS simulation\n",
    "\n",
    "if design_var:\n",
    "    cpw_width_10 = '10um'\n",
    "    cpw_gap_6 = '6 um'\n",
    "    cpw_width_5 = '5 um'\n",
    "    cpw_gap_3 = '3um'\n",
    "else:\n",
    "    cpw_width_10 = '10um'\n",
    "    cpw_gap_6 = '6um'\n",
    "    cpw_width_5 = '5um'\n",
    "    cpw_gap_3 = '3um'\n",
    "    \n",
    "    \n",
    "design = metal.designs.DesignPlanar()\n",
    "\n",
    "design.chips.main.size['size_x'] = '5mm'\n",
    "design.chips.main.size['size_y'] = '5mm'\n",
    "design.chips.main.size['size_z'] = '-350um'\n",
    "gui = MetalGUI(design)\n"
   ]
  },
  {
   "cell_type": "code",
   "execution_count": 2,
   "metadata": {},
   "outputs": [
    {
     "name": "stderr",
     "output_type": "stream",
     "text": [
      "03:32PM 00s INFO [make_connection_pad]: Warning: Did you mean to define a transmon wubit with loc_W and loc_H that are not +1 or -1?? Are you sure you want to do this?\n"
     ]
    },
    {
     "name": "stderr",
     "output_type": "stream",
     "text": [
      "03:32PM 00s INFO [make_connection_pad]: Warning: Did you mean to define a transmon wubit with loc_W and loc_H that are not +1 or -1?? Are you sure you want to do this?\n"
     ]
    }
   ],
   "source": [
    "from qiskit_metal.qlibrary.qubits.transmon_cross_fl_cl_tanvir_temp import TransmonCrossFL_CL_tanvir_temp\n",
    "design.overwrite_enabled = True\n",
    "\n",
    "# Q1 = TransmonPocketCL_FL(design, 'Q1', options = dict( pos_x = '0.26mm', pos_y=' -1.3 mm', orientation='90',\n",
    "#                                                             connection_pads=dict(\n",
    "#                                     a = dict(pad_gap='50um', loc_W=+1, loc_H=-1, pad_width='15um',pad_height = '30um', cpw_extend = '50um ',pad_cpw_shift = '10um',cpw_width ='10um', cpw_gap = '6um',pocket_rise = '50um'),\n",
    "                                    \n",
    "#                                     #b = dict(loc_W=-1, loc_H=+1, pad_width='125um', cpw_extend = '50um', pad_height='60um'),\n",
    "#                                     #c = dict(loc_W=+1, loc_H=+1, pad_width='110um', cpw_extend = '50um')\n",
    "#     ),\n",
    "#     pad_width='100um', pad_height='100um', pad_gap='140um', inductor_width='10um',\n",
    "#     pocket_width='230um', pocket_height='450um', \n",
    "#     cl_pocket_edge = '90',\n",
    "#     cl_off_center = '0um',\n",
    "#     cl_gap='3um', cl_width='5um',\n",
    "#     cl_length='0um',cl_ground_gap = '18um',\n",
    "#      fl_options = dict(t_shift='0um', t_offset='109um',t_width='5um',t_gap='3um')))\n",
    "\n",
    "Q1 = TransmonPocketCL_FL(design, 'Q1', options = dict( pos_x = .76, pos_y=' -1.3 mm', orientation='90',\n",
    "                                                            connection_pads=dict(\n",
    "                                    a = dict(pad_gap='20um', loc_W=+1.2, loc_H=-1, pad_width='15um',pad_height = '30um', cpw_extend = '5um ',pad_cpw_shift = '10um',cpw_width ='10um', cpw_gap = '6um',pocket_rise = '10um'),\n",
    "                                    \n",
    "                                    #b = dict(loc_W=-1, loc_H=+1, pad_width='125um', cpw_extend = '50um', pad_height='60um'),\n",
    "                                    #c = dict(loc_W=+1, loc_H=+1, pad_width='110um', cpw_extend = '50um')\n",
    "    ),\n",
    "    pad_width='80 um', pad_height='90um', pad_gap='140um', inductor_width='10um',\n",
    "    pocket_width='240um', pocket_height='375um', \n",
    "    cl_pocket_edge = '90',\n",
    "    cl_off_center = '0um',\n",
    "    cl_gap='3um', cl_width='5um',\n",
    "    cl_length='0um',cl_ground_gap = '37um',\n",
    "    make_FL = True,\n",
    "     fl_options = dict(t_shift='0um', t_offset='105um',t_width='5um',t_gap='3um')))\n",
    "\n",
    "TQ1 = CoupledLineTee(design, 'TQ1', options=dict(pos_x='0.79mm',\n",
    "                                             pos_y='-0.1mm',\n",
    "                                              coupling_length='400um', coupling_space='4.9um',\n",
    "                                                        #coupling_space = '4.9um',\n",
    "                                                        prime_width ='10um',\n",
    "                                                        prime_gap ='6um',\n",
    "                                                        second_width ='10um',\n",
    "                                                        second_gap ='6um',\n",
    "                                                        down_length ='70um',\n",
    "                                                        fillet = \"50um\",\n",
    "                                                        mirror = True,\n",
    "                                                        open_termination = False, orientation = 0))\n",
    "\n",
    "\n",
    "read_q1 = RouteMeander(design,'Read_Q1', options = dict(hfss_wire_bonds = True, \n",
    "                                            pin_inputs=Dict(\n",
    "                                                start_pin=Dict(\n",
    "                                                    component='Q1',\n",
    "                                                    pin='a'),\n",
    "                                                end_pin=Dict(\n",
    "                                                    component='TQ1',\n",
    "                                                    pin='second_end')\n",
    "                                            ),\n",
    "                                            lead=Dict(\n",
    "                                                start_straight='50um',\n",
    "                                                end_straight = '70um',\n",
    "                                                #start_jogged_extension = jogs_start,\n",
    "                                                #end_jogged_extension = jogs_end\n",
    "                                            ),\n",
    "                                            meander=Dict(spacing = \"100um\",\n",
    "                                                asymmetry = '0um'),\n",
    "                                            fillet = \"49um\",\n",
    "                                            spacing = \"160um\",  \n",
    "                                            total_length = '3.6mm', trace_width = '10um', trace_gap = '6um'))\n",
    "\n",
    "\n",
    "\n",
    "gui.rebuild()\n",
    "gui.autoscale()"
   ]
  },
  {
   "cell_type": "code",
   "execution_count": 30,
   "metadata": {},
   "outputs": [
    {
     "name": "stderr",
     "output_type": "stream",
     "text": [
      "04:41PM 57s INFO [make_connection_pad]: Warning: Did you mean to define a transmon wubit with loc_W and loc_H that are not +1 or -1?? Are you sure you want to do this?\n"
     ]
    }
   ],
   "source": [
    "Q2 = TransmonCrossFL_CL_ebru_temp(design, 'Q2', options = dict(make_extra_rect=False, make_fl=False, pos_x = '0.32mm', pos_y=' -1.3 mm', orientation=90, \n",
    "                                                     cross_length='170um', cross_width='40um', cross_gap='30um',\n",
    "                                                    \n",
    "                                                 connection_pads = dict(\n",
    "                                                     readout = dict(connector_location = '180', lead_gap='6um',\n",
    "                                                     claw_length='135um', claw_width='35um', ground_spacing='0um', \n",
    "                                                                    claw_gap='6um', lead_width='10um', lead_length='260um')),#claw_length ='115um', claw_width='25um', claw_gap='7um',ground_spacing='3um')),\n",
    "                                                 fl_options = dict(t_shift='-100um' , t_offset='0um', t_inductive_gap='4.5um', \n",
    "                                                                   t_top='10.5um', t_width='5um', t_gap='3um'),\n",
    "                                                 cl_options= dict(c_offset='30um', c_ground_gap='38um', c_width='5um', \n",
    "                                                                  c_gap='3um', translate_x='-20um', translate_y='-50um',  c_angle='270'),\n",
    "                                                 rect_options= dict(rect_width='40um', rect_length='8um')))\n",
    "TQ2 = CoupledLineTee(design, 'TQ2', options=dict(pos_x='-.9mm',\n",
    "                                             pos_y='-1.3mm',\n",
    "                                              coupling_length='230um', coupling_space='4um',\n",
    "                                                  prime_width ='10um',\n",
    "                                                        prime_gap ='6um',\n",
    "                                                        second_width ='10um',\n",
    "                                                        second_gap ='6um', open_termination=False, orientation = 180))\n",
    "\n",
    "\n",
    "\n",
    "\n",
    "\n",
    "read_q2 = RouteMeander(design,'Read_Q2', options = dict(hfss_wire_bonds = False, \n",
    "                                            pin_inputs=Dict(\n",
    "                                                start_pin=Dict(\n",
    "                                                    component='Q2',\n",
    "                                                    pin='readout'),\n",
    "                                                end_pin=Dict(\n",
    "                                                    component='TQ2',\n",
    "                                                    pin='prime_start')\n",
    "                                            ),\n",
    "                                            lead=Dict(\n",
    "                                                start_straight='50um',\n",
    "                                                end_straight = '20um',\n",
    "                                                #start_jogged_extension = jogs_start,\n",
    "                                                #end_jogged_extension = jogs_end\n",
    "                                            ),\n",
    "                                            meander=Dict(spacing = \"100um\",\n",
    "                                                asymmetry = '0um'),\n",
    "                                            fillet = \"49um\",\n",
    "                                            spacing = \"120um\",  \n",
    "                                            total_length = '2.9mm', trace_width = '10um', trace_gap = '6um'))\n",
    "\n",
    "\n",
    "\n",
    "\n",
    "\n",
    "Tf_q2 = CapNInterdigitalTee(design, 'Tf_q2', options=dict(pos_x='-0.99mm',\n",
    "                                             pos_y='-0.1mm',\n",
    "                                            orientation=0, finger_count='10', finger_length='50um', cap_gap='10um', cap_width='20um',\n",
    "                                                           prime_width ='10um',\n",
    "                                                        prime_gap ='6um',\n",
    "                                                        second_width ='10um',\n",
    "                                                        second_gap ='6um',\n",
    "                                                 open_termination=False))\n",
    "\n",
    "purcell_q2 = RouteMeander(design,'Purcell_Q2', options = dict(hfss_wire_bonds = False, \n",
    "                                            pin_inputs=Dict(\n",
    "                                                start_pin=Dict(\n",
    "                                                    component='Tf_q2',\n",
    "                                                    pin='second_end'),\n",
    "                                                end_pin=Dict(\n",
    "                                                    component='TQ2',\n",
    "                                                    pin='second_end')\n",
    "                                            ),\n",
    "                                            lead=Dict(\n",
    "                                                start_straight='50um',\n",
    "                                                end_straight = '20um',\n",
    "                                                #start_jogged_extension = jogs_start,\n",
    "                                                #end_jogged_extension = jogs_end\n",
    "                                            ),\n",
    "                                            meander=Dict(spacing = \"100um\",\n",
    "                                                asymmetry = '0um'),\n",
    "                                            fillet = \"49um\",\n",
    "                                            spacing = \"160um\",  \n",
    "                                            total_length = '3mm', trace_width = '10um', trace_gap = '6um'))\n",
    "\n",
    "\n",
    "gui.rebuild()\n",
    "gui.autoscale()"
   ]
  },
  {
   "cell_type": "code",
   "execution_count": 22,
   "metadata": {},
   "outputs": [
    {
     "name": "stderr",
     "output_type": "stream",
     "text": [
      "INFO 04:22PM [connect_design]: \tOpened active design\n",
      "\tDesign:    Design_q3d [Solution type: Q3D]\n",
      "INFO 04:22PM [get_setup]: \tOpened setup `Setup`  (<class 'pyEPR.ansys.AnsysQ3DSetup'>)\n",
      "INFO 04:22PM [analyze]: Analyzing setup Setup\n",
      "INFO 04:23PM [get_matrix]: Exporting matrix data to (C:\\Users\\WANGLAB\\AppData\\Local\\Temp\\tmpzzy3dar7.txt, C, , Setup:LastAdaptive, \"Original\", \"ohm\", \"nH\", \"fF\", \"mSie\", 5000000000, Maxwell, 1, False\n",
      "INFO 04:23PM [get_matrix]: Exporting matrix data to (C:\\Users\\WANGLAB\\AppData\\Local\\Temp\\tmpzuehxvvv.txt, C, , Setup:AdaptivePass, \"Original\", \"ohm\", \"nH\", \"fF\", \"mSie\", 5000000000, Maxwell, 1, False\n",
      "INFO 04:23PM [get_matrix]: Exporting matrix data to (C:\\Users\\WANGLAB\\AppData\\Local\\Temp\\tmpvjw5qec9.txt, C, , Setup:AdaptivePass, \"Original\", \"ohm\", \"nH\", \"fF\", \"mSie\", 5000000000, Maxwell, 2, False\n",
      "INFO 04:23PM [get_matrix]: Exporting matrix data to (C:\\Users\\WANGLAB\\AppData\\Local\\Temp\\tmpno41ddx2.txt, C, , Setup:AdaptivePass, \"Original\", \"ohm\", \"nH\", \"fF\", \"mSie\", 5000000000, Maxwell, 3, False\n",
      "INFO 04:23PM [get_matrix]: Exporting matrix data to (C:\\Users\\WANGLAB\\AppData\\Local\\Temp\\tmpk48wc0tg.txt, C, , Setup:AdaptivePass, \"Original\", \"ohm\", \"nH\", \"fF\", \"mSie\", 5000000000, Maxwell, 4, False\n",
      "INFO 04:23PM [get_matrix]: Exporting matrix data to (C:\\Users\\WANGLAB\\AppData\\Local\\Temp\\tmpskg7uj1y.txt, C, , Setup:AdaptivePass, \"Original\", \"ohm\", \"nH\", \"fF\", \"mSie\", 5000000000, Maxwell, 5, False\n",
      "INFO 04:23PM [get_matrix]: Exporting matrix data to (C:\\Users\\WANGLAB\\AppData\\Local\\Temp\\tmpmslh7s0i.txt, C, , Setup:AdaptivePass, \"Original\", \"ohm\", \"nH\", \"fF\", \"mSie\", 5000000000, Maxwell, 6, False\n",
      "INFO 04:23PM [get_matrix]: Exporting matrix data to (C:\\Users\\WANGLAB\\AppData\\Local\\Temp\\tmptqi2fdrg.txt, C, , Setup:AdaptivePass, \"Original\", \"ohm\", \"nH\", \"fF\", \"mSie\", 5000000000, Maxwell, 7, False\n",
      "INFO 04:23PM [get_matrix]: Exporting matrix data to (C:\\Users\\WANGLAB\\AppData\\Local\\Temp\\tmppzdl9xbd.txt, C, , Setup:AdaptivePass, \"Original\", \"ohm\", \"nH\", \"fF\", \"mSie\", 5000000000, Maxwell, 8, False\n",
      "INFO 04:23PM [get_matrix]: Exporting matrix data to (C:\\Users\\WANGLAB\\AppData\\Local\\Temp\\tmpe40bwdhv.txt, C, , Setup:AdaptivePass, \"Original\", \"ohm\", \"nH\", \"fF\", \"mSie\", 5000000000, Maxwell, 9, False\n",
      "INFO 04:23PM [get_matrix]: Exporting matrix data to (C:\\Users\\WANGLAB\\AppData\\Local\\Temp\\tmpim4wx5m3.txt, C, , Setup:AdaptivePass, \"Original\", \"ohm\", \"nH\", \"fF\", \"mSie\", 5000000000, Maxwell, 10, False\n",
      "INFO 04:23PM [get_matrix]: Exporting matrix data to (C:\\Users\\WANGLAB\\AppData\\Local\\Temp\\tmppm2dfc9g.txt, C, , Setup:AdaptivePass, \"Original\", \"ohm\", \"nH\", \"fF\", \"mSie\", 5000000000, Maxwell, 11, False\n"
     ]
    },
    {
     "data": {
      "text/html": [
       "<div>\n",
       "<style scoped>\n",
       "    .dataframe tbody tr th:only-of-type {\n",
       "        vertical-align: middle;\n",
       "    }\n",
       "\n",
       "    .dataframe tbody tr th {\n",
       "        vertical-align: top;\n",
       "    }\n",
       "\n",
       "    .dataframe thead th {\n",
       "        text-align: right;\n",
       "    }\n",
       "</style>\n",
       "<table border=\"1\" class=\"dataframe\">\n",
       "  <thead>\n",
       "    <tr style=\"text-align: right;\">\n",
       "      <th></th>\n",
       "      <th>a_connector_pad_Q1</th>\n",
       "      <th>cross_Q2</th>\n",
       "      <th>pad_bot_Q1</th>\n",
       "      <th>pad_top_Q1</th>\n",
       "    </tr>\n",
       "  </thead>\n",
       "  <tbody>\n",
       "    <tr>\n",
       "      <th>a_connector_pad_Q1</th>\n",
       "      <td>207.46753</td>\n",
       "      <td>-94.62794</td>\n",
       "      <td>-25.93898</td>\n",
       "      <td>-25.05935</td>\n",
       "    </tr>\n",
       "    <tr>\n",
       "      <th>cross_Q2</th>\n",
       "      <td>-94.62794</td>\n",
       "      <td>96.46825</td>\n",
       "      <td>-0.17225</td>\n",
       "      <td>-0.67266</td>\n",
       "    </tr>\n",
       "    <tr>\n",
       "      <th>pad_bot_Q1</th>\n",
       "      <td>-25.93898</td>\n",
       "      <td>-0.17225</td>\n",
       "      <td>27.65529</td>\n",
       "      <td>-1.13829</td>\n",
       "    </tr>\n",
       "    <tr>\n",
       "      <th>pad_top_Q1</th>\n",
       "      <td>-25.05935</td>\n",
       "      <td>-0.67266</td>\n",
       "      <td>-1.13829</td>\n",
       "      <td>27.28241</td>\n",
       "    </tr>\n",
       "  </tbody>\n",
       "</table>\n",
       "</div>"
      ],
      "text/plain": [
       "                    a_connector_pad_Q1  cross_Q2  pad_bot_Q1  pad_top_Q1\n",
       "a_connector_pad_Q1           207.46753 -94.62794   -25.93898   -25.05935\n",
       "cross_Q2                     -94.62794  96.46825    -0.17225    -0.67266\n",
       "pad_bot_Q1                   -25.93898  -0.17225    27.65529    -1.13829\n",
       "pad_top_Q1                   -25.05935  -0.67266    -1.13829    27.28241"
      ]
     },
     "execution_count": 22,
     "metadata": {},
     "output_type": "execute_result"
    }
   ],
   "source": [
    "from qiskit_metal.analyses.quantization import LOManalysis\n",
    "c1 = LOManalysis(design, \"q3d\")\n",
    "\n",
    "# example: update single setting\n",
    "c1.sim.setup.max_passes = 10\n",
    "# example: update multiple settings\n",
    "c1.sim.setup_update(solution_order = 'Medium', auto_increase_solution_order = 'False')\n",
    "\n",
    "c1.sim.setup\n",
    "\n",
    "c1.sim.run(components=['Q1','Q2'], open_terminations=[])\n",
    "c1.sim.capacitance_matrix"
   ]
  },
  {
   "cell_type": "code",
   "execution_count": 23,
   "metadata": {},
   "outputs": [
    {
     "name": "stdout",
     "output_type": "stream",
     "text": [
      "Coupling Jc: 21.193590232652518 MHz\n",
      "Transmon EC: 202.22342639658166 MHz\n",
      "Fluxonium EC: 1.0108773112265437 GHz\n"
     ]
    },
    {
     "name": "stderr",
     "output_type": "stream",
     "text": [
      "ocuments\\github\\qiskit-metal\\qiskit_metal\\_gui\\styles\\metal_dark\\rc\\transparent.pngING: Could not create pixmap from c:\\users\\wanglab\n",
      "\n"
     ]
    }
   ],
   "source": [
    "#Getting the Ec values and the Jc\n",
    "\n",
    "\n",
    "a = c1.sim.capacitance_matrix\n",
    "\n",
    "\n",
    "C_01 = -1*a.iloc[1, 3]\n",
    "C_02 = -1*a.iloc[1, 2]\n",
    "C_0 = -1*a.iloc[0, 1]\n",
    "C_1 = -1*a.iloc[0, 3]\n",
    "C_12 = -1*a.iloc[2, 3]+5\n",
    "C_2 = -1*a.iloc[0, 2]\n",
    "\n",
    "C_inv_11 = (C_01 + C_02 + C_1 + 4 * C_12 + C_2) / (\n",
    "    C_02 * (C_1 + 4 * C_12 + C_2) + \n",
    "    C_0 * (C_01 + C_02 + C_1 + 4 * C_12 + C_2) + \n",
    "    C_01 * (4 * C_02 + C_1 + 4 * C_12 + C_2)\n",
    ")\n",
    "\n",
    "C_inv_12 = (2 * (C_01 - C_02)) / (\n",
    "    C_02 * (C_1 + 4 * C_12 + C_2) + \n",
    "    C_0 * (C_01 + C_02 + C_1 + 4 * C_12 + C_2) + \n",
    "    C_01 * (4 * C_02 + C_1 + 4 * C_12 + C_2)\n",
    ")\n",
    "\n",
    "C_inv_22 = (4 * (C_0 + C_01 + C_02)) / (\n",
    "    C_02 * (C_1 + 4 * C_12 + C_2) + \n",
    "    C_0 * (C_01 + C_02 + C_1 + 4 * C_12 + C_2) + \n",
    "    C_01 * (4 * C_02 + C_1 + 4 * C_12 + C_2)\n",
    ")\n",
    "\n",
    "\n",
    "\n",
    "Jc = 4*(1.6e-19)**2*C_inv_12/1e-15/6.63e-34/1e6\n",
    "\n",
    "EC_t = 0.5*(1.6e-19)**2*C_inv_11/1e-15/6.63e-34/1e6\n",
    "EC_f = 0.5*(1.6e-19)**2*C_inv_22/1e-15/6.63e-34/1e9\n",
    "\n",
    "print('Coupling Jc:',Jc, 'MHz')\n",
    "print('Transmon EC:',EC_t, 'MHz')\n",
    "print('Fluxonium EC:',EC_f, 'GHz')"
   ]
  },
  {
   "cell_type": "code",
   "execution_count": 32,
   "metadata": {},
   "outputs": [
    {
     "name": "stderr",
     "output_type": "stream",
     "text": [
      "04:42PM 39s INFO [make_connection_pad]: Warning: Did you mean to define a transmon wubit with loc_W and loc_H that are not +1 or -1?? Are you sure you want to do this?\n",
      "04:42PM 40s INFO [make_connection_pad]: Warning: Did you mean to define a transmon wubit with loc_W and loc_H that are not +1 or -1?? Are you sure you want to do this?\n"
     ]
    }
   ],
   "source": [
    "from qiskit_metal.analyses.quantization import EPRanalysis\n",
    "eig_qb2 = EPRanalysis(design, \"hfss\")\n",
    "\n",
    "eig_qb2.sim.setup.vars.Lj = '9.85 nH'\n",
    "eig_qb2.sim.setup.vars = Dict({'Lj': '9.85 nH', 'Cj': '3.2 fF'})\n",
    "gui.rebuild()\n",
    "gui.autoscale()\n",
    "\n",
    "design.qgeometry.tables['junction']\n",
    "qcomps=design.components\n",
    "qcomps['Q2'].options['hfss_inductance'] = 'Lj'\n",
    "qcomps['Q2'].options['hfss_capacitance'] = 'Cj'\n",
    "\n",
    "\n",
    "eig_qb2.sim.setup.max_passes = 14\n",
    "\n",
    "eig_qb2.sim.setup_update(max_delta_f = 0.5, min_freq_ghz = 1)\n",
    "eig_qb2.sim.setup.min_passes = 6\n",
    "eig_qb2.sim.setup.n_modes = 2\n",
    "\n",
    "gui.rebuild()\n",
    "gui.autoscale()\n",
    "\n",
    "\n",
    "eig_qb2.sim.renderer._options['max_mesh_length_jj'] = '3um'\n",
    "eig_qb2.sim.renderer._options['max_mesh_length_port'] = '3um'\n",
    "\n"
   ]
  },
  {
   "cell_type": "code",
   "execution_count": 33,
   "metadata": {},
   "outputs": [
    {
     "name": "stderr",
     "output_type": "stream",
     "text": [
      "INFO 04:42PM [connect_design]: \tOpened active design\n",
      "\tDesign:    Modified_Xmon_resonator_hfss [Solution type: Eigenmode]\n",
      "INFO 04:43PM [get_setup]: \tOpened setup `Setup`  (<class 'pyEPR.ansys.HfssEMSetup'>)\n",
      "INFO 04:43PM [analyze]: Analyzing setup Setup\n",
      "04:46PM 42s INFO [get_f_convergence]: Saved convergences to c:\\Users\\WANGLAB\\Tanvir Files and codes\\CR project design\\UMA5\\hfss_eig_f_convergence.csv\n"
     ]
    }
   ],
   "source": [
    "eig_qb2.sim.run(name=\"Modified_Xmon_resonator\", components=['Q2','Read_Q2','TQ2'], \n",
    "               open_terminations=[], box_plus_buffer = True)\n",
    "\n",
    "eig_qb2.sim.plot_convergences()\n"
   ]
  },
  {
   "cell_type": "code",
   "execution_count": 34,
   "metadata": {},
   "outputs": [
    {
     "name": "stdout",
     "output_type": "stream",
     "text": [
      "Design \"Modified_Xmon_resonator_hfss\" info:\n",
      "\t# eigenmodes    2\n",
      "\t# variations    1\n",
      "Design \"Modified_Xmon_resonator_hfss\" info:\n",
      "\t# eigenmodes    2\n",
      "\t# variations    1\n"
     ]
    },
    {
     "name": "stderr",
     "output_type": "stream",
     "text": [
      "WARNING:py.warnings:c:\\Users\\WANGLAB\\anaconda3\\envs\\qiskit-metal\\Lib\\site-packages\\pyEPR\\project_info.py:239: FutureWarning: The default dtype for empty Series will be 'object' instead of 'float64' in a future version. Specify a dtype explicitly to silence this warning.\n",
      "  options=pd.Series(get_instance_vars(self.options)),\n",
      "\n"
     ]
    },
    {
     "name": "stdout",
     "output_type": "stream",
     "text": [
      "\n",
      "        energy_elec_all       = 1.19149618604625e-24\n",
      "        energy_elec_substrate = 1.09602714721029e-24\n",
      "        EPR of substrate = 92.0%\n",
      "\n",
      "        energy_mag    = 1.18368635859271e-24\n",
      "        energy_mag % of energy_elec_all  = 99.3%\n",
      "        \n",
      "\n",
      "Variation 0  [1/1]\n"
     ]
    },
    {
     "name": "stderr",
     "output_type": "stream",
     "text": [
      "WARNING:py.warnings:c:\\Users\\WANGLAB\\anaconda3\\envs\\qiskit-metal\\Lib\\site-packages\\pyEPR\\core_distributed_analysis.py:1101: FutureWarning: The default dtype for empty Series will be 'object' instead of 'float64' in a future version. Specify a dtype explicitly to silence this warning.\n",
      "  Ljs = pd.Series({})\n",
      "\n",
      "WARNING:py.warnings:c:\\Users\\WANGLAB\\anaconda3\\envs\\qiskit-metal\\Lib\\site-packages\\pyEPR\\core_distributed_analysis.py:1102: FutureWarning: The default dtype for empty Series will be 'object' instead of 'float64' in a future version. Specify a dtype explicitly to silence this warning.\n",
      "  Cjs = pd.Series({})\n",
      "\n",
      "WARNING:py.warnings:c:\\Users\\WANGLAB\\anaconda3\\envs\\qiskit-metal\\Lib\\site-packages\\pyEPR\\core_distributed_analysis.py:1245: FutureWarning: The default dtype for empty Series will be 'object' instead of 'float64' in a future version. Specify a dtype explicitly to silence this warning.\n",
      "  _Om = pd.Series({})\n",
      "\n"
     ]
    },
    {
     "name": "stdout",
     "output_type": "stream",
     "text": [
      "\n",
      "  \u001b[1mMode 0 at 4.91 GHz   [1/2]\u001b[0m\n",
      "    Calculating ℰ_magnetic,ℰ_electric\n"
     ]
    },
    {
     "name": "stderr",
     "output_type": "stream",
     "text": [
      "WARNING:py.warnings:c:\\Users\\WANGLAB\\anaconda3\\envs\\qiskit-metal\\Lib\\site-packages\\pyEPR\\core_distributed_analysis.py:981: FutureWarning: The default dtype for empty Series will be 'object' instead of 'float64' in a future version. Specify a dtype explicitly to silence this warning.\n",
      "  Sj = pd.Series({})\n",
      "\n",
      "WARNING:py.warnings:c:\\Users\\WANGLAB\\anaconda3\\envs\\qiskit-metal\\Lib\\site-packages\\pyEPR\\core_distributed_analysis.py:933: FutureWarning: The default dtype for empty Series will be 'object' instead of 'float64' in a future version. Specify a dtype explicitly to silence this warning.\n",
      "  Qp = pd.Series({})\n",
      "\n"
     ]
    },
    {
     "name": "stdout",
     "output_type": "stream",
     "text": [
      "       (ℰ_E-ℰ_H)/ℰ_E       ℰ_E       ℰ_H\n",
      "               98.2%  5.492e-25 1.002e-26\n",
      "\n",
      "    Calculating junction energy participation ration (EPR)\n",
      "\tmethod=`line_voltage`. First estimates:\n",
      "\tjunction        EPR p_0j   sign s_0j    (p_capacitive)\n",
      "\t\tEnergy fraction (Lj over Lj&Cj)= 98.16%\n",
      "\tjj               1.01169  (+)        0.0189869\n",
      "\t\t(U_tot_cap-U_tot_ind)/mean=-0.53%\n",
      "Calculating Qdielectric_main for mode 0 (0/1)\n"
     ]
    },
    {
     "name": "stderr",
     "output_type": "stream",
     "text": [
      "WARNING:py.warnings:c:\\Users\\WANGLAB\\anaconda3\\envs\\qiskit-metal\\Lib\\site-packages\\pyEPR\\core_distributed_analysis.py:1307: FutureWarning: The series.append method is deprecated and will be removed from pandas in a future version. Use pandas.concat instead.\n",
      "  sol = sol.append(self.get_Qdielectric(\n",
      "\n",
      "WARNING:py.warnings:c:\\Users\\WANGLAB\\anaconda3\\envs\\qiskit-metal\\Lib\\site-packages\\pyEPR\\core_distributed_analysis.py:1245: FutureWarning: The default dtype for empty Series will be 'object' instead of 'float64' in a future version. Specify a dtype explicitly to silence this warning.\n",
      "  _Om = pd.Series({})\n",
      "\n"
     ]
    },
    {
     "name": "stdout",
     "output_type": "stream",
     "text": [
      "p_dielectric_main_0 = 0.9201331297761677\n",
      "\n",
      "  \u001b[1mMode 1 at 7.50 GHz   [2/2]\u001b[0m\n",
      "    Calculating ℰ_magnetic,ℰ_electric\n"
     ]
    },
    {
     "name": "stderr",
     "output_type": "stream",
     "text": [
      "WARNING:py.warnings:c:\\Users\\WANGLAB\\anaconda3\\envs\\qiskit-metal\\Lib\\site-packages\\pyEPR\\core_distributed_analysis.py:981: FutureWarning: The default dtype for empty Series will be 'object' instead of 'float64' in a future version. Specify a dtype explicitly to silence this warning.\n",
      "  Sj = pd.Series({})\n",
      "\n",
      "WARNING:py.warnings:c:\\Users\\WANGLAB\\anaconda3\\envs\\qiskit-metal\\Lib\\site-packages\\pyEPR\\core_distributed_analysis.py:933: FutureWarning: The default dtype for empty Series will be 'object' instead of 'float64' in a future version. Specify a dtype explicitly to silence this warning.\n",
      "  Qp = pd.Series({})\n",
      "\n"
     ]
    },
    {
     "name": "stdout",
     "output_type": "stream",
     "text": [
      "       (ℰ_E-ℰ_H)/ℰ_E       ℰ_E       ℰ_H\n",
      "                0.7%  5.957e-25 5.918e-25\n",
      "\n",
      "    Calculating junction energy participation ration (EPR)\n",
      "\tmethod=`line_voltage`. First estimates:\n",
      "\tjunction        EPR p_1j   sign s_1j    (p_capacitive)\n",
      "\t\tEnergy fraction (Lj over Lj&Cj)= 95.81%\n",
      "\tjj              0.00727922  (+)        0.000318176\n",
      "\t\t(U_tot_cap-U_tot_ind)/mean=-0.02%\n",
      "Calculating Qdielectric_main for mode 1 (1/1)\n"
     ]
    },
    {
     "name": "stderr",
     "output_type": "stream",
     "text": [
      "WARNING:py.warnings:c:\\Users\\WANGLAB\\anaconda3\\envs\\qiskit-metal\\Lib\\site-packages\\pyEPR\\core_distributed_analysis.py:1307: FutureWarning: The series.append method is deprecated and will be removed from pandas in a future version. Use pandas.concat instead.\n",
      "  sol = sol.append(self.get_Qdielectric(\n",
      "\n"
     ]
    },
    {
     "name": "stdout",
     "output_type": "stream",
     "text": [
      "p_dielectric_main_1 = 0.919874658472256\n"
     ]
    },
    {
     "name": "stderr",
     "output_type": "stream",
     "text": [
      "WARNING:py.warnings:c:\\Users\\WANGLAB\\anaconda3\\envs\\qiskit-metal\\Lib\\site-packages\\pyEPR\\project_info.py:239: FutureWarning: The default dtype for empty Series will be 'object' instead of 'float64' in a future version. Specify a dtype explicitly to silence this warning.\n",
      "  options=pd.Series(get_instance_vars(self.options)),\n",
      "\n",
      "WARNING 04:47PM [__init__]: <p>Error: <class 'IndexError'></p>\n",
      "WARNING:py.warnings:c:\\Users\\WANGLAB\\anaconda3\\envs\\qiskit-metal\\Lib\\site-packages\\pyEPR\\core_quantum_analysis.py:712: FutureWarning: Support for multi-dimensional indexing (e.g. `obj[:, None]`) is deprecated and will be removed in a future version.  Convert to a numpy array before indexing instead.\n",
      "  result['Q_coupling'] = self.Qm_coupling[variation][self.Qm_coupling[variation].columns[junctions]][modes]#TODO change the columns to junctions\n",
      "\n",
      "WARNING:py.warnings:c:\\Users\\WANGLAB\\anaconda3\\envs\\qiskit-metal\\Lib\\site-packages\\pyEPR\\core_quantum_analysis.py:717: FutureWarning: Support for multi-dimensional indexing (e.g. `obj[:, None]`) is deprecated and will be removed in a future version.  Convert to a numpy array before indexing instead.\n",
      "  result['Qs'] = self.Qs[variation][self.PM[variation].columns[junctions]][modes] #TODO change the columns to junctions\n",
      "\n"
     ]
    },
    {
     "name": "stdout",
     "output_type": "stream",
     "text": [
      "\n",
      "ANALYSIS DONE. Data saved to:\n",
      "\n",
      "C:\\data-pyEPR\\Hairpin_fluxon_rec_10_23\\Modified_Xmon_resonator_hfss\\2024-10-26 16-47-14.npz\n",
      "\n",
      "\n",
      "\t Differences in variations:\n",
      "\n",
      "\n",
      "\n",
      " . . . . . . . . . . . . . . . . . . . . . . . . . . . . . . . . . . . . . . . . \n",
      "Variation 0\n",
      "\n",
      "Starting the diagonalization\n",
      "Finished the diagonalization\n",
      "Pm_norm=\n",
      "modes\n",
      "0    0.989273\n",
      "1    0.971887\n",
      "dtype: float64\n",
      "\n",
      "Pm_norm idx =\n",
      "      jj\n",
      "0   True\n",
      "1  False\n",
      "*** P (participation matrix, not normlz.)\n",
      "         jj\n",
      "0  0.992839\n",
      "1  0.007277\n",
      "\n",
      "*** S (sign-bit matrix)\n",
      "   s_jj\n",
      "0     1\n",
      "1     1\n",
      "*** P (participation matrix, normalized.)\n",
      "      0.98\n",
      "    0.0073\n",
      "\n",
      "*** Chi matrix O1 PT (MHz)\n",
      "    Diag is anharmonicity, off diag is full cross-Kerr.\n",
      "       175     3.97\n",
      "      3.97   0.0224\n",
      "\n",
      "*** Chi matrix ND (MHz) \n",
      "       191     3.53\n",
      "      3.53   0.0178\n",
      "\n",
      "*** Frequencies O1 PT (MHz)\n",
      "0    4735.032142\n",
      "1    7494.837639\n",
      "dtype: float64\n",
      "\n",
      "*** Frequencies ND (MHz)\n",
      "0    4727.923494\n",
      "1    7494.895187\n",
      "dtype: float64\n",
      "\n",
      "*** Q_coupling\n",
      "Empty DataFrame\n",
      "Columns: []\n",
      "Index: [0, 1]\n"
     ]
    },
    {
     "data": {
      "text/markdown": [
       "#### Mode frequencies (MHz)"
      ],
      "text/plain": [
       "<IPython.core.display.Markdown object>"
      ]
     },
     "metadata": {},
     "output_type": "display_data"
    },
    {
     "data": {
      "text/markdown": [
       "###### Numerical diagonalization"
      ],
      "text/plain": [
       "<IPython.core.display.Markdown object>"
      ]
     },
     "metadata": {},
     "output_type": "display_data"
    },
    {
     "data": {
      "text/html": [
       "<div>\n",
       "<style scoped>\n",
       "    .dataframe tbody tr th:only-of-type {\n",
       "        vertical-align: middle;\n",
       "    }\n",
       "\n",
       "    .dataframe tbody tr th {\n",
       "        vertical-align: top;\n",
       "    }\n",
       "\n",
       "    .dataframe thead th {\n",
       "        text-align: right;\n",
       "    }\n",
       "</style>\n",
       "<table border=\"1\" class=\"dataframe\">\n",
       "  <thead>\n",
       "    <tr style=\"text-align: right;\">\n",
       "      <th>Lj</th>\n",
       "      <th>9.85</th>\n",
       "    </tr>\n",
       "  </thead>\n",
       "  <tbody>\n",
       "    <tr>\n",
       "      <th>0</th>\n",
       "      <td>4727.92</td>\n",
       "    </tr>\n",
       "    <tr>\n",
       "      <th>1</th>\n",
       "      <td>7494.90</td>\n",
       "    </tr>\n",
       "  </tbody>\n",
       "</table>\n",
       "</div>"
      ],
      "text/plain": [
       "Lj     9.85\n",
       "0   4727.92\n",
       "1   7494.90"
      ]
     },
     "metadata": {},
     "output_type": "display_data"
    },
    {
     "data": {
      "text/markdown": [
       "#### Kerr Non-linear coefficient table (MHz)"
      ],
      "text/plain": [
       "<IPython.core.display.Markdown object>"
      ]
     },
     "metadata": {},
     "output_type": "display_data"
    },
    {
     "data": {
      "text/markdown": [
       "###### Numerical diagonalization"
      ],
      "text/plain": [
       "<IPython.core.display.Markdown object>"
      ]
     },
     "metadata": {},
     "output_type": "display_data"
    },
    {
     "data": {
      "text/html": [
       "<div>\n",
       "<style scoped>\n",
       "    .dataframe tbody tr th:only-of-type {\n",
       "        vertical-align: middle;\n",
       "    }\n",
       "\n",
       "    .dataframe tbody tr th {\n",
       "        vertical-align: top;\n",
       "    }\n",
       "\n",
       "    .dataframe thead th {\n",
       "        text-align: right;\n",
       "    }\n",
       "</style>\n",
       "<table border=\"1\" class=\"dataframe\">\n",
       "  <thead>\n",
       "    <tr style=\"text-align: right;\">\n",
       "      <th></th>\n",
       "      <th></th>\n",
       "      <th>0</th>\n",
       "      <th>1</th>\n",
       "    </tr>\n",
       "    <tr>\n",
       "      <th>Lj</th>\n",
       "      <th></th>\n",
       "      <th></th>\n",
       "      <th></th>\n",
       "    </tr>\n",
       "  </thead>\n",
       "  <tbody>\n",
       "    <tr>\n",
       "      <th rowspan=\"2\" valign=\"top\">9.85</th>\n",
       "      <th>0</th>\n",
       "      <td>191.04</td>\n",
       "      <td>3.53</td>\n",
       "    </tr>\n",
       "    <tr>\n",
       "      <th>1</th>\n",
       "      <td>3.53</td>\n",
       "      <td>0.02</td>\n",
       "    </tr>\n",
       "  </tbody>\n",
       "</table>\n",
       "</div>"
      ],
      "text/plain": [
       "             0     1\n",
       "Lj                  \n",
       "9.85 0  191.04  3.53\n",
       "     1    3.53  0.02"
      ]
     },
     "metadata": {},
     "output_type": "display_data"
    }
   ],
   "source": [
    "eig_qb2.setup.junctions.jj.rect = 'JJ_rect_Lj_Q2_rect_jj'\n",
    "eig_qb2.setup.junctions.jj.line = 'JJ_Lj_Q2_rect_jj_'\n",
    "eig_qb2.run_epr()"
   ]
  }
 ],
 "metadata": {
  "kernelspec": {
   "display_name": "qiskit-metal",
   "language": "python",
   "name": "python3"
  },
  "language_info": {
   "codemirror_mode": {
    "name": "ipython",
    "version": 3
   },
   "file_extension": ".py",
   "mimetype": "text/x-python",
   "name": "python",
   "nbconvert_exporter": "python",
   "pygments_lexer": "ipython3",
   "version": "3.11.4"
  }
 },
 "nbformat": 4,
 "nbformat_minor": 2
}

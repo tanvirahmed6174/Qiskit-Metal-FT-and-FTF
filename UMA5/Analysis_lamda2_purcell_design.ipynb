{
 "cells": [
  {
   "cell_type": "code",
   "execution_count": 1,
   "metadata": {},
   "outputs": [
    {
     "data": {
      "text/html": [
       "\n",
       "    <h1 style=\"\n",
       "        background: #12c2e9;  /* fallback for old browsers */\n",
       "        background: -webkit-linear-gradient(to right, #d4418e 0%, #0652c5 74%);  /* Chrome 10-25, Safari 5.1-6 */\n",
       "        background: linear-gradient(315deg, #d4418e 0%, #0652c5 74%); /* W3C, IE 10+/ Edge, Firefox 16+, Chrome 26+, Opera 12+, Safari 7+ */\n",
       "        margin-top: 50px;\n",
       "        border-style: outset;\n",
       "        padding-top:100px;\n",
       "        padding-bottom:50px;\n",
       "        padding-left:25px;\n",
       "        color: white;\n",
       "    \"> Good news: Qiskit Metal works fine! <h1>\n",
       "        "
      ],
      "text/plain": [
       "<IPython.core.display.HTML object>"
      ]
     },
     "metadata": {},
     "output_type": "display_data"
    }
   ],
   "source": [
    "%reload_ext autoreload\n",
    "%autoreload 2\n",
    "import qiskit_metal as metal\n",
    "from qiskit_metal import designs, draw\n",
    "from qiskit_metal import MetalGUI, Dict, Headings\n",
    "import pyEPR as epr\n",
    "%metal_heading Good news: Qiskit Metal works fine!\n",
    "\n",
    "\n",
    "from qiskit_metal.qlibrary.qubits.transmon_pocket_cl import TransmonPocketCL\n",
    "\n",
    "from qiskit_metal.qlibrary.qubits.transmon_pocket_cl_fl import TransmonPocketCL_FL\n",
    "from qiskit_metal.qlibrary.qubits.transmon_cross_fl import TransmonCrossFL\n",
    "from qiskit_metal.qlibrary.qubits.transmon_cross_fl_cl import TransmonCrossFL_CL\n",
    "from qiskit_metal.qlibrary.qubits.transmon_cross import TransmonCross\n",
    "from qiskit_metal.qlibrary.couplers.tunable_coupler_01 import TunableCoupler01\n",
    "\n",
    "from qiskit_metal.qlibrary.tlines.meandered import RouteMeander\n",
    "from qiskit_metal.qlibrary.tlines.pathfinder import RoutePathfinder\n",
    "from qiskit_metal.qlibrary.tlines.anchored_path import RouteAnchors\n",
    "from qiskit_metal.qlibrary.tlines.straight_path import RouteStraight\n",
    "from qiskit_metal.qlibrary.terminations.open_to_ground import OpenToGround\n",
    "from qiskit_metal.qlibrary.terminations.short_to_ground import ShortToGround\n",
    "\n",
    "from qiskit_metal.qlibrary.lumped.cap_n_interdigital import CapNInterdigital\n",
    "from qiskit_metal.qlibrary.lumped.cap_3_interdigital import Cap3Interdigital\n",
    "from qiskit_metal.qlibrary.couplers.cap_n_interdigital_tee import CapNInterdigitalTee\n",
    "from qiskit_metal.qlibrary.couplers.coupled_line_tee import CoupledLineTee\n",
    "from qiskit_metal.qlibrary.couplers.coupled_line_tee import CoupledLineTee\n",
    "from qiskit_metal.qlibrary.terminations.launchpad_wb import LaunchpadWirebond\n",
    "from qiskit_metal.qlibrary.couplers.line_tee import LineTee\n",
    "#from qiskit_metal.qlibrary.terminations.launchpad_wb_simplecoupler import LaunchpadWirebondSimple\n",
    "#from qiskit_metal.qlibrary.terminations.launchpad_wb_coupled import LaunchpadWirebondCoupled\n",
    "\n",
    "from qiskit_metal.qlibrary.terminations.short_to_ground import ShortToGround\n",
    "import numpy as np\n",
    "from collections import OrderedDict\n",
    "\n",
    "from qiskit_metal.qlibrary.qubits.transmon_cross_ebru_temp import TransmonCross_ebru_temp\n",
    "\n",
    "from qiskit_metal.qlibrary.qubits.transmon_cross_fl_ebru_temp import TransmonCrossFL_ebru_temp\n",
    "from qiskit_metal.qlibrary.qubits.transmon_cross_fl_cl_ebru_temp import TransmonCrossFL_CL_ebru_temp\n",
    "\n",
    "design = metal.designs.DesignPlanar()\n",
    "\n",
    "design.chips.main.size['size_x'] = '5mm'\n",
    "design.chips.main.size['size_y'] = '5mm'\n",
    "design.chips.main.size['size_z'] = '-350um'\n",
    "gui = MetalGUI(design)\n",
    "\n",
    "from qiskit_metal.analyses.em.cpw_calculations import guided_wavelength\n",
    "\n",
    "def find_resonator_length(frequency, line_width, line_gap, N): \n",
    "    #frequency in GHz\n",
    "    #line_width/line_gap in um\n",
    "    #N -> 2 for lambda/2, 4 for lambda/4\n",
    "    \n",
    "    [lambdaG, etfSqrt, q] = guided_wavelength(frequency*10**9, line_width*10**-6,\n",
    "                                              line_gap*10**-6, 750*10**-6, 200*10**-9)\n",
    "    return str(lambdaG/N*10**3)+\" mm\"\n",
    "\n",
    "\n",
    "# find_resonator_length(7.5, 10, 6, 4)"
   ]
  },
  {
   "cell_type": "code",
   "execution_count": 67,
   "metadata": {},
   "outputs": [],
   "source": [
    "design.overwrite_enabled = True\n",
    "\n",
    "    \n",
    "from qiskit_metal.qlibrary.qubits.transmon_cross_fl import TransmonCrossFL\n",
    "from qiskit_metal.qlibrary.qubits.transmon_cross_fl_cl import TransmonCrossFL_CL\n",
    "from qiskit_metal.qlibrary.qubits.transmon_pocket_cl_fl import TransmonPocketCL_FL #location: C:\\Users\\WANGLAB\\Documents\\GitHub\\qiskit-metal\\qiskit_metal\\qlibrary\\qubits\n",
    "\n",
    "\n",
    "\n",
    "Q1 = TransmonPocketCL_FL(design, 'Q1', options = dict( pos_x = '0.96mm', pos_y=' -1.4 mm', orientation='90',\n",
    "                                                            connection_pads=dict(\n",
    "                                    a = dict(pad_gap='50um', loc_W=+1, loc_H=-1, pad_width='15um',pad_height = '30um', cpw_extend = '50um ',pad_cpw_shift = '10um',cpw_width ='10um', cpw_gap = '6um',pocket_rise = '50um'),\n",
    "                                    \n",
    "                                    #b = dict(loc_W=-1, loc_H=+1, pad_width='125um', cpw_extend = '50um', pad_height='60um'),\n",
    "                                    #c = dict(loc_W=+1, loc_H=+1, pad_width='110um', cpw_extend = '50um')\n",
    "    ),\n",
    "    pad_width='100um', pad_height='100um', pad_gap='140um', inductor_width='10um',\n",
    "    pocket_width='230um', pocket_height='450um', \n",
    "    cl_pocket_edge = '90',\n",
    "    cl_off_center = '0um',\n",
    "    cl_gap='3um', cl_width='5um',\n",
    "    cl_length='0um',cl_ground_gap = '18um',make_FL = False,\n",
    "     fl_options = dict(t_shift='0um', t_offset='109um')))\n",
    "                                                 \n",
    "\n",
    "Q2 = TransmonCrossFL_CL_ebru_temp(design, 'Q2', options = dict(make_extra_rect=False, make_fl=False, pos_x = '0.50mm', pos_y=' -1.4 mm', orientation=0, \n",
    "                                                     cross_length='170um', cross_width='40um', cross_gap='30um',\n",
    "                                                    \n",
    "                                                 connection_pads = dict(\n",
    "                                                     readout = dict(connector_location = '90', lead_gap='4um',\n",
    "                                                     claw_length='135um', claw_width='35um', ground_spacing='0um', \n",
    "                                                                    claw_gap='6um', lead_width='10um', lead_length='160um')),#claw_length ='115um', claw_width='25um', claw_gap='7um',ground_spacing='3um')),\n",
    "                                                 fl_options = dict(t_shift='-100um' , t_offset='0um', t_inductive_gap='4.5um', \n",
    "                                                                   t_top='10.5um', t_width='5um', t_gap='3um'),\n",
    "                                                 cl_options= dict(c_offset='30um', c_ground_gap='38um', c_width='5um', \n",
    "                                                                  c_gap='3um', translate_x='-20um', translate_y='-50um',  c_angle='270'),\n",
    "                                                 rect_options= dict(rect_width='40um', rect_length='8um')))\n",
    "\n",
    "\n",
    "# Q2 = TransmonCrossFL_CL_ebru_temp(design, 'Q2', options = dict(make_extra_rect=False, make_fl=False, pos_x = '0.50mm', pos_y=' -1.4 mm', orientation=0, \n",
    "#                                                      cross_length='169.1um', cross_width='39.1um', cross_gap='30um',\n",
    "                                                    \n",
    "#                                                  connection_pads = dict(\n",
    "#                                                      readout = dict(connector_location = '90', lead_gap='4um',\n",
    "#                                                      claw_length='135um', claw_width='35um', ground_spacing='0um', \n",
    "#                                                                     claw_gap='6um', lead_width='10um', lead_length='160um')),#claw_length ='115um', claw_width='25um', claw_gap='7um',ground_spacing='3um')),\n",
    "#                                                  fl_options = dict(t_shift='-100um' , t_offset='0um', t_inductive_gap='4.5um', \n",
    "#                                                                    t_top='10.5um', t_width='5um', t_gap='3um'),\n",
    "#                                                  cl_options= dict(c_offset='30um', c_ground_gap='38um', c_width='5um', \n",
    "#                                                                   c_gap='3um', translate_x='-20um', translate_y='-50um',  c_angle='270'),\n",
    "#                                                  rect_options= dict(rect_width='40um', rect_length='8um')))\n",
    "\n",
    "\n",
    "\n",
    "gui.rebuild()\n",
    "gui.autoscale()"
   ]
  },
  {
   "cell_type": "code",
   "execution_count": 3,
   "metadata": {},
   "outputs": [],
   "source": [
    "TQ1 = CoupledLineTee(design, 'TQ1', options=dict(pos_x='0.79mm',\n",
    "                                             pos_y='-0.1mm',\n",
    "                                              coupling_length='400um', coupling_space='4.9um',\n",
    "                                                        #coupling_space = '4.9um',\n",
    "                                                        prime_width ='10um',\n",
    "                                                        prime_gap ='6um',\n",
    "                                                        second_width ='10um',\n",
    "                                                        second_gap ='6um',\n",
    "                                                        down_length ='70um',\n",
    "                                                        fillet = \"50um\",\n",
    "                                                        mirror = False,\n",
    "                                                        open_termination = False, orientation = 0))\n",
    "\n",
    "\n",
    "read_q1 = RouteMeander(design,'Read_Q1', options = dict(hfss_wire_bonds = True, \n",
    "                                            pin_inputs=Dict(\n",
    "                                                start_pin=Dict(\n",
    "                                                    component='Q1',\n",
    "                                                    pin='a'),\n",
    "                                                end_pin=Dict(\n",
    "                                                    component='TQ1',\n",
    "                                                    pin='second_end')\n",
    "                                            ),\n",
    "                                            lead=Dict(\n",
    "                                                start_straight='50um',\n",
    "                                                end_straight = '70um',\n",
    "                                                #start_jogged_extension = jogs_start,\n",
    "                                                #end_jogged_extension = jogs_end\n",
    "                                            ),\n",
    "                                            meander=Dict(spacing = \"100um\",\n",
    "                                                asymmetry = '0um'),\n",
    "                                            fillet = \"49.9um\",\n",
    "                                            spacing = \"160um\",  \n",
    "                                            total_length = '3.6mm', trace_width = '10um', trace_gap = '6um'))\n",
    "\n",
    "gui.rebuild()\n",
    "gui.autoscale()"
   ]
  },
  {
   "cell_type": "code",
   "execution_count": 3,
   "metadata": {},
   "outputs": [],
   "source": []
  },
  {
   "cell_type": "code",
   "execution_count": 53,
   "metadata": {},
   "outputs": [],
   "source": [
    "TQ2 = CoupledLineTee(design, 'TQ2', options=dict(pos_x='-.69mm',\n",
    "                                             pos_y='-1.1mm',\n",
    "                                              coupling_length='230um', coupling_space='3um',\n",
    "                                                  prime_width ='10um',\n",
    "                                                        prime_gap ='6um',\n",
    "                                                        second_width ='10um',\n",
    "                                                        second_gap ='6um', open_termination=False,orientation = 90, mirror = False))\n",
    "\n",
    "\n",
    "\n",
    "\n",
    "\n",
    "read_q2 = RouteMeander(design,'Read_Q2', options = dict(hfss_wire_bonds = False, \n",
    "                                            pin_inputs=Dict(\n",
    "                                                start_pin=Dict(\n",
    "                                                    component='Q2',\n",
    "                                                    pin='readout'),\n",
    "                                                end_pin=Dict(\n",
    "                                                    component='TQ2',\n",
    "                                                    pin='second_end')\n",
    "                                            ),\n",
    "                                            lead=Dict(\n",
    "                                                start_straight='50um',\n",
    "                                                end_straight = '20um',\n",
    "                                                #start_jogged_extension = jogs_start,\n",
    "                                                #end_jogged_extension = jogs_end\n",
    "                                            ),\n",
    "                                            meander=Dict(spacing = \"100um\",\n",
    "                                                asymmetry = '0um'),\n",
    "                                            fillet = \"49.9um\",\n",
    "                                            spacing = \"160um\",  \n",
    "                                            total_length = '3.2mm', trace_width = '10um', trace_gap = '6um'))\n",
    "\n",
    "\n",
    "\n",
    "\n",
    "\n",
    "Tf_q2 = CapNInterdigitalTee(design, 'Tf_q2', options=dict(pos_x='-0.79mm',\n",
    "                                             pos_y='-0.1mm',\n",
    "                                            orientation=0, finger_count='10', finger_length='50um', cap_gap='10um', cap_width='20um',\n",
    "                                                           prime_width ='10um',\n",
    "                                                        prime_gap ='6um',\n",
    "                                                        second_width ='10um',\n",
    "                                                        second_gap ='6um',\n",
    "                                                 open_termination=False))\n",
    "\n",
    "purcell_q2 = RouteMeander(design,'Purcell_Q2', options = dict(hfss_wire_bonds = False, \n",
    "                                            pin_inputs=Dict(\n",
    "                                                start_pin=Dict(\n",
    "                                                    component='Tf_q2',\n",
    "                                                    pin='second_end'),\n",
    "                                                end_pin=Dict(\n",
    "                                                    component='TQ2',\n",
    "                                                    pin='prime_end')\n",
    "                                            ),\n",
    "                                            lead=Dict(\n",
    "                                                start_straight='50um',\n",
    "                                                end_straight = '20um',\n",
    "                                                #start_jogged_extension = jogs_start,\n",
    "                                                #end_jogged_extension = jogs_end\n",
    "                                            ),\n",
    "                                            meander=Dict(spacing = \"100um\",\n",
    "                                                asymmetry = '0um'),\n",
    "                                            fillet = \"49.9um\",\n",
    "                                            spacing = \"160um\",  \n",
    "                                            total_length = '1.9mm', trace_width = '10um', trace_gap = '6um'))\n",
    "\n",
    "otgQ2 = OpenToGround(design, 'otgQ2', options = dict(pos_x='-1.7mm', \n",
    "                                                   pos_y='-1mm', orientation='180', termination_gap='6um', gap='6um'))\n",
    "\n",
    "options2_part2 = Dict(\n",
    "     total_length='5.4mm',\n",
    "     hfss_wire_bonds = False,\n",
    "     fillet='45um',\n",
    "     lead = dict(start_straight='20um', end_straight='20um'),\n",
    "     pin_inputs=Dict(\n",
    "         end_pin=Dict(\n",
    "             component='otgQ2',\n",
    "             pin='open'),\n",
    "         start_pin=Dict(\n",
    "             component='TQ2',\n",
    "             pin='prime_start')),\n",
    "     meander=Dict(spacing='100um',\n",
    "             asymmetry='0um'),)\n",
    "# read_q2_part1 = RouteMeander(design, 'read_q2_part1', options=options2_part1)\n",
    "read_q2_part2 = RouteMeander(design, 'read_q2_part2', options=options2_part2)\n",
    "\n",
    "\n",
    "\n",
    "gui.rebuild()\n",
    "gui.autoscale()"
   ]
  },
  {
   "cell_type": "code",
   "execution_count": 81,
   "metadata": {},
   "outputs": [
    {
     "name": "stderr",
     "output_type": "stream",
     "text": [
      "12:42PM 50s WARNING [check_lengths]: For path table, component=Read_Q2, key=trace has short segments that could cause issues with fillet. Values in (2-3)  are index(es) in shapely geometry.\n",
      "12:42PM 50s WARNING [check_lengths]: For path table, component=Read_Q2, key=cut has short segments that could cause issues with fillet. Values in (2-3)  are index(es) in shapely geometry.\n"
     ]
    }
   ],
   "source": [
    "from qiskit_metal.qlibrary.terminations.open_to_ground import OpenToGround\n",
    "from qiskit_metal.qlibrary.terminations.short_to_ground import ShortToGround\n",
    "\n",
    "otgQ2 = OpenToGround(design, 'otgQ2', options = dict(pos_x='-1.8mm', \n",
    "                                                   pos_y='-1.5mm', orientation='180', termination_gap='6um', gap='6um'))\n",
    "\n",
    "options2_part2 = Dict(\n",
    "     total_length='3mm',\n",
    "     hfss_wire_bonds = False,\n",
    "     fillet='40um',\n",
    "     lead = dict(start_straight='50um', end_straight='50um'),\n",
    "     pin_inputs=Dict(\n",
    "         end_pin=Dict(\n",
    "             component='otgQ2',\n",
    "             pin='open'),\n",
    "         start_pin=Dict(\n",
    "             component='TQ2',\n",
    "             pin='prime_start')),\n",
    "     meander=Dict(spacing='100um',\n",
    "             asymmetry='0um'),)\n",
    "# read_q2_part1 = RouteMeander(design, 'read_q2_part1', options=options2_part1)\n",
    "read_q2_part2 = RouteMeander(design, 'read_q2_part2', options=options2_part2)\n",
    "\n",
    "gui.rebuild()\n",
    "gui.autoscale()\n"
   ]
  },
  {
   "cell_type": "code",
   "execution_count": 5,
   "metadata": {},
   "outputs": [],
   "source": [
    "pos_list = [-0.9,0,0.9]\n",
    "\n",
    "launch_ne = LaunchpadWirebond(design, 'Launch_NE_up',options = dict( pos_x=' -1.1250mm', pos_y = '%smm'%(pos_list[1]+1.954),trace_width='5um',trace_gap='3um',pad_gap='100um',pad_width='160um', pad_gap_x= '96um', pad_gap_y= '100um', pad_height='200um', taper_height='150um',orientation=270))\n",
    "launch_ne2 = LaunchpadWirebond(design, 'Launch_NE_down',options = dict( pos_x=' +1.1250mm', pos_y = '%smm'%(pos_list[1]-1.954),trace_width='5um',trace_gap='3um', pad_gap='100um',pad_width='160um', pad_gap_x= '96um', pad_gap_y= '100um', pad_height='200um', taper_height='150um',orientation=90))\n",
    "\n",
    "# launch_flux_Q3 = LaunchpadWirebond(design, 'Launch_Flux_Q3',options = dict(pos_x='-0.38mm',pos_y = '%smm'%(pos_list[1]+1.954), trace_width='5um',trace_gap='3um', pad_gap='100um',pad_width='160um', pad_gap_x= '96um', pad_gap_y= '100um', pad_height='200um', taper_height='150um',orientation=270))\n",
    "\n",
    "# launch_nw3 = dict( pos_x='0.375mm',pos_y='%smm'%(pos_list[1]-1.954),trace_width='5um',trace_gap='3um',pad_gap='100um',pad_width='160um', pad_gap_x= '96um', pad_gap_y= '100um', pad_height='200um', taper_height='150um',  orientation='90', lead_length='30um')\n",
    "# lc3 = LaunchpadWirebond(design, 'Launch_Flux_Q1', options = launch_nw3)\n",
    "\n",
    "launch_flux_options4 = dict( pos_x='1.954mm',pos_y='-1.8mm', trace_width='5um',trace_gap='3um',pad_gap='100um',pad_width='160um', pad_gap_x= '96um', pad_gap_y= '100um', pad_height='200um', taper_height='150um',  orientation='180', lead_length='30um')\n",
    "launch_flux_options5 = dict( pos_x='1.954mm',pos_y='0.6mm', trace_width='10um',trace_gap='6um',pad_gap='100um',pad_width='160um', pad_gap_x= '96um', pad_gap_y= '100um', pad_height='200um', taper_height='150um',  orientation='180', lead_length='30um')\n",
    "launch_flux_options6 = dict( pos_x='1.954mm',pos_y='1.8mm', trace_width='5um',trace_gap='3um',pad_gap='100um',pad_width='160um', pad_gap_x= '96um', pad_gap_y= '100um', pad_height='200um', taper_height='150um',  orientation='180', lead_length='30um')\n",
    "lf4 = LaunchpadWirebond(design, 'Launch_Charge_Q1', options = launch_flux_options4)\n",
    "lf5 = LaunchpadWirebond(design, 'Launch_Feed3', options = launch_flux_options5)\n",
    "lf6 = LaunchpadWirebond(design, 'Launch_Charge_Q4', options = launch_flux_options6)\n",
    "\n",
    "\n",
    "\n",
    "launch_flux_options1 = dict( pos_x='-1.954mm',pos_y='-1.8mm', trace_width='5um',trace_gap='3um',pad_gap='100um',pad_width='160um', pad_gap_x= '96um', pad_gap_y= '100um', pad_height='200um', taper_height='150um',  orientation='0', lead_length='30um')\n",
    "launch_flux_options2 = dict( pos_x='-1.954mm',pos_y='0.6mm', trace_width='10um',trace_gap='6um',pad_gap='100um',pad_width='160um', pad_gap_x= '96um', pad_gap_y= '100um', pad_height='200um', taper_height='150um',  orientation='0', lead_length='30um')\n",
    "launch_flux_options3 = dict( pos_x='-1.954mm',pos_y='1.8mm', trace_width='5um',trace_gap='3um',pad_gap='100um',pad_width='160um', pad_gap_x= '96um', pad_gap_y= '100um', pad_height='200um', taper_height='150um',  orientation='0', lead_length='30um')\n",
    "lf1 = LaunchpadWirebond(design, 'Launch_Charge_Q2', options = launch_flux_options1)\n",
    "lf2 = LaunchpadWirebond(design, 'Launch_Feed4', options = launch_flux_options2)\n",
    "lf3 = LaunchpadWirebond(design, 'Launch_Charge_Q3', options = launch_flux_options3)\n",
    "\n",
    "launch_flux_options7 = dict( pos_x='1.954mm',pos_y='-0.6mm', trace_width='10um',trace_gap='6um',pad_gap='100um',pad_width='160um', pad_gap_x= '96um', pad_gap_y= '100um', pad_height='200um', taper_height='150um',  orientation='180', lead_length='30um')\n",
    "launch_flux_options8 = dict( pos_x='-1.954mm',pos_y='-0.6mm', trace_width='10um',trace_gap='6um',pad_gap='100um',pad_width='160um', pad_gap_x= '96um', pad_gap_y= '100um', pad_height='200um', taper_height='150um',  orientation='0', lead_length='30um')\n",
    "lf1 = LaunchpadWirebond(design, 'Launch_Feed1', options = launch_flux_options7)\n",
    "lf2 = LaunchpadWirebond(design, 'Launch_Feed2', options = launch_flux_options8)\n",
    "\n",
    "gui.rebuild()\n",
    "gui.autoscale()"
   ]
  },
  {
   "cell_type": "code",
   "execution_count": 73,
   "metadata": {},
   "outputs": [
    {
     "name": "stderr",
     "output_type": "stream",
     "text": [
      "11:57PM 15s WARNING [__init__]: Component TQ1 does not exist. ML_TL_02 has not been built. Please check your pin_input values.\n",
      "11:57PM 15s WARNING [__init__]: Component TQ1 does not exist. ML_TL_03 has not been built. Please check your pin_input values.\n"
     ]
    }
   ],
   "source": [
    "from collections import OrderedDict\n",
    "jogs = OrderedDict()\n",
    "jogs[0] = [\"L\", '80um']\n",
    "# jogs[1] = [\"L\", '50um']\n",
    "# jogs[2] = [\"R\", '20um']\n",
    "# jogs[3] = [\"R\", '50um']\n",
    "\n",
    "mp_tl_01 = RoutePathfinder(design, 'ML_TL_01', options = dict(hfss_wire_bonds = True,\n",
    "                                                    pin_inputs = dict(\n",
    "                                                    start_pin=Dict(\n",
    "                                                        component='Launch_Feed2',\n",
    "                                                        pin='tie'),\n",
    "                                                    end_pin=Dict(\n",
    "                                                        component='Tf_q2',\n",
    "                                                        pin='prime_start')),\n",
    "                                                    fillet = '99um',\n",
    "                                                     trace_width = '10.9um',\n",
    "                                                    trace_gap = '5.1um',\n",
    "                                                 lead=Dict(\n",
    "                                                start_straight='300um',\n",
    "                                                end_straight = '20um',\n",
    "                                                     step_size = '0.1mm',\n",
    "                                                start_jogged_extension = jogs,\n",
    "                                                # end_jogged_extension = jogs\n",
    "                                                      \n",
    "                                                  ),\n",
    "                                            ))\n",
    "\n",
    "\n",
    "mp_tl_02 = RoutePathfinder(design, 'ML_TL_02', options = dict(hfss_wire_bonds = True,\n",
    "                                                    pin_inputs = dict(\n",
    "                                                    start_pin=Dict(\n",
    "                                                        component='Tf_q2',\n",
    "                                                        pin='prime_end'),\n",
    "                                                    end_pin=Dict(\n",
    "                                                        component='TQ1',\n",
    "                                                        pin='prime_start')),\n",
    "                                                    fillet = '99um',\n",
    "                                                              trace_width = '10.9um',\n",
    "                                                    trace_gap = '5.1um',\n",
    "                                                 lead=Dict(\n",
    "                                                start_straight='30um',\n",
    "                                                end_straight = '200um',\n",
    "                                                #start_jogged_extension = jogs_start,\n",
    "                                                #end_jogged_extension = jogs_end\n",
    "                                                      trace_width = '5.9um',\n",
    "                                            trace_gap = '2.1um',\n",
    "                                                  ),\n",
    "                                            ))\n",
    "\n",
    "mp_tl_03 = RoutePathfinder(design, 'ML_TL_03', options = dict(hfss_wire_bonds = True,\n",
    "                                                    pin_inputs = dict(\n",
    "                                                    start_pin=Dict(\n",
    "                                                        component='TQ1',\n",
    "                                                        pin='prime_end'),\n",
    "                                                    end_pin=Dict(\n",
    "                                                        component='Launch_Feed1',\n",
    "                                                        pin='tie')),\n",
    "                                                    fillet = '99um',\n",
    "                                                              trace_width = '10.9um',\n",
    "                                                    trace_gap = '5.1um',\n",
    "                                                 lead=Dict(\n",
    "                                                start_straight='30um',\n",
    "                                                end_straight = '200um',\n",
    "                                                #start_jogged_extension = jogs_start,\n",
    "                                                #end_jogged_extension = jogs_end\n",
    "                                                      trace_width = '5.9um',\n",
    "                                            trace_gap = '2.1um',\n",
    "                                                  ),\n",
    "                                            ))\n",
    "\n",
    "\n",
    "gui.rebuild()\n",
    "gui.autoscale()      "
   ]
  },
  {
   "cell_type": "code",
   "execution_count": 6,
   "metadata": {},
   "outputs": [
    {
     "data": {
      "text/plain": [
       "'8.453254683870284 mm'"
      ]
     },
     "execution_count": 6,
     "metadata": {},
     "output_type": "execute_result"
    }
   ],
   "source": [
    "from qiskit_metal.analyses.em.cpw_calculations import guided_wavelength\n",
    "\n",
    "def find_resonator_length(frequency, line_width, line_gap, N): \n",
    "    #frequency in GHz\n",
    "    #line_width/line_gap in um\n",
    "    #N -> 2 for lambda/2, 4 for lambda/4\n",
    "    \n",
    "    [lambdaG, etfSqrt, q] = guided_wavelength(frequency*10**9, line_width*10**-6,\n",
    "                                              line_gap*10**-6, 750*10**-6, 200*10**-9)\n",
    "    return str(lambdaG/N*10**3)+\" mm\"\n",
    "\n",
    "\n",
    "find_resonator_length(7.2, 10, 6, 2)"
   ]
  },
  {
   "cell_type": "code",
   "execution_count": 43,
   "metadata": {},
   "outputs": [],
   "source": [
    "#ignore for now\n",
    "\n",
    "LTee = LineTee(design, 'LineTee', options= Dict(pos_x='-1.99mm',\n",
    "                                             pos_y='-1.3mm',prime_width='10um',\n",
    "                           prime_gap='6um',\n",
    "                           second_width='10um',\n",
    "                           second_gap='6um',\n",
    "                           t_length='50um'))\n",
    "\n",
    "Tf_q2 = CapNInterdigital(design, 'Tf_q2qwer', options=dict(pos_x='-01.99mm',\n",
    "                                             pos_y='-0.1mm',\n",
    "                                            orientation=0, finger_count='10', finger_length='50um', cap_gap='10um', cap_width='20um',\n",
    "                                                           prime_width ='10um',\n",
    "                                                        prime_gap ='6um',\n",
    "                                                        second_width ='10um',\n",
    "                                                        second_gap ='6um',\n",
    "                                                 open_termination=False))\n"
   ]
  },
  {
   "cell_type": "code",
   "execution_count": 68,
   "metadata": {},
   "outputs": [
    {
     "name": "stderr",
     "output_type": "stream",
     "text": [
      "INFO 10:15PM [connect_design]: \tOpened active design\n",
      "\tDesign:    Design_q3d [Solution type: Q3D]\n",
      "INFO 10:16PM [get_setup]: \tOpened setup `Setup`  (<class 'pyEPR.ansys.AnsysQ3DSetup'>)\n",
      "INFO 10:16PM [analyze]: Analyzing setup Setup\n",
      "INFO 10:16PM [get_matrix]: Exporting matrix data to (C:\\Users\\WANGLAB\\AppData\\Local\\Temp\\tmpt7010ia1.txt, C, , Setup:LastAdaptive, \"Original\", \"ohm\", \"nH\", \"fF\", \"mSie\", 5000000000, Maxwell, 1, False\n",
      "INFO 10:16PM [get_matrix]: Exporting matrix data to (C:\\Users\\WANGLAB\\AppData\\Local\\Temp\\tmpuuotvsve.txt, C, , Setup:AdaptivePass, \"Original\", \"ohm\", \"nH\", \"fF\", \"mSie\", 5000000000, Maxwell, 1, False\n",
      "INFO 10:16PM [get_matrix]: Exporting matrix data to (C:\\Users\\WANGLAB\\AppData\\Local\\Temp\\tmpp9yr0jt6.txt, C, , Setup:AdaptivePass, \"Original\", \"ohm\", \"nH\", \"fF\", \"mSie\", 5000000000, Maxwell, 2, False\n",
      "INFO 10:16PM [get_matrix]: Exporting matrix data to (C:\\Users\\WANGLAB\\AppData\\Local\\Temp\\tmp44hpb5wb.txt, C, , Setup:AdaptivePass, \"Original\", \"ohm\", \"nH\", \"fF\", \"mSie\", 5000000000, Maxwell, 3, False\n",
      "INFO 10:16PM [get_matrix]: Exporting matrix data to (C:\\Users\\WANGLAB\\AppData\\Local\\Temp\\tmpp6aiadde.txt, C, , Setup:AdaptivePass, \"Original\", \"ohm\", \"nH\", \"fF\", \"mSie\", 5000000000, Maxwell, 4, False\n",
      "INFO 10:16PM [get_matrix]: Exporting matrix data to (C:\\Users\\WANGLAB\\AppData\\Local\\Temp\\tmp_zg0ulzh.txt, C, , Setup:AdaptivePass, \"Original\", \"ohm\", \"nH\", \"fF\", \"mSie\", 5000000000, Maxwell, 5, False\n",
      "INFO 10:16PM [get_matrix]: Exporting matrix data to (C:\\Users\\WANGLAB\\AppData\\Local\\Temp\\tmpa15n7ftn.txt, C, , Setup:AdaptivePass, \"Original\", \"ohm\", \"nH\", \"fF\", \"mSie\", 5000000000, Maxwell, 6, False\n",
      "INFO 10:16PM [get_matrix]: Exporting matrix data to (C:\\Users\\WANGLAB\\AppData\\Local\\Temp\\tmp7m3r9vw6.txt, C, , Setup:AdaptivePass, \"Original\", \"ohm\", \"nH\", \"fF\", \"mSie\", 5000000000, Maxwell, 7, False\n",
      "INFO 10:16PM [get_matrix]: Exporting matrix data to (C:\\Users\\WANGLAB\\AppData\\Local\\Temp\\tmpqzy_2f_1.txt, C, , Setup:AdaptivePass, \"Original\", \"ohm\", \"nH\", \"fF\", \"mSie\", 5000000000, Maxwell, 8, False\n",
      "INFO 10:16PM [get_matrix]: Exporting matrix data to (C:\\Users\\WANGLAB\\AppData\\Local\\Temp\\tmp7lo2j2sn.txt, C, , Setup:AdaptivePass, \"Original\", \"ohm\", \"nH\", \"fF\", \"mSie\", 5000000000, Maxwell, 9, False\n",
      "INFO 10:16PM [get_matrix]: Exporting matrix data to (C:\\Users\\WANGLAB\\AppData\\Local\\Temp\\tmp_lt_p1k5.txt, C, , Setup:AdaptivePass, \"Original\", \"ohm\", \"nH\", \"fF\", \"mSie\", 5000000000, Maxwell, 10, False\n",
      "INFO 10:16PM [get_matrix]: Exporting matrix data to (C:\\Users\\WANGLAB\\AppData\\Local\\Temp\\tmp8uvgw5fo.txt, C, , Setup:AdaptivePass, \"Original\", \"ohm\", \"nH\", \"fF\", \"mSie\", 5000000000, Maxwell, 11, False\n"
     ]
    },
    {
     "data": {
      "text/html": [
       "<div>\n",
       "<style scoped>\n",
       "    .dataframe tbody tr th:only-of-type {\n",
       "        vertical-align: middle;\n",
       "    }\n",
       "\n",
       "    .dataframe tbody tr th {\n",
       "        vertical-align: top;\n",
       "    }\n",
       "\n",
       "    .dataframe thead th {\n",
       "        text-align: right;\n",
       "    }\n",
       "</style>\n",
       "<table border=\"1\" class=\"dataframe\">\n",
       "  <thead>\n",
       "    <tr style=\"text-align: right;\">\n",
       "      <th></th>\n",
       "      <th>a_connector_pad_Q1</th>\n",
       "      <th>cross_Q2</th>\n",
       "      <th>pad_bot_Q1</th>\n",
       "      <th>pad_top_Q1</th>\n",
       "    </tr>\n",
       "  </thead>\n",
       "  <tbody>\n",
       "    <tr>\n",
       "      <th>a_connector_pad_Q1</th>\n",
       "      <td>213.37574</td>\n",
       "      <td>-94.34670</td>\n",
       "      <td>-30.10950</td>\n",
       "      <td>-29.03619</td>\n",
       "    </tr>\n",
       "    <tr>\n",
       "      <th>cross_Q2</th>\n",
       "      <td>-94.34670</td>\n",
       "      <td>96.39223</td>\n",
       "      <td>-0.19180</td>\n",
       "      <td>-0.84741</td>\n",
       "    </tr>\n",
       "    <tr>\n",
       "      <th>pad_bot_Q1</th>\n",
       "      <td>-30.10950</td>\n",
       "      <td>-0.19180</td>\n",
       "      <td>32.37554</td>\n",
       "      <td>-1.57769</td>\n",
       "    </tr>\n",
       "    <tr>\n",
       "      <th>pad_top_Q1</th>\n",
       "      <td>-29.03619</td>\n",
       "      <td>-0.84741</td>\n",
       "      <td>-1.57769</td>\n",
       "      <td>31.96894</td>\n",
       "    </tr>\n",
       "  </tbody>\n",
       "</table>\n",
       "</div>"
      ],
      "text/plain": [
       "                    a_connector_pad_Q1  cross_Q2  pad_bot_Q1  pad_top_Q1\n",
       "a_connector_pad_Q1           213.37574 -94.34670   -30.10950   -29.03619\n",
       "cross_Q2                     -94.34670  96.39223    -0.19180    -0.84741\n",
       "pad_bot_Q1                   -30.10950  -0.19180    32.37554    -1.57769\n",
       "pad_top_Q1                   -29.03619  -0.84741    -1.57769    31.96894"
      ]
     },
     "execution_count": 68,
     "metadata": {},
     "output_type": "execute_result"
    }
   ],
   "source": [
    "#Check QUbit freqeuncies and resoantor freqeuncy\n",
    "\n",
    "from qiskit_metal.analyses.quantization import LOManalysis\n",
    "c1 = LOManalysis(design, \"q3d\")\n",
    "\n",
    "# example: update single setting\n",
    "c1.sim.setup.max_passes = 10\n",
    "# example: update multiple settings\n",
    "c1.sim.setup_update(solution_order = 'Medium', auto_increase_solution_order = 'False')\n",
    "\n",
    "c1.sim.setup\n",
    "\n",
    "c1.sim.run(components=['Q1','Q2'], open_terminations=[])\n",
    "c1.sim.capacitance_matrix"
   ]
  },
  {
   "cell_type": "code",
   "execution_count": 72,
   "metadata": {},
   "outputs": [
    {
     "name": "stdout",
     "output_type": "stream",
     "text": [
      "C_01 = 0.84741\n",
      "C_02 = 0.1918\n",
      "C_0 = 94.3467\n",
      "C_1 = 29.03619\n",
      "C_12 = 1.57769\n",
      "C_2 = 30.1095\n",
      "C_inv_12 = 0.0002067414072692218\n",
      "C_inv_11 = 0.010484439167870915\n",
      "C_inv_22 = 0.060158378508733346\n",
      "Coupling Jc: 31.9311012132252 MHz\n",
      "Transmon EC: 202.41451183823185 MHz\n",
      "Fluxonium EC: 1.1614287253571443 GHz\n"
     ]
    }
   ],
   "source": [
    "#Getting the Ec values and the Jc\n",
    "\n",
    "\n",
    "a = c1.sim.capacitance_matrix\n",
    "\n",
    "\n",
    "C_01 = -1*a.iloc[1, 3]\n",
    "C_02 = -1*a.iloc[1, 2]\n",
    "C_0 = -1*a.iloc[0, 1]\n",
    "C_1 = -1*a.iloc[0, 3]\n",
    "C_12 = -1*a.iloc[2, 3]\n",
    "C_2 = -1*a.iloc[0, 2]\n",
    "\n",
    "C_inv_11 = (C_01 + C_02 + C_1 + 4 * C_12 + C_2) / (\n",
    "    C_02 * (C_1 + 4 * C_12 + C_2) + \n",
    "    C_0 * (C_01 + C_02 + C_1 + 4 * C_12 + C_2) + \n",
    "    C_01 * (4 * C_02 + C_1 + 4 * C_12 + C_2)\n",
    ")\n",
    "\n",
    "C_inv_12 = (2 * (C_01 - C_02)) / (\n",
    "    C_02 * (C_1 + 4 * C_12 + C_2) + \n",
    "    C_0 * (C_01 + C_02 + C_1 + 4 * C_12 + C_2) + \n",
    "    C_01 * (4 * C_02 + C_1 + 4 * C_12 + C_2)\n",
    ")\n",
    "\n",
    "C_inv_22 = (4 * (C_0 + C_01 + C_02)) / (\n",
    "    C_02 * (C_1 + 4 * C_12 + C_2) + \n",
    "    C_0 * (C_01 + C_02 + C_1 + 4 * C_12 + C_2) + \n",
    "    C_01 * (4 * C_02 + C_1 + 4 * C_12 + C_2)\n",
    ")\n",
    "\n",
    "\n",
    "\n",
    "Jc = 4*(1.6e-19)**2*C_inv_12/1e-15/6.63e-34/1e6\n",
    "\n",
    "EC_t = 0.5*(1.6e-19)**2*C_inv_11/1e-15/6.63e-34/1e6\n",
    "EC_f = 0.5*(1.6e-19)**2*C_inv_22/1e-15/6.63e-34/1e9\n",
    "\n",
    "# Print the variables and their values\n",
    "print(f\"C_01 = {C_01}\")\n",
    "print(f\"C_02 = {C_02}\")\n",
    "print(f\"C_0 = {C_0}\")\n",
    "print(f\"C_1 = {C_1}\")\n",
    "print(f\"C_12 = {C_12}\")\n",
    "print(f\"C_2 = {C_2}\")\n",
    "\n",
    "print(f\"C_inv_12 = {C_inv_12}\")\n",
    "print(f\"C_inv_11 = {C_inv_11}\")\n",
    "print(f\"C_inv_22 = {C_inv_22}\")\n",
    "\n",
    "print('Coupling Jc:',Jc, 'MHz')\n",
    "print('Transmon EC:',EC_t, 'MHz')\n",
    "print('Fluxonium EC:',EC_f, 'GHz')"
   ]
  },
  {
   "cell_type": "code",
   "execution_count": 56,
   "metadata": {},
   "outputs": [],
   "source": [
    "#check Transmon freqeuuceny\n",
    "from qiskit_metal.analyses.quantization import EPRanalysis\n",
    "eig_qb2 = EPRanalysis(design, \"hfss\")\n",
    "\n",
    "eig_qb2.sim.setup.vars.Lj = '10.89 nH'\n",
    "eig_qb2.sim.setup.vars = Dict({'Lj': '10.89 nH', 'Cj': '3 fF'})\n",
    "gui.rebuild()\n",
    "gui.autoscale()\n",
    "\n",
    "design.qgeometry.tables['junction']\n",
    "qcomps=design.components\n",
    "qcomps['Q2'].options['hfss_inductance'] = 'Lj'\n",
    "qcomps['Q2'].options['hfss_capacitance'] = 'Cj'\n",
    "\n",
    "\n",
    "\n",
    "eig_qb2.sim.setup.max_passes = 20\n",
    "\n",
    "eig_qb2.sim.setup_update(max_delta_f = 0.5, min_freq_ghz = 1)\n",
    "eig_qb2.sim.setup.min_passes = 6\n",
    "eig_qb2.sim.setup.n_modes = 2\n",
    "\n",
    "gui.rebuild()\n",
    "gui.autoscale()\n",
    "\n",
    "\n",
    "eig_qb2.sim.renderer._options['max_mesh_length_jj'] = '3um'\n",
    "eig_qb2.sim.renderer._options['max_mesh_length_port'] = '3um'\n",
    "\n"
   ]
  },
  {
   "cell_type": "code",
   "execution_count": 42,
   "metadata": {},
   "outputs": [
    {
     "name": "stderr",
     "output_type": "stream",
     "text": [
      "INFO 08:43PM [connect_design]: \tOpened active design\n",
      "\tDesign:    Xmon_Purcell_hfss [Solution type: Eigenmode]\n",
      "INFO 08:43PM [get_setup]: \tOpened setup `Setup`  (<class 'pyEPR.ansys.HfssEMSetup'>)\n",
      "INFO 08:43PM [analyze]: Analyzing setup Setup\n",
      "08:45PM 22s INFO [get_f_convergence]: Saved convergences to c:\\Users\\WANGLAB\\Tanvir Files and codes\\CR project design\\UMA5\\hfss_eig_f_convergence.csv\n"
     ]
    }
   ],
   "source": [
    "eig_qb2.sim.run(name=\"Xmon_Purcell\", components=['otgQ2','read_q2_part2','TQ2','Purcell_Q2','Tf_q2'], \n",
    "               open_terminations=[], box_plus_buffer = True)\n",
    "\n",
    "eig_qb2.sim.plot_convergences()\n"
   ]
  },
  {
   "cell_type": "code",
   "execution_count": 57,
   "metadata": {},
   "outputs": [
    {
     "name": "stderr",
     "output_type": "stream",
     "text": [
      "INFO 09:08PM [connect_design]: \tOpened active design\n",
      "\tDesign:    Xmon_Resonantor_hfss [Solution type: Eigenmode]\n",
      "INFO 09:08PM [get_setup]: \tOpened setup `Setup`  (<class 'pyEPR.ansys.HfssEMSetup'>)\n",
      "INFO 09:08PM [analyze]: Analyzing setup Setup\n",
      "09:11PM 18s INFO [get_f_convergence]: Saved convergences to c:\\Users\\WANGLAB\\Tanvir Files and codes\\CR project design\\UMA5\\hfss_eig_f_convergence.csv\n"
     ]
    }
   ],
   "source": [
    "eig_qb2.sim.run(name=\"Xmon_Resonantor\", components=['Q2','Read_Q2','TQ2'], \n",
    "               open_terminations=[], box_plus_buffer = True)\n",
    "\n",
    "eig_qb2.sim.plot_convergences()\n"
   ]
  },
  {
   "cell_type": "code",
   "execution_count": 61,
   "metadata": {},
   "outputs": [
    {
     "name": "stdout",
     "output_type": "stream",
     "text": [
      "Design \"Xmon_Resonantor_hfss\" info:\n",
      "\t# eigenmodes    2\n",
      "\t# variations    1\n",
      "Design \"Xmon_Resonantor_hfss\" info:\n",
      "\t# eigenmodes    2\n",
      "\t# variations    1\n"
     ]
    },
    {
     "name": "stderr",
     "output_type": "stream",
     "text": [
      "WARNING:py.warnings:c:\\Users\\WANGLAB\\anaconda3\\envs\\qiskit-metal\\Lib\\site-packages\\pyEPR\\project_info.py:239: FutureWarning: The default dtype for empty Series will be 'object' instead of 'float64' in a future version. Specify a dtype explicitly to silence this warning.\n",
      "  options=pd.Series(get_instance_vars(self.options)),\n",
      "\n"
     ]
    },
    {
     "name": "stdout",
     "output_type": "stream",
     "text": [
      "\n",
      "        energy_elec_all       = 1.61478275378737e-24\n",
      "        energy_elec_substrate = 1.48495410124305e-24\n",
      "        EPR of substrate = 92.0%\n",
      "\n",
      "        energy_mag    = 1.60432268755531e-24\n",
      "        energy_mag % of energy_elec_all  = 99.4%\n",
      "        \n",
      "\n",
      "Variation 0  [1/1]\n"
     ]
    },
    {
     "name": "stderr",
     "output_type": "stream",
     "text": [
      "WARNING:py.warnings:c:\\Users\\WANGLAB\\anaconda3\\envs\\qiskit-metal\\Lib\\site-packages\\pyEPR\\core_distributed_analysis.py:1101: FutureWarning: The default dtype for empty Series will be 'object' instead of 'float64' in a future version. Specify a dtype explicitly to silence this warning.\n",
      "  Ljs = pd.Series({})\n",
      "\n",
      "WARNING:py.warnings:c:\\Users\\WANGLAB\\anaconda3\\envs\\qiskit-metal\\Lib\\site-packages\\pyEPR\\core_distributed_analysis.py:1102: FutureWarning: The default dtype for empty Series will be 'object' instead of 'float64' in a future version. Specify a dtype explicitly to silence this warning.\n",
      "  Cjs = pd.Series({})\n",
      "\n",
      "WARNING:py.warnings:c:\\Users\\WANGLAB\\anaconda3\\envs\\qiskit-metal\\Lib\\site-packages\\pyEPR\\core_distributed_analysis.py:1245: FutureWarning: The default dtype for empty Series will be 'object' instead of 'float64' in a future version. Specify a dtype explicitly to silence this warning.\n",
      "  _Om = pd.Series({})\n",
      "\n"
     ]
    },
    {
     "name": "stdout",
     "output_type": "stream",
     "text": [
      "\n",
      "  \u001b[1mMode 0 at 4.69 GHz   [1/2]\u001b[0m\n",
      "    Calculating ℰ_magnetic,ℰ_electric\n"
     ]
    },
    {
     "name": "stderr",
     "output_type": "stream",
     "text": [
      "WARNING:py.warnings:c:\\Users\\WANGLAB\\anaconda3\\envs\\qiskit-metal\\Lib\\site-packages\\pyEPR\\core_distributed_analysis.py:981: FutureWarning: The default dtype for empty Series will be 'object' instead of 'float64' in a future version. Specify a dtype explicitly to silence this warning.\n",
      "  Sj = pd.Series({})\n",
      "\n",
      "WARNING:py.warnings:c:\\Users\\WANGLAB\\anaconda3\\envs\\qiskit-metal\\Lib\\site-packages\\pyEPR\\core_distributed_analysis.py:933: FutureWarning: The default dtype for empty Series will be 'object' instead of 'float64' in a future version. Specify a dtype explicitly to silence this warning.\n",
      "  Qp = pd.Series({})\n",
      "\n"
     ]
    },
    {
     "name": "stdout",
     "output_type": "stream",
     "text": [
      "       (ℰ_E-ℰ_H)/ℰ_E       ℰ_E       ℰ_H\n",
      "               98.5%  8.573e-25 1.314e-26\n",
      "\n",
      "    Calculating junction energy participation ration (EPR)\n",
      "\tmethod=`line_voltage`. First estimates:\n",
      "\tjunction        EPR p_0j   sign s_0j    (p_capacitive)\n",
      "\t\tEnergy fraction (Lj over Lj&Cj)= 98.15%\n",
      "\tjj               1.01195  (+)        0.0191101\n",
      "\t\t(U_tot_cap-U_tot_ind)/mean=-0.40%\n",
      "Calculating Qdielectric_main for mode 0 (0/1)\n"
     ]
    },
    {
     "name": "stderr",
     "output_type": "stream",
     "text": [
      "WARNING:py.warnings:c:\\Users\\WANGLAB\\anaconda3\\envs\\qiskit-metal\\Lib\\site-packages\\pyEPR\\core_distributed_analysis.py:1307: FutureWarning: The series.append method is deprecated and will be removed from pandas in a future version. Use pandas.concat instead.\n",
      "  sol = sol.append(self.get_Qdielectric(\n",
      "\n"
     ]
    },
    {
     "name": "stdout",
     "output_type": "stream",
     "text": [
      "p_dielectric_main_0 = 0.9200978100997834\n"
     ]
    },
    {
     "name": "stderr",
     "output_type": "stream",
     "text": [
      "WARNING:py.warnings:c:\\Users\\WANGLAB\\anaconda3\\envs\\qiskit-metal\\Lib\\site-packages\\pyEPR\\core_distributed_analysis.py:1245: FutureWarning: The default dtype for empty Series will be 'object' instead of 'float64' in a future version. Specify a dtype explicitly to silence this warning.\n",
      "  _Om = pd.Series({})\n",
      "\n"
     ]
    },
    {
     "name": "stdout",
     "output_type": "stream",
     "text": [
      "\n",
      "  \u001b[1mMode 1 at 7.16 GHz   [2/2]\u001b[0m\n",
      "    Calculating ℰ_magnetic,ℰ_electric\n"
     ]
    },
    {
     "name": "stderr",
     "output_type": "stream",
     "text": [
      "WARNING:py.warnings:c:\\Users\\WANGLAB\\anaconda3\\envs\\qiskit-metal\\Lib\\site-packages\\pyEPR\\core_distributed_analysis.py:981: FutureWarning: The default dtype for empty Series will be 'object' instead of 'float64' in a future version. Specify a dtype explicitly to silence this warning.\n",
      "  Sj = pd.Series({})\n",
      "\n",
      "WARNING:py.warnings:c:\\Users\\WANGLAB\\anaconda3\\envs\\qiskit-metal\\Lib\\site-packages\\pyEPR\\core_distributed_analysis.py:933: FutureWarning: The default dtype for empty Series will be 'object' instead of 'float64' in a future version. Specify a dtype explicitly to silence this warning.\n",
      "  Qp = pd.Series({})\n",
      "\n"
     ]
    },
    {
     "name": "stdout",
     "output_type": "stream",
     "text": [
      "       (ℰ_E-ℰ_H)/ℰ_E       ℰ_E       ℰ_H\n",
      "                0.6%  8.074e-25 8.022e-25\n",
      "\n",
      "    Calculating junction energy participation ration (EPR)\n",
      "\tmethod=`line_voltage`. First estimates:\n",
      "\tjunction        EPR p_1j   sign s_1j    (p_capacitive)\n",
      "\t\tEnergy fraction (Lj over Lj&Cj)= 95.78%\n",
      "\tjj              0.00704693  (+)        0.000310689\n",
      "\t\t(U_tot_cap-U_tot_ind)/mean=-0.01%\n",
      "Calculating Qdielectric_main for mode 1 (1/1)\n"
     ]
    },
    {
     "name": "stderr",
     "output_type": "stream",
     "text": [
      "WARNING:py.warnings:c:\\Users\\WANGLAB\\anaconda3\\envs\\qiskit-metal\\Lib\\site-packages\\pyEPR\\core_distributed_analysis.py:1307: FutureWarning: The series.append method is deprecated and will be removed from pandas in a future version. Use pandas.concat instead.\n",
      "  sol = sol.append(self.get_Qdielectric(\n",
      "\n"
     ]
    },
    {
     "name": "stdout",
     "output_type": "stream",
     "text": [
      "p_dielectric_main_1 = 0.9195999262192917\n"
     ]
    },
    {
     "name": "stderr",
     "output_type": "stream",
     "text": [
      "WARNING:py.warnings:c:\\Users\\WANGLAB\\anaconda3\\envs\\qiskit-metal\\Lib\\site-packages\\pyEPR\\project_info.py:239: FutureWarning: The default dtype for empty Series will be 'object' instead of 'float64' in a future version. Specify a dtype explicitly to silence this warning.\n",
      "  options=pd.Series(get_instance_vars(self.options)),\n",
      "\n",
      "WARNING 09:58PM [__init__]: <p>Error: <class 'IndexError'></p>\n",
      "WARNING:py.warnings:c:\\Users\\WANGLAB\\anaconda3\\envs\\qiskit-metal\\Lib\\site-packages\\pyEPR\\core_quantum_analysis.py:712: FutureWarning: Support for multi-dimensional indexing (e.g. `obj[:, None]`) is deprecated and will be removed in a future version.  Convert to a numpy array before indexing instead.\n",
      "  result['Q_coupling'] = self.Qm_coupling[variation][self.Qm_coupling[variation].columns[junctions]][modes]#TODO change the columns to junctions\n",
      "\n",
      "WARNING:py.warnings:c:\\Users\\WANGLAB\\anaconda3\\envs\\qiskit-metal\\Lib\\site-packages\\pyEPR\\core_quantum_analysis.py:717: FutureWarning: Support for multi-dimensional indexing (e.g. `obj[:, None]`) is deprecated and will be removed in a future version.  Convert to a numpy array before indexing instead.\n",
      "  result['Qs'] = self.Qs[variation][self.PM[variation].columns[junctions]][modes] #TODO change the columns to junctions\n",
      "\n"
     ]
    },
    {
     "name": "stdout",
     "output_type": "stream",
     "text": [
      "\n",
      "ANALYSIS DONE. Data saved to:\n",
      "\n",
      "C:\\data-pyEPR\\Project35\\Xmon_Resonantor_hfss\\2024-10-17 21-58-12.npz\n",
      "\n",
      "\n",
      "\t Differences in variations:\n",
      "\n",
      "\n",
      "\n",
      " . . . . . . . . . . . . . . . . . . . . . . . . . . . . . . . . . . . . . . . . \n",
      "Variation 0\n",
      "\n",
      "Starting the diagonalization\n",
      "Finished the diagonalization\n",
      "Pm_norm=\n",
      "modes\n",
      "0    0.991989\n",
      "1    0.981528\n",
      "dtype: float64\n",
      "\n",
      "Pm_norm idx =\n",
      "      jj\n",
      "0   True\n",
      "1  False\n",
      "*** P (participation matrix, not normlz.)\n",
      "         jj\n",
      "0  0.992971\n",
      "1  0.007045\n",
      "\n",
      "*** S (sign-bit matrix)\n",
      "   s_jj\n",
      "0    -1\n",
      "1     1\n",
      "*** P (participation matrix, normalized.)\n",
      "      0.99\n",
      "     0.007\n",
      "\n",
      "*** Chi matrix O1 PT (MHz)\n",
      "    Diag is anharmonicity, off diag is full cross-Kerr.\n",
      "       177     3.88\n",
      "      3.88   0.0212\n",
      "\n",
      "*** Chi matrix ND (MHz) \n",
      "       194     3.44\n",
      "      3.44   0.0166\n",
      "\n",
      "*** Frequencies O1 PT (MHz)\n",
      "0    4507.046811\n",
      "1    7158.718341\n",
      "dtype: float64\n",
      "\n",
      "*** Frequencies ND (MHz)\n",
      "0    4499.364467\n",
      "1    7158.776736\n",
      "dtype: float64\n",
      "\n",
      "*** Q_coupling\n",
      "Empty DataFrame\n",
      "Columns: []\n",
      "Index: [0, 1]\n"
     ]
    },
    {
     "data": {
      "text/markdown": [
       "#### Mode frequencies (MHz)"
      ],
      "text/plain": [
       "<IPython.core.display.Markdown object>"
      ]
     },
     "metadata": {},
     "output_type": "display_data"
    },
    {
     "data": {
      "text/markdown": [
       "###### Numerical diagonalization"
      ],
      "text/plain": [
       "<IPython.core.display.Markdown object>"
      ]
     },
     "metadata": {},
     "output_type": "display_data"
    },
    {
     "data": {
      "text/html": [
       "<div>\n",
       "<style scoped>\n",
       "    .dataframe tbody tr th:only-of-type {\n",
       "        vertical-align: middle;\n",
       "    }\n",
       "\n",
       "    .dataframe tbody tr th {\n",
       "        vertical-align: top;\n",
       "    }\n",
       "\n",
       "    .dataframe thead th {\n",
       "        text-align: right;\n",
       "    }\n",
       "</style>\n",
       "<table border=\"1\" class=\"dataframe\">\n",
       "  <thead>\n",
       "    <tr style=\"text-align: right;\">\n",
       "      <th>Lj</th>\n",
       "      <th>10.89</th>\n",
       "    </tr>\n",
       "  </thead>\n",
       "  <tbody>\n",
       "    <tr>\n",
       "      <th>0</th>\n",
       "      <td>4499.36</td>\n",
       "    </tr>\n",
       "    <tr>\n",
       "      <th>1</th>\n",
       "      <td>7158.78</td>\n",
       "    </tr>\n",
       "  </tbody>\n",
       "</table>\n",
       "</div>"
      ],
      "text/plain": [
       "Lj    10.89\n",
       "0   4499.36\n",
       "1   7158.78"
      ]
     },
     "metadata": {},
     "output_type": "display_data"
    },
    {
     "data": {
      "text/markdown": [
       "#### Kerr Non-linear coefficient table (MHz)"
      ],
      "text/plain": [
       "<IPython.core.display.Markdown object>"
      ]
     },
     "metadata": {},
     "output_type": "display_data"
    },
    {
     "data": {
      "text/markdown": [
       "###### Numerical diagonalization"
      ],
      "text/plain": [
       "<IPython.core.display.Markdown object>"
      ]
     },
     "metadata": {},
     "output_type": "display_data"
    },
    {
     "data": {
      "text/html": [
       "<div>\n",
       "<style scoped>\n",
       "    .dataframe tbody tr th:only-of-type {\n",
       "        vertical-align: middle;\n",
       "    }\n",
       "\n",
       "    .dataframe tbody tr th {\n",
       "        vertical-align: top;\n",
       "    }\n",
       "\n",
       "    .dataframe thead th {\n",
       "        text-align: right;\n",
       "    }\n",
       "</style>\n",
       "<table border=\"1\" class=\"dataframe\">\n",
       "  <thead>\n",
       "    <tr style=\"text-align: right;\">\n",
       "      <th></th>\n",
       "      <th></th>\n",
       "      <th>0</th>\n",
       "      <th>1</th>\n",
       "    </tr>\n",
       "    <tr>\n",
       "      <th>Lj</th>\n",
       "      <th></th>\n",
       "      <th></th>\n",
       "      <th></th>\n",
       "    </tr>\n",
       "  </thead>\n",
       "  <tbody>\n",
       "    <tr>\n",
       "      <th rowspan=\"2\" valign=\"top\">10.89</th>\n",
       "      <th>0</th>\n",
       "      <td>194.33</td>\n",
       "      <td>3.44</td>\n",
       "    </tr>\n",
       "    <tr>\n",
       "      <th>1</th>\n",
       "      <td>3.44</td>\n",
       "      <td>0.02</td>\n",
       "    </tr>\n",
       "  </tbody>\n",
       "</table>\n",
       "</div>"
      ],
      "text/plain": [
       "              0     1\n",
       "Lj                   \n",
       "10.89 0  194.33  3.44\n",
       "      1    3.44  0.02"
      ]
     },
     "metadata": {},
     "output_type": "display_data"
    }
   ],
   "source": [
    "eig_qb2.setup.junctions.jj.rect = 'JJ_rect_Lj_Q2_rect_jj'\n",
    "eig_qb2.setup.junctions.jj.line = 'JJ_Lj_Q2_rect_jj_'\n",
    "eig_qb2.run_epr()"
   ]
  }
 ],
 "metadata": {
  "kernelspec": {
   "display_name": "qiskit-metal",
   "language": "python",
   "name": "python3"
  },
  "language_info": {
   "codemirror_mode": {
    "name": "ipython",
    "version": 3
   },
   "file_extension": ".py",
   "mimetype": "text/x-python",
   "name": "python",
   "nbconvert_exporter": "python",
   "pygments_lexer": "ipython3",
   "version": "3.11.4"
  }
 },
 "nbformat": 4,
 "nbformat_minor": 2
}
